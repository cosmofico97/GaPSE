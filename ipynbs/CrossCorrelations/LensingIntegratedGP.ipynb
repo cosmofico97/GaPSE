{
 "cells": [
  {
   "cell_type": "code",
   "execution_count": 1,
   "id": "0b0989bf-ebb4-4e63-b6ff-c6c6ffd97ad6",
   "metadata": {},
   "outputs": [],
   "source": [
    "include(\"../../src/GaPSE.jl\");"
   ]
  },
  {
   "cell_type": "code",
   "execution_count": 2,
   "id": "5510067b-6457-4723-ac79-0f6fd6cfda9a",
   "metadata": {},
   "outputs": [],
   "source": [
    "using DelimitedFiles, Plots, Dierckx, SpecialFunctions, Printf, LaTeXStrings"
   ]
  },
  {
   "cell_type": "code",
   "execution_count": null,
   "id": "507658d0-d5ec-48ec-8933-4909d22f5599",
   "metadata": {},
   "outputs": [],
   "source": [
    "FILE_F_MAP = \"../../test/datatest/F_REFERENCE.txt\"\n",
    "FILE_PS = \"../../test/datatest/file_pk.txt\"\n",
    "FILE_BACKGROUND = \"../../test/datatest/WideA_ZA_background.dat\"\n",
    "\n",
    "z_min = 0.05\n",
    "z_max = 0.20\n",
    "θ_max = π / 2.0\n",
    "params = GaPSE.CosmoParams(z_min, z_max, θ_max;\n",
    "  k_min = 1e-8, k_max = 10.0,\n",
    "  Ω_b = 0.0489, Ω_cdm = 0.251020, h_0 = 0.70,\n",
    "    N = 1024, fit_min = 0.05, fit_max= 0.5, con=true)\n",
    "\n",
    "cosmo = GaPSE.Cosmology(params, FILE_BACKGROUND, FILE_PS, FILE_F_MAP; expand=false)\n",
    "\n",
    "GaPSE.parameters_used(stdout, cosmo)"
   ]
  },
  {
   "cell_type": "code",
   "execution_count": null,
   "id": "af5bcebb-38a0-46cc-b81f-3d3593f75653",
   "metadata": {},
   "outputs": [],
   "source": [
    "mattia_table = readdlm(\"/Users/matteofoglieni/Dropbox/GR_effects/Mattia_Output/Monopoles_without_window/xi_lensing_integrated_L0.txt\")\n",
    "mattia_ss = convert(Vector{Float64}, mattia_table[2:end, 1]);\n",
    "mattia_lensingintegratedgps = convert(Vector{Float64}, mattia_table[2:end, 2]);"
   ]
  },
  {
   "cell_type": "code",
   "execution_count": null,
   "id": "f0408335-616c-46e8-bbbe-1432c420b673",
   "metadata": {},
   "outputs": [],
   "source": [
    "GaPSE.print_map_ξ_multipole(cosmo, \"xi_lensingintegratedgp_L0.txt\",\n",
    "    \"lensing_integratedgp\"; use_windows = false, N_χs = 50, N_μs = 30)"
   ]
  },
  {
   "cell_type": "code",
   "execution_count": null,
   "id": "77f5096a-0aa4-4dfc-be33-2bbfed6fe8c4",
   "metadata": {},
   "outputs": [],
   "source": [
    "my_table = readdlm(\"xi_lensingintegratedgp_L0.txt\", comments=true);\n",
    "my_ss = convert(Vector{Float64}, my_table[:,1]);\n",
    "my_lensingintegratedgps = convert(Vector{Float64}, my_table[:,2]);\n",
    "#casto_table = readdlm(\"tab_kappa_terms.dat\")\n",
    "#casto_ss = convert(Vector{Float64}, casto_table[3:end, 1]);\n",
    "#casto_lensings = convert(Vector{Float64}, casto_table[3:end, 2]);"
   ]
  },
  {
   "cell_type": "code",
   "execution_count": null,
   "id": "dbb0be19-3e23-4a8e-a1db-1b3d91bd1c21",
   "metadata": {},
   "outputs": [],
   "source": [
    "my_xs = my_ss\n",
    "my_ys = my_lensingintegratedgps * 1.1\n",
    "xs = mattia_ss\n",
    "ys = mattia_lensingintegratedgps\n",
    "spline = Spline1D(xs, ys)\n",
    "K_VLINE = 150\n",
    "\n",
    "p1 = plot([my_xs, xs], [my_ys,  ys], #xaxis=:log, #yaxis=:log, \n",
    "    lc=[:red :blue], label=[\"My Lensingintegratedgp\" \"Mattia Lensingintegratedgp\"], \n",
    "    ls=[:dash :solid], legend=:bottomleft)\n",
    "vline!(p1,[K_VLINE], lc=:black, ls=:dash)\n",
    "\n",
    "\n",
    "p2 = plot(my_xs, spline.(my_xs) .- my_ys, \n",
    "    xaxis=:log,label=\"Difference\", lc=:green, legend=:bottomright)\n",
    "vline!(p2,[K_VLINE], lc=:black, ls=:dash)\n",
    "\n",
    "p3 = plot(my_xs, spline.(my_xs) ./ my_ys, label=\"Ratio\", lc=:green, xaxis=:log,\n",
    "    #ylim=(0.99,1.05)\n",
    ")\n",
    "vline!(p3,[K_VLINE], lc=:black, ls=:dash)\n",
    "\n",
    "plot(p1, p2, p3, size=(650, 600), layout= @layout [ x ; y z ] )"
   ]
  },
  {
   "cell_type": "code",
   "execution_count": null,
   "id": "56588740-4cec-4f9d-9623-47a9ba0a72f7",
   "metadata": {},
   "outputs": [],
   "source": [
    "my_xs = my_ss\n",
    "my_ys = my_lensingintegratedgps * 1.1\n",
    "xs = mattia_ss\n",
    "ys = mattia_lensingintegratedgps\n",
    "spline = Spline1D(xs, ys)\n",
    "\n",
    "S_VLIM = cosmo.s_eff\n",
    "S_VLIM_F = @sprintf(\"%.2f\", S_VLIM)\n",
    "\n",
    "p1 = plot([my_xs, xs], [my_ys,  ys], xaxis=:log, #yaxis=:log, \n",
    "    lc=[:red :blue], \n",
    "    label=[\"My LensingIntegratedGP\" \"Mattia LensingIntegratedGP\"], ls=[:dash :solid], \n",
    "    legend=:topleft)\n",
    "vline!(p1, [S_VLIM], label=\"$S_VLIM_F Mpc/h_0\", lc=:black, lw=0.5, ls=:dash)\n",
    "\n",
    "p2 = plot(my_xs, spline.(my_xs) ./ my_ys, label=\"Ratio\", lc=:green, xaxis=:log,\n",
    "    ylim=(0.99,1.01), legend=:topleft,\n",
    "    xlabel=L\"$s \\quad [h_0^{-1}\\,\\mathrm{Mpc}]$\")\n",
    "vline!(p2, [S_VLIM], label=\"$S_VLIM_F Mpc/h_0\", lc=:black, lw=0.5, ls=:dash)\n",
    "\n",
    "P = plot(p1, p2, size=(550, 500), layout= @layout [ x ; z ] )\n",
    "savefig(P, \"xi_LensingIntegratedGP_L0.pdf\")\n",
    "display(P)"
   ]
  },
  {
   "cell_type": "code",
   "execution_count": null,
   "id": "09705efd-6974-4d0b-891c-d5cab917a649",
   "metadata": {},
   "outputs": [],
   "source": []
  },
  {
   "cell_type": "code",
   "execution_count": null,
   "id": "5f1f6e43-3ea7-4905-9344-8548367248a4",
   "metadata": {},
   "outputs": [],
   "source": []
  },
  {
   "cell_type": "code",
   "execution_count": null,
   "id": "b23e94e5-2d33-4e35-a475-f363eac647ea",
   "metadata": {},
   "outputs": [],
   "source": []
  },
  {
   "cell_type": "code",
   "execution_count": null,
   "id": "a3f65de8-331e-4447-a896-05dfe0af5b7a",
   "metadata": {},
   "outputs": [],
   "source": [
    "mattia_table_2 = readdlm(\"/Users/matteofoglieni/Dropbox/GR_effects/Mattia_Output/Monopoles_without_window/xi_integrated_lensing_L0.txt\")\n",
    "mattia_2_ss = convert(Vector{Float64}, mattia_table_2[2:end, 1]);\n",
    "mattia_2_localgpintegrateds = convert(Vector{Float64}, mattia_table_2[2:end, 2]);"
   ]
  },
  {
   "cell_type": "code",
   "execution_count": null,
   "id": "19daac85-42fb-4d15-a646-8955128a5074",
   "metadata": {},
   "outputs": [],
   "source": [
    "GaPSE.print_map_ξ_multipole(cosmo,\"xi_integratedgp_lensing_L0.txt\",\n",
    "    \"integratedgp_lensing\"; use_windows = false, N_μs = 50)"
   ]
  },
  {
   "cell_type": "code",
   "execution_count": null,
   "id": "8e67a849-d629-4395-aa29-149702e961c9",
   "metadata": {},
   "outputs": [],
   "source": [
    "my_table_2 = readdlm(\"xi_integratedgp_lensing_L0.txt\", comments=true);\n",
    "my_2_ss = convert(Vector{Float64}, my_table_2[:,1]);\n",
    "my_2_localgpintegrateds = convert(Vector{Float64}, my_table_2[:,2]);"
   ]
  },
  {
   "cell_type": "code",
   "execution_count": null,
   "id": "898c7fb9-d354-4b48-bc17-1b1c921fbd77",
   "metadata": {},
   "outputs": [],
   "source": [
    "my_xs = my_2_ss\n",
    "my_ys = my_2_localgpintegrateds\n",
    "xs = mattia_2_ss\n",
    "ys = mattia_2_localgpintegrateds\n",
    "spline = Spline1D(xs, ys)\n",
    "K_VLINE = 150\n",
    "\n",
    "p1 = plot([my_xs, xs], [my_ys,  ys], xaxis=:log, #yaxis=:log, \n",
    "    lc=[:red :blue], label=[\"My IntegratedGPLensing\" \"Mattia IntegratedGPLensing\"], \n",
    "    ls=[:dash :solid], legend=:topleft)\n",
    "vline!(p1,[K_VLINE], lc=:black, ls=:dash)\n",
    "\n",
    "\n",
    "p2 = plot(my_xs, spline.(my_xs) .- my_ys, \n",
    "    xaxis=:log,label=\"Difference\", lc=:green, legend=:bottomright)\n",
    "vline!(p2,[K_VLINE], lc=:black, ls=:dash)\n",
    "\n",
    "p3 = plot(my_xs, spline.(my_xs) ./ my_ys, label=\"Ratio\", lc=:green, xaxis=:log,\n",
    "    #ylim=(0.99,1.05)\n",
    ")\n",
    "vline!(p3,[K_VLINE], lc=:black, ls=:dash)\n",
    "\n",
    "plot(p1, p2, p3, size=(650, 600), layout= @layout [ x ; y z ] )"
   ]
  },
  {
   "cell_type": "code",
   "execution_count": null,
   "id": "28949173-3513-4489-92b9-a113af91b631",
   "metadata": {},
   "outputs": [],
   "source": [
    "my_xs = my_2_ss\n",
    "my_ys = my_2_localgpintegrateds\n",
    "xs = mattia_2_ss\n",
    "ys = mattia_2_localgpintegrateds\n",
    "spline = Spline1D(xs, ys)\n",
    "\n",
    "S_VLIM = cosmo.s_eff\n",
    "S_VLIM_F = @sprintf(\"%.2f\", S_VLIM)\n",
    "\n",
    "p1 = plot([my_xs, xs], [my_ys,  ys], xaxis=:log, #yaxis=:log, \n",
    "    lc=[:red :blue], \n",
    "    label=[\"My IntegratedGPLensing\" \"Mattia IntegratedGPLensing\"], \n",
    "    ls=[:dash :solid], legend=:bottomleft)\n",
    "vline!(p1, [S_VLIM], label=\"$S_VLIM_F Mpc/h_0\", lc=:black, lw=0.5, ls=:dash)\n",
    "\n",
    "p2 = plot(my_xs, spline.(my_xs) ./ my_ys, label=\"Ratio\", lc=:green, xaxis=:log,\n",
    "    ylim=(0.99,1.01), legend=:topleft,\n",
    "    xlabel=L\"$s \\quad [h_0^{-1}\\,\\mathrm{Mpc}]$\")\n",
    "vline!(p2, [S_VLIM], label=\"$S_VLIM_F Mpc/h_0\", lc=:black, lw=0.5, ls=:dash)\n",
    "\n",
    "P = plot(p1, p2, size=(550, 500), layout= @layout [ x ; z ] )\n",
    "savefig(P, \"xi_IntegratedGP_Lensing_L0.pdf\")\n",
    "display(P)"
   ]
  }
 ],
 "metadata": {
  "kernelspec": {
   "display_name": "Julia 1.7.0",
   "language": "julia",
   "name": "julia-1.7"
  },
  "language_info": {
   "file_extension": ".jl",
   "mimetype": "application/julia",
   "name": "julia",
   "version": "1.7.0"
  }
 },
 "nbformat": 4,
 "nbformat_minor": 5
}
