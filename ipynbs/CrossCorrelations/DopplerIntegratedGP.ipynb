{
 "cells": [
  {
   "cell_type": "code",
   "execution_count": 1,
   "id": "549c313a-5f1e-4175-b859-179e9f561649",
   "metadata": {},
   "outputs": [],
   "source": [
    "include(\"../../src/GaPSE.jl\");"
   ]
  },
  {
   "cell_type": "code",
   "execution_count": null,
   "id": "9e98370c-bccd-4d2f-b921-43c724e77f27",
   "metadata": {},
   "outputs": [],
   "source": [
    "using DelimitedFiles, Plots, Dierckx, SpecialFunctions, Printf, LaTeXStrings"
   ]
  },
  {
   "cell_type": "code",
   "execution_count": null,
   "id": "713d94b6-dc1b-497b-b0c6-fa840c9343cf",
   "metadata": {},
   "outputs": [],
   "source": [
    "FILE_F_MAP = \"../../test/datatest/F_REFERENCE.txt\"\n",
    "FILE_PS = \"../../test/datatest/file_pk.txt\"\n",
    "FILE_BACKGROUND = \"../../test/datatest/WideA_ZA_background.dat\"\n",
    "\n",
    "z_min = 0.05\n",
    "z_max = 0.20\n",
    "θ_max = π / 2.0\n",
    "params = GaPSE.CosmoParams(z_min, z_max, θ_max;\n",
    "  k_min = 1e-8, k_max = 10.0,\n",
    "  Ω_b = 0.0489, Ω_cdm = 0.251020, h_0 = 0.70,\n",
    "    N = 1024, fit_min = 0.05, fit_max= 0.5, con=true)\n",
    "\n",
    "cosmo = GaPSE.Cosmology(params, FILE_BACKGROUND, FILE_PS, FILE_F_MAP; expand=false)\n",
    "\n",
    "GaPSE.parameters_used(stdout, cosmo)"
   ]
  },
  {
   "cell_type": "code",
   "execution_count": null,
   "id": "82cf3e03-98c3-46bd-95f5-1c26103f4d7c",
   "metadata": {},
   "outputs": [],
   "source": [
    "mattia_table = readdlm(\"/Users/matteofoglieni/Dropbox/GR_effects/Mattia_Output/Monopoles_without_window/xi_doppler_integrated_L0.txt\")\n",
    "mattia_ss = convert(Vector{Float64}, mattia_table[2:end, 1]);\n",
    "mattia_dopplerintegrateds = convert(Vector{Float64}, mattia_table[2:end, 2]);"
   ]
  },
  {
   "cell_type": "code",
   "execution_count": null,
   "id": "664f91eb-eedb-49b4-9ab8-6504926aa38c",
   "metadata": {},
   "outputs": [],
   "source": [
    "GaPSE.print_map_ξ_multipole(cosmo,\"xi_dopplerintegratedgp_L0.txt\",\"doppler_integratedgp\"; \n",
    "    use_windows = false, N_μs = 50)"
   ]
  },
  {
   "cell_type": "code",
   "execution_count": null,
   "id": "960d2763-e366-4407-b005-804d688035aa",
   "metadata": {},
   "outputs": [],
   "source": [
    "my_table = readdlm(\"xi_dopplerintegratedgp_L0.txt\", comments=true);\n",
    "my_ss = convert(Vector{Float64}, my_table[:,1]);\n",
    "my_dopplerintegrateds = convert(Vector{Float64}, my_table[:,2]);"
   ]
  },
  {
   "cell_type": "code",
   "execution_count": null,
   "id": "c6948d41-c8bd-423d-8b23-18e797b83ee1",
   "metadata": {},
   "outputs": [],
   "source": [
    "my_xs = my_ss\n",
    "my_ys = my_dopplerintegrateds\n",
    "xs = mattia_ss\n",
    "ys = mattia_dopplerintegrateds\n",
    "spline = Spline1D(xs, ys)\n",
    "K_VLINE = 150\n",
    "\n",
    "p1 = plot([my_xs, xs], [my_ys,  ys], xaxis=:log, #yaxis=:log, \n",
    "    lc=[:red :blue], label=[\"My DopplerIntegratedGP\" \"Mattia DopplerIntegratedGP\"], \n",
    "    ls=[:dash :solid], legend=:topleft)\n",
    "vline!(p1,[K_VLINE], lc=:black, ls=:dash)\n",
    "\n",
    "\n",
    "p2 = plot(my_xs, spline.(my_xs) .- my_ys, \n",
    "    xaxis=:log,label=\"Difference\", lc=:green, legend=:bottomright)\n",
    "vline!(p2,[K_VLINE], lc=:black, ls=:dash)\n",
    "\n",
    "p3 = plot(my_xs, spline.(my_xs) ./ my_ys, label=\"Ratio\", lc=:green, xaxis=:log,\n",
    "    #ylim=(0.99,1.05)\n",
    ")\n",
    "vline!(p3,[K_VLINE], lc=:black, ls=:dash)\n",
    "\n",
    "plot(p1, p2, p3, size=(650, 600), layout= @layout [ x ; y z ] )"
   ]
  },
  {
   "cell_type": "code",
   "execution_count": null,
   "id": "a94afe4e-410c-4588-820a-42c2c7818b02",
   "metadata": {},
   "outputs": [],
   "source": [
    "my_xs = my_ss\n",
    "my_ys = my_dopplerintegrateds\n",
    "xs = mattia_ss\n",
    "ys = mattia_dopplerintegrateds\n",
    "spline = Spline1D(xs, ys)\n",
    "\n",
    "S_VLIM = cosmo.s_eff\n",
    "S_VLIM_F = @sprintf(\"%.2f\", S_VLIM)\n",
    "\n",
    "p1 = plot([my_xs, xs], [my_ys,  ys], xaxis=:log, yaxis=:log, lc=[:red :blue], \n",
    "    label=[\"My DopplerIntegratedGP\" \"Mattia DopplerIntegratedGP\"], ls=[:dash :solid], legend=:topleft)\n",
    "vline!(p1, [S_VLIM], label=\"$S_VLIM_F Mpc/h_0\", lc=:black, lw=0.5, ls=:dash)\n",
    "\n",
    "p2 = plot(my_xs, spline.(my_xs) ./ my_ys, label=\"Ratio\", lc=:green, xaxis=:log,\n",
    "    ylim=(0.99,1.01), legend=:topleft,\n",
    "    xlabel=L\"$s \\quad [h_0^{-1}\\,\\mathrm{Mpc}]$\")\n",
    "vline!(p2, [S_VLIM], label=\"$S_VLIM_F Mpc/h_0\", lc=:black, lw=0.5, ls=:dash)\n",
    "\n",
    "P = plot(p1, p2, size=(550, 500), layout= @layout [ x ; z ] )\n",
    "savefig(P, \"xi_DopplerIntegratedGP_L0.pdf\")\n",
    "display(P)"
   ]
  },
  {
   "cell_type": "code",
   "execution_count": null,
   "id": "64b4db65-4668-451c-a57f-3bd87f93dc5f",
   "metadata": {},
   "outputs": [],
   "source": []
  },
  {
   "cell_type": "code",
   "execution_count": null,
   "id": "2d60a5f3-68f6-4fe2-8090-e0ecad201460",
   "metadata": {},
   "outputs": [],
   "source": []
  },
  {
   "cell_type": "code",
   "execution_count": null,
   "id": "22093e46-9f78-4abb-98e9-52de46f73d5b",
   "metadata": {},
   "outputs": [],
   "source": []
  },
  {
   "cell_type": "code",
   "execution_count": null,
   "id": "9d51d0ed-e4e8-4d38-bcb4-1564ac17fe71",
   "metadata": {},
   "outputs": [],
   "source": [
    "mattia_table_2 = readdlm(\"/Users/matteofoglieni/Dropbox/GR_effects/Mattia_Output/Monopoles_without_window/xi_integrated_doppler_L0.txt\")\n",
    "mattia_2_ss = convert(Vector{Float64}, mattia_table_2[2:end, 1]);\n",
    "mattia_2_localgpintegrateds = convert(Vector{Float64}, mattia_table_2[2:end, 2]);"
   ]
  },
  {
   "cell_type": "code",
   "execution_count": null,
   "id": "df992fc1-c5b9-448d-ba29-c38c3dd0f4d5",
   "metadata": {},
   "outputs": [],
   "source": [
    "GaPSE.print_map_ξ_multipole(cosmo,\"xi_integratedgp_doppler_L0.txt\",\n",
    "    \"integratedgp_doppler\"; use_windows = false, N_μs = 50)"
   ]
  },
  {
   "cell_type": "code",
   "execution_count": null,
   "id": "ffbd289b-25e7-4fcf-80ee-3134aa444db5",
   "metadata": {},
   "outputs": [],
   "source": [
    "my_table_2 = readdlm(\"xi_integratedgp_doppler_L0.txt\", comments=true);\n",
    "my_2_ss = convert(Vector{Float64}, my_table_2[:,1]);\n",
    "my_2_localgpintegrateds = convert(Vector{Float64}, my_table_2[:,2]);"
   ]
  },
  {
   "cell_type": "code",
   "execution_count": null,
   "id": "96051be8-d58c-4b04-883b-2ba06402ba25",
   "metadata": {},
   "outputs": [],
   "source": [
    "my_xs = my_2_ss\n",
    "my_ys = my_2_localgpintegrateds\n",
    "xs = mattia_2_ss\n",
    "ys = mattia_2_localgpintegrateds\n",
    "spline = Spline1D(xs, ys)\n",
    "K_VLINE = 150\n",
    "\n",
    "p1 = plot([my_xs, xs], [my_ys,  ys], xaxis=:log, #yaxis=:log, \n",
    "    lc=[:red :blue], label=[\"My IntegratedGPDoppler\" \"Mattia IntegratedGPDoppler\"], \n",
    "    ls=[:dash :solid], legend=:topleft)\n",
    "vline!(p1,[K_VLINE], lc=:black, ls=:dash)\n",
    "\n",
    "\n",
    "p2 = plot(my_xs, spline.(my_xs) .- my_ys, \n",
    "    xaxis=:log,label=\"Difference\", lc=:green, legend=:bottomright)\n",
    "vline!(p2,[K_VLINE], lc=:black, ls=:dash)\n",
    "\n",
    "p3 = plot(my_xs, spline.(my_xs) ./ my_ys, label=\"Ratio\", lc=:green, xaxis=:log,\n",
    "    #ylim=(0.99,1.05)\n",
    ")\n",
    "vline!(p3,[K_VLINE], lc=:black, ls=:dash)\n",
    "\n",
    "plot(p1, p2, p3, size=(650, 600), layout= @layout [ x ; y z ] )"
   ]
  },
  {
   "cell_type": "code",
   "execution_count": null,
   "id": "04f228a2-d35d-4a8c-be95-9d5e5b2c4abe",
   "metadata": {},
   "outputs": [],
   "source": [
    "my_xs = my_2_ss\n",
    "my_ys = my_2_localgpintegrateds\n",
    "xs = mattia_2_ss\n",
    "ys = mattia_2_localgpintegrateds\n",
    "spline = Spline1D(xs, ys)\n",
    "\n",
    "S_VLIM = cosmo.s_eff\n",
    "S_VLIM_F = @sprintf(\"%.2f\", S_VLIM)\n",
    "\n",
    "p1 = plot([my_xs, xs], [my_ys,  ys], xaxis=:log, #yaxis=:log, \n",
    "    lc=[:red :blue], \n",
    "    label=[\"My IntegratedGPDoppler\" \"Mattia IntegratedGPDoppler\"], \n",
    "    ls=[:dash :solid], legend=:bottomleft)\n",
    "vline!(p1, [S_VLIM], label=\"$S_VLIM_F Mpc/h_0\", lc=:black, lw=0.5, ls=:dash)\n",
    "\n",
    "p2 = plot(my_xs, spline.(my_xs) ./ my_ys, label=\"Ratio\", lc=:green, xaxis=:log,\n",
    "    ylim=(0.99,1.01), legend=:topleft,\n",
    "    xlabel=L\"$s \\quad [h_0^{-1}\\,\\mathrm{Mpc}]$\")\n",
    "vline!(p2, [S_VLIM], label=\"$S_VLIM_F Mpc/h_0\", lc=:black, lw=0.5, ls=:dash)\n",
    "\n",
    "P = plot(p1, p2, size=(550, 500), layout= @layout [ x ; z ] )\n",
    "savefig(P, \"xi_IntegratedGP_Doppler_L0.pdf\")\n",
    "display(P)"
   ]
  }
 ],
 "metadata": {
  "kernelspec": {
   "display_name": "Julia 1.7.0",
   "language": "julia",
   "name": "julia-1.7"
  },
  "language_info": {
   "file_extension": ".jl",
   "mimetype": "application/julia",
   "name": "julia",
   "version": "1.7.0"
  }
 },
 "nbformat": 4,
 "nbformat_minor": 5
}
