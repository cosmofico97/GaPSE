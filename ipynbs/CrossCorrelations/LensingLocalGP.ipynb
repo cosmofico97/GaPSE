{
 "cells": [
  {
   "cell_type": "code",
   "execution_count": 1,
   "id": "0b0989bf-ebb4-4e63-b6ff-c6c6ffd97ad6",
   "metadata": {},
   "outputs": [],
   "source": [
    "include(\"../../src/GaPSE.jl\");"
   ]
  },
  {
   "cell_type": "code",
   "execution_count": 2,
   "id": "5510067b-6457-4723-ac79-0f6fd6cfda9a",
   "metadata": {},
   "outputs": [],
   "source": [
    "using DelimitedFiles, Plots, Dierckx, SpecialFunctions, Printf, LaTeXStrings"
   ]
  },
  {
   "cell_type": "code",
   "execution_count": null,
   "id": "507658d0-d5ec-48ec-8933-4909d22f5599",
   "metadata": {},
   "outputs": [],
   "source": [
    "FILE_F_MAP = \"../../test/datatest/F_REFERENCE.txt\"\n",
    "FILE_PS = \"../../test/datatest/file_pk.txt\"\n",
    "FILE_BACKGROUND = \"../../test/datatest/WideA_ZA_background.dat\"\n",
    "\n",
    "z_min = 0.05\n",
    "z_max = 0.20\n",
    "θ_max = π / 2.0\n",
    "params = GaPSE.CosmoParams(z_min, z_max, θ_max;\n",
    "  k_min = 1e-8, k_max = 10.0,\n",
    "  Ω_b = 0.0489, Ω_cdm = 0.251020, h_0 = 0.70,\n",
    "    N = 1024, fit_min = 0.05, fit_max= 0.5, con=true)\n",
    "\n",
    "cosmo = GaPSE.Cosmology(params, FILE_BACKGROUND, FILE_PS, FILE_F_MAP; expand=false)\n",
    "\n",
    "GaPSE.parameters_used(stdout, cosmo)"
   ]
  },
  {
   "cell_type": "code",
   "execution_count": null,
   "id": "69942176-e6f3-46af-be88-68395ec9d50e",
   "metadata": {},
   "outputs": [],
   "source": [
    "mattia_table = readdlm(\"/Users/matteofoglieni/Dropbox/GR_effects/Mattia_Output/Monopoles_without_window/xi_lensing_local_L0.txt\")\n",
    "mattia_ss = convert(Vector{Float64}, mattia_table[2:end, 1]);\n",
    "mattia_lensinglocalgps = convert(Vector{Float64}, mattia_table[2:end, 2]);"
   ]
  },
  {
   "cell_type": "code",
   "execution_count": null,
   "id": "f0408335-616c-46e8-bbbe-1432c420b673",
   "metadata": {},
   "outputs": [],
   "source": [
    "GaPSE.print_map_ξ_multipole(cosmo, \"xi_lensinglocalgp_L0.txt\",\"lensing_localgp\"; use_windows = false, \n",
    "    N_χs = 150, N_μs = 30)"
   ]
  },
  {
   "cell_type": "code",
   "execution_count": null,
   "id": "77f5096a-0aa4-4dfc-be33-2bbfed6fe8c4",
   "metadata": {},
   "outputs": [],
   "source": [
    "my_table = readdlm(\"xi_lensinglocalgp_L0.txt\", comments=true);\n",
    "my_ss = convert(Vector{Float64}, my_table[:,1]);\n",
    "my_lensinglocalgps = convert(Vector{Float64}, my_table[:,2]);"
   ]
  },
  {
   "cell_type": "code",
   "execution_count": null,
   "id": "dbb0be19-3e23-4a8e-a1db-1b3d91bd1c21",
   "metadata": {},
   "outputs": [],
   "source": [
    "my_xs = my_ss\n",
    "my_ys = my_lensinglocalgps\n",
    "xs = mattia_ss\n",
    "ys = mattia_lensinglocalgps\n",
    "spline = Spline1D(xs, ys)\n",
    "K_VLINE = 150\n",
    "\n",
    "p1 = plot([my_xs, xs], [my_ys,  ys], #xaxis=:log, #yaxis=:log, \n",
    "    lc=[:red :blue], label=[\"My LensingLocalGP\" \"Mattia LensingLocalGP\"], \n",
    "    ls=[:dash :solid], legend=:bottomleft)\n",
    "vline!(p1,[K_VLINE], lc=:black, ls=:dash)\n",
    "\n",
    "\n",
    "p2 = plot(my_xs, spline.(my_xs) .- my_ys, \n",
    "    xaxis=:log,label=\"Difference\", lc=:green, legend=:bottomright)\n",
    "vline!(p2,[K_VLINE], lc=:black, ls=:dash)\n",
    "\n",
    "p3 = plot(my_xs, spline.(my_xs) ./ my_ys, label=\"Ratio\", lc=:green, xaxis=:log,\n",
    "    #ylim=(0.99,1.05)\n",
    ")\n",
    "vline!(p3,[K_VLINE], lc=:black, ls=:dash)\n",
    "\n",
    "plot(p1, p2, p3, size=(650, 600), layout= @layout [ x ; y z ] )"
   ]
  },
  {
   "cell_type": "code",
   "execution_count": null,
   "id": "56588740-4cec-4f9d-9623-47a9ba0a72f7",
   "metadata": {},
   "outputs": [],
   "source": [
    "my_xs = my_ss\n",
    "my_ys = my_lensinglocalgps\n",
    "xs = mattia_ss\n",
    "ys = mattia_lensinglocalgps\n",
    "spline = Spline1D(xs, ys)\n",
    "\n",
    "S_VLIM = cosmo.s_eff\n",
    "S_VLIM_F = @sprintf(\"%.2f\", S_VLIM)\n",
    "\n",
    "p1 = plot([my_xs, xs], [my_ys,  ys], xaxis=:log, #yaxis=:log, \n",
    "    lc=[:red :blue], \n",
    "    label=[\"My LensingLocalGP\" \"Mattia LensingLocalGP\"], ls=[:dash :solid], \n",
    "    legend=:bottomleft)\n",
    "vline!(p1, [S_VLIM], label=\"$S_VLIM_F Mpc/h_0\", lc=:black, lw=0.5, ls=:dash)\n",
    "\n",
    "p2 = plot(my_xs, spline.(my_xs) ./ my_ys, label=\"Ratio\", lc=:green, xaxis=:log,\n",
    "    ylim=(0.99,1.01), legend=:topleft,\n",
    "    xlabel=L\"$s \\quad [h_0^{-1}\\,\\mathrm{Mpc}]$\")\n",
    "vline!(p2, [S_VLIM], label=\"$S_VLIM_F Mpc/h_0\", lc=:black, lw=0.5, ls=:dash)\n",
    "\n",
    "P = plot(p1, p2, size=(550, 500), layout= @layout [ x ; z ] )\n",
    "savefig(P, \"xi_LensingLocalGP_L0.pdf\")\n",
    "display(P)"
   ]
  },
  {
   "cell_type": "code",
   "execution_count": null,
   "id": "09705efd-6974-4d0b-891c-d5cab917a649",
   "metadata": {},
   "outputs": [],
   "source": []
  },
  {
   "cell_type": "code",
   "execution_count": null,
   "id": "64cabc2c-e58e-4828-81a7-befba1fa10e0",
   "metadata": {},
   "outputs": [],
   "source": []
  },
  {
   "cell_type": "code",
   "execution_count": null,
   "id": "4e242aa6-7f77-48ee-a26a-0e3773cb4f6e",
   "metadata": {},
   "outputs": [],
   "source": []
  },
  {
   "cell_type": "code",
   "execution_count": null,
   "id": "f4318032-783e-4efd-882c-ce8a5580d5e5",
   "metadata": {},
   "outputs": [],
   "source": [
    "mattia_table_2 = readdlm(\"/Users/matteofoglieni/Dropbox/GR_effects/Mattia_Output/Monopoles_without_window/xi_local_lensing_L0.txt\")\n",
    "mattia_2_ss = convert(Vector{Float64}, mattia_table_2[2:end, 1]);\n",
    "mattia_2_localgpintegrateds = convert(Vector{Float64}, mattia_table_2[2:end, 2]);"
   ]
  },
  {
   "cell_type": "code",
   "execution_count": null,
   "id": "d1860ab5-dd1c-40ff-a6d6-a31720fba3e3",
   "metadata": {},
   "outputs": [],
   "source": [
    "GaPSE.print_map_ξ_multipole(cosmo,\"xi_localgp_lensing_L0.txt\",\n",
    "    \"localgp_lensing\"; use_windows = false, N_μs = 50)"
   ]
  },
  {
   "cell_type": "code",
   "execution_count": null,
   "id": "699be067-f110-4768-b449-31946af1c084",
   "metadata": {},
   "outputs": [],
   "source": [
    "my_table_2 = readdlm(\"xi_localgp_lensing_L0.txt\", comments=true);\n",
    "my_2_ss = convert(Vector{Float64}, my_table_2[:,1]);\n",
    "my_2_localgpintegrateds = convert(Vector{Float64}, my_table_2[:,2]);"
   ]
  },
  {
   "cell_type": "code",
   "execution_count": null,
   "id": "3a409da9-3903-43e2-8ce9-6a4f29a5ab03",
   "metadata": {},
   "outputs": [],
   "source": [
    "my_xs = my_2_ss\n",
    "my_ys = my_2_localgpintegrateds\n",
    "xs = mattia_2_ss\n",
    "ys = mattia_2_localgpintegrateds\n",
    "spline = Spline1D(xs, ys)\n",
    "K_VLINE = 150\n",
    "\n",
    "p1 = plot([my_xs, xs], [my_ys,  ys], xaxis=:log, #yaxis=:log, \n",
    "    lc=[:red :blue], label=[\"My LocalGPLensing\" \"Mattia LocalGPLensing\"], \n",
    "    ls=[:dash :solid], legend=:topleft)\n",
    "vline!(p1,[K_VLINE], lc=:black, ls=:dash)\n",
    "\n",
    "\n",
    "p2 = plot(my_xs, spline.(my_xs) .- my_ys, \n",
    "    xaxis=:log,label=\"Difference\", lc=:green, legend=:bottomright)\n",
    "vline!(p2,[K_VLINE], lc=:black, ls=:dash)\n",
    "\n",
    "p3 = plot(my_xs, spline.(my_xs) ./ my_ys, label=\"Ratio\", lc=:green, xaxis=:log,\n",
    "    #ylim=(0.99,1.05)\n",
    ")\n",
    "vline!(p3,[K_VLINE], lc=:black, ls=:dash)\n",
    "\n",
    "plot(p1, p2, p3, size=(650, 600), layout= @layout [ x ; y z ] )"
   ]
  },
  {
   "cell_type": "code",
   "execution_count": null,
   "id": "f3453b9c-5dd0-4d9e-85d0-0a0f73067dff",
   "metadata": {},
   "outputs": [],
   "source": [
    "my_xs = my_2_ss\n",
    "my_ys = my_2_localgpintegrateds\n",
    "xs = mattia_2_ss\n",
    "ys = mattia_2_localgpintegrateds\n",
    "spline = Spline1D(xs, ys)\n",
    "\n",
    "S_VLIM = cosmo.s_eff\n",
    "S_VLIM_F = @sprintf(\"%.2f\", S_VLIM)\n",
    "\n",
    "p1 = plot([my_xs, xs], [my_ys,  ys], xaxis=:log, #yaxis=:log, \n",
    "    lc=[:red :blue], \n",
    "    label=[\"My LocalGPLensing\" \"Mattia LocalGPLensing\"], \n",
    "    ls=[:dash :solid], legend=:bottomleft)\n",
    "vline!(p1, [S_VLIM], label=\"$S_VLIM_F Mpc/h_0\", lc=:black, lw=0.5, ls=:dash)\n",
    "\n",
    "p2 = plot(my_xs, spline.(my_xs) ./ my_ys, label=\"Ratio\", lc=:green, xaxis=:log,\n",
    "    ylim=(0.99,1.01), legend=:topleft,\n",
    "    xlabel=L\"$s \\quad [h_0^{-1}\\,\\mathrm{Mpc}]$\")\n",
    "vline!(p2, [S_VLIM], label=\"$S_VLIM_F Mpc/h_0\", lc=:black, lw=0.5, ls=:dash)\n",
    "\n",
    "P = plot(p1, p2, size=(550, 500), layout= @layout [ x ; z ] )\n",
    "savefig(P, \"xi_LocalGP_Lensing_L0.pdf\")\n",
    "display(P)"
   ]
  }
 ],
 "metadata": {
  "kernelspec": {
   "display_name": "Julia 1.7.0",
   "language": "julia",
   "name": "julia-1.7"
  },
  "language_info": {
   "file_extension": ".jl",
   "mimetype": "application/julia",
   "name": "julia",
   "version": "1.7.0"
  }
 },
 "nbformat": 4,
 "nbformat_minor": 5
}
