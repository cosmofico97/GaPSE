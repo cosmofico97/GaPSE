{
 "cells": [
  {
   "cell_type": "code",
   "execution_count": 10,
   "id": "08ebf2f0-b6be-4aa7-ab15-21d25e1b0cc1",
   "metadata": {},
   "outputs": [],
   "source": [
    "using DelimitedFiles\n",
    "using StaticArrays"
   ]
  },
  {
   "cell_type": "code",
   "execution_count": 11,
   "id": "b616c54b-2245-48cc-8214-6c616ac7d6dc",
   "metadata": {},
   "outputs": [
    {
     "data": {
      "text/plain": [
       "WindowF"
      ]
     },
     "execution_count": 11,
     "metadata": {},
     "output_type": "execute_result"
    }
   ],
   "source": [
    "@doc raw\"\"\"\n",
    "    WindowF(\n",
    "        xs::AbstractVector{T1} where {T1}\n",
    "        μs::AbstractVector{T2} where {T2}\n",
    "        Fs::AbstractArray{T3, 2} where {T3}\n",
    "        )\n",
    "\n",
    "Struct containing xs, μs and Fs values of the window function ``F(x, μ)``.\n",
    "`xs` and `μs` are 1D vectors containing each value only once, while \n",
    "Fs values are contained in a matrix of size `(length(xs), length(μs))`, so\n",
    "along a fixed column the changing value is `x`.\n",
    "    \n",
    "\"\"\"\n",
    "struct WindowF\n",
    "     xs::AbstractVector{T1} where {T1}\n",
    "     μs::AbstractVector{T2} where {T2}\n",
    "     Fs::AbstractArray{T3, 2} where {T3}\n",
    "\n",
    "     function WindowF(file::String)\n",
    "          data = readdlm(file, comments = true)\n",
    "          xs, μs, Fs = data[:, 1], data[:, 2], data[:, 3]\n",
    "          @assert size(xs) == size(μs) == size(Fs) \"xs, μs and Fs must have the same length!\"\n",
    "\n",
    "          new_xs = unique(xs)\n",
    "          new_μs = unique(μs)\n",
    "          new_Fs = \n",
    "               if xs[2] == xs[1] && μs[2] ≠ μs[1]\n",
    "                    transpose(reshape(Fs, (length(new_μs), length(new_xs))))\n",
    "               elseif xs[2] ≠ xs[1] && μs[2] == μs[1]\n",
    "                    reshape(Fs, (length(new_xs), length(new_μs)))\n",
    "               else\n",
    "                    throw(ErrorException(\"What kind of convenction for the file $file\" *\n",
    "                                         \" are you using? I do not recognise it.\"))\n",
    "               end\n",
    "          new(new_xs, new_μs, new_Fs)\n",
    "     end\n",
    "end"
   ]
  },
  {
   "cell_type": "code",
   "execution_count": 12,
   "id": "df7bdb36-48e1-4810-b7f7-658542731b85",
   "metadata": {},
   "outputs": [
    {
     "data": {
      "text/plain": [
       "\"F_another.txt\""
      ]
     },
     "execution_count": 12,
     "metadata": {},
     "output_type": "execute_result"
    }
   ],
   "source": [
    "file = \"F_REFERENCE.txt\"\n",
    "another_file=\"F_another.txt\""
   ]
  },
  {
   "cell_type": "code",
   "execution_count": 13,
   "id": "2079c620-5f13-4c93-8962-24ddd7388c08",
   "metadata": {},
   "outputs": [],
   "source": [
    "F = WindowF(file);\n",
    "another_F=WindowF(another_file);"
   ]
  },
  {
   "cell_type": "code",
   "execution_count": 14,
   "id": "1d09bee9-2add-443c-8d16-99446a0e8be9",
   "metadata": {},
   "outputs": [
    {
     "data": {
      "text/plain": [
       "31×39 transpose(::Matrix{Float64}) with eltype Float64:\n",
       " 0.0  20.3156   39.0694   39.2174   …  39.2176  39.0694  20.3156  0.0\n",
       " 0.0  20.1217   38.796    38.8827      38.8347  38.8229  19.9844  0.0\n",
       " 0.0  19.8803   38.456    38.4684      38.6927  38.5848  19.931   0.0\n",
       " 0.0  19.5711   38.0232   37.9432      38.5072  38.4873  19.8737  0.0\n",
       " 0.0  19.1623   37.455    37.2585      38.3483  38.2778  19.8101  0.0\n",
       " 0.0  18.5968   36.6792   36.3336   …  38.1951  38.2419  19.7319  0.0\n",
       " 0.0  17.7916   35.5762   35.0429      38.0749  36.5963  19.6589  0.0\n",
       " 0.0  17.2785   33.9001   33.1551      37.9625  36.5963  19.5945  0.0\n",
       " 0.0  16.4098   31.2015   30.3165      37.8624  36.5963  19.537   0.0\n",
       " 0.0  12.9036   16.3092   26.189       37.7562  36.5963  19.3115  0.0\n",
       " 0.0  10.365    14.1763   16.4658   …  37.5643  36.5963  19.2992  0.0\n",
       " 0.0   3.67564   7.13836   3.08575     36.1669  36.5963  19.2866  0.0\n",
       " 0.0   3.54486   6.76872   3.08575     36.1669  36.5963  19.2737  0.0\n",
       " ⋮                                  ⋱   ⋮                         \n",
       " 0.0   3.00295   5.05389   5.70087     36.1669  36.5963  19.167   0.0\n",
       " 0.0   2.95433   4.85741   5.58097  …  36.1669  36.5963  19.1472  0.0\n",
       " 0.0   2.90599   4.64476   5.46412     36.1669  36.5963  19.1282  0.0\n",
       " 0.0   2.86143   4.45529   5.35379     36.1669  36.5963  19.1104  0.0\n",
       " 0.0   2.81996   4.32314   5.24794     36.1669  36.5963  19.094   0.0\n",
       " 0.0   2.78116   4.19629   5.14613     36.1669  36.5963  19.0784  0.0\n",
       " 0.0   1.76478   4.06532   5.04666  …  36.1669  36.5963  18.5634  0.0\n",
       " 0.0   1.76478   3.98274   4.94575     36.1669  36.5963  18.5634  0.0\n",
       " 0.0   1.76478   3.82442   4.83032     36.1669  36.5963  18.5634  0.0\n",
       " 0.0   1.76478   3.78316   4.71594     36.1669  36.5963  18.5634  0.0\n",
       " 0.0   1.76478   3.73892   4.50924     36.1669  36.5963  18.5634  0.0\n",
       " 0.0   1.76478   3.68382   4.47815  …  36.1669  36.5963  18.5634  0.0"
      ]
     },
     "execution_count": 14,
     "metadata": {},
     "output_type": "execute_result"
    }
   ],
   "source": [
    "F.Fs"
   ]
  },
  {
   "cell_type": "code",
   "execution_count": 15,
   "id": "b9e46f48-1536-47af-a23c-3091cffae224",
   "metadata": {},
   "outputs": [
    {
     "data": {
      "text/plain": [
       "80×20 transpose(::Matrix{Float64}) with eltype Float64:\n",
       " 0.0  39.5282   39.4922   39.6028  39.6445  …  39.482   39.4437  39.5133  0.0\n",
       " 0.0  38.8994   39.0416   38.4954  38.3906     38.8874  38.8888  39.1152  0.0\n",
       " 0.0  38.4471   37.4448   37.28    37.2711     37.8596  38.152   38.4347  0.0\n",
       " 0.0  37.1894   36.4737   36.0762  35.979      37.0946  38.0097  38.1929  0.0\n",
       " 0.0  36.6488   35.2034   34.5586  34.417      36.5979  37.1035  37.9774  0.0\n",
       " 0.0  34.9098   33.6108   33.1151  32.865   …  36.2296  36.8433  37.4422  0.0\n",
       " 0.0  32.79     31.7954   31.3814  31.282      35.6206  36.3487  37.1458  0.0\n",
       " 0.0  30.594    29.8611   29.6812  29.7818     35.2476  36.1722  37.084   0.0\n",
       " 0.0  28.2907   27.9558   27.9418  28.273      35.1267  35.7685  36.7659  0.0\n",
       " 0.0  25.3174   25.9251   26.2939  27.1339     34.5262  35.4912  36.91    0.0\n",
       " 0.0  22.6807   24.1113   24.7033  25.7768  …  34.2543  35.3366  36.6438  0.0\n",
       " 0.0  20.243    22.2168   23.3838  24.4987     34.1969  35.0602  36.7115  0.0\n",
       " 0.0  17.9272   20.5836   22.3728  23.4443     33.8441  34.9374  37.1565  0.0\n",
       " ⋮                                          ⋱                             \n",
       " 0.0   6.66611   9.51593  11.6422  13.6546     30.368   32.2034  34.5294  0.0\n",
       " 0.0   6.80247   9.60275  11.7088  13.6348     30.3847  32.1048  34.4005  0.0\n",
       " 0.0   6.75509   9.59768  11.6775  13.5138  …  30.2743  32.1776  34.3393  0.0\n",
       " 0.0   6.80838   9.4942   11.7658  13.4429     30.3689  32.142   34.2299  0.0\n",
       " 0.0   6.74527   9.47612  11.7137  13.5872     30.4734  32.0887  34.1454  0.0\n",
       " 0.0   6.66853   9.44455  11.6612  13.4894     30.3294  32.0316  34.252   0.0\n",
       " 0.0   6.8075    9.45541  11.7534  13.5556     30.4892  32.145   34.3948  0.0\n",
       " 0.0   6.77334   9.38927  11.5337  13.3307  …  30.2386  32.0826  34.3205  0.0\n",
       " 0.0   6.53592   9.36489  11.6548  13.3569     30.3597  32.1259  34.3383  0.0\n",
       " 0.0   6.6462    9.47215  11.5163  13.4661     30.3007  31.9915  34.6178  0.0\n",
       " 0.0   6.61644   9.35724  11.5266  13.2423     30.1977  31.9895  33.9814  0.0\n",
       " 0.0   6.63979   9.37161  11.5333  13.5934     30.341   32.1552  34.2969  0.0"
      ]
     },
     "execution_count": 15,
     "metadata": {},
     "output_type": "execute_result"
    }
   ],
   "source": [
    "another_F.Fs"
   ]
  },
  {
   "cell_type": "code",
   "execution_count": null,
   "id": "c2e84f97-5cad-465c-ad01-30596ccb9d18",
   "metadata": {},
   "outputs": [],
   "source": []
  }
 ],
 "metadata": {
  "kernelspec": {
   "display_name": "Julia 1.7.0",
   "language": "julia",
   "name": "julia-1.7"
  },
  "language_info": {
   "file_extension": ".jl",
   "mimetype": "application/julia",
   "name": "julia",
   "version": "1.7.0"
  }
 },
 "nbformat": 4,
 "nbformat_minor": 5
}
