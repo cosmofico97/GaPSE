{
 "cells": [
  {
   "cell_type": "code",
   "execution_count": 44,
   "id": "08ebf2f0-b6be-4aa7-ab15-21d25e1b0cc1",
   "metadata": {},
   "outputs": [],
   "source": [
    "using DelimitedFiles, Dierckx, Plots, GridInterpolations"
   ]
  },
  {
   "cell_type": "code",
   "execution_count": 16,
   "id": "df7bdb36-48e1-4810-b7f7-658542731b85",
   "metadata": {},
   "outputs": [],
   "source": [
    "FILE_F_MAP = \"../data/F_REFERENCE.txt\"\n",
    "FILE_PS = \"../data/WideA_ZA_pk.dat\"\n",
    "FILE_BACKGROUND = \"../data/WideA_ZA_background.dat\";"
   ]
  },
  {
   "cell_type": "code",
   "execution_count": 34,
   "id": "138d3c7f-5db0-47f7-a492-584716178342",
   "metadata": {},
   "outputs": [],
   "source": [
    "struct WindowF\n",
    "     xs::AbstractVector{T1} where {T1}\n",
    "     μs::AbstractVector{T2} where {T2}\n",
    "     Fs::AbstractArray{T3,2} where {T3}\n",
    "\n",
    "     function WindowF(file::String)\n",
    "          data = readdlm(file, comments = true)\n",
    "          xs, μs, Fs = data[:, 1], data[:, 2], data[:, 3]\n",
    "          @assert size(xs) == size(μs) == size(Fs) \"xs, μs and Fs must have the same length!\"\n",
    "\n",
    "          new_xs = unique(xs)\n",
    "          new_μs = unique(μs)\n",
    "          new_Fs =\n",
    "               if xs[2] == xs[1] && μs[2] ≠ μs[1]\n",
    "                    transpose(reshape(Fs, (length(new_μs), length(new_xs))))\n",
    "               elseif xs[2] ≠ xs[1] && μs[2] == μs[1]\n",
    "                    reshape(Fs, (length(new_xs), length(new_μs)))\n",
    "               else\n",
    "                    throw(ErrorException(\"What kind of convenction for the file $file\" *\n",
    "                                         \" are you using? I do not recognise it.\"))\n",
    "               end\n",
    "        grid = GridInterpolations.RectangleGrid(new_μs, new_xs)\n",
    "        spline(x, μ) = GridInterpolations.interpolate(grid, new_Fs, [x, μ])\n",
    "          new(new_xs, new_μs, new_Fs, spline)\n",
    "     end\n",
    "end"
   ]
  },
  {
   "cell_type": "code",
   "execution_count": 35,
   "id": "b0c123c6-f295-475e-8d42-f295fd5547aa",
   "metadata": {},
   "outputs": [
    {
     "data": {
      "text/plain": [
       "new_WindowF([0.0, 0.1, 0.2, 0.3, 0.4, 0.5, 0.6, 0.7, 0.8, 0.9  …  2.1, 2.2, 2.3, 2.4, 2.5, 2.6, 2.7, 2.8, 2.9, 3.0], [-1.0, -0.99, -0.98, -0.97, -0.96, -0.95, -0.94, -0.93, -0.92, -0.91  …  0.91, 0.92, 0.93, 0.94, 0.95, 0.96, 0.97, 0.98, 0.99, 1.0], [0.0 20.315581703061408 … 20.315581372967298 0.0; 0.0 20.121689187178195 … 19.984420159530657 0.0; … ; 0.0 1.7647802990836603 … 18.563437720176587 0.0; 0.0 1.7647802990836603 … 18.563437720176587 0.0], var\"#spline#18\"{RectangleGrid{2}, LinearAlgebra.Transpose{Float64, Matrix{Float64}}}(RectangleGrid{2}([-1.0, -0.99, -0.98, -0.97, -0.96, -0.95, -0.94, -0.93, -0.92, -0.91  …  0.91, 0.92, 0.93, 0.94, 0.95, 0.96, 0.97, 0.98, 0.99, 1.0],[0.0, 0.1, 0.2, 0.3, 0.4, 0.5, 0.6, 0.7, 0.8, 0.9  …  2.1, 2.2, 2.3, 2.4, 2.5, 2.6, 2.7, 2.8, 2.9, 3.0],), [0.0 20.315581703061408 … 20.315581372967298 0.0; 0.0 20.121689187178195 … 19.984420159530657 0.0; … ; 0.0 1.7647802990836603 … 18.563437720176587 0.0; 0.0 1.7647802990836603 … 18.563437720176587 0.0]))"
      ]
     },
     "execution_count": 35,
     "metadata": {},
     "output_type": "execute_result"
    }
   ],
   "source": [
    "str = new_WindowF(\"F_REFERENCE.txt\")"
   ]
  },
  {
   "cell_type": "code",
   "execution_count": 42,
   "id": "f57ff8a9-6f31-4a6d-80b1-ceceac96f296",
   "metadata": {},
   "outputs": [
    {
     "data": {
      "text/plain": [
       "1209×1 reshape(transpose(::Matrix{Float64}), 1209, 1) with eltype Float64:\n",
       " 0.0\n",
       " 0.0\n",
       " 0.0\n",
       " 0.0\n",
       " 0.0\n",
       " 0.0\n",
       " 0.0\n",
       " 0.0\n",
       " 0.0\n",
       " 0.0\n",
       " 0.0\n",
       " 0.0\n",
       " 0.0\n",
       " ⋮\n",
       " 0.0\n",
       " 0.0\n",
       " 0.0\n",
       " 0.0\n",
       " 0.0\n",
       " 0.0\n",
       " 0.0\n",
       " 0.0\n",
       " 0.0\n",
       " 0.0\n",
       " 0.0\n",
       " 0.0"
      ]
     },
     "execution_count": 42,
     "metadata": {},
     "output_type": "execute_result"
    }
   ],
   "source": [
    "reshape(str.Fs, (:, 1))"
   ]
  },
  {
   "cell_type": "code",
   "execution_count": 38,
   "id": "8fe91e80-89fe-435f-9204-c3b4ac179e95",
   "metadata": {},
   "outputs": [
    {
     "data": {
      "text/plain": [
       "f (generic function with 1 method)"
      ]
     },
     "execution_count": 38,
     "metadata": {},
     "output_type": "execute_result"
    }
   ],
   "source": [
    "grid = RectangleGrid(str.xs , str.μs)\n",
    "f(x, μ) = GridInterpolations.interpolate(grid, str.Fs, [x, μ])"
   ]
  },
  {
   "cell_type": "code",
   "execution_count": 39,
   "id": "8c34cf87-718b-4171-9a0e-2bc450ef25b9",
   "metadata": {},
   "outputs": [
    {
     "ename": "LoadError",
     "evalue": "MethodError: no method matching interpolate(::RectangleGrid{2}, ::LinearAlgebra.Transpose{Float64, Matrix{Float64}}, ::Vector{Float64})\n\u001b[0mClosest candidates are:\n\u001b[0m  interpolate(::AbstractGrid, \u001b[91m::Matrix\u001b[39m, ::AbstractVector) at ~/.julia/packages/GridInterpolations/Q9kj8/src/GridInterpolations.jl:158\n\u001b[0m  interpolate(::AbstractGrid, \u001b[91m::DenseArray\u001b[39m, ::AbstractVector) at ~/.julia/packages/GridInterpolations/Q9kj8/src/GridInterpolations.jl:160",
     "output_type": "error",
     "traceback": [
      "MethodError: no method matching interpolate(::RectangleGrid{2}, ::LinearAlgebra.Transpose{Float64, Matrix{Float64}}, ::Vector{Float64})\n\u001b[0mClosest candidates are:\n\u001b[0m  interpolate(::AbstractGrid, \u001b[91m::Matrix\u001b[39m, ::AbstractVector) at ~/.julia/packages/GridInterpolations/Q9kj8/src/GridInterpolations.jl:158\n\u001b[0m  interpolate(::AbstractGrid, \u001b[91m::DenseArray\u001b[39m, ::AbstractVector) at ~/.julia/packages/GridInterpolations/Q9kj8/src/GridInterpolations.jl:160",
      "",
      "Stacktrace:",
      "  [1] f(x::Float64, μ::Float64)",
      "    @ Main ./In[38]:2",
      "  [2] Surface(f::typeof(f), x::Vector{Float64}, y::Vector{Float64})",
      "    @ RecipesPipeline ~/.julia/packages/RecipesPipeline/Bxu2O/src/utils.jl:77",
      "  [3] macro expansion",
      "    @ ~/.julia/packages/RecipesPipeline/Bxu2O/src/user_recipe.jl:278 [inlined]",
      "  [4] apply_recipe(plotattributes::AbstractDict{Symbol, Any}, x::AbstractVector, y::AbstractVector, zf::Function)",
      "    @ RecipesPipeline ~/.julia/packages/RecipesBase/qpxEX/src/RecipesBase.jl:289",
      "  [5] _process_userrecipes!(plt::Any, plotattributes::Any, args::Any)",
      "    @ RecipesPipeline ~/.julia/packages/RecipesPipeline/Bxu2O/src/user_recipe.jl:36",
      "  [6] recipe_pipeline!(plt::Any, plotattributes::Any, args::Any)",
      "    @ RecipesPipeline ~/.julia/packages/RecipesPipeline/Bxu2O/src/RecipesPipeline.jl:70",
      "  [7] _plot!(plt::Plots.Plot, plotattributes::Any, args::Any)",
      "    @ Plots ~/.julia/packages/Plots/FI0vT/src/plot.jl:208",
      "  [8] #plot#143",
      "    @ ~/.julia/packages/Plots/FI0vT/src/plot.jl:91 [inlined]",
      "  [9] top-level scope",
      "    @ In[39]:1",
      " [10] eval",
      "    @ ./boot.jl:373 [inlined]",
      " [11] include_string(mapexpr::typeof(REPL.softscope), mod::Module, code::String, filename::String)",
      "    @ Base ./loading.jl:1196"
     ]
    }
   ],
   "source": [
    "plot(str.xs, str.μs, f; \n",
    "    xl=\"x\", yl=\"y\", zl=\"z\", st = :surface, \n",
    "    c=cgrad([:yellow, :red]), size=(300, 300))"
   ]
  },
  {
   "cell_type": "code",
   "execution_count": 43,
   "id": "94b8d7c9-cc2f-429a-9ae6-9b4a8a73216c",
   "metadata": {},
   "outputs": [
    {
     "ename": "LoadError",
     "evalue": "syntax: invalid variable expression in \"where\" around In[43]:1",
     "output_type": "error",
     "traceback": [
      "syntax: invalid variable expression in \"where\" around In[43]:1",
      "",
      "Stacktrace:",
      " [1] top-level scope",
      "   @ In[43]:1",
      " [2] eval",
      "   @ ./boot.jl:373 [inlined]",
      " [3] include_string(mapexpr::typeof(REPL.softscope), mod::Module, code::String, filename::String)",
      "   @ Base ./loading.jl:1196"
     ]
    }
   ],
   "source": [
    "struct tipo{Union{Dierckx.Spline1D}}\n",
    "    a::T\n",
    "end\n",
    "\n"
   ]
  },
  {
   "cell_type": "code",
   "execution_count": null,
   "id": "1e11cfea-085b-4256-83e4-9807d42973eb",
   "metadata": {},
   "outputs": [],
   "source": []
  }
 ],
 "metadata": {
  "kernelspec": {
   "display_name": "Julia 1.7.0",
   "language": "julia",
   "name": "julia-1.7"
  },
  "language_info": {
   "file_extension": ".jl",
   "mimetype": "application/julia",
   "name": "julia",
   "version": "1.7.0"
  }
 },
 "nbformat": 4,
 "nbformat_minor": 5
}
