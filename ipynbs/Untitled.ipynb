{
 "cells": [
  {
   "cell_type": "code",
   "execution_count": 18,
   "id": "08ebf2f0-b6be-4aa7-ab15-21d25e1b0cc1",
   "metadata": {},
   "outputs": [],
   "source": [
    "using DelimitedFiles, Dierckx"
   ]
  },
  {
   "cell_type": "code",
   "execution_count": 16,
   "id": "df7bdb36-48e1-4810-b7f7-658542731b85",
   "metadata": {},
   "outputs": [],
   "source": [
    "FILE_F_MAP = \"../data/F_REFERENCE.txt\"\n",
    "FILE_PS = \"../data/WideA_ZA_pk.dat\"\n",
    "FILE_BACKGROUND = \"../data/WideA_ZA_background.dat\";"
   ]
  },
  {
   "cell_type": "code",
   "execution_count": 17,
   "id": "2079c620-5f13-4c93-8962-24ddd7388c08",
   "metadata": {},
   "outputs": [],
   "source": [
    "struct BackgroundData\n",
    "     z::AbstractVector{T} where {T}\n",
    "     #conftime::AbstractVector{T} where {T}\n",
    "     comdist::AbstractVector{T} where {T}\n",
    "     #angdist::AbstractVector{T} where {T}\n",
    "     #lumdist::AbstractVector{T} where {T}\n",
    "     D::AbstractVector{T} where {T}\n",
    "     f::AbstractVector{T} where {T}\n",
    "     ℋ::AbstractVector{T} where {T}\n",
    "     #ℋ_p::AbstractVector{T} where {T}\n",
    "\n",
    "     function BackgroundData(file::String, z_min = 0.05, z_max = 0.2;\n",
    "          names = NAMES_BACKGROUND, h = h_0)\n",
    "\n",
    "          data = readdlm(file, comments = true)\n",
    "          N_z_MAX = findfirst(z -> z <= z_max, data[:, 1]) - 1\n",
    "          N_z_MIN = findfirst(z -> z <= z_min, data[:, 1]) + 1\n",
    "\n",
    "          data_dict = Dict([name => reverse(data[:, i][N_z_MAX:N_z_MIN])\n",
    "                            for (i, name) in enumerate(names)]...)\n",
    "\n",
    "          com_H = data_dict[\"H [1/Mpc]\"] ./ h ./ (1.0 .+ data_dict[\"z\"])\n",
    "          #conf_time = data_dict[\"conf. time [Mpc]\"] .* h\n",
    "          #spline_com_H = Spline1D(reverse(conf_time), reverse(com_H))\n",
    "          #com_H_p = [Dierckx.derivative(spline_com_H, t) for t in conf_time]\n",
    "\n",
    "          new(\n",
    "               data_dict[\"z\"],\n",
    "               #conf_time,\n",
    "               data_dict[\"comov. dist.\"] .* h,\n",
    "               #data_dict[\"ang.diam.dist.\"] .* h,\n",
    "               #data_dict[\"lum. dist.\"] .* h,\n",
    "               data_dict[\"gr.fac. D\"],\n",
    "               data_dict[\"gr.fac. f\"],\n",
    "               com_H,\n",
    "               #com_H_p,\n",
    "          )\n",
    "     end\n",
    "end\n",
    "\n",
    "struct BackgroundSplines\n",
    "     z_of_s\n",
    "     s_of_z\n",
    "     D_of_s\n",
    "     f_of_s\n",
    "     ℋ_of_s\n",
    "     ℛ_of_s\n",
    "\n",
    "     function BackgroundSplines(BD::BackgroundData)\n",
    "          ℛs = 1.0 .- 1.0 ./ (BD.ℋ .* BD.comdist)\n",
    "          new(\n",
    "               Spline1D(BD.comdist, BD.z),\n",
    "               Spline1D(BD.z, BD.comdist),\n",
    "               Spline1D(BD.comdist, BD.D),\n",
    "               Spline1D(BD.comdist, BD.f),\n",
    "               Spline1D(BD.comdist, BD.ℋ),\n",
    "               Spline1D(BD.comdist, ℛs)\n",
    "          )\n",
    "     end\n",
    "end\n",
    "\n",
    "struct Point\n",
    "     z::Float64\n",
    "     #conftime::Float64\n",
    "     comdist::Float64\n",
    "     #angdist::Float64\n",
    "     #lumdist::Float64\n",
    "     D::Float64\n",
    "     f::Float64\n",
    "     ℋ::Float64\n",
    "     #ℋ_p::Float64\n",
    "     ℛ::Float64\n",
    "\n",
    "     Point(z, comdist, D, f, ℋ, ℛ) = new(z, comdist, D, f, ℋ, ℛ)\n",
    "     function Point(s, BS::BackgroundSplines)\n",
    "          new(BS.z_of_s(s), s, BS.D_of_s(s), BS.f_of_s(s),\n",
    "               BS.ℋ_of_s(s), BS.ℛ_of_s(s))\n",
    "     end\n",
    "end"
   ]
  },
  {
   "cell_type": "code",
   "execution_count": 19,
   "id": "c2e84f97-5cad-465c-ad01-30596ccb9d18",
   "metadata": {},
   "outputs": [
    {
     "data": {
      "text/plain": [
       "ξ_doppler (generic function with 1 method)"
      ]
     },
     "execution_count": 19,
     "metadata": {},
     "output_type": "execute_result"
    }
   ],
   "source": [
    "function ξ_doppler(P1::Point, P2::Point, y; enhancer = 1.0)\n",
    "     s1, D1, f1, ℋ1, ℛ1 = P1.comdist, P1.D, P1.f, P1.ℋ, P1.ℛ\n",
    "     s2, D2, f2, ℋ2, ℛ2 = P2.comdist, P2.D, P2.f, P2.ℋ, P2.ℛ\n",
    "\n",
    "     delta_s = s(P1.comdist, P2.comdist, y)\n",
    "     prefac = D1 * D2 * f1 * f2 * ℛ1 * ℛ2 * ℋ1 * ℋ2\n",
    "     c1 = 3 * s1 * s2 - 2 * y * (s1^2 + s2^2) + s1 * s2 * y^2\n",
    "\n",
    "     parenth = I00(delta_s) / 45.0 + I20(delta_s) / 31.5 + I40(delta_s) / 105.0\n",
    "\n",
    "     first = prefac * (c1 * parenth + I02(delta_s) * y * delta_s^2 / 3.0)\n",
    "\n",
    "     return enhancer * first\n",
    "end"
   ]
  },
  {
   "cell_type": "code",
   "execution_count": null,
   "id": "b71ffe36-6e8d-4e53-a796-56dfbdf67343",
   "metadata": {},
   "outputs": [],
   "source": [
    "function integrand_on_mu_doppler(P1::Point, P2::Point, μ; \n",
    "     L::Integer = 0, enhancer = 1.0, use_windows::Bool = true)\n",
    "     if use_windows == true\n",
    "          ϕ_s2 = ϕ(s2(s1, s, μ))\n",
    "          (ϕ_s2 > 0.0) || (return 0.0)\n",
    "          val = ξ_doppler(P1, P2, y(s1, s, μ), enhancer = enhancer)\n",
    "          return val * ϕ_s2 * spline_F(s / s1, μ) * Pl(μ, L)\n",
    "     else\n",
    "          val = ξ_doppler(P1, P2, y(s1, s, μ), enhancer = enhancer)\n",
    "          return val * Pl(μ, L)\n",
    "     end\n",
    "end"
   ]
  },
  {
   "cell_type": "code",
   "execution_count": 21,
   "id": "3e4e7685-7ee3-4c0d-a634-d548f9baf344",
   "metadata": {},
   "outputs": [],
   "source": [
    "using GridInterpolations"
   ]
  },
  {
   "cell_type": "code",
   "execution_count": 29,
   "id": "138d3c7f-5db0-47f7-a492-584716178342",
   "metadata": {},
   "outputs": [],
   "source": [
    "struct new_WindowF\n",
    "     xs::AbstractVector{T1} where {T1}\n",
    "     μs::AbstractVector{T2} where {T2}\n",
    "     Fs::AbstractArray{T3,2} where {T3}\n",
    "    spline\n",
    "\n",
    "     function new_WindowF(file::String)\n",
    "          data = readdlm(file, comments = true)\n",
    "          xs, μs, Fs = data[:, 1], data[:, 2], data[:, 3]\n",
    "          @assert size(xs) == size(μs) == size(Fs) \"xs, μs and Fs must have the same length!\"\n",
    "\n",
    "          new_xs = unique(xs)\n",
    "          new_μs = unique(μs)\n",
    "          new_Fs =\n",
    "               if xs[2] == xs[1] && μs[2] ≠ μs[1]\n",
    "                    transpose(reshape(Fs, (length(new_μs), length(new_xs))))\n",
    "               elseif xs[2] ≠ xs[1] && μs[2] == μs[1]\n",
    "                    reshape(Fs, (length(new_xs), length(new_μs)))\n",
    "               else\n",
    "                    throw(ErrorException(\"What kind of convenction for the file $file\" *\n",
    "                                         \" are you using? I do not recognise it.\"))\n",
    "               end\n",
    "        grid = GridInterpolations.RectangleGrid(new_μs, new_xs)\n",
    "        spline(x, μ) = GridInterpolations.interpolate(grid, new_Fs, [x, μ])\n",
    "          new(new_xs, new_μs, new_Fs, spline)\n",
    "     end\n",
    "end"
   ]
  },
  {
   "cell_type": "code",
   "execution_count": 30,
   "id": "b0c123c6-f295-475e-8d42-f295fd5547aa",
   "metadata": {},
   "outputs": [
    {
     "data": {
      "text/plain": [
       "new_WindowF([0.0, 0.1, 0.2, 0.3, 0.4, 0.5, 0.6, 0.7, 0.8, 0.9  …  2.1, 2.2, 2.3, 2.4, 2.5, 2.6, 2.7, 2.8, 2.9, 3.0], [-1.0, -0.99, -0.98, -0.97, -0.96, -0.95, -0.94, -0.93, -0.92, -0.91  …  0.91, 0.92, 0.93, 0.94, 0.95, 0.96, 0.97, 0.98, 0.99, 1.0], [0.0 20.315581703061408 … 20.315581372967298 0.0; 0.0 20.121689187178195 … 19.984420159530657 0.0; … ; 0.0 1.7647802990836603 … 18.563437720176587 0.0; 0.0 1.7647802990836603 … 18.563437720176587 0.0], var\"#spline#18\"{RectangleGrid{2}, LinearAlgebra.Transpose{Float64, Matrix{Float64}}}(RectangleGrid{2}([-1.0, -0.99, -0.98, -0.97, -0.96, -0.95, -0.94, -0.93, -0.92, -0.91  …  0.91, 0.92, 0.93, 0.94, 0.95, 0.96, 0.97, 0.98, 0.99, 1.0],[0.0, 0.1, 0.2, 0.3, 0.4, 0.5, 0.6, 0.7, 0.8, 0.9  …  2.1, 2.2, 2.3, 2.4, 2.5, 2.6, 2.7, 2.8, 2.9, 3.0],), [0.0 20.315581703061408 … 20.315581372967298 0.0; 0.0 20.121689187178195 … 19.984420159530657 0.0; … ; 0.0 1.7647802990836603 … 18.563437720176587 0.0; 0.0 1.7647802990836603 … 18.563437720176587 0.0]))"
      ]
     },
     "execution_count": 30,
     "metadata": {},
     "output_type": "execute_result"
    }
   ],
   "source": [
    "str = new_WindowF(\"F_REFERENCE.txt\")"
   ]
  },
  {
   "cell_type": "code",
   "execution_count": null,
   "id": "982de113-5f20-4152-8ebd-285408309213",
   "metadata": {},
   "outputs": [],
   "source": []
  },
  {
   "cell_type": "code",
   "execution_count": null,
   "id": "8c34cf87-718b-4171-9a0e-2bc450ef25b9",
   "metadata": {},
   "outputs": [],
   "source": [
    "plot(str.xs, str.μs, str.spline(a) ; \n",
    "    xl=\"x\", yl=\"y\", zl=\"z\", st = :surface, \n",
    "    c=cgrad([:yellow, :red]), size=(300, 300))"
   ]
  }
 ],
 "metadata": {
  "kernelspec": {
   "display_name": "Julia 1.7.0",
   "language": "julia",
   "name": "julia-1.7"
  },
  "language_info": {
   "file_extension": ".jl",
   "mimetype": "application/julia",
   "name": "julia",
   "version": "1.7.0"
  }
 },
 "nbformat": 4,
 "nbformat_minor": 5
}
