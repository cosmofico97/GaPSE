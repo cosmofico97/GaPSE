{
 "cells": [
  {
   "cell_type": "code",
   "execution_count": null,
   "id": "2732c987-bd61-4765-b86e-8ced23704835",
   "metadata": {},
   "outputs": [],
   "source": [
    "DIR = \"timing/\";"
   ]
  },
  {
   "cell_type": "markdown",
   "id": "f08c3965-2bf2-43e7-9457-e115e9f5e460",
   "metadata": {},
   "source": [
    "|-----------|\n",
    "\n",
    "\n"
   ]
  },
  {
   "cell_type": "markdown",
   "id": "813979be-16b1-4b76-836d-9986173e80dc",
   "metadata": {
    "jp-MarkdownHeadingCollapsed": true,
    "tags": []
   },
   "source": [
    "### Basic Framework"
   ]
  },
  {
   "cell_type": "code",
   "execution_count": null,
   "id": "f3bc8367-b71d-4db5-a791-a188cd20ce7a",
   "metadata": {},
   "outputs": [],
   "source": [
    "PATH_TO_GAPSE = \"../\";"
   ]
  },
  {
   "cell_type": "code",
   "execution_count": null,
   "id": "82982c7e-6286-44a8-88ad-c76fed3a35ef",
   "metadata": {},
   "outputs": [],
   "source": [
    "include(PATH_TO_GAPSE * \"src/GaPSE.jl\");"
   ]
  },
  {
   "cell_type": "code",
   "execution_count": null,
   "id": "f2852160-d303-4a9f-8343-efa1c4582f2d",
   "metadata": {},
   "outputs": [],
   "source": [
    "using DelimitedFiles, Plots, Dierckx, SpecialFunctions\n",
    "using Printf, LaTeXStrings, Turing, StatsPlots, GridInterpolations"
   ]
  },
  {
   "cell_type": "code",
   "execution_count": null,
   "id": "ab8d6ef6-495b-4f47-b5d6-5b83adaab22a",
   "metadata": {},
   "outputs": [],
   "source": [
    "z_min, z_max, θ_max = 0.05, 0.20, π / 2.0\n",
    "#z_min, z_max, θ_max = 1.0, 1.5, π / 2.0\n",
    "\n",
    "WFI_opts = Dict(\n",
    "    :ss_start => 0.0, :ss_stop => 0.0, \n",
    "    :ss_step => 50, :llim => 0.0, :rlim => Inf, \n",
    "    :rtol => 5e-2, :atol => 0.0, :N => 1000, #:pr => true,\n",
    ")\n",
    "\n",
    "FILE_F_MAP = PATH_TO_GAPSE * \"data/F_REFERENCE_pi2.txt\"\n",
    "FILE_PS = PATH_TO_GAPSE * \"test/datatest/file_pk.txt\"\n",
    "FILE_BACKGROUND = PATH_TO_GAPSE * \"test/datatest/WideA_ZA_background.dat\"\n",
    "\n",
    "params = GaPSE.CosmoParams(z_min, z_max, θ_max;\n",
    "    Ω_b = 0.0489, Ω_cdm = 0.251020, h_0 = 0.70, s_lim=1e-2,\n",
    "    s_b = 0.0, 𝑓_evo = 0.0, b = 1.0,\n",
    "    IPS_opts = Dict(\n",
    "        :fit_left_min => 1e-6, :fit_left_max => 3e-6,\n",
    "        :fit_right_min => 1e1, :fit_right_max => 2e1),\n",
    "    IPSTools_opts = Dict(\n",
    "        :N => 1024, :fit_min => 0.05, :fit_max => 0.5, \n",
    "        :con => true, :k_min => 1e-8, :k_max => 10.0),\n",
    "    WFI_opts = WFI_opts,\n",
    ");"
   ]
  },
  {
   "cell_type": "code",
   "execution_count": null,
   "id": "e339130d-4c29-4a1c-9c1a-ceab70689c10",
   "metadata": {},
   "outputs": [],
   "source": [
    "#=\n",
    "new_calc_μs = union([μ for μ in -1.0:0.01:(-0.9)], \n",
    "        [μ for μ in -0.9:0.05:0.9], \n",
    "        [μ for μ in 0.9:0.01:1.0]);\n",
    "FILE_IF_MAP = PATH_TO_GAPSE*\"data/IntF_pi2_z115.txt\"\n",
    "\n",
    "GaPSE.print_map_IntegratedF(\n",
    "    FILE_F_MAP, FILE_IF_MAP, \n",
    "    z_min, z_max, new_calc_μs, FILE_BACKGROUND;\n",
    "    trap = true, WFI_opts...\n",
    ")\n",
    "=#"
   ]
  },
  {
   "cell_type": "code",
   "execution_count": null,
   "id": "4d371253-88c1-4681-a56f-b98a3c391ddb",
   "metadata": {},
   "outputs": [],
   "source": [
    "#FILE_IF_MAP = PATH_TO_GAPSE*\"data/IntF_pi2_z115.txt\"\n",
    "FILE_IF_MAP = PATH_TO_GAPSE*\"data/IntegrF_REFERENCE_pi2_z005020.txt\"\n",
    "cosmo = GaPSE.Cosmology(params, FILE_BACKGROUND, FILE_PS, FILE_F_MAP, FILE_IF_MAP);\n",
    "\n",
    "GaPSE.parameters_used(stdout, cosmo)"
   ]
  },
  {
   "cell_type": "markdown",
   "id": "cb4cba59-8766-46c0-b1bf-73166f646053",
   "metadata": {},
   "source": [
    "### noF L=0"
   ]
  },
  {
   "cell_type": "code",
   "execution_count": null,
   "id": "3686d933-6bb1-49ff-b1b1-60b9bac037dc",
   "metadata": {},
   "outputs": [],
   "source": [
    "GaPSE.print_map_ξ_GNC_multipole(\n",
    "    cosmo, DIR*\"map_xis_Newtonian_L0_noF.txt\", \n",
    "    \"auto_newton\",\n",
    "    10 .^ range(0, log10(2*cosmo.s_max), length = 500);\n",
    "    use_windows = false, enhancer = 1e8, L=0,\n",
    "    N_μs = 200, μ_atol = 0.0, μ_rtol = 1e-2, trap = true);"
   ]
  },
  {
   "cell_type": "code",
   "execution_count": null,
   "id": "cb26864f-d877-4f14-a36f-9d7aaf59921b",
   "metadata": {},
   "outputs": [],
   "source": [
    "GaPSE.print_map_ξ_GNC_multipole(\n",
    "    cosmo, DIR*\"map_xis_Lensing_L0_noF.txt\", \n",
    "    \"auto_lensing\",\n",
    "    10 .^ range(0, log10(2*cosmo.s_max), length = 500);\n",
    "    use_windows = false, enhancer = 1e8, L=0,\n",
    "    N_μs = 200, μ_atol = 0.0, μ_rtol = 1e-2, trap = true, N_χs_2 = 60);"
   ]
  },
  {
   "cell_type": "code",
   "execution_count": null,
   "id": "4c6bb031-5b89-49d1-b0f8-0bfa66c888e4",
   "metadata": {},
   "outputs": [],
   "source": [
    "GaPSE.print_map_sum_ξ_GNC_multipole(\n",
    "    cosmo, DIR*\"map_sum_xis_GNC_L0_noF.txt\", \n",
    "    10 .^ range(0, log10(2*cosmo.s_max), length = 500);\n",
    "    single = true, use_windows = false, enhancer = 1e8, L=0,\n",
    "    N_μs = 200, μ_atol = 0.0, μ_rtol = 1e-2, trap = true, \n",
    "    N_χs = 100, N_χs_2 = 60);"
   ]
  },
  {
   "cell_type": "markdown",
   "id": "dceea1be-64d2-4e81-b946-4b70ebd1da42",
   "metadata": {},
   "source": [
    "### noF L=2"
   ]
  },
  {
   "cell_type": "code",
   "execution_count": null,
   "id": "3e75e765-ef2e-40d3-b68c-1226959bc45b",
   "metadata": {},
   "outputs": [],
   "source": [
    "GaPSE.print_map_ξ_GNC_multipole(\n",
    "    cosmo, DIR*\"map_xis_Newtonian_L2_noF.txt\", \n",
    "    \"auto_newton\",\n",
    "    10 .^ range(0, log10(2*cosmo.s_max), length = 500);\n",
    "    use_windows = false, enhancer = 1e8, L=2,\n",
    "    N_μs = 200, μ_atol = 0.0, μ_rtol = 1e-2, trap = true);"
   ]
  },
  {
   "cell_type": "code",
   "execution_count": null,
   "id": "ab2396e1-3c82-46c9-a0a9-7401e2090eb0",
   "metadata": {},
   "outputs": [],
   "source": [
    "GaPSE.print_map_ξ_GNC_multipole(\n",
    "    cosmo, DIR*\"map_xis_Lensing_L2_noF.txt\", \n",
    "    \"auto_lensing\",\n",
    "    10 .^ range(0, log10(2*cosmo.s_max), length = 500);\n",
    "    use_windows = false, enhancer = 1e8, L=2,\n",
    "    N_μs = 200, μ_atol = 0.0, μ_rtol = 1e-2, trap = true, N_χs_2 = 60);"
   ]
  },
  {
   "cell_type": "code",
   "execution_count": null,
   "id": "abbaef05-91f9-41b7-a73f-a35dbb130729",
   "metadata": {},
   "outputs": [],
   "source": [
    "GaPSE.print_map_sum_ξ_GNC_multipole(\n",
    "    cosmo, DIR*\"map_sum_xis_GNC_L2_noF.txt\", \n",
    "    10 .^ range(0, log10(2*cosmo.s_max), length = 500);\n",
    "    single = true, use_windows = false, enhancer = 1e8, L=2,\n",
    "    N_μs = 200, μ_atol = 0.0, μ_rtol = 1e-2, trap = true, \n",
    "    N_χs = 100, N_χs_2 = 60);"
   ]
  },
  {
   "cell_type": "markdown",
   "id": "7362ef3d-54f6-49e9-9a9c-8f0958a81e24",
   "metadata": {},
   "source": [
    "### noF L=4"
   ]
  },
  {
   "cell_type": "code",
   "execution_count": null,
   "id": "25b726b0-d7de-4b1c-ace6-fe4d1dbc6306",
   "metadata": {},
   "outputs": [],
   "source": [
    "GaPSE.print_map_ξ_GNC_multipole(\n",
    "    cosmo, DIR*\"map_xis_Newtonian_L4_noF.txt\", \n",
    "    \"auto_newton\",\n",
    "    10 .^ range(0, log10(2*cosmo.s_max), length = 500);\n",
    "    use_windows = false, enhancer = 1e8, L=4,\n",
    "    N_μs = 200, μ_atol = 0.0, μ_rtol = 1e-2, trap = true);"
   ]
  },
  {
   "cell_type": "code",
   "execution_count": null,
   "id": "0a7ec0fc-7b3a-482d-b641-c00fef0e910d",
   "metadata": {},
   "outputs": [],
   "source": [
    "GaPSE.print_map_ξ_GNC_multipole(\n",
    "    cosmo, DIR*\"map_xis_Lensing_L4_noF.txt\", \n",
    "    \"auto_lensing\",\n",
    "    10 .^ range(0, log10(2*cosmo.s_max), length = 500);\n",
    "    use_windows = false, enhancer = 1e8, L=4,\n",
    "    N_μs = 200, μ_atol = 0.0, μ_rtol = 1e-2, trap = true, N_χs_2 = 60);"
   ]
  },
  {
   "cell_type": "code",
   "execution_count": null,
   "id": "ee8eeb81-5cc6-4be5-a5ff-2e0e2e5d14a5",
   "metadata": {},
   "outputs": [],
   "source": [
    "GaPSE.print_map_sum_ξ_GNC_multipole(\n",
    "    cosmo, DIR*\"map_sum_xis_GNC_L4_noF.txt\", \n",
    "    10 .^ range(0, log10(2*cosmo.s_max), length = 500);\n",
    "    single = true, use_windows = false, enhancer = 1e8, L=4,\n",
    "    N_μs = 200, μ_atol = 0.0, μ_rtol = 1e-2, trap = true, \n",
    "    N_χs = 100, N_χs_2 = 60);"
   ]
  },
  {
   "cell_type": "markdown",
   "id": "eccc8792-cb62-4952-8bf9-ab2348886c10",
   "metadata": {
    "tags": []
   },
   "source": [
    "### with F L=0"
   ]
  },
  {
   "cell_type": "code",
   "execution_count": null,
   "id": "37cda671-8bd3-4b35-8b95-9458e64ea8fa",
   "metadata": {},
   "outputs": [],
   "source": [
    "GaPSE.print_map_ξ_GNC_multipole(\n",
    "    cosmo, DIR*\"map_xis_Newtonian_L0_withF.txt\", \n",
    "    \"auto_newton\",\n",
    "    10 .^ range(0, log10(2*cosmo.s_max), length = 500);\n",
    "    use_windows = true, enhancer = 1e8, L=0,\n",
    "    N_μs = 200, μ_atol = 0.0, μ_rtol = 1e-2, trap = true);"
   ]
  },
  {
   "cell_type": "code",
   "execution_count": null,
   "id": "8a1b255f-7bdd-4e54-985d-6ea9c59b7cd9",
   "metadata": {},
   "outputs": [],
   "source": [
    "GaPSE.print_map_ξ_GNC_multipole(\n",
    "    cosmo, DIR*\"map_xis_Lensing_L0_withF.txt\", \n",
    "    \"auto_lensing\",\n",
    "    10 .^ range(0, log10(2*cosmo.s_max), length = 500);\n",
    "    use_windows = true, enhancer = 1e8, L=0,\n",
    "    N_μs = 200, μ_atol = 0.0, μ_rtol = 1e-2, trap = true, N_χs_2 = 60);"
   ]
  },
  {
   "cell_type": "code",
   "execution_count": null,
   "id": "2c296b5c-42fa-4f62-a5ea-a1a455fb33a8",
   "metadata": {},
   "outputs": [],
   "source": [
    "GaPSE.print_map_sum_ξ_GNC_multipole(\n",
    "    cosmo, DIR*\"map_sum_xis_GNC_L0_withF.txt\", \n",
    "    10 .^ range(0, log10(2*cosmo.s_max), length = 500);\n",
    "    single = true, use_windows = true, enhancer = 1e8, L=0,\n",
    "    N_μs = 200, μ_atol = 0.0, μ_rtol = 1e-2, trap = true, \n",
    "    N_χs = 100, N_χs_2 = 60);"
   ]
  },
  {
   "cell_type": "markdown",
   "id": "bfcee0bc-bb13-4759-905f-40190871fac0",
   "metadata": {
    "tags": []
   },
   "source": [
    "### with F L=2"
   ]
  },
  {
   "cell_type": "code",
   "execution_count": null,
   "id": "fba7ed74-40dc-45b4-a669-55a632d542dd",
   "metadata": {},
   "outputs": [],
   "source": [
    "GaPSE.print_map_ξ_GNC_multipole(\n",
    "    cosmo, DIR*\"map_xis_Newtonian_L2_withF.txt\", \n",
    "    \"auto_newton\",\n",
    "    10 .^ range(0, log10(2*cosmo.s_max), length = 500);\n",
    "    use_windows = true, enhancer = 1e8, L=2,\n",
    "    N_μs = 200, μ_atol = 0.0, μ_rtol = 1e-2, trap = true);"
   ]
  },
  {
   "cell_type": "code",
   "execution_count": null,
   "id": "67bbf7d2-934c-4009-b0f0-ae798b62d6c6",
   "metadata": {},
   "outputs": [],
   "source": [
    "GaPSE.print_map_ξ_GNC_multipole(\n",
    "    cosmo, DIR*\"map_xis_Lensing_L2_withF.txt\", \n",
    "    \"auto_lensing\",\n",
    "    10 .^ range(0, log10(2*cosmo.s_max), length = 500);\n",
    "    use_windows = true, enhancer = 1e8, L=2,\n",
    "    N_μs = 200, μ_atol = 0.0, μ_rtol = 1e-2, trap = true, N_χs_2 = 60);"
   ]
  },
  {
   "cell_type": "code",
   "execution_count": null,
   "id": "f3933ff1-35c3-439d-aac1-19778675c42c",
   "metadata": {},
   "outputs": [],
   "source": [
    "GaPSE.print_map_sum_ξ_GNC_multipole(\n",
    "    cosmo, DIR*\"map_sum_xis_GNC_L2_withF.txt\", \n",
    "    10 .^ range(0, log10(2*cosmo.s_max), length = 500);\n",
    "    single = true, use_windows = true, enhancer = 1e8, L=2,\n",
    "    N_μs = 200, μ_atol = 0.0, μ_rtol = 1e-2, trap = true, \n",
    "    N_χs = 100, N_χs_2 = 60);"
   ]
  },
  {
   "cell_type": "code",
   "execution_count": null,
   "id": "2738b85f-2687-4486-8357-e2428ff41bbc",
   "metadata": {},
   "outputs": [],
   "source": []
  },
  {
   "cell_type": "code",
   "execution_count": null,
   "id": "ecf4b3e8-1c6f-4b34-a7db-3ecb52ca1580",
   "metadata": {},
   "outputs": [],
   "source": []
  }
 ],
 "metadata": {
  "kernelspec": {
   "display_name": "Julia 1.7.3",
   "language": "julia",
   "name": "julia-1.7"
  },
  "language_info": {
   "file_extension": ".jl",
   "mimetype": "application/julia",
   "name": "julia",
   "version": "1.7.3"
  }
 },
 "nbformat": 4,
 "nbformat_minor": 5
}
