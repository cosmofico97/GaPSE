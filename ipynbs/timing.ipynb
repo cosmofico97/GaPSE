{
 "cells": [
  {
   "cell_type": "code",
   "execution_count": 1,
   "id": "2732c987-bd61-4765-b86e-8ced23704835",
   "metadata": {},
   "outputs": [],
   "source": [
    "DIR = \"timing/\";"
   ]
  },
  {
   "cell_type": "markdown",
   "id": "f08c3965-2bf2-43e7-9457-e115e9f5e460",
   "metadata": {},
   "source": [
    "|-----------|\n",
    "\n",
    "\n"
   ]
  },
  {
   "cell_type": "markdown",
   "id": "813979be-16b1-4b76-836d-9986173e80dc",
   "metadata": {
    "jp-MarkdownHeadingCollapsed": true,
    "tags": []
   },
   "source": [
    "### Basic Framework"
   ]
  },
  {
   "cell_type": "code",
   "execution_count": 2,
   "id": "f3bc8367-b71d-4db5-a791-a188cd20ce7a",
   "metadata": {},
   "outputs": [],
   "source": [
    "PATH_TO_GAPSE = \"../\";"
   ]
  },
  {
   "cell_type": "code",
   "execution_count": 3,
   "id": "82982c7e-6286-44a8-88ad-c76fed3a35ef",
   "metadata": {},
   "outputs": [],
   "source": [
    "include(PATH_TO_GAPSE * \"src/GaPSE.jl\");"
   ]
  },
  {
   "cell_type": "code",
   "execution_count": 4,
   "id": "f2852160-d303-4a9f-8343-efa1c4582f2d",
   "metadata": {},
   "outputs": [],
   "source": [
    "using DelimitedFiles, Plots, Dierckx, SpecialFunctions\n",
    "using Printf, LaTeXStrings, Turing, StatsPlots, GridInterpolations"
   ]
  },
  {
   "cell_type": "code",
   "execution_count": 5,
   "id": "ab8d6ef6-495b-4f47-b5d6-5b83adaab22a",
   "metadata": {},
   "outputs": [],
   "source": [
    "z_min, z_max, θ_max = 0.05, 0.20, π / 2.0\n",
    "#z_min, z_max, θ_max = 1.0, 1.5, π / 2.0\n",
    "\n",
    "WFI_opts = Dict(\n",
    "    :ss_start => 0.0, :ss_stop => 0.0, \n",
    "    :ss_step => 50, :llim => 0.0, :rlim => Inf, \n",
    "    :rtol => 5e-2, :atol => 0.0, :N => 1000, #:pr => true,\n",
    ")\n",
    "\n",
    "FILE_F_MAP = PATH_TO_GAPSE * \"data/F_REFERENCE_pi2.txt\"\n",
    "FILE_PS = PATH_TO_GAPSE * \"test/datatest/file_pk.txt\"\n",
    "FILE_BACKGROUND = PATH_TO_GAPSE * \"test/datatest/WideA_ZA_background.dat\"\n",
    "\n",
    "params = GaPSE.CosmoParams(z_min, z_max, θ_max;\n",
    "    Ω_b = 0.0489, Ω_cdm = 0.251020, h_0 = 0.70, s_lim=1e-2,\n",
    "    s_b = 0.0, 𝑓_evo = 0.0, b = 1.0,\n",
    "    IPS_opts = Dict(\n",
    "        :fit_left_min => 1e-6, :fit_left_max => 3e-6,\n",
    "        :fit_right_min => 1e1, :fit_right_max => 2e1),\n",
    "    IPSTools_opts = Dict(\n",
    "        :N => 1024, :fit_min => 0.05, :fit_max => 0.5, \n",
    "        :con => true, :k_min => 1e-8, :k_max => 10.0),\n",
    "    WFI_opts = WFI_opts,\n",
    ");"
   ]
  },
  {
   "cell_type": "code",
   "execution_count": 6,
   "id": "e339130d-4c29-4a1c-9c1a-ceab70689c10",
   "metadata": {},
   "outputs": [],
   "source": [
    "#=\n",
    "new_calc_μs = union([μ for μ in -1.0:0.01:(-0.9)], \n",
    "        [μ for μ in -0.9:0.05:0.9], \n",
    "        [μ for μ in 0.9:0.01:1.0]);\n",
    "FILE_IF_MAP = PATH_TO_GAPSE*\"data/IntF_pi2_z115.txt\"\n",
    "\n",
    "GaPSE.print_map_IntegratedF(\n",
    "    FILE_F_MAP, FILE_IF_MAP, \n",
    "    z_min, z_max, new_calc_μs, FILE_BACKGROUND;\n",
    "    trap = true, WFI_opts...\n",
    ")\n",
    "=#"
   ]
  },
  {
   "cell_type": "code",
   "execution_count": 7,
   "id": "4d371253-88c1-4681-a56f-b98a3c391ddb",
   "metadata": {},
   "outputs": [
    {
     "name": "stdout",
     "output_type": "stream",
     "text": [
      "###############\n",
      "#    GaPSE    #\n",
      "############### \n",
      "#\n",
      "# The Cosmology considered had the following paremeters:\n",
      "# \n",
      "# - Matter Power Spectrum input file: \"../test/datatest/file_pk.txt\"\n",
      "# - Background data input file: \"../test/datatest/WideA_ZA_background.dat\"\n",
      "# - F window function input file: \"../data/F_REFERENCE_pi2.txt\"\n",
      "# - Integrated F window function input file: \"../data/IntegrF_REFERENCE_pi2_z005020.txt\"\n",
      "#\n",
      "# - Basic CosmoParams considered: \n",
      "#\t z_min = 0.05 \t z_max = 0.2\n",
      "#\t θ_max = 1.5707963267948966 [rad] \t h_0 = 0.7\n",
      "#\t Ω_b = 0.0489 \t Ω_cdm = 0.25102 \t Ω_M0 = 0.29992\n",
      "#\t b = 1.0 \t f_evo = 0.0 \t s_b = 0.0\n",
      "#\n",
      "# - CosmoParams about the Input Power Spectrum: \n",
      "#\t fit_left_min = 1.0e-6 \t fit_right_min = 10.0 \t \n",
      "#\t fit_left_max = 3.0e-6 \t fit_right_max = 20.0 \t \n",
      "#\n",
      "# - CosmoParams about the Input Power Spectrum Tools: \n",
      "#\t k_max = 10.0 \t fit_max = 0.5 \t N = 1024 \t \n",
      "#\t con = true \t k_min = 1.0e-8 \t fit_min = 0.05 \t \n",
      "#\n",
      "# - CosmoParams about the Integrated Window Function F: \n",
      "#\t ss_step = 50 \t N = 1000 \t rtol = 0.05 \t \n",
      "#\t llim = 0.0 \t atol = 0.0 \t rlim = Inf \t \n",
      "#\t ss_stop = 0.0 \t trap = true \t ss_start = 0.0 \t \n",
      "#\n",
      "# - Computed quantities: \n",
      "# \t effective redshift z_eff = 0.15045636096023224 \n",
      "# \t comoving s_min = 148.1920001465757 Mpc/h_0\n",
      "# \t comoving s_max = 571.7022420258767 Mpc/h_0\n",
      "# \t comoving s_eff = 435.3747095690664 Mpc/h_0\n",
      "# \t Volume of the survey V_survey = 3.845366167995967e8 Mpc^3/h_0^3\n",
      "# \t σ_0 = 15.593462966741178\n",
      "# \t σ_1 = 15.074895881392285\n",
      "# \t σ_2 = 100.85852368830226\n",
      "# \t σ_3 = 3735.1226181519773\n",
      "# \t (where σ_i = \\int_{k_{min}}^{k_{max}}\\frac{dq}{2 π^2} q^{2-i} P(q))\n",
      "# \n"
     ]
    }
   ],
   "source": [
    "#FILE_IF_MAP = PATH_TO_GAPSE*\"data/IntF_pi2_z115.txt\"\n",
    "FILE_IF_MAP = PATH_TO_GAPSE*\"data/IntegrF_REFERENCE_pi2_z005020.txt\"\n",
    "cosmo = GaPSE.Cosmology(params, FILE_BACKGROUND, FILE_PS, FILE_F_MAP, FILE_IF_MAP);\n",
    "\n",
    "GaPSE.parameters_used(stdout, cosmo)"
   ]
  },
  {
   "cell_type": "markdown",
   "id": "cb4cba59-8766-46c0-b1bf-73166f646053",
   "metadata": {},
   "source": [
    "### noF L=0"
   ]
  },
  {
   "cell_type": "code",
   "execution_count": 14,
   "id": "3686d933-6bb1-49ff-b1b1-60b9bac037dc",
   "metadata": {},
   "outputs": [
    {
     "name": "stderr",
     "output_type": "stream",
     "text": [
      "\u001b[32mauto_newton, L=0: 100%|█████████████████████████████████| Time: 0:00:01\u001b[39m\n"
     ]
    },
    {
     "name": "stdout",
     "output_type": "stream",
     "text": [
      "\n",
      "time needed for map_ξ_GNC_multipole for auto_newton [in s] = 1.18947 \n",
      "\n"
     ]
    }
   ],
   "source": [
    "GaPSE.print_map_ξ_GNC_multipole(\n",
    "    cosmo, DIR*\"map_xis_Newtonian_L0_noF.txt\", \n",
    "    \"auto_newton\",\n",
    "    10 .^ range(0, log10(2*cosmo.s_max), length = 500);\n",
    "    use_windows = false, enhancer = 1e8, L=0,\n",
    "    N_μs = 200, μ_atol = 0.0, μ_rtol = 1e-2, trap = true);"
   ]
  },
  {
   "cell_type": "code",
   "execution_count": 17,
   "id": "cb26864f-d877-4f14-a36f-9d7aaf59921b",
   "metadata": {},
   "outputs": [
    {
     "name": "stderr",
     "output_type": "stream",
     "text": [
      "\u001b[32mauto_lensing, L=0: 100%|████████████████████████████████| Time: 0:09:35\u001b[39m\n"
     ]
    },
    {
     "name": "stdout",
     "output_type": "stream",
     "text": [
      "\n",
      "time needed for map_ξ_GNC_multipole for auto_lensing [in s] = 575.86794 \n",
      "\n"
     ]
    }
   ],
   "source": [
    "GaPSE.print_map_ξ_GNC_multipole(\n",
    "    cosmo, DIR*\"map_xis_Lensing_L0_noF.txt\", \n",
    "    \"auto_lensing\",\n",
    "    10 .^ range(0, log10(2*cosmo.s_max), length = 500);\n",
    "    use_windows = false, enhancer = 1e8, L=0,\n",
    "    N_μs = 200, μ_atol = 0.0, μ_rtol = 1e-2, trap = true, N_χs_2 = 60);"
   ]
  },
  {
   "cell_type": "code",
   "execution_count": 8,
   "id": "4c6bb031-5b89-49d1-b0f8-0bfa66c888e4",
   "metadata": {},
   "outputs": [
    {
     "name": "stderr",
     "output_type": "stream",
     "text": [
      "\u001b[32mauto_newton, L=0: 100%|█████████████████████████████████| Time: 0:00:01\u001b[39m\n",
      "\u001b[32mauto_doppler, L=0: 100%|████████████████████████████████| Time: 0:00:00\u001b[39m\n",
      "\u001b[32mauto_lensing, L=0: 100%|████████████████████████████████| Time: 0:09:17\u001b[39m\n",
      "\u001b[32mauto_localgp, L=0: 100%|████████████████████████████████| Time: 0:00:00\u001b[39m\n",
      "\u001b[32mauto_integratedgp, L=0: 100%|███████████████████████████| Time: 0:03:23\u001b[39m\n",
      "\u001b[32mnewton_doppler, L=0: 100%|██████████████████████████████| Time: 0:00:00\u001b[39m\n",
      "\u001b[32mdoppler_newton, L=0: 100%|██████████████████████████████| Time: 0:00:00\u001b[39m\n",
      "\u001b[32mnewton_lensing, L=0: 100%|██████████████████████████████| Time: 0:00:27\u001b[39m\n",
      "\u001b[32mlensing_newton, L=0: 100%|██████████████████████████████| Time: 0:00:26\u001b[39m\n",
      "\u001b[32mnewton_localgp, L=0: 100%|██████████████████████████████| Time: 0:00:00\u001b[39m\n",
      "\u001b[32mlocalgp_newton, L=0: 100%|██████████████████████████████| Time: 0:00:00\u001b[39m\n",
      "\u001b[32mnewton_integratedgp, L=0: 100%|█████████████████████████| Time: 0:00:28\u001b[39m\n",
      "\u001b[32mintegratedgp_newton, L=0: 100%|█████████████████████████| Time: 0:00:28\u001b[39m\n",
      "\u001b[32mlensing_doppler, L=0: 100%|█████████████████████████████| Time: 0:00:29\u001b[39m\n",
      "\u001b[32mdoppler_lensing, L=0: 100%|█████████████████████████████| Time: 0:00:28\u001b[39m\n",
      "\u001b[32mdoppler_localgp, L=0: 100%|█████████████████████████████| Time: 0:00:00\u001b[39m\n",
      "\u001b[32mlocalgp_doppler, L=0: 100%|█████████████████████████████| Time: 0:00:00\u001b[39m\n",
      "\u001b[32mdoppler_integratedgp, L=0: 100%|████████████████████████| Time: 0:00:27\u001b[39m\n",
      "\u001b[32mintegratedgp_doppler, L=0: 100%|████████████████████████| Time: 0:00:27\u001b[39m\n",
      "\u001b[32mlensing_localgp, L=0: 100%|█████████████████████████████| Time: 0:00:27\u001b[39m\n",
      "\u001b[32mlocalgp_lensing, L=0: 100%|█████████████████████████████| Time: 0:00:29\u001b[39m\n",
      "\u001b[32mlensing_integratedgp, L=0: 100%|████████████████████████| Time: 0:04:40\u001b[39m\n",
      "\u001b[32mintegratedgp_lensing, L=0: 100%|████████████████████████| Time: 0:04:41\u001b[39m\n",
      "\u001b[32mlocalgp_integratedgp, L=0: 100%|████████████████████████| Time: 0:00:21\u001b[39m\n",
      "\u001b[32mintegratedgp_localgp, L=0: 100%|████████████████████████| Time: 0:00:20\u001b[39m\n"
     ]
    },
    {
     "name": "stdout",
     "output_type": "stream",
     "text": [
      "\n",
      "time needed for map_sum_ξ_GNC_multipole [in s] = 1654.97374 \n",
      "\n"
     ]
    }
   ],
   "source": [
    "GaPSE.print_map_sum_ξ_GNC_multipole(\n",
    "    cosmo, DIR*\"map_sum_xis_GNC_L0_noF.txt\", \n",
    "    10 .^ range(0, log10(2*cosmo.s_max), length = 500);\n",
    "    single = true, use_windows = false, enhancer = 1e8, L=0,\n",
    "    N_μs = 200, μ_atol = 0.0, μ_rtol = 1e-2, trap = true, \n",
    "    N_χs = 100, N_χs_2 = 60);"
   ]
  },
  {
   "cell_type": "markdown",
   "id": "dceea1be-64d2-4e81-b946-4b70ebd1da42",
   "metadata": {},
   "source": [
    "### noF L=2"
   ]
  },
  {
   "cell_type": "code",
   "execution_count": 12,
   "id": "3e75e765-ef2e-40d3-b68c-1226959bc45b",
   "metadata": {},
   "outputs": [
    {
     "name": "stderr",
     "output_type": "stream",
     "text": [
      "\u001b[32mauto_newton, L=2: 100%|█████████████████████████████████| Time: 0:00:00\u001b[39m\n"
     ]
    },
    {
     "name": "stdout",
     "output_type": "stream",
     "text": [
      "\n",
      "time needed for map_ξ_GNC_multipole for auto_newton [in s] = 0.45877 \n",
      "\n"
     ]
    }
   ],
   "source": [
    "GaPSE.print_map_ξ_GNC_multipole(\n",
    "    cosmo, DIR*\"map_xis_Newtonian_L2_noF.txt\", \n",
    "    \"auto_newton\",\n",
    "    10 .^ range(0, log10(2*cosmo.s_max), length = 500);\n",
    "    use_windows = false, enhancer = 1e8, L=2,\n",
    "    N_μs = 200, μ_atol = 0.0, μ_rtol = 1e-2, trap = true);"
   ]
  },
  {
   "cell_type": "code",
   "execution_count": 13,
   "id": "ab2396e1-3c82-46c9-a0a9-7401e2090eb0",
   "metadata": {},
   "outputs": [
    {
     "name": "stderr",
     "output_type": "stream",
     "text": [
      "\u001b[32mauto_lensing, L=2: 100%|████████████████████████████████| Time: 0:09:23\u001b[39m\n"
     ]
    },
    {
     "name": "stdout",
     "output_type": "stream",
     "text": [
      "\n",
      "time needed for map_ξ_GNC_multipole for auto_lensing [in s] = 563.94554 \n",
      "\n"
     ]
    }
   ],
   "source": [
    "GaPSE.print_map_ξ_GNC_multipole(\n",
    "    cosmo, DIR*\"map_xis_Lensing_L2_noF.txt\", \n",
    "    \"auto_lensing\",\n",
    "    10 .^ range(0, log10(2*cosmo.s_max), length = 500);\n",
    "    use_windows = false, enhancer = 1e8, L=2,\n",
    "    N_μs = 200, μ_atol = 0.0, μ_rtol = 1e-2, trap = true, N_χs_2 = 60);"
   ]
  },
  {
   "cell_type": "code",
   "execution_count": 14,
   "id": "abbaef05-91f9-41b7-a73f-a35dbb130729",
   "metadata": {},
   "outputs": [
    {
     "name": "stderr",
     "output_type": "stream",
     "text": [
      "\u001b[32mauto_newton, L=2: 100%|█████████████████████████████████| Time: 0:00:00\u001b[39m\n",
      "\u001b[32mauto_doppler, L=2: 100%|████████████████████████████████| Time: 0:00:00\u001b[39m\n",
      "\u001b[32mauto_lensing, L=2: 100%|████████████████████████████████| Time: 0:09:09\u001b[39m\n",
      "\u001b[32mauto_localgp, L=2: 100%|████████████████████████████████| Time: 0:00:00\u001b[39m\n",
      "\u001b[32mauto_integratedgp, L=2: 100%|███████████████████████████| Time: 0:03:28\u001b[39m\n",
      "\u001b[32mnewton_doppler, L=2: 100%|██████████████████████████████| Time: 0:00:00\u001b[39m\n",
      "\u001b[32mdoppler_newton, L=2: 100%|██████████████████████████████| Time: 0:00:00\u001b[39m\n",
      "\u001b[32mnewton_lensing, L=2: 100%|██████████████████████████████| Time: 0:00:26\u001b[39m\n",
      "\u001b[32mlensing_newton, L=2: 100%|██████████████████████████████| Time: 0:00:26\u001b[39m\n",
      "\u001b[32mnewton_localgp, L=2: 100%|██████████████████████████████| Time: 0:00:00\u001b[39m\n",
      "\u001b[32mlocalgp_newton, L=2: 100%|██████████████████████████████| Time: 0:00:00\u001b[39m\n",
      "\u001b[32mnewton_integratedgp, L=2: 100%|█████████████████████████| Time: 0:00:28\u001b[39m\n",
      "\u001b[32mintegratedgp_newton, L=2: 100%|█████████████████████████| Time: 0:00:27\u001b[39m\n",
      "\u001b[32mlensing_doppler, L=2: 100%|█████████████████████████████| Time: 0:00:28\u001b[39m\n",
      "\u001b[32mdoppler_lensing, L=2: 100%|█████████████████████████████| Time: 0:00:28\u001b[39m\n",
      "\u001b[32mdoppler_localgp, L=2: 100%|█████████████████████████████| Time: 0:00:00\u001b[39m\n",
      "\u001b[32mlocalgp_doppler, L=2: 100%|█████████████████████████████| Time: 0:00:00\u001b[39m\n",
      "\u001b[32mdoppler_integratedgp, L=2: 100%|████████████████████████| Time: 0:00:28\u001b[39m\n",
      "\u001b[32mintegratedgp_doppler, L=2: 100%|████████████████████████| Time: 0:00:28\u001b[39m\n",
      "\u001b[32mlensing_localgp, L=2: 100%|█████████████████████████████| Time: 0:00:27\u001b[39m\n",
      "\u001b[32mlocalgp_lensing, L=2: 100%|█████████████████████████████| Time: 0:00:27\u001b[39m\n",
      "\u001b[32mlensing_integratedgp, L=2: 100%|████████████████████████| Time: 0:04:32\u001b[39m\n",
      "\u001b[32mintegratedgp_lensing, L=2: 100%|████████████████████████| Time: 0:04:35\u001b[39m\n",
      "\u001b[32mlocalgp_integratedgp, L=2: 100%|████████████████████████| Time: 0:00:21\u001b[39m\n",
      "\u001b[32mintegratedgp_localgp, L=2: 100%|████████████████████████| Time: 0:00:19\u001b[39m\n"
     ]
    },
    {
     "name": "stdout",
     "output_type": "stream",
     "text": [
      "\n",
      "time needed for map_sum_ξ_GNC_multipole [in s] = 1627.55057 \n",
      "\n"
     ]
    }
   ],
   "source": [
    "GaPSE.print_map_sum_ξ_GNC_multipole(\n",
    "    cosmo, DIR*\"map_sum_xis_GNC_L2_noF.txt\", \n",
    "    10 .^ range(0, log10(2*cosmo.s_max), length = 500);\n",
    "    single = true, use_windows = false, enhancer = 1e8, L=2,\n",
    "    N_μs = 200, μ_atol = 0.0, μ_rtol = 1e-2, trap = true, \n",
    "    N_χs = 100, N_χs_2 = 60);"
   ]
  },
  {
   "cell_type": "markdown",
   "id": "7362ef3d-54f6-49e9-9a9c-8f0958a81e24",
   "metadata": {},
   "source": [
    "### noF L=4"
   ]
  },
  {
   "cell_type": "code",
   "execution_count": 18,
   "id": "25b726b0-d7de-4b1c-ace6-fe4d1dbc6306",
   "metadata": {},
   "outputs": [
    {
     "name": "stderr",
     "output_type": "stream",
     "text": [
      "\u001b[32mauto_newton, L=4: 100%|█████████████████████████████████| Time: 0:00:00\u001b[39m\n"
     ]
    },
    {
     "name": "stdout",
     "output_type": "stream",
     "text": [
      "\n",
      "time needed for map_ξ_GNC_multipole for auto_newton [in s] = 0.46736 \n",
      "\n"
     ]
    }
   ],
   "source": [
    "GaPSE.print_map_ξ_GNC_multipole(\n",
    "    cosmo, DIR*\"map_xis_Newtonian_L4_noF.txt\", \n",
    "    \"auto_newton\",\n",
    "    10 .^ range(0, log10(2*cosmo.s_max), length = 500);\n",
    "    use_windows = false, enhancer = 1e8, L=4,\n",
    "    N_μs = 200, μ_atol = 0.0, μ_rtol = 1e-2, trap = true);"
   ]
  },
  {
   "cell_type": "code",
   "execution_count": 19,
   "id": "0a7ec0fc-7b3a-482d-b641-c00fef0e910d",
   "metadata": {},
   "outputs": [
    {
     "name": "stderr",
     "output_type": "stream",
     "text": [
      "\u001b[32mauto_lensing, L=4: 100%|████████████████████████████████| Time: 0:09:33\u001b[39m\n"
     ]
    },
    {
     "name": "stdout",
     "output_type": "stream",
     "text": [
      "\n",
      "time needed for map_ξ_GNC_multipole for auto_lensing [in s] = 573.76925 \n",
      "\n"
     ]
    }
   ],
   "source": [
    "GaPSE.print_map_ξ_GNC_multipole(\n",
    "    cosmo, DIR*\"map_xis_Lensing_L4_noF.txt\", \n",
    "    \"auto_lensing\",\n",
    "    10 .^ range(0, log10(2*cosmo.s_max), length = 500);\n",
    "    use_windows = false, enhancer = 1e8, L=4,\n",
    "    N_μs = 200, μ_atol = 0.0, μ_rtol = 1e-2, trap = true, N_χs_2 = 60);"
   ]
  },
  {
   "cell_type": "code",
   "execution_count": null,
   "id": "ee8eeb81-5cc6-4be5-a5ff-2e0e2e5d14a5",
   "metadata": {},
   "outputs": [
    {
     "name": "stderr",
     "output_type": "stream",
     "text": [
      "\u001b[32mauto_newton, L=4: 100%|█████████████████████████████████| Time: 0:00:00\u001b[39m\n",
      "\u001b[32mauto_doppler, L=4: 100%|████████████████████████████████| Time: 0:00:00\u001b[39m\n",
      "\u001b[32mauto_lensing, L=4:  85%|███████████████████████████▎    |  ETA: 0:01:27\u001b[39m"
     ]
    }
   ],
   "source": [
    "GaPSE.print_map_sum_ξ_GNC_multipole(\n",
    "    cosmo, DIR*\"map_sum_xis_GNC_L4_noF.txt\", \n",
    "    10 .^ range(0, log10(2*cosmo.s_max), length = 500);\n",
    "    single = true, use_windows = false, enhancer = 1e8, L=4,\n",
    "    N_μs = 200, μ_atol = 0.0, μ_rtol = 1e-2, trap = true, \n",
    "    N_χs = 100, N_χs_2 = 60);"
   ]
  },
  {
   "cell_type": "markdown",
   "id": "eccc8792-cb62-4952-8bf9-ab2348886c10",
   "metadata": {
    "tags": []
   },
   "source": [
    "### with F L=0"
   ]
  },
  {
   "cell_type": "code",
   "execution_count": null,
   "id": "37cda671-8bd3-4b35-8b95-9458e64ea8fa",
   "metadata": {},
   "outputs": [],
   "source": [
    "GaPSE.print_map_ξ_GNC_multipole(\n",
    "    cosmo, DIR*\"map_xis_Newtonian_L0_withF.txt\", \n",
    "    \"auto_newton\",\n",
    "    10 .^ range(0, log10(2*cosmo.s_max), length = 500);\n",
    "    use_windows = true, enhancer = 1e8, L=0,\n",
    "    N_μs = 200, μ_atol = 0.0, μ_rtol = 1e-2, trap = true);"
   ]
  },
  {
   "cell_type": "code",
   "execution_count": null,
   "id": "8a1b255f-7bdd-4e54-985d-6ea9c59b7cd9",
   "metadata": {},
   "outputs": [],
   "source": [
    "GaPSE.print_map_ξ_GNC_multipole(\n",
    "    cosmo, DIR*\"map_xis_Lensing_L0_withF.txt\", \n",
    "    \"auto_lensing\",\n",
    "    10 .^ range(0, log10(2*cosmo.s_max), length = 500);\n",
    "    use_windows = true, enhancer = 1e8, L=0,\n",
    "    N_μs = 200, μ_atol = 0.0, μ_rtol = 1e-2, trap = true, N_χs_2 = 60);"
   ]
  },
  {
   "cell_type": "code",
   "execution_count": null,
   "id": "2c296b5c-42fa-4f62-a5ea-a1a455fb33a8",
   "metadata": {},
   "outputs": [],
   "source": [
    "GaPSE.print_map_sum_ξ_GNC_multipole(\n",
    "    cosmo, DIR*\"map_sum_xis_GNC_L0_withF.txt\", \n",
    "    10 .^ range(0, log10(2*cosmo.s_max), length = 500);\n",
    "    single = true, use_windows = true, enhancer = 1e8, L=0,\n",
    "    N_μs = 200, μ_atol = 0.0, μ_rtol = 1e-2, trap = true, \n",
    "    N_χs = 100, N_χs_2 = 60);"
   ]
  },
  {
   "cell_type": "markdown",
   "id": "bfcee0bc-bb13-4759-905f-40190871fac0",
   "metadata": {
    "tags": []
   },
   "source": [
    "### with F L=2"
   ]
  },
  {
   "cell_type": "code",
   "execution_count": 15,
   "id": "fba7ed74-40dc-45b4-a669-55a632d542dd",
   "metadata": {},
   "outputs": [
    {
     "name": "stderr",
     "output_type": "stream",
     "text": [
      "\u001b[32mauto_newton, L=2: 100%|█████████████████████████████████| Time: 0:00:13\u001b[39m\n"
     ]
    },
    {
     "name": "stdout",
     "output_type": "stream",
     "text": [
      "\n",
      "time needed for map_ξ_GNC_multipole for auto_newton [in s] = 13.15246 \n",
      "\n"
     ]
    }
   ],
   "source": [
    "GaPSE.print_map_ξ_GNC_multipole(\n",
    "    cosmo, DIR*\"map_xis_Newtonian_L2_withF.txt\", \n",
    "    \"auto_newton\",\n",
    "    10 .^ range(0, log10(2*cosmo.s_max), length = 500);\n",
    "    use_windows = true, enhancer = 1e8, L=2,\n",
    "    N_μs = 200, μ_atol = 0.0, μ_rtol = 1e-2, trap = true);"
   ]
  },
  {
   "cell_type": "code",
   "execution_count": 16,
   "id": "67bbf7d2-934c-4009-b0f0-ae798b62d6c6",
   "metadata": {},
   "outputs": [
    {
     "name": "stderr",
     "output_type": "stream",
     "text": [
      "\u001b[32mauto_lensing, L=2: 100%|████████████████████████████████| Time: 0:09:34\u001b[39m\n"
     ]
    },
    {
     "name": "stdout",
     "output_type": "stream",
     "text": [
      "\n",
      "time needed for map_ξ_GNC_multipole for auto_lensing [in s] = 574.61664 \n",
      "\n"
     ]
    }
   ],
   "source": [
    "GaPSE.print_map_ξ_GNC_multipole(\n",
    "    cosmo, DIR*\"map_xis_Lensing_L2_withF.txt\", \n",
    "    \"auto_lensing\",\n",
    "    10 .^ range(0, log10(2*cosmo.s_max), length = 500);\n",
    "    use_windows = true, enhancer = 1e8, L=2,\n",
    "    N_μs = 200, μ_atol = 0.0, μ_rtol = 1e-2, trap = true, N_χs_2 = 60);"
   ]
  },
  {
   "cell_type": "code",
   "execution_count": 17,
   "id": "f3933ff1-35c3-439d-aac1-19778675c42c",
   "metadata": {},
   "outputs": [
    {
     "name": "stderr",
     "output_type": "stream",
     "text": [
      "\u001b[32mauto_newton, L=2: 100%|█████████████████████████████████| Time: 0:00:13\u001b[39m\n",
      "\u001b[32mauto_doppler, L=2: 100%|████████████████████████████████| Time: 0:00:13\u001b[39m\n",
      "\u001b[32mauto_lensing, L=2:  41%|█████████████▎                  |  ETA: 0:05:41\u001b[39m"
     ]
    },
    {
     "ename": "LoadError",
     "evalue": "InterruptException:",
     "output_type": "error",
     "traceback": [
      "InterruptException:",
      "",
      "Stacktrace:",
      "  [1] Array",
      "    @ ./boot.jl:457 [inlined]",
      "  [2] Array",
      "    @ ./boot.jl:466 [inlined]",
      "  [3] zeros",
      "    @ ./array.jl:525 [inlined]",
      "  [4] integrate",
      "    @ ~/.julia/packages/Trapz/UoNri/src/kernels.jl:27 [inlined]",
      "  [5] macro expansion",
      "    @ ./none:0 [inlined]",
      "  [6] integrate",
      "    @ ./none:0 [inlined]",
      "  [7] trapz(x::Tuple{StepRangeLen{Float64, Base.TwicePrecision{Float64}, Base.TwicePrecision{Float64}, Int64}, StepRangeLen{Float64, Base.TwicePrecision{Float64}, Base.TwicePrecision{Float64}, Int64}}, y::Matrix{Float64})",
      "    @ Trapz ~/.julia/packages/Trapz/UoNri/src/Trapz.jl:7",
      "  [8] ξ_GNC_Lensing(P1::Main.GaPSE.Point, P2::Main.GaPSE.Point, y::Float64, cosmo::Main.GaPSE.Cosmology; en::Float64, N_χs_2::Int64, Δχ_min::Float64)",
      "    @ Main.GaPSE ~/AAA_TESI_MAGISTRALE/GaPSE/src/GNC_AutoCorrelations/GNC_AutoLensing.jl:172",
      "  [9] #ξ_GNC_Lensing#368",
      "    @ ~/AAA_TESI_MAGISTRALE/GaPSE/src/GNC_AutoCorrelations/GNC_AutoLensing.jl:180 [inlined]",
      " [10] integrand_ξ_GNC_multipole(s1::Float64, s::Float64, μ::Float64, effect::typeof(Main.GaPSE.ξ_GNC_Lensing), cosmo::Main.GaPSE.Cosmology; L::Int64, use_windows::Bool, kwargs::Base.Pairs{Symbol, Int64, Tuple{Symbol}, NamedTuple{(:N_χs_2,), Tuple{Int64}}})",
      "    @ Main.GaPSE ~/AAA_TESI_MAGISTRALE/GaPSE/src/GNC_XiMultipoles.jl:28",
      " [11] orig_f",
      "    @ ~/AAA_TESI_MAGISTRALE/GaPSE/src/GNC_XiMultipoles.jl:175 [inlined]",
      " [12] _broadcast_getindex_evalf",
      "    @ ./broadcast.jl:670 [inlined]",
      " [13] _broadcast_getindex",
      "    @ ./broadcast.jl:643 [inlined]",
      " [14] getindex",
      "    @ ./broadcast.jl:597 [inlined]",
      " [15] macro expansion",
      "    @ ./broadcast.jl:961 [inlined]",
      " [16] macro expansion",
      "    @ ./simdloop.jl:77 [inlined]",
      " [17] copyto!",
      "    @ ./broadcast.jl:960 [inlined]",
      " [18] copyto!",
      "    @ ./broadcast.jl:913 [inlined]",
      " [19] copy",
      "    @ ./broadcast.jl:885 [inlined]",
      " [20] materialize",
      "    @ ./broadcast.jl:860 [inlined]",
      " [21] ξ_GNC_multipole(s1::Float64, s::Float64, effect::typeof(Main.GaPSE.ξ_GNC_Lensing), cosmo::Main.GaPSE.Cosmology; L::Int64, use_windows::Bool, enhancer::Float64, N_μs::Int64, μ_atol::Float64, μ_rtol::Float64, trap::Bool, kwargs::Base.Pairs{Symbol, Int64, Tuple{Symbol}, NamedTuple{(:N_χs_2,), Tuple{Int64}}})",
      "    @ Main.GaPSE ~/AAA_TESI_MAGISTRALE/GaPSE/src/GNC_XiMultipoles.jl:190",
      " [22] ξ_GNC_multipole(s1::Float64, s::Float64, effect::String, cosmo::Main.GaPSE.Cosmology; kwargs::Base.Pairs{Symbol, Real, NTuple{8, Symbol}, NamedTuple{(:L, :N_χs_2, :μ_atol, :enhancer, :use_windows, :N_μs, :μ_rtol, :trap), Tuple{Int64, Int64, Float64, Float64, Bool, Int64, Float64, Bool}}})",
      "    @ Main.GaPSE ~/AAA_TESI_MAGISTRALE/GaPSE/src/GNC_XiMultipoles.jl:207",
      " [23] #624",
      "    @ ./none:0 [inlined]",
      " [24] iterate",
      "    @ ./generator.jl:47 [inlined]",
      " [25] collect_to!(dest::Vector{Float64}, itr::Base.Generator{ProgressMeter.ProgressWrapper{Vector{Float64}}, Main.GaPSE.var\"#624#626\"{Int64, Base.Pairs{Symbol, Real, NTuple{7, Symbol}, NamedTuple{(:N_χs_2, :μ_atol, :enhancer, :use_windows, :N_μs, :μ_rtol, :trap), Tuple{Int64, Float64, Float64, Bool, Int64, Float64, Bool}}}, Main.GaPSE.Cosmology, String, Float64}}, offs::Int64, st::Int64)",
      "    @ Base ./array.jl:782",
      " [26] collect_to_with_first!(dest::Vector{Float64}, v1::Float64, itr::Base.Generator{ProgressMeter.ProgressWrapper{Vector{Float64}}, Main.GaPSE.var\"#624#626\"{Int64, Base.Pairs{Symbol, Real, NTuple{7, Symbol}, NamedTuple{(:N_χs_2, :μ_atol, :enhancer, :use_windows, :N_μs, :μ_rtol, :trap), Tuple{Int64, Float64, Float64, Bool, Int64, Float64, Bool}}}, Main.GaPSE.Cosmology, String, Float64}}, st::Int64)",
      "    @ Base ./array.jl:760",
      " [27] collect(itr::Base.Generator{ProgressMeter.ProgressWrapper{Vector{Float64}}, Main.GaPSE.var\"#624#626\"{Int64, Base.Pairs{Symbol, Real, NTuple{7, Symbol}, NamedTuple{(:N_χs_2, :μ_atol, :enhancer, :use_windows, :N_μs, :μ_rtol, :trap), Tuple{Int64, Float64, Float64, Bool, Int64, Float64, Bool}}}, Main.GaPSE.Cosmology, String, Float64}})",
      "    @ Base ./array.jl:734",
      " [28] macro expansion",
      "    @ ~/.julia/packages/ProgressMeter/Vf8un/src/ProgressMeter.jl:947 [inlined]",
      " [29] #map_ξ_GNC_multipole#623",
      "    @ ~/AAA_TESI_MAGISTRALE/GaPSE/src/GNC_XiMultipoles.jl:410 [inlined]",
      " [30] #635",
      "    @ ~/AAA_TESI_MAGISTRALE/GaPSE/src/GNC_SumXiMultipoles.jl:115 [inlined]",
      " [31] (::Main.GaPSE.var\"#635#636\"{Bool, Base.Pairs{Symbol, Real, NTuple{11, Symbol}, NamedTuple{(:L, :s1, :pr, :use_windows, :enhancer, :N_μs, :μ_atol, :μ_rtol, :trap, :N_χs, :N_χs_2), Tuple{Int64, Float64, Bool, Bool, Float64, Int64, Float64, Float64, Bool, Int64, Int64}}}, Main.GaPSE.Cosmology, Vector{Float64}})(effect::String)",
      "    @ Main.GaPSE ./none:0",
      " [32] iterate",
      "    @ ./generator.jl:47 [inlined]",
      " [33] collect_to!(dest::Vector{Vector{Float64}}, itr::Base.Generator{Vector{String}, Main.GaPSE.var\"#635#636\"{Bool, Base.Pairs{Symbol, Real, NTuple{11, Symbol}, NamedTuple{(:L, :s1, :pr, :use_windows, :enhancer, :N_μs, :μ_atol, :μ_rtol, :trap, :N_χs, :N_χs_2), Tuple{Int64, Float64, Bool, Bool, Float64, Int64, Float64, Float64, Bool, Int64, Int64}}}, Main.GaPSE.Cosmology, Vector{Float64}}}, offs::Int64, st::Int64)",
      "    @ Base ./array.jl:782",
      " [34] collect_to_with_first!(dest::Vector{Vector{Float64}}, v1::Vector{Float64}, itr::Base.Generator{Vector{String}, Main.GaPSE.var\"#635#636\"{Bool, Base.Pairs{Symbol, Real, NTuple{11, Symbol}, NamedTuple{(:L, :s1, :pr, :use_windows, :enhancer, :N_μs, :μ_atol, :μ_rtol, :trap, :N_χs, :N_χs_2), Tuple{Int64, Float64, Bool, Bool, Float64, Int64, Float64, Float64, Bool, Int64, Int64}}}, Main.GaPSE.Cosmology, Vector{Float64}}}, st::Int64)",
      "    @ Base ./array.jl:760",
      " [35] collect(itr::Base.Generator{Vector{String}, Main.GaPSE.var\"#635#636\"{Bool, Base.Pairs{Symbol, Real, NTuple{11, Symbol}, NamedTuple{(:L, :s1, :pr, :use_windows, :enhancer, :N_μs, :μ_atol, :μ_rtol, :trap, :N_χs, :N_χs_2), Tuple{Int64, Float64, Bool, Bool, Float64, Int64, Float64, Float64, Bool, Int64, Int64}}}, Main.GaPSE.Cosmology, Vector{Float64}}})",
      "    @ Base ./array.jl:734",
      " [36] map_sum_ξ_GNC_multipole(cosmo::Main.GaPSE.Cosmology, v_ss::Vector{Float64}; N_log::Int64, sum_xi::Bool, kwargs::Base.Pairs{Symbol, Real, NTuple{11, Symbol}, NamedTuple{(:L, :s1, :pr, :use_windows, :enhancer, :N_μs, :μ_atol, :μ_rtol, :trap, :N_χs, :N_χs_2), Tuple{Int64, Float64, Bool, Bool, Float64, Int64, Float64, Float64, Bool, Int64, Int64}}})",
      "    @ Main.GaPSE ~/AAA_TESI_MAGISTRALE/GaPSE/src/GNC_SumXiMultipoles.jl:113",
      " [37] print_map_sum_ξ_GNC_multipole(cosmo::Main.GaPSE.Cosmology, out::String, v_ss::Vector{Float64}; s1::Nothing, L::Int64, single::Bool, pr::Bool, sum_xi::Bool, kwargs::Base.Pairs{Symbol, Real, NTuple{8, Symbol}, NamedTuple{(:use_windows, :enhancer, :N_μs, :μ_atol, :μ_rtol, :trap, :N_χs, :N_χs_2), Tuple{Bool, Float64, Int64, Float64, Float64, Bool, Int64, Int64}}})",
      "    @ Main.GaPSE ~/AAA_TESI_MAGISTRALE/GaPSE/src/GNC_SumXiMultipoles.jl:197",
      " [38] eval",
      "    @ ./boot.jl:373 [inlined]",
      " [39] include_string(mapexpr::typeof(REPL.softscope), mod::Module, code::String, filename::String)",
      "    @ Base ./loading.jl:1196"
     ]
    }
   ],
   "source": [
    "GaPSE.print_map_sum_ξ_GNC_multipole(\n",
    "    cosmo, DIR*\"map_sum_xis_GNC_L2_withF.txt\", \n",
    "    10 .^ range(0, log10(2*cosmo.s_max), length = 500);\n",
    "    single = true, use_windows = true, enhancer = 1e8, L=2,\n",
    "    N_μs = 200, μ_atol = 0.0, μ_rtol = 1e-2, trap = true, \n",
    "    N_χs = 100, N_χs_2 = 60);"
   ]
  },
  {
   "cell_type": "code",
   "execution_count": null,
   "id": "2738b85f-2687-4486-8357-e2428ff41bbc",
   "metadata": {},
   "outputs": [],
   "source": []
  },
  {
   "cell_type": "code",
   "execution_count": null,
   "id": "ecf4b3e8-1c6f-4b34-a7db-3ecb52ca1580",
   "metadata": {},
   "outputs": [],
   "source": []
  }
 ],
 "metadata": {
  "kernelspec": {
   "display_name": "Julia 1.7.3",
   "language": "julia",
   "name": "julia-1.7"
  },
  "language_info": {
   "file_extension": ".jl",
   "mimetype": "application/julia",
   "name": "julia",
   "version": "1.7.3"
  }
 },
 "nbformat": 4,
 "nbformat_minor": 5
}
