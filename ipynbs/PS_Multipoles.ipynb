{
 "cells": [
  {
   "cell_type": "code",
   "execution_count": 1,
   "id": "48ee4a46-240f-4a4a-9a09-633757817e0a",
   "metadata": {},
   "outputs": [],
   "source": [
    "PATH_TO_GAPSE = \"../\";"
   ]
  },
  {
   "cell_type": "code",
   "execution_count": 2,
   "id": "e722013a-a07b-4521-9a70-61a1479ab997",
   "metadata": {},
   "outputs": [],
   "source": [
    "include(PATH_TO_GAPSE * \"src/GaPSE.jl\");"
   ]
  },
  {
   "cell_type": "code",
   "execution_count": 3,
   "id": "b6eb9e29-3d6f-4349-9254-d38c56b33284",
   "metadata": {},
   "outputs": [],
   "source": [
    "using DelimitedFiles, Plots, Dierckx, SpecialFunctions, Printf\n",
    "using TwoFAST, LaTeXStrings, ProgressMeter"
   ]
  },
  {
   "cell_type": "code",
   "execution_count": 4,
   "id": "7e2f054c-3c04-41ee-a56b-32e8b2ef03f1",
   "metadata": {},
   "outputs": [
    {
     "name": "stdout",
     "output_type": "stream",
     "text": [
      "# The following parameters were used for this computation: \n",
      "# CLASS Power Spectrum input file : \"../test/datatest/file_pk.txt\"\n",
      "# F window function input file : \"../test/datatest/F_REFERENCE.txt\"\n",
      "# CLASS Background input file: \"../test/datatest/WideA_ZA_background.dat\"\n",
      "# \t z_min = 0.05 \t z_max = 0.2\n",
      "# \t k_min = 1.0e-8 \t k_max = 10.0\n",
      "# \t h_0 = 0.7 \t Ω_b = 0.0489 \t Ω_cdm = 0.25102 \t Ω_M0 = 0.29992\n",
      "# \t comoving s_min = 148.1920001465757 Mpc/h_0\n",
      "# \t comoving s_max = 571.7022420258767 Mpc/h_0\n",
      "# \t comoving s_eff = 435.3747095690664 Mpc/h_0\n",
      "# \t comoving z_eff = 0.15045636096023224 \n",
      "# \t Volume of the survey V_survey = 3.845366167995967e8\n",
      "# \t σ_0 = 15.593462966741178\n",
      "# \t σ_1 = 15.074895881392285\n",
      "# \t σ_2 = 100.85852368830226\n",
      "# \t σ_3 = 3735.1226181519773\n",
      "# \n"
     ]
    }
   ],
   "source": [
    "FILE_F_MAP = PATH_TO_GAPSE * \"test/datatest/F_REFERENCE.txt\"\n",
    "FILE_PS = PATH_TO_GAPSE * \"test/datatest/file_pk.txt\"\n",
    "FILE_BACKGROUND = PATH_TO_GAPSE * \"test/datatest/WideA_ZA_background.dat\"\n",
    "\n",
    "z_min = 0.05\n",
    "z_max = 0.20\n",
    "θ_max = π / 2.0\n",
    "params = GaPSE.CosmoParams(z_min, z_max, θ_max;\n",
    "  k_min = 1e-8, k_max = 10.0,\n",
    "  Ω_b = 0.0489, Ω_cdm = 0.251020, h_0 = 0.70,\n",
    "    N = 1024, fit_min = 0.05, fit_max= 0.5, con=true)\n",
    "\n",
    "cosmo = GaPSE.Cosmology(params, FILE_BACKGROUND, FILE_PS, FILE_F_MAP)\n",
    "\n",
    "GaPSE.parameters_used(stdout, cosmo)"
   ]
  },
  {
   "cell_type": "code",
   "execution_count": 5,
   "id": "9c9b898e-d3d5-4630-b605-8ab704befcb4",
   "metadata": {},
   "outputs": [],
   "source": [
    "effect = \"auto_doppler\";\n",
    "L = 0; "
   ]
  },
  {
   "cell_type": "code",
   "execution_count": 6,
   "id": "601217a9-d88d-42dc-91fc-a3a293a2d63a",
   "metadata": {},
   "outputs": [
    {
     "name": "stderr",
     "output_type": "stream",
     "text": [
      "\u001b[32mauto_doppler, L=0: 100%|████████████████████████████████| Time: 0:00:01\u001b[39m\n"
     ]
    },
    {
     "name": "stdout",
     "output_type": "stream",
     "text": [
      "\n",
      "time needed for map_integral_on_mu for auto_doppler [in s] = 1.62870 \n"
     ]
    }
   ],
   "source": [
    "GaPSE.print_map_ξ_multipole(cosmo, \"PSM_files/xi_\"*effect*\"_L$L\"*\".txt\", \n",
    "    effect; use_windows = false, N_log=1000, N_μs = 30, pr=true, L=L)"
   ]
  },
  {
   "cell_type": "code",
   "execution_count": 7,
   "id": "400bb40d-27f8-4bee-9060-81de06464b5f",
   "metadata": {
    "tags": []
   },
   "outputs": [
    {
     "name": "stdout",
     "output_type": "stream",
     "text": [
      "\n",
      "I'm computiong the PS_multipole from the file PSM_files/xi_auto_doppler_L0.txt\n",
      "\n",
      "time needed for Power Spectrum  computation [in s] = 0.20828986167907715\n",
      "\n",
      "\n",
      "time needed for Power Spectrum  computation [in s] = 0.2164778709411621\n",
      "\n"
     ]
    }
   ],
   "source": [
    "GaPSE.print_PS_multipole(\"PSM_files/xi_\"*effect*\"_L$L\"*\".txt\",\n",
    "    \"PSM_files/ps_\"*effect*\"_L$L\"*\".txt\";\n",
    "     L = L, N = 100, pr = true, int_s_min=1e-1, int_s_max=1e3)"
   ]
  },
  {
   "cell_type": "code",
   "execution_count": 8,
   "id": "6252c77b-bca8-476a-9bb6-7281c6f1fa10",
   "metadata": {},
   "outputs": [],
   "source": [
    "my_table = readdlm(\"PSM_files/ps_\"*effect*\"_L$L\"*\".txt\", comments=true);\n",
    "my_ks = convert(Vector{Float64}, my_table[:,1]);\n",
    "my_pks = convert(Vector{Float64}, my_table[:,2]);"
   ]
  },
  {
   "cell_type": "code",
   "execution_count": 9,
   "id": "4ea7e67a-13d7-447f-b852-6354dc088a9f",
   "metadata": {},
   "outputs": [
    {
     "data": {
      "image/svg+xml": [
       "<?xml version=\"1.0\" encoding=\"utf-8\"?>\n",
       "<svg xmlns=\"http://www.w3.org/2000/svg\" xmlns:xlink=\"http://www.w3.org/1999/xlink\" width=\"550\" height=\"300\" viewBox=\"0 0 2200 1200\">\n",
       "<defs>\n",
       "  <clipPath id=\"clip580\">\n",
       "    <rect x=\"0\" y=\"0\" width=\"2200\" height=\"1200\"/>\n",
       "  </clipPath>\n",
       "</defs>\n",
       "<path clip-path=\"url(#clip580)\" d=\"\n",
       "M0 1200 L2200 1200 L2200 0 L0 0  Z\n",
       "  \" fill=\"#ffffff\" fill-rule=\"evenodd\" fill-opacity=\"1\"/>\n",
       "<defs>\n",
       "  <clipPath id=\"clip581\">\n",
       "    <rect x=\"440\" y=\"0\" width=\"1541\" height=\"1200\"/>\n",
       "  </clipPath>\n",
       "</defs>\n",
       "<path clip-path=\"url(#clip580)\" d=\"\n",
       "M186.292 1086.68 L2152.76 1086.68 L2152.76 47.2441 L186.292 47.2441  Z\n",
       "  \" fill=\"#ffffff\" fill-rule=\"evenodd\" fill-opacity=\"1\"/>\n",
       "<defs>\n",
       "  <clipPath id=\"clip582\">\n",
       "    <rect x=\"186\" y=\"47\" width=\"1967\" height=\"1040\"/>\n",
       "  </clipPath>\n",
       "</defs>\n",
       "<polyline clip-path=\"url(#clip582)\" style=\"stroke:#000000; stroke-linecap:butt; stroke-linejoin:round; stroke-width:2; stroke-opacity:0.1; fill:none\" points=\"\n",
       "  710.42,1086.68 710.42,47.2441 \n",
       "  \"/>\n",
       "<polyline clip-path=\"url(#clip582)\" style=\"stroke:#000000; stroke-linecap:butt; stroke-linejoin:round; stroke-width:2; stroke-opacity:0.1; fill:none\" points=\"\n",
       "  1647.37,1086.68 1647.37,47.2441 \n",
       "  \"/>\n",
       "<polyline clip-path=\"url(#clip580)\" style=\"stroke:#000000; stroke-linecap:butt; stroke-linejoin:round; stroke-width:4; stroke-opacity:1; fill:none\" points=\"\n",
       "  186.292,1086.68 2152.76,1086.68 \n",
       "  \"/>\n",
       "<polyline clip-path=\"url(#clip580)\" style=\"stroke:#000000; stroke-linecap:butt; stroke-linejoin:round; stroke-width:4; stroke-opacity:1; fill:none\" points=\"\n",
       "  710.42,1086.68 710.42,1067.78 \n",
       "  \"/>\n",
       "<polyline clip-path=\"url(#clip580)\" style=\"stroke:#000000; stroke-linecap:butt; stroke-linejoin:round; stroke-width:4; stroke-opacity:1; fill:none\" points=\"\n",
       "  1647.37,1086.68 1647.37,1067.78 \n",
       "  \"/>\n",
       "<path clip-path=\"url(#clip580)\" d=\"M660.686 1159.21 L668.325 1159.21 L668.325 1132.84 L660.015 1134.51 L660.015 1130.25 L668.278 1128.58 L672.954 1128.58 L672.954 1159.21 L680.593 1159.21 L680.593 1163.14 L660.686 1163.14 L660.686 1159.21 Z\" fill=\"#000000\" fill-rule=\"evenodd\" fill-opacity=\"1\" /><path clip-path=\"url(#clip580)\" d=\"M700.038 1131.66 Q696.426 1131.66 694.598 1135.23 Q692.792 1138.77 692.792 1145.9 Q692.792 1153 694.598 1156.57 Q696.426 1160.11 700.038 1160.11 Q703.672 1160.11 705.477 1156.57 Q707.306 1153 707.306 1145.9 Q707.306 1138.77 705.477 1135.23 Q703.672 1131.66 700.038 1131.66 M700.038 1127.96 Q705.848 1127.96 708.903 1132.56 Q711.982 1137.15 711.982 1145.9 Q711.982 1154.62 708.903 1159.23 Q705.848 1163.81 700.038 1163.81 Q694.227 1163.81 691.149 1159.23 Q688.093 1154.62 688.093 1145.9 Q688.093 1137.15 691.149 1132.56 Q694.227 1127.96 700.038 1127.96 Z\" fill=\"#000000\" fill-rule=\"evenodd\" fill-opacity=\"1\" /><path clip-path=\"url(#clip580)\" d=\"M711.982 1122.06 L736.094 1122.06 L736.094 1125.26 L711.982 1125.26 L711.982 1122.06 Z\" fill=\"#000000\" fill-rule=\"evenodd\" fill-opacity=\"1\" /><path clip-path=\"url(#clip580)\" d=\"M747.566 1132.53 L760.826 1132.53 L760.826 1135.73 L742.996 1135.73 L742.996 1132.53 Q745.159 1130.3 748.883 1126.53 Q752.626 1122.75 753.585 1121.66 Q755.409 1119.61 756.124 1118.2 Q756.857 1116.77 756.857 1115.4 Q756.857 1113.16 755.277 1111.75 Q753.716 1110.34 751.196 1110.34 Q749.409 1110.34 747.416 1110.96 Q745.441 1111.58 743.184 1112.84 L743.184 1109.01 Q745.479 1108.08 747.472 1107.61 Q749.466 1107.14 751.121 1107.14 Q755.484 1107.14 758.08 1109.33 Q760.675 1111.51 760.675 1115.16 Q760.675 1116.89 760.017 1118.45 Q759.378 1119.99 757.666 1122.1 Q757.196 1122.64 754.676 1125.26 Q752.155 1127.85 747.566 1132.53 Z\" fill=\"#000000\" fill-rule=\"evenodd\" fill-opacity=\"1\" /><path clip-path=\"url(#clip580)\" d=\"M1612.35 1159.21 L1619.99 1159.21 L1619.99 1132.84 L1611.68 1134.51 L1611.68 1130.25 L1619.94 1128.58 L1624.62 1128.58 L1624.62 1159.21 L1632.26 1159.21 L1632.26 1163.14 L1612.35 1163.14 L1612.35 1159.21 Z\" fill=\"#000000\" fill-rule=\"evenodd\" fill-opacity=\"1\" /><path clip-path=\"url(#clip580)\" d=\"M1651.7 1131.66 Q1648.09 1131.66 1646.26 1135.23 Q1644.46 1138.77 1644.46 1145.9 Q1644.46 1153 1646.26 1156.57 Q1648.09 1160.11 1651.7 1160.11 Q1655.34 1160.11 1657.14 1156.57 Q1658.97 1153 1658.97 1145.9 Q1658.97 1138.77 1657.14 1135.23 Q1655.34 1131.66 1651.7 1131.66 M1651.7 1127.96 Q1657.51 1127.96 1660.57 1132.56 Q1663.65 1137.15 1663.65 1145.9 Q1663.65 1154.62 1660.57 1159.23 Q1657.51 1163.81 1651.7 1163.81 Q1645.89 1163.81 1642.81 1159.23 Q1639.76 1154.62 1639.76 1145.9 Q1639.76 1137.15 1642.81 1132.56 Q1645.89 1127.96 1651.7 1127.96 Z\" fill=\"#000000\" fill-rule=\"evenodd\" fill-opacity=\"1\" /><path clip-path=\"url(#clip580)\" d=\"M1673.35 1110.15 Q1670.42 1110.15 1668.93 1113.05 Q1667.46 1115.93 1667.46 1121.72 Q1667.46 1127.49 1668.93 1130.39 Q1670.42 1133.27 1673.35 1133.27 Q1676.3 1133.27 1677.77 1130.39 Q1679.26 1127.49 1679.26 1121.72 Q1679.26 1115.93 1677.77 1113.05 Q1676.3 1110.15 1673.35 1110.15 M1673.35 1107.14 Q1678.07 1107.14 1680.55 1110.89 Q1683.06 1114.61 1683.06 1121.72 Q1683.06 1128.81 1680.55 1132.55 Q1678.07 1136.28 1673.35 1136.28 Q1668.63 1136.28 1666.13 1132.55 Q1663.65 1128.81 1663.65 1121.72 Q1663.65 1114.61 1666.13 1110.89 Q1668.63 1107.14 1673.35 1107.14 Z\" fill=\"#000000\" fill-rule=\"evenodd\" fill-opacity=\"1\" /><polyline clip-path=\"url(#clip582)\" style=\"stroke:#000000; stroke-linecap:butt; stroke-linejoin:round; stroke-width:2; stroke-opacity:0.1; fill:none\" points=\"\n",
       "  186.292,859.746 2152.76,859.746 \n",
       "  \"/>\n",
       "<polyline clip-path=\"url(#clip582)\" style=\"stroke:#000000; stroke-linecap:butt; stroke-linejoin:round; stroke-width:2; stroke-opacity:0.1; fill:none\" points=\"\n",
       "  186.292,230.957 2152.76,230.957 \n",
       "  \"/>\n",
       "<polyline clip-path=\"url(#clip580)\" style=\"stroke:#000000; stroke-linecap:butt; stroke-linejoin:round; stroke-width:4; stroke-opacity:1; fill:none\" points=\"\n",
       "  186.292,1086.68 186.292,47.2441 \n",
       "  \"/>\n",
       "<polyline clip-path=\"url(#clip580)\" style=\"stroke:#000000; stroke-linecap:butt; stroke-linejoin:round; stroke-width:4; stroke-opacity:1; fill:none\" points=\"\n",
       "  186.292,859.746 205.19,859.746 \n",
       "  \"/>\n",
       "<polyline clip-path=\"url(#clip580)\" style=\"stroke:#000000; stroke-linecap:butt; stroke-linejoin:round; stroke-width:4; stroke-opacity:1; fill:none\" points=\"\n",
       "  186.292,230.957 205.19,230.957 \n",
       "  \"/>\n",
       "<path clip-path=\"url(#clip580)\" d=\"M52.6634 879.539 L60.3023 879.539 L60.3023 853.173 L51.9921 854.84 L51.9921 850.58 L60.256 848.914 L64.9319 848.914 L64.9319 879.539 L72.5707 879.539 L72.5707 883.474 L52.6634 883.474 L52.6634 879.539 Z\" fill=\"#000000\" fill-rule=\"evenodd\" fill-opacity=\"1\" /><path clip-path=\"url(#clip580)\" d=\"M92.0151 851.993 Q88.404 851.993 86.5753 855.557 Q84.7697 859.099 84.7697 866.229 Q84.7697 873.335 86.5753 876.9 Q88.404 880.441 92.0151 880.441 Q95.6493 880.441 97.4548 876.9 Q99.2835 873.335 99.2835 866.229 Q99.2835 859.099 97.4548 855.557 Q95.6493 851.993 92.0151 851.993 M92.0151 848.289 Q97.8252 848.289 100.881 852.895 Q103.959 857.479 103.959 866.229 Q103.959 874.955 100.881 879.562 Q97.8252 884.145 92.0151 884.145 Q86.2049 884.145 83.1262 879.562 Q80.0707 874.955 80.0707 866.229 Q80.0707 857.479 83.1262 852.895 Q86.2049 848.289 92.0151 848.289 Z\" fill=\"#000000\" fill-rule=\"evenodd\" fill-opacity=\"1\" /><path clip-path=\"url(#clip580)\" d=\"M103.959 842.39 L128.071 842.39 L128.071 845.587 L103.959 845.587 L103.959 842.39 Z\" fill=\"#000000\" fill-rule=\"evenodd\" fill-opacity=\"1\" /><path clip-path=\"url(#clip580)\" d=\"M136.309 827.983 L151.223 827.983 L151.223 831.181 L139.788 831.181 L139.788 838.064 Q140.616 837.782 141.443 837.651 Q142.271 837.5 143.098 837.5 Q147.8 837.5 150.546 840.077 Q153.292 842.653 153.292 847.054 Q153.292 851.587 150.471 854.107 Q147.65 856.609 142.515 856.609 Q140.747 856.609 138.904 856.308 Q137.08 856.007 135.124 855.405 L135.124 851.587 Q136.817 852.509 138.622 852.96 Q140.428 853.412 142.44 853.412 Q145.694 853.412 147.593 851.7 Q149.493 849.989 149.493 847.054 Q149.493 844.12 147.593 842.409 Q145.694 840.697 142.44 840.697 Q140.917 840.697 139.393 841.036 Q137.889 841.375 136.309 842.089 L136.309 827.983 Z\" fill=\"#000000\" fill-rule=\"evenodd\" fill-opacity=\"1\" /><path clip-path=\"url(#clip580)\" d=\"M82.5866 250.749 L90.2254 250.749 L90.2254 224.384 L81.9153 226.05 L81.9153 221.791 L90.1791 220.125 L94.855 220.125 L94.855 250.749 L102.494 250.749 L102.494 254.685 L82.5866 254.685 L82.5866 250.749 Z\" fill=\"#000000\" fill-rule=\"evenodd\" fill-opacity=\"1\" /><path clip-path=\"url(#clip580)\" d=\"M121.938 223.203 Q118.327 223.203 116.498 226.768 Q114.693 230.31 114.693 237.439 Q114.693 244.546 116.498 248.11 Q118.327 251.652 121.938 251.652 Q125.572 251.652 127.378 248.11 Q129.207 244.546 129.207 237.439 Q129.207 230.31 127.378 226.768 Q125.572 223.203 121.938 223.203 M121.938 219.5 Q127.748 219.5 130.804 224.106 Q133.883 228.689 133.883 237.439 Q133.883 246.166 130.804 250.773 Q127.748 255.356 121.938 255.356 Q116.128 255.356 113.049 250.773 Q109.994 246.166 109.994 237.439 Q109.994 228.689 113.049 224.106 Q116.128 219.5 121.938 219.5 Z\" fill=\"#000000\" fill-rule=\"evenodd\" fill-opacity=\"1\" /><path clip-path=\"url(#clip580)\" d=\"M143.587 201.696 Q140.653 201.696 139.168 204.592 Q137.701 207.47 137.701 213.262 Q137.701 219.036 139.168 221.933 Q140.653 224.81 143.587 224.81 Q146.54 224.81 148.007 221.933 Q149.493 219.036 149.493 213.262 Q149.493 207.47 148.007 204.592 Q146.54 201.696 143.587 201.696 M143.587 198.686 Q148.308 198.686 150.791 202.429 Q153.292 206.153 153.292 213.262 Q153.292 220.353 150.791 224.096 Q148.308 227.82 143.587 227.82 Q138.867 227.82 136.365 224.096 Q133.883 220.353 133.883 213.262 Q133.883 206.153 136.365 202.429 Q138.867 198.686 143.587 198.686 Z\" fill=\"#000000\" fill-rule=\"evenodd\" fill-opacity=\"1\" /><polyline clip-path=\"url(#clip582)\" style=\"stroke:#ff0000; stroke-linecap:butt; stroke-linejoin:round; stroke-width:8; stroke-opacity:1; fill:none\" points=\"\n",
       "  241.947,76.6621 260.686,76.9779 279.425,77.3821 298.164,77.8482 316.903,78.4304 335.642,79.1161 354.38,79.9616 373.119,80.9698 391.858,82.2065 410.597,83.6926 \n",
       "  429.336,85.5113 448.075,87.7085 466.814,90.3959 485.553,93.6524 504.292,97.6311 523.031,102.452 541.77,108.316 560.509,115.375 579.248,123.842 597.987,133.811 \n",
       "  616.726,145.316 635.464,158.017 654.203,171.167 672.942,183.274 691.681,192.666 710.42,198.319 729.159,201.131 747.898,203.424 766.637,207.897 785.376,216.263 \n",
       "  804.115,228.217 822.854,241.045 841.593,252.272 860.332,263.458 879.071,277.238 897.81,290.97 916.548,299.707 935.287,310.303 954.026,328.142 972.765,347.341 \n",
       "  991.504,359.634 1010.24,370.469 1028.98,388.573 1047.72,404.754 1066.46,413.78 1085.2,429.991 1103.94,444.343 1122.68,458.488 1141.42,478.571 1160.15,495.974 \n",
       "  1178.89,516.793 1197.63,532.424 1216.37,547.986 1235.11,563.138 1253.85,582.952 1272.59,604.276 1291.33,622.299 1310.07,638.524 1328.8,658.046 1347.54,679.807 \n",
       "  1366.28,696.441 1385.02,717.593 1403.76,736.671 1422.5,757.219 1441.24,776.385 1459.98,797.855 1478.72,816.528 1497.46,838.721 1516.19,856.968 1534.93,879.437 \n",
       "  1553.67,897.177 1572.41,919.291 1591.15,936.203 1609.89,956.909 1628.63,972.355 1647.37,990.155 1666.11,1003.1 1684.84,1016.64 1703.58,1026.73 1722.32,1035.63 \n",
       "  1741.06,1041.72 1759.8,1046.35 1778.54,1049.54 1797.28,1051.68 1816.02,1053.21 1834.76,1054.15 1853.5,1054.86 1872.23,1055.27 1890.97,1055.61 1909.71,1055.8 \n",
       "  1928.45,1055.98 1947.19,1056.09 1965.93,1056.22 1984.67,1056.31 2003.41,1056.44 2022.15,1056.54 2040.88,1056.7 2059.62,1056.84 2078.36,1057.05 2097.1,1057.26 \n",
       "  \n",
       "  \"/>\n",
       "<polyline clip-path=\"url(#clip582)\" style=\"stroke:#000000; stroke-linecap:butt; stroke-linejoin:round; stroke-width:2; stroke-opacity:1; fill:none\" stroke-dasharray=\"8, 5\" points=\"\n",
       "  2070.44,2126.12 2070.44,-992.193 \n",
       "  \"/>\n",
       "</svg>\n"
      ]
     },
     "execution_count": 9,
     "metadata": {},
     "output_type": "execute_result"
    }
   ],
   "source": [
    "my_xs = my_ks\n",
    "my_ys = my_pks\n",
    "\n",
    "S_VLIM = 8\n",
    "S_VLIM_F = @sprintf(\"%.2f\", S_VLIM)\n",
    "\n",
    "P = plot(\n",
    "    my_xs[my_ys .> 0], my_ys[my_ys .> 0], \n",
    "    xaxis=:log, \n",
    "    yaxis=:log, \n",
    "    lw=2, lc=:red, ls=:solid, \n",
    "    size=(550, 300),\n",
    "    #label=\"My PS\", \n",
    "    #legend=:bottomleft,\n",
    "    legend=false,\n",
    ")\n",
    "\n",
    "vline!(P, [S_VLIM], label=\"$S_VLIM_F Mpc/h_0\", lc=:black, \n",
    "    lw=0.5, ls=:dash)\n",
    "\n",
    "#savefig(P, \"PS_AutoDoppler_L0.pdf\")\n",
    "#display(P)"
   ]
  },
  {
   "cell_type": "code",
   "execution_count": null,
   "id": "c328b3f5-6a5b-47bf-b4de-8cf1e6ea7a5e",
   "metadata": {},
   "outputs": [],
   "source": []
  },
  {
   "cell_type": "code",
   "execution_count": null,
   "id": "c5da8a19-609d-464b-81c4-26631e9b30ae",
   "metadata": {},
   "outputs": [],
   "source": []
  },
  {
   "cell_type": "code",
   "execution_count": null,
   "id": "afa655d9-8d9c-47e2-9b41-7eb5e645cf6e",
   "metadata": {},
   "outputs": [],
   "source": []
  }
 ],
 "metadata": {
  "kernelspec": {
   "display_name": "Julia 1.7.2",
   "language": "julia",
   "name": "julia-1.7"
  },
  "language_info": {
   "file_extension": ".jl",
   "mimetype": "application/julia",
   "name": "julia",
   "version": "1.7.2"
  }
 },
 "nbformat": 4,
 "nbformat_minor": 5
}
