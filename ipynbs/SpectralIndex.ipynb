{
 "cells": [
  {
   "cell_type": "code",
   "execution_count": 66,
   "id": "036e79e7-3366-4716-b48c-8c9fb474b206",
   "metadata": {},
   "outputs": [],
   "source": [
    "using Plots, LsqFit, TwoFAST, Dierckx, Printf, LaTeXStrings, Test"
   ]
  },
  {
   "cell_type": "code",
   "execution_count": 60,
   "id": "482972b3-e4a8-4f62-9064-7969c626576c",
   "metadata": {},
   "outputs": [
    {
     "data": {
      "text/plain": [
       "mean_spectral_index (generic function with 1 method)"
      ]
     },
     "execution_count": 60,
     "metadata": {},
     "output_type": "execute_result"
    }
   ],
   "source": [
    "function derivate_point(xp, yp, x1, y1, x2, y2)\n",
    "     l2, l1 = (x2 - xp), (xp - x1)\n",
    "     m2, m1 = (y2 - yp) / l2, (yp - y1) / l1\n",
    "     res = (m1 * l2 + m2 * l1) / (l1 + l2)\n",
    "     #println(res)\n",
    "     return res\n",
    "end\n",
    "\n",
    "function derivate_vector(XS, YS; N::Integer = 1)\n",
    "    @assert length(XS) == length(YS) \"xs and ys must have the same length!\"\n",
    "    @assert length(YS) > 2*N \"length of xs and ys must be > 2N !\"\n",
    "    \n",
    "    mean_exp_xs = sum([log10(abs(x)) for x in XS]) / length(XS)\n",
    "     en_xs = 10.0^(-mean_exp_xs)\n",
    "     xs = XS .* en_xs\n",
    "\n",
    "     mean_exp_ys = sum([log10(abs(y)) for y in YS]) / length(YS)\n",
    "     en_ys = 10.0^(-mean_exp_ys)\n",
    "     ys = YS .* en_ys\n",
    "    \n",
    "     mean_ys = sum(ys)/length(ys)\n",
    "     @assert !all([isapprox(y/mean_ys, 1.0, rtol=1e-6) for y in ys]) \"DO NOT WORK!\"\n",
    "    \n",
    "    \n",
    "     if N == 1\n",
    "          real_vec = [derivate_point(xs[i], ys[i], xs[i-1], ys[i-1], xs[i+1], ys[i+1])\n",
    "                      for i in (N+1):(length(xs)-N)]\n",
    "        return vcat(real_vec[begin], real_vec, real_vec[end]) .* (en_xs / en_ys)\n",
    "     elseif N > 1\n",
    "          vec = [derivate_point(xs[i], ys[i], xs[i-j], ys[i-j], xs[i+j], ys[i+j])\n",
    "                 for i in (N+1):(length(xs)-N), j in 1:N]\n",
    "          real_vec = [sum(row) / N for row in eachrow(vec)]\n",
    "          return vcat([real_vec[begin] for i in 1:N], real_vec,\n",
    "            [real_vec[end] for i in 1:N]) .* (en_xs / en_ys)\n",
    "     else\n",
    "          throw(ErrorException(\" N must be an integer >1, not $N!\"))\n",
    "     end\n",
    "end\n",
    "\n",
    "function spectral_index(xs, ys; N::Integer = 1, con = false)\n",
    "     derivs = derivate_vector(xs, ys; N = N)\n",
    "\n",
    "     if con == false\n",
    "          res = [x * d / y for (x, y, d) in zip(xs, ys, derivs)]\n",
    "        return vcat(\n",
    "            [res[begin+N] for i in 1:N], \n",
    "            res[begin+N:end-N], \n",
    "            [res[end-N] for i in 1:N]\n",
    "        )\n",
    "     else\n",
    "          sec_derivs = derivate_vector(xs, derivs; N = N)\n",
    "          res = [x * d2 / d for (x, d, d2) in zip(xs, derivs, sec_derivs)] .+ 1.0\n",
    "        return vcat(\n",
    "            [res[begin+N+1] for i in 1:N+1], \n",
    "            res[begin+N+1:end-N-1], \n",
    "            [res[end-N-1] for i in 1:N+1]\n",
    "        )\n",
    "     end\n",
    "end\n",
    "\n",
    "function mean_spectral_index(xs, ys; N::Integer = 1, con = false)\n",
    "     @assert length(xs) > 2*N + 2 \"length of xs and ys must be > 2N+2\"\n",
    "     vec = spectral_index(xs, ys; N = N, con = con)[begin+N+1:end-N-1]\n",
    "     return sum(vec) / length(vec)\n",
    "end"
   ]
  },
  {
   "cell_type": "code",
   "execution_count": 56,
   "id": "1406a34f-732c-45ee-b963-a562b8b2f44b",
   "metadata": {},
   "outputs": [
    {
     "data": {
      "text/plain": [
       "100-element Vector{Float64}:\n",
       " 1.221919030616939\n",
       " 0.9911361984620497\n",
       " 0.991136198462048\n",
       " 0.991136198462049\n",
       " 0.9911361984620497\n",
       " 0.9911361984620491\n",
       " 0.9911361984620505\n",
       " 0.9911361984620476\n",
       " 0.9911361984620491\n",
       " 0.9911361984620504\n",
       " 0.9911361984620476\n",
       " 0.9911361984620484\n",
       " 0.9911361984620494\n",
       " ⋮\n",
       " 0.9911361984620497\n",
       " 0.9911361984620478\n",
       " 0.9911361984620501\n",
       " 0.9911361984620498\n",
       " 0.9911361984620491\n",
       " 0.9911361984620486\n",
       " 0.9911361984620493\n",
       " 0.9911361984620501\n",
       " 0.9911361984620507\n",
       " 0.991136198462048\n",
       " 0.9911361984620493\n",
       " 0.8039411280842566"
      ]
     },
     "execution_count": 56,
     "metadata": {},
     "output_type": "execute_result"
    }
   ],
   "source": [
    "xs = 10 .^ range(-6,-4, length=100)\n",
    "ys = [3.6e-22 + 3.65*x^(-3.5) for x in xs]\n",
    "calc = derivate_vector(xs, ys)\n",
    "[-3.65*3.5*x^(-4.5)/c for (x,c) in zip(xs, calc)]"
   ]
  },
  {
   "cell_type": "code",
   "execution_count": 58,
   "id": "7f5063ab-72ec-4378-a886-344a3e0f834a",
   "metadata": {},
   "outputs": [
    {
     "data": {
      "text/plain": [
       "100-element Vector{Float64}:\n",
       " 0.9911361984620496\n",
       " 0.9911361984620496\n",
       " 0.991136198462048\n",
       " 0.9911361984620487\n",
       " 0.9911361984620495\n",
       " 0.9911361984620491\n",
       " 0.9911361984620504\n",
       " 0.9911361984620476\n",
       " 0.9911361984620491\n",
       " 0.9911361984620505\n",
       " 0.9911361984620476\n",
       " 0.9911361984620481\n",
       " 0.9911361984620494\n",
       " ⋮\n",
       " 0.9911361984620497\n",
       " 0.9911361984620476\n",
       " 0.9911361984620503\n",
       " 0.9911361984620498\n",
       " 0.991136198462049\n",
       " 0.9911361984620486\n",
       " 0.9911361984620491\n",
       " 0.9911361984620501\n",
       " 0.9911361984620506\n",
       " 0.9911361984620479\n",
       " 0.9911361984620491\n",
       " 0.9911361984620491"
      ]
     },
     "execution_count": 58,
     "metadata": {},
     "output_type": "execute_result"
    }
   ],
   "source": [
    "xs = 10 .^ range(-6,-4, length=100)\n",
    "ys = [3.65*x^(-3.5) for x in xs]\n",
    "calc = spectral_index(xs, ys; N=1, con=false)\n",
    "[-3.5/c for (x,c) in zip(xs, calc)]"
   ]
  },
  {
   "cell_type": "code",
   "execution_count": 64,
   "id": "2c465614-723b-4663-a082-0c57f35f7b5a",
   "metadata": {},
   "outputs": [
    {
     "data": {
      "text/plain": [
       "1.0145292451492502"
      ]
     },
     "execution_count": 64,
     "metadata": {},
     "output_type": "execute_result"
    }
   ],
   "source": [
    "xs = 10 .^ range(-6, -4, length=100)\n",
    "ys = [3.54e6 * x^(-4.856) for x in xs]\n",
    "mean_spectral_index(xs, ys; con = false)/(-4.856)"
   ]
  },
  {
   "cell_type": "code",
   "execution_count": 67,
   "id": "6fc38bbb-ba8d-41cc-827d-05c89a918a18",
   "metadata": {},
   "outputs": [
    {
     "name": "stdout",
     "output_type": "stream",
     "text": [
      "\u001b[91m\u001b[1mTest Failed\u001b[22m\u001b[39m at \u001b[39m\u001b[1mIn[67]:1\u001b[22m\n",
      "  Expression: isapprox(mean_spectral_index(xs, ys; con = false), -4.856; atol = 0.05)\n",
      "   Evaluated: isapprox(-4.9265540144447595, -4.856; atol = 0.05)\n"
     ]
    },
    {
     "ename": "LoadError",
     "evalue": "\u001b[91mThere was an error during testing\u001b[39m",
     "output_type": "error",
     "traceback": [
      "\u001b[91mThere was an error during testing\u001b[39m",
      "",
      "Stacktrace:",
      " [1] record(ts::Test.FallbackTestSet, t::Union{Test.Error, Test.Fail})",
      "   @ Test ~/.julia/usr/share/julia/stdlib/v1.7/Test/src/Test.jl:903",
      " [2] do_test(result::Test.ExecutionResult, orig_expr::Any)",
      "   @ Test ~/.julia/usr/share/julia/stdlib/v1.7/Test/src/Test.jl:637",
      " [3] top-level scope",
      "   @ ~/.julia/usr/share/julia/stdlib/v1.7/Test/src/Test.jl:445",
      " [4] eval",
      "   @ ./boot.jl:373 [inlined]",
      " [5] include_string(mapexpr::typeof(REPL.softscope), mod::Module, code::String, filename::String)",
      "   @ Base ./loading.jl:1196"
     ]
    }
   ],
   "source": [
    " @test isapprox(mean_spectral_index(xs, ys; con = false), -4.856; atol = 5e-2)"
   ]
  },
  {
   "cell_type": "code",
   "execution_count": null,
   "id": "3de790c7-7e81-4ad1-8362-e34195543972",
   "metadata": {},
   "outputs": [],
   "source": []
  }
 ],
 "metadata": {
  "kernelspec": {
   "display_name": "Julia 1.7.2",
   "language": "julia",
   "name": "julia-1.7"
  },
  "language_info": {
   "file_extension": ".jl",
   "mimetype": "application/julia",
   "name": "julia",
   "version": "1.7.2"
  }
 },
 "nbformat": 4,
 "nbformat_minor": 5
}
