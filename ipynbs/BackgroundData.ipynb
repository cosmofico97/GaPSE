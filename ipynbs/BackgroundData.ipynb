{
 "cells": [
  {
   "cell_type": "code",
   "execution_count": 1,
   "id": "036daf01-edf5-42d4-837f-6c0b9feca281",
   "metadata": {},
   "outputs": [],
   "source": [
    "using DelimitedFiles, Plots, Dierckx, QuadGK, SpecialFunctions\n",
    "using TwoFAST, LaTeXStrings, LsqFit"
   ]
  },
  {
   "cell_type": "code",
   "execution_count": 2,
   "id": "fed1e2c4-5dc2-4b35-9be0-8554a5ad19d5",
   "metadata": {},
   "outputs": [],
   "source": [
    "struct BackgroundData\n",
    "     z::Vector{Float64}\n",
    "     conftime::Vector{Float64}\n",
    "     comdist::Vector{Float64}\n",
    "     angdist::Vector{Float64}\n",
    "     lumdist::Vector{Float64}\n",
    "     D::Vector{Float64}\n",
    "     f::Vector{Float64}\n",
    "     ℋ::Vector{Float64}\n",
    "     ℋ_p::Vector{Float64}\n",
    "\n",
    "     function BackgroundData(file::String, z_max;\n",
    "          names = NAMES_BACKGROUND, h = 0.7)\n",
    "     \n",
    "          I_redshift = findfirst(x -> x == \"z\", names)\n",
    "          I_comdist = findfirst(x -> x == \"comov. dist.\", names)\n",
    "     \n",
    "          data = readdlm(file, comments = true)\n",
    "     \n",
    "          N_z_MAX = findfirst(z -> z <= z_max, data[:, I_redshift]) - 1\n",
    "          com_dist_z_MAX = data[:, I_comdist][N_z_MAX]\n",
    "          N_2_com_dist_z_MAX = findfirst(s -> s <= 2.0 * com_dist_z_MAX, data[:, I_comdist]) - 1\n",
    "     \n",
    "          data_dict = Dict([name => reverse(data[:, i][N_2_com_dist_z_MAX:end])\n",
    "                            for (i, name) in enumerate(names)]...)\n",
    "     \n",
    "          com_H = data_dict[\"H [1/Mpc]\"] ./ h ./ (1.0 .+ data_dict[\"z\"])\n",
    "          conf_time = data_dict[\"conf. time [Mpc]\"] .* h\n",
    "          spline_com_H = Spline1D(reverse(conf_time), reverse(com_H); bc = \"nearest\")\n",
    "          com_H_p = [Dierckx.derivative(spline_com_H, t) for t in conf_time]\n",
    "     \n",
    "          new(\n",
    "               data_dict[\"z\"],\n",
    "               conf_time,\n",
    "               data_dict[\"comov. dist.\"] .* h,\n",
    "               data_dict[\"ang.diam.dist.\"] .* h,\n",
    "               data_dict[\"lum. dist.\"] .* h,\n",
    "               data_dict[\"gr.fac. D\"],\n",
    "               data_dict[\"gr.fac. f\"],\n",
    "               com_H,\n",
    "               com_H_p,\n",
    "          )\n",
    "     end\n",
    "end"
   ]
  },
  {
   "cell_type": "code",
   "execution_count": 3,
   "id": "57fcd09b-e8d0-45f0-beb6-f5b1033fbc12",
   "metadata": {},
   "outputs": [],
   "source": [
    "NAMES_BACKGROUND = [\"z\", \"proper time [Gyr]\", \"conf. time [Mpc]\", \"H [1/Mpc]\",\n",
    "     \"comov. dist.\", \"ang.diam.dist.\", \"lum. dist.\", \"comov.snd.hrz.\",\n",
    "     \"(.)rho_g\", \"(.)rho_b\", \"(.)rho_cdm\", \"(.)rho_lambda\", \"(.)rho_ur\",\n",
    "     \"(.)rho_crit\", \"gr.fac. D\", \"gr.fac. f\"];"
   ]
  },
  {
   "cell_type": "code",
   "execution_count": 4,
   "id": "0968886a-f832-4656-8b60-437f12f4b3b2",
   "metadata": {},
   "outputs": [],
   "source": [
    "BD = BackgroundData(\"../data/WideA_ZA_background.dat\", 0.20);"
   ]
  },
  {
   "cell_type": "code",
   "execution_count": null,
   "id": "78d9d503-18c2-4c30-bab2-1a6bf1abba68",
   "metadata": {},
   "outputs": [],
   "source": [
    "println(BD.ℋ_p)"
   ]
  },
  {
   "cell_type": "code",
   "execution_count": null,
   "id": "c60a7415-5a18-43da-bec9-347721db6340",
   "metadata": {},
   "outputs": [],
   "source": []
  }
 ],
 "metadata": {
  "kernelspec": {
   "display_name": "Julia 1.7.0",
   "language": "julia",
   "name": "julia-1.7"
  },
  "language_info": {
   "file_extension": ".jl",
   "mimetype": "application/julia",
   "name": "julia",
   "version": "1.7.0"
  }
 },
 "nbformat": 4,
 "nbformat_minor": 5
}
