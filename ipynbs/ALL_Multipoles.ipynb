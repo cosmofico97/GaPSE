{
 "cells": [
  {
   "cell_type": "markdown",
   "id": "cfc8ac95-917f-4b9d-85cd-6b8e96af8240",
   "metadata": {},
   "source": [
    "This file is part of GaPSE\n",
    "Copyright (C) 2022 Matteo Foglieni\n",
    "\n",
    "GaPSE is free software: you can redistribute it and/or modify\n",
    "it under the terms of the GNU General Public License as published by\n",
    "the Free Software Foundation, either version 3 of the License, or\n",
    "(at your option) any later version.\n",
    "\n",
    "GaPSE is distributed in the hope that it will be useful, but\n",
    "WITHOUT ANY WARRANTY; without even the implied warranty of\n",
    "MERCHANTABILITY or FITNESS FOR A PARTICULAR PURPOSE. See the GNU\n",
    "General Public License for more details.\n",
    "\n",
    "You should have received a copy of the GNU General Public License\n",
    "along with GaPSE. If not, see <http://www.gnu.org/licenses/>."
   ]
  },
  {
   "cell_type": "code",
   "execution_count": 1,
   "id": "85702664-f5d7-44c0-b27a-47cd1180cfcb",
   "metadata": {},
   "outputs": [],
   "source": [
    "PATH_TO_GAPSE = \"../\";"
   ]
  },
  {
   "cell_type": "code",
   "execution_count": 2,
   "id": "8062021e-08d5-40ad-acd2-29ef16e753e6",
   "metadata": {},
   "outputs": [],
   "source": [
    "include(PATH_TO_GAPSE * \"src/GaPSE.jl\");"
   ]
  },
  {
   "cell_type": "code",
   "execution_count": 3,
   "id": "57b87bab-d380-429c-bd73-8678bb97ac3c",
   "metadata": {},
   "outputs": [],
   "source": [
    "using DelimitedFiles, Plots, Dierckx, SpecialFunctions\n",
    "using Printf, LaTeXStrings"
   ]
  },
  {
   "cell_type": "code",
   "execution_count": 4,
   "id": "c6e059ad-b943-4c16-8dfc-b185bd854684",
   "metadata": {},
   "outputs": [
    {
     "name": "stdout",
     "output_type": "stream",
     "text": [
      "###############\n",
      "#    GaPSE    #\n",
      "############### \n",
      "#\n",
      "# The Cosmology considered had the following paremeters:\n",
      "# \n",
      "# - Matter Power Spectrum input file: \"../test/datatest/file_pk.txt\"\n",
      "# - F window function input file: \"../test/datatest/F_REFERENCE.txt\"\n",
      "# - Background data input file: \"../test/datatest/WideA_ZA_background.dat\"\n",
      "#\n",
      "# - Basic CosmoParams considered: \n",
      "#\t z_min = 0.05 \t z_max = 0.2\n",
      "#\t theta_max = 1.5707963267948966 [rad] \t h_0 = 0.7\n",
      "#\t Ω_b = 0.0489 \t Ω_cdm = 0.25102 \t Ω_M0 = 0.29992\n",
      "#\n",
      "# - CosmoParams about the Input Power Spectrum: \n",
      "#\t fit_left_min = 1.0e-6 \t fit_right_min = 10.0 \t \n",
      "#\t fit_left_max = 3.0e-6 \t fit_right_max = 20.0 \t \n",
      "#\n",
      "# - CosmoParams about the Input Power Spectrum Tools: \n",
      "#\t k_max = 10.0 \t N = 1024 \t fit_max = 0.5 \t \n",
      "#\t con = true \t k_min = 1.0e-8 \t fit_min = 0.05 \t \n",
      "#\n",
      "# - Computed quantities: \n",
      "# \t effective redshift z_eff = 0.15045636096023224 \n",
      "# \t comoving s_min = 148.1920001465757 Mpc/h_0\n",
      "# \t comoving s_max = 571.7022420258767 Mpc/h_0\n",
      "# \t comoving s_eff = 435.3747095690664 Mpc/h_0\n",
      "# \t Volume of the survey V_survey = 3.845366167995967e8 Mpc^3/h_0^3\n",
      "# \t σ_0 = 15.593462966741178\n",
      "# \t σ_1 = 15.074895881392285\n",
      "# \t σ_2 = 100.85852368830226\n",
      "# \t σ_3 = 3735.1226181519773\n",
      "# \t (where σ_i = \\int_{k_{min}}^{k_{max}}\\frac{dq}{2 π^2} q^{2-i} P(q))\n",
      "# \n"
     ]
    }
   ],
   "source": [
    "FILE_F_MAP = PATH_TO_GAPSE * \"test/datatest/F_REFERENCE.txt\"\n",
    "FILE_PS = PATH_TO_GAPSE * \"test/datatest/file_pk.txt\"\n",
    "FILE_BACKGROUND = PATH_TO_GAPSE * \"test/datatest/WideA_ZA_background.dat\"\n",
    "\n",
    "z_min, z_max, θ_max = 0.05, 0.20, π / 2.0\n",
    "params = GaPSE.CosmoParams(z_min, z_max, θ_max;\n",
    "    Ω_b = 0.0489, Ω_cdm = 0.251020, h_0 = 0.70, s_lim=1e-2,\n",
    "    IPS_opts = Dict(\n",
    "        :fit_left_min => 1e-6, :fit_left_max => 3e-6,\n",
    "        :fit_right_min => 1e1, :fit_right_max => 2e1),\n",
    "    IPSTools_opts = Dict(\n",
    "        :N => 1024, :fit_min => 0.05, :fit_max => 0.5, \n",
    "        :con => true, :k_min => 1e-8, :k_max => 10.0),\n",
    ")\n",
    "\n",
    "cosmo = GaPSE.Cosmology(params, FILE_BACKGROUND, FILE_PS, FILE_F_MAP);\n",
    "\n",
    "GaPSE.parameters_used(stdout, cosmo)"
   ]
  },
  {
   "cell_type": "code",
   "execution_count": 5,
   "id": "b9fe4b80-83ea-4195-82fb-6266f1a07cf6",
   "metadata": {},
   "outputs": [],
   "source": [
    "IMPLEMENTED_GR_EFFECTS = [\n",
    "     \"auto_doppler\", \"auto_lensing\",\n",
    "     \"auto_localgp\", \"auto_integratedgp\",\n",
    "\n",
    "     \"lensing_doppler\", \"doppler_lensing\",\n",
    "     \"doppler_localgp\", \"localgp_doppler\",\n",
    "     \"doppler_integratedgp\",  \"integratedgp_doppler\",\n",
    "     \"lensing_localgp\", \"localgp_lensing\",\n",
    "     \"lensing_integratedgp\",  \"integratedgp_lensing\",\n",
    "     \"localgp_integratedgp\", \"integratedgp_localgp\",\n",
    "];\n",
    "\n",
    "ξs_names = [\n",
    "    L\"$\\xi^{v_{\\parallel} \\, v_{\\parallel}}$\", \n",
    "    L\"$\\xi^{\\kappa \\, \\kappa}$\", \n",
    "    L\"$\\xi^{\\phi \\, \\phi}$\", \n",
    "    L\"$\\xi^{\\int\\phi \\, \\int\\phi}$\", \n",
    "    \n",
    "    L\"$\\xi^{\\kappa \\, v_{\\parallel}}$\",\n",
    "    L\"$\\xi^{v_{\\parallel} \\, \\kappa}$\",\n",
    "    \n",
    "    L\"$\\xi^{v_{\\parallel} \\, \\phi}$\",\n",
    "    L\"$\\xi^{\\phi \\, v_{\\parallel}}$\",\n",
    "    \n",
    "    L\"$\\xi^{v_{\\parallel} \\, \\int\\phi}$\",\n",
    "    L\"$\\xi^{\\int\\phi \\, v_{\\parallel}}$\",\n",
    "    \n",
    "    L\"$\\xi^{\\kappa \\, \\phi}$\",\n",
    "    L\"$\\xi^{\\phi \\, \\kappa}$\",\n",
    "    \n",
    "    L\"$\\xi^{\\kappa \\, \\int\\phi}$\",\n",
    "    L\"$\\xi^{\\int\\phi \\, \\kappa}$\",\n",
    "    \n",
    "    L\"$\\xi^{\\phi \\, \\int\\phi}$\",\n",
    "    L\"$\\xi^{\\int\\phi \\, \\phi}$\",\n",
    "]\n",
    "\n",
    "INDEX_GR_EFFECT = Dict([name => i for (i, name) in \n",
    "            enumerate(IMPLEMENTED_GR_EFFECTS)]...);\n",
    "GR_EFFECT_INDEXED = Dict([i => name for (i, name) in \n",
    "            enumerate(IMPLEMENTED_GR_EFFECTS)]...);"
   ]
  },
  {
   "cell_type": "code",
   "execution_count": 6,
   "id": "f794d46f-142b-4965-8916-3c17528328d2",
   "metadata": {},
   "outputs": [],
   "source": [
    "effect = \"lensing_doppler\";\n",
    "LIM_MULTIPOLE = 4;\n",
    "l = @layout [A{0.05h}; a ; b c ; d e ];"
   ]
  },
  {
   "cell_type": "code",
   "execution_count": 7,
   "id": "3feb8174-2767-4c4e-8369-d436e925c738",
   "metadata": {},
   "outputs": [],
   "source": [
    "my_path = \"ALL_Multipoles_files/\"\n",
    "my_files = my_path .* [\n",
    "    \"xi_\"* effect * \"_L\"* \"$L\" * \".txt\" for L in 0:LIM_MULTIPOLE];\n",
    "\n",
    "my_dict =  Dict([k => v for (k, v) in \n",
    "            zip(IMPLEMENTED_GR_EFFECTS, my_files)]...);"
   ]
  },
  {
   "cell_type": "code",
   "execution_count": 8,
   "id": "5d9e4160-ff51-49a8-b549-f86054ac59b2",
   "metadata": {},
   "outputs": [
    {
     "name": "stderr",
     "output_type": "stream",
     "text": [
      "\u001b[32mlensing_doppler, L=0: 100%|█████████████████████████████| Time: 0:00:03\u001b[39m\n",
      "\u001b[32mlensing_doppler, L=1: 100%|█████████████████████████████| Time: 0:00:01\u001b[39m\n",
      "\u001b[32mlensing_doppler, L=2: 100%|█████████████████████████████| Time: 0:00:01\u001b[39m\n",
      "\u001b[32mlensing_doppler, L=3: 100%|█████████████████████████████| Time: 0:00:02\u001b[39m\n",
      "\u001b[32mlensing_doppler, L=4: 100%|█████████████████████████████| Time: 0:00:02\u001b[39m\n"
     ]
    },
    {
     "name": "stdout",
     "output_type": "stream",
     "text": [
      "\n",
      "time needed for map_integral_on_mu for lensing_doppler [in s] = 3.19687 \n",
      "\n",
      "time needed for map_integral_on_mu for lensing_doppler [in s] = 1.47069 \n",
      "\n",
      "time needed for map_integral_on_mu for lensing_doppler [in s] = 1.49246 \n",
      "\n",
      "time needed for map_integral_on_mu for lensing_doppler [in s] = 2.13403 \n",
      "\n",
      "time needed for map_integral_on_mu for lensing_doppler [in s] = 2.58924 \n"
     ]
    }
   ],
   "source": [
    "kwargs = Dict(\n",
    "    :enhancer => 1e25, :N_μs => 30, :μ_atol => 0.0, :μ_rtol => 1e-2,\n",
    "    :en => 1e6, :N_χs => 50, #Δχ_min = 1e-4, \n",
    "    );\n",
    "\n",
    "for i in 0:(LIM_MULTIPOLE)\n",
    "    GaPSE.print_map_ξ_multipole(\n",
    "        cosmo, \n",
    "        \"ALL_Multipoles_files/xi_\"*effect*\"_L$i\" * \".txt\", \n",
    "        effect, \n",
    "        10 .^ range(0, 3, length=300); \n",
    "        use_windows = false, L = i,\n",
    "        kwargs...\n",
    "    )\n",
    "end"
   ]
  },
  {
   "cell_type": "code",
   "execution_count": 9,
   "id": "685a78e0-72ec-4004-aa20-845e5df509fa",
   "metadata": {},
   "outputs": [],
   "source": [
    "my_all_table = [readdlm(file, comments=true) for file in my_files]\n",
    "my_all_ss = [convert(Vector{Float64}, t[:,1]) for t in my_all_table];\n",
    "my_all_ξs = [convert(Vector{Float64}, t[:,2]) for t in my_all_table];"
   ]
  },
  {
   "cell_type": "code",
   "execution_count": null,
   "id": "d924c48d-0f55-4214-a7cd-96070d518aa6",
   "metadata": {},
   "outputs": [],
   "source": [
    "pyplot()\n",
    "ps = [plot() for i in 0:LIM_MULTIPOLE]\n",
    "\n",
    "title = plot(title = effect * \" multipoles\", grid=false, \n",
    "    showaxis = false, bottom_margin = -20Plots.px, ticks=false)\n",
    "\n",
    "legend_pos_norm=[:bottomleft, :topright, :bottomleft, :bottomleft, :topleft,]\n",
    "\n",
    "legend_pos_square=[ :bottom, :topleft, :bottomleft, :bottomleft, :bottomright, ]\n",
    "\n",
    "for i in 1:(LIM_MULTIPOLE+1)\n",
    "    my_xs = my_all_ss[i]\n",
    "    my_ys = my_all_ξs[i] .* my_xs .^2\n",
    "    \n",
    "    L=i-1\n",
    "    ps[i] = plot(\n",
    "        my_xs, my_ys .* my_xs .^2,\n",
    "        size=(300, 100),\n",
    "        lw=2, lc=\"red\", ls=:solid,\n",
    "        #label = \"My\",\n",
    "        #legend=legend_pos_square[i],\n",
    "        legend=false,\n",
    "        xlabel = L\"s \\quad [h_0^{-1}\\,\\mathrm{Mpc}]\",\n",
    "        ylabel = L\"s^2 \\, \" * ξs_names[INDEX_GR_EFFECT[effect]] * L\"_{L=%$L}(s)\",\n",
    "        #xaxis=:log,\n",
    "        #yaxis=:log,\n",
    "        top_margins=15Plots.px,\n",
    "    )\n",
    "end\n",
    "\n",
    "P = plot(title, ps..., layout=l, \n",
    "    left_margins = 15Plots.px, right_margins = 30Plots.px,\n",
    "    size=(600,700))\n",
    "\n",
    "#savefig(P, \"xi_\"*\"$effect\"*\"_multipoles.pdf\")\n",
    "#display(P)"
   ]
  },
  {
   "cell_type": "code",
   "execution_count": null,
   "id": "e46dd3d0-1848-4e21-a7d9-374bb2d10f76",
   "metadata": {},
   "outputs": [],
   "source": []
  },
  {
   "cell_type": "code",
   "execution_count": null,
   "id": "440c3277-75c8-4430-b5ee-f6abca420659",
   "metadata": {},
   "outputs": [],
   "source": []
  }
 ],
 "metadata": {
  "@webio": {
   "lastCommId": "f221066e-6415-485b-b9ca-2cc2296f48a0",
   "lastKernelId": "0fae069d-902f-41ba-897a-d7450d204b62"
  },
  "kernelspec": {
   "display_name": "Julia 1.7.2",
   "language": "julia",
   "name": "julia-1.7"
  },
  "language_info": {
   "file_extension": ".jl",
   "mimetype": "application/julia",
   "name": "julia",
   "version": "1.7.2"
  }
 },
 "nbformat": 4,
 "nbformat_minor": 5
}
