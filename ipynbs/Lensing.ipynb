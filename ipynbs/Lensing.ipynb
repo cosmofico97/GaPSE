{
 "cells": [
  {
   "cell_type": "code",
   "execution_count": 1,
   "id": "1e11cfea-085b-4256-83e4-9807d42973eb",
   "metadata": {},
   "outputs": [],
   "source": [
    "include(\"../src/GaPSE.jl\");"
   ]
  },
  {
   "cell_type": "code",
   "execution_count": 2,
   "id": "868119ba-4d11-4eca-9526-3508a9249730",
   "metadata": {},
   "outputs": [],
   "source": [
    "using DelimitedFiles, Plots, Dierckx, SpecialFunctions"
   ]
  },
  {
   "cell_type": "code",
   "execution_count": 3,
   "id": "ed84679f-2c2c-43b6-9bed-d488bfc912a3",
   "metadata": {},
   "outputs": [
    {
     "name": "stdout",
     "output_type": "stream",
     "text": [
      "I take the input power spectrum as it is,without expanding.\n",
      "l_si, l_b, l_a = -2.000245517236617 , -16.80633322303903 , 0.10603211333142491\n",
      "r_si, r_b, r_a = -3.5566741647984137 , -18561.189022728868 , 2.343399564267213e-10\n",
      "# The following parameters were used for this computation: \n",
      "# CLASS Power Spectrum input file : \"file_pk.txt\"\n",
      "# F window function input file : \"../data/F_REFERENCE.txt\"\n",
      "# CLASS Background input file: \"../data/WideA_ZA_background.dat\"\n",
      "# \t z_min = 0.05 \t z_max = 0.2\n",
      "# \t k_min = 1.0e-8 \t k_max = 10.0\n",
      "# \t h_0 = 0.7 \t Ω_b = 0.0489 \t Ω_cdm = 0.25102 \t Ω_M0 = 0.29992\n",
      "# \t comoving s_min = 148.19200014818588 Mpc/h_0\n",
      "# \t comoving s_max = 571.7022420258767 Mpc/h_0\n",
      "# \t comoving s_eff = 435.3747095691862 Mpc/h_0\n",
      "# \t comoving z_eff = 0.15045636096027523 \n",
      "# \t Volume of the survey V_survey = 3.845366167993746e8\n",
      "# \t σ_0 = 15.593462966741178\n",
      "# \t σ_1 = 15.074895881392285\n",
      "# \t σ_2 = 100.85852368830221\n",
      "# \t σ_3 = 3735.1227501923527\n",
      "# \n"
     ]
    }
   ],
   "source": [
    "FILE_F_MAP = \"../data/F_REFERENCE.txt\"\n",
    "#FILE_PS = \"../data/WideA_ZA_pk.dat\"\n",
    "FILE_PS = \"file_pk.txt\"\n",
    "FILE_BACKGROUND = \"../data/WideA_ZA_background.dat\"\n",
    "#FILE_IS = \"tab_xi.txt\"\n",
    "\n",
    "z_min = 0.05\n",
    "z_max = 0.20\n",
    "θ_max = π / 2.0\n",
    "params = GaPSE.CosmoParams(z_min, z_max, θ_max;\n",
    "  k_min = 1e-8, k_max = 10.0,\n",
    "  Ω_b = 0.0489, Ω_cdm = 0.251020, h_0 = 0.70,\n",
    "    N = 1024, fit_min = 0.05, fit_max= 0.5, con=true)\n",
    "\n",
    "cosmo = GaPSE.Cosmology(params, FILE_BACKGROUND, FILE_PS, FILE_F_MAP; expand=false)\n",
    "\n",
    "GaPSE.parameters_used(stdout, cosmo)"
   ]
  },
  {
   "cell_type": "code",
   "execution_count": 4,
   "id": "3c9b7126-4ad5-449e-a7c2-ccd196d51a19",
   "metadata": {},
   "outputs": [],
   "source": [
    "#=\n",
    "GaPSE.print_map_ξ_multipole(cosmo, \n",
    "    \"AutoCorrelationTests/xi_lensing_L0_1.txt\", \n",
    "    \"auto_lensing\"; use_windows = false, \n",
    "    N_χs = 50, Δχ_min = 1e-3, enhancer=1e10, use_my=false, μ_atol=1e-5, μ_rtol=1e-1) \n",
    "\n",
    "GaPSE.print_map_int_on_mu(cosmo, \n",
    "    \"AutoCorrelationTests/xi_lensing_L0_2.txt\", \n",
    "    \"auto_lensing\"; use_windows = false, \n",
    "    N_χs = 50, Δχ_min = 1e-4, enhancer=1e10, use_my=false, μ_atol=1e-5, μ_rtol=1e-1) \n",
    "GaPSE.print_map_int_on_mu(cosmo, \n",
    "    \"AutoCorrelationTests/xi_lensing_L0_3.txt\", \n",
    "    \"auto_lensing\"; use_windows = false, \n",
    "    N_χs = 50, Δχ_min = 1e-5, enhancer=1e10, use_my=false, μ_atol=1e-5, μ_rtol=1e-1)\n",
    "=#"
   ]
  },
  {
   "cell_type": "code",
   "execution_count": 5,
   "id": "a732f72f-1a8d-41c8-816a-969218fa57ee",
   "metadata": {},
   "outputs": [],
   "source": [
    "#=\n",
    "my_tab_1 = readdlm(\"AutoCorrelationTests/xi_lensing_L0_1.txt\", comments=true);\n",
    "my_tab_2 = readdlm(\"AutoCorrelationTests/xi_lensing_L0_2.txt\", comments=true);\n",
    "my_tab_3 = readdlm(\"AutoCorrelationTests/xi_lensing_L0_3.txt\", comments=true);\n",
    "\n",
    "ss_1 = convert(Vector{Float64}, my_tab_1[:,1]);\n",
    "xis_1 = convert(Vector{Float64}, my_tab_1[:,2]); \n",
    "ss_2 = convert(Vector{Float64}, my_tab_2[:,1]);\n",
    "xis_2 = convert(Vector{Float64}, my_tab_2[:,2]); \n",
    "ss_3 = convert(Vector{Float64}, my_tab_3[:,1]);\n",
    "xis_3 = convert(Vector{Float64}, my_tab_3[:,2]); \n",
    "=#"
   ]
  },
  {
   "cell_type": "code",
   "execution_count": 6,
   "id": "5da88b58-ef08-443d-ba12-3eb5d70a3f2a",
   "metadata": {},
   "outputs": [
    {
     "name": "stderr",
     "output_type": "stream",
     "text": [
      "\u001b[32mProgress: 100%|█████████████████████████████████████████| Time: 0:01:08\u001b[39m\n"
     ]
    },
    {
     "name": "stdout",
     "output_type": "stream",
     "text": [
      "I will use quadgk.\n",
      "\n",
      "time needed for map_integral_on_mu for auto_lensing [in s] = 68.98168 \n"
     ]
    }
   ],
   "source": [
    "GaPSE.print_map_ξ_multipole(cosmo, \n",
    "    \"AutoCorrelationTests/xi_lensing_L0.txt\", \n",
    "    \"auto_lensing\"; use_windows = false, \n",
    "    N_χs = 100, Δχ_min = 1e-5, enhancer=1e10, use_my=false, μ_atol=1e-10, μ_rtol=1e-1)"
   ]
  },
  {
   "cell_type": "code",
   "execution_count": 7,
   "id": "47d773c3-7276-4c4e-b84e-28bcc7331009",
   "metadata": {},
   "outputs": [],
   "source": [
    "my_table = readdlm(\"AutoCorrelationTests/xi_lensing_L0.txt\", comments=true);\n",
    "my_ss = convert(Vector{Float64}, my_table[:,1]);\n",
    "my_lensings = convert(Vector{Float64}, my_table[:,2]);\n",
    "mattia_table = readdlm(\"/Users/matteofoglieni/Dropbox/GR_effects/Mattia_Output/Monopoles_without_window/xi_lensing_L0.txt\")\n",
    "mattia_ss = convert(Vector{Float64}, mattia_table[2:end, 1]);\n",
    "mattia_lensings = convert(Vector{Float64}, mattia_table[2:end, 2]);\n",
    "casto_table = readdlm(\"tab_kappa_terms.dat\")\n",
    "casto_ss = convert(Vector{Float64}, casto_table[3:end, 1]);\n",
    "casto_lensings = convert(Vector{Float64}, casto_table[3:end, 2]);"
   ]
  },
  {
   "cell_type": "code",
   "execution_count": null,
   "id": "a6cdecd1-b780-4bef-ade8-c4fced897259",
   "metadata": {},
   "outputs": [],
   "source": [
    "my_xs = my_ss\n",
    "my_ys = my_lensings\n",
    "xs = mattia_ss\n",
    "ys = mattia_lensings\n",
    "spline = Spline1D(xs, ys)\n",
    "K_VLINE = 150\n",
    "\n",
    "p1 = plot([my_xs, xs], [my_ys,  ys], xaxis=:log, yaxis=:log, lc=[:red :blue], \n",
    "    label=[\"My Lensing\" \"Mattia Lensing\"], ls=[:dash :solid], legend=:bottomleft)\n",
    "vline!(p1,[K_VLINE], lc=:black, ls=:dash)\n",
    "\n",
    "\n",
    "p2 = plot(my_xs, spline.(my_xs) .- my_ys, \n",
    "    xaxis=:log,label=\"Difference\", lc=:green, legend=:bottomright)\n",
    "vline!(p2,[K_VLINE], lc=:black, ls=:dash)\n",
    "\n",
    "p3 = plot(my_xs, spline.(my_xs) ./ my_ys, label=\"Ratio\", lc=:green, xaxis=:log)\n",
    "    #ylim=(0.94,0.99))\n",
    "vline!(p3,[K_VLINE], lc=:black, ls=:dash)\n",
    "\n",
    "plot(p1, p2, p3, size=(650, 600), layout= @layout [ x ; y z ] )"
   ]
  },
  {
   "cell_type": "code",
   "execution_count": null,
   "id": "a833653c-7f6a-46db-ad0b-0bff0739a7bc",
   "metadata": {},
   "outputs": [],
   "source": [
    "my_xs = casto_ss\n",
    "my_ys = casto_lensings\n",
    "xs = mattia_ss\n",
    "ys = mattia_lensings\n",
    "spline = Spline1D(xs, ys)\n",
    "K_VLINE = 150\n",
    "\n",
    "p1 = plot([my_xs, xs], [my_ys,  ys], xaxis=:log,yaxis=:log, \n",
    "    lc=[:red :blue], \n",
    "    label=[\"My Lensing\" \"Mattia Lensing\"], ls=[:dash :solid], legend=:bottomleft)\n",
    "vline!(p1,[K_VLINE], lc=:black, ls=:dash)\n",
    "\n",
    "\n",
    "p2 = plot(my_xs, spline.(my_xs) .- my_ys, \n",
    "    xaxis=:log,label=\"Difference\", lc=:green, legend=:bottomright)\n",
    "vline!(p2,[K_VLINE], lc=:black, ls=:dash)\n",
    "\n",
    "p3 = plot(my_xs, spline.(my_xs) ./ my_ys, label=\"Ratio\", lc=:green, xaxis=:log)\n",
    "    #ylim=(0.94,0.99))\n",
    "vline!(p3,[K_VLINE], lc=:black, ls=:dash)\n",
    "\n",
    "plot(p1, p2, p3, size=(650, 600), layout= @layout [ x ; y z ] )"
   ]
  },
  {
   "cell_type": "code",
   "execution_count": null,
   "id": "22c43f2c-db99-4613-a9db-dbfb8326e1c2",
   "metadata": {},
   "outputs": [],
   "source": [
    "my_xs = my_ss\n",
    "my_ys = my_lensings\n",
    "xs = casto_ss\n",
    "ys = casto_lensings\n",
    "spline = Spline1D(xs, ys)\n",
    "K_VLINE = 150\n",
    "\n",
    "p1 = plot([my_xs, xs], [my_ys,  ys], xaxis=:log,yaxis=:log, \n",
    "    lc=[:red :blue], \n",
    "    label=[\"My Lensing\" \"Mattia Lensing\"], ls=[:dash :solid], legend=:bottomleft)\n",
    "vline!(p1,[K_VLINE], lc=:black, ls=:dash)\n",
    "\n",
    "\n",
    "p2 = plot(my_xs, spline.(my_xs) .- my_ys, \n",
    "    xaxis=:log,label=\"Difference\", lc=:green, legend=:bottomright)\n",
    "vline!(p2,[K_VLINE], lc=:black, ls=:dash)\n",
    "\n",
    "p3 = plot(my_xs, spline.(my_xs) ./ my_ys, label=\"Ratio\", lc=:green, xaxis=:log)\n",
    "    #ylim=(0.94,0.99))\n",
    "vline!(p3,[K_VLINE], lc=:black, ls=:dash)\n",
    "\n",
    "plot(p1, p2, p3, size=(650, 600), layout= @layout [ x ; y z ] )"
   ]
  },
  {
   "cell_type": "code",
   "execution_count": null,
   "id": "7b071839-1396-428c-a752-951e466c497b",
   "metadata": {},
   "outputs": [],
   "source": [
    "#=\n",
    "plot([casto_ss, ss_1, ss_2, ss_3, ss_prova], \n",
    "    [casto_xis, xis_1, xis_2, xis_3, xis_prova], \n",
    "    xaxis=:log, #yaxis=:log, \n",
    "    label=[\"Casto\" \"My 1\" \"My 2\" \"My 3\" \"prova\"], \n",
    "    lc=[:red :blue :green :purple :black],\n",
    "    ls = [:solid :dash :dash :dash :dot])\n",
    "=#"
   ]
  },
  {
   "cell_type": "code",
   "execution_count": null,
   "id": "1ab81de7-71eb-48eb-8e09-acd110ea4ddd",
   "metadata": {},
   "outputs": [],
   "source": []
  },
  {
   "cell_type": "code",
   "execution_count": null,
   "id": "b280a8cc-c0be-4ab8-b2a8-c133e37c8e73",
   "metadata": {},
   "outputs": [],
   "source": []
  },
  {
   "cell_type": "code",
   "execution_count": null,
   "id": "b3b4a545-322b-468a-94c8-2f748a1be7a9",
   "metadata": {},
   "outputs": [],
   "source": []
  }
 ],
 "metadata": {
  "kernelspec": {
   "display_name": "Julia 1.7.0",
   "language": "julia",
   "name": "julia-1.7"
  },
  "language_info": {
   "file_extension": ".jl",
   "mimetype": "application/julia",
   "name": "julia",
   "version": "1.7.0"
  }
 },
 "nbformat": 4,
 "nbformat_minor": 5
}
