{
 "cells": [
  {
   "cell_type": "code",
   "execution_count": 1,
   "id": "b14b5cde-7af3-4b50-89c9-89afc37c7e6a",
   "metadata": {},
   "outputs": [],
   "source": [
    "include(\"../src/GaPSE.jl\");"
   ]
  },
  {
   "cell_type": "code",
   "execution_count": 20,
   "id": "9f63fc9f-d416-49f4-8304-ada38f354032",
   "metadata": {},
   "outputs": [],
   "source": [
    "using DelimitedFiles, Plots, Dierckx, QuadGK, SpecialFunctions\n",
    "using TwoFAST, LaTeXStrings, LsqFit, MaximumLikelihoodPower"
   ]
  },
  {
   "cell_type": "code",
   "execution_count": 3,
   "id": "60e47df2-0165-4923-a73b-7e3636220187",
   "metadata": {},
   "outputs": [],
   "source": [
    "tab_pk = readdlm(\"file_pk.txt\", comments=true);\n",
    "ks = convert(Vector{Float64}, tab_pk[:,1]);\n",
    "k_min, k_max = ks[begin], ks[end]\n",
    "pks = convert(Vector{Float64}, tab_pk[:,2]);\n",
    "PK = Spline1D(ks, pks);"
   ]
  },
  {
   "cell_type": "markdown",
   "id": "9edc4bdb-db44-4ecd-8caf-d475d2ddb4c0",
   "metadata": {},
   "source": [
    "\\begin{equation}\n",
    "    \\tilde{I}^4_0 (s) = \\int \\frac{dq}{2\\pi^2} q^2P(q) \\frac{j_0(qs) - 1}{(qs)^4}\n",
    "\\end{equation}"
   ]
  },
  {
   "cell_type": "code",
   "execution_count": 5,
   "id": "3281c24e-0435-4f04-b8e9-c3ac06475c45",
   "metadata": {},
   "outputs": [
    {
     "data": {
      "text/plain": [
       "expanded_I04_tilde (generic function with 1 method)"
      ]
     },
     "execution_count": 5,
     "metadata": {},
     "output_type": "execute_result"
    }
   ],
   "source": [
    "function func_I04_tilde(PK, s, kmin, kmax; kwargs...)\n",
    "     res = quadgk(lq -> (sphericalbesselj(0, s * exp(lq)) - 1.0) * PK(exp(lq)) / (2.0 * π^2 * exp(lq)),\n",
    "          log(kmin), log(kmax); kwargs...)[1]\n",
    "\n",
    "     return res / (s^4)\n",
    "end\n",
    "\n",
    "function expanded_I04_tilde(PK, ss, kmin, kmax; kwargs...)\n",
    "\n",
    "     fit_1, fit_2 = 0.1, 10.0\n",
    "     fit_3, fit_4 = 300.0, 1000.0\n",
    "    \n",
    "    if all(fit_1 .< ss .< fit_4)\n",
    "        return [func_I04_tilde(PK, s, kmin, kmax; kwargs...) for s in ss]\n",
    "        \n",
    "    elseif all(ss .> fit_1)\n",
    "        cutted_ss = ss[ss .< fit_4]\n",
    "        cutted_I04_tildes = [func_I04_tilde(PK, s, kmin, kmax; kwargs...) for s in cutted_ss]\n",
    "        r_si, r_b, r_a = GaPSE.power_law_from_data(cutted_ss, cutted_I04_tildes,\n",
    "             [-4.0, 1.0, 0.0], fit_3, fit_4; con = true)\n",
    "        println(\"r_si, r_b, r_a = $r_si , $r_b , $r_a\")\n",
    "        right_I04_tildes = [GaPSE.power_law(s, r_si, r_b, r_a) for s in ss[ss.>=fit_4]]\n",
    "\n",
    "        return vcat(cutted_I04_tildes, right_I04_tildes)\n",
    "        \n",
    "    elseif all(ss .< fit_4)\n",
    "        cutted_ss = ss[ss .> fit_1]\n",
    "        cutted_I04_tildes = [func_I04_tilde(PK, s, kmin, kmax; kwargs...) for s in cutted_ss]\n",
    "        l_si, l_b, l_a = GaPSE.power_law_from_data(cutted_ss, cutted_I04_tildes,\n",
    "          [-2.0, 1.0, 0.0], fit_1, fit_2; con = true)\n",
    "        println(\"l_si, l_b, l_a = $l_si , $l_b , $l_a\")\n",
    "        left_I04_tildes = [GaPSE.power_law(s, l_si, l_b, l_a) for s in ss[ss.<=fit_1]]\n",
    "        \n",
    "        return vcat(left_I04_tildes, cutted_I04_tildes)\n",
    "        \n",
    "    else\n",
    "        cutted_ss = ss[fit_1 .< ss .< fit_4]\n",
    "        cutted_I04_tildes = [func_I04_tilde(PK, s, kmin, kmax; kwargs...) for s in cutted_ss]\n",
    "\n",
    "        l_si, l_b, l_a = GaPSE.power_law_from_data(cutted_ss, cutted_I04_tildes,\n",
    "          [-2.0, 1.0, 0.0], fit_1, fit_2; con = true)\n",
    "        println(\"l_si, l_b, l_a = $l_si , $l_b , $l_a\")\n",
    "        r_si, r_b, r_a = GaPSE.power_law_from_data(cutted_ss, cutted_I04_tildes,\n",
    "         [-4.0, 1.0, 0.0], fit_3, fit_4; con = true)\n",
    "        println(\"r_si, r_b, r_a = $r_si , $r_b , $r_a\")\n",
    "        left_I04_tildes = [GaPSE.power_law(s, l_si, l_b, l_a) for s in ss[ss.<=fit_1]]\n",
    "        right_I04_tildes = [GaPSE.power_law(s, r_si, r_b, r_a) for s in ss[ss.>=fit_4]]\n",
    "\n",
    "        I04_tildes = vcat(left_I04_tildes, cutted_I04_tildes, right_I04_tildes)\n",
    "\n",
    "        return I04_tildes  \n",
    "    end\n",
    "end"
   ]
  },
  {
   "cell_type": "code",
   "execution_count": null,
   "id": "6d809209-ce43-47b5-b621-09bba955db0f",
   "metadata": {},
   "outputs": [],
   "source": [
    "tab_mattia_I04_tildes = readdlm(\"/Users/matteofoglieni/Dropbox/GR_effects/Mattia_Output/I40_tilde.txt\");\n",
    "mattia_I04_ss = convert(Vector{Float64}, tab_mattia_I04_tildes[2:end,1]);\n",
    "mattia_I04_tildes = convert(Vector{Float64}, tab_mattia_I04_tildes[2:end,2]);\n",
    "my_I04_tildes = expanded_I04_tilde(PK, mattia_I04_ss, k_min, k_max);"
   ]
  },
  {
   "cell_type": "code",
   "execution_count": null,
   "id": "e98195fb-0f50-4bf3-a663-94fbfd6d6af9",
   "metadata": {},
   "outputs": [],
   "source": [
    "xs = mattia_I04_ss\n",
    "ys = -mattia_I04_tildes\n",
    "#spline = cosmo.tools.I04_tilde\n",
    "my_ys = -my_I04_tildes\n",
    "\n",
    "p1 = plot([xs[my_ys .>0], xs], [my_ys[my_ys .>0],  ys], xaxis=:log, yaxis=:log, \n",
    "    lc=[:red :blue], \n",
    "    label=[\"My I04t\" \"Mattia I04t\"], ls=[:dash :solid], legend=:topleft)\n",
    "\n",
    "p2 = plot(xs, my_ys .- ys, \n",
    "    xaxis=:log,label=\"Difference\", lc=:green, legend=:bottomright)\n",
    "p3 = plot(xs, my_ys ./ ys, label=\"Ratio\", lc=:green, xaxis=:log, ylim=(0.99, 1.01))\n",
    "\n",
    "plot(p1, p2, p3, size=(650, 600), layout= @layout [ x ; y z ] )"
   ]
  },
  {
   "cell_type": "code",
   "execution_count": null,
   "id": "661c8b9c-2460-4cb8-b3f5-3e261f683896",
   "metadata": {},
   "outputs": [],
   "source": [
    "xs = 10 .^ range(1, 5, length=100)\n",
    "ys = expanded_I04_tilde(PK, xs, k_min, k_max)\n",
    "plot(xs[-ys .>0], -ys[-ys .>0], xaxis=:log, yaxis=:log\n",
    "    )"
   ]
  },
  {
   "cell_type": "code",
   "execution_count": 6,
   "id": "58316fd8-e287-4d3e-9a8c-77f6d83a3ce9",
   "metadata": {},
   "outputs": [
    {
     "data": {
      "text/plain": [
       "-3.701410210979164"
      ]
     },
     "execution_count": 6,
     "metadata": {},
     "output_type": "execute_result"
    }
   ],
   "source": [
    "xs = 10 .^ range(3,4, length=100)\n",
    "ys = [func_I04_tilde(PK, x, k_min, k_max) for x in xs]\n",
    "#GaPSE.power_law_from_data(xs, ys, [-4.0, -1.0]; con=false)\n",
    "GaPSE.mean_spectral_index(xs, ys; N=3, con=false)"
   ]
  },
  {
   "cell_type": "code",
   "execution_count": 11,
   "id": "d18036fb-6543-4223-a6d3-2c4d7a9585a3",
   "metadata": {},
   "outputs": [
    {
     "data": {
      "text/plain": [
       "2-element Vector{Float64}:\n",
       " -124.0\n",
       "    0.0"
      ]
     },
     "execution_count": 11,
     "metadata": {},
     "output_type": "execute_result"
    }
   ],
   "source": [
    "GaPSE.power_law_b_a(xs, ys, -3.7014, [-124.0]; con=false)"
   ]
  },
  {
   "cell_type": "code",
   "execution_count": 36,
   "id": "507d9bb7-6d23-435e-949c-e5b22e692470",
   "metadata": {},
   "outputs": [
    {
     "data": {
      "image/svg+xml": [
       "<?xml version=\"1.0\" encoding=\"utf-8\"?>\n",
       "<svg xmlns=\"http://www.w3.org/2000/svg\" xmlns:xlink=\"http://www.w3.org/1999/xlink\" width=\"600\" height=\"400\" viewBox=\"0 0 2400 1600\">\n",
       "<defs>\n",
       "  <clipPath id=\"clip800\">\n",
       "    <rect x=\"0\" y=\"0\" width=\"2400\" height=\"1600\"/>\n",
       "  </clipPath>\n",
       "</defs>\n",
       "<path clip-path=\"url(#clip800)\" d=\"\n",
       "M0 1600 L2400 1600 L2400 0 L0 0  Z\n",
       "  \" fill=\"#ffffff\" fill-rule=\"evenodd\" fill-opacity=\"1\"/>\n",
       "<defs>\n",
       "  <clipPath id=\"clip801\">\n",
       "    <rect x=\"480\" y=\"0\" width=\"1681\" height=\"1600\"/>\n",
       "  </clipPath>\n",
       "</defs>\n",
       "<path clip-path=\"url(#clip800)\" d=\"\n",
       "M213.607 1474.16 L2352.76 1474.16 L2352.76 47.2441 L213.607 47.2441  Z\n",
       "  \" fill=\"#ffffff\" fill-rule=\"evenodd\" fill-opacity=\"1\"/>\n",
       "<defs>\n",
       "  <clipPath id=\"clip802\">\n",
       "    <rect x=\"213\" y=\"47\" width=\"2140\" height=\"1428\"/>\n",
       "  </clipPath>\n",
       "</defs>\n",
       "<polyline clip-path=\"url(#clip802)\" style=\"stroke:#000000; stroke-linecap:butt; stroke-linejoin:round; stroke-width:2; stroke-opacity:0.1; fill:none\" points=\"\n",
       "  274.149,1474.16 274.149,47.2441 \n",
       "  \"/>\n",
       "<polyline clip-path=\"url(#clip802)\" style=\"stroke:#000000; stroke-linecap:butt; stroke-linejoin:round; stroke-width:2; stroke-opacity:0.1; fill:none\" points=\"\n",
       "  879.569,1474.16 879.569,47.2441 \n",
       "  \"/>\n",
       "<polyline clip-path=\"url(#clip802)\" style=\"stroke:#000000; stroke-linecap:butt; stroke-linejoin:round; stroke-width:2; stroke-opacity:0.1; fill:none\" points=\"\n",
       "  1484.99,1474.16 1484.99,47.2441 \n",
       "  \"/>\n",
       "<polyline clip-path=\"url(#clip802)\" style=\"stroke:#000000; stroke-linecap:butt; stroke-linejoin:round; stroke-width:2; stroke-opacity:0.1; fill:none\" points=\"\n",
       "  2090.41,1474.16 2090.41,47.2441 \n",
       "  \"/>\n",
       "<polyline clip-path=\"url(#clip800)\" style=\"stroke:#000000; stroke-linecap:butt; stroke-linejoin:round; stroke-width:4; stroke-opacity:1; fill:none\" points=\"\n",
       "  213.607,1474.16 2352.76,1474.16 \n",
       "  \"/>\n",
       "<polyline clip-path=\"url(#clip800)\" style=\"stroke:#000000; stroke-linecap:butt; stroke-linejoin:round; stroke-width:4; stroke-opacity:1; fill:none\" points=\"\n",
       "  274.149,1474.16 274.149,1455.27 \n",
       "  \"/>\n",
       "<polyline clip-path=\"url(#clip800)\" style=\"stroke:#000000; stroke-linecap:butt; stroke-linejoin:round; stroke-width:4; stroke-opacity:1; fill:none\" points=\"\n",
       "  879.569,1474.16 879.569,1455.27 \n",
       "  \"/>\n",
       "<polyline clip-path=\"url(#clip800)\" style=\"stroke:#000000; stroke-linecap:butt; stroke-linejoin:round; stroke-width:4; stroke-opacity:1; fill:none\" points=\"\n",
       "  1484.99,1474.16 1484.99,1455.27 \n",
       "  \"/>\n",
       "<polyline clip-path=\"url(#clip800)\" style=\"stroke:#000000; stroke-linecap:butt; stroke-linejoin:round; stroke-width:4; stroke-opacity:1; fill:none\" points=\"\n",
       "  2090.41,1474.16 2090.41,1455.27 \n",
       "  \"/>\n",
       "<path clip-path=\"url(#clip800)\" d=\"M220.955 1548.29 L228.593 1548.29 L228.593 1521.92 L220.283 1523.59 L220.283 1519.33 L228.547 1517.66 L233.223 1517.66 L233.223 1548.29 L240.862 1548.29 L240.862 1552.22 L220.955 1552.22 L220.955 1548.29 Z\" fill=\"#000000\" fill-rule=\"evenodd\" fill-opacity=\"1\" /><path clip-path=\"url(#clip800)\" d=\"M260.306 1520.74 Q256.695 1520.74 254.866 1524.31 Q253.061 1527.85 253.061 1534.98 Q253.061 1542.09 254.866 1545.65 Q256.695 1549.19 260.306 1549.19 Q263.94 1549.19 265.746 1545.65 Q267.575 1542.09 267.575 1534.98 Q267.575 1527.85 265.746 1524.31 Q263.94 1520.74 260.306 1520.74 M260.306 1517.04 Q266.116 1517.04 269.172 1521.65 Q272.251 1526.23 272.251 1534.98 Q272.251 1543.71 269.172 1548.31 Q266.116 1552.9 260.306 1552.9 Q254.496 1552.9 251.417 1548.31 Q248.362 1543.71 248.362 1534.98 Q248.362 1526.23 251.417 1521.65 Q254.496 1517.04 260.306 1517.04 Z\" fill=\"#000000\" fill-rule=\"evenodd\" fill-opacity=\"1\" /><path clip-path=\"url(#clip800)\" d=\"M284.946 1509.67 Q287.673 1510.26 289.196 1512.1 Q290.739 1513.94 290.739 1516.65 Q290.739 1520.81 287.88 1523.08 Q285.021 1525.36 279.755 1525.36 Q277.987 1525.36 276.106 1525 Q274.244 1524.66 272.251 1523.97 L272.251 1520.3 Q273.83 1521.22 275.711 1521.69 Q277.592 1522.16 279.642 1522.16 Q283.215 1522.16 285.077 1520.75 Q286.958 1519.34 286.958 1516.65 Q286.958 1514.17 285.209 1512.78 Q283.479 1511.37 280.376 1511.37 L277.103 1511.37 L277.103 1508.24 L280.526 1508.24 Q283.328 1508.24 284.814 1507.13 Q286.3 1506.01 286.3 1503.9 Q286.3 1501.74 284.758 1500.59 Q283.234 1499.42 280.376 1499.42 Q278.814 1499.42 277.028 1499.76 Q275.241 1500.1 273.097 1500.82 L273.097 1497.43 Q275.26 1496.83 277.141 1496.53 Q279.04 1496.23 280.714 1496.23 Q285.04 1496.23 287.56 1498.2 Q290.08 1500.16 290.08 1503.51 Q290.08 1505.84 288.745 1507.45 Q287.41 1509.05 284.946 1509.67 Z\" fill=\"#000000\" fill-rule=\"evenodd\" fill-opacity=\"1\" /><path clip-path=\"url(#clip800)\" d=\"M297.942 1520.04 L301.91 1520.04 L301.91 1524.81 L297.942 1524.81 L297.942 1520.04 Z\" fill=\"#000000\" fill-rule=\"evenodd\" fill-opacity=\"1\" /><path clip-path=\"url(#clip800)\" d=\"M318.311 1499.24 Q315.377 1499.24 313.891 1502.13 Q312.424 1505.01 312.424 1510.8 Q312.424 1516.58 313.891 1519.47 Q315.377 1522.35 318.311 1522.35 Q321.264 1522.35 322.731 1519.47 Q324.216 1516.58 324.216 1510.8 Q324.216 1505.01 322.731 1502.13 Q321.264 1499.24 318.311 1499.24 M318.311 1496.23 Q323.032 1496.23 325.514 1499.97 Q328.016 1503.69 328.016 1510.8 Q328.016 1517.89 325.514 1521.64 Q323.032 1525.36 318.311 1525.36 Q313.59 1525.36 311.089 1521.64 Q308.606 1517.89 308.606 1510.8 Q308.606 1503.69 311.089 1499.97 Q313.59 1496.23 318.311 1496.23 Z\" fill=\"#000000\" fill-rule=\"evenodd\" fill-opacity=\"1\" /><path clip-path=\"url(#clip800)\" d=\"M826.637 1548.29 L834.276 1548.29 L834.276 1521.92 L825.966 1523.59 L825.966 1519.33 L834.23 1517.66 L838.906 1517.66 L838.906 1548.29 L846.545 1548.29 L846.545 1552.22 L826.637 1552.22 L826.637 1548.29 Z\" fill=\"#000000\" fill-rule=\"evenodd\" fill-opacity=\"1\" /><path clip-path=\"url(#clip800)\" d=\"M865.989 1520.74 Q862.378 1520.74 860.549 1524.31 Q858.744 1527.85 858.744 1534.98 Q858.744 1542.09 860.549 1545.65 Q862.378 1549.19 865.989 1549.19 Q869.623 1549.19 871.429 1545.65 Q873.257 1542.09 873.257 1534.98 Q873.257 1527.85 871.429 1524.31 Q869.623 1520.74 865.989 1520.74 M865.989 1517.04 Q871.799 1517.04 874.855 1521.65 Q877.933 1526.23 877.933 1534.98 Q877.933 1543.71 874.855 1548.31 Q871.799 1552.9 865.989 1552.9 Q860.179 1552.9 857.1 1548.31 Q854.044 1543.71 854.044 1534.98 Q854.044 1526.23 857.1 1521.65 Q860.179 1517.04 865.989 1517.04 Z\" fill=\"#000000\" fill-rule=\"evenodd\" fill-opacity=\"1\" /><path clip-path=\"url(#clip800)\" d=\"M890.628 1509.67 Q893.356 1510.26 894.879 1512.1 Q896.421 1513.94 896.421 1516.65 Q896.421 1520.81 893.562 1523.08 Q890.704 1525.36 885.438 1525.36 Q883.67 1525.36 881.789 1525 Q879.927 1524.66 877.933 1523.97 L877.933 1520.3 Q879.513 1521.22 881.394 1521.69 Q883.275 1522.16 885.325 1522.16 Q888.898 1522.16 890.76 1520.75 Q892.641 1519.34 892.641 1516.65 Q892.641 1514.17 890.892 1512.78 Q889.161 1511.37 886.058 1511.37 L882.786 1511.37 L882.786 1508.24 L886.209 1508.24 Q889.011 1508.24 890.497 1507.13 Q891.983 1506.01 891.983 1503.9 Q891.983 1501.74 890.44 1500.59 Q888.917 1499.42 886.058 1499.42 Q884.497 1499.42 882.71 1499.76 Q880.924 1500.1 878.78 1500.82 L878.78 1497.43 Q880.942 1496.83 882.823 1496.53 Q884.723 1496.23 886.397 1496.23 Q890.723 1496.23 893.243 1498.2 Q895.763 1500.16 895.763 1503.51 Q895.763 1505.84 894.428 1507.45 Q893.092 1509.05 890.628 1509.67 Z\" fill=\"#000000\" fill-rule=\"evenodd\" fill-opacity=\"1\" /><path clip-path=\"url(#clip800)\" d=\"M903.625 1520.04 L907.593 1520.04 L907.593 1524.81 L903.625 1524.81 L903.625 1520.04 Z\" fill=\"#000000\" fill-rule=\"evenodd\" fill-opacity=\"1\" /><path clip-path=\"url(#clip800)\" d=\"M927.379 1509.67 Q930.106 1510.26 931.629 1512.1 Q933.172 1513.94 933.172 1516.65 Q933.172 1520.81 930.313 1523.08 Q927.454 1525.36 922.188 1525.36 Q920.42 1525.36 918.539 1525 Q916.677 1524.66 914.684 1523.97 L914.684 1520.3 Q916.263 1521.22 918.144 1521.69 Q920.025 1522.16 922.075 1522.16 Q925.649 1522.16 927.511 1520.75 Q929.391 1519.34 929.391 1516.65 Q929.391 1514.17 927.642 1512.78 Q925.912 1511.37 922.809 1511.37 L919.536 1511.37 L919.536 1508.24 L922.959 1508.24 Q925.761 1508.24 927.247 1507.13 Q928.733 1506.01 928.733 1503.9 Q928.733 1501.74 927.191 1500.59 Q925.667 1499.42 922.809 1499.42 Q921.248 1499.42 919.461 1499.76 Q917.674 1500.1 915.53 1500.82 L915.53 1497.43 Q917.693 1496.83 919.574 1496.53 Q921.473 1496.23 923.147 1496.23 Q927.473 1496.23 929.993 1498.2 Q932.513 1500.16 932.513 1503.51 Q932.513 1505.84 931.178 1507.45 Q929.843 1509.05 927.379 1509.67 Z\" fill=\"#000000\" fill-rule=\"evenodd\" fill-opacity=\"1\" /><path clip-path=\"url(#clip800)\" d=\"M1431.73 1548.29 L1439.37 1548.29 L1439.37 1521.92 L1431.06 1523.59 L1431.06 1519.33 L1439.32 1517.66 L1444 1517.66 L1444 1548.29 L1451.63 1548.29 L1451.63 1552.22 L1431.73 1552.22 L1431.73 1548.29 Z\" fill=\"#000000\" fill-rule=\"evenodd\" fill-opacity=\"1\" /><path clip-path=\"url(#clip800)\" d=\"M1471.08 1520.74 Q1467.47 1520.74 1465.64 1524.31 Q1463.83 1527.85 1463.83 1534.98 Q1463.83 1542.09 1465.64 1545.65 Q1467.47 1549.19 1471.08 1549.19 Q1474.71 1549.19 1476.52 1545.65 Q1478.35 1542.09 1478.35 1534.98 Q1478.35 1527.85 1476.52 1524.31 Q1474.71 1520.74 1471.08 1520.74 M1471.08 1517.04 Q1476.89 1517.04 1479.94 1521.65 Q1483.02 1526.23 1483.02 1534.98 Q1483.02 1543.71 1479.94 1548.31 Q1476.89 1552.9 1471.08 1552.9 Q1465.27 1552.9 1462.19 1548.31 Q1459.13 1543.71 1459.13 1534.98 Q1459.13 1526.23 1462.19 1521.65 Q1465.27 1517.04 1471.08 1517.04 Z\" fill=\"#000000\" fill-rule=\"evenodd\" fill-opacity=\"1\" /><path clip-path=\"url(#clip800)\" d=\"M1495.72 1509.67 Q1498.45 1510.26 1499.97 1512.1 Q1501.51 1513.94 1501.51 1516.65 Q1501.51 1520.81 1498.65 1523.08 Q1495.79 1525.36 1490.53 1525.36 Q1488.76 1525.36 1486.88 1525 Q1485.02 1524.66 1483.02 1523.97 L1483.02 1520.3 Q1484.6 1521.22 1486.48 1521.69 Q1488.36 1522.16 1490.41 1522.16 Q1493.99 1522.16 1495.85 1520.75 Q1497.73 1519.34 1497.73 1516.65 Q1497.73 1514.17 1495.98 1512.78 Q1494.25 1511.37 1491.15 1511.37 L1487.88 1511.37 L1487.88 1508.24 L1491.3 1508.24 Q1494.1 1508.24 1495.59 1507.13 Q1497.07 1506.01 1497.07 1503.9 Q1497.07 1501.74 1495.53 1500.59 Q1494.01 1499.42 1491.15 1499.42 Q1489.59 1499.42 1487.8 1499.76 Q1486.01 1500.1 1483.87 1500.82 L1483.87 1497.43 Q1486.03 1496.83 1487.91 1496.53 Q1489.81 1496.23 1491.49 1496.23 Q1495.81 1496.23 1498.33 1498.2 Q1500.85 1500.16 1500.85 1503.51 Q1500.85 1505.84 1499.52 1507.45 Q1498.18 1509.05 1495.72 1509.67 Z\" fill=\"#000000\" fill-rule=\"evenodd\" fill-opacity=\"1\" /><path clip-path=\"url(#clip800)\" d=\"M1508.71 1520.04 L1512.68 1520.04 L1512.68 1524.81 L1508.71 1524.81 L1508.71 1520.04 Z\" fill=\"#000000\" fill-rule=\"evenodd\" fill-opacity=\"1\" /><path clip-path=\"url(#clip800)\" d=\"M1529.55 1509.26 Q1527 1509.26 1525.49 1511.01 Q1524.01 1512.76 1524.01 1515.81 Q1524.01 1518.83 1525.49 1520.6 Q1527 1522.35 1529.55 1522.35 Q1532.11 1522.35 1533.6 1520.6 Q1535.1 1518.83 1535.1 1515.81 Q1535.1 1512.76 1533.6 1511.01 Q1532.11 1509.26 1529.55 1509.26 M1537.1 1497.35 L1537.1 1500.82 Q1535.67 1500.14 1534.2 1499.78 Q1532.75 1499.42 1531.32 1499.42 Q1527.56 1499.42 1525.57 1501.96 Q1523.59 1504.5 1523.31 1509.64 Q1524.42 1508 1526.09 1507.13 Q1527.77 1506.25 1529.78 1506.25 Q1534.01 1506.25 1536.46 1508.83 Q1538.92 1511.39 1538.92 1515.81 Q1538.92 1520.13 1536.36 1522.75 Q1533.8 1525.36 1529.55 1525.36 Q1524.68 1525.36 1522.11 1521.64 Q1519.53 1517.89 1519.53 1510.8 Q1519.53 1504.14 1522.69 1500.19 Q1525.85 1496.23 1531.17 1496.23 Q1532.6 1496.23 1534.05 1496.51 Q1535.52 1496.79 1537.1 1497.35 Z\" fill=\"#000000\" fill-rule=\"evenodd\" fill-opacity=\"1\" /><path clip-path=\"url(#clip800)\" d=\"M2037.29 1548.29 L2044.93 1548.29 L2044.93 1521.92 L2036.62 1523.59 L2036.62 1519.33 L2044.88 1517.66 L2049.56 1517.66 L2049.56 1548.29 L2057.2 1548.29 L2057.2 1552.22 L2037.29 1552.22 L2037.29 1548.29 Z\" fill=\"#000000\" fill-rule=\"evenodd\" fill-opacity=\"1\" /><path clip-path=\"url(#clip800)\" d=\"M2076.64 1520.74 Q2073.03 1520.74 2071.2 1524.31 Q2069.39 1527.85 2069.39 1534.98 Q2069.39 1542.09 2071.2 1545.65 Q2073.03 1549.19 2076.64 1549.19 Q2080.27 1549.19 2082.08 1545.65 Q2083.91 1542.09 2083.91 1534.98 Q2083.91 1527.85 2082.08 1524.31 Q2080.27 1520.74 2076.64 1520.74 M2076.64 1517.04 Q2082.45 1517.04 2085.51 1521.65 Q2088.58 1526.23 2088.58 1534.98 Q2088.58 1543.71 2085.51 1548.31 Q2082.45 1552.9 2076.64 1552.9 Q2070.83 1552.9 2067.75 1548.31 Q2064.7 1543.71 2064.7 1534.98 Q2064.7 1526.23 2067.75 1521.65 Q2070.83 1517.04 2076.64 1517.04 Z\" fill=\"#000000\" fill-rule=\"evenodd\" fill-opacity=\"1\" /><path clip-path=\"url(#clip800)\" d=\"M2101.28 1509.67 Q2104.01 1510.26 2105.53 1512.1 Q2107.07 1513.94 2107.07 1516.65 Q2107.07 1520.81 2104.21 1523.08 Q2101.35 1525.36 2096.09 1525.36 Q2094.32 1525.36 2092.44 1525 Q2090.58 1524.66 2088.58 1523.97 L2088.58 1520.3 Q2090.16 1521.22 2092.04 1521.69 Q2093.93 1522.16 2095.98 1522.16 Q2099.55 1522.16 2101.41 1520.75 Q2103.29 1519.34 2103.29 1516.65 Q2103.29 1514.17 2101.54 1512.78 Q2099.81 1511.37 2096.71 1511.37 L2093.44 1511.37 L2093.44 1508.24 L2096.86 1508.24 Q2099.66 1508.24 2101.15 1507.13 Q2102.63 1506.01 2102.63 1503.9 Q2102.63 1501.74 2101.09 1500.59 Q2099.57 1499.42 2096.71 1499.42 Q2095.15 1499.42 2093.36 1499.76 Q2091.57 1500.1 2089.43 1500.82 L2089.43 1497.43 Q2091.59 1496.83 2093.47 1496.53 Q2095.37 1496.23 2097.05 1496.23 Q2101.37 1496.23 2103.89 1498.2 Q2106.41 1500.16 2106.41 1503.51 Q2106.41 1505.84 2105.08 1507.45 Q2103.74 1509.05 2101.28 1509.67 Z\" fill=\"#000000\" fill-rule=\"evenodd\" fill-opacity=\"1\" /><path clip-path=\"url(#clip800)\" d=\"M2114.28 1520.04 L2118.24 1520.04 L2118.24 1524.81 L2114.28 1524.81 L2114.28 1520.04 Z\" fill=\"#000000\" fill-rule=\"evenodd\" fill-opacity=\"1\" /><path clip-path=\"url(#clip800)\" d=\"M2126.63 1524.23 L2126.63 1520.77 Q2128.06 1521.45 2129.53 1521.81 Q2131 1522.16 2132.41 1522.16 Q2136.17 1522.16 2138.14 1519.64 Q2140.14 1517.1 2140.42 1511.95 Q2139.33 1513.57 2137.65 1514.43 Q2135.98 1515.3 2133.95 1515.3 Q2129.74 1515.3 2127.27 1512.76 Q2124.83 1510.2 2124.83 1505.78 Q2124.83 1501.46 2127.38 1498.84 Q2129.94 1496.23 2134.19 1496.23 Q2139.06 1496.23 2141.62 1499.97 Q2144.2 1503.69 2144.2 1510.8 Q2144.2 1517.44 2141.04 1521.41 Q2137.9 1525.36 2132.58 1525.36 Q2131.15 1525.36 2129.68 1525.08 Q2128.21 1524.8 2126.63 1524.23 M2134.19 1512.33 Q2136.75 1512.33 2138.24 1510.58 Q2139.74 1508.83 2139.74 1505.78 Q2139.74 1502.75 2138.24 1501 Q2136.75 1499.24 2134.19 1499.24 Q2131.63 1499.24 2130.13 1501 Q2128.64 1502.75 2128.64 1505.78 Q2128.64 1508.83 2130.13 1510.58 Q2131.63 1512.33 2134.19 1512.33 Z\" fill=\"#000000\" fill-rule=\"evenodd\" fill-opacity=\"1\" /><polyline clip-path=\"url(#clip802)\" style=\"stroke:#000000; stroke-linecap:butt; stroke-linejoin:round; stroke-width:2; stroke-opacity:0.1; fill:none\" points=\"\n",
       "  213.607,1361.69 2352.76,1361.69 \n",
       "  \"/>\n",
       "<polyline clip-path=\"url(#clip802)\" style=\"stroke:#000000; stroke-linecap:butt; stroke-linejoin:round; stroke-width:2; stroke-opacity:0.1; fill:none\" points=\"\n",
       "  213.607,653.335 2352.76,653.335 \n",
       "  \"/>\n",
       "<polyline clip-path=\"url(#clip800)\" style=\"stroke:#000000; stroke-linecap:butt; stroke-linejoin:round; stroke-width:4; stroke-opacity:1; fill:none\" points=\"\n",
       "  213.607,1474.16 213.607,47.2441 \n",
       "  \"/>\n",
       "<polyline clip-path=\"url(#clip800)\" style=\"stroke:#000000; stroke-linecap:butt; stroke-linejoin:round; stroke-width:4; stroke-opacity:1; fill:none\" points=\"\n",
       "  213.607,1361.69 232.505,1361.69 \n",
       "  \"/>\n",
       "<polyline clip-path=\"url(#clip800)\" style=\"stroke:#000000; stroke-linecap:butt; stroke-linejoin:round; stroke-width:4; stroke-opacity:1; fill:none\" points=\"\n",
       "  213.607,653.335 232.505,653.335 \n",
       "  \"/>\n",
       "<path clip-path=\"url(#clip800)\" d=\"M51.6634 1381.48 L59.3023 1381.48 L59.3023 1355.12 L50.9921 1356.78 L50.9921 1352.53 L59.256 1350.86 L63.9319 1350.86 L63.9319 1381.48 L71.5707 1381.48 L71.5707 1385.42 L51.6634 1385.42 L51.6634 1381.48 Z\" fill=\"#000000\" fill-rule=\"evenodd\" fill-opacity=\"1\" /><path clip-path=\"url(#clip800)\" d=\"M91.0151 1353.94 Q87.404 1353.94 85.5753 1357.5 Q83.7697 1361.04 83.7697 1368.17 Q83.7697 1375.28 85.5753 1378.84 Q87.404 1382.39 91.0151 1382.39 Q94.6493 1382.39 96.4548 1378.84 Q98.2835 1375.28 98.2835 1368.17 Q98.2835 1361.04 96.4548 1357.5 Q94.6493 1353.94 91.0151 1353.94 M91.0151 1350.23 Q96.8252 1350.23 99.8808 1354.84 Q102.959 1359.42 102.959 1368.17 Q102.959 1376.9 99.8808 1381.51 Q96.8252 1386.09 91.0151 1386.09 Q85.2049 1386.09 82.1262 1381.51 Q79.0707 1376.9 79.0707 1368.17 Q79.0707 1359.42 82.1262 1354.84 Q85.2049 1350.23 91.0151 1350.23 Z\" fill=\"#000000\" fill-rule=\"evenodd\" fill-opacity=\"1\" /><path clip-path=\"url(#clip800)\" d=\"M102.959 1344.33 L127.071 1344.33 L127.071 1347.53 L102.959 1347.53 L102.959 1344.33 Z\" fill=\"#000000\" fill-rule=\"evenodd\" fill-opacity=\"1\" /><path clip-path=\"url(#clip800)\" d=\"M135.929 1354.81 L142.136 1354.81 L142.136 1333.39 L135.384 1334.74 L135.384 1331.28 L142.098 1329.93 L145.898 1329.93 L145.898 1354.81 L152.104 1354.81 L152.104 1358.01 L135.929 1358.01 L135.929 1354.81 Z\" fill=\"#000000\" fill-rule=\"evenodd\" fill-opacity=\"1\" /><path clip-path=\"url(#clip800)\" d=\"M167.903 1332.43 Q164.969 1332.43 163.483 1335.33 Q162.016 1338.2 162.016 1344 Q162.016 1349.77 163.483 1352.67 Q164.969 1355.54 167.903 1355.54 Q170.855 1355.54 172.322 1352.67 Q173.808 1349.77 173.808 1344 Q173.808 1338.2 172.322 1335.33 Q170.855 1332.43 167.903 1332.43 M167.903 1329.42 Q172.623 1329.42 175.106 1333.16 Q177.607 1336.89 177.607 1344 Q177.607 1351.09 175.106 1354.83 Q172.623 1358.55 167.903 1358.55 Q163.182 1358.55 160.68 1354.83 Q158.198 1351.09 158.198 1344 Q158.198 1336.89 160.68 1333.16 Q163.182 1329.42 167.903 1329.42 Z\" fill=\"#000000\" fill-rule=\"evenodd\" fill-opacity=\"1\" /><path clip-path=\"url(#clip800)\" d=\"M76.2452 673.127 L83.884 673.127 L83.884 646.762 L75.5739 648.428 L75.5739 644.169 L83.8377 642.502 L88.5136 642.502 L88.5136 673.127 L96.1525 673.127 L96.1525 677.062 L76.2452 677.062 L76.2452 673.127 Z\" fill=\"#000000\" fill-rule=\"evenodd\" fill-opacity=\"1\" /><path clip-path=\"url(#clip800)\" d=\"M115.597 645.581 Q111.986 645.581 110.157 649.146 Q108.351 652.688 108.351 659.817 Q108.351 666.924 110.157 670.488 Q111.986 674.03 115.597 674.03 Q119.231 674.03 121.037 670.488 Q122.865 666.924 122.865 659.817 Q122.865 652.688 121.037 649.146 Q119.231 645.581 115.597 645.581 M115.597 641.877 Q121.407 641.877 124.463 646.484 Q127.541 651.067 127.541 659.817 Q127.541 668.544 124.463 673.15 Q121.407 677.734 115.597 677.734 Q109.787 677.734 106.708 673.15 Q103.652 668.544 103.652 659.817 Q103.652 651.067 106.708 646.484 Q109.787 641.877 115.597 641.877 Z\" fill=\"#000000\" fill-rule=\"evenodd\" fill-opacity=\"1\" /><path clip-path=\"url(#clip800)\" d=\"M127.541 635.979 L151.653 635.979 L151.653 639.176 L127.541 639.176 L127.541 635.979 Z\" fill=\"#000000\" fill-rule=\"evenodd\" fill-opacity=\"1\" /><path clip-path=\"url(#clip800)\" d=\"M167.978 636.317 Q165.27 636.317 163.709 637.765 Q162.166 639.214 162.166 641.753 Q162.166 644.292 163.709 645.74 Q165.27 647.188 167.978 647.188 Q170.686 647.188 172.247 645.74 Q173.808 644.273 173.808 641.753 Q173.808 639.214 172.247 637.765 Q170.705 636.317 167.978 636.317 M164.179 634.7 Q161.734 634.098 160.361 632.424 Q159.007 630.75 159.007 628.343 Q159.007 624.976 161.395 623.02 Q163.803 621.064 167.978 621.064 Q172.172 621.064 174.561 623.02 Q176.949 624.976 176.949 628.343 Q176.949 630.75 175.576 632.424 Q174.222 634.098 171.796 634.7 Q174.542 635.339 176.065 637.201 Q177.607 639.063 177.607 641.753 Q177.607 645.834 175.106 648.016 Q172.623 650.197 167.978 650.197 Q163.332 650.197 160.831 648.016 Q158.348 645.834 158.348 641.753 Q158.348 639.063 159.891 637.201 Q161.433 635.339 164.179 634.7 M162.787 628.7 Q162.787 630.882 164.141 632.104 Q165.514 633.327 167.978 633.327 Q170.423 633.327 171.796 632.104 Q173.188 630.882 173.188 628.7 Q173.188 626.518 171.796 625.296 Q170.423 624.073 167.978 624.073 Q165.514 624.073 164.141 625.296 Q162.787 626.518 162.787 628.7 Z\" fill=\"#000000\" fill-rule=\"evenodd\" fill-opacity=\"1\" /><polyline clip-path=\"url(#clip802)\" style=\"stroke:#ff0000; stroke-linecap:butt; stroke-linejoin:round; stroke-width:4; stroke-opacity:1; fill:none\" points=\"\n",
       "  274.149,87.6286 294.534,100.232 314.918,112.849 335.303,125.481 355.687,138.128 376.072,150.788 396.456,163.462 416.841,176.15 437.225,188.851 457.61,201.566 \n",
       "  477.994,214.294 498.379,227.034 518.763,239.788 539.148,252.553 559.532,265.332 579.917,278.122 600.301,290.925 620.686,303.739 641.07,316.566 661.455,329.403 \n",
       "  681.839,342.253 702.224,355.113 722.608,367.985 742.993,380.867 763.377,393.761 783.762,406.665 804.146,419.58 824.531,432.505 844.915,445.44 865.3,458.385 \n",
       "  885.684,471.34 906.069,484.306 926.453,497.281 946.838,510.265 967.222,523.259 987.607,536.262 1007.99,549.275 1028.38,562.297 1048.76,575.327 1069.14,588.367 \n",
       "  1089.53,601.415 1109.91,614.472 1130.3,627.537 1150.68,640.611 1171.07,653.693 1191.45,666.784 1211.84,679.882 1232.22,692.989 1252.6,706.103 1272.99,719.225 \n",
       "  1293.37,732.355 1313.76,745.492 1334.14,758.637 1354.53,771.79 1374.91,784.95 1395.3,798.117 1415.68,811.291 1436.07,824.472 1456.45,837.66 1476.83,850.855 \n",
       "  1497.22,864.057 1517.6,877.266 1537.99,890.481 1558.37,903.703 1578.76,916.931 1599.14,930.166 1619.53,943.407 1639.91,956.654 1660.29,969.908 1680.68,983.167 \n",
       "  1701.06,996.433 1721.45,1009.7 1741.83,1022.98 1762.22,1036.27 1782.6,1049.55 1802.99,1062.85 1823.37,1076.15 1843.76,1089.46 1864.14,1102.77 1884.52,1116.09 \n",
       "  1904.91,1129.41 1925.29,1142.74 1945.68,1156.07 1966.06,1169.41 1986.45,1182.75 2006.83,1196.1 2027.22,1209.45 2047.6,1222.81 2067.98,1236.17 2088.37,1249.54 \n",
       "  2108.75,1262.92 2129.14,1276.29 2149.52,1289.68 2169.91,1303.06 2190.29,1316.46 2210.68,1329.85 2231.06,1343.25 2251.44,1356.66 2271.83,1370.07 2292.21,1383.48 \n",
       "  \n",
       "  \"/>\n",
       "<polyline clip-path=\"url(#clip802)\" style=\"stroke:#0000ff; stroke-linecap:butt; stroke-linejoin:round; stroke-width:4; stroke-opacity:1; fill:none\" points=\"\n",
       "  274.149,122.826 294.534,136.068 314.918,149.31 335.303,162.552 355.687,175.794 376.072,189.036 396.456,202.278 416.841,215.52 437.225,228.761 457.61,242.003 \n",
       "  477.994,255.245 498.379,268.487 518.763,281.729 539.148,294.971 559.532,308.213 579.917,321.455 600.301,334.697 620.686,347.939 641.07,361.181 661.455,374.423 \n",
       "  681.839,387.665 702.224,400.907 722.608,414.149 742.993,427.391 763.377,440.633 783.762,453.875 804.146,467.117 824.531,480.359 844.915,493.601 865.3,506.843 \n",
       "  885.684,520.085 906.069,533.327 926.453,546.569 946.838,559.811 967.222,573.053 987.607,586.294 1007.99,599.536 1028.38,612.778 1048.76,626.02 1069.14,639.262 \n",
       "  1089.53,652.504 1109.91,665.746 1130.3,678.988 1150.68,692.23 1171.07,705.472 1191.45,718.714 1211.84,731.956 1232.22,745.198 1252.6,758.44 1272.99,771.682 \n",
       "  1293.37,784.924 1313.76,798.166 1334.14,811.408 1354.53,824.65 1374.91,837.892 1395.3,851.134 1415.68,864.376 1436.07,877.618 1456.45,890.86 1476.83,904.102 \n",
       "  1497.22,917.344 1517.6,930.586 1537.99,943.827 1558.37,957.069 1578.76,970.311 1599.14,983.553 1619.53,996.795 1639.91,1010.04 1660.29,1023.28 1680.68,1036.52 \n",
       "  1701.06,1049.76 1721.45,1063.01 1741.83,1076.25 1762.22,1089.49 1782.6,1102.73 1802.99,1115.97 1823.37,1129.21 1843.76,1142.46 1864.14,1155.7 1884.52,1168.94 \n",
       "  1904.91,1182.18 1925.29,1195.42 1945.68,1208.67 1966.06,1221.91 1986.45,1235.15 2006.83,1248.39 2027.22,1261.63 2047.6,1274.88 2067.98,1288.12 2088.37,1301.36 \n",
       "  2108.75,1314.6 2129.14,1327.84 2149.52,1341.09 2169.91,1354.33 2190.29,1367.57 2210.68,1380.81 2231.06,1394.05 2251.44,1407.3 2271.83,1420.54 2292.21,1433.78 \n",
       "  \n",
       "  \"/>\n",
       "<path clip-path=\"url(#clip800)\" d=\"\n",
       "M1976.78 250.328 L2281.45 250.328 L2281.45 94.8081 L1976.78 94.8081  Z\n",
       "  \" fill=\"#ffffff\" fill-rule=\"evenodd\" fill-opacity=\"1\"/>\n",
       "<polyline clip-path=\"url(#clip800)\" style=\"stroke:#000000; stroke-linecap:butt; stroke-linejoin:round; stroke-width:4; stroke-opacity:1; fill:none\" points=\"\n",
       "  1976.78,250.328 2281.45,250.328 2281.45,94.8081 1976.78,94.8081 1976.78,250.328 \n",
       "  \"/>\n",
       "<polyline clip-path=\"url(#clip800)\" style=\"stroke:#ff0000; stroke-linecap:butt; stroke-linejoin:round; stroke-width:4; stroke-opacity:1; fill:none\" points=\"\n",
       "  2000.55,146.648 2143.16,146.648 \n",
       "  \"/>\n",
       "<path clip-path=\"url(#clip800)\" d=\"M2166.92 129.368 L2171.6 129.368 L2171.6 163.928 L2166.92 163.928 L2166.92 129.368 Z\" fill=\"#000000\" fill-rule=\"evenodd\" fill-opacity=\"1\" /><path clip-path=\"url(#clip800)\" d=\"M2191.32 132.447 Q2187.71 132.447 2185.88 136.012 Q2184.08 139.553 2184.08 146.683 Q2184.08 153.789 2185.88 157.354 Q2187.71 160.896 2191.32 160.896 Q2194.96 160.896 2196.76 157.354 Q2198.59 153.789 2198.59 146.683 Q2198.59 139.553 2196.76 136.012 Q2194.96 132.447 2191.32 132.447 M2191.32 128.743 Q2197.13 128.743 2200.19 133.35 Q2203.27 137.933 2203.27 146.683 Q2203.27 155.41 2200.19 160.016 Q2197.13 164.599 2191.32 164.599 Q2185.51 164.599 2182.43 160.016 Q2179.38 155.41 2179.38 146.683 Q2179.38 137.933 2182.43 133.35 Q2185.51 128.743 2191.32 128.743 Z\" fill=\"#000000\" fill-rule=\"evenodd\" fill-opacity=\"1\" /><path clip-path=\"url(#clip800)\" d=\"M2224.33 133.442 L2212.53 151.891 L2224.33 151.891 L2224.33 133.442 M2223.1 129.368 L2228.98 129.368 L2228.98 151.891 L2233.91 151.891 L2233.91 155.78 L2228.98 155.78 L2228.98 163.928 L2224.33 163.928 L2224.33 155.78 L2208.73 155.78 L2208.73 151.266 L2223.1 129.368 Z\" fill=\"#000000\" fill-rule=\"evenodd\" fill-opacity=\"1\" /><polyline clip-path=\"url(#clip800)\" style=\"stroke:#0000ff; stroke-linecap:butt; stroke-linejoin:round; stroke-width:4; stroke-opacity:1; fill:none\" points=\"\n",
       "  2000.55,198.488 2143.16,198.488 \n",
       "  \"/>\n",
       "<path clip-path=\"url(#clip800)\" d=\"M2171.6 185.051 L2171.6 198.037 L2177.48 198.037 Q2180.74 198.037 2182.53 196.347 Q2184.31 194.657 2184.31 191.532 Q2184.31 188.43 2182.53 186.74 Q2180.74 185.051 2177.48 185.051 L2171.6 185.051 M2166.92 181.208 L2177.48 181.208 Q2183.29 181.208 2186.25 183.847 Q2189.24 186.463 2189.24 191.532 Q2189.24 196.648 2186.25 199.264 Q2183.29 201.879 2177.48 201.879 L2171.6 201.879 L2171.6 215.768 L2166.92 215.768 L2166.92 181.208 Z\" fill=\"#000000\" fill-rule=\"evenodd\" fill-opacity=\"1\" /><path clip-path=\"url(#clip800)\" d=\"M2195.51 181.208 L2200.19 181.208 L2200.19 211.833 L2217.02 211.833 L2217.02 215.768 L2195.51 215.768 L2195.51 181.208 Z\" fill=\"#000000\" fill-rule=\"evenodd\" fill-opacity=\"1\" /></svg>\n"
      ]
     },
     "execution_count": 36,
     "metadata": {},
     "output_type": "execute_result"
    }
   ],
   "source": [
    "pl_ys = [GaPSE.power_law(x, -3.7014, -40000.0, 0.0) for x in xs]\n",
    "plot([xs, xs], [-ys, -pl_ys], xaxis=:log, yaxis=:log, lc=[:red :blue],\n",
    "    label=[\"I04\" \"PL\"])"
   ]
  },
  {
   "cell_type": "code",
   "execution_count": 37,
   "id": "2ffcc536-ec4b-486e-97e5-889b843d28ef",
   "metadata": {},
   "outputs": [
    {
     "name": "stdout",
     "output_type": "stream",
     "text": [
      "search: \u001b[0m\u001b[1mc\u001b[22m\u001b[0m\u001b[1mu\u001b[22m\u001b[0m\u001b[1mr\u001b[22m\u001b[0m\u001b[1mv\u001b[22m\u001b[0m\u001b[1me\u001b[22m\u001b[0m\u001b[1m_\u001b[22m\u001b[0m\u001b[1mf\u001b[22m\u001b[0m\u001b[1mi\u001b[22m\u001b[0m\u001b[1mt\u001b[22m\n",
      "\n"
     ]
    },
    {
     "data": {
      "text/latex": [
       "\\begin{verbatim}\n",
       "curve_fit(model, xdata, ydata, p0) -> fit\n",
       "\\end{verbatim}\n",
       "Fit data to a non-linear \\texttt{model}. \\texttt{p0} is an initial model parameter guess (see Example). The return object is a composite type (\\texttt{LsqFitResult}), with some interesting values:\n",
       "\n",
       "\\begin{itemize}\n",
       "\\item \\texttt{fit.resid} : residuals = vector of residuals\n",
       "\n",
       "\n",
       "\\item \\texttt{fit.jacobian} : estimated Jacobian at solution\n",
       "\n",
       "\\end{itemize}\n",
       "additionally, it is possible to quiry the degrees of freedom with\n",
       "\n",
       "\\begin{itemize}\n",
       "\\item \\texttt{dof(fit)}\n",
       "\n",
       "\n",
       "\\item \\texttt{coef(fit)}\n",
       "\n",
       "\\end{itemize}\n",
       "\\subsection{Example}\n",
       "\\begin{verbatim}\n",
       "# a two-parameter exponential model\n",
       "# x: array of independent variables\n",
       "# p: array of model parameters\n",
       "model(x, p) = p[1]*exp.(-x.*p[2])\n",
       "\n",
       "# some example data\n",
       "# xdata: independent variables\n",
       "# ydata: dependent variable\n",
       "xdata = range(0, stop=10, length=20)\n",
       "ydata = model(xdata, [1.0 2.0]) + 0.01*randn(length(xdata))\n",
       "p0 = [0.5, 0.5]\n",
       "\n",
       "fit = curve_fit(model, xdata, ydata, p0)\n",
       "\\end{verbatim}\n"
      ],
      "text/markdown": [
       "```\n",
       "curve_fit(model, xdata, ydata, p0) -> fit\n",
       "```\n",
       "\n",
       "Fit data to a non-linear `model`. `p0` is an initial model parameter guess (see Example). The return object is a composite type (`LsqFitResult`), with some interesting values:\n",
       "\n",
       "  * `fit.resid` : residuals = vector of residuals\n",
       "  * `fit.jacobian` : estimated Jacobian at solution\n",
       "\n",
       "additionally, it is possible to quiry the degrees of freedom with\n",
       "\n",
       "  * `dof(fit)`\n",
       "  * `coef(fit)`\n",
       "\n",
       "## Example\n",
       "\n",
       "```julia\n",
       "# a two-parameter exponential model\n",
       "# x: array of independent variables\n",
       "# p: array of model parameters\n",
       "model(x, p) = p[1]*exp.(-x.*p[2])\n",
       "\n",
       "# some example data\n",
       "# xdata: independent variables\n",
       "# ydata: dependent variable\n",
       "xdata = range(0, stop=10, length=20)\n",
       "ydata = model(xdata, [1.0 2.0]) + 0.01*randn(length(xdata))\n",
       "p0 = [0.5, 0.5]\n",
       "\n",
       "fit = curve_fit(model, xdata, ydata, p0)\n",
       "```\n"
      ],
      "text/plain": [
       "  \u001b[38;5;81mcurve_fit\u001b[0m(\u001b[0m\u001b[39mmodel\u001b[0m\u001b[39m,\u001b[0m \u001b[0m\u001b[39mxdata\u001b[0m\u001b[39m,\u001b[0m \u001b[0m\u001b[39mydata\u001b[0m\u001b[39m,\u001b[0m \u001b[0m\u001b[39mp0\u001b[0m\u001b[39m)\u001b[0m \u001b[0m\u001b[38;5;197m->\u001b[0m \u001b[0m\u001b[39mfit\u001b[0m\u001b[39m\u001b[0m\n",
       "\n",
       "\n",
       "  Fit data to a non-linear \u001b[36mmodel\u001b[39m. \u001b[36mp0\u001b[39m is an initial model parameter guess (see\n",
       "  Example). The return object is a composite type (\u001b[36mLsqFitResult\u001b[39m), with some\n",
       "  interesting values:\n",
       "\n",
       "    •  \u001b[36mfit.resid\u001b[39m : residuals = vector of residuals\n",
       "\n",
       "    •  \u001b[36mfit.jacobian\u001b[39m : estimated Jacobian at solution\n",
       "\n",
       "  additionally, it is possible to quiry the degrees of freedom with\n",
       "\n",
       "    •  \u001b[36mdof(fit)\u001b[39m\n",
       "\n",
       "    •  \u001b[36mcoef(fit)\u001b[39m\n",
       "\n",
       "\u001b[1m  Example\u001b[22m\n",
       "\u001b[1m  =========\u001b[22m\n",
       "\n",
       "  \u001b[38;5;60m# a two-parameter exponential model\u001b[0m\n",
       "  \u001b[0m\u001b[38;5;60m# x: array of independent variables\u001b[0m\n",
       "  \u001b[0m\u001b[38;5;60m# p: array of model parameters\u001b[0m\n",
       "  \u001b[0m\u001b[38;5;81mmodel\u001b[0m(\u001b[0m\u001b[39mx\u001b[0m\u001b[39m,\u001b[0m \u001b[0m\u001b[39mp\u001b[0m\u001b[39m)\u001b[0m \u001b[0m\u001b[38;5;197m=\u001b[0m \u001b[0m\u001b[39mp\u001b[0m\u001b[39m[\u001b[0m\u001b[38;5;141m1\u001b[0m\u001b[39m]\u001b[0m\u001b[38;5;197m*\u001b[0m\u001b[38;5;81mexp\u001b[0m\u001b[38;5;81m.\u001b[0m(\u001b[0m\u001b[38;5;197m-\u001b[0m\u001b[39mx\u001b[0m\u001b[38;5;197m.*\u001b[0m\u001b[39mp\u001b[0m\u001b[39m[\u001b[0m\u001b[38;5;141m2\u001b[0m\u001b[39m]\u001b[0m\u001b[39m)\u001b[0m\n",
       "  \n",
       "  \u001b[0m\u001b[38;5;60m# some example data\u001b[0m\n",
       "  \u001b[0m\u001b[38;5;60m# xdata: independent variables\u001b[0m\n",
       "  \u001b[0m\u001b[38;5;60m# ydata: dependent variable\u001b[0m\n",
       "  \u001b[0m\u001b[39mxdata\u001b[0m \u001b[0m\u001b[38;5;197m=\u001b[0m \u001b[0m\u001b[38;5;81mrange\u001b[0m(\u001b[0m\u001b[38;5;141m0\u001b[0m\u001b[39m,\u001b[0m \u001b[0m\u001b[39mstop\u001b[0m\u001b[38;5;197m=\u001b[0m\u001b[38;5;141m10\u001b[0m\u001b[39m,\u001b[0m \u001b[0m\u001b[39mlength\u001b[0m\u001b[38;5;197m=\u001b[0m\u001b[38;5;141m20\u001b[0m\u001b[39m)\u001b[0m\n",
       "  \u001b[0m\u001b[39mydata\u001b[0m \u001b[0m\u001b[38;5;197m=\u001b[0m \u001b[0m\u001b[38;5;81mmodel\u001b[0m(\u001b[0m\u001b[39mxdata\u001b[0m\u001b[39m,\u001b[0m \u001b[0m\u001b[39m[\u001b[0m\u001b[38;5;141m1.0\u001b[0m \u001b[0m\u001b[38;5;141m2.0\u001b[0m\u001b[39m]\u001b[0m\u001b[39m)\u001b[0m \u001b[0m\u001b[38;5;197m+\u001b[0m \u001b[0m\u001b[38;5;141m0.01\u001b[0m\u001b[38;5;197m*\u001b[0m\u001b[38;5;81mrandn\u001b[0m(\u001b[0m\u001b[38;5;81mlength\u001b[0m(\u001b[0m\u001b[39mxdata\u001b[0m\u001b[39m)\u001b[0m\u001b[39m)\u001b[0m\n",
       "  \u001b[0m\u001b[39mp0\u001b[0m \u001b[0m\u001b[38;5;197m=\u001b[0m \u001b[0m\u001b[39m[\u001b[0m\u001b[38;5;141m0.5\u001b[0m\u001b[39m,\u001b[0m \u001b[0m\u001b[38;5;141m0.5\u001b[0m\u001b[39m]\u001b[0m\n",
       "  \n",
       "  \u001b[0m\u001b[39mfit\u001b[0m \u001b[0m\u001b[38;5;197m=\u001b[0m \u001b[0m\u001b[38;5;81mcurve_fit\u001b[0m(\u001b[0m\u001b[39mmodel\u001b[0m\u001b[39m,\u001b[0m \u001b[0m\u001b[39mxdata\u001b[0m\u001b[39m,\u001b[0m \u001b[0m\u001b[39mydata\u001b[0m\u001b[39m,\u001b[0m \u001b[0m\u001b[39mp0\u001b[0m\u001b[39m)\u001b[0m\u001b[39m\u001b[0m\n"
      ]
     },
     "execution_count": 37,
     "metadata": {},
     "output_type": "execute_result"
    }
   ],
   "source": [
    "?curve_fit"
   ]
  },
  {
   "cell_type": "code",
   "execution_count": 47,
   "id": "d8603688-8fb9-4520-b2eb-f71a230a9f88",
   "metadata": {},
   "outputs": [
    {
     "data": {
      "text/plain": [
       "model (generic function with 1 method)"
      ]
     },
     "execution_count": 47,
     "metadata": {},
     "output_type": "execute_result"
    }
   ],
   "source": [
    "model(x, p) = p[1] .+ p[2]* x.^(-3.7014)"
   ]
  },
  {
   "cell_type": "code",
   "execution_count": 64,
   "id": "9836c82a-df35-4bf9-8a37-30dd0cc0ac98",
   "metadata": {},
   "outputs": [
    {
     "data": {
      "text/plain": [
       "LsqFit.LsqFitResult{Vector{Float64}, Vector{Float64}, Matrix{Float64}, Vector{Float64}}([0.010775763982382957, 5.101964563893176e11], [0.06858213621152975, 0.0487051071687179, 0.031975788792179216, 0.017987899183466105, 0.006382372043951978, -0.003157272014016499, -0.010910184729128414, -0.01712192105420396, -0.022008468156046845, -0.02575937705811948  …  0.010607509121431467, 0.010622929222623072, 0.010636997773516805, 0.010649828662567508, 0.010661526075668934, 0.010672186000882308, 0.010681896629920206, 0.010690739015139868, 0.010698787461971193, 0.010706110376367328], [1.0000000000235538 7.866834251665311e-12; 1.0000000000235538 7.2179209469308915e-12; … ; 1.000000000000063 1.7052492956842844e-15; 1.000000000000063 1.5645880181527161e-15], true, Float64[])"
      ]
     },
     "execution_count": 64,
     "metadata": {},
     "output_type": "execute_result"
    }
   ],
   "source": [
    "fit = curve_fit(model, xs, -1.0.*1e7 .* ys, [0.0, -1.0])"
   ]
  },
  {
   "cell_type": "code",
   "execution_count": 65,
   "id": "502c05d3-276d-4940-a551-f621de1a89e0",
   "metadata": {},
   "outputs": [
    {
     "data": {
      "text/plain": [
       "2-element Vector{Float64}:\n",
       " 0.010775763982382957\n",
       " 5.101964563893176e11"
      ]
     },
     "execution_count": 65,
     "metadata": {},
     "output_type": "execute_result"
    }
   ],
   "source": [
    "coef(fit)"
   ]
  },
  {
   "cell_type": "code",
   "execution_count": null,
   "id": "3bdb80f5-3349-4c0b-8201-646acc41318e",
   "metadata": {},
   "outputs": [],
   "source": []
  }
 ],
 "metadata": {
  "kernelspec": {
   "display_name": "Julia 1.7.0",
   "language": "julia",
   "name": "julia-1.7"
  },
  "language_info": {
   "file_extension": ".jl",
   "mimetype": "application/julia",
   "name": "julia",
   "version": "1.7.0"
  }
 },
 "nbformat": 4,
 "nbformat_minor": 5
}
