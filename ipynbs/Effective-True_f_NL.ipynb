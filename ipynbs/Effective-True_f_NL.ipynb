{
 "cells": [
  {
   "cell_type": "markdown",
   "id": "50264477-b90b-425c-aef6-d66d39465ced",
   "metadata": {},
   "source": [
    "This file is part of GaPSE\n",
    "Copyright (C) 2022 Matteo Foglieni\n",
    "\n",
    "GaPSE is free software: you can redistribute it and/or modify\n",
    "it under the terms of the GNU General Public License as published by\n",
    "the Free Software Foundation, either version 3 of the License, or\n",
    "(at your option) any later version.\n",
    "\n",
    "GaPSE is distributed in the hope that it will be useful, but\n",
    "WITHOUT ANY WARRANTY; without even the implied warranty of\n",
    "MERCHANTABILITY or FITNESS FOR A PARTICULAR PURPOSE. See the GNU\n",
    "General Public License for more details.\n",
    "\n",
    "You should have received a copy of the GNU General Public License\n",
    "along with GaPSE. If not, see <http://www.gnu.org/licenses/>.\n",
    "```\n",
    "\n",
    "\n",
    "```"
   ]
  },
  {
   "cell_type": "markdown",
   "id": "19589901-0a0b-4398-92db-1a243d497dfe",
   "metadata": {
    "tags": []
   },
   "source": [
    "# Effective-True 𝑓_NL"
   ]
  },
  {
   "cell_type": "markdown",
   "id": "e18bdb30-baec-4491-8419-2d840096edcd",
   "metadata": {},
   "source": [
    "This ipynb provides the code necessary to compute \n",
    "- the Power Spectrum (PS) of the Local Primordial Non-Gaussianities (PNG);\n",
    "- the Power Spectrum made by the sum of 25 General Relativistic (GR) effects arising from the relativistic Galaxy Number Counts (GNC);\n",
    "- the Power Spectra of the standard Newtonian (the leading GR effect) and of the Galaxies in the Plane-Parallel (PP) approximation.\n",
    "\n",
    "The PNG are described in the $f_{\\rm NL}$ prescription, where the primordial gravitational potential during the matter domination $\\Phi_{\\rm NG}(s)$ includes a quadratic correction:\n",
    "\n",
    "$$ \\Phi_{\\rm NG}(s) = \\phi_{\\rm G}(s) + f_{\\rm NL} \\left[ \\phi^2_G(s) - \\phi^2_{\\rm G}(s)\\right]$$\n",
    "\n",
    "\n",
    "where $\\phi_{\\rm G}$ indicates the primordial potential assumed to be a Gaussian random field, $\\langle ...\\rangle$ denotes ensemble average and $f_{\\rm NL}$ describes the amplitude of the correction.\n",
    "\n",
    "\n",
    "All the output files will be placed in the following directory:"
   ]
  },
  {
   "cell_type": "code",
   "execution_count": 1,
   "id": "b6b70bf8-ba47-4b57-a348-4acbde496073",
   "metadata": {},
   "outputs": [],
   "source": [
    "#DIR = \"/Users/matteofoglieni/Dropbox/GR_effects/Matteo_Output/fNL_effective_z115/\";\n",
    "DIR = \"Effective-True_fNL_z115_files/\";\n",
    "\n",
    "ps_kwargs(twofast::Bool) = twofast ?\n",
    "    Dict(:twofast=>true, :epl => true, :pr => false, \n",
    "          :N_left => 12, :N_right => 12,\n",
    "          :p0_left => [-2.0, 1.0], :p0_right => [-2.0, 1.0],\n",
    "          :int_s_min => 1e0, :int_s_max => 1200.0) :\n",
    "    Dict(:twofast=>false, :pr=>true, :ν => 1.5, :n_extrap_low => 0,\n",
    "     :n_extrap_high => 0, :n_pad => 500, :cut_first_n=>6);\n",
    "tf = false;"
   ]
  },
  {
   "cell_type": "markdown",
   "id": "ed79457d-5f68-4d26-a381-736a8b705744",
   "metadata": {
    "jp-MarkdownHeadingCollapsed": true,
    "tags": []
   },
   "source": [
    "## Basic Framework"
   ]
  },
  {
   "cell_type": "code",
   "execution_count": 2,
   "id": "65183451-da5c-4293-a281-385f59e120e0",
   "metadata": {},
   "outputs": [],
   "source": [
    "PATH_TO_GAPSE = \"../\";"
   ]
  },
  {
   "cell_type": "code",
   "execution_count": 3,
   "id": "97026b13-185e-4ad0-aeb9-9658f56cfa57",
   "metadata": {},
   "outputs": [],
   "source": [
    "include(PATH_TO_GAPSE * \"src/GaPSE.jl\");"
   ]
  },
  {
   "cell_type": "code",
   "execution_count": 4,
   "id": "b80474c8-5290-4cf7-b5c6-9fba09ea981a",
   "metadata": {},
   "outputs": [
    {
     "data": {
      "text/plain": [
       "Plots.PyPlotBackend()"
      ]
     },
     "execution_count": 4,
     "metadata": {},
     "output_type": "execute_result"
    }
   ],
   "source": [
    "using DelimitedFiles, Plots, Dierckx, SpecialFunctions, TwoFAST, ProgressMeter\n",
    "using Printf, LaTeXStrings, Turing, StatsPlots, GridInterpolations, LegendrePolynomials\n",
    "pyplot()"
   ]
  },
  {
   "cell_type": "code",
   "execution_count": 5,
   "id": "8ebcebe2-20ef-45ac-9ba8-8eed3305f8b6",
   "metadata": {},
   "outputs": [],
   "source": [
    "#z_min, z_max, θ_max = 0.05, 0.20, π / 2.0\n",
    "z_min, z_max, θ_max = 1.0, 1.5, π / 2.0\n",
    "\n",
    "WFI_opts = Dict(\n",
    "    :ss_start => 0.0, :ss_stop => 0.0, \n",
    "    :ss_step => 50, :llim => 0.0, :rlim => Inf, \n",
    "    :rtol => 5e-2, :atol => 0.0, :N => 1000, #:pr => true,\n",
    ")\n",
    "\n",
    "FILE_F_MAP = PATH_TO_GAPSE * \"data/F_REFERENCE_pi2.txt\"\n",
    "FILE_PS = PATH_TO_GAPSE * \"test/datatest/file_pk.txt\"\n",
    "FILE_BACKGROUND = PATH_TO_GAPSE * \"test/datatest/WideA_ZA_background.dat\"\n",
    "\n",
    "params = GaPSE.CosmoParams(z_min, z_max, θ_max;\n",
    "    Ω_b = 0.0489, Ω_cdm = 0.251020, h_0 = 0.70, s_lim=1e-2,\n",
    "    s_b = 0.0, 𝑓_evo = 0.0, b = 1.0,\n",
    "    IPS_opts = Dict(\n",
    "        :fit_left_min => 1e-6, :fit_left_max => 3e-6,\n",
    "        :fit_right_min => 1e1, :fit_right_max => 2e1),\n",
    "    IPSTools_opts = Dict(\n",
    "        :N => 1024, :fit_min => 0.05, :fit_max => 0.5, \n",
    "        :con => true, :k_min => 1e-8, :k_max => 10.0),\n",
    "    WFI_opts = WFI_opts,\n",
    ");"
   ]
  },
  {
   "cell_type": "code",
   "execution_count": 6,
   "id": "f930d3d3-0472-4c2c-acb7-1be3cd8aa6ce",
   "metadata": {},
   "outputs": [],
   "source": [
    "#=\n",
    "new_calc_μs = union([μ for μ in -1.0:0.01:(-0.9)], \n",
    "        [μ for μ in -0.9:0.05:0.9], \n",
    "        [μ for μ in 0.9:0.01:1.0]);\n",
    "FILE_IF_MAP = PATH_TO_GAPSE*\"data/IntF_pi2_z115.txt\"\n",
    "\n",
    "GaPSE.print_map_IntegratedF(\n",
    "    FILE_F_MAP, FILE_IF_MAP, \n",
    "    z_min, z_max, new_calc_μs, FILE_BACKGROUND;\n",
    "    trap = true, WFI_opts...\n",
    ")\n",
    "=#"
   ]
  },
  {
   "cell_type": "code",
   "execution_count": 7,
   "id": "cf2184c9-4050-4feb-aac0-381b5775241b",
   "metadata": {},
   "outputs": [
    {
     "name": "stdout",
     "output_type": "stream",
     "text": [
      "###############\n",
      "#    GaPSE    #\n",
      "############### \n",
      "#\n",
      "# The Cosmology considered had the following paremeters:\n",
      "# \n",
      "# - Matter Power Spectrum input file: \"../test/datatest/file_pk.txt\"\n",
      "# - Background data input file: \"../test/datatest/WideA_ZA_background.dat\"\n",
      "# - F window function input file: \"../data/F_REFERENCE_pi2.txt\"\n",
      "# - Integrated F window function input file: \"../data/IntF_pi2_z115.txt\"\n",
      "#\n",
      "# - Basic CosmoParams considered: \n",
      "#\t z_min = 1.0 \t z_max = 1.5\n",
      "#\t θ_max = 1.5707963267948966 [rad] \t h_0 = 0.7\n",
      "#\t Ω_b = 0.0489 \t Ω_cdm = 0.25102 \t Ω_M0 = 0.29992\n",
      "#\t b = 1.0 \t f_evo = 0.0 \t s_b = 0.0\n",
      "#\n",
      "# - CosmoParams about the Input Power Spectrum: \n",
      "#\t fit_left_min = 1.0e-6 \t fit_right_min = 10.0 \t \n",
      "#\t fit_left_max = 3.0e-6 \t fit_right_max = 20.0 \t \n",
      "#\n",
      "# - CosmoParams about the Input Power Spectrum Tools: \n",
      "#\t k_max = 10.0 \t fit_max = 0.5 \t N = 1024 \t \n",
      "#\t con = true \t k_min = 1.0e-8 \t fit_min = 0.05 \t \n",
      "#\n",
      "# - CosmoParams about the Integrated Window Function F: \n",
      "#\t ss_step = 50 \t N = 1000 \t rtol = 0.05 \t \n",
      "#\t llim = 0.0 \t atol = 0.0 \t rlim = Inf \t \n",
      "#\t ss_stop = 0.0 \t trap = true \t ss_start = 0.0 \t \n",
      "#\n",
      "# - Computed quantities: \n",
      "# \t effective redshift z_eff = 1.2613556177172356 \n",
      "# \t comoving s_min = 2312.577431755554 Mpc/h_0\n",
      "# \t comoving s_max = 3054.4830200675647 Mpc/h_0\n",
      "# \t comoving s_eff = 2725.87720083235 Mpc/h_0\n",
      "# \t Volume of the survey V_survey = 3.378305693005294e10 Mpc^3/h_0^3\n",
      "# \t σ_0 = 15.593462966741178\n",
      "# \t σ_1 = 15.074895881392285\n",
      "# \t σ_2 = 100.85852368830226\n",
      "# \t σ_3 = 3735.1226181519773\n",
      "# \t (where σ_i = \\int_{k_{min}}^{k_{max}}\\frac{dq}{2 π^2} q^{2-i} P(q))\n",
      "# \n"
     ]
    }
   ],
   "source": [
    "FILE_IF_MAP = PATH_TO_GAPSE*\"data/IntF_pi2_z115.txt\"\n",
    "cosmo = GaPSE.Cosmology(params, FILE_BACKGROUND, FILE_PS, FILE_F_MAP, FILE_IF_MAP);\n",
    "\n",
    "GaPSE.parameters_used(stdout, cosmo)"
   ]
  },
  {
   "cell_type": "markdown",
   "id": "0fcee586-095a-47e4-b635-17be02f28317",
   "metadata": {
    "jp-MarkdownHeadingCollapsed": true,
    "tags": []
   },
   "source": [
    "## Check window function F an integrated IF"
   ]
  },
  {
   "cell_type": "code",
   "execution_count": 8,
   "id": "b8301482-f4af-40d0-9f83-cc6d9c4fc34c",
   "metadata": {},
   "outputs": [],
   "source": [
    "#=\n",
    "my_matrix = readdlm(FILE_F_MAP, comments=true)\n",
    "my_xs = convert(Vector{Float64}, my_matrix[:,1])\n",
    "my_μs = convert(Vector{Float64}, my_matrix[:,2])\n",
    "my_Fs = convert(Vector{Float64}, my_matrix[:,3]);\n",
    "my_F_grid = GridInterpolations.RectangleGrid( unique(my_μs), unique(my_xs))\n",
    "my_spline_F(x, μ) = GridInterpolations.interpolate(my_F_grid, my_Fs, [μ, x]);\n",
    "=#"
   ]
  },
  {
   "cell_type": "code",
   "execution_count": 9,
   "id": "3d4e4c90-d7ac-430b-abbf-827d53f201fa",
   "metadata": {},
   "outputs": [],
   "source": [
    "#=\n",
    "my_Imatrix = readdlm(FILE_IF_MAP, comments=true)\n",
    "my_Iss = convert(Vector{Float64}, my_Imatrix[:,1])\n",
    "my_Iμs = convert(Vector{Float64}, my_Imatrix[:,2])\n",
    "my_IFs = convert(Vector{Float64}, my_Imatrix[:,3]);\n",
    "my_IF_grid = GridInterpolations.RectangleGrid( unique(my_Iμs), unique(my_Iss))\n",
    "my_spline_IF(s, μ) = GridInterpolations.interpolate(my_IF_grid, my_IFs, [μ, s]);\n",
    "=#"
   ]
  },
  {
   "cell_type": "code",
   "execution_count": 10,
   "id": "f2a97c30-8d89-42b0-9141-0618dbc1bedc",
   "metadata": {},
   "outputs": [],
   "source": [
    "#=\n",
    "p1 = plot(my_xs, my_μs, my_Fs; xl=\"s\", yl=\"μ\", zl=\"int\", \n",
    "    st = :surface, c=cgrad([:yellow, :red]), size=(600, 300), \n",
    "    title=\"my F\", legend = false)\n",
    "p2 = plot(my_Iss, my_Iμs, my_IFs; xl=\"s\", yl=\"μ\", zl=\"intF\", \n",
    "    st = :surface, c=cgrad([:yellow, :red]), size=(600, 300), \n",
    "    title=\"my IntF\", legend = false)\n",
    "plot(p1, p2, size=(1200, 400))\n",
    "=#"
   ]
  },
  {
   "cell_type": "code",
   "execution_count": 11,
   "id": "d4a6f2dd-f35c-47f4-92fe-c6107575cd3b",
   "metadata": {},
   "outputs": [],
   "source": [
    "#=\n",
    "pyplot()\n",
    "\n",
    "title = plot(title = \"Slices of F for different x values\", grid=false, \n",
    "    showaxis = false, bottom_margin = -50Plots.px, ticks=false)\n",
    "\n",
    "θ_max =  π/2.0;\n",
    "xs = [0.0, 0.5, 1.0, 1.5, 2.0, 2.5, 3.0, 3.5, 4.0, 4.5, 5.0];\n",
    "μs = range(-1.0, 1.0, length=100);\n",
    "\n",
    "LIST_P = [plot() for i in 1:length(xs)]\n",
    "for (i,x) in enumerate(xs)\n",
    "    tit = \"\\n\\n x = $x\"\n",
    "    xs_1 = μs\n",
    "    ys_1 = [my_spline_F(x, μ) for μ in xs_1]\n",
    "\n",
    "    LIST_P[i] = plot(xs_1, ys_1, \n",
    "        #xaxis=:log, yaxis=:log, \n",
    "        lc=:red, title=tit, legend=false,\n",
    "        ylabel=L\"F(x,\\mu)\", ls=:solid, \n",
    "        #xticks=10.0 .^ range(-3,0, step=1),\n",
    "    )\n",
    "end\n",
    "\n",
    "l = @layout [ A{0.003h} ; a b c d ; e f g h ; i l j _]\n",
    "ALL_PLOTS = plot(title, LIST_P..., layout=l,\n",
    "    left_margins = 15Plots.px, right_margins = 15Plots.px, size=(1000,700))\n",
    "=#"
   ]
  },
  {
   "cell_type": "code",
   "execution_count": 12,
   "id": "36101e95-c264-408d-84ce-ad23dc44b622",
   "metadata": {},
   "outputs": [],
   "source": [
    "#=\n",
    "pyplot()\n",
    "\n",
    "title = plot(title = \"Slices of IF for different s values\", grid=false, \n",
    "    showaxis = false, bottom_margin = -50Plots.px, ticks=false)\n",
    "\n",
    "θ_max =  π/2.0;\n",
    "ss = vcat([10.0], [i*max(my_Iss...)/6 for i in 1:5]);\n",
    "μs = range(-1.0, 1.0, length=100);\n",
    "\n",
    "LIST_P = [plot() for i in 1:length(ss)]\n",
    "for (i,s) in enumerate(ss)\n",
    "    tit = \"\\n\\n s = $s [Mpc/h_0]\"\n",
    "    xs_1 = μs\n",
    "    ys_1 = [my_spline_IF(s, μ) for μ in xs_1]\n",
    "\n",
    "    LIST_P[i] = plot(xs_1, ys_1, \n",
    "        #xaxis=:log, yaxis=:log, \n",
    "        lc=:red, title=tit, legend=false,\n",
    "        ylabel=L\"IF(s,\\mu)\", ls=:solid, \n",
    "        #xticks=10.0 .^ range(-3,0, step=1),\n",
    "    )\n",
    "end\n",
    "\n",
    "l = @layout [ A{0.003h} ; a b c ; d e f ]\n",
    "ALL_PLOTS = plot(title, LIST_P..., layout=l,\n",
    "    left_margins = 15Plots.px, right_margins = 15Plots.px, size=(1000,500))\n",
    "=#"
   ]
  },
  {
   "cell_type": "markdown",
   "id": "6ef880c0-9fb7-4eef-80a3-ea30699d3741",
   "metadata": {
    "jp-MarkdownHeadingCollapsed": true,
    "tags": []
   },
   "source": [
    "## Creation of a CosmoPNG struct"
   ]
  },
  {
   "cell_type": "code",
   "execution_count": 13,
   "id": "39aa4a8a-9f56-4ad0-911e-cc5372811ced",
   "metadata": {},
   "outputs": [],
   "source": [
    "cosmopng = GaPSE.CosmoPNG(cosmo, PATH_TO_GAPSE*\"data/Tk.dat\");"
   ]
  },
  {
   "cell_type": "code",
   "execution_count": 14,
   "id": "1e8f6619-e057-40f0-81df-50079970a1b2",
   "metadata": {},
   "outputs": [],
   "source": [
    "func(z) = cosmo.D_of_s(cosmo.s_of_z(z)) * (1+z) * 0.779017;"
   ]
  },
  {
   "cell_type": "code",
   "execution_count": 15,
   "id": "6d5e85b3-39b0-4a9e-bf37-17859f84085d",
   "metadata": {},
   "outputs": [
    {
     "data": {
      "text/plain": [
       "0.999999999990678"
      ]
     },
     "execution_count": 15,
     "metadata": {},
     "output_type": "execute_result"
    }
   ],
   "source": [
    "func(6.2387072)"
   ]
  },
  {
   "cell_type": "code",
   "execution_count": 16,
   "id": "9720b0b2-92d8-4f50-a27b-880b7dfb6baf",
   "metadata": {},
   "outputs": [
    {
     "data": {
      "image/png": "[encoded data removed]"
     },
     "execution_count": 16,
     "metadata": {},
     "output_type": "execute_result"
    }
   ],
   "source": [
    "zs = 10.0 .^ range(-2,2, length=1000)#0.779017\n",
    "plot(zs, func.(zs), xaxis=:log)"
   ]
  },
  {
   "cell_type": "code",
   "execution_count": 17,
   "id": "e668c168-144e-4378-89e9-934677f91494",
   "metadata": {},
   "outputs": [],
   "source": [
    "#ks_tf, pks_tf = GaPSE.readxy(\"../data/Tk.dat\");\n",
    "#T = Spline1D(ks_tf, pks_tf; bc =\"error\");\n",
    "ks_all_tf, pks_all_tf = GaPSE.readxall(PATH_TO_GAPSE*\"data/WideA_ZA_tk.dat\", comments=true);\n",
    "orig_T = Spline1D(ks_all_tf, pks_all_tf[end]; bc =\"error\");"
   ]
  },
  {
   "cell_type": "code",
   "execution_count": 18,
   "id": "d0f7db93-f725-4dc4-bdb8-2d1e3f3fb16b",
   "metadata": {},
   "outputs": [
    {
     "data": {
      "image/png": "[encoded data removed]"
     },
     "execution_count": 18,
     "metadata": {},
     "output_type": "execute_result"
    }
   ],
   "source": [
    "P = plot(ks_all_tf, cosmopng.tf.(ks_all_tf), axis=:log, label=\"mine\", size=(500, 300), lc=:red)\n",
    "for i in [1, 4, 6,7]\n",
    "    plot!(P,ks_all_tf, abs.(pks_all_tf[i]), label=\"$i\")\n",
    "end\n",
    "P"
   ]
  },
  {
   "cell_type": "code",
   "execution_count": 19,
   "id": "70746ed4-88bf-4696-8578-446d7919a729",
   "metadata": {},
   "outputs": [
    {
     "data": {
      "image/png": "[encoded data removed]"
     },
     "execution_count": 19,
     "metadata": {},
     "output_type": "execute_result"
    }
   ],
   "source": [
    "P = plot(ks_all_tf, cosmopng.tf.(ks_all_tf), axis=:log, label=\"mine\", size=(500, 300))\n",
    "for (i, ys) in enumerate(pks_all_tf)\n",
    "    plot!(P, ks_all_tf, abs.(ys), label=\"$i\")\n",
    "end\n",
    "P"
   ]
  },
  {
   "cell_type": "code",
   "execution_count": 20,
   "id": "ca2d1312-fcbd-42c8-9959-dd161dfc3ade",
   "metadata": {},
   "outputs": [
    {
     "data": {
      "image/png": "[encoded data removed]"
     },
     "execution_count": 20,
     "metadata": {},
     "output_type": "execute_result"
    }
   ],
   "source": [
    "xs_1 = ks_all_tf\n",
    "ys_1 = cosmopng.tf.(ks_all_tf)\n",
    "\n",
    "xs_2 = ks_all_tf\n",
    "ys_2 =  abs.(pks_all_tf[7]) \n",
    "spline = Spline1D(xs_2, ys_2)\n",
    "\n",
    "S_VLIM = 2*π/(2*cosmo.s_max)\n",
    "S_VLIM_F = @sprintf(\"%.5f\", S_VLIM)\n",
    "\n",
    "p1 = plot([xs_1, xs_2], [abs.(ys_1), abs.(ys_2)],\n",
    "    xaxis=:log, #yaxis=:log, \n",
    "    lc=[:red :blue], #yticks = 10.0 .^ [i for i in 2:5],\n",
    "    title = \"Mine and CLASS Transfer function\",\n",
    "    label=[\"Mine\" \"CLASS\"], ls=[:dash :dot], \n",
    "    ylabel = L\"|P(k)| \\quad [h_0^{-3}\\,\\mathrm{Mpc}^3]\",\n",
    "    legend=:bottomleft)\n",
    "p2 = plot(xs_1, spline.(xs_1) ./ ys_1, \n",
    "    ylabel=\"Ratio\", lc=:green, \n",
    "    xaxis=:log, \n",
    "    ylim=(0,1), \n",
    "    legend=false, \n",
    "    #xlabel=L\"$k \\quad [h_0 \\,\\mathrm{Mpc}^{-1}]$\",\n",
    "    )\n",
    "p3 = plot(xs_1, spline.(xs_1) .- ys_1, \n",
    "    ylabel=\"Difference\", lc=:green, \n",
    "    xaxis=:log,\n",
    "    #ylim=(0.0,1), \n",
    "    legend=false, \n",
    "    xlabel=L\"$k \\quad [h_0 \\,\\mathrm{Mpc}^{-1}]$\")\n",
    "VAXES = 4e-3\n",
    "P = plot(p1, p2, p3, size=(500, 600), layout= @layout [ x ; y ; z ] )\n",
    "#display(P)"
   ]
  },
  {
   "cell_type": "code",
   "execution_count": 21,
   "id": "90862543-ce77-4afb-b609-fbb28f7b4533",
   "metadata": {},
   "outputs": [
    {
     "data": {
      "image/png": "[encoded data removed]",
      "text/plain": [
       "PyPlot.Figure(PyObject <Figure size 500x300 with 1 Axes>)"
      ]
     },
     "metadata": {},
     "output_type": "display_data"
    }
   ],
   "source": [
    "xs_1 = ks_all_tf\n",
    "ys_1 = cosmopng.tf.(ks_all_tf)\n",
    "\n",
    "\n",
    "S_VLIM = 2*π/(2*cosmo.s_max)\n",
    "S_VLIM_F = @sprintf(\"%.5f\", S_VLIM)\n",
    "\n",
    "p1 = plot(xs_1, abs.(ys_1),\n",
    "    xaxis=:log, yaxis=:log, \n",
    "    lc=:red, size=(500, 300), ylim=(1e-5, 2e0),\n",
    "    yticks = (\n",
    "        [10.0 ^ i for i in -5:0], \n",
    "        [i%2==0 ? L\"10^{%$i}\" : nothing for i in -5:0]),\n",
    "    xticks = (\n",
    "        [10.0 ^ i for i in -6:2], \n",
    "        [i%2==0 ? L\"10^{%$i}\" : nothing for i in -6:2]),\n",
    "    title = \"Matter Transfer function\",\n",
    "    ls=:solid, tickfontsize=11, labelfontsize=12,\n",
    "    ylabel = L\"T_m(k)\", xlabel = L\"k \\quad [h_0\\, \\mathrm{Mpc}^{-1}]\",\n",
    "    legend=false)\n",
    "savefig(p1, DIR*\"Matter_Transfer_Function.pdf\")"
   ]
  },
  {
   "cell_type": "markdown",
   "id": "fb6ce39a-652d-4aa8-a85e-18213bc24fc5",
   "metadata": {
    "jp-MarkdownHeadingCollapsed": true,
    "tags": []
   },
   "source": [
    "## Code GNCsum and Newtonian TPCF and PS L=0 with F"
   ]
  },
  {
   "cell_type": "code",
   "execution_count": 22,
   "id": "d0387891-b0da-4d08-97f0-3f17292cc10f",
   "metadata": {},
   "outputs": [],
   "source": [
    "name_xis_GNC_file = \"map_sum_xis_GNC_L0_withF.txt\";\n",
    "name_ps_GNC_file =\"map_sum_ps_GNC_L0_withF.txt\";"
   ]
  },
  {
   "cell_type": "code",
   "execution_count": 23,
   "id": "8eaf1c3f-e270-417b-9ded-d2b0f9a53da3",
   "metadata": {},
   "outputs": [],
   "source": [
    "#=\n",
    "GaPSE.print_map_sum_ξ_GNC_multipole(\n",
    "    cosmo, DIR*name_xis_GNC_file, \n",
    "    10 .^ range(0, log10(2*cosmo.s_max), length = 500);\n",
    "    single = true, use_windows = true, enhancer = 1e8, L=0,\n",
    "    N_μs = 200, μ_atol = 0.0, μ_rtol = 1e-2, trap = true,\n",
    "    N_χs = 100, N_χs_2 = 60);\n",
    "=#"
   ]
  },
  {
   "cell_type": "code",
   "execution_count": 24,
   "id": "a7f819c2-9425-4483-bb67-d6100340e8ef",
   "metadata": {},
   "outputs": [],
   "source": [
    "ss_GNC_L0_withF, xis_sum_GNC_L0_withF, all_xis_GNC_L0_withF = \n",
    "    GaPSE.readxyall(DIR*name_xis_GNC_file);\n",
    "spline_GNCsum_L0_withF = Spline1D(ss_GNC_L0_withF, xis_sum_GNC_L0_withF; bc = \"error\");"
   ]
  },
  {
   "cell_type": "code",
   "execution_count": 25,
   "id": "c24dbcf8-6ccb-4994-a01c-6fd4bb621d0e",
   "metadata": {},
   "outputs": [
    {
     "name": "stdout",
     "output_type": "stream",
     "text": [
      "\n",
      "I'm computing the PS_multipole from the file \"Effective-True_fNL_z115_files/map_sum_xis_GNC_L0_withF.txt\"for the Galaxy Number Counts.\n",
      "\n",
      "time needed for all the Power Spectra computation [in s] = 2.5856010913848877\n",
      "\n"
     ]
    }
   ],
   "source": [
    "GaPSE.print_all_PS_multipole(DIR*name_xis_GNC_file, \n",
    "    DIR*name_ps_GNC_file, \"GNC\"; L=0, ps_kwargs(tf)...)\n",
    "ks_GNC_L0_withF, pks_sum_GNC_L0_withF, pks_all_GNC_L0_withF = \n",
    "    GaPSE.readxyall(DIR*name_ps_GNC_file);"
   ]
  },
  {
   "cell_type": "code",
   "execution_count": 26,
   "id": "803e58f4-7225-4caf-9ea0-72e1334acf5e",
   "metadata": {},
   "outputs": [],
   "source": [
    "#ks_Newtonian_L0_withF, pks_Newtonian_L0_withF = GaPSE.PS_multipole(ss_GNC_L0_withF, \n",
    "#    all_xis_GNC_L0_withF[1]; L = 0,  ps_kwargs(tf)...);\n",
    "ks_Newtonian_L0_withF, pks_Newtonian_L0_withF = \n",
    "    ks_GNC_L0_withF, pks_all_GNC_L0_withF[GaPSE.INDEX_GR_EFFECT_GNC[\"auto_newton\"]];\n",
    "spline_Newt_L0_withF = Spline1D(ks_Newtonian_L0_withF, pks_Newtonian_L0_withF; bc = \"error\");"
   ]
  },
  {
   "cell_type": "markdown",
   "id": "96af1023-866b-437f-b159-08ca6e535c39",
   "metadata": {
    "jp-MarkdownHeadingCollapsed": true,
    "tags": []
   },
   "source": [
    "## S monopole and dipole"
   ]
  },
  {
   "cell_type": "code",
   "execution_count": 27,
   "id": "f8763503-f85b-4496-a336-d13b32daf9fc",
   "metadata": {},
   "outputs": [],
   "source": [
    "ss = 10 .^ range(-3,4; length=300);\n",
    "J0s = [cosmopng.J0(s) for s in ss]\n",
    "J2s = [cosmopng.J2(s) for s in ss]\n",
    "I02s = [cosmo.tools.I02(s) * s^2 for s in ss]; \n",
    "I22s = [cosmo.tools.I22(s) * s^2 for s in ss]; "
   ]
  },
  {
   "cell_type": "code",
   "execution_count": 28,
   "id": "1bff0929-4846-489c-ac19-6de9ddb6ff1d",
   "metadata": {},
   "outputs": [
    {
     "data": {
      "text/plain": [
       "(0.5774970250970135, 0.6068674862889999)"
      ]
     },
     "execution_count": 28,
     "metadata": {},
     "output_type": "execute_result"
    }
   ],
   "source": [
    "3/2*cosmo.params.Ω_M0/0.779017/cosmo.D_of_s(0), 0.779017^2"
   ]
  },
  {
   "cell_type": "code",
   "execution_count": 29,
   "id": "22f272e4-0103-49f3-a4a6-c5dd2d24f145",
   "metadata": {},
   "outputs": [
    {
     "data": {
      "image/png": "[encoded data removed]",
      "text/plain": [
       "PyPlot.Figure(PyObject <Figure size 500x400 with 2 Axes>)"
      ]
     },
     "metadata": {},
     "output_type": "display_data"
    }
   ],
   "source": [
    "xs_1 = ss\n",
    "ys_1 = J0s ./ (100 / 299792.458) .^2\n",
    "\n",
    "xs_2 = ss\n",
    "ys_2 = I02s\n",
    "spline_2 = Spline1D(xs_2, ys_2)\n",
    "\n",
    "#xs_3 = casto_ss\n",
    "#ys_3 = abs.(casto_J0s) ./ (100 / 299792.458) .^2\n",
    "#spline_3 = Spline1D(xs_3, ys_3)\n",
    "\n",
    "p1 = plot([xs_1, xs_2], [abs.(ys_1), abs.(ys_2)],\n",
    "    xaxis=:log, yaxis=:log, \n",
    "    lc=[:red :blue], #yticks = 10.0 .^ [i for i in 2:5],\n",
    "    title = L\"J_0\"*\" of S and original \" * L\"s^2 \\, I_0^2\",\n",
    "    label=[L\"J_0\" L\"s^2 \\, I_0^2\"], ls=[:solid :dash], \n",
    "    legend=:bottomleft)\n",
    "#plot!(p1, xs_3, ys_3, label = \"casto\", ls=:dot)\n",
    "\n",
    "p2 = plot(xs_1, spline_2.(xs_1) ./ ys_1, \n",
    "    ylabel=\"Ratio\", lc=:green, \n",
    "    xaxis=:log, label = L\" s^2 \\, I_0^2 \\, / \\, J_0\",\n",
    "    ylim=(0,2), \n",
    "    legend=:topleft, \n",
    "    xlabel=L\"$s \\quad [h_0^{-1} \\,\\mathrm{Mpc}]$\",\n",
    "    )\n",
    "#plot!(p2, xs_1, spline_3.(xs_1) ./ ys_1, label = \"casto / mine\")\n",
    "    \n",
    "P = plot(p1, p2, size=(500, 400), layout= @layout [ x ; y  ] )\n",
    "savefig(P, DIR*\"J0_of_S.pdf\")"
   ]
  },
  {
   "cell_type": "code",
   "execution_count": 30,
   "id": "ecbce583-d420-4830-99bd-2b2dd71330ca",
   "metadata": {},
   "outputs": [
    {
     "data": {
      "image/png": "[encoded data removed]",
      "text/plain": [
       "PyPlot.Figure(PyObject <Figure size 500x400 with 2 Axes>)"
      ]
     },
     "metadata": {},
     "output_type": "display_data"
    }
   ],
   "source": [
    "xs_1 = ss\n",
    "ys_1 = J2s ./ (100 / 299792.458) .^2  #.* 1e13\n",
    "\n",
    "xs_2 = ss\n",
    "ys_2 = I22s\n",
    "spline_2 = Spline1D(xs_2, ys_2)\n",
    "\n",
    "#xs_3 = casto_ss\n",
    "#ys_3 = abs.(casto_J2s) ./ (100 / 299792.458) .^2\n",
    "#spline_3 = Spline1D(xs_3, ys_3)\n",
    "\n",
    "p1 = plot([xs_1, xs_2], [abs.(ys_1), abs.(ys_2)],\n",
    "    xaxis=:log, yaxis=:log, \n",
    "    lc=[:red :blue], #yticks = 10.0 .^ [i for i in 2:5],\n",
    "    title = L\"J_2\"*\" of S and original \" * L\"s^2 \\, I_2^2\",\n",
    "    label=[L\"J_2\" L\"s^2 \\, I_2^2\"], ls=[:dash :dot], \n",
    "    legend=:bottomleft)\n",
    "#plot!(p1, xs_3, ys_3, label=\"casto\", ls=:dot)\n",
    "\n",
    "p2 = plot(xs_1, spline_2.(xs_1) ./ ys_1, \n",
    "    ylabel=\"Ratio\", lc=:green, \n",
    "    xaxis=:log, label = L\"s^2 \\, I_2^2 \\,  / \\, J_2\",\n",
    "    ylim=(0,2), \n",
    "    legend=:topleft, \n",
    "    xlabel=L\"$s \\quad [h_0^{-1} \\,\\mathrm{Mpc}]$\",\n",
    "    )\n",
    "#plot!(p2, xs_1, spline_3.(xs_1) ./ ys_1, label = \"casto / mine\")\n",
    "    \n",
    "P = plot(p1, p2, size=(500, 400), layout= @layout [ x ; y  ] )\n",
    "savefig(P, DIR*\"J2_of_S.pdf\")"
   ]
  },
  {
   "cell_type": "markdown",
   "id": "528a6ad7-df3c-4e7e-b584-a1f1df9bc0ad",
   "metadata": {
    "jp-MarkdownHeadingCollapsed": true,
    "tags": []
   },
   "source": [
    "## Code TPCF and PS of S"
   ]
  },
  {
   "cell_type": "code",
   "execution_count": 31,
   "id": "9c21c3fb-f40c-423b-8441-4e6a8191c000",
   "metadata": {},
   "outputs": [
    {
     "name": "stderr",
     "output_type": "stream",
     "text": [
      "\u001b[32mξ_S, L=0: 100%|█████████████████████████████████████████| Time: 0:00:01\u001b[39m\n"
     ]
    },
    {
     "name": "stdout",
     "output_type": "stream",
     "text": [
      "\n",
      "time needed for map_ξ_S_multipole [in s] = 1.10679 \n",
      "\n",
      "time needed for map_ξ_S_multipole [in s] = 0.05140 \n",
      "\n",
      "I'm computing the PS_multipole from the file \"Effective-True_fNL_z115_files/map_xi_S_L0_noF.dat\" \n",
      "\n",
      "time needed for this Power Spectrum computation [in s] = 0.002022981643676758\n",
      "\n",
      "\n",
      "I'm computing the PS_multipole from the file \"Effective-True_fNL_z115_files/map_xi_S_L2_noF.dat\" \n",
      "\n",
      "time needed for this Power Spectrum computation [in s] = 0.0020940303802490234\n",
      "\n"
     ]
    }
   ],
   "source": [
    "GaPSE.print_map_ξ_S_multipole(cosmo, cosmopng, DIR * \"map_xi_S_L0_noF.dat\",\n",
    "    10 .^ range(0, log10(2*cosmo.s_max), length=500); L=0, use_windows = false);\n",
    "GaPSE.print_map_ξ_S_multipole(cosmo, cosmopng, DIR * \"map_xi_S_L2_noF.dat\",\n",
    "    10 .^ range(0, log10(2*cosmo.s_max), length=500); L=2, use_windows = false);\n",
    "GaPSE.print_PS_multipole(DIR * \"map_xi_S_L0_noF.dat\", \n",
    "    DIR * \"map_ps_S_L0_noF.dat\"; L = 0, ps_kwargs(tf)...);\n",
    "GaPSE.print_PS_multipole(DIR * \"map_xi_S_L2_noF.dat\", \n",
    "    DIR * \"map_ps_S_L2_noF.dat\"; L = 2, ps_kwargs(tf)...);\n",
    "\n",
    "ss_S_L0_noF, xis_S_L0_noF = GaPSE.readxy(DIR * \"map_xi_S_L0_noF.dat\");\n",
    "ss_S_L2_noF, xis_S_L2_noF = GaPSE.readxy(DIR * \"map_xi_S_L2_noF.dat\");\n",
    "ks_S_L0_noF, pks_S_L0_noF = GaPSE.readxy(DIR * \"map_ps_S_L0_noF.dat\");\n",
    "ks_S_L2_noF, pks_S_L2_noF = GaPSE.readxy(DIR * \"map_ps_S_L2_noF.dat\");"
   ]
  },
  {
   "cell_type": "code",
   "execution_count": 32,
   "id": "df86f8bb-042f-4c8a-90fa-f64f46ec5550",
   "metadata": {},
   "outputs": [
    {
     "name": "stderr",
     "output_type": "stream",
     "text": [
      "\u001b[32mξ_S, L=0: 100%|█████████████████████████████████████████| Time: 0:00:02\u001b[39m\n"
     ]
    },
    {
     "name": "stdout",
     "output_type": "stream",
     "text": [
      "\n",
      "time needed for map_ξ_S_multipole [in s] = 2.02093 \n"
     ]
    },
    {
     "name": "stderr",
     "output_type": "stream",
     "text": [
      "\u001b[32mξ_S, L=2: 100%|█████████████████████████████████████████| Time: 0:00:07\u001b[39m\n"
     ]
    },
    {
     "name": "stdout",
     "output_type": "stream",
     "text": [
      "\n",
      "time needed for map_ξ_S_multipole [in s] = 7.84834 \n",
      "\n",
      "I'm computing the PS_multipole from the file \"Effective-True_fNL_z115_files/map_xi_S_L0_withF.dat\" \n",
      "\n",
      "time needed for this Power Spectrum computation [in s] = 0.0031778812408447266\n",
      "\n",
      "\n",
      "I'm computing the PS_multipole from the file \"Effective-True_fNL_z115_files/map_xi_S_L2_withF.dat\" \n",
      "\n",
      "time needed for this Power Spectrum computation [in s] = 0.002537965774536133\n",
      "\n"
     ]
    }
   ],
   "source": [
    "GaPSE.print_map_ξ_S_multipole(cosmo, cosmopng, DIR * \"map_xi_S_L0_withF.dat\",\n",
    "    10 .^ range(0, log10(2*cosmo.s_max), length=500); L=0, use_windows = true);\n",
    "GaPSE.print_map_ξ_S_multipole(cosmo, cosmopng, DIR * \"map_xi_S_L2_withF.dat\",\n",
    "    10 .^ range(0, log10(2*cosmo.s_max), length=500); L=2, use_windows = true);\n",
    "GaPSE.print_PS_multipole(DIR * \"map_xi_S_L0_withF.dat\", \n",
    "    DIR * \"map_ps_S_L0_withF.dat\"; L = 0, ps_kwargs(tf)...);\n",
    "GaPSE.print_PS_multipole(DIR * \"map_xi_S_L2_withF.dat\", \n",
    "    DIR * \"map_ps_S_L2_withF.dat\"; L = 2, ps_kwargs(tf)...);\n",
    "\n",
    "ss_S_L0_withF, xis_S_L0_withF = GaPSE.readxy(DIR * \"map_xi_S_L0_withF.dat\");\n",
    "ss_S_L2_withF, xis_S_L2_withF = GaPSE.readxy(DIR * \"map_xi_S_L2_withF.dat\");\n",
    "ks_S_L0_withF, pks_S_L0_withF = GaPSE.readxy(DIR * \"map_ps_S_L0_withF.dat\");\n",
    "ks_S_L2_withF, pks_S_L2_withF = GaPSE.readxy(DIR * \"map_ps_S_L2_withF.dat\");"
   ]
  },
  {
   "cell_type": "markdown",
   "id": "98f79e0a-cce2-4b16-b539-09c800ca8f52",
   "metadata": {
    "jp-MarkdownHeadingCollapsed": true,
    "tags": []
   },
   "source": [
    "## Check Plot S multipoles"
   ]
  },
  {
   "cell_type": "code",
   "execution_count": 33,
   "id": "3aa3424c-f056-49f8-a48d-d24d650c2ca5",
   "metadata": {},
   "outputs": [
    {
     "data": {
      "image/png": "[encoded data removed]"
     },
     "execution_count": 33,
     "metadata": {},
     "output_type": "execute_result"
    }
   ],
   "source": [
    "xs_1 = ss_S_L0_noF\n",
    "ys_1 = xis_S_L0_noF .* xs_1 .^ 2\n",
    "\n",
    "xs_2 = ss_S_L0_withF \n",
    "ys_2 = xis_S_L0_withF .* xs_2 .^ 2\n",
    "spline = Spline1D(xs_2, ys_2)\n",
    "\n",
    "p1 = plot([xs_1, xs_2], [ys_1, ys_2],\n",
    "    xaxis=:log, #yaxis=:log, \n",
    "    lc=[:red :blue], #yticks = 10.0 .^ [i for i in 2:5],\n",
    "    title = L\"J_0\"*\" of S, with and without window\",\n",
    "    label=[\"noF\" \"withF\"], ls=[:dash :dot], \n",
    "    ylabel = L\"s^2 \\, J_0(s)\",\n",
    "    legend=:bottomleft)\n",
    "\n",
    "p2 = plot(xs_1, spline.(xs_1) ./ ys_1, \n",
    "    ylabel=\"Ratio\", lc=:green, \n",
    "    xaxis=:log, \n",
    "    label = \"withF / noF\",\n",
    "    #ylim=(0,2), \n",
    "    legend=:topleft, \n",
    "    xlabel=L\"$s \\quad [h_0^{-1} \\,\\mathrm{Mpc}]$\",\n",
    "    )\n",
    "    \n",
    "P = plot(p1, p2, size=(500, 400), layout= @layout [ x ; y  ] )"
   ]
  },
  {
   "cell_type": "code",
   "execution_count": 34,
   "id": "dc784640-c49a-449b-9d9e-0589fc111ab1",
   "metadata": {},
   "outputs": [
    {
     "data": {
      "image/png": "[encoded data removed]"
     },
     "execution_count": 34,
     "metadata": {},
     "output_type": "execute_result"
    }
   ],
   "source": [
    "xs_1 = ss_S_L2_noF\n",
    "ys_1 = xis_S_L2_noF .* xs_1 .^ 2\n",
    "\n",
    "xs_2 = ss_S_L2_withF \n",
    "ys_2 = xis_S_L2_withF .* xs_2 .^ 2\n",
    "spline = Spline1D(xs_2, ys_2)\n",
    "\n",
    "p1 = plot([xs_1, xs_2], [ys_1, ys_2],\n",
    "    xaxis=:log, #yaxis=:log, \n",
    "    lc=[:red :blue], #yticks = 10.0 .^ [i for i in 2:5],\n",
    "    title = L\"J_2\"*\" of S, with and without window\",\n",
    "    label=[\"noF\" \"withF\"], ls=[:dash :dot], \n",
    "    ylabel = L\"s^2 \\, J_2(s)\",\n",
    "    legend=:bottomleft)\n",
    "\n",
    "p2 = plot(xs_1, spline.(xs_1) ./ ys_1, \n",
    "    ylabel=\"Ratio\", lc=:green, \n",
    "    xaxis=:log, \n",
    "    label = \"withF / noF\",\n",
    "    #ylim=(0,2), \n",
    "    legend=:topleft, \n",
    "    xlabel=L\"$s \\quad [h_0^{-1} \\,\\mathrm{Mpc}]$\",\n",
    "    )\n",
    "    \n",
    "P = plot(p1, p2, size=(500, 400), layout= @layout [ x ; y  ] )"
   ]
  },
  {
   "cell_type": "markdown",
   "id": "611ba45e-eac1-4d7e-9d28-f22085b83ac6",
   "metadata": {
    "jp-MarkdownHeadingCollapsed": true,
    "tags": []
   },
   "source": [
    "## Code for the computation of the Plain-Parallel Galaxies multipoles"
   ]
  },
  {
   "cell_type": "code",
   "execution_count": null,
   "id": "690a52a6-5d28-4827-96b1-92c7d14db839",
   "metadata": {},
   "outputs": [
    {
     "name": "stderr",
     "output_type": "stream",
     "text": [
      "\u001b[32mPP Galaxies, L=0: 100%|█████████████████████████████████| Time: 0:00:04\u001b[39m\n"
     ]
    },
    {
     "name": "stdout",
     "output_type": "stream",
     "text": [
      "\n",
      "time needed for map_ξ_PPGalaxies_multipole [in s] = 4.33871 \n"
     ]
    },
    {
     "name": "stderr",
     "output_type": "stream",
     "text": [
      "\u001b[32mPP Galaxies, L=2:  89%|█████████████████████████████▍   |  ETA: 0:00:01\u001b[39m"
     ]
    }
   ],
   "source": [
    "GaPSE.print_map_ξ_PPGalaxies_multipole(cosmo, DIR*\"map_xi_ppg_L0_withF.dat\",\n",
    "    10 .^ range(0,log10(2*cosmo.s_max),length=500);\n",
    "    L = 0, use_windows = true, pr = true, enhancer = 1e6,\n",
    "    μ_atol = 0.0, μ_rtol = 1e-2);\n",
    "GaPSE.print_map_ξ_PPGalaxies_multipole(cosmo, DIR*\"map_xi_ppg_L2_withF.dat\",\n",
    "    10 .^ range(0,log10(2*cosmo.s_max),length=500);\n",
    "    L = 2, use_windows = true, pr = true, enhancer = 1e6,\n",
    "    μ_atol = 0.0, μ_rtol = 1e-2);\n",
    "GaPSE.print_PS_multipole(DIR*\"map_xi_ppg_L0_withF.dat\", \n",
    "    DIR*\"map_ps_ppg_L0_withF.dat\"; L = 0, ps_kwargs(tf)...);\n",
    "GaPSE.print_PS_multipole(DIR*\"map_xi_ppg_L2_withF.dat\", \n",
    "    DIR*\"map_ps_ppg_L2_withF.dat\"; L = 2, ps_kwargs(tf)...);\n",
    "\n",
    "ss_ppg_L0_withF, xis_ppg_L0_withF = GaPSE.readxy(DIR*\"map_xi_ppg_L0_withF.dat\");\n",
    "ss_ppg_L2_withF, xis_ppg_L2_withF = GaPSE.readxy(DIR*\"map_xi_ppg_L2_withF.dat\");\n",
    "ks_ppg_L0_withF, pks_ppg_L0_withF = GaPSE.readxy(DIR*\"map_ps_ppg_L0_withF.dat\");\n",
    "ks_ppg_L2_withF, pks_ppg_L2_withF = GaPSE.readxy(DIR*\"map_ps_ppg_L2_withF.dat\");\n",
    "\n",
    "spline_ppg_L0_withF = Spline1D(ks_ppg_L0_withF, pks_ppg_L0_withF; bc = \"error\");"
   ]
  },
  {
   "cell_type": "markdown",
   "id": "4d9c7d6e-c42f-4655-92a0-1c33e219bd54",
   "metadata": {
    "jp-MarkdownHeadingCollapsed": true,
    "tags": []
   },
   "source": [
    "## Code for the differences Newt-ppg, GNCsum-Newt and GNCsum-ppg"
   ]
  },
  {
   "cell_type": "code",
   "execution_count": null,
   "id": "d8ceeb16-cb6b-4480-b9ce-69db134f183c",
   "metadata": {},
   "outputs": [],
   "source": [
    "ks = ks_GNC_L0_withF\n",
    "diff_Newt_ppg =  pks_Newtonian_L0_withF .- pks_ppg_L0_withF;\n",
    "#diff_ALLGRsum_ppg = pks_ALLGRsum_L0_withF .- pks_ppg_L0_withF;\n",
    "#diff_ALLGRsum_Newt = pks_ALLGRsum_L0_withF .- pks_Newtonian_L0_withF;\n",
    "diff_GNCsum_ppg = pks_sum_GNC_L0_withF .- pks_ppg_L0_withF;\n",
    "diff_GNCsum_Newt = pks_sum_GNC_L0_withF .- pks_Newtonian_L0_withF;"
   ]
  },
  {
   "cell_type": "markdown",
   "id": "0fa394a6-2461-4f16-af10-23fde747edf3",
   "metadata": {
    "tags": []
   },
   "source": [
    "## Check Plots GNCsum-Newt-PPGalaxies"
   ]
  },
  {
   "cell_type": "code",
   "execution_count": null,
   "id": "6687c314-2718-4cf8-ad82-6a672b1b1d83",
   "metadata": {},
   "outputs": [],
   "source": [
    "xs_1 = ks_GNC_L0_withF\n",
    "ys_1 = pks_sum_GNC_L0_withF\n",
    "\n",
    "xs_2 = ks_ppg_L0_withF\n",
    "ys_2 = pks_ppg_L0_withF\n",
    "spline = Spline1D(xs_2, ys_2)\n",
    "\n",
    "xs_3 = ks\n",
    "ys_3 = diff_GNCsum_ppg\n",
    "\n",
    "S_VLIM = 2*π/(2*cosmo.s_max)\n",
    "S_VLIM_F = @sprintf(\"%.5f\", S_VLIM)\n",
    "\n",
    "p1 = plot([xs_1, xs_2], [abs.(ys_1), abs.(ys_2)],\n",
    "    xaxis=:log, yaxis=:log, \n",
    "    lc=[:red :blue], yticks = 10.0 .^ [i for i in 2:5],\n",
    "    title = \"Sum GNC GR effects PS L=0 \\n and PP Galaxies PS L=0 (both with F)\",\n",
    "    label=[\"GNCsum\" \"PP Galaxies\"], ls=[:dash :dot], \n",
    "    ylabel = L\"|P(k)| \\quad [h_0^{-3}\\,\\mathrm{Mpc}^3]\",\n",
    "    legend=:bottomleft)\n",
    "vline!(p1, [S_VLIM], label=\"$S_VLIM_F \" * L\" h_0^{-1}\\mathrm{Mpc}\", lc=:black, lw=0.5, ls=:dash)\n",
    "\n",
    "p2 = plot(xs_1, spline.(xs_1) ./ ys_1, \n",
    "    ylabel=\"Ratio\", lc=:green, \n",
    "    xaxis=:log,\n",
    "    ylim=(0.8,1.2), \n",
    "    legend=false, \n",
    "    #xlabel=L\"$k \\quad [h_0 \\,\\mathrm{Mpc}^{-1}]$\",\n",
    "    )\n",
    "vline!(p2, [S_VLIM], label=\"$S_VLIM_F \" * L\" h_0^{-1}\\mathrm{Mpc}\", lc=:black, lw=0.5, ls=:dash)\n",
    "\n",
    "p3 = plot(xs_1, abs.(spline.(xs_1) .- ys_1), \n",
    "    ylabel=\"Difference\", lc=:green, \n",
    "    axis=:log,\n",
    "    #ylim=(0.0,2), \n",
    "    legend=false, \n",
    "    xlabel=L\"$k \\quad [h_0 \\,\\mathrm{Mpc}^{-1}]$\")\n",
    "plot!(p3, xs_3, abs.(ys_3), lc=:magenta, ls=:dash)\n",
    "VAXES = 4e-3\n",
    "vline!(p3, [S_VLIM], label=\"$VAXES Mpc/h_0\", lc=:black, lw=0.5, ls=:dash)\n",
    "\n",
    "P = plot(p1, p2, p3, size=(500, 600), layout= @layout [ x ; y ; z ] )\n",
    "#savefig(P, DIR*\"PS_L0_GNCsum-PPGalaxies_withF.pdf\")\n",
    "#display(P)"
   ]
  },
  {
   "cell_type": "code",
   "execution_count": null,
   "id": "ca7bd200-fd59-4920-839a-f8f103652e55",
   "metadata": {},
   "outputs": [],
   "source": [
    "xs_1 = ks_GNC_L0_withF\n",
    "ys_1 = pks_sum_GNC_L0_withF\n",
    "\n",
    "xs_2 = ks_Newtonian_L0_withF\n",
    "ys_2 = pks_Newtonian_L0_withF\n",
    "spline = Spline1D(xs_2, ys_2)\n",
    "\n",
    "xs_3 = ks\n",
    "ys_3 = diff_GNCsum_Newt\n",
    "\n",
    "S_VLIM = 2*π/(2*cosmo.s_max)\n",
    "S_VLIM_F = @sprintf(\"%.5f\", S_VLIM)\n",
    "\n",
    "p1 = plot([xs_1, xs_2], [abs.(ys_1), abs.(ys_2)],\n",
    "    xaxis=:log, yaxis=:log, \n",
    "    lc=[:red :blue], yticks = 10.0 .^ [i for i in 2:5],\n",
    "    title = \"Sum GNC GR effects PS L=0 \\n and only Newtonian PS L=0 (both with F)\",\n",
    "    label=[\"GNCsum\" \"Newtonian\"], ls=[:dash :dot], \n",
    "    ylabel = L\"|P(k)| \\quad [h_0^{-3}\\,\\mathrm{Mpc}^3]\",\n",
    "    legend=:bottomleft)\n",
    "vline!(p1, [S_VLIM], label=\"$S_VLIM_F \" * L\" h_0^{-1}\\mathrm{Mpc}\", lc=:black, lw=0.5, ls=:dash)\n",
    "\n",
    "p2 = plot(xs_1, spline.(xs_1) ./ ys_1, \n",
    "    ylabel=\"Ratio\", lc=:green, \n",
    "    xaxis=:log, \n",
    "    ylim=(0.95,1.05), \n",
    "    legend=false, \n",
    "    #xlabel=L\"$k \\quad [h_0 \\,\\mathrm{Mpc}^{-1}]$\",\n",
    "    )\n",
    "vline!(p2, [S_VLIM], label=\"$S_VLIM_F \" * L\" h_0^{-1}\\mathrm{Mpc}\", lc=:black, lw=0.5, ls=:dash)\n",
    "\n",
    "p3 = plot(xs_1, abs.(spline.(xs_1) .- ys_1), \n",
    "    ylabel=\"Difference\", lc=:green, \n",
    "    axis=:log, \n",
    "    #ylim=(0.0,2), \n",
    "    legend=false, \n",
    "    xlabel=L\"$k \\quad [h_0 \\,\\mathrm{Mpc}^{-1}]$\")\n",
    "plot!(p3, xs_3, abs.(ys_3), lc=:magenta, ls=:dash)\n",
    "VAXES = 4e-3\n",
    "vline!(p3, [S_VLIM], label=\"$VAXES Mpc/h_0\", lc=:black, lw=0.5, ls=:dash)\n",
    "\n",
    "P = plot(p1, p2, p3, size=(500, 600), layout= @layout [ x ; y ; z ] )\n",
    "#savefig(P, DIR*\"PS_L0_GNCsum-Newton_withF.pdf\")\n",
    "#display(P)"
   ]
  },
  {
   "cell_type": "code",
   "execution_count": null,
   "id": "aad35480-584d-4954-a8cf-e5e7da9fcff4",
   "metadata": {},
   "outputs": [],
   "source": [
    "xs_1 = ks_ppg_L0_withF\n",
    "ys_1 = pks_ppg_L0_withF\n",
    "\n",
    "xs_2 = ks_Newtonian_L0_withF\n",
    "ys_2 = pks_Newtonian_L0_withF\n",
    "spline = Spline1D(xs_2, ys_2)\n",
    "\n",
    "\n",
    "xs_3 = ks\n",
    "ys_3 = diff_Newt_ppg\n",
    "\n",
    "S_VLIM = 2*π/(2*cosmo.s_max)\n",
    "S_VLIM_F = @sprintf(\"%.5f\", S_VLIM)\n",
    "\n",
    "p1 = plot([xs_1, xs_2], [abs.(ys_1), abs.(ys_2)],\n",
    "    xaxis=:log, yaxis=:log, \n",
    "    lc=[:red :blue], yticks = 10.0 .^ [i for i in 2:5],\n",
    "    title = \"GNC Newtonian PS L=0 \\n and PP Galaxies PS L=0 (both with F)\",\n",
    "    label=[\"Newtonian\" \"PP Galaxies\"], ls=[:dash :dot], \n",
    "    ylabel = L\"|P(k)| \\quad [h_0^{-3}\\,\\mathrm{Mpc}^3]\",\n",
    "    legend=:bottomleft)\n",
    "vline!(p1, [S_VLIM], label=\"$S_VLIM_F \" * L\" h_0^{-1}\\mathrm{Mpc}\", lc=:black, lw=0.5, ls=:dash)\n",
    "\n",
    "p2 = plot(xs_1, spline.(xs_1) ./ ys_1, \n",
    "    ylabel=\"Ratio\", lc=:green, \n",
    "    xaxis=:log, \n",
    "    ylim=(0.8,1.2), \n",
    "    legend=false, \n",
    "    #xlabel=L\"$k \\quad [h_0 \\,\\mathrm{Mpc}^{-1}]$\",\n",
    "    )\n",
    "vline!(p2, [S_VLIM], label=\"$S_VLIM_F \" * L\" h_0^{-1}\\mathrm{Mpc}\", lc=:black, lw=0.5, ls=:dash)\n",
    "\n",
    "p3 = plot(xs_1, abs.(spline.(xs_1) .- ys_1), \n",
    "    ylabel=\"Difference\", lc=:green, \n",
    "    axis=:log,\n",
    "    #ylim=(0.0,2), \n",
    "    legend=false, \n",
    "    xlabel=L\"$k \\quad [h_0 \\,\\mathrm{Mpc}^{-1}]$\")\n",
    "plot!(p3, xs_3, abs.(ys_3), lc=:magenta, ls=:dash)\n",
    "VAXES = 4e-3\n",
    "vline!(p3, [S_VLIM], label=\"$VAXES Mpc/h_0\", lc=:black, lw=0.5, ls=:dash)\n",
    "\n",
    "P = plot(p1, p2, p3, size=(500, 600), layout= @layout [ x ; y ; z ] )\n",
    "#savefig(P, DIR*\"PS_L0_Newton-PPGalaxies_withF.pdf\")\n",
    "#display(P)"
   ]
  },
  {
   "cell_type": "markdown",
   "id": "304be1fa-199f-4279-8972-7577015cfcf2",
   "metadata": {
    "tags": []
   },
   "source": [
    "## Check plots sum of the GNC GR effects"
   ]
  },
  {
   "cell_type": "code",
   "execution_count": null,
   "id": "fa8a5b8d-d244-4999-9541-afac707f92f4",
   "metadata": {},
   "outputs": [],
   "source": [
    "p=plot(ks, abs.(pks_sum_GNC_L0_withF), axis=:log, label=\"SUM\", lw=10)\n",
    "for (i,effect) in enumerate(GaPSE.GR_EFFECTS_GNC)\n",
    "    plot!(p, ks, abs.(pks_all_GNC_L0_withF[GaPSE.INDEX_GR_EFFECT_GNC[effect]]), label=\"$i\")\n",
    "end\n",
    "p"
   ]
  },
  {
   "cell_type": "code",
   "execution_count": null,
   "id": "dbf1dd59-ea10-409d-9f21-2db16e06f6eb",
   "metadata": {},
   "outputs": [],
   "source": [
    "p = plot(ks, abs.(pks_sum_GNC_L0_withF), axis=:log, label=\"SUM\", lw=10, legend=:outerright, size=(600, 300))\n",
    "\n",
    "plot!(p, ks, abs.(pks_all_GNC_L0_withF[GaPSE.INDEX_GR_EFFECT_GNC[\"auto_newton\"]]), label=L\"\\delta\\delta\")\n",
    "plot!(p, ks, abs.(pks_all_GNC_L0_withF[GaPSE.INDEX_GR_EFFECT_GNC[\"auto_lensing\"]]), label=L\"\\kappa\\kappa\")\n",
    "plot!(p, ks, abs.(pks_all_GNC_L0_withF[GaPSE.INDEX_GR_EFFECT_GNC[\"lensing_newton\"]]), label=L\"\\kappa\\delta\", ls=:dash)\n",
    "plot!(p, ks, abs.(pks_all_GNC_L0_withF[GaPSE.INDEX_GR_EFFECT_GNC[\"newton_lensing\"]]), label=L\"\\delta\\kappa\", ls=:dash)\n",
    "\n",
    "others = -1.0 .* (\n",
    "    pks_all_GNC_L0_withF[GaPSE.INDEX_GR_EFFECT_GNC[\"auto_newton\"]] .+\n",
    "    pks_all_GNC_L0_withF[GaPSE.INDEX_GR_EFFECT_GNC[\"auto_lensing\"]] .+\n",
    "    pks_all_GNC_L0_withF[GaPSE.INDEX_GR_EFFECT_GNC[\"lensing_newton\"]] .+\n",
    "    pks_all_GNC_L0_withF[GaPSE.INDEX_GR_EFFECT_GNC[\"newton_lensing\"]]\n",
    "    )\n",
    "\n",
    "for (i,effect) in enumerate(GaPSE.GR_EFFECTS_GNC)\n",
    "    others += pks_all_GNC_L0_withF[GaPSE.INDEX_GR_EFFECT_GNC[effect]]\n",
    "end\n",
    "plot!(p, ks, abs.(others), label=\"others\")"
   ]
  },
  {
   "cell_type": "code",
   "execution_count": null,
   "id": "b7c51560-847d-445d-8f71-be66cd7832df",
   "metadata": {},
   "outputs": [],
   "source": [
    "xs_1 = ks\n",
    "ys_1 = diff_GNCsum_Newt #pks_sum_GNC_L0_withF .- pks_all_GNC_L0_withF[GaPSE.INDEX_GR_EFFECT_GNC[\"auto_newton\"]] \n",
    "\n",
    "xs_2 = ks\n",
    "ys_2 = pks_all_GNC_L0_withF[GaPSE.INDEX_GR_EFFECT_GNC[\"auto_lensing\"]] .+ \n",
    "    pks_all_GNC_L0_withF[GaPSE.INDEX_GR_EFFECT_GNC[\"newton_lensing\"]] .+\n",
    "    pks_all_GNC_L0_withF[GaPSE.INDEX_GR_EFFECT_GNC[\"lensing_newton\"]] .+ others\n",
    "\n",
    "spline = Spline1D(xs_2, ys_2)\n",
    "\n",
    "S_VLIM = 2*π/(2*cosmo.s_max)\n",
    "S_VLIM_F = @sprintf(\"%.5f\", S_VLIM)\n",
    "\n",
    "p1 = plot([xs_1[ys_1 .≠ 0], xs_2[ys_2 .≠ 0]], [abs.(ys_1)[ys_1 .≠ 0], abs.(ys_2)[ys_2 .≠ 0]],\n",
    "    xaxis=:log, yaxis=:log, \n",
    "    lc=[:red :blue], #yticks = 10.0 .^ [i for i in 2:5],\n",
    "    title = \"PS L=0 of GNCsum \\n and part of ALLGRsum (with F)\",\n",
    "    label=[\"tot\" \"partial\"], ls=[:dash :dot], \n",
    "    ylabel = L\"|P(k)| \\quad [h_0^{-3}\\,\\mathrm{Mpc}^3]\",\n",
    "    legend=:bottomleft)\n",
    "vline!(p1, [S_VLIM], label=\"$S_VLIM_F \" * L\" h_0^{-1}\\mathrm{Mpc}\", lc=:black, lw=0.5, ls=:dash)\n",
    "\n",
    "p2 = plot(xs_1, ys_1 ./ spline.(xs_1), \n",
    "    ylabel=\"Ratio\", lc=:green, ylim = (0, 2),\n",
    "    xaxis=:log, label=\"partial/tot\",\n",
    "    #xlabel=L\"$k \\quad [h_0 \\,\\mathrm{Mpc}^{-1}]$\",\n",
    "    )\n",
    "vline!(p2, [S_VLIM], label=\"$S_VLIM_F \" * L\" h_0^{-1}\\mathrm{Mpc}\", lc=:black, lw=0.5, ls=:dash)\n",
    "\n",
    "p3 = plot(xs_1, ys_1 .- spline.(xs_1), \n",
    "    label=\"tot - partial\", lc=:green, \n",
    "    xaxis=:log, ylabel=\"Difference\",\n",
    "    legend=true, \n",
    "    xlabel=L\"$k \\quad [h_0 \\,\\mathrm{Mpc}^{-1}]$\")\n",
    "VAXES = 4e-3\n",
    "vline!(p3, [S_VLIM], label=\"$VAXES Mpc/h_0\", lc=:black, lw=0.5, ls=:dash)\n",
    "\n",
    "P = plot(p1, p2, p3, size=(500, 600), layout= @layout [ x ; y ; z ] )\n",
    "#savefig(P, DIR*\"PS_S-GNCsum-Newt-PPGalaxies_L0_withF.pdf\")\n",
    "#display(P)"
   ]
  },
  {
   "cell_type": "markdown",
   "id": "147e19a9-02af-4af0-bb6c-bbd8f6fad0aa",
   "metadata": {
    "jp-MarkdownHeadingCollapsed": true,
    "tags": []
   },
   "source": [
    "## Results"
   ]
  },
  {
   "cell_type": "code",
   "execution_count": null,
   "id": "5cc8bbfd-2dde-4ccf-ab9e-6fec9b5ea6fa",
   "metadata": {},
   "outputs": [],
   "source": [
    "TICKFONTSIZE, LABELFONTSIZE = 11, 12;"
   ]
  },
  {
   "cell_type": "code",
   "execution_count": null,
   "id": "5c870944-9872-4838-b89f-ed30be1d641f",
   "metadata": {},
   "outputs": [],
   "source": [
    "xs_1 = ks_GNC_L0_withF\n",
    "ys_1 = pks_sum_GNC_L0_withF\n",
    "\n",
    "xs_2 = ks_Newtonian_L0_withF\n",
    "ys_2 = pks_Newtonian_L0_withF\n",
    "spline = Spline1D(xs_2, ys_2)\n",
    "\n",
    "xs_3 = ks_ppg_L0_withF\n",
    "ys_3 = pks_ppg_L0_withF\n",
    "\n",
    "spline_2 = Spline1D(xs_2, ys_2; bc =\"error\")\n",
    "spline_3 = Spline1D(xs_3, ys_3; bc =\"error\")\n",
    "\n",
    "S_VLIM = 2*π/(2*cosmo.s_max)\n",
    "S_VLIM_F = @sprintf(\"%.5f\", S_VLIM)\n",
    "\n",
    "p1 = plot(xs_3, abs.(ys_3),\n",
    "    xaxis=:log, yaxis=:log, \n",
    "    lc=:red, ls=:solid, lw=1.5,\n",
    "    yticks = 10.0 .^ [i for i in 2:5],\n",
    "    xticks = (\n",
    "        vcat([a*10.0^b for b in -3:(-1) for a in 1:9], 10.0^0), \n",
    "        vcat([a==1 ? L\"10^{%$b}\" : nothing for b in -3:(-1) for a in 1:9], L\"10^{0}\")\n",
    "    ), xlims = (0.9e-3, 1.05e0),\n",
    "    title = \"PS L=0 of sum GNC GR effects,  \\n Newtonian and PP Galaxies (with F)\",\n",
    "    label=\"PP Galaxies\",  tickfontsize=TICKFONTSIZE, labelfontsize=LABELFONTSIZE,\n",
    "    ylabel = L\"|P_0(k)| \\quad [h_0^{-3}\\,\\mathrm{Mpc}^3]\",\n",
    "    legend=:bottomleft)\n",
    "plot!(p1, xs_2, ys_2, label=L\"\\delta\\delta\", lc=:blue, ls=:dash, lw=1.5)\n",
    "plot!(p1, xs_1, ys_1, label=\"GNCsum\", lc=:brown, ls=:dot, lw=3.5)\n",
    "vline!(p1, [S_VLIM], label=\"$S_VLIM_F \" * L\" h_0^{-1}\\mathrm{Mpc}\", lc=:grey69, lw=2, ls=:solid)\n",
    "\n",
    "p2 = plot(xs_1, spline_3.(xs_1) ./ ys_1, \n",
    "    ylabel=\"Ratio\", xaxis=:log, \n",
    "    ylim=(0.879,1.01), label=\"PP Galaxies / GNCsum\",\n",
    "    yticks=[i for i in 0.88:0.03:1],\n",
    "    xticks = (\n",
    "        vcat([a*10.0^b for b in -3:(-1) for a in 1:9], 10.0^0), \n",
    "        vcat([a==1 ? L\"10^{%$b}\" : nothing for b in -3:(-1) for a in 1:9], L\"10^{0}\")\n",
    "    ), xlims = (0.9e-3, 1.05e0),\n",
    "    legend=:bottomright, tickfontsize=TICKFONTSIZE, labelfontsize=LABELFONTSIZE,\n",
    "    lc=:red, ls=:solid, lw=1.5\n",
    "    #xlabel=L\"$k \\quad [h_0 \\,\\mathrm{Mpc}^{-1}]$\",\n",
    "    )\n",
    "plot!(p2, xs_1, spline_2.(xs_1) ./ ys_1, label=L\"\\delta\\delta\"*\" / GNCsum\",\n",
    "    lc=:blue, ls=:dash, lw=1.5)\n",
    "vline!(p2, [S_VLIM], label=\"$S_VLIM_F \" * L\" h_0^{-1}\\mathrm{Mpc}\", lc=:grey69, lw=2, ls=:solid)\n",
    "\n",
    "p3 = plot(xs_1, abs.(spline_2.(xs_1) .- ys_1), \n",
    "    ylabel=\"Difference\",  lc=:blue, ls = :dash, lw=1.5,\n",
    "    xticks = (\n",
    "        vcat([a*10.0^b for b in -3:(-1) for a in 1:9], 10.0^0), \n",
    "        vcat([a==1 ? L\"10^{%$b}\" : nothing for b in -3:(-1) for a in 1:9], L\"10^{0}\")\n",
    "    ), xlims = (0.9e-3, 1.05e0),\n",
    "    tickfontsize=TICKFONTSIZE, labelfontsize=LABELFONTSIZE,\n",
    "    yticks = 10.0 .^ [i for i in -3:2:3], ylim=(1e-3, 2e3),\n",
    "    axis=:log, legend=:bottomleft, label = \"GNCsum - \" * L\"\\delta\\delta\",\n",
    "    xlabel=L\"$k \\quad [h_0 \\,\\mathrm{Mpc}^{-1}]$\")\n",
    "plot!(p3, xs_3, abs.(spline_3.(xs_1) .- ys_1), lc=:red, ls = :solid, lw=1.5, label = \"GNCsum - PP Galaxies\")\n",
    "vline!(p3, [S_VLIM], label=\"$S_VLIM_F \" * L\" h_0^{-1}\\mathrm{Mpc}\", lc=:grey69, lw=2, ls=:solid)\n",
    "\n",
    "P2 = plot(p1, p2, p3, size=(500, 600), layout= @layout [ x{0.5h} ; y ; z ] )\n",
    "savefig(P2,  DIR*\"PS_L0_GNCsum-Newton-PPGalaxies_withF.pdf\")\n",
    "#display(P)"
   ]
  },
  {
   "cell_type": "code",
   "execution_count": null,
   "id": "e5ab569a-3d0f-47a1-b1ed-088fcb7eb089",
   "metadata": {},
   "outputs": [],
   "source": [
    "xs_1 = ks_ppg_L0_withF\n",
    "ys_1 = pks_ppg_L0_withF\n",
    "\n",
    "xs_2 = ks_Newtonian_L0_withF\n",
    "ys_2 = pks_Newtonian_L0_withF\n",
    "spline = Spline1D(xs_2, ys_2)\n",
    "\n",
    "\n",
    "xs_3 = ks\n",
    "ys_3 = diff_Newt_ppg\n",
    "\n",
    "S_VLIM = 2*π/(2*cosmo.s_max)\n",
    "S_VLIM_F = @sprintf(\"%.5f\", S_VLIM)\n",
    "\n",
    "p1 = plot(xs_2, abs.(ys_2),\n",
    "    xaxis=:log, yaxis=:log, lw=1.5,\n",
    "    lc=:red, yticks = 10.0 .^ [i for i in 2:5],\n",
    "    xticks = (\n",
    "        vcat([a*10.0^b for b in -3:(-1) for a in 1:9], 10.0^0), \n",
    "        vcat([a==1 ? L\"10^{%$b}\" : nothing for b in -3:(-1) for a in 1:9], L\"10^{0}\")\n",
    "    ), xlims = (0.9e-3, 1.05e0), \n",
    "    tickfontsize=TICKFONTSIZE, labelfontsize=LABELFONTSIZE,\n",
    "    title = \"PS L=0 of GNC Newtonian\\n and PP Galaxies (both with F)\",\n",
    "    label=L\"\\delta \\delta\", ls=:solid, \n",
    "    ylabel = L\"|P_0(k)| \\quad [h_0^{-3}\\,\\mathrm{Mpc}^3]\",\n",
    "    legend=:bottomleft)\n",
    "plot!(p1, xs_1, abs.(ys_1), lc=:blue, ls=:dash, lw=1.5, label=\"PP Galaxies\")\n",
    "vline!(p1, [S_VLIM], label=\"$S_VLIM_F \" * L\" h_0^{-1}\\mathrm{Mpc}\", lc=:grey69, lw=2, ls=:solid)\n",
    "\n",
    "p2 = plot(xs_1, spline.(xs_1) ./ ys_1, \n",
    "    ylabel=\"Ratio\", lc=:black, \n",
    "    xaxis=:log, xticks = (\n",
    "        vcat([a*10.0^b for b in -3:(-1) for a in 1:9], 10.0^0), \n",
    "        vcat([a==1 ? L\"10^{%$b}\" : nothing for b in -3:(-1) for a in 1:9], L\"10^{0}\")\n",
    "    ), xlims = (0.9e-3, 1.05e0),\n",
    "    ylim=(0.98,1.06), \n",
    "    legend=false, tickfontsize=TICKFONTSIZE, labelfontsize=LABELFONTSIZE,\n",
    "    #xlabel=L\"$k \\quad [h_0 \\,\\mathrm{Mpc}^{-1}]$\",\n",
    "    )\n",
    "vline!(p2, [S_VLIM], label=\"$S_VLIM_F \" * L\" h_0^{-1}\\mathrm{Mpc}\", lc=:grey69, lw=2, ls=:solid)\n",
    "\n",
    "p3 = plot(xs_1, abs.(spline.(xs_1) .- ys_1), \n",
    "    ylabel=\"Difference\", lc=:black, \n",
    "    axis=:log, xticks = (\n",
    "        vcat([a*10.0^b for b in -3:(-1) for a in 1:9], 10.0^0), \n",
    "        vcat([a==1 ? L\"10^{%$b}\" : nothing for b in -3:(-1) for a in 1:9], L\"10^{0}\")\n",
    "    ), xlims = (0.9e-3, 1.05e0),\n",
    "    yticks = 10.0 .^ [i for i in -3:2:3],\n",
    "    legend=false,  ylims = (1e-3, 1e3),tickfontsize=TICKFONTSIZE, labelfontsize=LABELFONTSIZE,\n",
    "    xlabel=L\"$k \\quad [h_0 \\,\\mathrm{Mpc}^{-1}]$\")\n",
    "#plot!(p3, xs_3, abs.(ys_3), lc=:magenta, ls=:dash)\n",
    "vline!(p3, [S_VLIM], label=\"$S_VLIM_F \" * L\" h_0^{-1}\\mathrm{Mpc}\", lc=:grey69, lw=2, ls=:solid)\n",
    "\n",
    "P1 = plot(p1, p2, p3, size=(500, 600), layout= @layout [ x{0.5h} ; y ; z ] )\n",
    "savefig(P1,  DIR*\"PS_L0_Newton-PPGalaxies_withF.pdf\")\n",
    "#display(P)"
   ]
  },
  {
   "cell_type": "code",
   "execution_count": null,
   "id": "b3bf6745-9008-4911-8688-dabb9770f6a0",
   "metadata": {},
   "outputs": [],
   "source": [
    "xs_1 = ks_GNC_L0_withF\n",
    "ys_1 = pks_sum_GNC_L0_withF\n",
    "\n",
    "xs_2 = ks_Newtonian_L0_withF\n",
    "ys_2 = pks_Newtonian_L0_withF\n",
    "spline = Spline1D(xs_2, ys_2)\n",
    "\n",
    "xs_3 = ks_ppg_L0_withF\n",
    "ys_3 = pks_ppg_L0_withF\n",
    "\n",
    "spline_2 = Spline1D(xs_2, ys_2; bc =\"error\")\n",
    "spline_3 = Spline1D(xs_3, ys_3; bc =\"error\")\n",
    "\n",
    "S_VLIM = 2*π/(2*cosmo.s_max)\n",
    "S_VLIM_F = @sprintf(\"%.5f\", S_VLIM)\n",
    "\n",
    "p1 = plot(xs_3, abs.(ys_3),\n",
    "    xaxis=:log, yaxis=:log, \n",
    "    lc=:red, ls=:solid, lw=1.5,\n",
    "    yticks = 10.0 .^ [i for i in 2:5],\n",
    "    xticks = (\n",
    "        vcat([a*10.0^b for b in -3:(-1) for a in 1:9], 10.0^0), \n",
    "        vcat([a==1 ? L\"10^{%$b}\" : nothing for b in -3:(-1) for a in 1:9], L\"10^{0}\")\n",
    "    ), xlims = (0.9e-3, 1.05e0),\n",
    "    title = \"PS L=0 of sum GNC GR effects,  \\n Newtonian and PP Galaxies (with F)\",\n",
    "    label=\"PP Galaxies\",  tickfontsize=TICKFONTSIZE, labelfontsize=LABELFONTSIZE,\n",
    "    ylabel = L\"|P_0(k)| \\quad [h_0^{-3}\\,\\mathrm{Mpc}^3]\",\n",
    "    legend=:bottomleft)\n",
    "plot!(p1, xs_2, ys_2, label=L\"\\delta\\delta\", lc=:blue, ls=:dash, lw=1.5)\n",
    "plot!(p1, xs_1, ys_1, label=\"GNCsum\", lc=:brown, ls=:dot, lw=3.5)\n",
    "vline!(p1, [S_VLIM], label=\"$S_VLIM_F \" * L\" h_0^{-1}\\mathrm{Mpc}\", lc=:grey69, lw=2, ls=:solid)\n",
    "\n",
    "p2 = plot(xs_1, spline_3.(xs_1) ./ ys_1, \n",
    "    ylabel=\"Ratio\", xaxis=:log, \n",
    "    ylim=(0.879,1.01), label=\"PP Galaxies / GNCsum\",\n",
    "    yticks=[i for i in 0.88:0.03:1],\n",
    "    xticks = (\n",
    "        vcat([a*10.0^b for b in -3:(-1) for a in 1:9], 10.0^0), \n",
    "        vcat([a==1 ? L\"10^{%$b}\" : nothing for b in -3:(-1) for a in 1:9], L\"10^{0}\")\n",
    "    ), xlims = (0.9e-3, 1.05e0),\n",
    "    legend=:bottomright, tickfontsize=TICKFONTSIZE, labelfontsize=LABELFONTSIZE,\n",
    "    lc=:red, ls=:solid, lw=1.5\n",
    "    #xlabel=L\"$k \\quad [h_0 \\,\\mathrm{Mpc}^{-1}]$\",\n",
    "    )\n",
    "plot!(p2, xs_1, spline_2.(xs_1) ./ ys_1, label=L\"\\delta\\delta\"*\" / GNCsum\",\n",
    "    lc=:blue, ls=:dash, lw=1.5)\n",
    "plot!(p2, xs_2, spline_3.(xs_2) ./ ys_2, label=\"PP Galaxies / \" *L\"\\delta\\delta\",\n",
    "    lc=:black, ls=:solid, lw=1.5)\n",
    "vline!(p2, [S_VLIM], label=nothing, lc=:grey69, lw=2, ls=:solid)\n",
    "\n",
    "p3 = plot(xs_1, abs.(spline_2.(xs_1) .- ys_1), \n",
    "    ylabel=\"Difference\",  lc=:blue, ls = :dash, lw=1.5,\n",
    "    xticks = (\n",
    "        vcat([a*10.0^b for b in -3:(-1) for a in 1:9], 10.0^0), \n",
    "        vcat([a==1 ? L\"10^{%$b}\" : nothing for b in -3:(-1) for a in 1:9], L\"10^{0}\")\n",
    "    ), xlims = (0.9e-3, 1.05e0),\n",
    "    tickfontsize=TICKFONTSIZE, labelfontsize=LABELFONTSIZE,\n",
    "    yticks = 10.0 .^ [i for i in -3:2:3], ylim=(1e-3, 2e3),\n",
    "    axis=:log, legend=:bottomleft, label = \"GNCsum - \" * L\"\\delta\\delta\",\n",
    "    xlabel=L\"$k \\quad [h_0 \\,\\mathrm{Mpc}^{-1}]$\")\n",
    "plot!(p3, xs_3, abs.(spline_3.(xs_1) .- ys_1), lc=:red, ls = :solid, lw=1.5, label = \"GNCsum - PP Galaxies\")\n",
    "plot!(p3, xs_2, abs.(spline_3.(xs_2) .- ys_2), lc=:black, ls = :solid, lw=1.5, label = L\"\\delta\\delta\"*\" - PP Galaxies\")\n",
    "vline!(p3, [S_VLIM], label=nothing, lc=:grey69, lw=2, ls=:solid)\n",
    "\n",
    "P2 = plot(p1, p2, p3, size=(500, 600), layout= @layout [ x{0.5h} ; y ; z ] )\n",
    "savefig(P2,  DIR*\"PS_L0_GNCsum-Newton-PPGalaxies_withF.pdf\")\n",
    "#display(P)"
   ]
  },
  {
   "cell_type": "code",
   "execution_count": null,
   "id": "a52a8f67-0c4f-4038-9e1a-00515fb5d9d4",
   "metadata": {},
   "outputs": [],
   "source": [
    "PP = plot(P2,P1, size=(900, 700), margins=10Plots.px)\n",
    "savefig(PP, DIR*\"PS_L0_GNCsum-Newt-ppg_withF_TOT.pdf\")"
   ]
  },
  {
   "cell_type": "code",
   "execution_count": null,
   "id": "13de8026-08cc-4144-9837-fbf7fa5434f6",
   "metadata": {},
   "outputs": [],
   "source": [
    "xs_1 = ks_S_L0_withF\n",
    "ys_1 = pks_S_L0_withF\n",
    "\n",
    "\n",
    "xs_4 = ks\n",
    "ys_4 = pks_all_GNC_L0_withF[GaPSE.INDEX_GR_EFFECT_GNC[\"auto_lensing\"]] .+\n",
    "        pks_all_GNC_L0_withF[GaPSE.INDEX_GR_EFFECT_GNC[\"newton_lensing\"]] .+\n",
    "        pks_all_GNC_L0_withF[GaPSE.INDEX_GR_EFFECT_GNC[\"lensing_newton\"]]\n",
    "\n",
    "xs_2 = ks\n",
    "ys_2 = diff_GNCsum_ppg\n",
    "\n",
    "xs_3 = ks\n",
    "ys_3 = diff_GNCsum_Newt\n",
    "\n",
    "spline_2 = Spline1D(xs_2, ys_2)\n",
    "spline_3 = Spline1D(xs_3, ys_3)\n",
    "\n",
    "S_VLIM = 2*π/(2*cosmo.s_max)\n",
    "S_VLIM_F = @sprintf(\"%.5f\", S_VLIM)\n",
    "\n",
    "p1 = plot(xs_1, abs.(ys_1),\n",
    "    xaxis=:log, yaxis=:log, \n",
    "    lc=:black, ls=:dashdot, lw=2,#yticks = 10.0 .^ [i for i in 2:5],\n",
    "    title = \"PS L=0 of S, GNC GRsum, \\n Newtonian and PP Galaxies (with F)\",legendfontsize=9,\n",
    "    label=\"S\", tickfontsize=TICKFONTSIZE, labelfontsize=LABELFONTSIZE,\n",
    "    xticks = (\n",
    "        vcat([a*10.0^b for b in -3:(-2) for a in 1:9], 10.0^(-1)), \n",
    "        vcat([a==1 ? L\"10^{%$b}\" : nothing for b in -3:(-2) for a in 1:9], L\"10^{-1}\")\n",
    "    ), yticks = 10.0 .^ [i for i in -1:3], xlim=(0.9e-3, 1.1e-1), ylim=(1e-1, 1.5e3),\n",
    "    ylabel = L\"|P_0(k)| \\quad [h_0^{-3}\\,\\mathrm{Mpc}^3]\",\n",
    "    legend=:outerright)\n",
    "plot!(p1, xs_4, abs.(ys_4), label=L\"\\kappa\\kappa + \\kappa\\delta + \\delta\\kappa\", lc=:green, ls=:solid, lw=1.5)\n",
    "plot!(p1, xs_2, abs.(ys_2), label=\"GNCsum - PP Galaxies\", lc=:red, ls=:solid, lw=1.5)\n",
    "plot!(p1, xs_3, abs.(ys_3), label=\"GNCsum - \" * L\"\\delta\\delta\", lc=:blue, ls=:dash, lw=1.5)\n",
    "vline!(p1, [S_VLIM], label=\"$S_VLIM_F \" * L\" h_0^{-1}\\mathrm{Mpc}\", lc=:grey69, lw=2, ls=:solid)\n",
    "\n",
    "p2 = plot(xs_1, ys_1 ./ spline_2.(xs_1), \n",
    "    ylabel=\"Ratio\", ylim = (0,0.31), lc=:red, ls=:solid, lw=1.5,\n",
    "    xaxis=:log, label=\"S / (GNCsum - PP Galaxies)\", legend=:outerright,legendfontsize=9,\n",
    "    xticks = (\n",
    "        vcat([a*10.0^b for b in -3:(-2) for a in 1:9], 10.0^(-1)), \n",
    "        vcat([a==1 ? L\"10^{%$b}\" : nothing for b in -3:(-2) for a in 1:9], L\"10^{-1}\")\n",
    "    ),tickfontsize=TICKFONTSIZE, labelfontsize=LABELFONTSIZE,xlim=(0.9e-3, 1.1e-1),\n",
    "    yticks=[0.1*i for i in 0:3],\n",
    "    #xlabel=L\"$k \\quad [h_0 \\,\\mathrm{Mpc}^{-1}]$\",\n",
    "    )\n",
    "plot!(p2, xs_1, ys_1 ./ spline_3.(xs_1), label=\"S / (GNCsum - \"*L\"\\delta\\delta\"*\")\",\n",
    "     lc=:blue, ls=:dash, lw=1.5,)\n",
    "vline!(p2, [S_VLIM], label=\"$S_VLIM_F \" * L\" h_0^{-1}\\mathrm{Mpc}\", lc=:grey69, lw=2, ls=:solid)\n",
    "\n",
    "p3 = plot(xs_1, spline_2.(xs_1) .- ys_1, \n",
    "    label=\"GNCsum - PP Galaxies - S\", lc=:red, ls=:solid, lw=1.5,\n",
    "    xaxis=:log, ylabel=\"Difference\", ylim=(-50, 1000),\n",
    "    legend=:outerright, \n",
    "    xticks = (\n",
    "        vcat([a*10.0^b for b in -3:(-2) for a in 1:9], 10.0^(-1)), \n",
    "        vcat([a==1 ? L\"10^{%$b}\" : nothing for b in -3:(-2) for a in 1:9], L\"10^{-1}\")\n",
    "    ),legendfontsize=9,xlim=(0.9e-3, 1.1e-1),\n",
    "    yticks = [i for i in 0:250:1000],tickfontsize=TICKFONTSIZE, labelfontsize=LABELFONTSIZE,\n",
    "    xlabel=L\"$k \\quad [h_0 \\,\\mathrm{Mpc}^{-1}]$\")\n",
    "plot!(p3, xs_1, spline_3.(xs_1) .- ys_1, label=\"GNCsum - \"*L\"\\delta\\delta\"*\" - S\",\n",
    "    lc=:blue, ls=:dash, lw=1.5)\n",
    "VAXES = 4e-3\n",
    "vline!(p3, [S_VLIM], label=\"$S_VLIM_F \" * L\" h_0^{-1}\\mathrm{Mpc}\", lc=:grey69, lw=2, ls=:solid)\n",
    "\n",
    "P = plot(p1, p2, p3, size=(700, 600), layout= @layout [ x{0.5h} ; y ; z ] )\n",
    "savefig(P, DIR*\"PS_S-GNCsum-Newt-PPGalaxies_L0_withF.pdf\")\n",
    "#display(P)"
   ]
  },
  {
   "cell_type": "code",
   "execution_count": null,
   "id": "8d3c3b2b-4172-42e5-977e-bf3ec390cfb4",
   "metadata": {},
   "outputs": [],
   "source": [
    "xs_1 = ks_S_L0_withF\n",
    "ys_1 = pks_S_L0_withF\n",
    "\n",
    "\n",
    "xs_4 = ks\n",
    "ys_4 = pks_all_GNC_L0_withF[GaPSE.INDEX_GR_EFFECT_GNC[\"auto_lensing\"]] .+ \n",
    "    pks_all_GNC_L0_withF[GaPSE.INDEX_GR_EFFECT_GNC[\"newton_lensing\"]] .+ \n",
    "    pks_all_GNC_L0_withF[GaPSE.INDEX_GR_EFFECT_GNC[\"lensing_newton\"]]\n",
    "\n",
    "xs_2 = ks\n",
    "ys_2 = diff_GNCsum_ppg .- ys_4\n",
    "\n",
    "xs_3 = ks\n",
    "ys_3 = diff_GNCsum_Newt .- ys_4\n",
    "\n",
    "spline_2 = Spline1D(xs_2, ys_2)\n",
    "spline_3 = Spline1D(xs_3, ys_3)\n",
    "\n",
    "S_VLIM = 2*π/(2*cosmo.s_max)\n",
    "S_VLIM_F = @sprintf(\"%.5f\", S_VLIM)\n",
    "\n",
    "p1 = plot(xs_1, abs.(ys_1),\n",
    "    xaxis=:log, yaxis=:log, \n",
    "    lc=:black, ls=:dashdot, lw=2, #yticks = 10.0 .^ [i for i in 2:5],\n",
    "    title = \"PS L=0 of S, GNC GRsum - mix, \\n Newtonian and PP Galaxies (with F)\\n where mix = \"*\n",
    "    L\"\\kappa\\kappa + \\kappa\\delta + \\delta\\kappa\",\n",
    "    label=\"S\", \n",
    "    tickfontsize=TICKFONTSIZE, labelfontsize=LABELFONTSIZE, xlim=(0.9e-3, 1.1e-1),\n",
    "    yticks = [10.0^b for b in -1:3], \n",
    "    xticks = (\n",
    "        vcat([a*10.0^b for b in -3:(-2) for a in 1:9], 10.0^(-1)), \n",
    "        vcat([a==1 ? L\"10^{%$b}\" : nothing for b in -3:(-2) for a in 1:9], L\"10^{-1}\")\n",
    "    ),\n",
    "    #yticks = ([a*10.0^b  for b in -3:2:3, a in 1:9], [a==1 ? L\"10^{%$b}\" : nothing for b in -3:2:3, a in 1:9]),\n",
    "    ylims=(1e-2, 1e3),legendfontsize=9,\n",
    "    ylabel = L\"|P_0(k)| \\quad [h_0^{-3}\\,\\mathrm{Mpc}^3]\",\n",
    "    legend=:outerright)\n",
    "plot!(p1, xs_2, abs.(ys_2), label=\"GNCsum - PP Galaxies - \"*L\"\\kappa\\kappa - \\kappa\\delta - \\delta\\kappa \",\n",
    "    lc=:red, ls=:solid, lw=:1.5)\n",
    "plot!(p1, xs_3, abs.(ys_3), label=\"GNCsum - \"*L\"\\delta\\delta - \\kappa\\kappa - \\kappa\\delta - \\delta\\kappa \",\n",
    "    lc=:blue, ls=:dash, lw=1.5, )\n",
    "#plot!(p1, xs_4, abs.(ys_4), label=L\"\\kappa\\kappa + \\kappa\\delta + \\delta\\kappa\")\n",
    "vline!(p1, [S_VLIM], label=\"$S_VLIM_F \" * L\" h_0^{-1}\\mathrm{Mpc}\", lc=:grey69, lw=2, ls=:solid)\n",
    "\n",
    "p2 = plot(xs_1, abs.(ys_1 ./ spline_2.(xs_1)), \n",
    "    ylabel=\"|Ratio|\", lc=:red, ls=:solid, lw=1.5,  xlim=(0.9e-3, 1.1e-1),\n",
    "    ylim = (0,2),tickfontsize=TICKFONTSIZE, labelfontsize=LABELFONTSIZE,\n",
    "    xaxis=:log, legendfontsize=9,\n",
    "    xticks = (\n",
    "        vcat([a*10.0^b for b in -3:(-2) for a in 1:9], 10.0^(-1)), \n",
    "        vcat([a==1 ? L\"10^{%$b}\" : nothing for b in -3:(-2) for a in 1:9], L\"10^{-1}\")\n",
    "    ),\n",
    "    label=\"|S / (GNCsum - PP Galaxies - \"*L\"\\kappa\\kappa - \\kappa\\delta - \\delta\\kappa\"*\")|\", legend=:outerright,\n",
    "    #xlabel=L\"$k \\quad [h_0 \\,\\mathrm{Mpc}^{-1}]$\",\n",
    "    )\n",
    "plot!(p2, xs_1, abs.(ys_1 ./ spline_3.(xs_1)), \n",
    "    label=\"|S / (GNCsum - \"*L\"\\delta\\delta - \\kappa\\kappa - \\kappa\\delta - \\delta\\kappa \"*\")|\",\n",
    "    lc=:blue, ls=:dash, lw=1.5, )\n",
    "vline!(p2, [S_VLIM], label=\"$S_VLIM_F \" * L\" h_0^{-1}\\mathrm{Mpc}\", lc=:grey69, lw=2, ls=:solid)\n",
    "\n",
    "p3 = plot(xs_1, spline_2.(xs_1) .- ys_1, \n",
    "    label=\"GNCsum - PP Galaxies - \"* L\"\\kappa\\kappa - \\kappa\\delta - \\delta\\kappa \"*\" - S\", \n",
    "    xaxis=:log, ylabel=\"Difference\", lc=:red, ls=:solid, lw=1.5, \n",
    "    legend=:outerright, legendfontsize=9, \n",
    "    xticks = (\n",
    "        vcat([a*10.0^b for b in -3:(-2) for a in 1:9], 10.0^(-1)), \n",
    "        vcat([a==1 ? L\"10^{%$b}\" : nothing for b in -3:(-2) for a in 1:9], L\"10^{-1}\")\n",
    "    ),\n",
    "    xlim=(0.9e-3, 1.1e-1),\n",
    "    yticks = [i for i in -150:150:300], ylim=(-150, 300),\n",
    "    tickfontsize=TICKFONTSIZE, labelfontsize=LABELFONTSIZE,\n",
    "    xlabel=L\"$k \\quad [h_0 \\,\\mathrm{Mpc}^{-1}]$\")\n",
    "plot!(p3, xs_1, spline_3.(xs_1) .- ys_1, label=\"GNCsum - \"* L\"\\delta\\delta - \\kappa\\kappa - \\kappa\\delta - \\delta\\kappa \"*\" - S\",\n",
    "    lc=:blue, ls=:dash, lw=1.5, )\n",
    "VAXES = 4e-3\n",
    "vline!(p3, [S_VLIM], label=\"$S_VLIM_F \" * L\" h_0^{-1}\\mathrm{Mpc}\", lc=:grey69, lw=2, ls=:solid)\n",
    "\n",
    "P = plot(p1, p2, p3, size=(800, 600), layout= @layout [ x{0.5h} ; y ; z ] )\n",
    "savefig(P, DIR*\"PS_S-GNCsum-Newt-PPGalaxies_L0_withF_2.pdf\")\n",
    "#display(P)"
   ]
  },
  {
   "cell_type": "markdown",
   "id": "61669c89-5ffc-4877-bd59-2ef4108a7335",
   "metadata": {
    "tags": []
   },
   "source": [
    "## Results with another legend"
   ]
  },
  {
   "cell_type": "code",
   "execution_count": null,
   "id": "069efe2d-6c3b-4d54-833c-a15dcc1c3b7d",
   "metadata": {},
   "outputs": [],
   "source": [
    "xs_1 = ks_S_L0_withF\n",
    "ys_1 = pks_S_L0_withF\n",
    "\n",
    "\n",
    "xs_4 = ks\n",
    "ys_4 = pks_all_GNC_L0_withF[GaPSE.INDEX_GR_EFFECT_GNC[\"auto_lensing\"]] .+ \n",
    "    pks_all_GNC_L0_withF[GaPSE.INDEX_GR_EFFECT_GNC[\"newton_lensing\"]] .+ \n",
    "    pks_all_GNC_L0_withF[GaPSE.INDEX_GR_EFFECT_GNC[\"lensing_newton\"]]\n",
    "\n",
    "xs_2 = ks\n",
    "ys_2 = diff_GNCsum_ppg .- ys_4\n",
    "\n",
    "xs_3 = ks\n",
    "ys_3 = diff_GNCsum_Newt .- ys_4\n",
    "\n",
    "spline_2 = Spline1D(xs_2, ys_2)\n",
    "spline_3 = Spline1D(xs_3, ys_3)\n",
    "\n",
    "S_VLIM = 2*π/(2*cosmo.s_max)\n",
    "S_VLIM_F = @sprintf(\"%.5f\", S_VLIM)\n",
    "\n",
    "p1 = plot(xs_1, abs.(ys_1),\n",
    "    xaxis=:log, yaxis=:log, \n",
    "    lc=:black, ls=:dashdot, lw=2, #yticks = 10.0 .^ [i for i in 2:5],\n",
    "    title = \"Power Spectra monopoles of PNG \\n and sum of the GR effects\",\n",
    "    label=\"PNG with \"*L\"f_{\\rm NL} = 1\", \n",
    "    tickfontsize=TICKFONTSIZE, labelfontsize=LABELFONTSIZE, xlim=(0.9e-3, 5.2e-2),\n",
    "    yticks = [10.0^b for b in -1:3], \n",
    "    xticks = (\n",
    "        vcat([a*10.0^b for b in -3:(-3) for a in 1:9], [a*10.0^b for b in -2:(-2) for a in 1:5]), \n",
    "        vcat([a==1 ? L\"10^{%$b}\" : nothing for b in -3:(-3) for a in 1:9],\n",
    "            [a==1 ? L\"10^{%$b}\" : nothing for b in -2:(-2) for a in 1:5])\n",
    "        #vcat([a*10.0^b for b in -3:(-2) for a in 1:9], 10.0^(-1)), \n",
    "        #vcat([a==1 ? L\"10^{%$b}\" : nothing for b in -3:(-2) for a in 1:9], L\"10^{-1}\")\n",
    "    ),\n",
    "    #yticks = ([a*10.0^b  for b in -3:2:3, a in 1:9], [a==1 ? L\"10^{%$b}\" : nothing for b in -3:2:3, a in 1:9]),\n",
    "    ylims=(1e-1, 1e3),legendfontsize=9,\n",
    "    ylabel = L\"|P_0(k)| \\quad [h_0^{-3}\\,\\mathrm{Mpc}^3]\",\n",
    "    legend=:outerright)\n",
    "plot!(p1, xs_2, abs.(ys_2), label=\"PP Galaxies\",\n",
    "    lc=:red, ls=:solid, lw=:1.5)\n",
    "plot!(p1, xs_3, abs.(ys_3), label=\"Newtonian\",\n",
    "    lc=:blue, ls=:dash, lw=1.5, )\n",
    "#plot!(p1, xs_4, abs.(ys_4), label=L\"\\kappa\\kappa + \\kappa\\delta + \\delta\\kappa\")\n",
    "vline!(p1, [S_VLIM], label=false, lc=:grey69, lw=2, ls=:solid)\n",
    "\n",
    "p2 = plot(xs_1, abs.(ys_1 ./ spline_2.(xs_1)), \n",
    "    ylabel=\"Ratios\", lc=:red, ls=:solid, lw=1.5,  \n",
    "    ylim = (0,2),tickfontsize=TICKFONTSIZE, labelfontsize=LABELFONTSIZE,\n",
    "    xaxis=:log, legendfontsize=9,\n",
    "    xticks = (\n",
    "         vcat([a*10.0^b for b in -3:(-3) for a in 1:9], [a*10.0^b for b in -2:(-2) for a in 1:5]), \n",
    "        vcat([a==1 ? L\"10^{%$b}\" : nothing for b in -3:(-3) for a in 1:9],\n",
    "            [a==1 ? L\"10^{%$b}\" : nothing for b in -2:(-2) for a in 1:5])\n",
    "        #vcat([a*10.0^b for b in -3:(-2) for a in 1:9], 10.0^(-1)), \n",
    "        #vcat([a==1 ? L\"10^{%$b}\" : nothing for b in -3:(-2) for a in 1:9], L\"10^{-1}\")\n",
    "    ),xlim=(0.9e-3, 5.2e-2),\n",
    "    label=\"PNG / PP Galaxies\", legend=:outerright,\n",
    "    #xlabel=L\"$k \\quad [h_0 \\,\\mathrm{Mpc}^{-1}]$\",\n",
    "    )\n",
    "plot!(p2, xs_1, abs.(ys_1 ./ spline_3.(xs_1)), \n",
    "    label=\"PNG / Newtonian\",xlabel=L\"k \\quad [h_0 \\, \\mathrm{Mpc}^{-1}]\",\n",
    "    lc=:blue, ls=:dash, lw=1.5, )\n",
    "vline!(p2, [S_VLIM], label=false, lc=:grey69, lw=2, ls=:solid)\n",
    "\n",
    "P = plot(p1, p2, size=(600, 450), layout= @layout [ x{0.7h} ; y ] )\n",
    "savefig(P, DIR*\"PS_S-GNCsum-Newt-PPGalaxies_L0_withF_2.pdf\")\n",
    "#display(P)"
   ]
  },
  {
   "cell_type": "code",
   "execution_count": null,
   "id": "8295779b-fefd-47e2-8156-5f3d7c635f4f",
   "metadata": {},
   "outputs": [],
   "source": [
    "xs_1 = ks_ppg_L0_withF\n",
    "ys_1 = pks_ppg_L0_withF\n",
    "\n",
    "xs_2 = ks_Newtonian_L0_withF\n",
    "ys_2 = pks_Newtonian_L0_withF\n",
    "spline = Spline1D(xs_2, ys_2)\n",
    "\n",
    "\n",
    "xs_3 = ks\n",
    "ys_3 = diff_Newt_ppg\n",
    "\n",
    "S_VLIM = 2*π/(2*cosmo.s_max)\n",
    "S_VLIM_F = @sprintf(\"%.5f\", S_VLIM)\n",
    "\n",
    "p1 = plot([xs_1, xs_2], [abs.(ys_1), abs.(ys_2)],\n",
    "    xaxis=:log, yaxis=:log, \n",
    "    lc=[:red :blue], yticks = 10.0 .^ [i for i in 2:5],\n",
    "    xticks = 10.0 .^ [i for i in -3:0],\n",
    "    title = \"Power Spectra monopoles \\n of Newtonian and Plane-Parallel\",\n",
    "    label=[\"Newtonian\" \"PP Galaxies\"], ls=[:dash :dot], \n",
    "    ylabel = L\"|P(k)| \\quad [h_0^{-3}\\,\\mathrm{Mpc}^3]\", lw=[2 2],\n",
    "    tickfontsize=TICKFONTSIZE, labelfontsize=LABELFONTSIZE,\n",
    "    legendfontsize=11,\n",
    "    legend=:bottomleft)\n",
    "vline!(p1, [S_VLIM], label=false, lc=:black, lw=0.5, ls=:dash)\n",
    "\n",
    "p2 = plot(xs_1, spline.(xs_1) ./ ys_1, \n",
    "    ylabel=\"Ratio\", lc=:green, lw=2,\n",
    "    tickfontsize=TICKFONTSIZE, labelfontsize=LABELFONTSIZE,\n",
    "    xaxis=:log, legendfontsize=9,\n",
    "    xticks = 10.0 .^ [i for i in -3:0],\n",
    "    ylim=(0.97,1.06), \n",
    "    yticks = [0.97, 1.00, 1.03, 1.06],\n",
    "    xlabel=L\"k \\quad [h_0 \\, \\mathrm{Mpc}^{-1}]\",\n",
    "    legend=false, \n",
    "    #xlabel=L\"$k \\quad [h_0 \\,\\mathrm{Mpc}^{-1}]$\",\n",
    "    )\n",
    "vline!(p2, [S_VLIM], label=false, lc=:black, lw=0.5, ls=:dash)\n",
    "\n",
    "P = plot(p1, p2, size=(500, 400), layout= @layout [ x{0.7h} ; y ] )\n",
    "savefig(P, DIR*\"PS_L0_Newton-PPGalaxies_withF.pdf\")\n",
    "#display(P)"
   ]
  },
  {
   "cell_type": "code",
   "execution_count": null,
   "id": "e7e2edbf-dcea-4109-baf7-80f4a6e63c34",
   "metadata": {},
   "outputs": [],
   "source": []
  }
 ],
 "metadata": {
  "kernelspec": {
   "display_name": "Julia 1.7.3",
   "language": "julia",
   "name": "julia-1.7"
  },
  "language_info": {
   "file_extension": ".jl",
   "mimetype": "application/julia",
   "name": "julia",
   "version": "1.7.3"
  }
 },
 "nbformat": 4,
 "nbformat_minor": 5
}
