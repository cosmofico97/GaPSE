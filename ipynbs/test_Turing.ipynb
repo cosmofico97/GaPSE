{
 "cells": [
  {
   "cell_type": "code",
   "execution_count": 6,
   "id": "a2a44a55-dfa2-403f-83c0-175d9a055f8e",
   "metadata": {},
   "outputs": [
    {
     "name": "stderr",
     "output_type": "stream",
     "text": [
      "\u001b[32mSampling: 100%|█████████████████████████████████████████| Time: 0:00:00\u001b[39m\n"
     ]
    },
    {
     "data": {
      "text/plain": [
       "2-element Vector{ChainDataFrame}:\n",
       " Summary Statistics (2 x 7)\n",
       " Quantiles (2 x 6)"
      ]
     },
     "execution_count": 6,
     "metadata": {},
     "output_type": "execute_result"
    }
   ],
   "source": [
    "using Turing\n",
    "using StatsPlots\n",
    "\n",
    "# Define a simple Normal model with unknown mean and variance.\n",
    "@model function gdemo(x, y)\n",
    "  s² ~ InverseGamma(2, 3)\n",
    "  m ~ Normal(0, sqrt(s²))\n",
    "  x ~ Normal(m, sqrt(s²))\n",
    "  y ~ Normal(m, sqrt(s²))\n",
    "end\n",
    "\n",
    "#  Run sampler, collect results\n",
    "chn = sample(gdemo(1.5, 2), HMC(0.1, 5), 1000)\n",
    "\n",
    "# Summarise results\n",
    "describe(chn)"
   ]
  },
  {
   "cell_type": "code",
   "execution_count": null,
   "id": "694e398b-9807-469c-984f-51590aefd5ad",
   "metadata": {},
   "outputs": [],
   "source": [
    "# Plot and save results\n",
    "p = plot(chn)\n",
    "savefig(\"gdemo-plot.png\")\n",
    "display(p)"
   ]
  }
 ],
 "metadata": {
  "kernelspec": {
   "display_name": "Julia 1.7.3",
   "language": "julia",
   "name": "julia-1.7"
  },
  "language_info": {
   "file_extension": ".jl",
   "mimetype": "application/julia",
   "name": "julia",
   "version": "1.7.3"
  }
 },
 "nbformat": 4,
 "nbformat_minor": 5
}
