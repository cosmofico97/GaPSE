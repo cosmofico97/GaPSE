{
 "cells": [
  {
   "cell_type": "markdown",
   "id": "b5087e3c-81f1-47db-8a30-00b7803dc643",
   "metadata": {},
   "source": [
    "# GaPSE TUTORIAL"
   ]
  },
  {
   "cell_type": "markdown",
   "id": "97147094-5e51-497c-81e8-b63cac7e465a",
   "metadata": {},
   "source": [
    "This is a small tour of the Galaxy Power Spectrum Estimator software."
   ]
  },
  {
   "cell_type": "code",
   "execution_count": 4,
   "id": "2980e208-f08c-43b7-8cc1-26cb0998976c",
   "metadata": {},
   "outputs": [],
   "source": [
    "PATH_TO_GAPSE = \"../\";"
   ]
  },
  {
   "cell_type": "code",
   "execution_count": 5,
   "id": "51ea1fd8-8970-48fb-8eee-6bc2f4cc4fa8",
   "metadata": {},
   "outputs": [],
   "source": [
    "include(PATH_TO_GAPSE * \"src/GaPSE.jl\");"
   ]
  },
  {
   "cell_type": "code",
   "execution_count": 10,
   "id": "6ae90cb6-962e-42d9-90ed-14c51084f2b4",
   "metadata": {},
   "outputs": [
    {
     "name": "stdout",
     "output_type": "stream",
     "text": [
      "###############\n",
      "#    GaPSE    #\n",
      "############### \n",
      "#\n",
      "# The Cosmology considered had the following paremeters:\n",
      "# \n",
      "# - Matter Power Spectrum input file: \"../test/datatest/file_pk.txt\"\n",
      "# - F window function input file: \"../test/datatest/F_REFERENCE.txt\"\n",
      "# - Background data input file: \"../test/datatest/WideA_ZA_background.dat\"\n",
      "#\n",
      "# - Basic CosmoParams considered: \n",
      "#\t z_min = 0.05 \t z_max = 0.2\n",
      "#\t θ_max = 1.5707963267948966 [rad] \t h_0 = 0.7\n",
      "#\t Ω_b = 0.0489 \t Ω_cdm = 0.25102 \t Ω_M0 = 0.29992\n",
      "#\n",
      "# - CosmoParams about the Input Power Spectrum: \n",
      "#\t fit_left_min = 1.0e-6 \t fit_right_min = 10.0 \t \n",
      "#\t fit_left_max = 3.0e-6 \t fit_right_max = 20.0 \t \n",
      "#\n",
      "# - CosmoParams about the Input Power Spectrum Tools: \n",
      "#\t k_max = 10.0 \t N = 1024 \t fit_max = 0.5 \t \n",
      "#\t con = true \t k_min = 1.0e-8 \t fit_min = 0.05 \t \n",
      "#\n",
      "# - Computed quantities: \n",
      "# \t effective redshift z_eff = 0.15045636096023224 \n",
      "# \t comoving s_min = 148.1920001465757 Mpc/h_0\n",
      "# \t comoving s_max = 571.7022420258767 Mpc/h_0\n",
      "# \t comoving s_eff = 435.3747095690664 Mpc/h_0\n",
      "# \t Volume of the survey V_survey = 3.845366167995967e8 Mpc^3/h_0^3\n",
      "# \t σ_0 = 15.593462966741178\n",
      "# \t σ_1 = 15.074895881392285\n",
      "# \t σ_2 = 100.85852368830226\n",
      "# \t σ_3 = 3735.1226181519773\n",
      "# \t (where σ_i = \\int_{k_{min}}^{k_{max}}\\frac{dq}{2 π^2} q^{2-i} P(q))\n",
      "# \n"
     ]
    }
   ],
   "source": [
    "FILE_F_MAP = PATH_TO_GAPSE * \"test/datatest/F_REFERENCE.txt\"\n",
    "FILE_PS = PATH_TO_GAPSE * \"test/datatest/file_pk.txt\"\n",
    "FILE_BACKGROUND = PATH_TO_GAPSE * \"test/datatest/WideA_ZA_background.dat\"\n",
    "\n",
    "z_min, z_max, θ_max = 0.05, 0.20, π / 2.0\n",
    "#=params = GaPSE.CosmoParams(z_min, z_max, θ_max;\n",
    "  k_min = 1e-8, k_max = 10.0,\n",
    "  Ω_b = 0.0489, Ω_cdm = 0.251020, h_0 = 0.70,\n",
    "    N = 1024, fit_min = 0.05, fit_max= 0.5, con=true)=#\n",
    "params = GaPSE.CosmoParams(z_min, z_max, θ_max;\n",
    "    Ω_b = 0.0489, Ω_cdm = 0.251020, h_0 = 0.70, s_lim=1e-2,\n",
    "    IPS_opts = Dict(:fit_left_min => 1e-6, :fit_left_max => 3e-6,\n",
    "        :fit_right_min => 1e1, :fit_right_max => 2e1),\n",
    "    IPSTools_opts = Dict(:N => 1024, :fit_min => 0.05, :fit_max => 0.5, \n",
    "        :con => true, :k_min => 1e-8, :k_max => 10.0),\n",
    ")\n",
    "\n",
    "cosmo = GaPSE.Cosmology(params, FILE_BACKGROUND, FILE_PS, FILE_F_MAP)\n",
    "\n",
    "GaPSE.parameters_used(stdout, cosmo)"
   ]
  },
  {
   "cell_type": "code",
   "execution_count": 16,
   "id": "65c82a02-4901-49fd-abd7-9db2db6dbcdb",
   "metadata": {},
   "outputs": [
    {
     "name": "stderr",
     "output_type": "stream",
     "text": [
      "\u001b[32mauto_doppler, L=0: 100%|████████████████████████████████| Time: 0:00:02\u001b[39m\n"
     ]
    },
    {
     "name": "stdout",
     "output_type": "stream",
     "text": [
      "\n",
      "time needed for map_integral_on_mu for auto_doppler [in s] = 2.71301 \n"
     ]
    }
   ],
   "source": [
    "GaPSE.print_map_ξ_multipole(cosmo, \"xi_F_doppler_L0.txt\", \"auto_doppler\", \n",
    "    10 .^ range(-1, 3, length = 1000); use_windows = true, N_μs = 50 )"
   ]
  },
  {
   "cell_type": "code",
   "execution_count": null,
   "id": "1a58c4bb-93c0-42e4-9549-91a417d72c2f",
   "metadata": {},
   "outputs": [],
   "source": []
  }
 ],
 "metadata": {
  "kernelspec": {
   "display_name": "Julia 1.7.2",
   "language": "julia",
   "name": "julia-1.7"
  },
  "language_info": {
   "file_extension": ".jl",
   "mimetype": "application/julia",
   "name": "julia",
   "version": "1.7.2"
  }
 },
 "nbformat": 4,
 "nbformat_minor": 5
}
