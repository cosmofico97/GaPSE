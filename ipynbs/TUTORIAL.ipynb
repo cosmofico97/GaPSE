{
 "cells": [
  {
   "cell_type": "markdown",
   "id": "d21f745a-823d-42e4-909f-a6d8e56c4f02",
   "metadata": {
    "jp-MarkdownHeadingCollapsed": true,
    "tags": []
   },
   "source": [
    "This file is part of GaPSE\n",
    "Copyright (C) 2022 Matteo Foglieni\n",
    "\n",
    "GaPSE is free software: you can redistribute it and/or modify\n",
    "it under the terms of the GNU General Public License as published by\n",
    "the Free Software Foundation, either version 3 of the License, or\n",
    "(at your option) any later version.\n",
    "\n",
    "GaPSE is distributed in the hope that it will be useful, but\n",
    "WITHOUT ANY WARRANTY; without even the implied warranty of\n",
    "MERCHANTABILITY or FITNESS FOR A PARTICULAR PURPOSE. See the GNU\n",
    "General Public License for more details.\n",
    "\n",
    "You should have received a copy of the GNU General Public License\n",
    "along with GaPSE. If not, see <http://www.gnu.org/licenses/>.\n",
    "```\n",
    "\n",
    "\n",
    "```"
   ]
  },
  {
   "cell_type": "markdown",
   "id": "b5087e3c-81f1-47db-8a30-00b7803dc643",
   "metadata": {},
   "source": [
    "# GaPSE TUTORIAL"
   ]
  },
  {
   "cell_type": "markdown",
   "id": "97147094-5e51-497c-81e8-b63cac7e465a",
   "metadata": {},
   "source": [
    "This is a small tour of the Galaxy Power Spectrum Estimator software. It shows\n",
    "how the program can be easily used inside a Jupyter Notebook.\n",
    "\n",
    "However, if you prefer, you can also write the commands you are interested to execute inside the file \"GaPSE-exe.jl\", and then run in the command line\n",
    "\n",
    "```\n",
    "$ julia GaPSE-exe.jl\n",
    "```\n",
    "\n",
    "Furthermore, almost all the function implemented inside GaPSE have a detailed documentation; feel free to check it whenever you want with the usual Julia command `?NAME` (where `NAME` is the name of the function/object you are interested in)."
   ]
  },
  {
   "cell_type": "markdown",
   "id": "eb165808-2632-47a6-9ce0-fec5d96a5bc2",
   "metadata": {
    "tags": []
   },
   "source": [
    "## Path to GaPSE"
   ]
  },
  {
   "cell_type": "code",
   "execution_count": 1,
   "id": "2980e208-f08c-43b7-8cc1-26cb0998976c",
   "metadata": {},
   "outputs": [],
   "source": [
    "# In case you prefer to use GaPSE in a Jupyter Notebook in a \"distant\" directory,\n",
    "# you only have to set this path to the direcory GaPSE is sotred in.\n",
    "PATH_TO_GAPSE = \"../\"; "
   ]
  },
  {
   "cell_type": "code",
   "execution_count": 2,
   "id": "51ea1fd8-8970-48fb-8eee-6bc2f4cc4fa8",
   "metadata": {},
   "outputs": [],
   "source": [
    "include(PATH_TO_GAPSE * \"src/GaPSE.jl\");\n",
    "# NOTE : do not run this cell multiple times! In you have a problem, restart\n",
    "# the kernel an re-run all the cells."
   ]
  },
  {
   "cell_type": "code",
   "execution_count": 3,
   "id": "235f6017-56a7-490a-83ef-f3e7d0af8177",
   "metadata": {},
   "outputs": [],
   "source": [
    "using DelimitedFiles, Plots, Printf, LaTeXStrings \n",
    "# These are useful libraries"
   ]
  },
  {
   "cell_type": "markdown",
   "id": "a56d670e-1e60-4fd6-8bf8-3bf04a66379b",
   "metadata": {},
   "source": [
    "```\n",
    "\n",
    "\n",
    "\n",
    "\n",
    "```"
   ]
  },
  {
   "cell_type": "markdown",
   "id": "ea037d96-ed1f-4428-92f9-0ae2e86fe343",
   "metadata": {
    "tags": []
   },
   "source": [
    "## Creation of a Cosmology "
   ]
  },
  {
   "cell_type": "markdown",
   "id": "f6e27497-5413-4b46-a254-e30b11aabfc6",
   "metadata": {},
   "source": [
    "We must create a struct `Cosmology`, that will contains all the \n",
    "relevant information for future computations.\n",
    "In order to do so, we must give 3 input files:\n",
    "- the file containing the matter power spectrum we are focused on;\n",
    "- the file containing the background data for the Universe considered;\n",
    "- the file containing a map on μ and x of the window function F (use the \n",
    "  default one initially, provided inside GaPSE directory `data`);\n",
    "  \n",
    "The first two files should be produced by the [CLASS](https://github.com/lesgourg/class_public) software. As an example, we take the two\n",
    "stored inside `data`:"
   ]
  },
  {
   "cell_type": "code",
   "execution_count": 4,
   "id": "584584e3-54c2-4e32-a9db-6f85d92afa01",
   "metadata": {},
   "outputs": [],
   "source": [
    "FILE_PS = PATH_TO_GAPSE * \"data/WideA_ZA_pk.dat\";\n",
    "FILE_BACKGROUND = PATH_TO_GAPSE * \"data/WideA_ZA_background.dat\";\n",
    "FILE_F_MAP = PATH_TO_GAPSE * \"data/F_REFERENCE.txt\";"
   ]
  },
  {
   "cell_type": "markdown",
   "id": "f18e7554-a2b2-4841-a811-1ba06215b028",
   "metadata": {},
   "source": [
    "Now we have to set the dimensions of the survey we are considering. \n",
    "\n",
    "GaPSE assumes for the survey volume an azimutally simmetric one, contained inside two concentric spheres (with radius specified by the input minimum and maximum redshifts `z_min` and `z_max`) and with angular extensions `2 θ_max` (so `θ_max` is the angle between the central axis and the edge). The extreme redshifts are internally translated into extreme comoving distances $s_\\mathrm{min}$ and $s_\\mathrm{max}$.\n",
    "\n",
    "Here we show a orthogonal projection on the plane containing the three points $O$ (the observer), $\\mathbf{s}_\\mathrm{min}$ and $\\mathbf{s}_\\mathrm{max}$. We also show the comoving effective distance $s_\\mathrm{eff}$, which is the counterpart of the effective redshift $z_\\mathrm{eff}$ calculated as follows:\n",
    "\n",
    "$$\n",
    "\\begin{split}\n",
    "z_\\mathrm{eff} := \n",
    "    \\frac{\n",
    "        \\int \\mathrm{d}^3\\mathbf{s} \\, \\phi^2(\\mathbf{s}) \\, z(s)\n",
    "     }{\n",
    "         \\int \\mathrm{d}^3\\mathbf{s}\\, \\phi^2(\\mathbf{s}) \n",
    "      } &= \\frac{\n",
    "          \\int_0^\\infty \\mathrm{d}s  \\, s^2 \\, \\phi^2(s) \\, z(s) \\times\n",
    "          \\int_{4\\pi}\\mathrm{d}^2\\hat{\\mathbf{s}} \\, W^2(\\hat{\\mathbf{s}})\n",
    "      }{\n",
    "          \\int_0^\\infty \\mathrm{d}s \\, s^2 \\, \\phi^2(s)\\times\n",
    "          \\int_{4\\pi}\\mathrm{d}^2\\hat{\\mathbf{s}} \\, W^2(\\hat{\\mathbf{s}})\n",
    "      } \\\\[5pt]\n",
    "      &= \\frac{\n",
    "          \\int_0^\\infty \\mathrm{d}s  \\, s^2 \\, \\phi^2(s) \\, z(s)\n",
    "      }{\n",
    "          \\int_0^\\infty \\mathrm{d}s \\, s^2 \\, \\phi^2(s)\n",
    "      } \\\\[4pt]\n",
    "      &= \\frac{3}{s_\\mathrm{max}^3 - s_\\mathrm{min}^3} \\,\n",
    "          \\int_{s_\\mathrm{min}}^{s_\\mathrm{max}} \\mathrm{d}s  \\, s^2 \\, z(s)\n",
    "\\end{split}\n",
    "$$\n",
    "\n",
    "where $\\phi(s)$ and $W(\\hat{s})$ are respectivelly the radial and angulal window functions; it is assumed that the survey window function $\\phi(\\mathbf{s})$ can be separated into a radial and angular part:\n",
    "\n",
    "$$\n",
    "\\phi(\\mathbf{s}) = \\phi(s) \\, W(\\hat{s})\n",
    "$$\n",
    "\n",
    "$$ \\phi(s, s_\\mathrm{min}, s_\\mathrm{max}) = \n",
    "    \\begin{cases} 1 \\quad s_\\mathrm{min} < s < s_\\mathrm{max} \\\\ 0 \\quad \\mathrm{otherwise}\\end{cases} $$\n",
    "    \n",
    " $$ W(\\hat{s}, \\theta_\\mathrm{MAX}) = \n",
    "    \\begin{cases} 1 \\quad 0 \\leq \\theta < \\theta_\\mathrm{MAX} \\\\ 0 \\quad \\mathrm{otherwise}\\end{cases} $$"
   ]
  },
  {
   "cell_type": "markdown",
   "id": "9c223266-104e-490a-abf2-96bfffd32708",
   "metadata": {},
   "source": [
    "<img src=\"images/survey.png\" style=\"width: 400px;\">"
   ]
  },
  {
   "cell_type": "markdown",
   "id": "47b719a9-a083-4736-a6f5-48fedcfe1d41",
   "metadata": {},
   "source": [
    "If you are not interested in a specific survey, but only in the \"true\" TPCF of the Universe considered, do not worry: let the default values for these fields, in the functions we are going to show you will only have \n",
    "to set `use_window = false`."
   ]
  },
  {
   "cell_type": "markdown",
   "id": "96eb1ddd-2711-45c4-8e80-e30d1c5781b4",
   "metadata": {},
   "source": [
    "For this demo case, let's set the following survey volume values:"
   ]
  },
  {
   "cell_type": "code",
   "execution_count": 5,
   "id": "f203b147-7ceb-4d1d-9a3e-ff9303197827",
   "metadata": {},
   "outputs": [],
   "source": [
    "z_min, z_max, θ_max = 0.05, 0.20, π / 2.0;"
   ]
  },
  {
   "cell_type": "markdown",
   "id": "f51ec0aa-c583-4025-bf5b-3077feb12ee4",
   "metadata": {},
   "source": [
    "At this point, we have to create a `CosmoParams` struct, that will contains all the\n",
    "options to be passed to `Cosmology`.\n",
    "Beyond the already mentioned `z_min`, `z_max` and `θ_max` (which are mandatory), you may choose to specify:\n",
    "- `Ω_b::Float64`, `Ω_cdm::Float64` and `Ω_M0::Float64` : barionic, cold-dark-matter and total matter density parameters\n",
    "\n",
    "- `h_0::Float64` : today's Hubble adimensional parameter (`H_0 = h_0 * 100 km/(s * Mpc)`).\n",
    "\n",
    "- many others; if you are interested, check the documentation of `CosmoParams`.\n",
    "\n",
    "Here we provided the full list of them, with all their default values."
   ]
  },
  {
   "cell_type": "code",
   "execution_count": 6,
   "id": "6ae90cb6-962e-42d9-90ed-14c51084f2b4",
   "metadata": {},
   "outputs": [],
   "source": [
    "params = GaPSE.CosmoParams(z_min, z_max, θ_max;\n",
    "    Ω_b = 0.0489, Ω_cdm = 0.251020, h_0 = 0.70, s_lim=1e-2,\n",
    "    IPS_opts = Dict(\n",
    "        :fit_left_min => 1e-6, :fit_left_max => 3e-6,\n",
    "        :fit_right_min => 1e1, :fit_right_max => 2e1),\n",
    "    IPSTools_opts = Dict(\n",
    "        :N => 1024, :fit_min => 0.05, :fit_max => 0.5, \n",
    "        :con => true, :k_min => 1e-8, :k_max => 10.0),\n",
    ");"
   ]
  },
  {
   "cell_type": "markdown",
   "id": "4ddca822-ce61-4c8f-b86e-8ae21be6ab22",
   "metadata": {},
   "source": [
    "Finally, we can create the `Cosmology` (let's call it `cosmo`) with all the inputs specified before!\n",
    "We also print on the screen all the options stored by that `Cosmology` itself, in order to be sure that everything is okay."
   ]
  },
  {
   "cell_type": "code",
   "execution_count": 7,
   "id": "b2a9e45c-db1b-4401-9cac-f9cc77ad9128",
   "metadata": {},
   "outputs": [
    {
     "name": "stdout",
     "output_type": "stream",
     "text": [
      "###############\n",
      "#    GaPSE    #\n",
      "############### \n",
      "#\n",
      "# The Cosmology considered had the following paremeters:\n",
      "# \n",
      "# - Matter Power Spectrum input file: \"../data/WideA_ZA_pk.dat\"\n",
      "# - F window function input file: \"../data/F_REFERENCE.txt\"\n",
      "# - Background data input file: \"../data/WideA_ZA_background.dat\"\n",
      "#\n",
      "# - Basic CosmoParams considered: \n",
      "#\t z_min = 0.05 \t z_max = 0.2\n",
      "#\t θ_max = 1.5707963267948966 [rad] \t h_0 = 0.7\n",
      "#\t Ω_b = 0.0489 \t Ω_cdm = 0.25102 \t Ω_M0 = 0.29992\n",
      "#\n",
      "# - CosmoParams about the Input Power Spectrum: \n",
      "#\t fit_left_min = 1.0e-6 \t fit_right_min = 10.0 \t \n",
      "#\t fit_left_max = 3.0e-6 \t fit_right_max = 20.0 \t \n",
      "#\n",
      "# - CosmoParams about the Input Power Spectrum Tools: \n",
      "#\t k_max = 10.0 \t fit_max = 0.5 \t N = 1024 \t \n",
      "#\t con = true \t k_min = 1.0e-8 \t fit_min = 0.05 \t \n",
      "#\n",
      "# - Computed quantities: \n",
      "# \t effective redshift z_eff = 0.15045636096023224 \n",
      "# \t comoving s_min = 148.1920001465757 Mpc/h_0\n",
      "# \t comoving s_max = 571.7022420258767 Mpc/h_0\n",
      "# \t comoving s_eff = 435.3747095690664 Mpc/h_0\n",
      "# \t Volume of the survey V_survey = 3.845366167995967e8 Mpc^3/h_0^3\n",
      "# \t σ_0 = 18.584280735797098\n",
      "# \t σ_1 = 15.75556280411702\n",
      "# \t σ_2 = 101.0636221421908\n",
      "# \t σ_3 = 3735.2017336197055\n",
      "# \t (where σ_i = \\int_{k_{min}}^{k_{max}}\\frac{dq}{2 π^2} q^{2-i} P(q))\n",
      "# \n"
     ]
    }
   ],
   "source": [
    "cosmo = GaPSE.Cosmology(params, FILE_BACKGROUND, FILE_PS, FILE_F_MAP);\n",
    "\n",
    "GaPSE.parameters_used(stdout, cosmo);"
   ]
  },
  {
   "cell_type": "markdown",
   "id": "9b8970e6-e2f9-4a5b-b7e6-e48b46a00c8e",
   "metadata": {},
   "source": [
    "Now we are ready to calculate the TPCF and/or PS associated with each of the GR effects for this Universe!"
   ]
  },
  {
   "cell_type": "markdown",
   "id": "2980903b-2d2c-44b5-b493-acd42c3d76df",
   "metadata": {},
   "source": [
    "```\n",
    "\n",
    "\n",
    "\n",
    "\n",
    "```"
   ]
  },
  {
   "cell_type": "markdown",
   "id": "110238a5-9c82-4df7-a7ac-ae5b8102010d",
   "metadata": {},
   "source": [
    "## TPCF of a single effect"
   ]
  },
  {
   "cell_type": "markdown",
   "id": "e975ba69-f023-4b6f-839d-dd5f9e1654e3",
   "metadata": {},
   "source": [
    "The GR effects implemented are 4: Doppler, Lensing, Local GP and Integrated GP (where GP stands for Gravitational Potential).\n",
    "\n",
    "Consequently, the Two-Point Correlation Functions associated are 16 (4 are auto-correlations, and 12 the cross-ones; note that they are not simmetric, so for instance Lensing-Doppler is different fro Doppler-Lensing)."
   ]
  },
  {
   "cell_type": "markdown",
   "id": "04ccb5a4-4f94-41ee-af02-acb991e97448",
   "metadata": {},
   "source": [
    "Their names are, with obvious associations, the ones contained inside the\n",
    "`GaPSE.IMPLEMENTED_GR_EFFECTS` vector:"
   ]
  },
  {
   "cell_type": "code",
   "execution_count": 8,
   "id": "ea2e33f6-e462-4246-ab62-2bac982dd0a5",
   "metadata": {},
   "outputs": [
    {
     "data": {
      "text/plain": [
       "16-element Vector{String}:\n",
       " \"auto_doppler\"\n",
       " \"auto_lensing\"\n",
       " \"auto_localgp\"\n",
       " \"auto_integratedgp\"\n",
       " \"lensing_doppler\"\n",
       " \"doppler_lensing\"\n",
       " \"doppler_localgp\"\n",
       " \"localgp_doppler\"\n",
       " \"doppler_integratedgp\"\n",
       " \"integratedgp_doppler\"\n",
       " \"lensing_localgp\"\n",
       " \"localgp_lensing\"\n",
       " \"lensing_integratedgp\"\n",
       " \"integratedgp_lensing\"\n",
       " \"localgp_integratedgp\"\n",
       " \"integratedgp_localgp\""
      ]
     },
     "execution_count": 8,
     "metadata": {},
     "output_type": "execute_result"
    }
   ],
   "source": [
    "GaPSE.IMPLEMENTED_GR_EFFECTS "
   ]
  },
  {
   "cell_type": "markdown",
   "id": "cfbb1e3f-d9b5-4fc4-8b95-fa629bb06c33",
   "metadata": {},
   "source": [
    "As a first example, we will focus on the Doppler auto-correlation function, identified by the name `auto_doppler`.\n",
    "\n",
    "How we may calculate the value of such TPCF, for the considered Cosmology `cosmo`?\n",
    "GaPSE provides three functions:\n",
    "\n",
    "- `ξ_multipole`\n",
    "- `map_ξ_multipole`\n",
    "- `print_map_ξ_multipole`\n",
    "\n",
    "The frame of reference you have to keep in mind is the following:"
   ]
  },
  {
   "cell_type": "markdown",
   "id": "40005898-af3a-498e-9128-3c961ff16c97",
   "metadata": {},
   "source": [
    "<table><tr>\n",
    "<td> <img src=\"images/s1s2.png\" alt=\"Drawing\" style=\"width: 250px;\"/> </td>\n",
    "<td> <img src=\"images/s1s2_inside_survey.png\" alt=\"Drawing\" style=\"width: 350px;\"/> </td>\n",
    "</tr></table>"
   ]
  },
  {
   "cell_type": "markdown",
   "id": "c5e2415b-e2b4-4120-8a9b-851569ac0e02",
   "metadata": {},
   "source": [
    "GaPSE assumes (unless differently specified) that $\\mathbf{s}_1$ is on the $s_\\mathrm{eff}$ sphere (and so $s_1 = s_\\mathrm{eff}$). The second input $s$ is the comoving distance from $s_1$, as you can see from the sketch.\n",
    "\n",
    "These are the transformations concerning the two coordinate systems:\n",
    "\n",
    "$$\n",
    "y = \\cos \\theta = \\hat{\\mathbf{s}}_1 \\cdot  \\hat{\\mathbf{s}}_2 \n",
    "\\quad , \\quad\n",
    "\\mu = \\cos \\phi = \\hat{\\mathbf{s}}_1 \\cdot  \\hat{\\mathbf{s}}\n",
    "$$\n",
    "\n",
    "$$\n",
    "s(s_1, s_2, y) = \\sqrt{s_1^2 + s_2^2 - 2 \\, s_1 \\, s_2 \\, y}\n",
    "\\quad , \\quad\n",
    "s_2(s_1, s, \\mu) = \\sqrt{s_1^2 + s^2 + 2 \\, s_1 \\, s \\, \\mu}\n",
    "$$\n",
    "\n",
    "$$\n",
    "y(s_1, s, \\mu) = \\frac{\\mu \\, s + s_1}{s_2(s_1, s, \\mu)} \n",
    "\\quad , \\quad\n",
    "\\mu(s_1, s_2, y) = \\frac{y \\, s_2 - s_1}{s(s_1, s_2, y)}\n",
    "$$"
   ]
  },
  {
   "cell_type": "markdown",
   "id": "19020bfb-1cd5-4272-bbca-751f6743007b",
   "metadata": {},
   "source": [
    "```\n",
    "\n",
    "\n",
    "```"
   ]
  },
  {
   "cell_type": "markdown",
   "id": "c7f42c01-7680-4c92-8438-043eae5be50f",
   "metadata": {
    "tags": []
   },
   "source": [
    "### ξ_multipole"
   ]
  },
  {
   "cell_type": "markdown",
   "id": "996916f1-8d65-42aa-8c3d-d1c437dc6e95",
   "metadata": {},
   "source": [
    "```julia\n",
    "ξ_multipole(s1, s, effect::String, cosmo::Cosmology; \n",
    "    L::Integer = 0, kwargs...) ::Float64\n",
    "``` \n",
    "\n",
    "Returns the value of the chosen GR `effect` multipole (of order `L`) calculated in `s1` and a distance `s` from it, in the given Cosmology `cosmo`.\n",
    "\n",
    "As previously explained, you have to set the flag `use_windows = false` if you are not interested in a specific survey, and `use_windows = true` (or not set the flag at all, since `true` is the default value) if you are.\n",
    "\n",
    "Let's calculate the value of the `auto_doppler` effect CF in `s_1 = s_eff` and `s = 50` (all the distances are measured in $h_0^{-1} \\, \\mathrm{Mpc}$):"
   ]
  },
  {
   "cell_type": "code",
   "execution_count": 9,
   "id": "40ebd318-576c-4ced-bece-c42cd4586520",
   "metadata": {},
   "outputs": [
    {
     "data": {
      "text/plain": [
       "1.2864097997132365e-5"
      ]
     },
     "execution_count": 9,
     "metadata": {},
     "output_type": "execute_result"
    }
   ],
   "source": [
    "GaPSE.ξ_multipole(cosmo.s_eff, 50, \"auto_doppler\", cosmo; \n",
    "    L = 0, use_windows = false)"
   ]
  },
  {
   "cell_type": "code",
   "execution_count": 10,
   "id": "fe78344d-5fd7-4559-b45d-ae3c05226ffa",
   "metadata": {},
   "outputs": [
    {
     "data": {
      "text/plain": [
       "0.0004851602553343965"
      ]
     },
     "execution_count": 10,
     "metadata": {},
     "output_type": "execute_result"
    }
   ],
   "source": [
    "GaPSE.ξ_multipole(cosmo.s_eff, 50, \"auto_doppler\", cosmo; \n",
    "    L = 0, use_windows = true)"
   ]
  },
  {
   "cell_type": "code",
   "execution_count": 11,
   "id": "c4fd347a-7a45-4438-b5a8-c34db2083f6a",
   "metadata": {},
   "outputs": [
    {
     "data": {
      "text/plain": [
       "0.0004851602553343965"
      ]
     },
     "execution_count": 11,
     "metadata": {},
     "output_type": "execute_result"
    }
   ],
   "source": [
    "GaPSE.ξ_multipole(cosmo.s_eff, 50, \"auto_doppler\", cosmo; \n",
    "    L = 0)"
   ]
  },
  {
   "cell_type": "markdown",
   "id": "d9698bb2-3398-42a1-a619-63b249a3a38e",
   "metadata": {},
   "source": [
    "And for the next multipoles?"
   ]
  },
  {
   "cell_type": "code",
   "execution_count": 12,
   "id": "6bf65534-2095-497a-9dd2-79176f007408",
   "metadata": {},
   "outputs": [
    {
     "name": "stdout",
     "output_type": "stream",
     "text": [
      "L = 0 :  xi^{Doppler} = 1.2864097997132365e-5\n",
      "L = 1 :  xi^{Doppler} = -1.7586640827874939e-6\n",
      "L = 2 :  xi^{Doppler} = -7.699207418897383e-6\n",
      "L = 3 :  xi^{Doppler} = 1.111506642550366e-6\n",
      "L = 4 :  xi^{Doppler} = -1.4686580852665055e-7\n"
     ]
    }
   ],
   "source": [
    "vec = [GaPSE.ξ_multipole(cosmo.s_eff, 50, \"auto_doppler\", cosmo; \n",
    "    L = L, use_windows = false) for L in 0:4]\n",
    "for (i, r) in enumerate(vec)\n",
    "    println(\"L = $(i-1) :  xi^{Doppler} = $r\")\n",
    "end"
   ]
  },
  {
   "cell_type": "markdown",
   "id": "72674d46-687d-4402-a1b5-13bb8b71e5ee",
   "metadata": {},
   "source": [
    "```\n",
    "\n",
    "```"
   ]
  },
  {
   "cell_type": "markdown",
   "id": "fd833ed6-bc5c-4e4b-816d-fc4eaca312a8",
   "metadata": {},
   "source": [
    "### map_ξ_multipole"
   ]
  },
  {
   "cell_type": "markdown",
   "id": "2c5b606e-9647-4ddb-9764-d9f34c1e5c90",
   "metadata": {},
   "source": [
    "```julia\n",
    "map_ξ_multipole(cosmo::Cosmology, effect::String,\n",
    "    v_ss::Union{Vector{Float64},Nothing} = nothing; \n",
    "    s_1 = nothing, L::Integer = 0, \n",
    "    kwargs...) ::Tuple{Vector{Float64}, Vector{Float64}}\n",
    "```\n",
    "\n",
    "For an input vector of distances `v_ss`, return a tuple with\n",
    "- `v_ss` itself as first element\n",
    "- the vector of values of the chosen GR `effect` multipole (of order `L`) calculated in `s_1` for all the distances `s` contained in the vector `v_ss` (in the given Cosmology `cosmo`) as second element\n",
    "\n",
    "If, as by default, `v_ss = nothing`, it is interally set `v_ss = 10 .^ range(-1, 3, length=1000)`; this is why it is returned `v_ss`.\n",
    "\n",
    "Likewise, if `s_1 = nothing` (as by default), it is internally set `s_1 = cosmo.s_eff`."
   ]
  },
  {
   "cell_type": "markdown",
   "id": "360caca7-9283-4219-9361-d15ae97112da",
   "metadata": {},
   "source": [
    "For instance, we might calculate the `auto_doppler` effect monopole CF in a linearly spaced set of points `range(1, 1000, length=300)`, both with and without window functions:"
   ]
  },
  {
   "cell_type": "code",
   "execution_count": 13,
   "id": "fbd74025-49d6-4ae1-8854-e6ea4f3c4f3b",
   "metadata": {},
   "outputs": [
    {
     "name": "stderr",
     "output_type": "stream",
     "text": [
      "\u001b[32mauto_doppler, L=0: 100%|████████████████████████████████| Time: 0:00:01\u001b[39m\n",
      "\u001b[32mauto_doppler, L=0: 100%|████████████████████████████████| Time: 0:00:00\u001b[39m\n"
     ]
    },
    {
     "name": "stdout",
     "output_type": "stream",
     "text": [
      "\n",
      "time needed for map_integral_on_mu for auto_doppler [in s] = 1.06400 \n",
      "\n",
      "time needed for map_integral_on_mu for auto_doppler [in s] = 0.45028 \n"
     ]
    },
    {
     "data": {
      "image/png": "[encoded data removed]"
     },
     "execution_count": 13,
     "metadata": {},
     "output_type": "execute_result"
    },
    {
     "name": "stderr",
     "output_type": "stream",
     "text": [
      "┌ Warning: `vendor()` is deprecated, use `BLAS.get_config()` and inspect the output instead\n",
      "│   caller = npyinitialize() at numpy.jl:67\n",
      "└ @ PyCall /Users/matteofoglieni/.julia/packages/PyCall/3fwVL/src/numpy.jl:67\n"
     ]
    }
   ],
   "source": [
    "XS = range(1, 1000, length = 300)\n",
    "xs1, ys1 = GaPSE.map_ξ_multipole(cosmo, \"auto_doppler\", XS; use_windows = false)\n",
    "xs2, ys2 = GaPSE.map_ξ_multipole(cosmo, \"auto_doppler\", XS; use_windows = true)\n",
    "\n",
    "\n",
    "pyplot()\n",
    "plot(xs1, ys1 .* xs1 .^2,\n",
    "    #xaxis=:log, #yaxis=:log, \n",
    "    lc=:red, ls=:solid, size=(500, 300),\n",
    "    title=\"auto_doppler TPCF\", label = \"no F\",\n",
    "    ylabel=L\"s^2 \\; \\xi^{v_{\\parallel} \\, v_{\\parallel}}_{L=0}(s)\",\n",
    "    xlabel=L\"s \\quad [h_0^{-1}\\,\\mathrm{Mpc}]\",\n",
    "    legend = :topright,\n",
    ")\n",
    "plot!(xs2, ys2 .* xs2 .^2,\n",
    "    #xaxis=:log, #yaxis=:log, \n",
    "    lc=:blue, ls=:solid, size=(500, 300), label = \"with F\",\n",
    "    ylabel=L\"s^2 \\; \\xi^{v_{\\parallel} \\, v_{\\parallel}}_{L=0}(s)\",\n",
    "    xlabel=L\"s \\quad [h_0^{-1}\\,\\mathrm{Mpc}]\",\n",
    ")"
   ]
  },
  {
   "cell_type": "markdown",
   "id": "cf72aa1a-806c-4245-b3d2-90401799b4f9",
   "metadata": {},
   "source": [
    "What if instead we are not interested in a survey and so the default `s_1 = s_eff` is useless? Simply we set `s_1` to the value we are interested in! Supposing `s_1 = 400`, let's compare this one with the previous one without windows: "
   ]
  },
  {
   "cell_type": "code",
   "execution_count": 14,
   "id": "59564d70-e492-4817-9a9f-2b53f0b8dcf6",
   "metadata": {},
   "outputs": [
    {
     "name": "stderr",
     "output_type": "stream",
     "text": [
      "\u001b[32mauto_doppler, L=0: 100%|████████████████████████████████| Time: 0:00:00\u001b[39m\n",
      "\u001b[32mauto_doppler, L=0: 100%|████████████████████████████████| Time: 0:00:00\u001b[39m\n"
     ]
    },
    {
     "name": "stdout",
     "output_type": "stream",
     "text": [
      "\n",
      "time needed for map_integral_on_mu for auto_doppler [in s] = 0.15510 \n",
      "\n",
      "time needed for map_integral_on_mu for auto_doppler [in s] = 0.62983 \n"
     ]
    },
    {
     "data": {
      "image/png": "[encoded data removed]"
     },
     "execution_count": 14,
     "metadata": {},
     "output_type": "execute_result"
    }
   ],
   "source": [
    "XS = range(1, 1000, length = 300)\n",
    "xs1, ys1 = GaPSE.map_ξ_multipole(cosmo, \"auto_doppler\", XS; use_windows = false)\n",
    "xs2, ys2 = GaPSE.map_ξ_multipole(cosmo, \"auto_doppler\", XS; \n",
    "    s_1 = 400, use_windows = false)\n",
    "\n",
    "\n",
    "pyplot()\n",
    "plot(xs1, ys1 .* xs1 .^2,\n",
    "    #xaxis=:log, #yaxis=:log, \n",
    "    lc=:red, ls=:solid, size=(500, 300),\n",
    "    title=\"auto_doppler TPCF\", label = \"s_1 = s_eff\",\n",
    "    ylabel=L\"s^2 \\; \\xi^{v_{\\parallel} \\, v_{\\parallel}}_{L=0}(s)\",\n",
    "    xlabel=L\"s \\quad [h_0^{-1}\\,\\mathrm{Mpc}]\",\n",
    "    legend = :topright,\n",
    ")\n",
    "plot!(xs2, ys2 .* xs2 .^2,\n",
    "    #xaxis=:log, #yaxis=:log, \n",
    "    lc=:blue, ls=:solid, size=(500, 300), label = \"s_1 = 400\",\n",
    "    ylabel=L\"s^2 \\; \\xi^{v_{\\parallel} \\, v_{\\parallel}}_{L=0}(s)\",\n",
    "    xlabel=L\"s \\quad [h_0^{-1}\\,\\mathrm{Mpc}]\",\n",
    ")"
   ]
  },
  {
   "cell_type": "markdown",
   "id": "ecbd5e26-aa20-448f-be11-86d02b713f9d",
   "metadata": {},
   "source": [
    "```\n",
    "\n",
    "\n",
    "\n",
    "```"
   ]
  },
  {
   "cell_type": "markdown",
   "id": "4683b1e9-f56c-484f-9a9f-7797a1ccd47b",
   "metadata": {},
   "source": [
    "### print_map_ξ_multipole"
   ]
  },
  {
   "cell_type": "markdown",
   "id": "a61b90be-de91-4d34-996e-6d31d92a0bd3",
   "metadata": {},
   "source": [
    "```julia\n",
    "print_map_ξ_multipole(cosmo::Cosmology, out::String, \n",
    "    effect::Union{String,Function}, v_ss = nothing;\n",
    "    s_1 = nothing, kwargs...)\n",
    "```"
   ]
  },
  {
   "cell_type": "markdown",
   "id": "205b0a17-7b49-4a47-b199-6541fcf3bbb5",
   "metadata": {},
   "source": [
    "Same as `map_ξ_multipole`, but the two resulting vectors are printed in the file `out`, together with all the options used for their computations."
   ]
  },
  {
   "cell_type": "markdown",
   "id": "0d687a97-386f-4e3c-8cb4-53ac3a60aac0",
   "metadata": {},
   "source": [
    "For instance, let's print on a file named `my_first_doppler.txt` the `auto_doppler`TPCF monopole, calculated in the vector of values `ss = 10 .^ range(0, 3, length = 1000)`."
   ]
  },
  {
   "cell_type": "code",
   "execution_count": 15,
   "id": "65c82a02-4901-49fd-abd7-9db2db6dbcdb",
   "metadata": {},
   "outputs": [
    {
     "name": "stderr",
     "output_type": "stream",
     "text": [
      "\u001b[32mauto_doppler, L=0: 100%|████████████████████████████████| Time: 0:00:00\u001b[39m\n"
     ]
    },
    {
     "name": "stdout",
     "output_type": "stream",
     "text": [
      "\n",
      "time needed for map_integral_on_mu for auto_doppler [in s] = 0.11741 \n"
     ]
    }
   ],
   "source": [
    "GaPSE.print_map_ξ_multipole(cosmo, \"my_first_doppler.txt\", \"auto_doppler\", \n",
    "    10 .^ range(0, 3, length = 1000); L = 0, use_windows = false)"
   ]
  },
  {
   "cell_type": "markdown",
   "id": "4d6077b4-9c76-444b-8093-164f78c469a1",
   "metadata": {},
   "source": [
    "Here we plot the result:"
   ]
  },
  {
   "cell_type": "code",
   "execution_count": 17,
   "id": "aa3c683e-7dd5-42ef-8209-d100ae985280",
   "metadata": {},
   "outputs": [
    {
     "data": {
      "image/png": "[encoded data removed]"
     },
     "execution_count": 17,
     "metadata": {},
     "output_type": "execute_result"
    }
   ],
   "source": [
    "table = readdlm(\"my_first_doppler.txt\", comments=true)\n",
    "xs = convert(Vector{Float64}, table[:,1])\n",
    "ys = convert(Vector{Float64}, table[:,2])\n",
    "\n",
    "pyplot()\n",
    "plot(xs, ys .* xs .^2,\n",
    "    #xaxis=:log, #yaxis=:log, \n",
    "    lc=:red, ls=:solid,size=(500, 300),\n",
    "    title=\"auto_doppler TPCF\",\n",
    "    ylabel=L\"s^2 \\; \\xi^{v_{\\parallel} \\, v_{\\parallel}}_{L=0}(s)\",\n",
    "    xlabel=L\"s \\quad [h_0^{-1}\\,\\mathrm{Mpc}]\",\n",
    "    legend=false,\n",
    ")"
   ]
  },
  {
   "cell_type": "code",
   "execution_count": null,
   "id": "1d9e4f25-89e7-43a7-990c-e7a0dd5066e2",
   "metadata": {},
   "outputs": [],
   "source": []
  }
 ],
 "metadata": {
  "kernelspec": {
   "display_name": "Julia 1.7.2",
   "language": "julia",
   "name": "julia-1.7"
  },
  "language_info": {
   "file_extension": ".jl",
   "mimetype": "application/julia",
   "name": "julia",
   "version": "1.7.2"
  },
  "toc-autonumbering": true
 },
 "nbformat": 4,
 "nbformat_minor": 5
}
