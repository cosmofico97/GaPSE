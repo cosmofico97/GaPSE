{
 "cells": [
  {
   "cell_type": "markdown",
   "id": "b5087e3c-81f1-47db-8a30-00b7803dc643",
   "metadata": {},
   "source": [
    "# GaPSE TUTORIAL"
   ]
  },
  {
   "cell_type": "markdown",
   "id": "97147094-5e51-497c-81e8-b63cac7e465a",
   "metadata": {},
   "source": [
    "This is a small tour of the Galaxy Power Spectrum Estimator software."
   ]
  },
  {
   "cell_type": "code",
   "execution_count": null,
   "id": "2980e208-f08c-43b7-8cc1-26cb0998976c",
   "metadata": {},
   "outputs": [],
   "source": []
  }
 ],
 "metadata": {
  "kernelspec": {
   "display_name": "Julia 1.7.2",
   "language": "julia",
   "name": "julia-1.7"
  },
  "language_info": {
   "file_extension": ".jl",
   "mimetype": "application/julia",
   "name": "julia",
   "version": "1.7.2"
  }
 },
 "nbformat": 4,
 "nbformat_minor": 5
}
