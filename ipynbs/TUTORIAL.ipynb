{
 "cells": [
  {
   "cell_type": "markdown",
   "id": "d21f745a-823d-42e4-909f-a6d8e56c4f02",
   "metadata": {
    "jp-MarkdownHeadingCollapsed": true,
    "tags": []
   },
   "source": [
    "This file is part of GaPSE\n",
    "Copyright (C) 2022 Matteo Foglieni\n",
    "\n",
    "GaPSE is free software: you can redistribute it and/or modify\n",
    "it under the terms of the GNU General Public License as published by\n",
    "the Free Software Foundation, either version 3 of the License, or\n",
    "(at your option) any later version.\n",
    "\n",
    "GaPSE is distributed in the hope that it will be useful, but\n",
    "WITHOUT ANY WARRANTY; without even the implied warranty of\n",
    "MERCHANTABILITY or FITNESS FOR A PARTICULAR PURPOSE. See the GNU\n",
    "General Public License for more details.\n",
    "\n",
    "You should have received a copy of the GNU General Public License\n",
    "along with GaPSE. If not, see <http://www.gnu.org/licenses/>.\n",
    "```\n",
    "\n",
    "\n",
    "```"
   ]
  },
  {
   "cell_type": "markdown",
   "id": "b5087e3c-81f1-47db-8a30-00b7803dc643",
   "metadata": {},
   "source": [
    "# GaPSE TUTORIAL"
   ]
  },
  {
   "cell_type": "markdown",
   "id": "97147094-5e51-497c-81e8-b63cac7e465a",
   "metadata": {},
   "source": [
    "This is a small tour of the Galaxy Power Spectrum Estimator software. It shows\n",
    "how the program can be easily used inside a Jupyter Notebook.\n",
    "\n",
    "However, if you prefer, you can also write the commands you are interested to execute inside the file \"GaPSE-exe.jl\", and then run in the command line\n",
    "\n",
    "```\n",
    "$ julia GaPSE-exe.jl\n",
    "```\n",
    "\n",
    "Furthermore, almost all the functions implemented inside GaPSE have a detailed documentation; feel free to check it whenever you want with the usual Julia command `?NAME` (where `NAME` is the name of the function/object you are interested in)."
   ]
  },
  {
   "cell_type": "markdown",
   "id": "eb165808-2632-47a6-9ce0-fec5d96a5bc2",
   "metadata": {
    "tags": []
   },
   "source": [
    "## Path to GaPSE"
   ]
  },
  {
   "cell_type": "markdown",
   "id": "b883a7cf-1808-4fbe-b57a-e7e97e133440",
   "metadata": {},
   "source": [
    "First of all, we have to include GaPSE in our Jupyter Notebook:"
   ]
  },
  {
   "cell_type": "code",
   "execution_count": 1,
   "id": "2980e208-f08c-43b7-8cc1-26cb0998976c",
   "metadata": {},
   "outputs": [],
   "source": [
    "# In case you prefer to use GaPSE in a Jupyter Notebook in a \"distant\" directory,\n",
    "# you only have to set this path equal to the directory GaPSE is stored in.\n",
    "PATH_TO_GAPSE = \"../\"; "
   ]
  },
  {
   "cell_type": "code",
   "execution_count": 2,
   "id": "51ea1fd8-8970-48fb-8eee-6bc2f4cc4fa8",
   "metadata": {},
   "outputs": [],
   "source": [
    "include(PATH_TO_GAPSE * \"src/GaPSE.jl\");\n",
    "# NOTE : do not run this cell multiple times! In you have a problem, restart\n",
    "# the kernel an re-run all the cells."
   ]
  },
  {
   "cell_type": "code",
   "execution_count": 3,
   "id": "235f6017-56a7-490a-83ef-f3e7d0af8177",
   "metadata": {},
   "outputs": [],
   "source": [
    "using DelimitedFiles, Plots, Printf, LaTeXStrings \n",
    "# These are useful libraries for plots and reading files, but they are not\n",
    "# mandatory in order to run the code"
   ]
  },
  {
   "cell_type": "markdown",
   "id": "a56d670e-1e60-4fd6-8bf8-3bf04a66379b",
   "metadata": {},
   "source": [
    "```\n",
    "\n",
    "\n",
    "\n",
    "\n",
    "```"
   ]
  },
  {
   "cell_type": "markdown",
   "id": "ea037d96-ed1f-4428-92f9-0ae2e86fe343",
   "metadata": {
    "tags": []
   },
   "source": [
    "## Creation of a Cosmology "
   ]
  },
  {
   "cell_type": "markdown",
   "id": "f6e27497-5413-4b46-a254-e30b11aabfc6",
   "metadata": {},
   "source": [
    "The fundamental struct of GaPSE is `Cosmology`; it contains all the \n",
    "relevant information for future computations.\n",
    "\n",
    "Let's have a look at the `Cosmology` constructor:\n",
    "\n",
    "```julia\n",
    "Cosmology(params::CosmoParams, file_data::String, file_ips::String,\n",
    "    file_windowF::String)\n",
    "```\n",
    "\n",
    "\n",
    "As we can see, in order to create such a struct, we must give a `CosmoParams` struct (we will see it later) and 3 input files:\n",
    "- `file_data` : the file containing the background data for the Universe considered;\n",
    "- `file_ips` : the file containing the matter power spectrum we are focused on;\n",
    "- `file_windowF` : the file containing a map on μ and x of the window function F (use the default one initially, provided inside GaPSE directory `data/`);\n",
    "  \n",
    "The first two files should be produced by the [CLASS](https://github.com/lesgourg/class_public) software. As an example, we take the two stored inside `data/`:"
   ]
  },
  {
   "cell_type": "code",
   "execution_count": 4,
   "id": "584584e3-54c2-4e32-a9db-6f85d92afa01",
   "metadata": {},
   "outputs": [],
   "source": [
    "FILE_PS = PATH_TO_GAPSE * \"data/WideA_ZA_pk.dat\";\n",
    "FILE_BACKGROUND = PATH_TO_GAPSE * \"data/WideA_ZA_background.dat\";\n",
    "FILE_F_MAP = PATH_TO_GAPSE * \"data/F_REFERENCE.txt\";"
   ]
  },
  {
   "cell_type": "markdown",
   "id": "f18e7554-a2b2-4841-a811-1ba06215b028",
   "metadata": {},
   "source": [
    "Now we have to set the dimensions of the survey we are considering. \n",
    "\n",
    "GaPSE assumes for the survey volume an azimutally simmetric one, contained inside two concentric spheres (with radius specified by the input minimum and maximum redshifts `z_min` and `z_max`) and with angular extensions `2 θ_max` (so `θ_max` is the angle between the central axis and the edge). The extreme redshifts are internally translated into extreme comoving distances $s_\\mathrm{min}$ and $s_\\mathrm{max}$.\n",
    "\n",
    "Here we show a orthogonal projection on the plane containing the three points $O$ (the observer), $\\mathbf{s}_\\mathrm{min}$ and $\\mathbf{s}_\\mathrm{max}$."
   ]
  },
  {
   "cell_type": "markdown",
   "id": "9c223266-104e-490a-abf2-96bfffd32708",
   "metadata": {},
   "source": [
    "<img src=\"images/survey.png\" style=\"width: 400px;\">"
   ]
  },
  {
   "cell_type": "markdown",
   "id": "8f5ffbb4-4fff-4d71-8302-d844e168dc92",
   "metadata": {},
   "source": [
    "We also show the comoving effective distance $s_\\mathrm{eff}$, which is the counterpart of the effective redshift $z_\\mathrm{eff}$ calculated as follows:\n",
    "\n",
    "$$\n",
    "\\begin{split}\n",
    "z_\\mathrm{eff} := \n",
    "    \\frac{\n",
    "        \\int \\mathrm{d}^3\\mathbf{s} \\, \\phi^2(\\mathbf{s}) \\, z(s)\n",
    "     }{\n",
    "         \\int \\mathrm{d}^3\\mathbf{s}\\, \\phi^2(\\mathbf{s}) \n",
    "      } &= \\frac{\n",
    "          \\int_0^\\infty \\mathrm{d}s  \\, s^2 \\, \\phi^2(s) \\, z(s) \\times\n",
    "          \\int_{4\\pi}\\mathrm{d}^2\\hat{\\mathbf{s}} \\, W^2(\\hat{\\mathbf{s}})\n",
    "      }{\n",
    "          \\int_0^\\infty \\mathrm{d}s \\, s^2 \\, \\phi^2(s)\\times\n",
    "          \\int_{4\\pi}\\mathrm{d}^2\\hat{\\mathbf{s}} \\, W^2(\\hat{\\mathbf{s}})\n",
    "      } \\\\[5pt]\n",
    "      &= \\frac{\n",
    "          \\int_0^\\infty \\mathrm{d}s  \\, s^2 \\, \\phi^2(s) \\, z(s)\n",
    "      }{\n",
    "          \\int_0^\\infty \\mathrm{d}s \\, s^2 \\, \\phi^2(s)\n",
    "      } \\\\[4pt]\n",
    "      &= \\frac{3}{s_\\mathrm{max}^3 - s_\\mathrm{min}^3} \\,\n",
    "          \\int_{s_\\mathrm{min}}^{s_\\mathrm{max}} \\mathrm{d}s  \\, s^2 \\, z(s)\n",
    "\\end{split}\n",
    "$$\n",
    "\n",
    "where $\\phi(s)$ and $W(\\hat{s})$ are respectivelly the radial and angulal window functions; it is assumed that the survey window function $\\phi(\\mathbf{s})$ can be separated into a radial and angular part:\n",
    "\n",
    "$$\n",
    "\\phi(\\mathbf{s}) = \\phi(s) \\, W(\\hat{s})\n",
    "$$\n",
    "\n",
    "$$ \\phi(s, s_\\mathrm{min}, s_\\mathrm{max}) = \n",
    "    \\begin{cases} 1 \\quad s_\\mathrm{min} < s < s_\\mathrm{max} \\\\ 0 \\quad \\mathrm{otherwise}\\end{cases} $$\n",
    "    \n",
    " $$ W(\\hat{s}, \\theta_\\mathrm{MAX}) = \n",
    "    \\begin{cases} 1 \\quad 0 \\leq \\theta < \\theta_\\mathrm{MAX} \\\\ 0 \\quad \\mathrm{otherwise}\\end{cases} $$"
   ]
  },
  {
   "cell_type": "markdown",
   "id": "47b719a9-a083-4736-a6f5-48fedcfe1d41",
   "metadata": {},
   "source": [
    "If you are not interested in a specific survey, but only in the \"true\" TPCF of the Universe considered, do not worry: let the default values for these fields, in the functions we are going to show you will only have \n",
    "to set `use_window = false`."
   ]
  },
  {
   "cell_type": "markdown",
   "id": "96eb1ddd-2711-45c4-8e80-e30d1c5781b4",
   "metadata": {},
   "source": [
    "For this demo case, let's set the following survey volume values:"
   ]
  },
  {
   "cell_type": "code",
   "execution_count": 5,
   "id": "f203b147-7ceb-4d1d-9a3e-ff9303197827",
   "metadata": {},
   "outputs": [],
   "source": [
    "z_min, z_max, θ_max = 0.05, 0.20, π / 2.0;"
   ]
  },
  {
   "cell_type": "markdown",
   "id": "f51ec0aa-c583-4025-bf5b-3077feb12ee4",
   "metadata": {},
   "source": [
    "At this point, we have to create the `CosmoParams` struct previously mentioned, that will contains all the options to be passed to `Cosmology`.\n",
    "Beyond the already mentioned `z_min`, `z_max` and `θ_max` (which are mandatory), you may choose to specify:\n",
    "- `Ω_b::Float64` and `Ω_cdm::Float64` : barionic and cold-dark-matter density parameters\n",
    "\n",
    "- `h_0::Float64` : today's Hubble adimensional parameter ($H_0 = h_0 \\times 100 \\; \\mathrm{km}/(\\mathrm{s}  \\, \\mathrm{Mpc})$).\n",
    "\n",
    "- many others; if you are interested, check the documentation of `CosmoParams`.\n",
    "\n",
    "Here we provided the full list of them, with all their default values."
   ]
  },
  {
   "cell_type": "code",
   "execution_count": 6,
   "id": "6ae90cb6-962e-42d9-90ed-14c51084f2b4",
   "metadata": {},
   "outputs": [],
   "source": [
    "params = GaPSE.CosmoParams(z_min, z_max, θ_max;\n",
    "    Ω_b = 0.0489, Ω_cdm = 0.251020, h_0 = 0.70, s_lim=1e-2,\n",
    "    IPS_opts = Dict(\n",
    "        :fit_left_min => 1e-6, :fit_left_max => 3e-6,\n",
    "        :fit_right_min => 1e1, :fit_right_max => 2e1),\n",
    "    IPSTools_opts = Dict(\n",
    "        :N => 1024, :fit_min => 0.05, :fit_max => 0.5, \n",
    "        :con => true, :k_min => 1e-8, :k_max => 10.0),\n",
    ");"
   ]
  },
  {
   "cell_type": "markdown",
   "id": "4ddca822-ce61-4c8f-b86e-8ae21be6ab22",
   "metadata": {},
   "source": [
    "Finally, we can create the `Cosmology` (let's call it `cosmo`) with all the inputs specified before!\n",
    "We also print on the screen all the options stored by that `Cosmology` itself, in order to be sure that everything is okay, through the function `parameters_used`."
   ]
  },
  {
   "cell_type": "code",
   "execution_count": 7,
   "id": "b2a9e45c-db1b-4401-9cac-f9cc77ad9128",
   "metadata": {},
   "outputs": [
    {
     "name": "stdout",
     "output_type": "stream",
     "text": [
      "###############\n",
      "#    GaPSE    #\n",
      "############### \n",
      "#\n",
      "# The Cosmology considered had the following paremeters:\n",
      "# \n",
      "# - Matter Power Spectrum input file: \"../data/WideA_ZA_pk.dat\"\n",
      "# - F window function input file: \"../data/F_REFERENCE.txt\"\n",
      "# - Background data input file: \"../data/WideA_ZA_background.dat\"\n",
      "#\n",
      "# - Basic CosmoParams considered: \n",
      "#\t z_min = 0.05 \t z_max = 0.2\n",
      "#\t θ_max = 1.5707963267948966 [rad] \t h_0 = 0.7\n",
      "#\t Ω_b = 0.0489 \t Ω_cdm = 0.25102 \t Ω_M0 = 0.29992\n",
      "#\n",
      "# - CosmoParams about the Input Power Spectrum: \n",
      "#\t fit_left_min = 1.0e-6 \t fit_right_min = 10.0 \t \n",
      "#\t fit_left_max = 3.0e-6 \t fit_right_max = 20.0 \t \n",
      "#\n",
      "# - CosmoParams about the Input Power Spectrum Tools: \n",
      "#\t k_max = 10.0 \t fit_max = 0.5 \t N = 1024 \t \n",
      "#\t con = true \t k_min = 1.0e-8 \t fit_min = 0.05 \t \n",
      "#\n",
      "# - Computed quantities: \n",
      "# \t effective redshift z_eff = 0.15045636096023224 \n",
      "# \t comoving s_min = 148.1920001465757 Mpc/h_0\n",
      "# \t comoving s_max = 571.7022420258767 Mpc/h_0\n",
      "# \t comoving s_eff = 435.3747095690664 Mpc/h_0\n",
      "# \t Volume of the survey V_survey = 3.845366167995967e8 Mpc^3/h_0^3\n",
      "# \t σ_0 = 18.584280735797098\n",
      "# \t σ_1 = 15.75556280411702\n",
      "# \t σ_2 = 101.0636221421908\n",
      "# \t σ_3 = 3735.2017336197055\n",
      "# \t (where σ_i = \\int_{k_{min}}^{k_{max}}\\frac{dq}{2 π^2} q^{2-i} P(q))\n",
      "# \n"
     ]
    }
   ],
   "source": [
    "cosmo = GaPSE.Cosmology(params, FILE_BACKGROUND, FILE_PS, FILE_F_MAP);\n",
    "\n",
    "GaPSE.parameters_used(stdout, cosmo);"
   ]
  },
  {
   "cell_type": "markdown",
   "id": "9b8970e6-e2f9-4a5b-b7e6-e48b46a00c8e",
   "metadata": {},
   "source": [
    "Now we are ready to calculate the TPCF and/or PS associated with each of the GR effects for this Universe!"
   ]
  },
  {
   "cell_type": "markdown",
   "id": "2980903b-2d2c-44b5-b493-acd42c3d76df",
   "metadata": {},
   "source": [
    "```\n",
    "\n",
    "\n",
    "\n",
    "\n",
    "```"
   ]
  },
  {
   "cell_type": "markdown",
   "id": "110238a5-9c82-4df7-a7ac-ae5b8102010d",
   "metadata": {},
   "source": [
    "## TPCF of a single effect"
   ]
  },
  {
   "cell_type": "markdown",
   "id": "e975ba69-f023-4b6f-839d-dd5f9e1654e3",
   "metadata": {},
   "source": [
    "The GR effects currently implemented are 4: Doppler, Lensing, Local GP and Integrated GP (where GP stands for Gravitational Potential).\n",
    "\n",
    "Consequently, the Two-Point Correlation Functions associated are 16 (4 are auto-correlations, and 12 the cross-ones; note that they are not simmetric, so for instance Lensing-Doppler is different from Doppler-Lensing)."
   ]
  },
  {
   "cell_type": "markdown",
   "id": "04ccb5a4-4f94-41ee-af02-acb991e97448",
   "metadata": {},
   "source": [
    "Their names are, with obvious associations, the ones contained inside the\n",
    "`GaPSE.IMPLEMENTED_GR_EFFECTS` vector:"
   ]
  },
  {
   "cell_type": "code",
   "execution_count": 8,
   "id": "ea2e33f6-e462-4246-ab62-2bac982dd0a5",
   "metadata": {},
   "outputs": [
    {
     "data": {
      "text/plain": [
       "16-element Vector{String}:\n",
       " \"auto_doppler\"\n",
       " \"auto_lensing\"\n",
       " \"auto_localgp\"\n",
       " \"auto_integratedgp\"\n",
       " \"lensing_doppler\"\n",
       " \"doppler_lensing\"\n",
       " \"doppler_localgp\"\n",
       " \"localgp_doppler\"\n",
       " \"doppler_integratedgp\"\n",
       " \"integratedgp_doppler\"\n",
       " \"lensing_localgp\"\n",
       " \"localgp_lensing\"\n",
       " \"lensing_integratedgp\"\n",
       " \"integratedgp_lensing\"\n",
       " \"localgp_integratedgp\"\n",
       " \"integratedgp_localgp\""
      ]
     },
     "execution_count": 8,
     "metadata": {},
     "output_type": "execute_result"
    }
   ],
   "source": [
    "GaPSE.IMPLEMENTED_GR_EFFECTS "
   ]
  },
  {
   "cell_type": "markdown",
   "id": "cfbb1e3f-d9b5-4fc4-8b95-fa629bb06c33",
   "metadata": {},
   "source": [
    "As a first example, we will focus on the Doppler auto-correlation function, identified by the name `auto_doppler`.\n",
    "\n",
    "How we may calculate the value of such TPCF, for the considered Cosmology `cosmo`?\n",
    "GaPSE provides three functions:\n",
    "\n",
    "- `ξ_multipole`\n",
    "- `map_ξ_multipole`\n",
    "- `print_map_ξ_multipole`\n",
    "\n",
    "The frame of reference you have to keep in mind is the following:"
   ]
  },
  {
   "cell_type": "markdown",
   "id": "40005898-af3a-498e-9128-3c961ff16c97",
   "metadata": {},
   "source": [
    "<table><tr>\n",
    "<td> <img src=\"images/s1s2.png\" alt=\"Drawing\" style=\"width: 250px;\"/> </td>\n",
    "<td> <img src=\"images/s1s2_inside_survey.png\" alt=\"Drawing\" style=\"width: 350px;\"/> </td>\n",
    "</tr></table>"
   ]
  },
  {
   "cell_type": "markdown",
   "id": "c5e2415b-e2b4-4120-8a9b-851569ac0e02",
   "metadata": {},
   "source": [
    "GaPSE assumes (unless differently specified) that $\\mathbf{s}_1$ is on the $s_\\mathrm{eff}$ sphere (and so $s_1 = s_\\mathrm{eff}$). The second input $s$ is the comoving distance from $s_1$, as you can see from the sketch.\n",
    "\n",
    "These are the transformations concerning the two coordinate systems:\n",
    "\n",
    "$$\n",
    "y = \\cos \\theta = \\hat{\\mathbf{s}}_1 \\cdot  \\hat{\\mathbf{s}}_2 \n",
    "\\quad , \\quad\n",
    "\\mu = \\cos \\phi = \\hat{\\mathbf{s}}_1 \\cdot  \\hat{\\mathbf{s}}\n",
    "$$\n",
    "\n",
    "$$\n",
    "s(s_1, s_2, y) = \\sqrt{s_1^2 + s_2^2 - 2 \\, s_1 \\, s_2 \\, y}\n",
    "\\quad , \\quad\n",
    "s_2(s_1, s, \\mu) = \\sqrt{s_1^2 + s^2 + 2 \\, s_1 \\, s \\, \\mu}\n",
    "$$\n",
    "\n",
    "$$\n",
    "\\mu(s_1, s_2, y) = \\frac{y \\, s_2 - s_1}{s(s_1, s_2, y)}\n",
    "\\quad , \\quad\n",
    "y(s_1, s, \\mu) = \\frac{\\mu \\, s + s_1}{s_2(s_1, s, \\mu)} \n",
    "$$"
   ]
  },
  {
   "cell_type": "markdown",
   "id": "19020bfb-1cd5-4272-bbca-751f6743007b",
   "metadata": {},
   "source": [
    "```\n",
    "\n",
    "\n",
    "```"
   ]
  },
  {
   "cell_type": "markdown",
   "id": "c7f42c01-7680-4c92-8438-043eae5be50f",
   "metadata": {
    "tags": []
   },
   "source": [
    "### ξ_multipole"
   ]
  },
  {
   "cell_type": "markdown",
   "id": "996916f1-8d65-42aa-8c3d-d1c437dc6e95",
   "metadata": {},
   "source": [
    "```julia\n",
    "ξ_multipole(s1, s, effect::String, cosmo::Cosmology; \n",
    "    L::Integer = 0, kwargs...) ::Float64\n",
    "``` \n",
    "\n",
    "Returns the value of the chosen GR `effect` multipole (of order `L`) calculated in `s1` and a distance `s` from it, in the given Cosmology `cosmo`.\n",
    "\n",
    "As previously explained, you have to set the flag `use_windows = false` if you are not interested in a specific survey, and `use_windows = true` (or not set the flag at all, since `true` is the default value) if you are.\n",
    "\n",
    "Let's calculate the value of the `auto_doppler` effect CF in `s_1 = s_eff` and `s = 50` (all the distances are measured in $h_0^{-1} \\, \\mathrm{Mpc}$), both with and without window function. You may try to change the `s` value to another one you prefer.\n",
    "\n",
    "NOTE: GaPSE is conceived for computation on large scales; at the moment, the values for small comoving distance `s` (under few $h_0^{-1}\\,\\mathrm{Mpc}$) are not correct, especially for high order multipoles (`L=1,2,...`)"
   ]
  },
  {
   "cell_type": "code",
   "execution_count": 9,
   "id": "40ebd318-576c-4ced-bece-c42cd4586520",
   "metadata": {},
   "outputs": [
    {
     "data": {
      "text/plain": [
       "1.2864097997132365e-5"
      ]
     },
     "execution_count": 9,
     "metadata": {},
     "output_type": "execute_result"
    }
   ],
   "source": [
    "GaPSE.ξ_multipole(cosmo.s_eff, 50, \"auto_doppler\", cosmo; \n",
    "    L = 0, use_windows = false)"
   ]
  },
  {
   "cell_type": "code",
   "execution_count": 10,
   "id": "fe78344d-5fd7-4559-b45d-ae3c05226ffa",
   "metadata": {},
   "outputs": [
    {
     "data": {
      "text/plain": [
       "0.0004851602553343965"
      ]
     },
     "execution_count": 10,
     "metadata": {},
     "output_type": "execute_result"
    }
   ],
   "source": [
    "GaPSE.ξ_multipole(cosmo.s_eff, 50, \"auto_doppler\", cosmo; \n",
    "    L = 0, use_windows = true)"
   ]
  },
  {
   "cell_type": "code",
   "execution_count": 11,
   "id": "c4fd347a-7a45-4438-b5a8-c34db2083f6a",
   "metadata": {},
   "outputs": [
    {
     "data": {
      "text/plain": [
       "0.0004851602553343965"
      ]
     },
     "execution_count": 11,
     "metadata": {},
     "output_type": "execute_result"
    }
   ],
   "source": [
    "GaPSE.ξ_multipole(cosmo.s_eff, 50, \"auto_doppler\", cosmo; \n",
    "    L = 0)"
   ]
  },
  {
   "cell_type": "markdown",
   "id": "eebd0861-d122-4162-823a-78c1fffee5bf",
   "metadata": {},
   "source": [
    "NOTE: it would appear natural, in the Julia language, to use the broadcast operator and/or comprehension lists in order to calculate the chosen GR `effect` multipole in `s1` (fixed) for a vector of `s` distances from it `v_ss`, in the given Cosmology `cosmo`. In other words, it may seem straightforward to write:\n",
    "\n",
    "```julia\n",
    "    v_ss = range(1, 1000, length = 100)\n",
    "    res = [GaPSE.ξ_multipole(cosmo.s_eff, s, \"auto_doppler\", cosmo; \n",
    "        L = 0) for s in v_ss]\n",
    "```\n",
    "\n",
    "Do not do it: due to the way the program is build, it is computationally faster\n",
    "and more accurate to use other GaPSE functions (`map_ξ_multipole` and so on, which we will present in the next section)."
   ]
  },
  {
   "cell_type": "markdown",
   "id": "d9698bb2-3398-42a1-a619-63b249a3a38e",
   "metadata": {},
   "source": [
    "And for the next multipoles? Simply set the keyword parameter `L` to the order you need."
   ]
  },
  {
   "cell_type": "code",
   "execution_count": 12,
   "id": "6bf65534-2095-497a-9dd2-79176f007408",
   "metadata": {},
   "outputs": [
    {
     "name": "stdout",
     "output_type": "stream",
     "text": [
      "L = 0 :  xi^{Doppler} = 1.2864097997132365e-5\n",
      "L = 1 :  xi^{Doppler} = -1.7586640827874939e-6\n",
      "L = 2 :  xi^{Doppler} = -7.699207418897386e-6\n",
      "L = 3 :  xi^{Doppler} = 1.1115066425503669e-6\n",
      "L = 4 :  xi^{Doppler} = -1.4686580852665365e-7\n"
     ]
    }
   ],
   "source": [
    "vec = [GaPSE.ξ_multipole(cosmo.s_eff, 50, \"auto_doppler\", cosmo; \n",
    "    L = L, use_windows = false) for L in 0:4]\n",
    "for (i, r) in enumerate(vec)\n",
    "    println(\"L = $(i-1) :  xi^{Doppler} = $r\")\n",
    "end"
   ]
  },
  {
   "cell_type": "markdown",
   "id": "72674d46-687d-4402-a1b5-13bb8b71e5ee",
   "metadata": {},
   "source": [
    "```\n",
    "\n",
    "```"
   ]
  },
  {
   "cell_type": "markdown",
   "id": "fd833ed6-bc5c-4e4b-816d-fc4eaca312a8",
   "metadata": {},
   "source": [
    "### map_ξ_multipole"
   ]
  },
  {
   "cell_type": "markdown",
   "id": "2c5b606e-9647-4ddb-9764-d9f34c1e5c90",
   "metadata": {},
   "source": [
    "```julia\n",
    "map_ξ_multipole(cosmo::Cosmology, effect::String,\n",
    "    v_ss::Union{Vector{Float64},Nothing} = nothing; \n",
    "    s_1 = nothing, L::Integer = 0, \n",
    "    kwargs...) ::Tuple{Vector{Float64}, Vector{Float64}}\n",
    "```\n",
    "\n",
    "For an input vector of distances `v_ss`, return a tuple with\n",
    "- `v_ss` itself as first element\n",
    "- the vector of values of the chosen GR `effect` multipole (of order `L`) calculated in `s_1` for all the distances `s` contained in the vector `v_ss` (in the given Cosmology `cosmo`) as second element\n",
    "\n",
    "If, as by default, `v_ss = nothing`, it is interally set `v_ss = 10 .^ range(-1, 3, length=1000)`; this is why it is returned `v_ss`.\n",
    "\n",
    "Likewise, if `s_1 = nothing` (as by default), it is internally set `s_1 = cosmo.s_eff`."
   ]
  },
  {
   "cell_type": "markdown",
   "id": "360caca7-9283-4219-9361-d15ae97112da",
   "metadata": {},
   "source": [
    "For instance, we might calculate the `auto_doppler` effect monopole CF in a linearly spaced set of points `range(1, 1000, length=300)`, both with and without window functions:"
   ]
  },
  {
   "cell_type": "code",
   "execution_count": 13,
   "id": "fbd74025-49d6-4ae1-8854-e6ea4f3c4f3b",
   "metadata": {},
   "outputs": [
    {
     "name": "stderr",
     "output_type": "stream",
     "text": [
      "\u001b[32mauto_doppler, L=0: 100%|████████████████████████████████| Time: 0:00:00\u001b[39m\n",
      "\u001b[32mauto_doppler, L=0: 100%|████████████████████████████████| Time: 0:00:00\u001b[39m\n"
     ]
    },
    {
     "name": "stdout",
     "output_type": "stream",
     "text": [
      "\n",
      "time needed for map_ξ_multipole for auto_doppler [in s] = 1.01558 \n",
      "\n",
      "time needed for map_ξ_multipole for auto_doppler [in s] = 0.36682 \n"
     ]
    },
    {
     "data": {
      "image/png": "[encoded data removed]"
     },
     "execution_count": 13,
     "metadata": {},
     "output_type": "execute_result"
    },
    {
     "name": "stderr",
     "output_type": "stream",
     "text": [
      "┌ Warning: `vendor()` is deprecated, use `BLAS.get_config()` and inspect the output instead\n",
      "│   caller = npyinitialize() at numpy.jl:67\n",
      "└ @ PyCall /Users/matteofoglieni/.julia/packages/PyCall/3fwVL/src/numpy.jl:67\n"
     ]
    }
   ],
   "source": [
    "XS = range(1, 1000, length = 300)\n",
    "xs1, ys1 = GaPSE.map_ξ_multipole(cosmo, \"auto_doppler\", XS; \n",
    "    use_windows = false);\n",
    "xs2, ys2 = GaPSE.map_ξ_multipole(cosmo, \"auto_doppler\", XS; \n",
    "    use_windows = true);\n",
    "\n",
    "\n",
    "pyplot()\n",
    "plot(xs1, ys1 .* xs1 .^2,\n",
    "    #xaxis=:log, #yaxis=:log, \n",
    "    lc=:red, ls=:solid, size=(500, 300),\n",
    "    title=\"auto_doppler TPCF\", label = \"no F\",\n",
    "    ylabel=L\"s^2 \\; \\xi^{v_{\\parallel} \\, v_{\\parallel}}_{L=0}(s)\",\n",
    "    xlabel=L\"s \\quad [h_0^{-1}\\,\\mathrm{Mpc}]\",\n",
    "    legend = :topright,\n",
    ")\n",
    "plot!(xs2, ys2 .* xs2 .^2,\n",
    "    #xaxis=:log, #yaxis=:log, \n",
    "    lc=:blue, ls=:solid, size=(500, 300), label = \"with F\",\n",
    "    ylabel=L\"s^2 \\; \\xi^{v_{\\parallel} \\, v_{\\parallel}}_{L=0}(s)\",\n",
    "    xlabel=L\"s \\quad [h_0^{-1}\\,\\mathrm{Mpc}]\",\n",
    ")"
   ]
  },
  {
   "cell_type": "markdown",
   "id": "cf72aa1a-806c-4245-b3d2-90401799b4f9",
   "metadata": {},
   "source": [
    "What if instead we are not interested in a survey and so the default `s_1 = s_eff` is useless? Simply we set `s_1` to the value we are interested in! Supposing `s_1 = 400`, let's compare this one with the previous one without windows: "
   ]
  },
  {
   "cell_type": "code",
   "execution_count": 14,
   "id": "59564d70-e492-4817-9a9f-2b53f0b8dcf6",
   "metadata": {},
   "outputs": [
    {
     "name": "stderr",
     "output_type": "stream",
     "text": [
      "\u001b[32mauto_doppler, L=0: 100%|████████████████████████████████| Time: 0:00:00\u001b[39m\n",
      "\u001b[32mauto_doppler, L=0: 100%|████████████████████████████████| Time: 0:00:00\u001b[39m\n"
     ]
    },
    {
     "name": "stdout",
     "output_type": "stream",
     "text": [
      "\n",
      "time needed for map_ξ_multipole for auto_doppler [in s] = 0.17432 \n",
      "\n",
      "time needed for map_ξ_multipole for auto_doppler [in s] = 0.51399 \n"
     ]
    },
    {
     "data": {
      "image/png": "[encoded data removed]"
     },
     "execution_count": 14,
     "metadata": {},
     "output_type": "execute_result"
    }
   ],
   "source": [
    "XS = range(1, 1000, length = 300)\n",
    "xs1, ys1 = GaPSE.map_ξ_multipole(cosmo, \"auto_doppler\", XS; \n",
    "    use_windows = false)\n",
    "xs2, ys2 = GaPSE.map_ξ_multipole(cosmo, \"auto_doppler\", XS; \n",
    "    s_1 = 400, use_windows = false)\n",
    "\n",
    "\n",
    "pyplot()\n",
    "plot(xs1, ys1 .* xs1 .^2,\n",
    "    #xaxis=:log, #yaxis=:log, \n",
    "    lc=:red, ls=:solid, size=(500, 300),\n",
    "    title=\"auto_doppler TPCF\", label = \"s_1 = s_eff\",\n",
    "    ylabel=L\"s^2 \\; \\xi^{v_{\\parallel} \\, v_{\\parallel}}_{L=0}(s)\",\n",
    "    xlabel=L\"s \\quad [h_0^{-1}\\,\\mathrm{Mpc}]\",\n",
    "    legend = :topright,\n",
    ")\n",
    "plot!(xs2, ys2 .* xs2 .^2,\n",
    "    #xaxis=:log, #yaxis=:log, \n",
    "    lc=:blue, ls=:solid, size=(500, 300), label = \"s_1 = 400\",\n",
    "    ylabel=L\"s^2 \\; \\xi^{v_{\\parallel} \\, v_{\\parallel}}_{L=0}(s)\",\n",
    "    xlabel=L\"s \\quad [h_0^{-1}\\,\\mathrm{Mpc}]\",\n",
    ")"
   ]
  },
  {
   "cell_type": "markdown",
   "id": "ecbd5e26-aa20-448f-be11-86d02b713f9d",
   "metadata": {},
   "source": [
    "```\n",
    "\n",
    "\n",
    "\n",
    "```"
   ]
  },
  {
   "cell_type": "markdown",
   "id": "4683b1e9-f56c-484f-9a9f-7797a1ccd47b",
   "metadata": {},
   "source": [
    "### print_map_ξ_multipole"
   ]
  },
  {
   "cell_type": "markdown",
   "id": "a61b90be-de91-4d34-996e-6d31d92a0bd3",
   "metadata": {},
   "source": [
    "```julia\n",
    "print_map_ξ_multipole(cosmo::Cosmology, out::String, \n",
    "    effect::Union{String,Function}, v_ss = nothing;\n",
    "    s_1 = nothing, kwargs...)\n",
    "```"
   ]
  },
  {
   "cell_type": "markdown",
   "id": "205b0a17-7b49-4a47-b199-6541fcf3bbb5",
   "metadata": {},
   "source": [
    "Same as `map_ξ_multipole`, but the two resulting vectors are printed in the file `out`, together with all the options used for their computations."
   ]
  },
  {
   "cell_type": "markdown",
   "id": "0d687a97-386f-4e3c-8cb4-53ac3a60aac0",
   "metadata": {},
   "source": [
    "For instance, let's print on a file named `my_first_doppler.txt` the `auto_doppler`TPCF monopole, calculated in the vector of values `ss = 10 .^ range(0, 3, length = 1000)`."
   ]
  },
  {
   "cell_type": "code",
   "execution_count": 15,
   "id": "65c82a02-4901-49fd-abd7-9db2db6dbcdb",
   "metadata": {},
   "outputs": [
    {
     "name": "stderr",
     "output_type": "stream",
     "text": [
      "\u001b[32mauto_doppler, L=0: 100%|████████████████████████████████| Time: 0:00:00\u001b[39m\n"
     ]
    },
    {
     "name": "stdout",
     "output_type": "stream",
     "text": [
      "\n",
      "time needed for map_ξ_multipole for auto_doppler [in s] = 0.10765 \n"
     ]
    }
   ],
   "source": [
    "GaPSE.print_map_ξ_multipole(cosmo, \"my_first_doppler.txt\", \n",
    "    \"auto_doppler\", 10 .^ range(0, 3, length = 1000); \n",
    "    L = 0, use_windows = false);"
   ]
  },
  {
   "cell_type": "markdown",
   "id": "4d6077b4-9c76-444b-8093-164f78c469a1",
   "metadata": {},
   "source": [
    "Here we plot the result:"
   ]
  },
  {
   "cell_type": "code",
   "execution_count": 16,
   "id": "aa3c683e-7dd5-42ef-8209-d100ae985280",
   "metadata": {},
   "outputs": [
    {
     "data": {
      "image/png": "[encoded data removed]"
     },
     "execution_count": 16,
     "metadata": {},
     "output_type": "execute_result"
    }
   ],
   "source": [
    "table = readdlm(\"my_first_doppler.txt\", comments=true)\n",
    "xs = convert(Vector{Float64}, table[:,1])\n",
    "ys = convert(Vector{Float64}, table[:,2])\n",
    "\n",
    "pyplot()\n",
    "plot(xs, ys .* xs .^2,\n",
    "    #xaxis=:log, #yaxis=:log, \n",
    "    lc=:red, ls=:solid,size=(500, 300),\n",
    "    title=\"auto_doppler TPCF\",\n",
    "    ylabel=L\"s^2 \\; \\xi^{v_{\\parallel} \\, v_{\\parallel}}_{L=0}(s)\",\n",
    "    xlabel=L\"s \\quad [h_0^{-1}\\,\\mathrm{Mpc}]\",\n",
    "    legend=false,\n",
    ")"
   ]
  },
  {
   "cell_type": "markdown",
   "id": "891f3cda-a6ab-4105-9ee9-7ad096ecdc2a",
   "metadata": {},
   "source": [
    "```\n",
    "\n",
    "\n",
    "```"
   ]
  },
  {
   "cell_type": "markdown",
   "id": "12e29f52-1a2c-4d77-9b72-0ab16c1641e0",
   "metadata": {},
   "source": [
    "## TPCF of all the effects"
   ]
  },
  {
   "cell_type": "markdown",
   "id": "7bfa56a6-3270-482b-9296-dfc6e1131f98",
   "metadata": {},
   "source": [
    "The most straightforward path to calculate all the CFs (and also their sum) is through the three following functions:\n",
    "\n",
    "- `sum_ξ_multipole`\n",
    "- `map_sum_ξ_multipole`\n",
    "- `print_map_sum_ξ_multipole`\n",
    "\n",
    "They work in the exactly same way of their corresponding \"single-effect\" one. The only difference is that the output is now not a single GR effect, but all of them plus their sum."
   ]
  },
  {
   "cell_type": "markdown",
   "id": "72ad5729-eed1-4305-ba6f-3f7de12c0914",
   "metadata": {},
   "source": [
    "```\n",
    "\n",
    "```"
   ]
  },
  {
   "cell_type": "markdown",
   "id": "a9ebc5ec-eb32-484c-9aca-5ed7188d4754",
   "metadata": {},
   "source": [
    "### sum_ξ_multipole"
   ]
  },
  {
   "cell_type": "markdown",
   "id": "bd6fec6b-a2f2-4687-88a8-8540eb1fd065",
   "metadata": {},
   "source": [
    "```julia \n",
    "sum_ξ_multipole(s1, s, cosmo::Cosmology; L::Integer = 0, kwargs...)\n",
    "```\n",
    "For input distances `s1` ans `s` and in the given COsmology `cosmo`, returns a tuple which has:\n",
    "- the sum of all the 16 TPCFs multipoles (of order `L`) calculated in `s1` and a distance `s` from it, in the given Cosmology `cosmo`.\n",
    "- a vector of `Float64` values containing each off the 16 TPCF terms; they are ordered following the `GaPSE.IMPLEMENTED_GR_EFFECTS` one"
   ]
  },
  {
   "cell_type": "code",
   "execution_count": 17,
   "id": "23f60a9e-cb65-422f-a6d5-f5fce29788e1",
   "metadata": {},
   "outputs": [
    {
     "data": {
      "text/plain": [
       "(-2.0929173385186284e-8, [3.704291861268092e-8, 1.1481186253677967e-9, -8.701923462380552e-9, -1.3189966447395e-9, 2.43701647048061e-10, -2.1595220348225198e-9, -5.172174721542147e-9, -2.0489890691159067e-8, -1.0752716680758877e-8, -4.856410325763263e-9, -5.03109072545446e-11, 1.9502603123228226e-9, 1.4896877787706042e-10, 3.6476135772208754e-10, -6.476931321517375e-9, -1.8490259282671853e-9])"
      ]
     },
     "execution_count": 17,
     "metadata": {},
     "output_type": "execute_result"
    }
   ],
   "source": [
    "s = 1000\n",
    "res_sum, res_xis = GaPSE.sum_ξ_multipole(cosmo.s_eff, s, cosmo; \n",
    "    use_windows = false, L = 0);\n",
    "res_sum, res_xis"
   ]
  },
  {
   "cell_type": "code",
   "execution_count": 18,
   "id": "61ef01ff-4f3b-464c-997e-43524a58ab72",
   "metadata": {},
   "outputs": [
    {
     "data": {
      "image/png": "[encoded data removed]"
     },
     "execution_count": 18,
     "metadata": {},
     "output_type": "execute_result"
    }
   ],
   "source": [
    "names = [\n",
    "    L\"v_{\\parallel} \\, v_{\\parallel}\", L\"\\kappa \\, \\kappa\", \n",
    "    L\"\\phi \\, \\phi\", L\"\\int\\phi \\, \\int\\phi\", \n",
    "    \n",
    "    L\"\\kappa \\, v_{\\parallel}\", L\"v_{\\parallel} \\, \\kappa\",\n",
    "    L\"v_{\\parallel} \\, \\phi\", L\"\\phi \\, v_{\\parallel}\",\n",
    "    L\"v_{\\parallel} \\, \\int\\phi\", L\"\\int\\phi \\, v_{\\parallel}\",\n",
    "    L\"\\kappa \\, \\phi\", L\"\\phi \\, \\kappa\",\n",
    "    L\"\\kappa \\, \\int\\phi\", L\"\\int\\phi \\, \\kappa\",\n",
    "    L\"\\phi \\, \\int\\phi\", L\"\\int\\phi \\, \\phi\"\n",
    "];\n",
    "leg = L\"v_{\\parallel}\"*\" = Doppler    \\n\" *\n",
    "        \"κ = Lensing  \\n\"*\"ϕ = Local GP  \\n\"*\"∫ϕ = Integrated GP\"\n",
    "\n",
    "pyplot()\n",
    "ys = [res_xis[i] for i in 1:length(res_xis)];\n",
    "plot(1:16, ys .* (s^2), seriestype=:scatter, \n",
    "    series_annotations = [text(name; pointsize=7, valign=:bottom) \n",
    "        for name in names], \n",
    "    mc=vcat([:red for i in 1:4], [:blue for i in 5:16]), \n",
    "    markerstrokewidth = 0, legend=false,\n",
    "    xlabel = \"ξ considered\",  xticks=false,\n",
    "    ylabel = L\"s^2 \\, \\xi^{i}_{L=0}(s),\" * \n",
    "    L\" \\quad \\mathrm{with} \\; s = %$s \\; h_0^{-1}\\mathrm{Mpc}\",\n",
    "    \n",
    "    title = \"Contribution at s = $s Mpc/h_0 of each ξ\"\n",
    "    \n",
    ")\n",
    "\n",
    "annotate!([(12, 0.8*max(ys.* (s^2)...), text(leg; pointsize=7))])"
   ]
  },
  {
   "cell_type": "markdown",
   "id": "71f12b4c-94b3-4c86-bd81-969f8ec00f94",
   "metadata": {},
   "source": [
    "```\n",
    "\n",
    "\n",
    "```"
   ]
  },
  {
   "cell_type": "markdown",
   "id": "f49ccdba-e3da-42f1-8a0e-92c3f602761f",
   "metadata": {},
   "source": [
    "### map_sum_ξ_multipole"
   ]
  },
  {
   "cell_type": "markdown",
   "id": "85a6ca26-fdff-42fa-aad1-d10bc9384ab6",
   "metadata": {},
   "source": [
    "```julia\n",
    "map_sum_ξ_multipole(cosmo::Cosmology, v_ss = nothing; \n",
    "    L::Integer = 0, s_1 = nothing, kwargs...)\n",
    "```"
   ]
  },
  {
   "cell_type": "markdown",
   "id": "b38f3601-f757-480e-9d3c-d8308a53c216",
   "metadata": {},
   "source": [
    "As for `map_ξ_multipole`, returns also the vector `v_ss`. It's now prettly useless to spend more words on this instead of simply see it in action, isn't it?"
   ]
  },
  {
   "cell_type": "code",
   "execution_count": null,
   "id": "270cdd47-65ae-4110-a12c-3f771e162217",
   "metadata": {},
   "outputs": [
    {
     "name": "stderr",
     "output_type": "stream",
     "text": [
      "\u001b[32mauto_lensing, L=0:  94%|██████████████████████████████▏ |  ETA: 0:00:06\u001b[39m"
     ]
    }
   ],
   "source": [
    "ss, res_sums, res_xis = GaPSE.map_sum_ξ_multipole(cosmo, \n",
    "    10 .^ range(0, 3, length = 100), use_windows = false);"
   ]
  },
  {
   "cell_type": "code",
   "execution_count": null,
   "id": "b3d7c566-49c2-4a77-ae50-327f5b89f348",
   "metadata": {},
   "outputs": [],
   "source": [
    "pyplot()\n",
    "ps = [plot() for i in 1:length(GaPSE.IMPLEMENTED_GR_EFFECTS) + 1]\n",
    "\n",
    "title = plot(title = \"Correlation functions terms\", grid=false, \n",
    "    showaxis = false, bottom_margin = -50Plots.px, ticks=false)\n",
    "\n",
    "legend_pos=[\n",
    "    :bottomleft,\n",
    "    :bottomleft, :topright, :bottomleft, :bottomleft,\n",
    "    :topleft, :topleft, :topleft, :topleft,\n",
    "    :bottomleft, :bottomleft, :bottomleft, :bottomleft,\n",
    "    :bottomleft, :bottomleft, :bottomleft, :bottomleft,\n",
    "]\n",
    "\n",
    "\n",
    "\n",
    "ξs_names = [\n",
    "    L\"$\\xi^{v_{\\parallel} \\, v_{\\parallel}}_{L=0}(s)$\", \n",
    "    L\"$\\xi^{\\kappa \\, \\kappa}_{L=0}(s)$\", \n",
    "    L\"$\\xi^{\\phi \\, \\phi}_{L=0}(s)$\", \n",
    "    L\"$\\xi^{\\int\\phi \\, \\int\\phi}_{L=0}(s)$\", \n",
    "    \n",
    "    L\"$\\xi^{\\kappa \\, v_{\\parallel}}_{L=0}(s)$\",\n",
    "    L\"$\\xi^{v_{\\parallel} \\, \\kappa}_{L=0}(s)$\",\n",
    "    \n",
    "    L\"$\\xi^{v_{\\parallel} \\, \\phi}_{L=0}(s)$\",\n",
    "    L\"$\\xi^{\\phi \\, v_{\\parallel}}_{L=0}(s)$\",\n",
    "    \n",
    "    L\"$\\xi^{v_{\\parallel} \\, \\int\\phi}_{L=0}(s)$\",\n",
    "    L\"$\\xi^{\\int\\phi \\, v_{\\parallel}}_{L=0}(s)$\",\n",
    "    \n",
    "    L\"$\\xi^{\\kappa \\, \\phi}_{L=0}(s)$\",\n",
    "    L\"$\\xi^{\\phi \\, \\kappa}_{L=0}(s)$\",\n",
    "    \n",
    "    L\"$\\xi^{\\kappa \\, \\int\\phi}_{L=0}(s)$\",\n",
    "    L\"$\\xi^{\\int\\phi \\, \\kappa}_{L=0}(s)$\",\n",
    "    \n",
    "    L\"$\\xi^{\\phi \\, \\int\\phi}_{L=0}(s)$\",\n",
    "    L\"$\\xi^{\\int\\phi \\, \\phi}_{L=0}(s)$\",\n",
    "]\n",
    "\n",
    "xs = ss\n",
    "\n",
    "ps[1] = plot(xs, res_sums .* xs .^2, size=(300, 100),\n",
    "        lw=2, lc=\"red\", ls=:solid,\n",
    "        title=\"All summed xis\", \n",
    "        xlabel=L\"s \\quad [h_0^{-1}\\,\\mathrm{Mpc}]\",\n",
    "        ylabel=L\"s^2 \\, \\xi^{\\mathrm{ALL}}_{L=0}(s)\",\n",
    "        #xaxis=:log, #yaxis=:log,\n",
    "        top_margins=15Plots.px, legend=false)\n",
    "\n",
    "for i in 1:length(GaPSE.IMPLEMENTED_GR_EFFECTS)\n",
    "    ys = res_xis[i]\n",
    "\n",
    "    ps[i+1] = plot(\n",
    "        xs, ys .* xs .^2, \n",
    "        size=(300, 100),\n",
    "        lw=2, lc=\"red\", ls=:solid,\n",
    "        title=GaPSE.IMPLEMENTED_GR_EFFECTS[i], \n",
    "        xlabel=L\"s \\quad [h_0^{-1}\\,\\mathrm{Mpc}]\",\n",
    "        ylabel=L\"s^2 \\, \" * ξs_names[i],\n",
    "        #xaxis=:log, #yaxis=:log,\n",
    "        top_margins=15Plots.px,\n",
    "        legend = false,\n",
    "    )\n",
    "end\n",
    "\n",
    "l = @layout [A{0.05h}; B ; a b ; c d ; e f ; g h ; i l ; m n ; o p ; q r ]\n",
    "P = plot(title, ps..., layout=l, \n",
    "    left_margins = 15Plots.px, right_margins = 30Plots.px,\n",
    "    size=(700,2000))"
   ]
  },
  {
   "cell_type": "markdown",
   "id": "924f0048-0b6c-43a7-9603-e9dbff8b2111",
   "metadata": {},
   "source": [
    "```\n",
    "\n",
    "\n",
    "\n",
    "```"
   ]
  },
  {
   "cell_type": "markdown",
   "id": "dd515d69-0262-4627-833b-1fc47dc882ec",
   "metadata": {},
   "source": [
    "### print_map_sum_ξ_multipole"
   ]
  },
  {
   "cell_type": "markdown",
   "id": "9ffb94fc-059d-4766-898b-0192b3e4b007",
   "metadata": {},
   "source": [
    "```julia \n",
    "print_map_sum_ξ_multipole(cosmo::Cosmology, out::String,\n",
    "     v_ss = nothing; s_1 = nothing,\n",
    "     L::Integer = 0, single::Bool = true, kwargs...)\n",
    "```\n",
    "As `print_map_ξ_multipole`, prints the output in the file `out`.\n",
    "\n",
    "The only new thing to point out is the bool `single`: if `true`, all the CFs are printed inside the file of the sum, in a table with 18 columns (first one for `v_ss`, second for their sum an the next 16 for each effect). \n",
    "\n",
    "Otherwise, a new directory \"all_standalones_CFs\" is created (in the same path given in `out`) and they are separately saved in files there placed."
   ]
  },
  {
   "cell_type": "code",
   "execution_count": null,
   "id": "3e7adffb-dbbf-48d3-962a-e6b59e0800a7",
   "metadata": {},
   "outputs": [],
   "source": [
    "GaPSE.print_map_sum_ξ_multipole(cosmo, \"my_first_all_xis.txt\",\n",
    "    10 .^ range(0, 3, length = 100), use_windows = false);"
   ]
  },
  {
   "cell_type": "code",
   "execution_count": null,
   "id": "2de610b8-1aae-4370-af80-9b895aa36264",
   "metadata": {},
   "outputs": [],
   "source": [
    "table = readdlm(\"my_first_all_xis.txt\", comments = true);\n",
    "ss = convert(Vector{Float64}, table[:, 1]);\n",
    "res_sums = convert(Vector{Float64}, table[:, 2]);\n",
    "res_xis = [convert(Vector{Float64}, table[:, i]) for i in 3:18];"
   ]
  },
  {
   "cell_type": "code",
   "execution_count": null,
   "id": "9ed699d5-c94f-4444-a7b6-e8c42225c295",
   "metadata": {},
   "outputs": [],
   "source": [
    "pyplot()\n",
    "ps = [plot() for i in 1:length(GaPSE.IMPLEMENTED_GR_EFFECTS) + 1]\n",
    "\n",
    "title = plot(title = \"Correlation functions terms\", grid=false, \n",
    "    showaxis = false, bottom_margin = -50Plots.px, ticks=false)\n",
    "\n",
    "legend_pos=[\n",
    "    :bottomleft,\n",
    "    :bottomleft, :topright, :bottomleft, :bottomleft,\n",
    "    :topleft, :topleft, :topleft, :topleft,\n",
    "    :bottomleft, :bottomleft, :bottomleft, :bottomleft,\n",
    "    :bottomleft, :bottomleft, :bottomleft, :bottomleft,\n",
    "]\n",
    "\n",
    "\n",
    "\n",
    "ξs_names = [\n",
    "    L\"$\\xi^{v_{\\parallel} \\, v_{\\parallel}}_{L=0}(s)$\", \n",
    "    L\"$\\xi^{\\kappa \\, \\kappa}_{L=0}(s)$\", \n",
    "    L\"$\\xi^{\\phi \\, \\phi}_{L=0}(s)$\", \n",
    "    L\"$\\xi^{\\int\\phi \\, \\int\\phi}_{L=0}(s)$\", \n",
    "    \n",
    "    L\"$\\xi^{\\kappa \\, v_{\\parallel}}_{L=0}(s)$\",\n",
    "    L\"$\\xi^{v_{\\parallel} \\, \\kappa}_{L=0}(s)$\",\n",
    "    \n",
    "    L\"$\\xi^{v_{\\parallel} \\, \\phi}_{L=0}(s)$\",\n",
    "    L\"$\\xi^{\\phi \\, v_{\\parallel}}_{L=0}(s)$\",\n",
    "    \n",
    "    L\"$\\xi^{v_{\\parallel} \\, \\int\\phi}_{L=0}(s)$\",\n",
    "    L\"$\\xi^{\\int\\phi \\, v_{\\parallel}}_{L=0}(s)$\",\n",
    "    \n",
    "    L\"$\\xi^{\\kappa \\, \\phi}_{L=0}(s)$\",\n",
    "    L\"$\\xi^{\\phi \\, \\kappa}_{L=0}(s)$\",\n",
    "    \n",
    "    L\"$\\xi^{\\kappa \\, \\int\\phi}_{L=0}(s)$\",\n",
    "    L\"$\\xi^{\\int\\phi \\, \\kappa}_{L=0}(s)$\",\n",
    "    \n",
    "    L\"$\\xi^{\\phi \\, \\int\\phi}_{L=0}(s)$\",\n",
    "    L\"$\\xi^{\\int\\phi \\, \\phi}_{L=0}(s)$\",\n",
    "]\n",
    "\n",
    "xs = ss\n",
    "\n",
    "ps[1] = plot(xs, res_sums .* xs .^2, size=(300, 100),\n",
    "        lw=2, lc=\"red\", ls=:solid,\n",
    "        title=\"All summed xis\", \n",
    "        xlabel=L\"s \\quad [h_0^{-1}\\,\\mathrm{Mpc}]\",\n",
    "        ylabel=L\"s^2 \\, \\xi^{\\mathrm{ALL}}_{L=0}(s)\",\n",
    "        #xaxis=:log, #yaxis=:log,\n",
    "        top_margins=15Plots.px, legend=false)\n",
    "\n",
    "for i in 1:length(GaPSE.IMPLEMENTED_GR_EFFECTS)\n",
    "    ys = res_xis[i]\n",
    "\n",
    "    ps[i+1] = plot(\n",
    "        xs, ys .* xs .^2, \n",
    "        size=(300, 100),\n",
    "        lw=2, lc=\"red\", ls=:solid,\n",
    "        title=GaPSE.IMPLEMENTED_GR_EFFECTS[i], \n",
    "        xlabel=L\"s \\quad [h_0^{-1}\\,\\mathrm{Mpc}]\",\n",
    "        ylabel=L\"s^2 \\, \" * ξs_names[i],\n",
    "        #xaxis=:log, #yaxis=:log,\n",
    "        top_margins=15Plots.px,\n",
    "        legend = false,\n",
    "    )\n",
    "end\n",
    "\n",
    "l = @layout [A{0.05h}; B ; a b ; c d ; e f ; g h ; i l ; m n ; o p ; q r ]\n",
    "P = plot(title, ps..., layout=l, \n",
    "    left_margins = 15Plots.px, right_margins = 30Plots.px,\n",
    "    size=(700,2000))"
   ]
  },
  {
   "cell_type": "markdown",
   "id": "bd7719aa-e777-4b79-a90b-d89276d78b05",
   "metadata": {},
   "source": [
    "```\n",
    "\n",
    "\n",
    "\n",
    "\n",
    "\n",
    "```"
   ]
  },
  {
   "cell_type": "markdown",
   "id": "aaf56105-7338-4f64-8334-b19364d43a7f",
   "metadata": {},
   "source": [
    "## Power Spectrum Multipole"
   ]
  },
  {
   "cell_type": "markdown",
   "id": "81706989-d99c-4f07-b784-e99b602ed80b",
   "metadata": {},
   "source": [
    "Last but not least, from a CF file generated as previously showed, we can easily obtain the corresponding Power Spectrum multipole.\n",
    "GaPSE provieds two functions:\n",
    "- `PS_multipole`\n",
    "- `print_PS_multipole`"
   ]
  },
  {
   "cell_type": "markdown",
   "id": "965d8078-962a-451e-9d39-75208caf2778",
   "metadata": {},
   "source": [
    "```julia\n",
    "PS_multipole(input::String; L::Integer = 0,\n",
    "    int_s_min = 1e-3, int_s_max=1e3, \n",
    "    kwargs...) ::Tuple{Vector{Float64}, Vector{Float64}}\n",
    "```\n",
    "\n",
    "Return a tuple (`ks`, `pks`) of the Power Spectrum obtained from the CF stored in the file `input`, through the following expression: \n",
    "\n",
    "$$\n",
    "P_L(k) = \\frac{(-i)^L}{A^{'}} \\, \\phi(s_\\mathrm{eff}) \\int_0^\\infty \n",
    "        \\mathrm{d} s \\; s^2 \\, j_L(ks) \\, \\xi_L(s) \\; ,\n",
    "        \\quad \\; A^{'} = \\frac{1}{4\\,\\pi}\n",
    "$$\n",
    "\n",
    "Computationally, the integration is made only for `int_s_min < s < int_s_max`.\n",
    "Do not worry if the input TPCF is not defined in all the integration range: it will be fitted with two power laws at its extremes.\n",
    "\n",
    "```julia\n",
    "print_PS_multipole(input::String, out::String; L::Integer = 0, \n",
    "    int_s_min = 1e-3, int_s_max = 1e3, \n",
    "    kwargs...) ::Tuple{Vector{Float64}, Vector{Float64}}\n",
    "```\n",
    "\n",
    "Same as before, but store the results in a file named `out`.\n",
    "\n",
    "NOTE: the multipole order `L` must be the same of the input TPCF in exam! Otherwise, the results would have no sense at all!"
   ]
  },
  {
   "cell_type": "code",
   "execution_count": null,
   "id": "d45fe678-1ac6-48fb-ad2d-eed4fe6527f2",
   "metadata": {},
   "outputs": [],
   "source": [
    "GaPSE.print_PS_multipole(\"my_first_doppler.txt\",\n",
    "    \"my_first_ps_doppler.txt\";\n",
    "     L = 0, N = 1024, int_s_min=1e-3, int_s_max=1e3)"
   ]
  },
  {
   "cell_type": "code",
   "execution_count": null,
   "id": "21167255-8b02-4208-a2fa-2b276dcb6555",
   "metadata": {},
   "outputs": [],
   "source": [
    "table = readdlm(\"my_first_ps_doppler.txt\", comments=true)\n",
    "xs = convert(Vector{Float64}, table[:,1])\n",
    "ys = convert(Vector{Float64}, table[:,2])\n",
    "\n",
    "pyplot()\n",
    "plot(xs, ys,\n",
    "    xaxis=:log, yaxis=:log, \n",
    "    lc=:red, ls=:solid,size=(500, 300),\n",
    "    title=\"auto_doppler PS\",\n",
    "    ylabel=L\"P^{v_{\\parallel} \\, v_{\\parallel}}_{L=0}(k)\",\n",
    "    xlabel=L\"k \\quad [h_0\\,\\mathrm{Mpc}^{-1}]\",\n",
    "    legend=false,\n",
    ")"
   ]
  },
  {
   "cell_type": "markdown",
   "id": "5af7b8ed-5d08-4f4e-9339-5a19bc1e543d",
   "metadata": {},
   "source": [
    "```\n",
    "\n",
    "\n",
    "```"
   ]
  },
  {
   "cell_type": "markdown",
   "id": "0bc2a76a-9252-402e-a3b0-7326be31b6f3",
   "metadata": {},
   "source": [
    "## Window Function F"
   ]
  },
  {
   "cell_type": "markdown",
   "id": "e8b7fcdb-7ed5-4e83-830b-16ae9d0da673",
   "metadata": {},
   "source": [
    "The bool `use_windows`'s work may be written as follows, with `U = use_windows`:\n",
    "\n",
    "$$\n",
    "\\xi_L(s_1, s, \\mu) = \\frac{2 L + 1}{2} \\int_{-1}^{+1} \\mathrm{d}\\mu \\; \n",
    "    \\xi (s_1, s_2, \\cos{\\theta}) \\, \\mathcal{L}_L(\\mu) \\,  \\times\n",
    "\\begin{cases}  \n",
    "    \\phi(s_2) \\, F\\left(\\frac{s}{s_1}, \\mu \\right) \\;,\n",
    "        \\quad \\mathrm{U = true}\\\\\n",
    "    1\\;, \\quad \\mathrm{U = false}\n",
    "\\end{cases}\n",
    "$$"
   ]
  },
  {
   "cell_type": "markdown",
   "id": "1657ba38-8566-416a-8eb5-230c2f9ee013",
   "metadata": {},
   "source": [
    "with $F$ defined as follows (check the article of Emanuele Castorina and Enea Di Dio for more details):\n",
    "\n",
    "$$\n",
    "\\begin{split}\n",
    "F(x,\\mu; \\theta_\\mathrm{max}) = & \\;4\\pi \n",
    "    \\int_0^{\\theta_\\mathrm{max}} \\mathrm{d}\\theta_1 \\int_0^\\pi \\mathrm{d} \\theta \\; \n",
    "    \\, \\Theta\\left(\\frac\n",
    "        {x \\cos \\theta + \\cos \\theta_1}{\\sqrt{x^1+2+2x\\mu}} - \n",
    "        \\cos(\\theta_\\mathrm{max}) \n",
    "        \\right) \n",
    "    \\, \\Theta(\\mu-\\cos(\\theta+\\theta_1)) \\\\\n",
    "    &\\Theta(\\cos(\\theta - \\theta_1)-\\mu) \\;\n",
    "    \\frac{\\sin\\theta\\sin\\theta_1}\n",
    "        {\\sqrt{(\\sin\\theta\\sin\\theta_1)^2-(\\cos\\theta\\cos\\theta_1-\\mu)^2}}\n",
    "\\end{split}\n",
    "$$"
   ]
  },
  {
   "cell_type": "markdown",
   "id": "69c1a0cd-a6c4-4659-9a72-62f80a695e83",
   "metadata": {},
   "source": [
    "The most efficient way to use $F$ in our computation is to calculate it separetely for a map of $\\mu$ and $x$ values (with the $\\theta_\\mathrm{MAX}$ of the survey), and then load that file into the `Cosmology` we want to create. Internally, the code creates a 2d-spline from the input file of $F$.\n",
    "\n",
    "In order to create suh a file, GaPSE provides the function `F_map`, which has two methods:\n",
    "\n",
    "```julia\n",
    "F_map(x_step::Float64 = 0.01, μ_step::Float64 = 0.01;\n",
    "    out = \"data/F_map.txt\", x1 = 0, x2 = 3, μ1 = -1, μ2 = 1, kwargs...)\n",
    "\n",
    "F_map(xs::Vector{Float64}, μs::Vector{Float64};\n",
    "    out = \"data/F_map.txt\", kwargs...)\n",
    "```\n",
    "\n",
    "The first one creates a map of:\n",
    "- $\\mu$ values from `μ1 = -1` to `μ2 = 1` with linear step `μ_step`\n",
    "- $x$ values from `x1 = 0` to `x2 = 3` with linear step `x_step`\n",
    "and calculate $F$ in each point of this grid, saving the results in the file `out`.\n",
    "\n",
    "The second one creates a grid from the input vector of $\\mu$ and $x$ values, \n",
    "calculate $F$ in each point of this grid and save the results in the file `out`."
   ]
  },
  {
   "cell_type": "markdown",
   "id": "8eb99739-2912-4905-bbef-395751b615bf",
   "metadata": {},
   "source": [
    "We now give here an example of use; consider that this computation, for the following values, might takes about 30 minutes. "
   ]
  },
  {
   "cell_type": "code",
   "execution_count": null,
   "id": "4cded543-5e39-4f51-a07a-7b7d35ad1c7b",
   "metadata": {},
   "outputs": [],
   "source": [
    "#=\n",
    "xs = [x for x in 0:0.05:3]\n",
    "μs = vcat([μ for μ in -1:0.01:-0.91], \n",
    "        [μ for μ in -0.9:0.1:0.9], \n",
    "        [μ for μ in 0.91:0.01:1.0])\n",
    "GaPSE.F_map(xs, μs; out = \"outputs/my_F.txt\", rtol = 5e-3, atol = 1e-2)\n",
    "=#"
   ]
  },
  {
   "cell_type": "code",
   "execution_count": null,
   "id": "d2298f78-3c2b-4861-91e6-78c905090929",
   "metadata": {},
   "outputs": [],
   "source": []
  }
 ],
 "metadata": {
  "kernelspec": {
   "display_name": "Julia 1.7.2",
   "language": "julia",
   "name": "julia-1.7"
  },
  "language_info": {
   "file_extension": ".jl",
   "mimetype": "application/julia",
   "name": "julia",
   "version": "1.7.2"
  },
  "toc-autonumbering": true
 },
 "nbformat": 4,
 "nbformat_minor": 5
}
