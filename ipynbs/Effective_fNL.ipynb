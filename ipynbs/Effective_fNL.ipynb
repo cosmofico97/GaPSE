{
 "cells": [
  {
   "cell_type": "markdown",
   "id": "0ac19ff3-c6f9-4053-8fa2-381e07c80e7b",
   "metadata": {},
   "source": [
    "This file is part of GaPSE\n",
    "Copyright (C) 2022 Matteo Foglieni\n",
    "\n",
    "GaPSE is free software: you can redistribute it and/or modify\n",
    "it under the terms of the GNU General Public License as published by\n",
    "the Free Software Foundation, either version 3 of the License, or\n",
    "(at your option) any later version.\n",
    "\n",
    "GaPSE is distributed in the hope that it will be useful, but\n",
    "WITHOUT ANY WARRANTY; without even the implied warranty of\n",
    "MERCHANTABILITY or FITNESS FOR A PARTICULAR PURPOSE. See the GNU\n",
    "General Public License for more details.\n",
    "\n",
    "You should have received a copy of the GNU General Public License\n",
    "along with GaPSE. If not, see <http://www.gnu.org/licenses/>.\n",
    "```\n",
    "\n",
    "\n",
    "```"
   ]
  },
  {
   "cell_type": "code",
   "execution_count": 1,
   "id": "d62174db-98d2-47d6-8dcc-470c2b1cf700",
   "metadata": {},
   "outputs": [],
   "source": [
    "maximum_comoving_distance = 1.389556413208e+04;"
   ]
  },
  {
   "cell_type": "code",
   "execution_count": 2,
   "id": "88ec96ae-f3e0-4d02-90aa-b1d34d9d4032",
   "metadata": {},
   "outputs": [
    {
     "data": {
      "text/plain": [
       "4631.854710693334"
      ]
     },
     "execution_count": 2,
     "metadata": {},
     "output_type": "execute_result"
    }
   ],
   "source": [
    "max_co_dist_for_survey = 1.389556413208e+04/3"
   ]
  },
  {
   "cell_type": "code",
   "execution_count": 3,
   "id": "1da04b4d-988b-4cb6-8669-528116154ff4",
   "metadata": {},
   "outputs": [
    {
     "data": {
      "text/plain": [
       "1.663683173266"
      ]
     },
     "execution_count": 3,
     "metadata": {},
     "output_type": "execute_result"
    }
   ],
   "source": [
    "corr_max_redshift_for_survey = 1.663683173266e+00"
   ]
  },
  {
   "cell_type": "markdown",
   "id": "9fd0ba24-56c5-443b-842c-21d21ad23457",
   "metadata": {
    "tags": []
   },
   "source": [
    "# Effective 𝑓_NL"
   ]
  },
  {
   "cell_type": "markdown",
   "id": "64fc9d48-6d68-4ad6-9aab-ba8ea0b315f6",
   "metadata": {},
   "source": [
    "This ipynb provides the code necessary to compute the effective factor of Non-Linear effects $\\mathit{f}_{\\rm NL}$.\n",
    "\n",
    "All the output files will be placed in the following directory:"
   ]
  },
  {
   "cell_type": "code",
   "execution_count": 4,
   "id": "cd22c699-1ab0-47e8-83f5-e576a6215de6",
   "metadata": {},
   "outputs": [],
   "source": [
    "#DIR = \"/Users/matteofoglieni/Dropbox/GR_effects/Matteo_Output/fNL_effective_z115/\";\n",
    "DIR = \"Effective_fNL_z115_files/\";\n",
    "\n",
    "ps_kwargs(twofast::Bool) = twofast ?\n",
    "    Dict(:twofast=>true, :epl => true, :pr => false, \n",
    "          :N_left => 12, :N_right => 12,\n",
    "          :p0_left => [-2.0, 1.0], :p0_right => [-2.0, 1.0],\n",
    "          :int_s_min => 1e0, :int_s_max => 1200.0) :\n",
    "    Dict(:twofast=>false, :pr=>true, :ν => 1.5, :n_extrap_low => 0,\n",
    "     :n_extrap_high => 0, :n_pad => 500, :cut_first_n=>6);\n",
    "tf = false;"
   ]
  },
  {
   "cell_type": "markdown",
   "id": "857685de-f317-4191-acf3-3d11ff39f68d",
   "metadata": {
    "jp-MarkdownHeadingCollapsed": true,
    "tags": []
   },
   "source": [
    "## Basic Framework"
   ]
  },
  {
   "cell_type": "code",
   "execution_count": 5,
   "id": "4eeb7c86-e5bb-438a-b213-cb4c20756a26",
   "metadata": {},
   "outputs": [],
   "source": [
    "PATH_TO_GAPSE = \"../\";"
   ]
  },
  {
   "cell_type": "code",
   "execution_count": 6,
   "id": "95bd48af-68f0-4927-9e89-ff749662d416",
   "metadata": {},
   "outputs": [],
   "source": [
    "include(PATH_TO_GAPSE * \"src/GaPSE.jl\");"
   ]
  },
  {
   "cell_type": "code",
   "execution_count": 7,
   "id": "f00a1116-1d6c-4f50-aff0-3965fa21a535",
   "metadata": {},
   "outputs": [
    {
     "data": {
      "text/plain": [
       "Plots.PyPlotBackend()"
      ]
     },
     "execution_count": 7,
     "metadata": {},
     "output_type": "execute_result"
    }
   ],
   "source": [
    "using DelimitedFiles, Plots, Dierckx, SpecialFunctions\n",
    "using Printf, LaTeXStrings, Turing, StatsPlots, GridInterpolations\n",
    "pyplot()"
   ]
  },
  {
   "cell_type": "code",
   "execution_count": 8,
   "id": "32a5362a-6ff5-4575-91c6-0222ae7f44e1",
   "metadata": {},
   "outputs": [],
   "source": [
    "#z_min, z_max, θ_max = 0.05, 0.20, π / 2.0\n",
    "z_min, z_max, θ_max = 1.0, 1.5, π / 2.0\n",
    "\n",
    "WFI_opts = Dict(\n",
    "    :ss_start => 0.0, :ss_stop => 0.0, \n",
    "    :ss_step => 50, :llim => 0.0, :rlim => Inf, \n",
    "    :rtol => 5e-2, :atol => 0.0, :N => 1000, #:pr => true,\n",
    ")\n",
    "\n",
    "FILE_F_MAP = PATH_TO_GAPSE * \"data/F_REFERENCE_pi2.txt\"\n",
    "FILE_PS = PATH_TO_GAPSE * \"test/datatest/file_pk.txt\"\n",
    "FILE_BACKGROUND = PATH_TO_GAPSE * \"test/datatest/WideA_ZA_background.dat\"\n",
    "\n",
    "params = GaPSE.CosmoParams(z_min, z_max, θ_max;\n",
    "    Ω_b = 0.0489, Ω_cdm = 0.251020, h_0 = 0.70, s_lim=1e-2,\n",
    "    s_b = 0.0, 𝑓_evo = 0.0, b = 1.0,\n",
    "    IPS_opts = Dict(\n",
    "        :fit_left_min => 1e-6, :fit_left_max => 3e-6,\n",
    "        :fit_right_min => 1e1, :fit_right_max => 2e1),\n",
    "    IPSTools_opts = Dict(\n",
    "        :N => 1024, :fit_min => 0.05, :fit_max => 0.5, \n",
    "        :con => true, :k_min => 1e-8, :k_max => 10.0),\n",
    "    WFI_opts = WFI_opts,\n",
    ");"
   ]
  },
  {
   "cell_type": "code",
   "execution_count": 9,
   "id": "88d3f26b-52fe-4e61-bc5f-71329260c06d",
   "metadata": {},
   "outputs": [],
   "source": [
    "#=\n",
    "new_calc_μs = union([μ for μ in -1.0:0.01:(-0.9)], \n",
    "        [μ for μ in -0.9:0.05:0.9], \n",
    "        [μ for μ in 0.9:0.01:1.0]);\n",
    "FILE_IF_MAP = PATH_TO_GAPSE*\"data/IntF_pi2_z115.txt\"\n",
    "\n",
    "GaPSE.print_map_IntegratedF(\n",
    "    FILE_F_MAP, FILE_IF_MAP, \n",
    "    z_min, z_max, new_calc_μs, FILE_BACKGROUND;\n",
    "    trap = true, WFI_opts...\n",
    ")\n",
    "=#"
   ]
  },
  {
   "cell_type": "code",
   "execution_count": 10,
   "id": "4c649227-19e4-4cb1-889e-3c35eabf4822",
   "metadata": {},
   "outputs": [
    {
     "name": "stdout",
     "output_type": "stream",
     "text": [
      "###############\n",
      "#    GaPSE    #\n",
      "############### \n",
      "#\n",
      "# The Cosmology considered had the following paremeters:\n",
      "# \n",
      "# - Matter Power Spectrum input file: \"../test/datatest/file_pk.txt\"\n",
      "# - Background data input file: \"../test/datatest/WideA_ZA_background.dat\"\n",
      "# - F window function input file: \"../data/F_REFERENCE_pi2.txt\"\n",
      "# - Integrated F window function input file: \"../data/IntF_pi2_z115.txt\"\n",
      "#\n",
      "# - Basic CosmoParams considered: \n",
      "#\t z_min = 1.0 \t z_max = 1.5\n",
      "#\t θ_max = 1.5707963267948966 [rad] \t h_0 = 0.7\n",
      "#\t Ω_b = 0.0489 \t Ω_cdm = 0.25102 \t Ω_M0 = 0.29992\n",
      "#\t b = 1.0 \t f_evo = 0.0 \t s_b = 0.0\n",
      "#\n",
      "# - CosmoParams about the Input Power Spectrum: \n",
      "#\t fit_left_min = 1.0e-6 \t fit_right_min = 10.0 \t \n",
      "#\t fit_left_max = 3.0e-6 \t fit_right_max = 20.0 \t \n",
      "#\n",
      "# - CosmoParams about the Input Power Spectrum Tools: \n",
      "#\t k_max = 10.0 \t fit_max = 0.5 \t N = 1024 \t \n",
      "#\t con = true \t k_min = 1.0e-8 \t fit_min = 0.05 \t \n",
      "#\n",
      "# - CosmoParams about the Integrated Window Function F: \n",
      "#\t ss_step = 50 \t N = 1000 \t rtol = 0.05 \t \n",
      "#\t llim = 0.0 \t atol = 0.0 \t rlim = Inf \t \n",
      "#\t ss_stop = 0.0 \t trap = true \t ss_start = 0.0 \t \n",
      "#\n",
      "# - Computed quantities: \n",
      "# \t effective redshift z_eff = 1.2613556177172356 \n",
      "# \t comoving s_min = 2312.577431755554 Mpc/h_0\n",
      "# \t comoving s_max = 3054.4830200675647 Mpc/h_0\n",
      "# \t comoving s_eff = 2725.87720083235 Mpc/h_0\n",
      "# \t Volume of the survey V_survey = 3.378305693005294e10 Mpc^3/h_0^3\n",
      "# \t σ_0 = 15.593462966741178\n",
      "# \t σ_1 = 15.074895881392285\n",
      "# \t σ_2 = 100.85852368830226\n",
      "# \t σ_3 = 3735.1226181519773\n",
      "# \t (where σ_i = \\int_{k_{min}}^{k_{max}}\\frac{dq}{2 π^2} q^{2-i} P(q))\n",
      "# \n"
     ]
    }
   ],
   "source": [
    "FILE_IF_MAP = PATH_TO_GAPSE*\"data/IntF_pi2_z115.txt\"\n",
    "cosmo = GaPSE.Cosmology(params, FILE_BACKGROUND, FILE_PS, FILE_F_MAP, FILE_IF_MAP);\n",
    "\n",
    "GaPSE.parameters_used(stdout, cosmo)"
   ]
  },
  {
   "cell_type": "markdown",
   "id": "080624a9-e142-41be-9d4c-685f4720a1b7",
   "metadata": {
    "jp-MarkdownHeadingCollapsed": true,
    "tags": []
   },
   "source": [
    "## Check window function F an integrated IF"
   ]
  },
  {
   "cell_type": "code",
   "execution_count": 11,
   "id": "a5b7108f-506f-492c-991f-4a857b944cb8",
   "metadata": {},
   "outputs": [],
   "source": [
    "#=\n",
    "my_matrix = readdlm(FILE_F_MAP, comments=true)\n",
    "my_xs = convert(Vector{Float64}, my_matrix[:,1])\n",
    "my_μs = convert(Vector{Float64}, my_matrix[:,2])\n",
    "my_Fs = convert(Vector{Float64}, my_matrix[:,3]);\n",
    "my_F_grid = GridInterpolations.RectangleGrid( unique(my_μs), unique(my_xs))\n",
    "my_spline_F(x, μ) = GridInterpolations.interpolate(my_F_grid, my_Fs, [μ, x]);\n",
    "=#"
   ]
  },
  {
   "cell_type": "code",
   "execution_count": 12,
   "id": "8112d2d8-8b04-41cd-b61b-da762685b36c",
   "metadata": {},
   "outputs": [],
   "source": [
    "#=\n",
    "my_Imatrix = readdlm(FILE_IF_MAP, comments=true)\n",
    "my_Iss = convert(Vector{Float64}, my_Imatrix[:,1])\n",
    "my_Iμs = convert(Vector{Float64}, my_Imatrix[:,2])\n",
    "my_IFs = convert(Vector{Float64}, my_Imatrix[:,3]);\n",
    "my_IF_grid = GridInterpolations.RectangleGrid( unique(my_Iμs), unique(my_Iss))\n",
    "my_spline_IF(s, μ) = GridInterpolations.interpolate(my_IF_grid, my_IFs, [μ, s]);\n",
    "=#"
   ]
  },
  {
   "cell_type": "code",
   "execution_count": 13,
   "id": "470714b9-6115-4967-a2b1-515105af87b0",
   "metadata": {},
   "outputs": [],
   "source": [
    "#=\n",
    "p1 = plot(my_xs, my_μs, my_Fs; xl=\"s\", yl=\"μ\", zl=\"int\", \n",
    "    st = :surface, c=cgrad([:yellow, :red]), size=(600, 300), \n",
    "    title=\"my F\", legend = false)\n",
    "p2 = plot(my_Iss, my_Iμs, my_IFs; xl=\"s\", yl=\"μ\", zl=\"intF\", \n",
    "    st = :surface, c=cgrad([:yellow, :red]), size=(600, 300), \n",
    "    title=\"my IntF\", legend = false)\n",
    "plot(p1, p2, size=(1200, 400))\n",
    "=#"
   ]
  },
  {
   "cell_type": "code",
   "execution_count": 14,
   "id": "8e4b025b-84af-4392-a9a1-1ee65a129cd3",
   "metadata": {},
   "outputs": [],
   "source": [
    "#=\n",
    "pyplot()\n",
    "\n",
    "title = plot(title = \"Slices of F for different x values\", grid=false, \n",
    "    showaxis = false, bottom_margin = -50Plots.px, ticks=false)\n",
    "\n",
    "θ_max =  π/2.0;\n",
    "xs = [0.0, 0.5, 1.0, 1.5, 2.0, 2.5, 3.0, 3.5, 4.0, 4.5, 5.0];\n",
    "μs = range(-1.0, 1.0, length=100);\n",
    "\n",
    "LIST_P = [plot() for i in 1:length(xs)]\n",
    "for (i,x) in enumerate(xs)\n",
    "    tit = \"\\n\\n x = $x\"\n",
    "    xs_1 = μs\n",
    "    ys_1 = [my_spline_F(x, μ) for μ in xs_1]\n",
    "\n",
    "    LIST_P[i] = plot(xs_1, ys_1, \n",
    "        #xaxis=:log, yaxis=:log, \n",
    "        lc=:red, title=tit, legend=false,\n",
    "        ylabel=L\"F(x,\\mu)\", ls=:solid, \n",
    "        #xticks=10.0 .^ range(-3,0, step=1),\n",
    "    )\n",
    "end\n",
    "\n",
    "l = @layout [ A{0.003h} ; a b c d ; e f g h ; i l j _]\n",
    "ALL_PLOTS = plot(title, LIST_P..., layout=l,\n",
    "    left_margins = 15Plots.px, right_margins = 15Plots.px, size=(1000,700))\n",
    "=#"
   ]
  },
  {
   "cell_type": "code",
   "execution_count": 15,
   "id": "2b56f990-85d8-49d7-8077-8afbd714e14c",
   "metadata": {},
   "outputs": [],
   "source": [
    "#=\n",
    "pyplot()\n",
    "\n",
    "title = plot(title = \"Slices of IF for different s values\", grid=false, \n",
    "    showaxis = false, bottom_margin = -50Plots.px, ticks=false)\n",
    "\n",
    "θ_max =  π/2.0;\n",
    "ss = vcat([10.0], [i*max(my_Iss...)/6 for i in 1:5]);\n",
    "μs = range(-1.0, 1.0, length=100);\n",
    "\n",
    "LIST_P = [plot() for i in 1:length(ss)]\n",
    "for (i,s) in enumerate(ss)\n",
    "    tit = \"\\n\\n s = $s [Mpc/h_0]\"\n",
    "    xs_1 = μs\n",
    "    ys_1 = [my_spline_IF(s, μ) for μ in xs_1]\n",
    "\n",
    "    LIST_P[i] = plot(xs_1, ys_1, \n",
    "        #xaxis=:log, yaxis=:log, \n",
    "        lc=:red, title=tit, legend=false,\n",
    "        ylabel=L\"IF(s,\\mu)\", ls=:solid, \n",
    "        #xticks=10.0 .^ range(-3,0, step=1),\n",
    "    )\n",
    "end\n",
    "\n",
    "l = @layout [ A{0.003h} ; a b c ; d e f ]\n",
    "ALL_PLOTS = plot(title, LIST_P..., layout=l,\n",
    "    left_margins = 15Plots.px, right_margins = 15Plots.px, size=(1000,500))\n",
    "=#"
   ]
  },
  {
   "cell_type": "markdown",
   "id": "1056eb5f-daaf-404a-976a-1e2a3ec2820f",
   "metadata": {
    "jp-MarkdownHeadingCollapsed": true,
    "tags": []
   },
   "source": [
    "## Computation of the Matter TPCF and PS from the CLASS one"
   ]
  },
  {
   "cell_type": "code",
   "execution_count": 16,
   "id": "24456785-e878-4a14-b5d1-4a23c9cb069c",
   "metadata": {},
   "outputs": [],
   "source": [
    "in_file_ps = FILE_PS;\n",
    "out_xi_matter_L0 = DIR*\"xi_matter_L0.txt\";\n",
    "out_ps_matter_L0 = DIR*\"ps_matter_L0.txt\";"
   ]
  },
  {
   "cell_type": "code",
   "execution_count": 17,
   "id": "4655cb0f-fc97-4294-8bbb-1098f994c489",
   "metadata": {},
   "outputs": [
    {
     "name": "stdout",
     "output_type": "stream",
     "text": [
      "\n",
      "I'm computing the TPCF from the file \"../test/datatest/file_pk.txt\" \n",
      "\n",
      "time needed for this TPCF computation [in s] = 0.16886210441589355\n",
      "\n",
      "\n",
      "I'm computing the PS_multipole from the file \"Effective_fNL_z115_files/xi_matter_L0.txt\" \n",
      "\n",
      "time needed for this Power Spectrum computation [in s] = 0.1988818645477295\n",
      "\n"
     ]
    }
   ],
   "source": [
    "GaPSE.print_ξ_from_PS(in_file_ps, out_xi_matter_L0; \n",
    "    int_k_min = 1/(2*cosmo.s_max), int_k_max = 1e1,\n",
    "     L = 0, N = 1024, pr = true,\n",
    "     s0 = nothing, right = nothing);\n",
    "\n",
    "GaPSE.print_PS_multipole(out_xi_matter_L0, out_ps_matter_L0;\n",
    "     L = 0, ps_kwargs(tf)...);"
   ]
  },
  {
   "cell_type": "code",
   "execution_count": 18,
   "id": "c940c556-c666-4282-af9e-f5898532e4c8",
   "metadata": {},
   "outputs": [],
   "source": [
    "ss_matter_L0, xis_matter_L0 = GaPSE.readxy(out_xi_matter_L0);\n",
    "ks_matter_L0, pks_matter_L0 = GaPSE.readxy(out_ps_matter_L0);"
   ]
  },
  {
   "cell_type": "markdown",
   "id": "42f5cc16-b7d9-4371-9df2-ad0daea568c0",
   "metadata": {
    "jp-MarkdownHeadingCollapsed": true,
    "tags": []
   },
   "source": [
    "## Matter TPCF and PS L=0,2,4 in PP Approximation"
   ]
  },
  {
   "cell_type": "code",
   "execution_count": 19,
   "id": "17e48888-1db7-4d8d-a1e5-a0ecfdd2b565",
   "metadata": {},
   "outputs": [],
   "source": [
    "#=\n",
    "out_xi_ppmatter_L0_withF = DIR*\"xi_ppmatter_L0_withF.txt\";\n",
    "out_ps_ppmatter_L0_withF = DIR*\"ps_ppmatter_L0_withF.txt\";\n",
    "\n",
    "GaPSE.print_map_ξ_PPMatter_multipole(cosmo, \n",
    "    out_xi_ppmatter_L0_withF, 10 .^ range(0,log10(2*cosmo.s_max),length=1000);\n",
    "    L = 0, use_windows = true, pr = true, enhancer = 1e6,\n",
    "    μ_atol = 0.0, μ_rtol = 1e-2);\n",
    "GaPSE.print_PS_multipole(out_xi_ppmatter_L0_withF, out_ps_ppmatter_L0_withF;\n",
    "     L = 0, ps_kwargs(tf)...);\n",
    "ks_ppm_L0_withF, pks_ppm_L0_withF = GaPSE.readxy(out_ps_ppmatter_L0_withF);\n",
    "=#"
   ]
  },
  {
   "cell_type": "code",
   "execution_count": 20,
   "id": "30ff8875-606e-4439-954b-ba2b2c2b2ef3",
   "metadata": {},
   "outputs": [],
   "source": [
    "out_xi_ppmatter_L0_noF = DIR*\"xi_ppmatter_L0_noF.txt\";\n",
    "out_xi_ppmatter_L2_noF = DIR*\"xi_ppmatter_L2_noF.txt\";\n",
    "out_xi_ppmatter_L4_noF = DIR*\"xi_ppmatter_L4_noF.txt\";\n",
    "out_xi_ppmatter_L0_withF = DIR*\"xi_ppmatter_L0_withF.txt\";\n",
    "out_xi_ppmatter_L2_withF = DIR*\"xi_ppmatter_L2_withF.txt\";\n",
    "out_xi_ppmatter_L4_withF = DIR*\"xi_ppmatter_L4_withF.txt\";\n",
    "\n",
    "out_ps_ppmatter_L0_noF = DIR*\"ps_ppmatter_L0_noF.txt\";\n",
    "out_ps_ppmatter_L2_noF = DIR*\"ps_ppmatter_L2_noF.txt\";\n",
    "out_ps_ppmatter_L4_noF = DIR*\"ps_ppmatter_L4_noF.txt\";\n",
    "out_ps_ppmatter_L0_withF = DIR*\"ps_ppmatter_L0_withF.txt\";\n",
    "out_ps_ppmatter_L2_withF = DIR*\"ps_ppmatter_L2_withF.txt\";\n",
    "out_ps_ppmatter_L4_withF = DIR*\"ps_ppmatter_L4_withF.txt\";"
   ]
  },
  {
   "cell_type": "code",
   "execution_count": 21,
   "id": "23db7928-504e-436b-9e5e-d82460a506f5",
   "metadata": {},
   "outputs": [
    {
     "name": "stderr",
     "output_type": "stream",
     "text": [
      "\u001b[32mPP Matter, L=0: 100%|███████████████████████████████████| Time: 0:00:01\u001b[39m\n"
     ]
    },
    {
     "name": "stdout",
     "output_type": "stream",
     "text": [
      "\n",
      "time needed for map_ξ_PPMatter_multipole [in s] = 1.36514 \n",
      "\n",
      "time needed for map_ξ_PPMatter_multipole [in s] = 0.08038 \n",
      "\n",
      "time needed for map_ξ_PPMatter_multipole [in s] = 0.08208 \n",
      "\n",
      "I'm computing the PS_multipole from the file \"Effective_fNL_z115_files/xi_ppmatter_L0_noF.txt\" \n",
      "\n",
      "time needed for this Power Spectrum computation [in s] = 0.009224891662597656\n",
      "\n",
      "\n",
      "I'm computing the PS_multipole from the file \"Effective_fNL_z115_files/xi_ppmatter_L2_noF.txt\" \n",
      "\n",
      "time needed for this Power Spectrum computation [in s] = 0.0022699832916259766\n",
      "\n",
      "\n",
      "I'm computing the PS_multipole from the file \"Effective_fNL_z115_files/xi_ppmatter_L4_noF.txt\" \n",
      "\n",
      "time needed for this Power Spectrum computation [in s] = 0.003000020980834961\n",
      "\n"
     ]
    }
   ],
   "source": [
    "GaPSE.print_map_ξ_PPMatter_multipole(cosmo, \n",
    "    out_xi_ppmatter_L0_noF, 10 .^ range(0,log10(2*cosmo.s_max),length=500);\n",
    "    L = 0, use_windows = false, pr = true, enhancer = 1e6,\n",
    "    μ_atol = 0.0, μ_rtol = 1e-2);\n",
    "GaPSE.print_map_ξ_PPMatter_multipole(cosmo, \n",
    "    out_xi_ppmatter_L2_noF, 10 .^ range(0,log10(2*cosmo.s_max),length=500);\n",
    "    L = 2, use_windows = false, pr = true, enhancer = 1e6,\n",
    "    μ_atol = 0.0, μ_rtol = 1e-2);\n",
    "GaPSE.print_map_ξ_PPMatter_multipole(cosmo, \n",
    "    out_xi_ppmatter_L4_noF, 10 .^ range(0,log10(2*cosmo.s_max),length=500);\n",
    "    L = 4, use_windows = false, pr = true, enhancer = 1e6,\n",
    "    μ_atol = 0.0, μ_rtol = 1e-2);\n",
    "\n",
    "GaPSE.print_PS_multipole(out_xi_ppmatter_L0_noF, out_ps_ppmatter_L0_noF;\n",
    "     L = 0,  ps_kwargs(tf)...);\n",
    "GaPSE.print_PS_multipole(out_xi_ppmatter_L2_noF, out_ps_ppmatter_L2_noF;\n",
    "     L = 2,  ps_kwargs(tf)...);\n",
    "GaPSE.print_PS_multipole(out_xi_ppmatter_L4_noF, out_ps_ppmatter_L4_noF;\n",
    "     L = 4,  ps_kwargs(tf)...);"
   ]
  },
  {
   "cell_type": "code",
   "execution_count": 22,
   "id": "7ceb4e88-7233-4766-bdff-bfe5b68cee5d",
   "metadata": {},
   "outputs": [
    {
     "name": "stderr",
     "output_type": "stream",
     "text": [
      "\u001b[32mPP Matter, L=0: 100%|███████████████████████████████████| Time: 0:00:04\u001b[39m\n"
     ]
    },
    {
     "name": "stdout",
     "output_type": "stream",
     "text": [
      "\n",
      "time needed for map_ξ_PPMatter_multipole [in s] = 4.77704 \n"
     ]
    },
    {
     "name": "stderr",
     "output_type": "stream",
     "text": [
      "\u001b[32mPP Matter, L=2: 100%|███████████████████████████████████| Time: 0:00:08\u001b[39m\n"
     ]
    },
    {
     "name": "stdout",
     "output_type": "stream",
     "text": [
      "\n",
      "time needed for map_ξ_PPMatter_multipole [in s] = 8.22852 \n"
     ]
    },
    {
     "name": "stderr",
     "output_type": "stream",
     "text": [
      "\u001b[32mPP Matter, L=4: 100%|███████████████████████████████████| Time: 0:00:16\u001b[39m\n"
     ]
    },
    {
     "name": "stdout",
     "output_type": "stream",
     "text": [
      "\n",
      "time needed for map_ξ_PPMatter_multipole [in s] = 16.18714 \n",
      "\n",
      "I'm computing the PS_multipole from the file \"Effective_fNL_z115_files/xi_ppmatter_L0_withF.txt\" \n",
      "\n",
      "time needed for this Power Spectrum computation [in s] = 0.0027267932891845703\n",
      "\n",
      "\n",
      "I'm computing the PS_multipole from the file \"Effective_fNL_z115_files/xi_ppmatter_L2_withF.txt\" \n",
      "\n",
      "time needed for this Power Spectrum computation [in s] = 0.003626108169555664\n",
      "\n",
      "\n",
      "I'm computing the PS_multipole from the file \"Effective_fNL_z115_files/xi_ppmatter_L4_withF.txt\" \n",
      "\n",
      "time needed for this Power Spectrum computation [in s] = 0.0026051998138427734\n",
      "\n"
     ]
    }
   ],
   "source": [
    "GaPSE.print_map_ξ_PPMatter_multipole(cosmo, \n",
    "    out_xi_ppmatter_L0_withF, 10 .^ range(0,log10(2*cosmo.s_max),length=500);\n",
    "    L = 0, use_windows = true, pr = true, enhancer = 1e6,\n",
    "    μ_atol = 0.0, μ_rtol = 1e-2);\n",
    "GaPSE.print_map_ξ_PPMatter_multipole(cosmo, \n",
    "    out_xi_ppmatter_L2_withF, 10 .^ range(0,log10(2*cosmo.s_max),length=500);\n",
    "    L = 2, use_windows = true, pr = true, enhancer = 1e6,\n",
    "    μ_atol = 0.0, μ_rtol = 1e-2);\n",
    "GaPSE.print_map_ξ_PPMatter_multipole(cosmo, \n",
    "    out_xi_ppmatter_L4_withF, 10 .^ range(0,log10(2*cosmo.s_max),length=500);\n",
    "    L = 4, use_windows = true, pr = true, enhancer = 1e6,\n",
    "    μ_atol = 0.0, μ_rtol = 1e-2);\n",
    "\n",
    "GaPSE.print_PS_multipole(out_xi_ppmatter_L0_withF, out_ps_ppmatter_L0_withF;\n",
    "     L = 0, ps_kwargs(tf)...);\n",
    "GaPSE.print_PS_multipole(out_xi_ppmatter_L2_withF, out_ps_ppmatter_L2_withF;\n",
    "     L = 2, ps_kwargs(tf)...);\n",
    "GaPSE.print_PS_multipole(out_xi_ppmatter_L4_withF, out_ps_ppmatter_L4_withF;\n",
    "     L = 4, ps_kwargs(tf)...);"
   ]
  },
  {
   "cell_type": "code",
   "execution_count": 23,
   "id": "1740ed2d-2456-4f24-bf6c-e25c634b471c",
   "metadata": {},
   "outputs": [],
   "source": [
    "ss_ppm_L0_noF, xis_ppm_L0_noF = GaPSE.readxy(out_xi_ppmatter_L0_noF);\n",
    "ss_ppm_L2_noF, xis_ppm_L2_noF = GaPSE.readxy(out_xi_ppmatter_L2_noF);\n",
    "ss_ppm_L4_noF, xis_ppm_L4_noF = GaPSE.readxy(out_xi_ppmatter_L4_noF);\n",
    "ss_ppm_L0_withF, xis_ppm_L0_withF = GaPSE.readxy(out_xi_ppmatter_L0_withF);\n",
    "ss_ppm_L2_withF, xis_ppm_L2_withF = GaPSE.readxy(out_xi_ppmatter_L2_withF);\n",
    "ss_ppm_L4_withF, xis_ppm_L4_withF = GaPSE.readxy(out_xi_ppmatter_L4_withF);\n",
    "\n",
    "ks_ppm_L0_noF, pks_ppm_L0_noF = GaPSE.readxy(out_ps_ppmatter_L0_noF);\n",
    "ks_ppm_L2_noF, pks_ppm_L2_noF = GaPSE.readxy(out_ps_ppmatter_L2_noF);\n",
    "ks_ppm_L4_noF, pks_ppm_L4_noF = GaPSE.readxy(out_ps_ppmatter_L4_noF);\n",
    "ks_ppm_L0_withF, pks_ppm_L0_withF = GaPSE.readxy(out_ps_ppmatter_L0_withF);\n",
    "ks_ppm_L2_withF, pks_ppm_L2_withF = GaPSE.readxy(out_ps_ppmatter_L2_withF);\n",
    "ks_ppm_L4_withF, pks_ppm_L4_withF = GaPSE.readxy(out_ps_ppmatter_L4_withF);"
   ]
  },
  {
   "cell_type": "code",
   "execution_count": 24,
   "id": "2172417d-ca85-4d17-a5c1-c865b430731a",
   "metadata": {},
   "outputs": [],
   "source": [
    "#=\n",
    "spline_xi_ppm_L0_noF = Spline1D(ss_ppm_L0_noF, xis_ppm_L0_noF);\n",
    "spline_xi_ppm_L2_noF = Spline1D(ss_ppm_L2_noF, xis_ppm_L2_noF);\n",
    "spline_xi_ppm_L4_noF = Spline1D(ss_ppm_L4_noF, xis_ppm_L4_noF);\n",
    "\n",
    "ss_ppm_tot_noF = ss_ppm_L0_noF;\n",
    "xis_ppm_tot_noF = [spline_xi_ppm_L0_noF(s) + \n",
    "    spline_xi_ppm_L2_noF(s) + spline_xi_ppm_L4_noF(s) for s in ss_ppm_tot_noF];\n",
    "\n",
    "spline_xi_ppm_L0_withF = Spline1D(ss_ppm_L0_withF, xis_ppm_L0_withF);\n",
    "spline_xi_ppm_L2_withF = Spline1D(ss_ppm_L2_withF, xis_ppm_L2_withF);\n",
    "spline_xi_ppm_L4_withF = Spline1D(ss_ppm_L4_withF, xis_ppm_L4_withF);\n",
    "\n",
    "ss_ppm_tot_withF = ss_ppm_L0_withF;\n",
    "xis_ppm_tot_withF = [spline_xi_ppm_L0_withF(s) + \n",
    "    spline_xi_ppm_L2_withF(s) + spline_xi_ppm_L4_withF(s) for s in ss_ppm_tot_withF];\n",
    "=#"
   ]
  },
  {
   "cell_type": "markdown",
   "id": "6a0a9f3b-a058-4e42-b308-11ed24a9b663",
   "metadata": {
    "jp-MarkdownHeadingCollapsed": true,
    "tags": []
   },
   "source": [
    "## Check Matter TPCF L=0,2,4 in PP approx"
   ]
  },
  {
   "cell_type": "code",
   "execution_count": 25,
   "id": "3a2f48d3-6950-40ef-9e4b-7e934991ff2a",
   "metadata": {},
   "outputs": [],
   "source": [
    "c_ss_ppm =  10 .^ range(0,log10(2*cosmo.s_max),length=1000)\n",
    "\n",
    "c_xi_ppm_L0 = [GaPSE.ξ_PP_Matter_L0(s, cosmo) for s in c_ss_ppm];\n",
    "c_xi_ppm_L2 = [GaPSE.ξ_PP_Matter_L2(s, cosmo) for s in c_ss_ppm];\n",
    "c_xi_ppm_L4 = [GaPSE.ξ_PP_Matter_L4(s, cosmo) for s in c_ss_ppm];"
   ]
  },
  {
   "cell_type": "code",
   "execution_count": 26,
   "id": "20e463f3-53c8-4b7f-9620-fa0043d8c6b3",
   "metadata": {},
   "outputs": [
    {
     "data": {
      "image/png": "[encoded data removed]"
     },
     "execution_count": 26,
     "metadata": {},
     "output_type": "execute_result"
    }
   ],
   "source": [
    "xs_1 = ss_ppm_L0_noF\n",
    "ys_1 = xis_ppm_L0_noF \n",
    "spline = Spline1D(xs_1, ys_1)\n",
    "\n",
    "xs_2 = c_ss_ppm\n",
    "ys_2 = c_xi_ppm_L0\n",
    "\n",
    "p1 = plot([xs_1, xs_2], [abs.(ys_1), abs.(ys_2)],\n",
    "    xaxis=:log, yaxis=:log, legend=:bottomleft,\n",
    "    lc=[:red :blue], \n",
    "    title = \"PP Matter L=0 check\",\n",
    "    label=[\"multipole\" \"ξ_PP_matter_L0_L0\"], ls=[:dash :dot], \n",
    "    ylabel = L\"s^2 \\, \\xi(s) \\quad [h_0^{-2} \\,\\mathrm{Mpc}^{2}]\")\n",
    "p2 = plot(xs_2, spline.(xs_2) ./ ys_2, \n",
    "    ylabel=\"Ratio\", lc=:green, \n",
    "    xaxis=:log, ylim=(0,2), legend=false, \n",
    "    xlabel=L\"$s \\quad [h_0^{-1} \\,\\mathrm{Mpc}]$\")\n",
    "\n",
    "P = plot(p1, p2, size=(500, 400), layout= @layout [ x ; z ] )"
   ]
  },
  {
   "cell_type": "code",
   "execution_count": 27,
   "id": "16ded403-e221-43c4-aeaf-b19cabbb9a34",
   "metadata": {},
   "outputs": [
    {
     "data": {
      "image/png": "[encoded data removed]"
     },
     "execution_count": 27,
     "metadata": {},
     "output_type": "execute_result"
    }
   ],
   "source": [
    "xs_1 = ss_ppm_L2_noF\n",
    "ys_1 = xis_ppm_L2_noF \n",
    "spline = Spline1D(xs_1, ys_1)\n",
    "\n",
    "xs_2 = c_ss_ppm\n",
    "ys_2 = c_xi_ppm_L2\n",
    "\n",
    "p1 = plot([xs_1, xs_2], [abs.(ys_1), abs.(ys_2)],\n",
    "    xaxis=:log, yaxis=:log, legend=:bottomleft,\n",
    "    lc=[:red :blue], \n",
    "    title = \"PP Matter L=2 check\",\n",
    "    label=[\"multipole\" \"ξ_PP_matter_L0_L2\"], ls=[:dash :dot], \n",
    "    ylabel = L\"s^2 \\, \\xi(s) \\quad [h_0^{-2} \\,\\mathrm{Mpc}^{2}]\")\n",
    "p2 = plot(xs_2, spline.(xs_2) ./ ys_2, \n",
    "    ylabel=\"Ratio\", lc=:green, \n",
    "    xaxis=:log, ylim=(0,2), legend=false, \n",
    "    xlabel=L\"$s \\quad [h_0^{-1} \\,\\mathrm{Mpc}]$\")\n",
    "\n",
    "P = plot(p1, p2, size=(500, 400), layout= @layout [ x ; z ] )"
   ]
  },
  {
   "cell_type": "code",
   "execution_count": 28,
   "id": "5bc2ab72-bd31-47c7-85ca-e091b60071b1",
   "metadata": {},
   "outputs": [
    {
     "data": {
      "image/png": "[encoded data removed]"
     },
     "execution_count": 28,
     "metadata": {},
     "output_type": "execute_result"
    }
   ],
   "source": [
    "xs_1 = ss_ppm_L4_noF\n",
    "ys_1 = xis_ppm_L4_noF \n",
    "spline = Spline1D(xs_1, ys_1)\n",
    "\n",
    "xs_2 = c_ss_ppm\n",
    "ys_2 = c_xi_ppm_L4\n",
    "\n",
    "p1 = plot([xs_1, xs_2], [abs.(ys_1), abs.(ys_2)],\n",
    "    xaxis=:log, yaxis=:log, legend=:bottomleft,\n",
    "    lc=[:red :blue], \n",
    "    title = \"PP Matter L=4 check\",\n",
    "    label=[\"multipole\" \"ξ_PP_matter_L0_L4\"], ls=[:dash :dot], \n",
    "    ylabel = L\"s^2 \\, \\xi(s) \\quad [h_0^{-2} \\,\\mathrm{Mpc}^{2}]\")\n",
    "p2 = plot(xs_2, spline.(xs_2) ./ ys_2, \n",
    "    ylabel=\"Ratio\", lc=:green, \n",
    "    xaxis=:log, ylim=(0,2), legend=false, \n",
    "    xlabel=L\"$s \\quad [h_0^{-1} \\,\\mathrm{Mpc}]$\")\n",
    "\n",
    "P = plot(p1, p2, size=(500, 400), layout= @layout [ x ; z ] )"
   ]
  },
  {
   "cell_type": "markdown",
   "id": "1564102c-24db-4a91-9f54-a7624796d3d7",
   "metadata": {
    "jp-MarkdownHeadingCollapsed": true,
    "tags": []
   },
   "source": [
    "## Check Plots"
   ]
  },
  {
   "cell_type": "code",
   "execution_count": 29,
   "id": "ed05d86d-f0ed-4de2-bd99-79fccc4cb8c6",
   "metadata": {},
   "outputs": [
    {
     "data": {
      "image/png": "[encoded data removed]"
     },
     "execution_count": 29,
     "metadata": {},
     "output_type": "execute_result"
    }
   ],
   "source": [
    "xs_1 = ks_matter_L0\n",
    "ys_1 = pks_matter_L0 \n",
    "spline = Spline1D(xs_1, ys_1)\n",
    "\n",
    "xs_2 = ks_matter_L0\n",
    "ys_2 = [cosmo.IPS(k) for k in xs_2 ]\n",
    "\n",
    "\n",
    "S_VLIM = 8\n",
    "S_VLIM_F = @sprintf(\"%.2f\", S_VLIM)\n",
    "\n",
    "p1 = plot([xs_1, xs_2], [abs.(ys_1), abs.(ys_2)],\n",
    "    xaxis=:log, yaxis=:log, legend=:bottomleft,\n",
    "    lc=[:red :blue], \n",
    "    title = \"Matter PS at z=0\",\n",
    "    label=[\"Back and Forth\" \"True (from CLASS)\"], ls=[:dash :dot], \n",
    "    ylabel = L\"s^2 \\, \\xi(s) \\quad [h_0^{-2} \\,\\mathrm{Mpc}^{2}]\")\n",
    "#vline!(p1, [S_VLIM], label=\"$S_VLIM_F Mpc/h_0\", lc=:black, lw=0.5, ls=:dash)\n",
    "\n",
    "p2 = plot(xs_2, spline.(xs_2) ./ ys_2, \n",
    "    ylabel=\"Ratio\", lc=:green, \n",
    "    xaxis=:log, ylim=(0,2), legend=false, \n",
    "    xlabel=L\"$s \\quad [h_0^{-1} \\,\\mathrm{Mpc}]$\")\n",
    "#vline!(p2, [S_VLIM], label=\"$S_VLIM_F Mpc/h_0\", lc=:black, lw=0.5, ls=:dash)\n",
    "\n",
    "P = plot(p1, p2, size=(500, 400), layout= @layout [ x ; z ] )\n",
    "#savefig(P, \"PS_AutoDoppler_L0.pdf\")\n",
    "#display(P)"
   ]
  },
  {
   "cell_type": "code",
   "execution_count": 30,
   "id": "f11ecbc7-a3a8-4524-acc7-7901e52d897b",
   "metadata": {},
   "outputs": [
    {
     "data": {
      "image/png": "[encoded data removed]"
     },
     "execution_count": 30,
     "metadata": {},
     "output_type": "execute_result"
    }
   ],
   "source": [
    "xs_1 = ss_ppm_L0_noF\n",
    "xs_2 = ss_ppm_L2_noF\n",
    "xs_3 = ss_ppm_L4_noF\n",
    "\n",
    "ys_1 = [cosmo.tools.I00(s) for s in xs_1] .* xs_1 .^2\n",
    "ys_2 = [cosmo.tools.I20(s) for s in xs_2] .* xs_2 .^2\n",
    "ys_3 = [cosmo.tools.I40(s) for s in xs_3] .* xs_3 .^2\n",
    "\n",
    "p1 = plot(xs_1, ys_1,\n",
    "    xaxis=:log, #yaxis=:log, \n",
    "    lc=:red, title = \"I00, I20, I40\",\n",
    "    label=L\"I_0^0\", ls=:solid, legend=:topright, size=(600, 300),\n",
    "    ylabel = L\"s^2 \\, I_{\\ell}^n(s) \\quad [h_0^{-2} \\,\\mathrm{Mpc}^{2}]\",\n",
    "    xlabel = L\"s \\quad [h_0^{-1} \\mathrm{Mpc}]\")\n",
    "plot!(p1, xs_2, ys_2, label = L\"I_{2}^0\", ls=:dash, lc =:blue)\n",
    "plot!(p1, xs_3, ys_3, label = L\"I_4^0\", ls=:dot, lc =:green)"
   ]
  },
  {
   "cell_type": "code",
   "execution_count": 31,
   "id": "dbeccd92-3fd5-46c7-a554-b28227ab035e",
   "metadata": {},
   "outputs": [
    {
     "data": {
      "image/png": "[encoded data removed]"
     },
     "execution_count": 31,
     "metadata": {},
     "output_type": "execute_result"
    }
   ],
   "source": [
    "xs_1 = ss_matter_L0\n",
    "ys_1 = abs.(xis_matter_L0 .* xs_1 .^2)\n",
    "\n",
    "#xs_2 = ss_GNC_L0_withF\n",
    "#ys_2 = 2.0 .* abs.(all_xis_GNC_L0_withF[1] .* xs_2 .^2)\n",
    "xs_2 = ss_matter_L0\n",
    "ys_2 = abs.([cosmo.tools.I00(s) for s in xs_2] .* xs_2 .^2)\n",
    "spline = Spline1D(xs_2, ys_2)\n",
    "\n",
    "S_VLIM = 8\n",
    "S_VLIM_F = @sprintf(\"%.2f\", S_VLIM)\n",
    "\n",
    "p1 = plot([xs_1[ys_1.≠0], xs_2[ys_2.≠0]], [ys_1[ys_1.≠0], ys_2[ys_2.≠0]],\n",
    "    xaxis=:log, yaxis=:log, \n",
    "    lc=[:red :blue], \n",
    "    title = \"Matter from CLASS and Newtonian GR effect L=0\",\n",
    "    label=[\"Matter (from CLASS)\" \"2*GNC Newtonian GR effect L=0\"], ls=[:dash :dot], \n",
    "    ylabel = L\"s^2 \\, \\xi(s) \\quad [h_0^{-2} \\,\\mathrm{Mpc}^{2}]\",\n",
    "    legend=false)\n",
    "#vline!(p1, [S_VLIM], label=\"$S_VLIM_F Mpc/h_0\", lc=:black, lw=0.5, ls=:dash)\n",
    "\n",
    "p2 = plot(xs_1, spline.(xs_1) ./ ys_1, \n",
    "    ylabel=\"Ratio\", lc=:green, \n",
    "    xaxis=:log,\n",
    "    ylim=(0.0,2), \n",
    "    legend=false, \n",
    "    xlabel=L\"$s \\quad [h_0^{-1} \\,\\mathrm{Mpc}]$\")\n",
    "#vline!(p2, [S_VLIM], label=\"$S_VLIM_F Mpc/h_0\", lc=:black, lw=0.5, ls=:dash)\n",
    "\n",
    "P = plot(p1, p2, size=(500, 400), layout= @layout [ x ; z ] )\n",
    "#savefig(P, \"PS_AutoDoppler_L0.pdf\")\n",
    "#display(P)"
   ]
  },
  {
   "cell_type": "code",
   "execution_count": 32,
   "id": "6559079f-a9d4-4b8c-820e-029dabf3ce99",
   "metadata": {},
   "outputs": [
    {
     "data": {
      "image/png": "[encoded data removed]"
     },
     "execution_count": 32,
     "metadata": {},
     "output_type": "execute_result"
    }
   ],
   "source": [
    "xs_1 = ss_ppm_L0_noF\n",
    "xs_2 = ss_ppm_L2_noF\n",
    "xs_3 = ss_ppm_L4_noF\n",
    "\n",
    "ys_1 = xis_ppm_L0_noF .* xs_1 .^2\n",
    "ys_2 = xis_ppm_L2_noF .* xs_1 .^2\n",
    "ys_3 = xis_ppm_L4_noF .* xs_1 .^2\n",
    "\n",
    "xs_4 = ss_ppm_L0_withF\n",
    "xs_5 = ss_ppm_L2_withF\n",
    "xs_6 = ss_ppm_L4_withF\n",
    "\n",
    "ys_4 = xis_ppm_L0_withF .* xs_4 .^2\n",
    "ys_5 = xis_ppm_L2_withF .* xs_5 .^2\n",
    "ys_6 = xis_ppm_L4_withF .* xs_6 .^2\n",
    "\n",
    "p1 = plot(xs_1, ys_1,\n",
    "    xaxis=:log, #yaxis=:log, \n",
    "    lc=:red, title = \"PPM TPCF multipoles noF\",\n",
    "    label=\"L=0\", ls=:solid, legend=:topright,\n",
    "    ylabel = L\"s^2 \\, \\xi(s) \\quad [h_0^{-2} \\,\\mathrm{Mpc}^{2}]\",\n",
    "    xlabel = L\"s \\quad [h_0^{-1} \\mathrm{Mpc}]\")\n",
    "plot!(p1, xs_2, ys_2, label = \"L=2\", ls=:dash, lc =:blue)\n",
    "plot!(p1, xs_3, ys_3, label = \"L=4\", ls=:dot, lc =:green)\n",
    "\n",
    "p2 = plot(xs_4, ys_4,\n",
    "    xaxis=:log, #yaxis=:log, \n",
    "    lc=:red, title = \"PPM TPCF multipoles withF\",\n",
    "    label=\"L=0\", ls=:solid, legend=:topright,\n",
    "    ylabel = L\"s^2 \\, \\xi(s) \\quad [h_0^{-2} \\,\\mathrm{Mpc}^{2}]\",\n",
    "    xlabel = L\"s \\quad [h_0^{-1} \\mathrm{Mpc}]\")\n",
    "plot!(p2, xs_5, ys_5, label = \"L=2\", ls=:dash, lc =:blue)\n",
    "plot!(p2, xs_6, ys_6, label = \"L=4\", ls=:dot, lc =:green)\n",
    "\n",
    "plot(p1, p2, size=(800, 300))"
   ]
  },
  {
   "cell_type": "code",
   "execution_count": 33,
   "id": "c9362820-9a33-4601-ae3c-d0ab3a2e6b08",
   "metadata": {},
   "outputs": [
    {
     "ename": "LoadError",
     "evalue": "UndefVarError: spline_xi_ppm_L0_noF not defined",
     "output_type": "error",
     "traceback": [
      "UndefVarError: spline_xi_ppm_L0_noF not defined",
      "",
      "Stacktrace:",
      " [1] (::var\"#23#24\")(s::Float64)",
      "   @ Main ./none:0",
      " [2] iterate",
      "   @ ./generator.jl:47 [inlined]",
      " [3] collect(itr::Base.Generator{Vector{Float64}, var\"#23#24\"})",
      "   @ Base ./array.jl:724",
      " [4] top-level scope",
      "   @ In[33]:6",
      " [5] eval",
      "   @ ./boot.jl:373 [inlined]",
      " [6] include_string(mapexpr::typeof(REPL.softscope), mod::Module, code::String, filename::String)",
      "   @ Base ./loading.jl:1196"
     ]
    }
   ],
   "source": [
    "xs_1 = ss_matter_L0\n",
    "ys_1 = xis_matter_L0 .* xs_1 .^2\n",
    "spline = Spline1D(xs_1, ys_1)\n",
    "\n",
    "xs_2 = ss_ppm_L0_noF\n",
    "ys_2 = [spline_xi_ppm_L0_noF(s) for s in xs_2 ] .* xs_2 .^2\n",
    "\n",
    "\n",
    "S_VLIM = 8\n",
    "S_VLIM_F = @sprintf(\"%.2f\", S_VLIM)\n",
    "\n",
    "p1 = plot([xs_1, xs_2], [abs.(ys_1), abs.(ys_2)],\n",
    "    xaxis=:log, yaxis=:log, legend=:bottomleft,\n",
    "    lc=[:red :blue], \n",
    "    title = \"Matter TPCF\",\n",
    "    label=[\"True (from CLASS)\" \"sum multipoles PP\"], ls=[:dash :dot], \n",
    "    ylabel = L\"s^2 \\, \\xi(s) \\quad [h_0^{-2} \\,\\mathrm{Mpc}^{2}]\")\n",
    "#vline!(p1, [S_VLIM], label=\"$S_VLIM_F Mpc/h_0\", lc=:black, lw=0.5, ls=:dash)\n",
    "\n",
    "p2 = plot(xs_2, spline.(xs_2) ./ ys_2, \n",
    "    ylabel=\"Ratio\", lc=:green, \n",
    "    xaxis=:log, ylim=(0,2), legend=false, \n",
    "    xlabel=L\"$s \\quad [h_0^{-1} \\,\\mathrm{Mpc}]$\")\n",
    "#vline!(p2, [S_VLIM], label=\"$S_VLIM_F Mpc/h_0\", lc=:black, lw=0.5, ls=:dash)\n",
    "\n",
    "P = plot(p1, p2, size=(500, 400), layout= @layout [ x ; z ] )\n",
    "#savefig(P, \"PS_AutoDoppler_L0.pdf\")\n",
    "#display(P)"
   ]
  },
  {
   "cell_type": "code",
   "execution_count": 34,
   "id": "2ccb1b22-1f87-4904-8968-74b0c8821e3d",
   "metadata": {},
   "outputs": [
    {
     "data": {
      "image/png": "[encoded data removed]"
     },
     "execution_count": 34,
     "metadata": {},
     "output_type": "execute_result"
    }
   ],
   "source": [
    "xs_1 = ss_ppm_L0_noF\n",
    "ys_1 = xis_ppm_L0_noF .* xs_1 .^2\n",
    "\n",
    "xs_2 = ss_ppm_L0_withF[xis_ppm_L0_withF .≠ 0]\n",
    "ys_2 = xis_ppm_L0_withF[xis_ppm_L0_withF .≠ 0] .* xs_2 .^2\n",
    "spline = Spline1D(xs_2, ys_2)\n",
    "\n",
    "\n",
    "S_VLIM = 8\n",
    "S_VLIM_F = @sprintf(\"%.2f\", S_VLIM)\n",
    "\n",
    "p1 = plot([xs_1, xs_2], [abs.(ys_1), abs.(ys_2)],\n",
    "    xaxis=:log, yaxis=:log, legend=:bottomleft,\n",
    "    lc=[:red :blue], \n",
    "    title = \"Matter TPCF\",\n",
    "    label=[\"PP noF\" \"PP withF\"], ls=[:dash :dot], \n",
    "    ylabel = L\"s^2 \\, \\xi(s) \\quad [h_0^{-2} \\,\\mathrm{Mpc}^{2}]\")\n",
    "#vline!(p1, [S_VLIM], label=\"$S_VLIM_F Mpc/h_0\", lc=:black, lw=0.5, ls=:dash)\n",
    "\n",
    "p2 = plot(xs_1, spline.(xs_1) ./ ys_1, \n",
    "    ylabel=\"Ratio\", lc=:green, \n",
    "    xaxis=:log, ylim=(0,2), legend=false, \n",
    "    xlabel=L\"$s \\quad [h_0^{-1} \\,\\mathrm{Mpc}]$\")\n",
    "#vline!(p2, [S_VLIM], label=\"$S_VLIM_F Mpc/h_0\", lc=:black, lw=0.5, ls=:dash)\n",
    "\n",
    "P = plot(p1, p2, size=(500, 400), layout= @layout [ x ; z ] )\n",
    "#savefig(P, \"PS_AutoDoppler_L0.pdf\")\n",
    "#display(P)"
   ]
  },
  {
   "cell_type": "code",
   "execution_count": 35,
   "id": "b78e4414-cf70-4ad7-bb5d-557e47ddfb75",
   "metadata": {},
   "outputs": [
    {
     "data": {
      "image/png": "[encoded data removed]"
     },
     "execution_count": 35,
     "metadata": {},
     "output_type": "execute_result"
    }
   ],
   "source": [
    "xs_1 = ks_ppm_L0_noF\n",
    "ys_1 = abs.(pks_ppm_L0_noF)\n",
    "\n",
    "xs_2 = ks_ppm_L0_withF\n",
    "ys_2 = abs.(pks_ppm_L0_withF)\n",
    "spline = Spline1D(xs_2, ys_2)\n",
    "\n",
    "S_VLIM = 8\n",
    "S_VLIM_F = @sprintf(\"%.2f\", S_VLIM)\n",
    "\n",
    "p1 = plot([xs_1, xs_2], [ys_1, ys_2],\n",
    "    xaxis=:log, yaxis=:log, \n",
    "    lc=[:red :blue], \n",
    "    title = \"Matter PS\",\n",
    "    label=[\"PP noF\" \"PP withF\"], ls=[:dash :dot], \n",
    "    ylabel = L\"P(k) \\quad [h_0^{-3} \\,\\mathrm{Mpc}^{3}]\",\n",
    "    legend=:bottom)\n",
    "#vline!(p1, [S_VLIM], label=\"$S_VLIM_F Mpc/h_0\", lc=:black, lw=0.5, ls=:dash)\n",
    "\n",
    "p2 = plot(xs_1, spline.(xs_1) ./ ys_1, \n",
    "    ylabel=\"Ratio\", lc=:green, \n",
    "    xaxis=:log, ylim=(0,2), legend=false, \n",
    "    xlabel=L\"$k \\quad [h_0 \\,\\mathrm{Mpc}^{-1}]$\")\n",
    "#vline!(p2, [S_VLIM], label=\"$S_VLIM_F Mpc/h_0\", lc=:black, lw=0.5, ls=:dash)\n",
    "\n",
    "P = plot(p1, p2, size=(500, 400), layout= @layout [ x ; z ] )\n",
    "#savefig(P, \"PS_AutoDoppler_L0.pdf\")\n",
    "#display(P)"
   ]
  },
  {
   "cell_type": "markdown",
   "id": "4d83e902-1dfc-4682-8160-edff79d880b3",
   "metadata": {
    "jp-MarkdownHeadingCollapsed": true,
    "tags": []
   },
   "source": [
    "## All GR effects TPCFs computation (no F)"
   ]
  },
  {
   "cell_type": "code",
   "execution_count": 36,
   "id": "b7fd5e6c-9c46-4479-8204-62a38aa38c89",
   "metadata": {},
   "outputs": [],
   "source": [
    "#=\n",
    "GaPSE.print_map_sum_ξ_LD_multipole(\n",
    "    cosmo, DIR*\"map_sum_xis_LD_L0_noF.txt\", \n",
    "    10 .^ range(0, log10(2*cosmo.s_max), length = 500);\n",
    "    single = true, use_windows = false, enhancer = 1e8, L=0,\n",
    "    N_μs = 200, μ_atol = 0.0, μ_rtol = 1e-2, trap = true,\n",
    "    N_χs = 100, N_χs_2 = 60);\n",
    "=#"
   ]
  },
  {
   "cell_type": "code",
   "execution_count": 37,
   "id": "fd2c7fab-2609-493e-b6ca-b4ed32b3cad0",
   "metadata": {},
   "outputs": [],
   "source": [
    "#=\n",
    "GaPSE.print_map_sum_ξ_GNC_multipole(\n",
    "    cosmo, DIR*\"map_sum_xis_GNC_L0_noF.txt\", \n",
    "    10 .^ range(0, log10(2*cosmo.s_max), length = 500);\n",
    "    single = true, use_windows = false, enhancer = 1e8, L=0,\n",
    "    N_μs = 200, μ_atol = 0.0, μ_rtol = 1e-2, trap = true,\n",
    "    N_χs = 100, N_χs_2 = 60);\n",
    "=#"
   ]
  },
  {
   "cell_type": "code",
   "execution_count": 38,
   "id": "ef490075-59bf-45fb-b31d-4cd03b870bbd",
   "metadata": {},
   "outputs": [],
   "source": [
    "#=\n",
    "GaPSE.print_map_sum_ξ_GNCxLD_multipole(\n",
    "    cosmo, DIR*\"map_sum_xis_GNCxLD_L0_noF.txt\", \n",
    "    10 .^ range(0, log10(2*cosmo.s_max), length = 500);\n",
    "    single = true, use_windows = false, enhancer = 1e8, L=0,\n",
    "    N_μs = 200, μ_atol = 0.0, μ_rtol = 1e-2, trap = true,\n",
    "    N_χs = 100, N_χs_2 = 60);\n",
    "=#"
   ]
  },
  {
   "cell_type": "code",
   "execution_count": 39,
   "id": "5d7798ae-592c-42fe-9f86-681f8c4ba366",
   "metadata": {},
   "outputs": [],
   "source": [
    "#=\n",
    "GaPSE.print_map_sum_ξ_LDxGNC_multipole(\n",
    "    cosmo, DIR*\"map_sum_xis_LDxGNC_L0_noF.txt\", \n",
    "   10 .^ range(0, log10(2*cosmo.s_max), length = 500);\n",
    "    single = true, use_windows = false, enhancer = 1e8, L=0,\n",
    "    N_μs = 200, μ_atol = 0.0, μ_rtol = 1e-2, trap = true,\n",
    "    N_χs = 100, N_χs_2 = 60);\n",
    "=#"
   ]
  },
  {
   "cell_type": "code",
   "execution_count": 40,
   "id": "0109dac5-f18e-45aa-802e-3e997fc33184",
   "metadata": {},
   "outputs": [],
   "source": [
    "#=\n",
    "GaPSE.print_map_sum_ξ_LD_multipole(\n",
    "    cosmo, DIR*\"map_sum_xis_LD_L2_noF.txt\", \n",
    "    10 .^ range(0, log10(2*cosmo.s_max), length = 500);\n",
    "    single = true, use_windows = false, enhancer = 1e8, L=2,\n",
    "    N_μs = 200, μ_atol = 0.0, μ_rtol = 1e-2, trap = true,\n",
    "    N_χs = 100, N_χs_2 = 60);\n",
    "=#"
   ]
  },
  {
   "cell_type": "code",
   "execution_count": 41,
   "id": "b44ff6bd-6bad-4645-9ed5-1d41e31be0b6",
   "metadata": {},
   "outputs": [],
   "source": [
    "#=\n",
    "GaPSE.print_map_sum_ξ_GNC_multipole(\n",
    "    cosmo, DIR*\"map_sum_xis_GNC_L2_noF.txt\", \n",
    "    10 .^ range(0, log10(2*cosmo.s_max), length = 500);\n",
    "    single = true, use_windows = false, enhancer = 1e8, L=2,\n",
    "    N_μs = 200, μ_atol = 0.0, μ_rtol = 1e-2, trap = true,\n",
    "    N_χs = 100, N_χs_2 = 60);\n",
    "=#"
   ]
  },
  {
   "cell_type": "code",
   "execution_count": 42,
   "id": "35c66310-765e-479e-a2d0-ab059b350628",
   "metadata": {},
   "outputs": [],
   "source": [
    "#=\n",
    "GaPSE.print_map_sum_ξ_GNCxLD_multipole(\n",
    "    cosmo, DIR*\"map_sum_xis_GNCxLD_L2_noF.txt\", \n",
    "    10 .^ range(0, log10(2*cosmo.s_max), length = 500);\n",
    "    single = true, use_windows = false, enhancer = 1e8, L=2,\n",
    "    N_μs = 200, μ_atol = 0.0, μ_rtol = 1e-2, trap = true,\n",
    "    N_χs = 100, N_χs_2 = 60);\n",
    "=#"
   ]
  },
  {
   "cell_type": "code",
   "execution_count": 43,
   "id": "4bc2c0a3-dcd3-4641-885f-af52cf182715",
   "metadata": {},
   "outputs": [],
   "source": [
    "#=\n",
    "GaPSE.print_map_sum_ξ_LDxGNC_multipole(\n",
    "    cosmo, DIR*\"map_sum_xis_LDxGNC_L2_noF.txt\", \n",
    "    10 .^ range(0, log10(2*cosmo.s_max), length = 500);\n",
    "    single = true, use_windows = false, enhancer = 1e8, L=2,\n",
    "    N_μs = 200, μ_atol = 0.0, μ_rtol = 1e-2, trap = true,\n",
    "    N_χs = 100, N_χs_2 = 60);\n",
    "=#"
   ]
  },
  {
   "cell_type": "code",
   "execution_count": 44,
   "id": "aa5ba6f3-dceb-4028-b9f2-a6b3af297e8b",
   "metadata": {},
   "outputs": [],
   "source": [
    "ss_LD_L0_noF, xis_sum_LD_L0_noF, all_xis_LD_L0_noF = GaPSE.readxyall(DIR*\"map_sum_xis_LD_L0_noF.txt\");\n",
    "ss_GNC_L0_noF, xis_sum_GNC_L0_noF, all_xis_GNC_L0_noF = GaPSE.readxyall(DIR*\"map_sum_xis_GNC_L0_noF.txt\");\n",
    "ss_GNCxLD_L0_noF, xis_sum_GNCxLD_L0_noF, all_xis_GNCxLD_L0_noF = GaPSE.readxyall(DIR*\"map_sum_xis_GNCxLD_L0_noF.txt\");\n",
    "ss_LDxGNC_L0_noF, xis_sum_LDxGNC_L0_noF, all_xis_LDxGNC_L0_noF = GaPSE.readxyall(DIR*\"map_sum_xis_LDxGNC_L0_noF.txt\");\n",
    "\n",
    "spline_LD_sum_L0_noF = Spline1D(ss_LD_L0_noF, xis_sum_LD_L0_noF; bc = \"error\");\n",
    "spline_GNC_sum_L0_noF = Spline1D(ss_GNC_L0_noF, xis_sum_GNC_L0_noF; bc = \"error\");\n",
    "spline_GNCxLD_sum_L0_noF = Spline1D(ss_GNCxLD_L0_noF, xis_sum_GNCxLD_L0_noF; bc = \"error\");\n",
    "spline_LDxGNC_sum_L0_noF = Spline1D(ss_LDxGNC_L0_noF, xis_sum_LDxGNC_L0_noF; bc = \"error\");"
   ]
  },
  {
   "cell_type": "code",
   "execution_count": 45,
   "id": "b0655e20-f814-4718-a2be-d3793ac30cad",
   "metadata": {},
   "outputs": [
    {
     "name": "stdout",
     "output_type": "stream",
     "text": [
      "\n",
      "I'm computing the PS_multipole from the file \"Effective_fNL_z115_files/xi_ALL_GR_TPCF_SUMMED_noF.txt\" \n"
     ]
    },
    {
     "ename": "LoadError",
     "evalue": "DomainError with -0.07531330573237227:\nlog will only return a complex result if called with a complex argument. Try log(Complex(x)).",
     "output_type": "error",
     "traceback": [
      "DomainError with -0.07531330573237227:\nlog will only return a complex result if called with a complex argument. Try log(Complex(x)).",
      "",
      "Stacktrace:",
      "  [1] throw_complex_domainerror(f::Symbol, x::Float64)",
      "    @ Base.Math ./math.jl:33",
      "  [2] _log(x::Float64, base::Val{:ℯ}, func::Symbol)",
      "    @ Base.Math ./special/log.jl:304",
      "  [3] log",
      "    @ ./special/log.jl:269 [inlined]",
      "  [4] _logextrap(x::Vector{Float64}, n_extrap_low::Int64, n_extrap_high::Int64)",
      "    @ Main.GaPSE.FFTLog ~/AAA_TESI_MAGISTRALE/GaPSE/src/FFTLog.jl:133",
      "  [5] evaluate_FFTLog!(fy::Matrix{Float64}, plan::Main.GaPSE.FFTLog.SingleBesselPlan{Float64, ComplexF64}, fx::Vector{Float64})",
      "    @ Main.GaPSE.FFTLog ~/AAA_TESI_MAGISTRALE/GaPSE/src/FFTLog.jl:237",
      "  [6] evaluate_FFTLog(plan::Main.GaPSE.FFTLog.SingleBesselPlan{Float64, ComplexF64}, fx::Vector{Float64})",
      "    @ Main.GaPSE.FFTLog ~/AAA_TESI_MAGISTRALE/GaPSE/src/FFTLog.jl:232",
      "  [7] FFTLog_PS_multipole(ss::Vector{Float64}, xis::Vector{Float64}; pr::Bool, L::Int64, ν::Float64, n_extrap_low::Int64, n_extrap_high::Int64, n_pad::Int64, cut_first_n::Int64, cut_last_n::Int64)",
      "    @ Main.GaPSE ~/AAA_TESI_MAGISTRALE/GaPSE/src/PS_FFTLog.jl:53",
      "  [8] PS_multipole(ss::Vector{Float64}, fs::Vector{Float64}; twofast::Bool, cut_first_n::Int64, cut_last_n::Int64, kwargs::Base.Pairs{Symbol, Real, NTuple{6, Symbol}, NamedTuple{(:L, :pr, :ν, :n_extrap_high, :n_pad, :n_extrap_low), Tuple{Int64, Bool, Float64, Int64, Int64, Int64}}})",
      "    @ Main.GaPSE ~/AAA_TESI_MAGISTRALE/GaPSE/src/PowerSpectrum.jl:33",
      "  [9] PS_multipole(input::String; kwargs::Base.Pairs{Symbol, Real, NTuple{8, Symbol}, NamedTuple{(:L, :pr, :ν, :cut_first_n, :n_extrap_high, :twofast, :n_pad, :n_extrap_low), Tuple{Int64, Bool, Float64, Int64, Int64, Bool, Int64, Int64}}})",
      "    @ Main.GaPSE ~/AAA_TESI_MAGISTRALE/GaPSE/src/PowerSpectrum.jl:44",
      " [10] print_PS_multipole(input::String, out::String; L::Int64, pr::Bool, kwargs::Base.Pairs{Symbol, Real, NTuple{6, Symbol}, NamedTuple{(:ν, :cut_first_n, :n_extrap_high, :twofast, :n_pad, :n_extrap_low), Tuple{Float64, Int64, Int64, Bool, Int64, Int64}}})",
      "    @ Main.GaPSE ~/AAA_TESI_MAGISTRALE/GaPSE/src/PowerSpectrum.jl:170",
      " [11] top-level scope",
      "    @ In[45]:17",
      " [12] eval",
      "    @ ./boot.jl:373 [inlined]",
      " [13] include_string(mapexpr::typeof(REPL.softscope), mod::Module, code::String, filename::String)",
      "    @ Base ./loading.jl:1196"
     ]
    }
   ],
   "source": [
    "ss_sum_noF = ss_LD_L0_noF;\n",
    "xis_sum_noF = [spline_LD_sum_L0_noF(s) + spline_GNC_sum_L0_noF(s) + \n",
    "        spline_GNCxLD_sum_L0_noF(s) + spline_LDxGNC_sum_L0_noF(s)\n",
    "        for s in ss_sum_noF];\n",
    "\n",
    "open(DIR*\"xi_ALL_GR_TPCF_SUMMED_noF.txt\", \"w\") do io\n",
    "    println(io, GaPSE.BRAND)\n",
    "    println(io, \"# This is the sum of all the GR effects TPCFs without window F:\")\n",
    "    println(io, \"# LD (16), GNC (25), GNCxLD (20), LDxGNC (20)\\n#\")\n",
    "    GaPSE.parameters_used(io, cosmo; logo=false)\n",
    "    println(io, \"# s [Mpc/h_0] \\t xi_ALLSUMMED_noF\")\n",
    "    for (s,xi) in zip(ss_sum_noF, xis_sum_noF)\n",
    "        println(io, \"$s \\t $xi\")\n",
    "    end\n",
    "end\n",
    "\n",
    "GaPSE.print_PS_multipole(DIR*\"xi_ALL_GR_TPCF_SUMMED_noF.txt\", \n",
    "    DIR*\"ps_ALL_GR_TPCF_SUMMED_noF.txt\"; \n",
    "    L = 0,  ps_kwargs(tf)...);"
   ]
  },
  {
   "cell_type": "code",
   "execution_count": 46,
   "id": "190e3311-ab21-48bc-88b5-4b193c04344e",
   "metadata": {},
   "outputs": [
    {
     "ename": "LoadError",
     "evalue": "ArgumentError: Cannot open 'Effective_fNL_z115_files/ps_ALL_GR_TPCF_SUMMED_noF.txt': not a file",
     "output_type": "error",
     "traceback": [
      "ArgumentError: Cannot open 'Effective_fNL_z115_files/ps_ALL_GR_TPCF_SUMMED_noF.txt': not a file",
      "",
      "Stacktrace:",
      " [1] readdlm_auto(input::String, dlm::Char, T::Type, eol::Char, auto::Bool; opts::Base.Pairs{Symbol, Bool, Tuple{Symbol}, NamedTuple{(:comments,), Tuple{Bool}}})",
      "   @ DelimitedFiles ~/.julia/usr/share/julia/stdlib/v1.7/DelimitedFiles/src/DelimitedFiles.jl:234",
      " [2] #readdlm#5",
      "   @ ~/.julia/usr/share/julia/stdlib/v1.7/DelimitedFiles/src/DelimitedFiles.jl:170 [inlined]",
      " [3] #readdlm#3",
      "   @ ~/.julia/usr/share/julia/stdlib/v1.7/DelimitedFiles/src/DelimitedFiles.jl:118 [inlined]",
      " [4] readxy(input::String; comments::Bool, xdt::DataType, ydt::DataType)",
      "   @ Main.GaPSE ~/AAA_TESI_MAGISTRALE/GaPSE/src/OtherUtils.jl:201",
      " [5] readxy(input::String)",
      "   @ Main.GaPSE ~/AAA_TESI_MAGISTRALE/GaPSE/src/OtherUtils.jl:201",
      " [6] top-level scope",
      "   @ In[46]:1",
      " [7] eval",
      "   @ ./boot.jl:373 [inlined]",
      " [8] include_string(mapexpr::typeof(REPL.softscope), mod::Module, code::String, filename::String)",
      "   @ Base ./loading.jl:1196"
     ]
    }
   ],
   "source": [
    "ks_sum_noF, pks_sum_noF = GaPSE.readxy(DIR*\"ps_ALL_GR_TPCF_SUMMED_noF.txt\");"
   ]
  },
  {
   "cell_type": "markdown",
   "id": "68bdecfa-ca46-4494-89bf-86a867660304",
   "metadata": {
    "tags": []
   },
   "source": [
    "## All GR effects TPCFs computation (with F)"
   ]
  },
  {
   "cell_type": "code",
   "execution_count": null,
   "id": "8fa27dee-d78d-4397-b24f-92646974543c",
   "metadata": {},
   "outputs": [
    {
     "name": "stderr",
     "output_type": "stream",
     "text": [
      "\u001b[32mauto_doppler, L=0: 100%|████████████████████████████████| Time: 0:00:15\u001b[39m\n",
      "\u001b[32mauto_lensing, L=0:  48%|███████████████▍                |  ETA: 0:06:03\u001b[39m"
     ]
    }
   ],
   "source": [
    "GaPSE.print_map_sum_ξ_LD_multipole(\n",
    "    cosmo, DIR*\"map_sum_xis_LD_L0_withF.txt\", \n",
    "    10 .^ range(0, log10(2*cosmo.s_max), length = 500);\n",
    "    single = true, use_windows = true, enhancer = 1e8, L=0,\n",
    "    N_μs = 200, μ_atol = 0.0, μ_rtol = 1e-2, trap = true,\n",
    "    N_χs = 100, N_χs_2 = 60);"
   ]
  },
  {
   "cell_type": "code",
   "execution_count": null,
   "id": "cd980a18-8c9d-4efd-bff0-e90f552d0001",
   "metadata": {},
   "outputs": [],
   "source": [
    "GaPSE.print_map_sum_ξ_GNC_multipole(\n",
    "    cosmo, DIR*\"map_sum_xis_GNC_L0_withF.txt\", \n",
    "    10 .^ range(0, log10(2*cosmo.s_max), length = 500);\n",
    "    single = true, use_windows = true, enhancer = 1e8, L=0,\n",
    "    N_μs = 200, μ_atol = 0.0, μ_rtol = 1e-2, trap = true,\n",
    "    N_χs = 100, N_χs_2 = 60);"
   ]
  },
  {
   "cell_type": "code",
   "execution_count": null,
   "id": "923cdb66-9ef8-40d1-ae97-d9547bce3c86",
   "metadata": {},
   "outputs": [],
   "source": [
    "GaPSE.print_map_sum_ξ_GNCxLD_multipole(\n",
    "    cosmo, DIR*\"map_sum_xis_GNCxLD_L0_withF.txt\", \n",
    "    10 .^ range(0, log10(2*cosmo.s_max), length = 500);\n",
    "    single = true, use_windows = true, enhancer = 1e8, L=0,\n",
    "    N_μs = 200, μ_atol = 0.0, μ_rtol = 1e-2, trap = false,\n",
    "    N_χs = 100, N_χs_2 = 60);"
   ]
  },
  {
   "cell_type": "code",
   "execution_count": null,
   "id": "73afab94-7815-4a62-813d-0c9dd2663881",
   "metadata": {},
   "outputs": [],
   "source": [
    "GaPSE.print_map_sum_ξ_LDxGNC_multipole(\n",
    "    cosmo, DIR*\"map_sum_xis_LDxGNC_L0_withF.txt\", \n",
    "   10 .^ range(0, log10(2*cosmo.s_max), length = 500);\n",
    "    single = true, use_windows = true, enhancer = 1e8, L=0,\n",
    "    N_μs = 200, μ_atol = 0.0, μ_rtol = 1e-2, trap = true,\n",
    "    N_χs = 100, N_χs_2 = 60);"
   ]
  },
  {
   "cell_type": "code",
   "execution_count": null,
   "id": "6d88f575-8f1e-473d-acfe-d3b8738a9ad6",
   "metadata": {},
   "outputs": [],
   "source": [
    "ss_LD_L0_withF, xis_sum_LD_L0_withF, all_xis_LD_L0_withF = \n",
    "    GaPSE.readxyall(DIR*\"map_sum_xis_LD_L0_withF.txt\");\n",
    "ss_GNC_L0_withF, xis_sum_GNC_L0_withF, all_xis_GNC_L0_withF = \n",
    "    GaPSE.readxyall(DIR*\"map_sum_xis_GNC_L0_withF.txt\");\n",
    "ss_GNCxLD_L0_withF, xis_sum_GNCxLD_L0_withF, all_xis_GNCxLD_L0_withF = \n",
    "    GaPSE.readxyall(DIR*\"map_sum_xis_GNCxLD_L0_withF.txt\");\n",
    "ss_LDxGNC_L0_withF, xis_sum_LDxGNC_L0_withF, all_xis_LDxGNC_L0_withF = \n",
    "    GaPSE.readxyall(DIR*\"map_sum_xis_LDxGNC_L0_withF.txt\");\n",
    "\n",
    "spline_LD_sum_L0_withF = Spline1D(ss_LD_L0_withF, xis_sum_LD_L0_withF; bc = \"error\");\n",
    "spline_GNC_sum_L0_withF = Spline1D(ss_GNC_L0_withF, xis_sum_GNC_L0_withF; bc = \"error\");\n",
    "spline_GNCxLD_sum_L0_withF = Spline1D(ss_GNCxLD_L0_withF, xis_sum_GNCxLD_L0_withF; bc = \"error\");\n",
    "spline_LDxGNC_sum_L0_withF = Spline1D(ss_LDxGNC_L0_withF, xis_sum_LDxGNC_L0_withF; bc = \"error\");"
   ]
  },
  {
   "cell_type": "code",
   "execution_count": null,
   "id": "19060983-778b-4194-b022-2edcf13d4c3e",
   "metadata": {},
   "outputs": [],
   "source": [
    "GaPSE.print_all_PS_multipole(DIR*\"map_sum_xis_GNC_L0_withF.txt\", \n",
    "    DIR*\"map_sum_ps_GNC_L0_withF.txt\", \"GNC\"; L=0, ps_kwargs(tf)...)\n",
    "GaPSE.print_all_PS_multipole(DIR*\"map_sum_xis_LD_L0_withF.txt\", \n",
    "    DIR*\"map_sum_ps_LD_L0_withF.txt\", \"LD\"; L=0, ps_kwargs(tf)...)\n",
    "GaPSE.print_all_PS_multipole(DIR*\"map_sum_xis_GNCxLD_L0_withF.txt\", \n",
    "    DIR*\"map_sum_ps_GNCxLD_L0_withF.txt\", \"GNCxLD\"; L=0, ps_kwargs(tf)...)\n",
    "GaPSE.print_all_PS_multipole(DIR*\"map_sum_xis_LDxGNC_L0_withF.txt\", \n",
    "    DIR*\"map_sum_ps_LDxGNC_L0_withF.txt\", \"LDxGNC\"; L=0, ps_kwargs(tf)...)\n",
    "\n",
    "ks_GNC_L0_withF, pks_sum_GNC_L0_withF, pks_all_GNC_L0_withF = \n",
    "    GaPSE.readxyall(DIR*\"map_sum_ps_GNC_L0_withF.txt\");\n",
    "ks_LD_L0_withF, pks_sum_LD_L0_withF, pks_all_LD_L0_withF = \n",
    "    GaPSE.readxyall(DIR*\"map_sum_ps_LD_L0_withF.txt\");\n",
    "ks_GNCxLD_L0_withF, pks_sum_GNCxLD_L0_withF, pks_all_GNCxLD_L0_withF = \n",
    "    GaPSE.readxyall(DIR*\"map_sum_ps_GNCxLD_L0_withF.txt\");\n",
    "ks_LDxGNC_L0_withF, pks_sum_LDxGNC_L0_withF, pks_all_LDxGNC_L0_withF = \n",
    "    GaPSE.readxyall(DIR*\"map_sum_ps_LDxGNC_L0_withF.txt\");"
   ]
  },
  {
   "cell_type": "code",
   "execution_count": null,
   "id": "c29cba80-e59c-45cf-9488-199a73e70de1",
   "metadata": {},
   "outputs": [],
   "source": [
    "ss_ALLGRsum_L0_withF = ss_LD_L0_withF;\n",
    "xis_ALLGRsum_L0_withF = [spline_LD_sum_L0_withF(s) + spline_GNC_sum_L0_withF(s) + \n",
    "        spline_GNCxLD_sum_L0_withF(s) + spline_LDxGNC_sum_L0_withF(s)\n",
    "        for s in ss_ALLGRsum_L0_withF];\n",
    "\n",
    "open(DIR*\"xi_ALL_GR_TPCF_SUMMED_L0_withF.txt\", \"w\") do io\n",
    "    println(io, GaPSE.BRAND)\n",
    "    println(io, \"# This is the sum of all the GR effects TPCFs (with window):\")\n",
    "    println(io, \"# LD (16), GNC (25), GNCxLD (20), LDxGNC (20)\\n#\")\n",
    "    GaPSE.parameters_used(io, cosmo; logo=false)\n",
    "    println(io, \"# s [Mpc/h_0] \\t xi_ALLSUMMED\")\n",
    "    for (s,xi) in zip(ss_ALLGRsum_L0_withF, xis_ALLGRsum_L0_withF)\n",
    "        println(io, \"$s \\t $xi\")\n",
    "    end\n",
    "end\n",
    "\n",
    "GaPSE.print_PS_multipole(DIR*\"xi_ALL_GR_TPCF_SUMMED_L0_withF.txt\", \n",
    "    DIR*\"ps_ALL_GR_TPCF_SUMMED_L0_withF.txt\"; \n",
    "    L = 0,  ps_kwargs(tf)...);\n",
    "ks_ALLGRsum_L0_withF, pks_ALLGRsum_L0_withF = GaPSE.readxy(DIR*\"ps_ALL_GR_TPCF_SUMMED_L0_withF.txt\");"
   ]
  },
  {
   "cell_type": "code",
   "execution_count": null,
   "id": "697c6441-720d-4614-ade8-8f06143e02ea",
   "metadata": {},
   "outputs": [],
   "source": [
    "#=\n",
    "ss_Newt_L0_withF, xis_Newt_L0_withF = \n",
    "    GaPSE.map_ξ_GNC_multipole(cosmo, \n",
    "    \"auto_newton\",\n",
    "    10 .^ range(0,log10(2*cosmo.s_max),length=1000);\n",
    "    L = 0, use_windows = true, pr = true, enhancer = 1e6,\n",
    "    μ_atol = 0.0, μ_rtol = 1e-2);\n",
    "\n",
    "ks_Newtonian_L0_withF, pks_Newtonian_L0_withF = GaPSE.PS_multipole(ss_Newt_L0_withF, \n",
    "    xis_Newt_L0_withF; L = 0,  ps_kwargs(tf)...);\n",
    "=#"
   ]
  },
  {
   "cell_type": "code",
   "execution_count": null,
   "id": "455b68f8-e325-45e4-b86f-2f50fd41dab8",
   "metadata": {},
   "outputs": [],
   "source": [
    "ks_Newtonian_L0_withF, pks_Newtonian_L0_withF = GaPSE.PS_multipole(ss_GNC_L0_withF, \n",
    "    all_xis_GNC_L0_withF[1]; L = 0,  ps_kwargs(tf)...);"
   ]
  },
  {
   "cell_type": "markdown",
   "id": "1e172122-402a-4215-ad2a-1667e75be6df",
   "metadata": {
    "jp-MarkdownHeadingCollapsed": true,
    "tags": []
   },
   "source": [
    "## Plots"
   ]
  },
  {
   "cell_type": "code",
   "execution_count": null,
   "id": "5efbd930-5a55-4425-8888-cafc46f8d3e6",
   "metadata": {},
   "outputs": [],
   "source": [
    "vec = all_xis_GNC_L0_noF\n",
    "ALL_PLOTS = [plot() for i in 1:length(vec)]\n",
    "\n",
    "for i in 1:length(vec)\n",
    "   ALL_PLOTS[i] = plot(ss_GNC_L0_noF, abs.(vec[i]), axis=:log, label=false)\n",
    "end\n",
    "\n",
    "plot(ALL_PLOTS..., size=(800, 600))"
   ]
  },
  {
   "cell_type": "code",
   "execution_count": null,
   "id": "c1a92bea-969f-48e3-96f4-e534421b76b4",
   "metadata": {},
   "outputs": [],
   "source": [
    "xs_1 = ss_LD_L0_noF\n",
    "ys_1 = xis_sum_LD_L0_noF .* xs_1 .^2\n",
    "\n",
    "xs_2 = ss_GNC_L0_noF\n",
    "ys_2 = xis_sum_GNC_L0_noF .* xs_2 .^2 ./100\n",
    "\n",
    "xs_3 = ss_GNCxLD_L0_noF\n",
    "ys_3 = xis_sum_GNCxLD_L0_noF .* xs_3 .^2\n",
    "\n",
    "xs_4 = ss_LDxGNC_L0_noF\n",
    "ys_4 = xis_sum_LDxGNC_L0_noF .* xs_4 .^2\n",
    "\n",
    "S_VLIM = 8\n",
    "S_VLIM_F = @sprintf(\"%.2f\", S_VLIM)\n",
    "\n",
    "p1 = plot(xs_1, ys_1,\n",
    "    xaxis=:log, #yaxis=:log, \n",
    "    lc=:red, title = \"GR effects TPCFs (noF)\", ylims =(-0.11, 0.31),\n",
    "    label=\"LD sum\", ls=:solid, legend=:topright, size=(600, 300),\n",
    "    ylabel = L\"s^2 \\, \\xi(s) \\quad [h_0^{-2} \\,\\mathrm{Mpc}^{2}]\",\n",
    "    xlabel = L\"$s \\quad [h_0^{-1} \\,\\mathrm{Mpc}]$\")\n",
    "plot!(p1, xs_2, ys_2, label = \"GNC sum / 100\", ls=:solid, lc =:blue)\n",
    "plot!(p1, xs_3, ys_3, label = \"GNCxLD sum\", ls=:dash, lc =:green)\n",
    "plot!(p1, xs_4, ys_4, label = \"LDxGNC sum\", ls=:dash, lc =:orange)\n",
    "#vline!(p1, [S_VLIM], label=\"$S_VLIM_F Mpc/h_0\", lc=:black, lw=0.5, ls=:dash)"
   ]
  },
  {
   "cell_type": "code",
   "execution_count": null,
   "id": "2a8fdd02-fa4e-4b3e-a203-681c2952f7f5",
   "metadata": {},
   "outputs": [],
   "source": [
    "xs_1 = ss_LD_L0_withF\n",
    "ys_1 = xis_sum_LD_L0_withF .* xs_1 .^2\n",
    "\n",
    "xs_2 = ss_GNC_L0_withF\n",
    "ys_2 = xis_sum_GNC_L0_withF .* xs_2 .^2 ./100\n",
    "\n",
    "xs_3 = ss_GNCxLD_L0_withF\n",
    "ys_3 = xis_sum_GNCxLD_L0_withF .* xs_3 .^2\n",
    "\n",
    "xs_4 = ss_LDxGNC_L0_withF\n",
    "ys_4 = xis_sum_LDxGNC_L0_withF .* xs_4 .^2\n",
    "\n",
    "S_VLIM = 8\n",
    "S_VLIM_F = @sprintf(\"%.2f\", S_VLIM)\n",
    "\n",
    "p1 = plot(xs_1, ys_1,\n",
    "    xaxis=:log, #yaxis=:log, \n",
    "    lc=:red, title = \"GR effects TPCFs\", ylims =(-0.11, 0.21),\n",
    "    label=\"LD sum\", ls=:solid, legend=:topright, size=(600, 300),\n",
    "    ylabel = L\"s^2 \\, \\xi(s) \\quad [h_0^{-2} \\,\\mathrm{Mpc}^{2}]\",\n",
    "    xlabel = L\"$s \\quad [h_0^{-1} \\,\\mathrm{Mpc}]$\")\n",
    "plot!(p1, xs_2, ys_2, label = \"GNC sum / 100\", ls=:solid, lc =:blue)\n",
    "plot!(p1, xs_3, ys_3, label = \"GNCxLD sum\", ls=:dash, lc =:green)\n",
    "plot!(p1, xs_4, ys_4, label = \"LDxGNC sum\", ls=:dash, lc =:orange)\n",
    "#vline!(p1, [S_VLIM], label=\"$S_VLIM_F Mpc/h_0\", lc=:black, lw=0.5, ls=:dash)"
   ]
  },
  {
   "cell_type": "code",
   "execution_count": null,
   "id": "2b296d04-dec8-41af-a42d-408e0478ff37",
   "metadata": {},
   "outputs": [],
   "source": [
    "xs_1 = ss_GNC_L0_withF\n",
    "ys_1 = abs.(xis_sum_GNC_L0_withF .* xs_1 .^2)\n",
    "\n",
    "xs_2 = ss_GNC_L0_withF\n",
    "ys_2 = abs.(all_xis_GNC_L0_withF[1] .* xs_2 .^2)\n",
    "spline = Spline1D(xs_2, ys_2)\n",
    "\n",
    "S_VLIM = 8\n",
    "S_VLIM_F = @sprintf(\"%.2f\", S_VLIM)\n",
    "\n",
    "p1 = plot([xs_1, xs_2], [ys_1, ys_2],\n",
    "    xaxis=:log, #yaxis=:log, \n",
    "    lc=[:red :blue], \n",
    "    title = \"GNC GR effects TPCFs withF\",\n",
    "    label=[\"GNC ALLGRsum\" \"GNC Newtonian only\"], ls=[:dash :dot], \n",
    "    ylabel = L\"s^2 \\, \\xi(s) \\quad [h_0^{-2} \\,\\mathrm{Mpc}^{2}]\",\n",
    "    legend=:topright)\n",
    "#vline!(p1, [S_VLIM], label=\"$S_VLIM_F Mpc/h_0\", lc=:black, lw=0.5, ls=:dash)\n",
    "\n",
    "p2 = plot(xs_1, spline.(xs_1) ./ ys_1, \n",
    "    ylabel=\"Ratio\", lc=:green, \n",
    "    xaxis=:log,\n",
    "    ylim=(0.0,2), \n",
    "    legend=false, \n",
    "    xlabel=L\"$s \\quad [h_0^{-1} \\,\\mathrm{Mpc}]$\")\n",
    "#vline!(p2, [S_VLIM], label=\"$S_VLIM_F Mpc/h_0\", lc=:black, lw=0.5, ls=:dash)\n",
    "\n",
    "P = plot(p1, p2, size=(500, 400), layout= @layout [ x ; z ] )\n",
    "#savefig(P, \"PS_AutoDoppler_L0.pdf\")\n",
    "#display(P)"
   ]
  },
  {
   "cell_type": "code",
   "execution_count": null,
   "id": "3d9aef4a-1a1f-44a4-afd7-b7a1c34ffd7b",
   "metadata": {},
   "outputs": [],
   "source": [
    "xs_1 = ss_ppm_L0_withF\n",
    "ys_1 = abs.(xis_ppm_L0_withF .* xs_1 .^2)\n",
    "\n",
    "xs_2 = ss_GNC_L0_withF\n",
    "ys_2 = abs.(all_xis_GNC_L0_withF[1] .* xs_2 .^2)\n",
    "spline = Spline1D(xs_2, ys_2)\n",
    "\n",
    "S_VLIM = 8\n",
    "S_VLIM_F = @sprintf(\"%.2f\", S_VLIM)\n",
    "\n",
    "p1 = plot([xs_1[ys_1.≠0], xs_2[ys_2.≠0]], [ys_1[ys_1.≠0], ys_2[ys_2.≠0]],\n",
    "    xaxis=:log, yaxis=:log, \n",
    "    lc=[:red :blue], \n",
    "    title = \"PPMatter L=0 and Newtonian GR effect L=0\",\n",
    "    label=[\"Matter PP L=0\" \"GNC Newtonian GR effect\"], ls=[:dash :dot], \n",
    "    ylabel = L\"s^2 \\, \\xi(s) \\quad [h_0^{-2} \\,\\mathrm{Mpc}^{2}]\",\n",
    "    legend=:bottom)\n",
    "#vline!(p1, [S_VLIM], label=\"$S_VLIM_F Mpc/h_0\", lc=:black, lw=0.5, ls=:dash)\n",
    "\n",
    "p2 = plot(xs_1, spline.(xs_1) ./ ys_1, \n",
    "    ylabel=\"Ratio\", lc=:green, \n",
    "    xaxis=:log,\n",
    "    ylim=(0.0,2), \n",
    "    legend=false, \n",
    "    xlabel=L\"$s \\quad [h_0^{-1} \\,\\mathrm{Mpc}]$\")\n",
    "#vline!(p2, [S_VLIM], label=\"$S_VLIM_F Mpc/h_0\", lc=:black, lw=0.5, ls=:dash)\n",
    "\n",
    "P = plot(p1, p2, size=(500, 400), layout= @layout [ x ; z ] )\n",
    "#savefig(P, \"PS_AutoDoppler_L0.pdf\")\n",
    "#display(P)"
   ]
  },
  {
   "cell_type": "code",
   "execution_count": null,
   "id": "55a90ba6-0e1e-4e34-9f0d-8da5a20388d4",
   "metadata": {},
   "outputs": [],
   "source": [
    "xs_1 = ss_matter_L0\n",
    "ys_1 = abs.(xis_matter_L0 .* xs_1 .^2)\n",
    "\n",
    "xs_2 = ss_ppm_L0_noF\n",
    "ys_2 = abs.(xis_ppm_L0_noF) .* xs_2 .^2\n",
    "spline = Spline1D(xs_2, ys_2)\n",
    "\n",
    "S_VLIM = 8\n",
    "S_VLIM_F = @sprintf(\"%.2f\", S_VLIM)\n",
    "\n",
    "p1 = plot([xs_1[ys_1.≠0], xs_2[ys_2.≠0]], [ys_1[ys_1.≠0], ys_2[ys_2.≠0]],\n",
    "    xaxis=:log, yaxis=:log, \n",
    "    lc=[:red :blue], \n",
    "    title = \"Matter from CLASS and PPMatter\",\n",
    "    label=[\"Matter (from CLASS)\" \"PPMatter L=0\"], ls=[:dash :dot], \n",
    "    ylabel = L\"s^2 \\, \\xi(s) \\quad [h_0^{-2} \\,\\mathrm{Mpc}^{2}]\",\n",
    "    legend=:bottom)\n",
    "#vline!(p1, [S_VLIM], label=\"$S_VLIM_F Mpc/h_0\", lc=:black, lw=0.5, ls=:dash)\n",
    "\n",
    "p2 = plot(xs_1, spline.(xs_1) ./ ys_1, \n",
    "    ylabel=\"Ratio\", lc=:green, \n",
    "    xaxis=:log,\n",
    "    ylim=(0.0,2), \n",
    "    legend=false, \n",
    "    xlabel=L\"$s \\quad [h_0^{-1} \\,\\mathrm{Mpc}]$\")\n",
    "#vline!(p2, [S_VLIM], label=\"$S_VLIM_F Mpc/h_0\", lc=:black, lw=0.5, ls=:dash)\n",
    "\n",
    "P = plot(p1, p2, size=(500, 400), layout= @layout [ x ; z ] )\n",
    "#savefig(P, \"PS_AutoDoppler_L0.pdf\")\n",
    "#display(P)"
   ]
  },
  {
   "cell_type": "code",
   "execution_count": null,
   "id": "a59396cb-5f71-471b-b0d6-f41d99ad8edc",
   "metadata": {},
   "outputs": [],
   "source": [
    "xs_1 = ss_GNC_L0_withF[xis_sum_ALLGRsum_L0_withF .≠ 0]\n",
    "ys_1 = abs.(xis_sum_GNC_L0_withF)[xis_sum_GNC_L0_withF .≠ 0]\n",
    "\n",
    "xs_2 = ss_ppm_L0_withF[xis_ppm_L0_withF .≠ 0]\n",
    "ys_2 = abs.(xis_ppm_L0_withF)[xis_ppm_L0_withF .≠ 0]\n",
    "spline = Spline1D(xs_2, ys_2)\n",
    "\n",
    "S_VLIM = 8\n",
    "S_VLIM_F = @sprintf(\"%.2f\", S_VLIM)\n",
    "\n",
    "p1 = plot([xs_1, xs_2], [ys_1, ys_2],\n",
    "    xaxis=:log, yaxis=:log, \n",
    "    lc=[:red :blue], \n",
    "    title = \"Sum GR effects TPCFs \\n and PPMatter monopole\",\n",
    "    label=[\"sum\" \"PP Matter L=0\"], ls=[:dash :dot], \n",
    "    ylabel = L\"|\\xi(s)|\",\n",
    "    legend=:topright)\n",
    "#vline!(p1, [S_VLIM], label=\"$S_VLIM_F Mpc/h_0\", lc=:black, lw=0.5, ls=:dash)\n",
    "\n",
    "p2 = plot(xs_1, spline.(xs_1) ./ ys_1, \n",
    "    ylabel=\"Ratio\", lc=:green, \n",
    "    xaxis=:log,\n",
    "    ylim=(0.0,2), \n",
    "    legend=false, \n",
    "    xlabel=L\"$s \\quad [h_0^{-1} \\,\\mathrm{Mpc}]$\")\n",
    "#vline!(p2, [S_VLIM], label=\"$S_VLIM_F Mpc/h_0\", lc=:black, lw=0.5, ls=:dash)\n",
    "\n",
    "P = plot(p1, p2, size=(500, 400), layout= @layout [ x ; z ] )\n",
    "#savefig(P, \"PS_AutoDoppler_L0.pdf\")\n",
    "#display(P)"
   ]
  },
  {
   "cell_type": "code",
   "execution_count": null,
   "id": "7592a81a-ea9f-47dc-a884-494f5f678b61",
   "metadata": {},
   "outputs": [],
   "source": [
    "xs_1 = ss_GNC_sum_L0_withF\n",
    "ys_1 = xis_sum_GNC_L0_withF .* xs_1 .^ 2\n",
    "\n",
    "xs_2 = ss_ppm_L0_withF\n",
    "ys_2 = xis_ppm_L0_withF .* xs_2 .^ 2\n",
    "spline = Spline1D(xs_2, ys_2)\n",
    "\n",
    "S_VLIM = 8\n",
    "S_VLIM_F = @sprintf(\"%.2f\", S_VLIM)\n",
    "\n",
    "p1 = plot([xs_1, xs_2], [ys_1, ys_2],\n",
    "    xaxis=:log, #yaxis=:log, \n",
    "    lc=[:red :blue], \n",
    "    title = \"Comparison GR effects TPCFs summed \\n and PPMatter TPCF\",\n",
    "    label=[\"sum\" \"PP Matter\"], ls=[:dash :dot], \n",
    "    ylabel = L\"s^2 \\, \\xi(s) \\quad [h_0^{-2} \\,\\mathrm{Mpc}^{2}]\",\n",
    "    legend=:topright)\n",
    "#vline!(p1, [S_VLIM], label=\"$S_VLIM_F Mpc/h_0\", lc=:black, lw=0.5, ls=:dash)\n",
    "\n",
    "p2 = plot(xs_1, spline.(xs_1) ./ ys_1, \n",
    "    ylabel=\"Ratio\", lc=:green, \n",
    "    xaxis=:log,\n",
    "    ylim=(0.0,2), \n",
    "    legend=false, \n",
    "    xlabel=L\"$s \\quad [h_0^{-1} \\,\\mathrm{Mpc}]$\")\n",
    "#vline!(p2, [S_VLIM], label=\"$S_VLIM_F Mpc/h_0\", lc=:black, lw=0.5, ls=:dash)\n",
    "\n",
    "P = plot(p1, p2, size=(500, 400), layout= @layout [ x ; z ] )\n",
    "#savefig(P, \"PS_AutoDoppler_L0.pdf\")\n",
    "#display(P)"
   ]
  },
  {
   "cell_type": "markdown",
   "id": "1fadd4e2-ebce-4216-b1ad-ab1c1bc530af",
   "metadata": {
    "jp-MarkdownHeadingCollapsed": true,
    "tags": []
   },
   "source": [
    "## EMERGENCY"
   ]
  },
  {
   "cell_type": "code",
   "execution_count": null,
   "id": "92a40577-00f1-4238-bf85-b90a4de9a192",
   "metadata": {},
   "outputs": [],
   "source": [
    "ss_Newt_L0_withF_A, xis_Newt_L0_withF_A = \n",
    "    GaPSE.map_ξ_GNC_multipole(cosmo, \n",
    "    \"auto_newton\",\n",
    "    10 .^ range(0,log10(2*cosmo.s_max),length=500);\n",
    "    L = 0, use_windows = true, pr = true, enhancer = 1e6,\n",
    "    μ_atol = 0.0, μ_rtol = 1e-2, trap=true, N_μs=200);"
   ]
  },
  {
   "cell_type": "code",
   "execution_count": null,
   "id": "b1309037-3a69-41ab-abc4-8c082c8e988c",
   "metadata": {},
   "outputs": [],
   "source": [
    "xs_1 = ss_GNC_L0_withF\n",
    "ys_1 = all_xis_GNC_L0_withF[1] .* xs_1 .^2\n",
    "\n",
    "xs_2 = ss_Newt_L0_withF_A\n",
    "ys_2 =  xis_Newt_L0_withF_A .* xs_2 .^2\n",
    "spline = Spline1D(xs_2, ys_2)\n",
    "\n",
    "S_VLIM = 2*π/(2*cosmo.s_max)\n",
    "S_VLIM_F = @sprintf(\"%.4f\", S_VLIM)\n",
    "\n",
    "p1 = plot([xs_1, xs_2], [abs.(ys_1), abs.(ys_2)],\n",
    "    xaxis=:log, #yaxis=:log, \n",
    "    lc=[:red :blue], #yticks = 10.0 .^ [i for i in 2:5],\n",
    "    title = \"GNC Newtonian PS L=0 \\n obtained in two ways\",\n",
    "    label=[\"map_sum_GNC\" \"map_GNC\"], ls=[:dash :dot], \n",
    "    ylabel = L\"|P(k)| \\quad [h_0^{-3}\\,\\mathrm{Mpc}^3]\",\n",
    "    legend=:bottomleft)\n",
    "p2 = plot(xs_1, spline.(xs_1) ./ ys_1, \n",
    "    ylabel=\"Ratio\", lc=:green, \n",
    "    xaxis=:log, \n",
    "    ylim=(0.8,1.2), \n",
    "    legend=false, \n",
    "    #xlabel=L\"$k \\quad [h_0 \\,\\mathrm{Mpc}^{-1}]$\",\n",
    "    )\n",
    "p3 = plot(xs_1, spline.(xs_1) .- ys_1, \n",
    "    ylabel=\"Difference\", lc=:green, \n",
    "    xaxis=:log,\n",
    "    #ylim=(0.0,2), \n",
    "    legend=false, \n",
    "    xlabel=L\"$k \\quad [h_0 \\,\\mathrm{Mpc}^{-1}]$\")\n",
    "VAXES = 4e-3\n",
    "P = plot(p1, p2, p3, size=(500, 600), layout= @layout [ x ; y ; z ] )\n",
    "#display(P)"
   ]
  },
  {
   "cell_type": "code",
   "execution_count": null,
   "id": "3cf57612-b48b-409b-9799-044e98953529",
   "metadata": {},
   "outputs": [],
   "source": [
    "#=\n",
    "out_xi_ppmatter_L0_withF = DIR*\"xi_ppmatter_L0_withF.txt\";\n",
    "out_ps_ppmatter_L0_withF = DIR*\"ps_ppmatter_L0_withF.txt\";\n",
    "\n",
    "GaPSE.print_map_ξ_PPMatter_multipole(cosmo, \n",
    "    out_xi_ppmatter_L0_withF, 10 .^ range(0,log10(2*cosmo.s_max),length=500);\n",
    "    L = 0, use_windows = true, pr = true, enhancer = 1e6,\n",
    "    μ_atol = 0.0, μ_rtol = 1e-2);\n",
    "GaPSE.print_PS_multipole(out_xi_ppmatter_L0_withF, out_ps_ppmatter_L0_withF;\n",
    "     L = 0, ps_kwargs(tf)...);\n",
    "ks_ppm_L0_withF, pks_ppm_L0_withF = GaPSE.readxy(out_ps_ppmatter_L0_withF);\n",
    "=#"
   ]
  },
  {
   "cell_type": "code",
   "execution_count": null,
   "id": "6ecf942c-3772-447c-9eaf-8c3e1127f9a6",
   "metadata": {},
   "outputs": [],
   "source": [
    "#=\n",
    "ss_Newt_L0_withF, xis_Newt_L0_withF = \n",
    "    GaPSE.map_ξ_GNC_multipole(cosmo, \n",
    "    \"auto_newton\",\n",
    "    10 .^ range(0,log10(2*cosmo.s_max),length=500);\n",
    "    L = 0, use_windows = true, pr = true, enhancer = 1e6,\n",
    "    μ_atol = 0.0, μ_rtol = 1e-2);\n",
    "\n",
    "ks_Newtonian_L0_withF, pks_Newtonian_L0_withF = GaPSE.PS_multipole(ss_Newt_L0_withF, \n",
    "    xis_Newt_L0_withF; L = 0,  ps_kwargs(tf)...);\n",
    "=#"
   ]
  },
  {
   "cell_type": "code",
   "execution_count": null,
   "id": "fa5d7cfb-b752-4935-8905-36419de2b82c",
   "metadata": {},
   "outputs": [],
   "source": [
    "xs_1 = ks_ppm_L0_withF\n",
    "ys_1 = pks_ppm_L0_withF\n",
    "\n",
    "xs_2 = ks_Newtonian_L0_withF\n",
    "ys_2 = pks_Newtonian_L0_withF\n",
    "spline = Spline1D(xs_2, ys_2)\n",
    "\n",
    "S_VLIM = 2*π/(2*cosmo.s_max)\n",
    "S_VLIM_F = @sprintf(\"%.4f\", S_VLIM)\n",
    "\n",
    "p1 = plot([xs_1, xs_2], [abs.(ys_1), abs.(ys_2)],\n",
    "    xaxis=:log, yaxis=:log, \n",
    "    lc=[:red :blue], yticks = 10.0 .^ [i for i in 2:5],\n",
    "    title = \"GNC Newtonian PS L=0 \\n and PPMatter PS L=0 (both with F)\",\n",
    "    label=[\"Newtonian\" \"PPMatter\"], ls=[:dash :dot], \n",
    "    ylabel = L\"|P(k)| \\quad [h_0^{-3}\\,\\mathrm{Mpc}^3]\",\n",
    "    legend=:bottomleft)\n",
    "vline!(p1, [S_VLIM], label=\"$S_VLIM_F Mpc/h_0\", lc=:black, lw=0.5, ls=:dash)\n",
    "\n",
    "p2 = plot(xs_1, spline.(xs_1) ./ ys_1, \n",
    "    ylabel=\"Ratio\", lc=:green, \n",
    "    xaxis=:log, \n",
    "    ylim=(0.8,1.2), \n",
    "    legend=false, \n",
    "    #xlabel=L\"$k \\quad [h_0 \\,\\mathrm{Mpc}^{-1}]$\",\n",
    "    )\n",
    "vline!(p2, [S_VLIM], label=\"$S_VLIM_F Mpc/h_0\", lc=:black, lw=0.5, ls=:dash)\n",
    "\n",
    "p3 = plot(xs_1, spline.(xs_1) .- ys_1, \n",
    "    ylabel=\"Difference\", lc=:green, \n",
    "    xaxis=:log,\n",
    "    #ylim=(0.0,2), \n",
    "    legend=false, \n",
    "    xlabel=L\"$k \\quad [h_0 \\,\\mathrm{Mpc}^{-1}]$\")\n",
    "VAXES = 4e-3\n",
    "vline!(p3, [S_VLIM], label=\"$VAXES Mpc/h_0\", lc=:black, lw=0.5, ls=:dash)\n",
    "\n",
    "P = plot(p1, p2, p3, size=(500, 600), layout= @layout [ x ; y ; z ] )\n",
    "savefig(P, \"PS_L0_Newton-PPMatter_withF.pdf\")\n",
    "#display(P)"
   ]
  },
  {
   "cell_type": "markdown",
   "id": "2053a867-8407-40b4-ba2c-de9c0dca9d4c",
   "metadata": {
    "tags": []
   },
   "source": [
    "## f_NL"
   ]
  },
  {
   "cell_type": "code",
   "execution_count": null,
   "id": "8e260f93-70fe-4285-a579-5c41051a10fd",
   "metadata": {},
   "outputs": [],
   "source": [
    "function PROVA_ξ_PP_Matter_L0(s, cosmo::GaPSE.Cosmology)\n",
    "     b = cosmo.params.b\n",
    "     \n",
    "     Peff = GaPSE.Point(cosmo.s_eff, cosmo)\n",
    "     D, f = Peff.D, Peff.f\n",
    "\n",
    "     (b^2 + 2 * b * f / 3 + f^2 / 5) * D^2 * cosmo.ξ_matter(s)\n",
    "end"
   ]
  },
  {
   "cell_type": "code",
   "execution_count": null,
   "id": "ed6d3ec8-3360-4994-8470-1a4e8dbbc334",
   "metadata": {},
   "outputs": [],
   "source": [
    "ss = ks_ALLGRsum_L0_withF;\n",
    "xis = [PROVA_ξ_PP_Matter_L0(s, cosmo) for s in ss];\n",
    "\n",
    "Peff = GaPSE.Point(cosmo.s_eff, cosmo)\n",
    "b, D, F = cosmo.params.b, Peff.D, Peff.f\n",
    "C = (b^2 + 2 * b * F / 3 + F^2 / 5) * D^2"
   ]
  },
  {
   "cell_type": "code",
   "execution_count": null,
   "id": "6687c314-2718-4cf8-ad82-6a672b1b1d83",
   "metadata": {},
   "outputs": [],
   "source": [
    "xs_1 = ks_GNC_L0_withF\n",
    "ys_1 = pks_sum_GNC_L0_withF\n",
    "\n",
    "xs_2 = ks_ppm_L0_withF\n",
    "ys_2 = pks_ppm_L0_withF\n",
    "spline = Spline1D(xs_2, ys_2)\n",
    "\n",
    "S_VLIM = 2*π/(2*cosmo.s_max)\n",
    "S_VLIM_F = @sprintf(\"%.4f\", S_VLIM)\n",
    "\n",
    "p1 = plot([xs_1, xs_2], [abs.(ys_1), abs.(ys_2)],\n",
    "    xaxis=:log, yaxis=:log, \n",
    "    lc=[:red :blue], yticks = 10.0 .^ [i for i in 2:5],\n",
    "    title = \"Sum GNC GR effects PS L=0 \\n and PPMatter PS L=0 (both with F)\",\n",
    "    label=[\"GNC GR sum\" \"PP Matter\"], ls=[:dash :dot], \n",
    "    ylabel = L\"|P(k)| \\quad [h_0^{-3}\\,\\mathrm{Mpc}^3]\",\n",
    "    legend=:bottomleft)\n",
    "vline!(p1, [S_VLIM], label=\"$S_VLIM_F Mpc/h_0\", lc=:black, lw=0.5, ls=:dash)\n",
    "\n",
    "p2 = plot(xs_1, spline.(xs_1) ./ ys_1, \n",
    "    ylabel=\"Ratio\", lc=:green, \n",
    "    xaxis=:log,\n",
    "    ylim=(0.8,1.2), \n",
    "    legend=false, \n",
    "    #xlabel=L\"$k \\quad [h_0 \\,\\mathrm{Mpc}^{-1}]$\",\n",
    "    )\n",
    "vline!(p2, [S_VLIM], label=\"$S_VLIM_F Mpc/h_0\", lc=:black, lw=0.5, ls=:dash)\n",
    "\n",
    "p3 = plot(xs_1, spline.(xs_1) .- ys_1, \n",
    "    ylabel=\"Difference\", lc=:green, \n",
    "    xaxis=:log,\n",
    "    #ylim=(0.0,2), \n",
    "    legend=false, \n",
    "    xlabel=L\"$k \\quad [h_0 \\,\\mathrm{Mpc}^{-1}]$\")\n",
    "VAXES = 4e-3\n",
    "vline!(p3, [S_VLIM], label=\"$VAXES Mpc/h_0\", lc=:black, lw=0.5, ls=:dash)\n",
    "\n",
    "P = plot(p1, p2, p3, size=(500, 600), layout= @layout [ x ; y ; z ] )\n",
    "savefig(P, \"PS_L0_ALLGRsum-PPMatter_withF.pdf\")\n",
    "#display(P)"
   ]
  },
  {
   "cell_type": "code",
   "execution_count": null,
   "id": "ca7bd200-fd59-4920-839a-f8f103652e55",
   "metadata": {},
   "outputs": [],
   "source": [
    "xs_1 = ks_GNC_L0_withF\n",
    "ys_1 = pks_sum_GNC_L0_withF\n",
    "\n",
    "xs_2 = ks_Newtonian_L0_withF\n",
    "ys_2 = pks_Newtonian_L0_withF\n",
    "spline = Spline1D(xs_2, ys_2)\n",
    "\n",
    "S_VLIM = 2*π/(2*cosmo.s_max)\n",
    "S_VLIM_F = @sprintf(\"%.4f\", S_VLIM)\n",
    "\n",
    "p1 = plot([xs_1, xs_2], [abs.(ys_1), abs.(ys_2)],\n",
    "    xaxis=:log, yaxis=:log, \n",
    "    lc=[:red :blue], yticks = 10.0 .^ [i for i in 2:5],\n",
    "    title = \"Sum GNC GR effects PS L=0 \\n and only Newtonian PS L=0 (both with F)\",\n",
    "    label=[\"GNC ALLGRsum\" \"Newtonian\"], ls=[:dash :dot], \n",
    "    ylabel = L\"|P(k)| \\quad [h_0^{-3}\\,\\mathrm{Mpc}^3]\",\n",
    "    legend=:bottomleft)\n",
    "vline!(p1, [S_VLIM], label=\"$S_VLIM_F Mpc/h_0\", lc=:black, lw=0.5, ls=:dash)\n",
    "\n",
    "p2 = plot(xs_1, spline.(xs_1) ./ ys_1, \n",
    "    ylabel=\"Ratio\", lc=:green, \n",
    "    xaxis=:log, \n",
    "    ylim=(0.95,1.05), \n",
    "    legend=false, \n",
    "    #xlabel=L\"$k \\quad [h_0 \\,\\mathrm{Mpc}^{-1}]$\",\n",
    "    )\n",
    "vline!(p2, [S_VLIM], label=\"$S_VLIM_F Mpc/h_0\", lc=:black, lw=0.5, ls=:dash)\n",
    "\n",
    "p3 = plot(xs_1, spline.(xs_1) .- ys_1, \n",
    "    ylabel=\"Difference\", lc=:green, \n",
    "    xaxis=:log, \n",
    "    #ylim=(0.0,2), \n",
    "    legend=false, \n",
    "    xlabel=L\"$k \\quad [h_0 \\,\\mathrm{Mpc}^{-1}]$\")\n",
    "VAXES = 4e-3\n",
    "vline!(p3, [S_VLIM], label=\"$VAXES Mpc/h_0\", lc=:black, lw=0.5, ls=:dash)\n",
    "\n",
    "P = plot(p1, p2, p3, size=(500, 600), layout= @layout [ x ; y ; z ] )\n",
    "savefig(P, \"PS_L0_ALLGRsum-Newton_withF.pdf\")\n",
    "#display(P)"
   ]
  },
  {
   "cell_type": "code",
   "execution_count": null,
   "id": "aad35480-584d-4954-a8cf-e5e7da9fcff4",
   "metadata": {},
   "outputs": [],
   "source": [
    "xs_1 = ks_ppm_L0_withF\n",
    "ys_1 = pks_ppm_L0_withF\n",
    "\n",
    "xs_2 = ks_Newtonian_L0_withF\n",
    "ys_2 = pks_Newtonian_L0_withF\n",
    "spline = Spline1D(xs_2, ys_2)\n",
    "\n",
    "S_VLIM = 2*π/(2*cosmo.s_max)\n",
    "S_VLIM_F = @sprintf(\"%.4f\", S_VLIM)\n",
    "\n",
    "p1 = plot([xs_1, xs_2], [abs.(ys_1), abs.(ys_2)],\n",
    "    xaxis=:log, yaxis=:log, \n",
    "    lc=[:red :blue], yticks = 10.0 .^ [i for i in 2:5],\n",
    "    title = \"GNC Newtonian PS L=0 \\n and PPMatter PS L=0 (both with F)\",\n",
    "    label=[\"Newtonian\" \"PPMatter\"], ls=[:dash :dot], \n",
    "    ylabel = L\"|P(k)| \\quad [h_0^{-3}\\,\\mathrm{Mpc}^3]\",\n",
    "    legend=:bottomleft)\n",
    "vline!(p1, [S_VLIM], label=\"$S_VLIM_F Mpc/h_0\", lc=:black, lw=0.5, ls=:dash)\n",
    "\n",
    "p2 = plot(xs_1, spline.(xs_1) ./ ys_1, \n",
    "    ylabel=\"Ratio\", lc=:green, \n",
    "    xaxis=:log, \n",
    "    ylim=(0.8,1.2), \n",
    "    legend=false, \n",
    "    #xlabel=L\"$k \\quad [h_0 \\,\\mathrm{Mpc}^{-1}]$\",\n",
    "    )\n",
    "vline!(p2, [S_VLIM], label=\"$S_VLIM_F Mpc/h_0\", lc=:black, lw=0.5, ls=:dash)\n",
    "\n",
    "p3 = plot(xs_1, spline.(xs_1) .- ys_1, \n",
    "    ylabel=\"Difference\", lc=:green, \n",
    "    xaxis=:log,\n",
    "    #ylim=(0.0,2), \n",
    "    legend=false, \n",
    "    xlabel=L\"$k \\quad [h_0 \\,\\mathrm{Mpc}^{-1}]$\")\n",
    "VAXES = 4e-3\n",
    "vline!(p3, [S_VLIM], label=\"$VAXES Mpc/h_0\", lc=:black, lw=0.5, ls=:dash)\n",
    "\n",
    "P = plot(p1, p2, p3, size=(500, 600), layout= @layout [ x ; y ; z ] )\n",
    "savefig(P, \"PS_L0_Newton-PPMatter_withF.pdf\")\n",
    "#display(P)"
   ]
  },
  {
   "cell_type": "markdown",
   "id": "7b640623-8d37-4f93-88ee-47bc5ea4f0e7",
   "metadata": {
    "tags": []
   },
   "source": [
    "## Difference studies"
   ]
  },
  {
   "cell_type": "code",
   "execution_count": null,
   "id": "a12297fa-fcee-46f0-935b-1a10b4ee0962",
   "metadata": {},
   "outputs": [],
   "source": [
    "spline_ppm_L0_withF = Spline1D(ks_ppm_L0_withF, pks_ppm_L0_withF; bc = \"error\");\n",
    "spline_GNCsum_L0_withF = Spline1D(ks_GNC_L0_withF, pks_sum_GNC_L0_withF; bc = \"error\");\n",
    "spline_Newtonian_L0_withF = Spline1D(ks_Newtonian_L0_withF, pks_Newtonian_L0_withF; bc = \"error\");"
   ]
  },
  {
   "cell_type": "code",
   "execution_count": null,
   "id": "2fc44ec7-0c2b-40a6-a01c-8eb5c5fea957",
   "metadata": {},
   "outputs": [],
   "source": [
    "ks = ks_ALLGRsum_L0_withF\n",
    "diff_Newt_ppm = [spline_Newtonian_L0_withF(k) - spline_ppm_L0_withF(k) for k in ks];\n",
    "diff_GNCsum_ppm = [spline_GNCsum_L0_withF(k) - spline_ppm_L0_withF(k) for k in ks];\n",
    "diff_GNCsum_Newt = [spline_GNCsum_L0_withF(k) - spline_Newtonian_L0_withF(k) for k in ks];"
   ]
  },
  {
   "cell_type": "code",
   "execution_count": null,
   "id": "5df97d81-71cb-4043-b290-c8141edfcf41",
   "metadata": {},
   "outputs": [],
   "source": [
    "LIM1, LIM2 = 1.5e-3, 6e-3\n",
    "LIM3, LIM4 = 0.8e-3,8e-3\n",
    "c,b,a = GaPSE.polynomial_from_data(ks, diff_GNCsum_Newt, [1.0, 1.0, 1.0], LIM1, LIM2)\n",
    "println(c,b,a)\n",
    "pls = [GaPSE.polynomial(x, c, b, a) for x in ks[LIM3 .< ks .< LIM4]]\n",
    "\n",
    "plot(ks, diff_GNCsum_Newt, lc=:red, axis=:log)\n",
    "plot!(ks[LIM3 .< ks .< LIM4], pls, lc=:blue, ls =:dash)"
   ]
  },
  {
   "cell_type": "code",
   "execution_count": null,
   "id": "556f4a46-8a43-47ad-8310-76207b120331",
   "metadata": {},
   "outputs": [],
   "source": []
  },
  {
   "cell_type": "code",
   "execution_count": null,
   "id": "d5a29fb4-86fd-4dad-836d-0f22a4841353",
   "metadata": {},
   "outputs": [],
   "source": []
  },
  {
   "cell_type": "code",
   "execution_count": null,
   "id": "2be36671-b2df-49e2-bd1e-6014f7da7ce3",
   "metadata": {},
   "outputs": [],
   "source": []
  }
 ],
 "metadata": {
  "kernelspec": {
   "display_name": "Julia 1.7.3",
   "language": "julia",
   "name": "julia-1.7"
  },
  "language_info": {
   "file_extension": ".jl",
   "mimetype": "application/julia",
   "name": "julia",
   "version": "1.7.3"
  }
 },
 "nbformat": 4,
 "nbformat_minor": 5
}
