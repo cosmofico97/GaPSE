{
 "cells": [
  {
   "cell_type": "markdown",
   "id": "0ac19ff3-c6f9-4053-8fa2-381e07c80e7b",
   "metadata": {},
   "source": [
    "This file is part of GaPSE\n",
    "Copyright (C) 2022 Matteo Foglieni\n",
    "\n",
    "GaPSE is free software: you can redistribute it and/or modify\n",
    "it under the terms of the GNU General Public License as published by\n",
    "the Free Software Foundation, either version 3 of the License, or\n",
    "(at your option) any later version.\n",
    "\n",
    "GaPSE is distributed in the hope that it will be useful, but\n",
    "WITHOUT ANY WARRANTY; without even the implied warranty of\n",
    "MERCHANTABILITY or FITNESS FOR A PARTICULAR PURPOSE. See the GNU\n",
    "General Public License for more details.\n",
    "\n",
    "You should have received a copy of the GNU General Public License\n",
    "along with GaPSE. If not, see <http://www.gnu.org/licenses/>.\n",
    "```\n",
    "\n",
    "\n",
    "```"
   ]
  },
  {
   "cell_type": "markdown",
   "id": "9fd0ba24-56c5-443b-842c-21d21ad23457",
   "metadata": {},
   "source": [
    "# Effective 𝑓_NL"
   ]
  },
  {
   "cell_type": "markdown",
   "id": "64fc9d48-6d68-4ad6-9aab-ba8ea0b315f6",
   "metadata": {},
   "source": [
    "This ipynb provides the code necessary to compute the effective factor of Non-Linear effects $\\mathit{f}_{\\rm NL}$"
   ]
  },
  {
   "cell_type": "markdown",
   "id": "857685de-f317-4191-acf3-3d11ff39f68d",
   "metadata": {
    "jp-MarkdownHeadingCollapsed": true,
    "tags": []
   },
   "source": [
    "## Basic Framework"
   ]
  },
  {
   "cell_type": "code",
   "execution_count": 1,
   "id": "4eeb7c86-e5bb-438a-b213-cb4c20756a26",
   "metadata": {},
   "outputs": [],
   "source": [
    "PATH_TO_GAPSE = \"../\";"
   ]
  },
  {
   "cell_type": "code",
   "execution_count": 2,
   "id": "95bd48af-68f0-4927-9e89-ff749662d416",
   "metadata": {},
   "outputs": [],
   "source": [
    "include(PATH_TO_GAPSE * \"src/GaPSE.jl\");"
   ]
  },
  {
   "cell_type": "code",
   "execution_count": 3,
   "id": "f00a1116-1d6c-4f50-aff0-3965fa21a535",
   "metadata": {},
   "outputs": [],
   "source": [
    "using DelimitedFiles, Plots, Dierckx, SpecialFunctions\n",
    "using Printf, LaTeXStrings"
   ]
  },
  {
   "cell_type": "code",
   "execution_count": 4,
   "id": "4c649227-19e4-4cb1-889e-3c35eabf4822",
   "metadata": {},
   "outputs": [
    {
     "name": "stdout",
     "output_type": "stream",
     "text": [
      "###############\n",
      "#    GaPSE    #\n",
      "############### \n",
      "#\n",
      "# The Cosmology considered had the following paremeters:\n",
      "# \n",
      "# - Matter Power Spectrum input file: \"../test/datatest/file_pk.txt\"\n",
      "# - Background data input file: \"../test/datatest/WideA_ZA_background.dat\"\n",
      "# - F window function input file: \"../data/F_REFERENCE_pi2.txt\"\n",
      "# - Integrated F window function input file: \"../data/IntegrF_REFERENCE_pi2.txt\"\n",
      "#\n",
      "# - Basic CosmoParams considered: \n",
      "#\t z_min = 0.05 \t z_max = 0.2\n",
      "#\t θ_max = 1.5707963267948966 [rad] \t h_0 = 0.7\n",
      "#\t Ω_b = 0.0489 \t Ω_cdm = 0.25102 \t Ω_M0 = 0.29992\n",
      "#\t b = 1.0 \t f_evo = 0.0 \t s_b = 0.0\n",
      "#\n",
      "# - CosmoParams about the Input Power Spectrum: \n",
      "#\t fit_left_min = 1.0e-6 \t fit_right_min = 10.0 \t \n",
      "#\t fit_left_max = 3.0e-6 \t fit_right_max = 20.0 \t \n",
      "#\n",
      "# - CosmoParams about the Input Power Spectrum Tools: \n",
      "#\t k_max = 10.0 \t fit_max = 0.5 \t N = 1024 \t \n",
      "#\t con = true \t k_min = 1.0e-8 \t fit_min = 0.05 \t \n",
      "#\n",
      "# - CosmoParams about the Integrated Window Function F: \n",
      "#\t ss_step = 10.0 \t N = 1000 \t rtol = 0.01 \t \n",
      "#\t llim = 0.0 \t atol = 0.0 \t rlim = Inf \t \n",
      "#\t ss_stop = 0.0 \t trap = true \t ss_start = 0.0 \t \n",
      "#\n",
      "# - Computed quantities: \n",
      "# \t effective redshift z_eff = 0.15045636096023224 \n",
      "# \t comoving s_min = 148.1920001465757 Mpc/h_0\n",
      "# \t comoving s_max = 571.7022420258767 Mpc/h_0\n",
      "# \t comoving s_eff = 435.3747095690664 Mpc/h_0\n",
      "# \t Volume of the survey V_survey = 3.845366167995967e8 Mpc^3/h_0^3\n",
      "# \t σ_0 = 15.593462966741178\n",
      "# \t σ_1 = 15.074895881392285\n",
      "# \t σ_2 = 100.85852368830226\n",
      "# \t σ_3 = 3735.1226181519773\n",
      "# \t (where σ_i = \\int_{k_{min}}^{k_{max}}\\frac{dq}{2 π^2} q^{2-i} P(q))\n",
      "# \n"
     ]
    }
   ],
   "source": [
    "FILE_F_MAP = PATH_TO_GAPSE * \"data/F_REFERENCE_pi2.txt\"\n",
    "FILE_IF_MAP = PATH_TO_GAPSE * \"data/IntegrF_REFERENCE_pi2.txt\"\n",
    "FILE_PS = PATH_TO_GAPSE * \"test/datatest/file_pk.txt\"\n",
    "FILE_BACKGROUND = PATH_TO_GAPSE * \"test/datatest/WideA_ZA_background.dat\"\n",
    "\n",
    "\n",
    "z_min, z_max, θ_max = 0.05, 0.20, π / 2.0\n",
    "params = GaPSE.CosmoParams(z_min, z_max, θ_max;\n",
    "    Ω_b = 0.0489, Ω_cdm = 0.251020, h_0 = 0.70, s_lim=1e-2,\n",
    "    s_b = 0.0, 𝑓_evo = 0.0, b = 1.0,\n",
    "    IPS_opts = Dict(\n",
    "        :fit_left_min => 1e-6, :fit_left_max => 3e-6,\n",
    "        :fit_right_min => 1e1, :fit_right_max => 2e1),\n",
    "    IPSTools_opts = Dict(\n",
    "        :N => 1024, :fit_min => 0.05, :fit_max => 0.5, \n",
    "        :con => true, :k_min => 1e-8, :k_max => 10.0),\n",
    "    WFI_opts = Dict(\n",
    "        :llim => 0.0, :rlim => Inf, :N => 1000,\n",
    "         :trap => true, :rtol => 1e-2, :atol => 0.0,\n",
    "         :ss_start => 0.0, :ss_step => 10.0,\n",
    "         :ss_stop => 0.0),\n",
    ");\n",
    "\n",
    "cosmo = GaPSE.Cosmology(params, FILE_BACKGROUND, FILE_PS, FILE_F_MAP, FILE_IF_MAP);\n",
    "\n",
    "GaPSE.parameters_used(stdout, cosmo)"
   ]
  },
  {
   "cell_type": "markdown",
   "id": "1056eb5f-daaf-404a-976a-1e2a3ec2820f",
   "metadata": {},
   "source": [
    "## Computation of the Matter TPCF and PS in Plane-Parallel approx"
   ]
  },
  {
   "cell_type": "code",
   "execution_count": null,
   "id": "4655cb0f-fc97-4294-8bbb-1098f994c489",
   "metadata": {},
   "outputs": [],
   "source": [
    "in_file_ps = FILE_PS;\n",
    "out_file_xi = \"xi_matter.txt\";\n",
    "\n",
    "GaPSE.print_ξ_from_PS(in_file_ps, out_file_xi; \n",
    "    int_k_min = 1e-3, int_k_max = 1e1,\n",
    "     L = 0, N = 1024, pr = true,\n",
    "     s0 = nothing, right = nothing);"
   ]
  }
 ],
 "metadata": {
  "kernelspec": {
   "display_name": "Julia 1.7.2",
   "language": "julia",
   "name": "julia-1.7"
  },
  "language_info": {
   "file_extension": ".jl",
   "mimetype": "application/julia",
   "name": "julia",
   "version": "1.7.2"
  }
 },
 "nbformat": 4,
 "nbformat_minor": 5
}
