{
 "cells": [
  {
   "cell_type": "markdown",
   "id": "1c882dbf-9b2c-4113-9447-fa113abffd53",
   "metadata": {},
   "source": [
    "This file is part of GaPSE\n",
    "Copyright (C) 2022 Matteo Foglieni\n",
    "\n",
    "GaPSE is free software: you can redistribute it and/or modify\n",
    "it under the terms of the GNU General Public License as published by\n",
    "the Free Software Foundation, either version 3 of the License, or\n",
    "(at your option) any later version.\n",
    "\n",
    "GaPSE is distributed in the hope that it will be useful, but\n",
    "WITHOUT ANY WARRANTY; without even the implied warranty of\n",
    "MERCHANTABILITY or FITNESS FOR A PARTICULAR PURPOSE. See the GNU\n",
    "General Public License for more details.\n",
    "\n",
    "You should have received a copy of the GNU General Public License\n",
    "along with GaPSE. If not, see <http://www.gnu.org/licenses/>.\n",
    "```\n",
    "\n",
    "\n",
    "```"
   ]
  },
  {
   "cell_type": "markdown",
   "id": "4e8ec63f-6b3e-4024-b30f-33144f35643b",
   "metadata": {},
   "source": [
    "# DATATEST of GaPSE"
   ]
  },
  {
   "cell_type": "markdown",
   "id": "98037ac1-6438-4369-b906-32e854e293ce",
   "metadata": {},
   "source": [
    "This notebook provides the code necessary to compute all the files stored in the `../test/datatest` directory. They are used for the unit and integration tests of the code."
   ]
  },
  {
   "cell_type": "markdown",
   "id": "e69d6d59-043b-4943-bf2c-ffc7d120affb",
   "metadata": {
    "tags": []
   },
   "source": [
    "## Background Framework"
   ]
  },
  {
   "cell_type": "code",
   "execution_count": 1,
   "id": "9bdfc59f-b0ba-4daf-86af-a19d6ffc766e",
   "metadata": {},
   "outputs": [],
   "source": [
    "PATH_TO_GAPSE = \"../\";"
   ]
  },
  {
   "cell_type": "code",
   "execution_count": 2,
   "id": "12b1340b-6aec-4c4f-a75b-928c12af8af8",
   "metadata": {},
   "outputs": [],
   "source": [
    "include(PATH_TO_GAPSE * \"src/GaPSE.jl\");"
   ]
  },
  {
   "cell_type": "code",
   "execution_count": 3,
   "id": "38f8dbef-b184-4c3a-b335-6a393f00cc80",
   "metadata": {},
   "outputs": [],
   "source": [
    "using Plots, DelimitedFiles, Printf"
   ]
  },
  {
   "cell_type": "code",
   "execution_count": 4,
   "id": "270fe520-6f52-4530-af8f-9eeebff09b60",
   "metadata": {},
   "outputs": [
    {
     "data": {
      "text/plain": [
       "Main.GaPSE.Cosmology(Main.GaPSE.InputPS(0.9599998007678217, 3.0123089778963984e6, 0.0, 1.0e-6, Spline1D(knots=[1.0e-6,1.02329e-6 … 19.7242,20.1837] (1460 elements), k=3, extrapolation=\"error\", residual=0.0), -2.6531284143857454, 68.30720789490483, 0.0, 20.0), Main.GaPSE.CosmoParams(0.05, 0.2, 1.5707963267948966, 0.0489, 0.25102, 0.29992, 0.7, 1.0, 0.0, 0.0, 0.01, Dict(:fit_left_min => 1.0e-6, :fit_right_min => 10.0, :fit_left_max => 3.0e-6, :fit_right_max => 20.0), Dict{Symbol, Real}(:k_max => 10.0, :fit_max => 0.5, :N => 1024, :con => true, :k_min => 1.0e-8, :fit_min => 0.05), Dict{Symbol, Real}(:ss_step => 21.768735478453323, :N => 1000, :rtol => 0.01, :llim => 0.0, :atol => 0.0, :rlim => Inf, :ss_stop => 0.0, :trap => true, :ss_start => 0.0)), Main.GaPSE.IPSTools(Main.GaPSE.IntegralIPS(-0.3480008484088528, 11.575473646894222, -6.492685627424222, 0.05, Spline1D(knots=[0.0495807,0.051397 … 93057.2,96466.2] (804 elements), k=3, extrapolation=\"error\", residual=0.0), 2.8758516589192706, 8.345990355535678e-29, 0.0, 96466.16199111959), Main.GaPSE.IntegralIPS(-0.3434449376790657, 1.5505826777939757, -0.035265713349630266, 0.05, Spline1D(knots=[0.0495807,0.051397 … 93057.2,96466.2] (804 elements), k=3, extrapolation=\"error\", residual=0.0), -3.9578746738388397, 1.1832931457198192e6, 0.0, 96466.16199111959), Main.GaPSE.IntegralIPS(-0.3468022218825587, 0.7681399976144987, -0.00028247463623223634, 0.05, Spline1D(knots=[0.0495807,0.051397 … 93057.2,96466.2] (804 elements), k=3, extrapolation=\"error\", residual=0.0), -3.9597415622888192, 6.92151268083521e6, 0.0, 96466.16199111959), Main.GaPSE.IntegralIPS(-2.00164755613052, 100.44877199997933, 0.0, 0.05, Spline1D(knots=[0.0495807,0.051397 … 93057.2,96466.2] (804 elements), k=3, extrapolation=\"error\", residual=0.0), -5.866385247535877, 1.7556551321550488e14, 0.0, 96466.16199111959), Main.GaPSE.IntegralIPS(-0.34727171081772734, 0.9412777254767503, -0.43616927284862367, 0.05, Spline1D(knots=[0.0495807,0.051397 … 93057.2,96466.2] (804 elements), k=3, extrapolation=\"error\", residual=0.0), -3.431171897505612, 851.4607831995294, 0.0, 96466.16199111959), Main.GaPSE.IntegralIPS(-0.3445696461864395, 0.33123234468023927, -0.005064156263986402, 0.05, Spline1D(knots=[0.0495807,0.051397 … 93057.2,96466.2] (804 elements), k=3, extrapolation=\"error\", residual=0.0), -3.9594640605240348, 1.157797082289167e6, 0.0, 96466.16199111959), Main.GaPSE.IntegralIPS(-2.0001163229203924, 33.62113907833843, -0.5498036524608388, 0.05, Spline1D(knots=[0.0495807,0.051397 … 93057.2,96466.2] (804 elements), k=3, extrapolation=\"error\", residual=0.0), -4.387393755963048, 1.5388770882263558e7, 0.0, 96466.16199111959), Main.GaPSE.IntegralIPS(-0.3474733407904323, 4.375198496682168, -2.17582565657694, 0.05, Spline1D(knots=[0.0495807,0.051397 … 93057.2,96466.2] (804 elements), k=3, extrapolation=\"error\", residual=0.0), -2.270802848837033, 0.002613631263376589, 0.0, 96466.16199111959), Main.GaPSE.IntegralIPS(-2.0002445476746975, -16.80636730509123, 0.10615797439188279, 0.1, Spline1D(knots=[0.0999,0.102174 … 9777.41,10000.0] (1022 elements), k=3, extrapolation=\"error\", residual=0.0), -3.746166614932489, -83772.05493095529, 0.0, 9888.080416307215), 15.593462966741178, 15.074895881392285, 100.85852368830226, 3735.1226181519773, 0.05, 0.5, 1.0e-8, 10.0), Main.GaPSE.WindowF([0.0, 0.05, 0.1, 0.15, 0.2, 0.25, 0.3, 0.35, 0.4, 0.45  …  4.55, 4.6, 4.65, 4.7, 4.75, 4.8, 4.85, 4.9, 4.95, 5.0], [-1.0, -0.9979591836734694, -0.9959183673469387, -0.9938775510204082, -0.9918367346938776, -0.9897959183673469, -0.9877551020408163, -0.9857142857142858, -0.9836734693877551, -0.9816326530612245  …  0.9816326530612245, 0.9836734693877551, 0.9857142857142858, 0.9877551020408163, 0.9897959183673469, 0.9918367346938776, 0.9938775510204082, 0.9959183673469387, 0.9979591836734694, 1.0], [0.0 39.57312375343778 … 39.57312375340959 0.0; 0.0 39.566989099025015 … 39.572626853415294 0.0; … ; 0.0 0.8869182499637901 … 39.02493143026159 0.0; 0.0 0.8869182499637901 … 39.02493143026159 0.0]), Main.GaPSE.WindowFIntegrated([0.0, 21.768735478453323, 43.537470956906645, 65.30620643535997, 87.07494191381329, 108.84367739226661, 130.61241287071994, 152.38114834917326, 174.14988382762658, 195.9186193060799  …  1502.0427480132794, 1523.8114834917326, 1545.5802189701858, 1567.3489544486392, 1589.1176899270927, 1610.8864254055459, 1632.655160883999, 1654.4238963624525, 1676.192631840906, 1697.9613673193592], [-1.0, -0.9979591836734694, -0.9959183673469387, -0.9938775510204082, -0.9918367346938776, -0.9897959183673469, -0.9877551020408163, -0.9857142857142858, -0.9836734693877551, -0.9816326530612245  …  0.9816326530612245, 0.9836734693877551, 0.9857142857142858, 0.9877551020408163, 0.9897959183673469, 0.9918367346938776, 0.9938775510204082, 0.9959183673469387, 0.9979591836734694, 1.0], [0.0 2.4105477989011474e9 … 2.41054779889943e9 0.0; 0.0 2.389255518176922e9 … 2.1540214828440704e9 0.0; … ; 0.0 0.0 … 0.0 0.0; 0.0 0.0 … 0.0 0.0]), Spline1D(knots=[0.0,40.7746 … 1734.56,1782.95] (76 elements), k=3, extrapolation=\"error\", residual=0.0), Spline1D(knots=[0.0,40.7746 … 1734.56,1782.95] (76 elements), k=3, extrapolation=\"error\", residual=0.0), Spline1D(knots=[0.0,40.7746 … 1734.56,1782.95] (76 elements), k=3, extrapolation=\"error\", residual=0.0), Spline1D(knots=[0.0,40.7746 … 1734.56,1782.95] (76 elements), k=3, extrapolation=\"error\", residual=0.0), Spline1D(knots=[0.0,40.7746 … 1734.56,1782.95] (76 elements), k=3, extrapolation=\"error\", residual=0.0), Spline1D(knots=[0.0,0.000101685 … 1724.34,1782.95] (999 elements), k=3, extrapolation=\"error\", residual=0.0), Spline1D(knots=[0.0,0.000101685 … 1724.34,1782.95] (999 elements), k=3, extrapolation=\"error\", residual=0.0), Spline1D(knots=[0.0,0.0136431 … 0.690495,0.714327] (76 elements), k=3, extrapolation=\"error\", residual=0.0), 0.15045636096023224, 148.1920001465757, 571.7022420258767, 435.3747095690664, 3.845366167995967e8, \"../test/datatest/WideA_ZA_background.dat\", \"../test/datatest/file_pk.txt\", \"../test/datatest/F_REFERENCE_pi2.txt\", \"../test/datatest/IntegrF_REFERENCE_pi2.txt\")"
      ]
     },
     "execution_count": 4,
     "metadata": {},
     "output_type": "execute_result"
    }
   ],
   "source": [
    "const FILE_F_MAP = PATH_TO_GAPSE * \"test/datatest/F_REFERENCE_pi2.txt\"\n",
    "const FILE_PS = PATH_TO_GAPSE * \"test/datatest/file_pk.txt\"\n",
    "const FILE_IF_MAP = PATH_TO_GAPSE * \"test/datatest/IntegrF_REFERENCE_pi2.txt\"\n",
    "const FILE_ILN = PATH_TO_GAPSE * \"test/datatest/table_Iln.txt\"\n",
    "const FILE_BACKGROUND = PATH_TO_GAPSE * \"test/datatest/WideA_ZA_background.dat\"\n",
    "\n",
    "const Z_MIN = 0.05\n",
    "const Z_MAX = 0.20\n",
    "const S_MIN = 148.1920001343431\n",
    "const S_MAX = 571.7022420911966\n",
    "const S_EFF = 435.37470960794167\n",
    "const Z_EFF = 0.15045636097417317\n",
    "const VOLUME = 3.845366167993746e8\n",
    "const HUBBLE_0 = 1e5 / 299792458.0\n",
    "\n",
    "const PARAMS = GaPSE.CosmoParams(Z_MIN, Z_MAX, π / 2.0;\n",
    "     Ω_b=0.0489, Ω_cdm=0.251020, h_0=0.7, s_lim=1e-2,\n",
    "     IPS_opts=Dict(\n",
    "          :fit_left_min => 1e-6, :fit_left_max => 3e-6,\n",
    "          :fit_right_min => 1e1, :fit_right_max => 2e1,\n",
    "     ),\n",
    "     IPSTools_opts=Dict(\n",
    "          :N => 1024, :fit_min => 0.05, :fit_max => 0.5,\n",
    "          :con => true, :k_min => 1e-8, :k_max => 10.0\n",
    "    ),\n",
    "     WFI_opts = Dict(:llim => 0.0, :rlim => Inf, :N => 1000,\n",
    "          :trap => true, :rtol => 1e-2, :atol => 0.0,\n",
    "          :ss_start => 0.0, :ss_step => 21.768735478453323,\n",
    "          :ss_stop => 0.0)\n",
    ")\n",
    "const COSMO = GaPSE.Cosmology(PARAMS, FILE_BACKGROUND, FILE_PS, FILE_F_MAP, FILE_IF_MAP)\n",
    "\n",
    "#=\n",
    "common_kwargs = Dict(\n",
    "     :pr => false,\n",
    "     :use_windows => false,\n",
    "     :enhancer => 1e8, :N_μs => 30,\n",
    "     :μ_atol => 0.0, :μ_rtol => 1e-2,\n",
    "     :N_log => 100,\n",
    ");\n",
    "\n",
    "spec_effect = [\n",
    "     \"auto_lensing\", \"auto_integratedgp\",\n",
    "     \"lensing_doppler\", \"doppler_lensing\",\n",
    "     \"doppler_integratedgp\", \"integratedgp_doppler\",\n",
    "     \"lensing_localgp\", \"localgp_lensing\",\n",
    "     \"lensing_integratedgp\", \"integratedgp_lensing\",\n",
    "     \"localgp_integratedgp\", \"integratedgp_localgp\",\n",
    "];\n",
    "\n",
    "specific_kwargs = [effect ∈ spec_effect ? Dict(\n",
    "     :en => 1e12, :N_χs => 30) : nothing for effect in GaPSE.GR_EFFECTS_LD]\n",
    "\n",
    "joint_kwargs = [isnothing(spec) ? common_kwargs : merge(common_kwargs, spec)\n",
    "                for spec in specific_kwargs];\n",
    "=#"
   ]
  },
  {
   "cell_type": "markdown",
   "id": "4d1fc4bb-edde-4412-b0df-7e4988c4ee9b",
   "metadata": {
    "jp-MarkdownHeadingCollapsed": true,
    "tags": []
   },
   "source": [
    "## F_map tests"
   ]
  },
  {
   "cell_type": "code",
   "execution_count": null,
   "id": "915a11de-4bf5-40f3-80e5-a8d997921ad4",
   "metadata": {},
   "outputs": [],
   "source": [
    "kwargs_map_F_hcub = Dict(\n",
    "     :θ_max => π / 2.0, :tolerance => 1e-8, \n",
    "     :rtol => 1e-2, :atol => 1e-3, :pr => true,\n",
    ");\n",
    "\n",
    "kwargs_map_F_trapz = Dict(\n",
    "     :θ_max => π / 2.0, :tolerance => 1e-8, \n",
    "     :N => 1000, :pr => true,\n",
    ");"
   ]
  },
  {
   "cell_type": "code",
   "execution_count": null,
   "id": "adea45e5-d1fc-4080-91ad-dc48cedd6f7a",
   "metadata": {},
   "outputs": [],
   "source": [
    "first_output = \"test/datatest/F_first_method.txt\"\n",
    "second_output = \"test/datatest/F_second_method.txt\"\n",
    "\n",
    "calc_xs = [x for x in 0:0.25:3]\n",
    "calc_μs = vcat([-1.0, -0.98, -0.95], [μ for μ in -0.9:0.1:0.9], [0.95, 0.98, 1.0])\n",
    "\n",
    "GaPSE.print_map_F(PATH_TO_GAPSE * first_output, 0.25, 0.25;\n",
    "    x1 = 0, x2 = 3, μ1 = -1, μ2 = 1, \n",
    "    trapz = true, Fmap_opts = kwargs_map_F_trapz)\n",
    "GaPSE.print_map_F(PATH_TO_GAPSE * second_output, calc_xs, calc_μs;\n",
    "    trapz = true, Fmap_opts = kwargs_map_F_trapz)"
   ]
  },
  {
   "cell_type": "markdown",
   "id": "faec0c50-e75f-4420-889b-e6a58d0ba54f",
   "metadata": {
    "jp-MarkdownHeadingCollapsed": true,
    "tags": []
   },
   "source": [
    "## IntegratedF_map tests"
   ]
  },
  {
   "cell_type": "code",
   "execution_count": null,
   "id": "8a231d6b-2f29-4098-9dba-5357f8e5d743",
   "metadata": {},
   "outputs": [],
   "source": [
    "kwargs_map_F_int = Dict(\n",
    "    :ss_start => 100, :ss_stop => 500, \n",
    "    :ss_step => 50, :llim => 0.0, :rlim => Inf, \n",
    "    :rtol => 5e-2, :atol => 0.0, :N => 300, :pr => true,\n",
    ");\n",
    "\n",
    "kwargs_F_int_quad = Dict(\n",
    "    :llim => kwargs_map_F_int[:llim], \n",
    "    :rlim => kwargs_map_F_int[:rlim], \n",
    "    :rtol => kwargs_map_F_int[:rtol], \n",
    "    :atol => kwargs_map_F_int[:atol],\n",
    ")\n",
    "\n",
    "kwargs_F_int_trap = Dict(\n",
    "    :llim => kwargs_map_F_int[:llim], \n",
    "    :rlim => kwargs_map_F_int[:rlim], \n",
    "    :N => kwargs_map_F_int[:N], \n",
    ")\n",
    "\n",
    "windF = GaPSE.WindowF(FILE_F_MAP); \n",
    "\n",
    "calc_μs = vcat([-1.0, -0.98, -0.95], \n",
    "    [μ for μ in -0.9:0.3:0.9], \n",
    "    [0.95, 0.98, 1.0]);"
   ]
  },
  {
   "cell_type": "code",
   "execution_count": null,
   "id": "7f85256c-278b-4874-b28f-26f0ff2d5e84",
   "metadata": {},
   "outputs": [],
   "source": [
    "calc_ss = [100, 150, 200, 250]\n",
    "calc_μs = [0.0, 0.8, -0.8]\n",
    "s_min, s_max = 148.1920001465757, 571.7022420258767\n",
    "z_min, z_max = 0.05, 0.20\n",
    "\n",
    "println(\"integrated_F_quadgk: \")\n",
    "for μ in calc_μs, s in calc_ss\n",
    "    IF = GaPSE.integrated_F_quadgk(s, μ, s_min, s_max, windF; \n",
    "          kwargs_F_int_quad...)\n",
    "    res = @sprintf(\"%.5e\", IF)\n",
    "    println(\"s = $s, \\t μ = $μ, \\t IF = $res\") \n",
    "end\n",
    "println(\"\\n integrated_F_trap: \")\n",
    "for μ in calc_μs, s in calc_ss\n",
    "    IF = GaPSE.integrated_F_trapz(s, μ, s_min, s_max, windF; \n",
    "          kwargs_F_int_trap...)\n",
    "    res = @sprintf(\"%.5e\", IF)\n",
    "    println(\"s = $s, \\t μ = $μ, \\t IF = $res\") \n",
    "end"
   ]
  },
  {
   "cell_type": "code",
   "execution_count": null,
   "id": "4154c8cd-b13d-4182-b4d4-19983e241f5e",
   "metadata": {},
   "outputs": [],
   "source": [
    "GaPSE.print_map_IntegratedF(\n",
    "    PATH_TO_GAPSE * \"data/F_REFERENCE_pi2.txt\", \n",
    "    PATH_TO_GAPSE * \"test/datatest/WindowFIntegrated/IntF_trap_1.txt\", \n",
    "    148.1920001465757, 571.7022420258767, calc_μs;\n",
    "    trap = true, kwargs_map_F_int...\n",
    ")\n",
    "\n",
    "GaPSE.print_map_IntegratedF(\n",
    "    PATH_TO_GAPSE * \"data/F_REFERENCE_pi2.txt\", \n",
    "    PATH_TO_GAPSE * \"test/datatest/WindowFIntegrated/IntF_quad_1.txt\",\n",
    "    148.1920001465757, 571.7022420258767, calc_μs;\n",
    "    trap = false, kwargs_map_F_int...\n",
    ")"
   ]
  },
  {
   "cell_type": "code",
   "execution_count": null,
   "id": "bc791c5e-3461-4435-acc9-9f849b91bdd8",
   "metadata": {},
   "outputs": [],
   "source": [
    "GaPSE.print_map_IntegratedF(\n",
    "    PATH_TO_GAPSE * \"data/F_REFERENCE_pi2.txt\", \n",
    "    PATH_TO_GAPSE * \"test/datatest/WindowFIntegrated/IntF_trap_2.txt\", \n",
    "    0.05, 0.20, calc_μs, FILE_BACKGROUND;\n",
    "    trap = true, kwargs_map_F_int...\n",
    ")\n",
    "\n",
    "GaPSE.print_map_IntegratedF(\n",
    "    PATH_TO_GAPSE * \"data/F_REFERENCE_pi2.txt\", \n",
    "    PATH_TO_GAPSE * \"test/datatest/WindowFIntegrated/IntF_quad_2.txt\",\n",
    "    0.05, 0.20, calc_μs, FILE_BACKGROUND;\n",
    "    trap = false, kwargs_map_F_int...\n",
    ")"
   ]
  },
  {
   "cell_type": "markdown",
   "id": "1ce82b58-20d8-49e0-a319-040d198b4bfa",
   "metadata": {
    "jp-MarkdownHeadingCollapsed": true,
    "tags": []
   },
   "source": [
    "## LD_XiMultipoles"
   ]
  },
  {
   "cell_type": "code",
   "execution_count": null,
   "id": "c402d169-e070-4b36-aaa5-003659d12a94",
   "metadata": {},
   "outputs": [],
   "source": [
    "name_effect = \"auto_doppler\"\n",
    "func_effect = GaPSE.ξ_LD_Doppler\n",
    "\n",
    "kwargs =  Dict(\n",
    "          :use_windows => false,\n",
    "          :enhancer => 1e8, :N_μs => 200,\n",
    "          :μ_atol => 0.0, :μ_rtol => 1e-2\n",
    "     )\n",
    "\n",
    "for L in [0,1,2,3,4]\n",
    "    GaPSE.print_map_ξ_LD_multipole(COSMO, \n",
    "        PATH_TO_GAPSE * \"test/datatest/LD_doppler_multipoles/xi_LD_\" * \n",
    "            name_effect * \"_L$L\" * \".txt\",\n",
    "        name_effect, \n",
    "        10 .^ range(-1, 3, length=300); \n",
    "        L=L, kwargs...)\n",
    "end"
   ]
  },
  {
   "cell_type": "code",
   "execution_count": null,
   "id": "b106e40c-49b8-4e91-b3d7-0c1c0498beda",
   "metadata": {},
   "outputs": [],
   "source": [
    "kwargs = Dict(\n",
    "          :use_windows => false,\n",
    "          :pr => false,\n",
    "          :enhancer => 1e8, :N_μs => 30,\n",
    "          :μ_atol => 0.0, :μ_rtol => 1e-2,\n",
    "          :N_log => 1000\n",
    "     )\n",
    "\n",
    "GaPSE.print_map_ξ_LD_multipole(COSMO, \n",
    "    PATH_TO_GAPSE * \"test/datatest/LD_doppler_multipoles/xi_LD_auto_doppler_L0_first.txt\", \n",
    "    \"auto_doppler\",  nothing;\n",
    "    s1 = nothing, L = 0, kwargs...)\n",
    "\n",
    "GaPSE.print_map_ξ_LD_multipole(COSMO, \n",
    "    PATH_TO_GAPSE * \"test/datatest/LD_doppler_multipoles/xi_LD_auto_doppler_L0_second.txt\", \n",
    "    \"auto_doppler\",  10 .^ range(0, 3, length = 344);\n",
    "    s1 = nothing, L = 0, kwargs...)\n",
    "\n",
    "GaPSE.print_map_ξ_LD_multipole(COSMO, \n",
    "    PATH_TO_GAPSE * \"test/datatest/LD_doppler_multipoles/xi_LD_auto_doppler_L0_third.txt\", \n",
    "    \"auto_doppler\",  10 .^ range(0, 3, length = 344);\n",
    "    s1 = COSMO.s_eff - 65.0, L = 0, kwargs...)"
   ]
  },
  {
   "cell_type": "markdown",
   "id": "12fbce39-7503-47d0-aac8-a62612fc9d8b",
   "metadata": {
    "jp-MarkdownHeadingCollapsed": true,
    "tags": []
   },
   "source": [
    "## LD_SumXiMultipoles specific ss"
   ]
  },
  {
   "cell_type": "code",
   "execution_count": null,
   "id": "a076a67b-6dd4-4db6-8e92-f350bf7d4c70",
   "metadata": {},
   "outputs": [],
   "source": [
    "kwargs = Dict(\n",
    "    :L => 0, :use_windows => false,\n",
    "    :enhancer => 1e8, :N_μs => 30,\n",
    "    :μ_atol => 0.0, :μ_rtol => 1e-2,\n",
    "    :N_χs => 100, :N_χs_2 => 50,\n",
    "    #:pr => false,\n",
    " )\n",
    "\n",
    "GaPSE.print_map_sum_ξ_LD_multipole(COSMO, \n",
    "    PATH_TO_GAPSE * \"test/datatest/LD_SumXiMultipoles/\"*\n",
    "    \"map_sum_xi_LD_L0\" * \"_noF_specific_ss.txt\",\n",
    "    [10, 100, 500, 700, 1000]; \n",
    "    L=0, kwargs...)"
   ]
  },
  {
   "cell_type": "code",
   "execution_count": null,
   "id": "8e101c1a-1ec6-4492-b5db-cb50bfacf962",
   "metadata": {},
   "outputs": [],
   "source": [
    "kwargs = Dict(\n",
    "    :L => 0, :use_windows => true,\n",
    "    :enhancer => 1e8, :N_μs => 30,\n",
    "    :μ_atol => 0.0, :μ_rtol => 1e-2,\n",
    "    :N_χs => 100, :N_χs_2 => 50,\n",
    "    #:pr => false,\n",
    " )\n",
    "\n",
    "GaPSE.print_map_sum_ξ_LD_multipole(COSMO, \n",
    "    PATH_TO_GAPSE * \"test/datatest/LD_SumXiMultipoles/\"*\n",
    "    \"map_sum_xi_LD_L0\" * \"_withF_specific_ss.txt\",\n",
    "    [10, 100, 500, 700, 1000]; \n",
    "    L=0, kwargs...)"
   ]
  },
  {
   "cell_type": "markdown",
   "id": "377cf0b4-900d-4288-80bd-b57fc02580a1",
   "metadata": {
    "jp-MarkdownHeadingCollapsed": true,
    "tags": []
   },
   "source": [
    "## LD_SumXiMultipoles all xis"
   ]
  },
  {
   "cell_type": "code",
   "execution_count": null,
   "id": "79d36c84-ae67-4807-94e9-66d90dcda0c2",
   "metadata": {},
   "outputs": [],
   "source": [
    "KWARGS_LD = Dict(\n",
    "    :use_windows => false,\n",
    "    :enhancer => 1e8, :N_μs => 30,\n",
    "    :μ_atol => 0.0, :μ_rtol => 1e-2,\n",
    "    :N_χs => 100, :N_χs_2 => 30,\n",
    "    :N_log => 100,\n",
    "    #:pr => false,\n",
    " )\n",
    "\n",
    "GaPSE.print_map_sum_ξ_LD_multipole(COSMO, \n",
    "    PATH_TO_GAPSE * \"test/datatest/LD_SumXiMultipoles/\"*\n",
    "    \"map_sum_xi_LD_L0\" * \"_noF.txt\",\n",
    "    10 .^ range(-1, 3, length = KWARGS_LD[:N_log]); \n",
    "    L=0, KWARGS_LD...)"
   ]
  },
  {
   "cell_type": "markdown",
   "id": "53313168-d7d7-4add-89ac-612bf43c0c04",
   "metadata": {
    "jp-MarkdownHeadingCollapsed": true,
    "tags": []
   },
   "source": [
    "## PPDoppler"
   ]
  },
  {
   "cell_type": "code",
   "execution_count": null,
   "id": "da65c839-f8d3-44c8-819e-a9a72ec5b229",
   "metadata": {},
   "outputs": [],
   "source": [
    "kwargs_xis_PP = Dict(\n",
    "     :pr => false, :enhancer => 1e8, \n",
    "     :μ_atol => 0.0, :μ_rtol => 1e-2,\n",
    "     :N_log => 100, \n",
    ");\n",
    "common = PATH_TO_GAPSE * \"test/datatest/pp_doppler/\"\n",
    "\n",
    "GaPSE.print_map_ξ_PPD_multipole(COSMO, common*\"xi_ppdoppler_noF_L0.txt\",\n",
    "    10 .^ range(0,3,length=300); use_windows = false, \n",
    "    L = 0, kwargs_xis_PP...);\n",
    "GaPSE.print_map_ξ_PPD_multipole(COSMO, common*\"xi_ppdoppler_noF_L2.txt\", \n",
    "    10 .^ range(0,3,length=300); use_windows = false, \n",
    "    L = 2, kwargs_xis_PP...);\n",
    "\n",
    "GaPSE.print_map_ξ_PPD_multipole(COSMO, common*\"xi_ppdoppler_withF_L0.txt\", \n",
    "    10 .^ range(0,3,length=300); use_windows = true, \n",
    "    L = 0, kwargs_xis_PP...);\n",
    "GaPSE.print_map_ξ_PPD_multipole(COSMO, common*\"xi_ppdoppler_withF_L2.txt\", \n",
    "    10 .^ range(0,3,length=300); use_windows = true, \n",
    "    L = 2, kwargs_xis_PP...);"
   ]
  },
  {
   "cell_type": "markdown",
   "id": "150acb24-cceb-4faf-bdd6-547255c514b4",
   "metadata": {
    "jp-MarkdownHeadingCollapsed": true,
    "tags": []
   },
   "source": [
    "## GNC_XiMultipoles"
   ]
  },
  {
   "cell_type": "code",
   "execution_count": null,
   "id": "c7bd2c56-ca02-4a69-8397-78c8afdfdb5b",
   "metadata": {},
   "outputs": [],
   "source": [
    "name_effect = \"auto_doppler\"\n",
    "func_effect = GaPSE.ξ_GNC_Doppler\n",
    "\n",
    "kwargs =  Dict(\n",
    "          :use_windows => false,\n",
    "          :enhancer => 1e8, :N_μs => 200,\n",
    "          :μ_atol => 0.0, :μ_rtol => 1e-2\n",
    "     )\n",
    "\n",
    "for L in [0,1,2,3,4]\n",
    "    GaPSE.print_map_ξ_GNC_multipole(COSMO, \n",
    "        PATH_TO_GAPSE * \"test/datatest/GNC_doppler_multipoles/xi_GNC_\" * \n",
    "            name_effect * \"_L$L\" * \".txt\",\n",
    "        name_effect, \n",
    "        10 .^ range(-1, 3, length=300); \n",
    "        L=L, kwargs...)\n",
    "end"
   ]
  },
  {
   "cell_type": "code",
   "execution_count": null,
   "id": "c3ec8001-67f6-4611-8920-359dd6303548",
   "metadata": {},
   "outputs": [],
   "source": [
    "kwargs = Dict(\n",
    "          :use_windows => false,\n",
    "          :pr => false,\n",
    "          :enhancer => 1e8, :N_μs => 30,\n",
    "          :μ_atol => 0.0, :μ_rtol => 1e-2,\n",
    "          :N_log => 1000\n",
    "     )\n",
    "\n",
    "GaPSE.print_map_ξ_GNC_multipole(COSMO, \n",
    "    PATH_TO_GAPSE * \"test/datatest/GNC_doppler_multipoles/xi_GNC_auto_doppler_L0_first.txt\", \n",
    "    \"auto_doppler\",  nothing;\n",
    "    s1 = nothing, L = 0, kwargs...)\n",
    "\n",
    "GaPSE.print_map_ξ_GNC_multipole(COSMO, \n",
    "    PATH_TO_GAPSE * \"test/datatest/GNC_doppler_multipoles/xi_GNC_auto_doppler_L0_second.txt\", \n",
    "    \"auto_doppler\",  10 .^ range(0, 3, length = 344);\n",
    "    s1 = nothing, L = 0, kwargs...)\n",
    "\n",
    "GaPSE.print_map_ξ_GNC_multipole(COSMO, \n",
    "    PATH_TO_GAPSE * \"test/datatest/GNC_doppler_multipoles/xi_GNC_auto_doppler_L0_third.txt\", \n",
    "    \"auto_doppler\",  10 .^ range(0, 3, length = 344);\n",
    "    s1 = COSMO.s_eff - 65.0, L = 0, kwargs...)"
   ]
  },
  {
   "cell_type": "markdown",
   "id": "5404ce3b-d129-459f-bc6f-8f6bfec94509",
   "metadata": {
    "jp-MarkdownHeadingCollapsed": true,
    "tags": []
   },
   "source": [
    "## GNC_SumXiMultipoles specific ss"
   ]
  },
  {
   "cell_type": "code",
   "execution_count": null,
   "id": "4a071a8e-5290-481d-99c0-737bb7b732c6",
   "metadata": {},
   "outputs": [],
   "source": [
    "kwargs = Dict(\n",
    "    :L => 0, :use_windows => false,\n",
    "    :enhancer => 1e8, :N_μs => 30,\n",
    "    :μ_atol => 0.0, :μ_rtol => 1e-2,\n",
    "    :N_χs => 100, :N_χs_2 => 50,\n",
    "    #:pr => false,\n",
    " )\n",
    "\n",
    "GaPSE.print_map_sum_ξ_GNC_multipole(COSMO, \n",
    "    PATH_TO_GAPSE * \"test/datatest/GNC_SumXiMultipoles/\"*\n",
    "    \"map_sum_xi_GNC_L0\" * \"_noF_specific_ss.txt\",\n",
    "    [10, 100, 500, 700, 1000]; \n",
    "    L=0, kwargs...)"
   ]
  },
  {
   "cell_type": "code",
   "execution_count": null,
   "id": "77537416-b754-4fe4-b13f-262620cc53a3",
   "metadata": {},
   "outputs": [],
   "source": [
    "kwargs = Dict(\n",
    "    :L => 0, :use_windows => true,\n",
    "    :enhancer => 1e8, :N_μs => 30,\n",
    "    :μ_atol => 0.0, :μ_rtol => 1e-2,\n",
    "    :N_χs => 100, :N_χs_2 => 50,\n",
    "    #:pr => false,\n",
    " )\n",
    "\n",
    "GaPSE.print_map_sum_ξ_GNC_multipole(COSMO, \n",
    "    PATH_TO_GAPSE * \"test/datatest/GNC_SumXiMultipoles/\"*\n",
    "    \"map_sum_xi_GNC_L0\" * \"_withF_specific_ss.txt\",\n",
    "    [10, 100, 500, 700, 1000]; \n",
    "    L=0, kwargs...)"
   ]
  },
  {
   "cell_type": "markdown",
   "id": "37763232-cde1-4dd1-b375-b88d4e49ce2b",
   "metadata": {
    "jp-MarkdownHeadingCollapsed": true,
    "tags": []
   },
   "source": [
    "## GNC_SumXiMultipoles all xis"
   ]
  },
  {
   "cell_type": "code",
   "execution_count": null,
   "id": "67acd869-0fbe-440e-9d16-e31ffa617862",
   "metadata": {},
   "outputs": [],
   "source": [
    "KWARGS_GNC = Dict(\n",
    "    :use_windows => false,\n",
    "    :enhancer => 1e8, :N_μs => 30,\n",
    "    :μ_atol => 0.0, :μ_rtol => 1e-2,\n",
    "    :N_χs => 100, :N_χs_2 => 30,\n",
    "    :N_log => 100,\n",
    "    #:pr => false,\n",
    " )\n",
    "\n",
    "GaPSE.print_map_sum_ξ_GNC_multipole(COSMO, \n",
    "    PATH_TO_GAPSE * \"test/datatest/GNC_SumXiMultipoles/\"*\n",
    "    \"map_sum_xi_GNC_L0\" * \"_noF.txt\",\n",
    "    10 .^ range(-1, 3, length = KWARGS_GNC[:N_log]); \n",
    "    L=0, KWARGS_GNC...)"
   ]
  },
  {
   "cell_type": "markdown",
   "id": "624caeb3-6e19-45a6-a367-9d08928c73dd",
   "metadata": {
    "jp-MarkdownHeadingCollapsed": true,
    "tags": []
   },
   "source": [
    "## GNCxLD_XiMultipoles and LDxGNC_XiMultipoles"
   ]
  },
  {
   "cell_type": "code",
   "execution_count": null,
   "id": "db846711-19b9-446d-9fd0-3ab1d5254fda",
   "metadata": {},
   "outputs": [],
   "source": [
    "name_effect = \"localgp_doppler\"\n",
    "func_effect = GaPSE.ξ_GNCxLD_LocalGP_Doppler\n",
    "\n",
    "kwargs =  Dict(\n",
    "          :use_windows => false,\n",
    "          :enhancer => 1e8, :N_μs => 200,\n",
    "          :μ_atol => 0.0, :μ_rtol => 1e-2\n",
    "     )\n",
    "\n",
    "for L in [0,1,2,3,4]\n",
    "    GaPSE.print_map_ξ_GNCxLD_multipole(COSMO, \n",
    "        PATH_TO_GAPSE * \"test/datatest/GNCxLD_localgp_doppler_multipoles/xi_GNCxLD_\" * \n",
    "            name_effect * \"_L$L\" * \".txt\",\n",
    "        name_effect, \n",
    "        10 .^ range(-1, 3, length=300); \n",
    "        L=L, kwargs...)\n",
    "end"
   ]
  },
  {
   "cell_type": "code",
   "execution_count": null,
   "id": "8420ca3b-ed85-48cf-bcd1-9eeb462440c3",
   "metadata": {},
   "outputs": [],
   "source": [
    "name_effect = \"localgp_doppler\"\n",
    "func_effect = GaPSE.ξ_LDxGNC_LocalGP_Doppler\n",
    "\n",
    "kwargs =  Dict(\n",
    "          :use_windows => false,\n",
    "          :enhancer => 1e8, :N_μs => 200,\n",
    "          :μ_atol => 0.0, :μ_rtol => 1e-2\n",
    "     )\n",
    "\n",
    "for L in [0,1,2,3,4]\n",
    "    GaPSE.print_map_ξ_LDxGNC_multipole(COSMO, \n",
    "        PATH_TO_GAPSE * \"test/datatest/GNCxLD_localgp_doppler_multipoles/xi_LDxGNC_\" * \n",
    "            name_effect * \"_L$L\" * \".txt\",\n",
    "        name_effect, \n",
    "        10 .^ range(-1, 3, length=300); \n",
    "        L=L, kwargs...)\n",
    "end"
   ]
  },
  {
   "cell_type": "code",
   "execution_count": null,
   "id": "2e0d769b-ce51-4744-9da6-fd4a617c2404",
   "metadata": {},
   "outputs": [],
   "source": [
    "name_effect = \"localgp_doppler\"\n",
    "\n",
    "kwargs = Dict(\n",
    "          :use_windows => false,\n",
    "          :pr => false,\n",
    "          :enhancer => 1e8, :N_μs => 30,\n",
    "          :μ_atol => 0.0, :μ_rtol => 1e-2,\n",
    "          :N_log => 1000\n",
    "     )\n",
    "\n",
    "GaPSE.print_map_ξ_GNCxLD_multipole(COSMO, \n",
    "    PATH_TO_GAPSE * \"test/datatest/GNCxLD_localgp_doppler_multipoles/xi_GNCxLD_\"*name_effect*\"_L0_first.txt\", \n",
    "    name_effect ,  nothing;\n",
    "    s1 = nothing, L = 0, kwargs...)\n",
    "\n",
    "GaPSE.print_map_ξ_GNCxLD_multipole(COSMO, \n",
    "    PATH_TO_GAPSE * \"test/datatest/GNCxLD_localgp_doppler_multipoles/xi_GNCxLD_\"*name_effect*\"_L0_second.txt\", \n",
    "    name_effect ,  10 .^ range(0, 3, length = 344);\n",
    "    s1 = nothing, L = 0, kwargs...)\n",
    "\n",
    "GaPSE.print_map_ξ_GNCxLD_multipole(COSMO, \n",
    "    PATH_TO_GAPSE * \"test/datatest/GNCxLD_localgp_doppler_multipoles/xi_GNCxLD_\"*name_effect*\"_L0_third.txt\", \n",
    "    name_effect ,  10 .^ range(0, 3, length = 344);\n",
    "    s1 = COSMO.s_eff - 65.0, L = 0, kwargs...)"
   ]
  },
  {
   "cell_type": "code",
   "execution_count": null,
   "id": "e6df8d60-8890-49f0-84f2-98cbcf12d9bf",
   "metadata": {},
   "outputs": [],
   "source": [
    "name_effect = \"localgp_doppler\"\n",
    "\n",
    "kwargs = Dict(\n",
    "          :use_windows => false,\n",
    "          :pr => false,\n",
    "          :enhancer => 1e8, :N_μs => 30,\n",
    "          :μ_atol => 0.0, :μ_rtol => 1e-2,\n",
    "          :N_log => 1000\n",
    "     )\n",
    "\n",
    "GaPSE.print_map_ξ_LDxGNC_multipole(COSMO, \n",
    "    PATH_TO_GAPSE * \"test/datatest/GNCxLD_localgp_doppler_multipoles/xi_LDxGNC_\"*name_effect*\"_L0_first.txt\", \n",
    "    name_effect ,  nothing;\n",
    "    s1 = nothing, L = 0, kwargs...)\n",
    "\n",
    "GaPSE.print_map_ξ_LDxGNC_multipole(COSMO, \n",
    "    PATH_TO_GAPSE * \"test/datatest/GNCxLD_localgp_doppler_multipoles/xi_LDxGNC_\"*name_effect*\"_L0_second.txt\", \n",
    "    name_effect ,  10 .^ range(0, 3, length = 344);\n",
    "    s1 = nothing, L = 0, kwargs...)\n",
    "\n",
    "GaPSE.print_map_ξ_LDxGNC_multipole(COSMO, \n",
    "    PATH_TO_GAPSE * \"test/datatest/GNCxLD_localgp_doppler_multipoles/xi_LDxGNC_\"*name_effect*\"_L0_third.txt\", \n",
    "    name_effect ,  10 .^ range(0, 3, length = 344);\n",
    "    s1 = COSMO.s_eff - 65.0, L = 0, kwargs...)"
   ]
  },
  {
   "cell_type": "markdown",
   "id": "40ed072a-57c4-46af-b373-fe9184f33c75",
   "metadata": {
    "jp-MarkdownHeadingCollapsed": true,
    "tags": []
   },
   "source": [
    "## GNCxLD_SumXiMultipoles and LDxGNC_SumXiMultipoles specific ss"
   ]
  },
  {
   "cell_type": "code",
   "execution_count": null,
   "id": "c0eb1f3b-e3a8-40f2-b8cc-99115b7b3cfe",
   "metadata": {},
   "outputs": [],
   "source": [
    "kwargs = Dict(\n",
    "    :L => 0, :use_windows => false,\n",
    "    :enhancer => 1e8, :N_μs => 30,\n",
    "    :μ_atol => 0.0, :μ_rtol => 1e-2,\n",
    "    :N_χs => 100, :N_χs_2 => 50,\n",
    "    #:pr => false,\n",
    " )\n",
    "\n",
    "GaPSE.print_map_sum_ξ_GNCxLD_multipole(COSMO, \n",
    "    PATH_TO_GAPSE * \"test/datatest/GNCxLD_SumXiMultipoles/\"*\n",
    "    \"map_sum_xi_GNCxLD_L0_noF_specific_ss.txt\",\n",
    "    [10, 100, 500, 700, 1000]; \n",
    "    L=0, kwargs...)"
   ]
  },
  {
   "cell_type": "code",
   "execution_count": null,
   "id": "bf7ecbee-5d44-44f4-aca1-01b141193346",
   "metadata": {},
   "outputs": [],
   "source": [
    "kwargs = Dict(\n",
    "    :L => 0, :use_windows => false,\n",
    "    :enhancer => 1e8, :N_μs => 30,\n",
    "    :μ_atol => 0.0, :μ_rtol => 1e-2,\n",
    "    :N_χs => 100, :N_χs_2 => 50,\n",
    "    #:pr => false,\n",
    " )\n",
    "\n",
    "GaPSE.print_map_sum_ξ_LDxGNC_multipole(COSMO, \n",
    "    PATH_TO_GAPSE * \"test/datatest/GNCxLD_SumXiMultipoles/\"*\n",
    "    \"map_sum_xi_LDxGNC_L0_noF_specific_ss.txt\",\n",
    "    [10, 100, 500, 700, 1000]; \n",
    "    L=0, kwargs...)"
   ]
  },
  {
   "cell_type": "code",
   "execution_count": null,
   "id": "cde21bc3-0777-4daf-91c4-8153473dc3c7",
   "metadata": {},
   "outputs": [],
   "source": [
    "kwargs = Dict(\n",
    "    :L => 0, :use_windows => true,\n",
    "    :enhancer => 1e8, :N_μs => 30,\n",
    "    :μ_atol => 0.0, :μ_rtol => 1e-2,\n",
    "    :N_χs => 100, :N_χs_2 => 50,\n",
    "    #:pr => false,\n",
    " )\n",
    "\n",
    "GaPSE.print_map_sum_ξ_GNCxLD_multipole(COSMO, \n",
    "    PATH_TO_GAPSE * \"test/datatest/GNCxLD_SumXiMultipoles/\"*\n",
    "    \"map_sum_xi_GNCxLD_L0_withF_specific_ss.txt\",\n",
    "    [10, 100, 500, 700, 1000]; \n",
    "    L=0, kwargs...)"
   ]
  },
  {
   "cell_type": "code",
   "execution_count": null,
   "id": "1612283d-d8fa-4eda-a733-cc12d903799c",
   "metadata": {},
   "outputs": [],
   "source": [
    "kwargs = Dict(\n",
    "    :L => 0, :use_windows => true,\n",
    "    :enhancer => 1e8, :N_μs => 30,\n",
    "    :μ_atol => 0.0, :μ_rtol => 1e-2,\n",
    "    :N_χs => 100, :N_χs_2 => 50,\n",
    "    #:pr => false,\n",
    " )\n",
    "\n",
    "GaPSE.print_map_sum_ξ_LDxGNC_multipole(COSMO, \n",
    "    PATH_TO_GAPSE * \"test/datatest/GNCxLD_SumXiMultipoles/\"*\n",
    "    \"map_sum_xi_LDxGNC_L0_withF_specific_ss.txt\",\n",
    "    [10, 100, 500, 700, 1000]; \n",
    "    L=0, kwargs...)"
   ]
  },
  {
   "cell_type": "markdown",
   "id": "1f89b77a-e569-4ff2-b28d-5565e9259cfc",
   "metadata": {
    "jp-MarkdownHeadingCollapsed": true,
    "tags": []
   },
   "source": [
    "## GNCxLD_SumXiMultipoles and LDxGNC_SumXiMultipoles all xis"
   ]
  },
  {
   "cell_type": "code",
   "execution_count": null,
   "id": "5e37fe36-4d24-4478-a82c-46ada3a33eb2",
   "metadata": {},
   "outputs": [],
   "source": [
    "KWARGS_GNCxLD = Dict(\n",
    "    :use_windows => false,\n",
    "    :enhancer => 1e8, :N_μs => 30,\n",
    "    :μ_atol => 0.0, :μ_rtol => 1e-2,\n",
    "    :N_χs => 100, :N_χs_2 => 30,\n",
    "    :N_log => 100,\n",
    "    #:pr => false,\n",
    " )\n",
    "\n",
    "GaPSE.print_map_sum_ξ_GNCxLD_multipole(COSMO, \n",
    "    PATH_TO_GAPSE * \"test/datatest/GNCxLD_SumXiMultipoles/\"*\n",
    "    \"map_sum_xi_GNCxLD_L0_noF.txt\",\n",
    "    10 .^ range(-1, 3, length = KWARGS_GNCxLD[:N_log]); \n",
    "    L=0, KWARGS_GNCxLD...)"
   ]
  },
  {
   "cell_type": "code",
   "execution_count": null,
   "id": "c9d0393d-e4f5-48d8-8904-92d11080be3d",
   "metadata": {},
   "outputs": [],
   "source": [
    "KWARGS_LDxGNC = Dict(\n",
    "    :use_windows => false,\n",
    "    :enhancer => 1e8, :N_μs => 30,\n",
    "    :μ_atol => 0.0, :μ_rtol => 1e-2,\n",
    "    :N_χs => 100, :N_χs_2 => 30,\n",
    "    :N_log => 100,\n",
    "    #:pr => false,\n",
    " )\n",
    "\n",
    "GaPSE.print_map_sum_ξ_LDxGNC_multipole(COSMO, \n",
    "    PATH_TO_GAPSE * \"test/datatest/GNCxLD_SumXiMultipoles/\"*\n",
    "    \"map_sum_xi_LDxGNC_L0_noF.txt\",\n",
    "    10 .^ range(-1, 3, length = KWARGS_LDxGNC[:N_log]); \n",
    "    L=0, KWARGS_LDxGNC...)"
   ]
  },
  {
   "cell_type": "markdown",
   "id": "6e8072b9-e87b-4deb-95cc-3b3bd35f6636",
   "metadata": {},
   "source": [
    "## Power Spectra"
   ]
  },
  {
   "cell_type": "code",
   "execution_count": 5,
   "id": "d81e1c20-2bf0-45ec-b856-45bc51f36841",
   "metadata": {},
   "outputs": [
    {
     "name": "stderr",
     "output_type": "stream",
     "text": [
      "\u001b[32mauto_doppler, L=0: 100%|████████████████████████████████| Time: 0:00:01\u001b[39m\n",
      "\u001b[32mauto_doppler, L=0: 100%|████████████████████████████████| Time: 0:00:01\u001b[39m\n",
      "\u001b[32mauto_doppler, L=2: 100%|████████████████████████████████| Time: 0:00:05\u001b[39m\n"
     ]
    },
    {
     "name": "stdout",
     "output_type": "stream",
     "text": [
      "\n",
      "time needed for map_ξ_LD_multipole for auto_doppler [in s] = 1.45091 \n",
      "\n",
      "\n",
      "time needed for map_ξ_LD_multipole for auto_doppler [in s] = 0.03878 \n",
      "\n",
      "\n",
      "time needed for map_ξ_LD_multipole for auto_doppler [in s] = 1.42785 \n",
      "\n",
      "\n",
      "time needed for map_ξ_LD_multipole for auto_doppler [in s] = 5.30353 \n",
      "\n"
     ]
    }
   ],
   "source": [
    "kwargs_xis = Dict(\n",
    "     :pr => true,\n",
    "     :enhancer => 1e8, :N_μs => 30,\n",
    "     :μ_atol => 0.0, :μ_rtol => 1e-2,\n",
    "     :N_log => 100, :s1 => nothing,\n",
    ");\n",
    "common = PATH_TO_GAPSE * \"test/datatest/Power_Spectrum/\"\n",
    "\n",
    "GaPSE.print_map_ξ_LD_multipole(COSMO,\n",
    "    common*\"xi_LD_auto_doppler_noF_L0.txt\", \n",
    "    \"auto_doppler\", 10 .^ range(0,3,length=300); \n",
    "    use_windows = false, L = 0, kwargs_xis...);\n",
    "GaPSE.print_map_ξ_LD_multipole(COSMO,\n",
    "    common*\"xi_LD_auto_doppler_noF_L2.txt\", \n",
    "    \"auto_doppler\", 10 .^ range(0,3,length=300); \n",
    "    use_windows = false, L = 2, kwargs_xis...);\n",
    "\n",
    "GaPSE.print_map_ξ_LD_multipole(COSMO,\n",
    "    common*\"xi_LD_auto_doppler_withF_L0.txt\", \n",
    "    \"auto_doppler\", 10 .^ range(0,3,length=300); \n",
    "    use_windows = true, L = 0, kwargs_xis...);\n",
    "GaPSE.print_map_ξ_LD_multipole(COSMO,\n",
    "    common*\"xi_LD_auto_doppler_withF_L2.txt\", \n",
    "    \"auto_doppler\", 10 .^ range(0,3,length=300); \n",
    "    use_windows = true, L = 2, kwargs_xis...);"
   ]
  },
  {
   "cell_type": "code",
   "execution_count": 6,
   "id": "2dbb0f1d-42cc-43f0-b229-b9e309e05256",
   "metadata": {},
   "outputs": [
    {
     "name": "stdout",
     "output_type": "stream",
     "text": [
      "\n",
      "I'm computing the PS_multipole from the file \"../test/datatest/Power_Spectrum/xi_LD_auto_doppler_noF_L0.txt\" \n",
      "\n",
      "time needed for this Power Spectrum computation [in s] = 0.19518589973449707\n",
      "\n",
      "\n",
      "I'm computing the PS_multipole from the file \"../test/datatest/Power_Spectrum/xi_LD_auto_doppler_noF_L2.txt\" \n",
      "\n",
      "time needed for this Power Spectrum computation [in s] = 0.0004591941833496094\n",
      "\n",
      "\n",
      "I'm computing the PS_multipole from the file \"../test/datatest/Power_Spectrum/xi_LD_auto_doppler_withF_L0.txt\" \n",
      "\n",
      "time needed for this Power Spectrum computation [in s] = 0.0008778572082519531\n",
      "\n",
      "\n",
      "I'm computing the PS_multipole from the file \"../test/datatest/Power_Spectrum/xi_LD_auto_doppler_withF_L2.txt\" \n",
      "\n",
      "time needed for this Power Spectrum computation [in s] = 0.0006229877471923828\n",
      "\n"
     ]
    }
   ],
   "source": [
    "kwargs = Dict(:epl=>true, :pr=>true,\n",
    "     :N_left=>12, :N_right=>12,\n",
    "     :p0_left=>[-2.0, 1.0], :p0_right=>[-2.0, 1.0],\n",
    "    :N => 300, :int_s_min => 1e-4, :int_s_max => 1e4)\n",
    "common = PATH_TO_GAPSE * \"test/datatest/Power_Spectrum/\"\n",
    "\n",
    "GaPSE.print_PS_multipole(common*\"xi_LD_auto_doppler_noF_L0.txt\", \n",
    "    common*\"ps_LD_auto_doppler_noF_L0.txt\"; L=0, kwargs...);\n",
    "GaPSE.print_PS_multipole(common*\"xi_LD_auto_doppler_noF_L2.txt\", \n",
    "    common*\"ps_LD_auto_doppler_noF_L2.txt\"; L=2, kwargs...);\n",
    "\n",
    "GaPSE.print_PS_multipole(common*\"xi_LD_auto_doppler_withF_L0.txt\",  \n",
    "    common*\"ps_LD_auto_doppler_withF_L0.txt\"; L=0, kwargs...);\n",
    "GaPSE.print_PS_multipole(common*\"xi_LD_auto_doppler_withF_L2.txt\", \n",
    "    common*\"ps_LD_auto_doppler_withF_L2.txt\"; L=2, kwargs...);"
   ]
  },
  {
   "cell_type": "code",
   "execution_count": 8,
   "id": "bd81bd5f-2a24-4fe3-a4ad-f394aae091da",
   "metadata": {},
   "outputs": [
    {
     "name": "stderr",
     "output_type": "stream",
     "text": [
      "\u001b[32mauto_lensing, L=0: 100%|████████████████████████████████| Time: 0:00:38\u001b[39m\n",
      "\u001b[32mauto_integratedgp, L=0: 100%|███████████████████████████| Time: 0:00:03\u001b[39m\n",
      "\u001b[32mlensing_doppler, L=0: 100%|█████████████████████████████| Time: 0:00:03\u001b[39m\n",
      "\u001b[32mdoppler_lensing, L=0: 100%|█████████████████████████████| Time: 0:00:02\u001b[39m\n",
      "\u001b[32mdoppler_integratedgp, L=0: 100%|████████████████████████| Time: 0:00:00\u001b[39m\n",
      "\u001b[32mintegratedgp_doppler, L=0: 100%|████████████████████████| Time: 0:00:01\u001b[39m\n",
      "\u001b[32mlensing_localgp, L=0: 100%|█████████████████████████████| Time: 0:00:01\u001b[39m\n",
      "\u001b[32mlocalgp_lensing, L=0: 100%|█████████████████████████████| Time: 0:00:01\u001b[39m\n",
      "\u001b[32mlensing_integratedgp, L=0: 100%|████████████████████████| Time: 0:00:03\u001b[39m\n",
      "\u001b[32mintegratedgp_lensing, L=0: 100%|████████████████████████| Time: 0:00:04\u001b[39m\n",
      "\u001b[32mlocalgp_integratedgp, L=0: 100%|████████████████████████| Time: 0:00:00\u001b[39m\n",
      "\u001b[32mintegratedgp_localgp, L=0: 100%|████████████████████████| Time: 0:00:01\u001b[39m\n"
     ]
    },
    {
     "name": "stdout",
     "output_type": "stream",
     "text": [
      "\n",
      "time needed for map_sum_ξ_LD_multipole [in s] = 62.65936 \n",
      "\n"
     ]
    }
   ],
   "source": [
    "KWARGS_LD = Dict(\n",
    "    :use_windows => false,\n",
    "    :enhancer => 1e8, :N_μs => 30,\n",
    "    :μ_atol => 0.0, :μ_rtol => 1e-2,\n",
    "    :N_χs => 100, :N_χs_2 => 30,\n",
    "    :N_log => 300,\n",
    "    #:pr => false,\n",
    " )\n",
    "\n",
    "GaPSE.print_map_sum_ξ_LD_multipole(COSMO, \n",
    "    PATH_TO_GAPSE * \"test/datatest/Power_Spectrum/\"*\n",
    "    \"map_sum_xi_LD_L0\" * \"_noF.txt\",\n",
    "    10 .^ range(0, 3, length = KWARGS_LD[:N_log]); \n",
    "    L=0, KWARGS_LD...)"
   ]
  },
  {
   "cell_type": "code",
   "execution_count": 9,
   "id": "9997ee65-c321-44cd-828b-7d2f59011bb7",
   "metadata": {},
   "outputs": [
    {
     "name": "stderr",
     "output_type": "stream",
     "text": [
      "\u001b[32mLD GR effects, L=0: 100%|███████████████████████████████| Time: 0:00:00\u001b[39m\n"
     ]
    },
    {
     "name": "stdout",
     "output_type": "stream",
     "text": [
      "\n",
      "I'm computing the PS_multipole from the file ../test/datatest/Power_Spectrum/map_sum_xi_LD_L0_noF.txt\n",
      "for the Luminosity Distance perturbations.\n",
      "\n",
      "time needed for all the Power Spectra computation [in s] = 0.35797786712646484\n",
      "\n"
     ]
    }
   ],
   "source": [
    "kwargs_ps = Dict(:epl => true, :pr => true,\n",
    "          :N_left => 12, :N_right => 12,\n",
    "          :p0_left => [-2.0, 1.0], :p0_right => [-2.0, 1.0],\n",
    "          :N => 300, :int_s_min => 1e-4, :int_s_max => 1e4)\n",
    "common = PATH_TO_GAPSE * \"test/datatest/Power_Spectrum/\"\n",
    "GaPSE.print_all_PS_multipole(\n",
    "    common * \"map_sum_xi_LD_L0_noF.txt\",\n",
    "    common * \"map_sum_ps_LD_L0_noF.txt\",\n",
    "    \"LD\"; L = 0, kwargs_ps...\n",
    "    )"
   ]
  },
  {
   "cell_type": "markdown",
   "id": "e0a9a891-5752-44c4-a96e-f4f1e1b47169",
   "metadata": {
    "jp-MarkdownHeadingCollapsed": true,
    "tags": []
   },
   "source": [
    "## Check plot"
   ]
  },
  {
   "cell_type": "code",
   "execution_count": null,
   "id": "974d6c41-c01d-44fb-8b64-a15ed44fa9ca",
   "metadata": {},
   "outputs": [],
   "source": [
    "ss = 10 .^ range(-1, 3, length = 100)\n",
    "xis = [94128.7663157383, 94127.71733307673, 94118.22685718043, 94105.27014579072, 94092.74690011467, 94077.73474789417, 94060.14259029402, 94041.36399133863, 94019.13481513, 93993.9774254519, 93965.17666760206, 93932.310662485, 93894.7417816744, 93851.90615320086, 93803.00980942484, 93747.27564643913, 93683.7674943285, 93611.44966728744, 93529.16399655865, 93435.61187536518, 93329.35163987629, 93208.77900984496, 93072.1167210524, 92917.40318676838, 92742.48245763556, 95783.82652588996, 95548.64086045422, 95284.0247656366, 94986.84282646635, 94653.74745296367, 94281.19174533848, 93865.45059955078, 93402.64174490565, 92888.75209856525, 92319.66833832217, 91691.20696687906, 90999.14094295212, 90239.21893264781, 89407.16475771922, 88498.66411252833, 87509.34072870719, 86434.73401995431, 85270.30430938529, 84011.49751585245, 82653.89802033827, 81193.48990500926, 79626.9864456709, 77952.12007792585, 76167.7465010322, 74273.67735057411, 72270.37879790006, 70158.927612762, 67941.51283550214, 65622.11696593303, 63206.48081199182, 60701.349321188536, 58114.50562832486, 55455.68534726358, 52734.00081272978, 49950.440987490314, 47131.75296547367, 44292.573366025754, 41448.519830193894, 38615.80051514171, 35811.07942574001, 33051.04246588395, 30356.304723973444, 27739.98188305206, 25215.29589857075, 22796.348950064326, 20495.454552347925, 18323.300529415355, 16291.361075684434, 14406.756267362847, 12657.039137162299, 10996.682608074272, 9417.825597763505, 7975.91531227271, 6706.841991532989, 5613.095323181682, 4683.122927123182, 3890.1856088252152, 3221.1352091969347, 2661.960624580339, 2194.6164039128857, 1809.4405450595416, 1485.48739007979, 1217.1825107713519, 998.1265407427484, 821.6320143073558, 661.6404506998929, 493.4399200895545, 346.8852258310276, 230.04283949130624, 143.5309228940826, 82.14629843689066, 41.9589534560989, 18.150881393792737, 6.448321162757018, 1.463073196527428];\n",
    "calc_xis = [4.058405552637428e-5, 4.058427693365866e-5, 4.0580920101684345e-5, 4.057613546555834e-5, 4.057161029852444e-5, 4.056609078492428e-5, 4.05595443900996e-5, 4.055257935812477e-5, 4.054422722317296e-5, 4.053472173826911e-5, 4.052376364868769e-5, 4.051118087073139e-5, 4.049670901576836e-5, 4.048011630179898e-5, 4.0461072549122225e-5, 4.043925575745697e-5, 4.041427627965656e-5, 4.0385702573661995e-5, 4.0353051366773144e-5, 4.031577998761375e-5, 4.027328532408504e-5, 4.022489548185454e-5, 4.016986542111919e-5, 4.01073721889755e-5, 4.0036510729221e-5, 3.99568311499923e-5, 3.986624587027273e-5, 3.976407047424688e-5, 3.964905270234193e-5, 3.951985480320794e-5, 3.937505876058867e-5, 3.921317488915203e-5, 3.903265031974044e-5, 3.883187960916871e-5, 3.8609217002345796e-5, 3.836298835364234e-5, 3.8091501459336706e-5, 3.7793053115424516e-5, 3.746592764879241e-5, 3.710838980999075e-5, 3.6718672863269994e-5, 3.629496684384989e-5, 3.5835417896351866e-5, 3.5338152128542984e-5, 3.480133622806929e-5, 3.422328365473513e-5, 3.3602589899337156e-5, 3.29382515641325e-5, 3.222970717564044e-5, 3.147676263484632e-5, 3.067945852729621e-5, 2.983804579854249e-5, 2.8953194865287022e-5, 2.80262848337625e-5, 2.7059388591178522e-5, 2.6054947600396667e-5, 2.501578507289428e-5, 2.394550521999653e-5, 2.284829342948845e-5, 2.1728641496807788e-5, 2.0591722660652432e-5, 1.9443032130502462e-5, 1.8288473412973284e-5, 1.713420558909145e-5, 1.598660870747348e-5, 1.4852115817845018e-5, 1.3737180682160374e-5, 1.2648129589611943e-5, 1.1591054195833617e-5, 1.0571720595145102e-5, 9.595502088191351e-6, 8.667418060822114e-6, 7.792391734570979e-6, 6.974957254062627e-6, 6.210752829598366e-6, 5.47155948996121e-6, 4.750410171568404e-6, 4.078954335523599e-6, 3.4792046026828395e-6, 2.955348410944907e-6, 2.50323008572695e-6, 2.1159669446645762e-6, 1.7859714369503164e-6, 1.506210693082134e-6, 1.270563541871931e-6, 1.0729360699334002e-6, 9.08033090928611e-7, 7.716896656498471e-7, 6.609658199229764e-7, 5.7543216790966e-7, 5.358910107443908e-7, 4.731438166745374e-7, 3.705036615538118e-7, 2.7880666522006267e-7, 2.0504910948391106e-7, 1.4847651135484723e-7, 1.0626844894217559e-7, 7.535523256855076e-8, 5.301722783524859e-8, 3.70429288148483e-8];"
   ]
  },
  {
   "cell_type": "code",
   "execution_count": null,
   "id": "3835048a-f4bd-43a5-b682-fc3fe09661a0",
   "metadata": {},
   "outputs": [],
   "source": [
    "xs_1 = ss\n",
    "xs_2 = ss\n",
    "ys_1 = calc_xis\n",
    "ys_2 = xis\n",
    "\n",
    "p1 = plot(xs_1, ys_1,  label=\"calc\", lc=:red, \n",
    "    legend=:bottomright, xaxis=:log)\n",
    "plot!(p1, xs_2, ys_2, label=\"file\", lc=:blue, ls=:dash)\n",
    "\n",
    "p2 = plot(xs_1, ys_2 ./ ys_1, ylabel=\"ratio\", lc=:green, \n",
    "    legend=false, xaxis=:log)\n",
    "p3 = plot(xs_1, ys_2 .- ys_1, ylabel=\"difference\", lc=:green, \n",
    "    legend=false, xaxis=:log)\n",
    "\n",
    "plot(p1, p2, p3, layout=grid(3,1), size=(400, 600))"
   ]
  },
  {
   "cell_type": "code",
   "execution_count": null,
   "id": "ccd53e82-7276-4341-8817-5b42e8d34f98",
   "metadata": {},
   "outputs": [],
   "source": [
    "plot(ss, calc_xis)"
   ]
  },
  {
   "cell_type": "code",
   "execution_count": null,
   "id": "37c1e5fd-b6b2-4d96-b138-ef0459fff95e",
   "metadata": {},
   "outputs": [],
   "source": []
  }
 ],
 "metadata": {
  "kernelspec": {
   "display_name": "Julia 1.7.2",
   "language": "julia",
   "name": "julia-1.7"
  },
  "language_info": {
   "file_extension": ".jl",
   "mimetype": "application/julia",
   "name": "julia",
   "version": "1.7.2"
  }
 },
 "nbformat": 4,
 "nbformat_minor": 5
}
