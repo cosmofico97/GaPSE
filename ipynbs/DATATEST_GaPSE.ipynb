{
 "cells": [
  {
   "cell_type": "markdown",
   "id": "1c882dbf-9b2c-4113-9447-fa113abffd53",
   "metadata": {},
   "source": [
    "This file is part of GaPSE\n",
    "Copyright (C) 2022 Matteo Foglieni\n",
    "\n",
    "GaPSE is free software: you can redistribute it and/or modify\n",
    "it under the terms of the GNU General Public License as published by\n",
    "the Free Software Foundation, either version 3 of the License, or\n",
    "(at your option) any later version.\n",
    "\n",
    "GaPSE is distributed in the hope that it will be useful, but\n",
    "WITHOUT ANY WARRANTY; without even the implied warranty of\n",
    "MERCHANTABILITY or FITNESS FOR A PARTICULAR PURPOSE. See the GNU\n",
    "General Public License for more details.\n",
    "\n",
    "You should have received a copy of the GNU General Public License\n",
    "along with GaPSE. If not, see <http://www.gnu.org/licenses/>.\n",
    "```\n",
    "\n",
    "\n",
    "```"
   ]
  },
  {
   "cell_type": "markdown",
   "id": "4e8ec63f-6b3e-4024-b30f-33144f35643b",
   "metadata": {},
   "source": [
    "# DATATEST of GaPSE"
   ]
  },
  {
   "cell_type": "markdown",
   "id": "98037ac1-6438-4369-b906-32e854e293ce",
   "metadata": {},
   "source": [
    "This notebook provides the code necessary to compute all the files stored in the `../test/datatest` directory. They are used for the unit and integration tests of the code."
   ]
  },
  {
   "cell_type": "markdown",
   "id": "e69d6d59-043b-4943-bf2c-ffc7d120affb",
   "metadata": {
    "jp-MarkdownHeadingCollapsed": true,
    "tags": []
   },
   "source": [
    "## Background Framework"
   ]
  },
  {
   "cell_type": "code",
   "execution_count": 1,
   "id": "9bdfc59f-b0ba-4daf-86af-a19d6ffc766e",
   "metadata": {},
   "outputs": [],
   "source": [
    "PATH_TO_GAPSE = \"../\";"
   ]
  },
  {
   "cell_type": "code",
   "execution_count": 2,
   "id": "12b1340b-6aec-4c4f-a75b-928c12af8af8",
   "metadata": {},
   "outputs": [],
   "source": [
    "include(PATH_TO_GAPSE * \"src/GaPSE.jl\");"
   ]
  },
  {
   "cell_type": "code",
   "execution_count": 3,
   "id": "38f8dbef-b184-4c3a-b335-6a393f00cc80",
   "metadata": {},
   "outputs": [],
   "source": [
    "using Plots, DelimitedFiles, Printf"
   ]
  },
  {
   "cell_type": "code",
   "execution_count": 4,
   "id": "270fe520-6f52-4530-af8f-9eeebff09b60",
   "metadata": {},
   "outputs": [
    {
     "data": {
      "text/plain": [
       "Main.GaPSE.Cosmology(Main.GaPSE.InputPS(0.9599998007678217, 3.0123089778963984e6, 0.0, 1.0e-6, Spline1D(knots=[1.0e-6,1.02329e-6 … 19.7242,20.1837] (1460 elements), k=3, extrapolation=\"error\", residual=0.0), -2.6531284143857454, 68.30720789490483, 0.0, 20.0), Main.GaPSE.EPLs(-0.04194951401921344, 69.58813284371618, 0.0, 0.001, Spline1D(knots=[0.001,0.00104131 … 9.41094e5,9.79966e5] (1022 elements), k=3, extrapolation=\"error\", residual=0.0), -0.007145448938534893, 2.8961464294439625e-16, 0.0, 979965.8407585004), Main.GaPSE.CosmoParams(0.05, 0.2, 1.5707963267948966, 0.0489, 0.25102, 0.29992, 0.7, 1.0, 0.0, 0.0, 0.01, Dict(:fit_left_min => 1.0e-6, :fit_right_min => 10.0, :fit_left_max => 3.0e-6, :fit_right_max => 20.0), Dict{Symbol, Real}(:k_max => 10.0, :fit_max => 0.5, :N => 1024, :con => true, :k_min => 1.0e-8, :fit_min => 0.05), Dict{Symbol, Real}(:ss_step => 21.768735478453323, :N => 1000, :rtol => 0.01, :llim => 0.0, :atol => 0.0, :rlim => Inf, :ss_stop => 0.0, :trap => true, :ss_start => 0.0)), Main.GaPSE.IPSTools(Main.GaPSE.IntegralIPS(-0.3480008484088528, 11.575473646894222, -6.492685627424222, 0.05, Spline1D(knots=[0.0495807,0.051397 … 93057.2,96466.2] (804 elements), k=3, extrapolation=\"error\", residual=0.0), 2.8758516589192706, 8.345990355535678e-29, 0.0, 96466.16199111959), Main.GaPSE.IntegralIPS(-0.3434449376790657, 1.5505826777939757, -0.035265713349630266, 0.05, Spline1D(knots=[0.0495807,0.051397 … 93057.2,96466.2] (804 elements), k=3, extrapolation=\"error\", residual=0.0), -3.9578746738388397, 1.1832931457198192e6, 0.0, 96466.16199111959), Main.GaPSE.IntegralIPS(-0.3468022218825587, 0.7681399976144987, -0.00028247463623223634, 0.05, Spline1D(knots=[0.0495807,0.051397 … 93057.2,96466.2] (804 elements), k=3, extrapolation=\"error\", residual=0.0), -3.9597415622888192, 6.92151268083521e6, 0.0, 96466.16199111959), Main.GaPSE.IntegralIPS(-2.00164755613052, 100.44877199997933, 0.0, 0.05, Spline1D(knots=[0.0495807,0.051397 … 93057.2,96466.2] (804 elements), k=3, extrapolation=\"error\", residual=0.0), -5.866385247535877, 1.7556551321550488e14, 0.0, 96466.16199111959), Main.GaPSE.IntegralIPS(-0.34727171081772734, 0.9412777254767503, -0.43616927284862367, 0.05, Spline1D(knots=[0.0495807,0.051397 … 93057.2,96466.2] (804 elements), k=3, extrapolation=\"error\", residual=0.0), -3.431171897505612, 851.4607831995294, 0.0, 96466.16199111959), Main.GaPSE.IntegralIPS(-0.3445696461864395, 0.33123234468023927, -0.005064156263986402, 0.05, Spline1D(knots=[0.0495807,0.051397 … 93057.2,96466.2] (804 elements), k=3, extrapolation=\"error\", residual=0.0), -3.9594640605240348, 1.157797082289167e6, 0.0, 96466.16199111959), Main.GaPSE.IntegralIPS(-2.0001163229203924, 33.62113907833843, -0.5498036524608388, 0.05, Spline1D(knots=[0.0495807,0.051397 … 93057.2,96466.2] (804 elements), k=3, extrapolation=\"error\", residual=0.0), -4.387393755963048, 1.5388770882263558e7, 0.0, 96466.16199111959), Main.GaPSE.IntegralIPS(-0.3474733407904323, 4.375198496682168, -2.17582565657694, 0.05, Spline1D(knots=[0.0495807,0.051397 … 93057.2,96466.2] (804 elements), k=3, extrapolation=\"error\", residual=0.0), -2.270802848837033, 0.002613631263376589, 0.0, 96466.16199111959), Main.GaPSE.IntegralIPS(-2.0002445476746975, -16.80636730509123, 0.10615797439188279, 0.1, Spline1D(knots=[0.0999,0.102174 … 9777.41,10000.0] (1022 elements), k=3, extrapolation=\"error\", residual=0.0), -3.746166614932489, -83772.05493095529, 0.0, 9888.080416307215), 15.593462966741178, 15.074895881392285, 100.85852368830226, 3735.1226181519773, 0.05, 0.5, 1.0e-8, 10.0), Main.GaPSE.WindowF([0.0, 0.05, 0.1, 0.15, 0.2, 0.25, 0.3, 0.35, 0.4, 0.45  …  4.55, 4.6, 4.65, 4.7, 4.75, 4.8, 4.85, 4.9, 4.95, 5.0], [-1.0, -0.9979591836734694, -0.9959183673469387, -0.9938775510204082, -0.9918367346938776, -0.9897959183673469, -0.9877551020408163, -0.9857142857142858, -0.9836734693877551, -0.9816326530612245  …  0.9816326530612245, 0.9836734693877551, 0.9857142857142858, 0.9877551020408163, 0.9897959183673469, 0.9918367346938776, 0.9938775510204082, 0.9959183673469387, 0.9979591836734694, 1.0], [0.0 39.57312375343778 … 39.57312375340959 0.0; 0.0 39.566989099025015 … 39.572626853415294 0.0; … ; 0.0 0.8869182499637901 … 39.02493143026159 0.0; 0.0 0.8869182499637901 … 39.02493143026159 0.0]), Main.GaPSE.WindowFIntegrated([0.0, 21.768735478453323, 43.537470956906645, 65.30620643535997, 87.07494191381329, 108.84367739226661, 130.61241287071994, 152.38114834917326, 174.14988382762658, 195.9186193060799  …  1502.0427480132794, 1523.8114834917326, 1545.5802189701858, 1567.3489544486392, 1589.1176899270927, 1610.8864254055459, 1632.655160883999, 1654.4238963624525, 1676.192631840906, 1697.9613673193592], [-1.0, -0.9979591836734694, -0.9959183673469387, -0.9938775510204082, -0.9918367346938776, -0.9897959183673469, -0.9877551020408163, -0.9857142857142858, -0.9836734693877551, -0.9816326530612245  …  0.9816326530612245, 0.9836734693877551, 0.9857142857142858, 0.9877551020408163, 0.9897959183673469, 0.9918367346938776, 0.9938775510204082, 0.9959183673469387, 0.9979591836734694, 1.0], [0.0 2.4105477989011474e9 … 2.41054779889943e9 0.0; 0.0 2.389255518176922e9 … 2.1540214828440704e9 0.0; … ; 0.0 0.0 … 0.0 0.0; 0.0 0.0 … 0.0 0.0]), 2.402606151717717e9, Spline1D(knots=[0.0,40.7746 … 1734.56,1782.95] (76 elements), k=3, extrapolation=\"error\", residual=0.0), Spline1D(knots=[0.0,40.7746 … 1734.56,1782.95] (76 elements), k=3, extrapolation=\"error\", residual=0.0), Spline1D(knots=[0.0,40.7746 … 1734.56,1782.95] (76 elements), k=3, extrapolation=\"error\", residual=0.0), Spline1D(knots=[0.0,40.7746 … 1734.56,1782.95] (76 elements), k=3, extrapolation=\"error\", residual=0.0), Spline1D(knots=[0.0,40.7746 … 1734.56,1782.95] (76 elements), k=3, extrapolation=\"error\", residual=0.0), Spline1D(knots=[0.0,0.000101685 … 1724.34,1782.95] (999 elements), k=3, extrapolation=\"error\", residual=0.0), Spline1D(knots=[0.0,0.000101685 … 1724.34,1782.95] (999 elements), k=3, extrapolation=\"error\", residual=0.0), Spline1D(knots=[0.0,0.0136431 … 0.690495,0.714327] (76 elements), k=3, extrapolation=\"error\", residual=0.0), 0.15045636096023224, 148.1920001465757, 571.7022420258767, 435.3747095690664, 3.845366167995967e8, \"../test/datatest/WideA_ZA_background.dat\", \"../test/datatest/file_pk.txt\", \"../test/datatest/F_REFERENCE_pi2.txt\", \"../test/datatest/IntegrF_REFERENCE_pi2.txt\")"
      ]
     },
     "execution_count": 4,
     "metadata": {},
     "output_type": "execute_result"
    }
   ],
   "source": [
    "const FILE_F_MAP = PATH_TO_GAPSE * \"test/datatest/F_REFERENCE_pi2.txt\"\n",
    "const FILE_PS = PATH_TO_GAPSE * \"test/datatest/file_pk.txt\"\n",
    "const FILE_IF_MAP = PATH_TO_GAPSE * \"test/datatest/IntegrF_REFERENCE_pi2.txt\"\n",
    "const FILE_ILN = PATH_TO_GAPSE * \"test/datatest/table_Iln.txt\"\n",
    "const FILE_BACKGROUND = PATH_TO_GAPSE * \"test/datatest/WideA_ZA_background.dat\"\n",
    "\n",
    "const Z_MIN = 0.05\n",
    "const Z_MAX = 0.20\n",
    "const S_MIN = 148.1920001343431\n",
    "const S_MAX = 571.7022420911966\n",
    "const S_EFF = 435.37470960794167\n",
    "const Z_EFF = 0.15045636097417317\n",
    "const VOLUME = 3.845366167993746e8\n",
    "const HUBBLE_0 = 1e5 / 299792458.0\n",
    "\n",
    "const PARAMS = GaPSE.CosmoParams(Z_MIN, Z_MAX, π / 2.0;\n",
    "     Ω_b=0.0489, Ω_cdm=0.251020, h_0=0.7, s_lim=1e-2,\n",
    "     IPS_opts=Dict(\n",
    "          :fit_left_min => 1e-6, :fit_left_max => 3e-6,\n",
    "          :fit_right_min => 1e1, :fit_right_max => 2e1,\n",
    "     ),\n",
    "     IPSTools_opts=Dict(\n",
    "          :N => 1024, :fit_min => 0.05, :fit_max => 0.5,\n",
    "          :con => true, :k_min => 1e-8, :k_max => 10.0\n",
    "    ),\n",
    "     WFI_opts = Dict(:llim => 0.0, :rlim => Inf, :N => 1000,\n",
    "          :trap => true, :rtol => 1e-2, :atol => 0.0,\n",
    "          :ss_start => 0.0, :ss_step => 21.768735478453323,\n",
    "          :ss_stop => 0.0)\n",
    ")\n",
    "const COSMO = GaPSE.Cosmology(PARAMS, FILE_BACKGROUND, FILE_PS, FILE_F_MAP, FILE_IF_MAP);\n",
    "\n",
    "#=\n",
    "common_kwargs = Dict(\n",
    "     :pr => false,\n",
    "     :use_windows => false,\n",
    "     :enhancer => 1e8, :N_μs => 30,\n",
    "     :μ_atol => 0.0, :μ_rtol => 1e-2,\n",
    "     :N_log => 100,\n",
    ");\n",
    "\n",
    "spec_effect = [\n",
    "     \"auto_lensing\", \"auto_integratedgp\",\n",
    "     \"lensing_doppler\", \"doppler_lensing\",\n",
    "     \"doppler_integratedgp\", \"integratedgp_doppler\",\n",
    "     \"lensing_localgp\", \"localgp_lensing\",\n",
    "     \"lensing_integratedgp\", \"integratedgp_lensing\",\n",
    "     \"localgp_integratedgp\", \"integratedgp_localgp\",\n",
    "];\n",
    "\n",
    "specific_kwargs = [effect ∈ spec_effect ? Dict(\n",
    "     :en => 1e12, :N_χs => 30) : nothing for effect in GaPSE.GR_EFFECTS_LD]\n",
    "\n",
    "joint_kwargs = [isnothing(spec) ? common_kwargs : merge(common_kwargs, spec)\n",
    "                for spec in specific_kwargs];\n",
    "=#"
   ]
  },
  {
   "cell_type": "markdown",
   "id": "4d1fc4bb-edde-4412-b0df-7e4988c4ee9b",
   "metadata": {
    "jp-MarkdownHeadingCollapsed": true,
    "tags": []
   },
   "source": [
    "## F_map tests"
   ]
  },
  {
   "cell_type": "code",
   "execution_count": 5,
   "id": "915a11de-4bf5-40f3-80e5-a8d997921ad4",
   "metadata": {},
   "outputs": [],
   "source": [
    "kwargs_map_F_hcub = Dict(\n",
    "     :θ_max => π / 2.0, :tolerance => 1e-8, \n",
    "     :rtol => 1e-2, :atol => 1e-3, :pr => true,\n",
    ");\n",
    "\n",
    "kwargs_map_F_trapz = Dict(\n",
    "     :θ_max => π / 2.0, :tolerance => 1e-8, \n",
    "     :N => 1000, :pr => true,\n",
    ");"
   ]
  },
  {
   "cell_type": "code",
   "execution_count": 6,
   "id": "adea45e5-d1fc-4080-91ad-dc48cedd6f7a",
   "metadata": {},
   "outputs": [
    {
     "name": "stderr",
     "output_type": "stream",
     "text": [
      "\u001b[32mwindow F evaluation: 100%|██████████████████████████████| Time: 0:00:08\u001b[39m\n",
      "\u001b[32mwindow F evaluation: 100%|██████████████████████████████| Time: 0:00:16\u001b[39m\n"
     ]
    }
   ],
   "source": [
    "first_output = \"test/datatest/F_first_method.txt\"\n",
    "second_output = \"test/datatest/F_second_method.txt\"\n",
    "\n",
    "calc_xs = [x for x in 0:0.25:3]\n",
    "calc_μs = vcat([-1.0, -0.98, -0.95], [μ for μ in -0.9:0.1:0.9], [0.95, 0.98, 1.0])\n",
    "\n",
    "GaPSE.print_map_F(PATH_TO_GAPSE * first_output, 0.25, 0.25;\n",
    "    x1 = 0, x2 = 3, μ1 = -1, μ2 = 1, \n",
    "    trapz = true, Fmap_opts = kwargs_map_F_trapz)\n",
    "GaPSE.print_map_F(PATH_TO_GAPSE * second_output, calc_xs, calc_μs;\n",
    "    trapz = true, Fmap_opts = kwargs_map_F_trapz)"
   ]
  },
  {
   "cell_type": "markdown",
   "id": "faec0c50-e75f-4420-889b-e6a58d0ba54f",
   "metadata": {
    "jp-MarkdownHeadingCollapsed": true,
    "tags": []
   },
   "source": [
    "## IntegratedF_map tests"
   ]
  },
  {
   "cell_type": "code",
   "execution_count": 7,
   "id": "8a231d6b-2f29-4098-9dba-5357f8e5d743",
   "metadata": {},
   "outputs": [],
   "source": [
    "kwargs_map_F_int = Dict(\n",
    "    :ss_start => 100, :ss_stop => 500, \n",
    "    :ss_step => 50, :llim => 0.0, :rlim => Inf, \n",
    "    :rtol => 5e-2, :atol => 0.0, :N => 300, :pr => true,\n",
    ");\n",
    "\n",
    "kwargs_F_int_quad = Dict(\n",
    "    :llim => kwargs_map_F_int[:llim], \n",
    "    :rlim => kwargs_map_F_int[:rlim], \n",
    "    :rtol => kwargs_map_F_int[:rtol], \n",
    "    :atol => kwargs_map_F_int[:atol],\n",
    ")\n",
    "\n",
    "kwargs_F_int_trap = Dict(\n",
    "    :llim => kwargs_map_F_int[:llim], \n",
    "    :rlim => kwargs_map_F_int[:rlim], \n",
    "    :N => kwargs_map_F_int[:N], \n",
    ")\n",
    "\n",
    "windF = GaPSE.WindowF(FILE_F_MAP); \n",
    "\n",
    "calc_μs = vcat([-1.0, -0.98, -0.95], \n",
    "    [μ for μ in -0.9:0.3:0.9], \n",
    "    [0.95, 0.98, 1.0]);"
   ]
  },
  {
   "cell_type": "code",
   "execution_count": 8,
   "id": "7f85256c-278b-4874-b28f-26f0ff2d5e84",
   "metadata": {},
   "outputs": [
    {
     "name": "stdout",
     "output_type": "stream",
     "text": [
      "integrated_F_quadgk: \n",
      "s = 100, \t μ = 0.0, \t IF = 2.12335e+09\n",
      "s = 150, \t μ = 0.0, \t IF = 1.93936e+09\n",
      "s = 200, \t μ = 0.0, \t IF = 1.68321e+09\n",
      "s = 250, \t μ = 0.0, \t IF = 1.45684e+09\n",
      "s = 100, \t μ = 0.8, \t IF = 1.42493e+09\n",
      "s = 150, \t μ = 0.8, \t IF = 1.06046e+09\n",
      "s = 200, \t μ = 0.8, \t IF = 7.53131e+08\n",
      "s = 250, \t μ = 0.8, \t IF = 4.82146e+08\n",
      "s = 100, \t μ = -0.8, \t IF = 2.14873e+09\n",
      "s = 150, \t μ = -0.8, \t IF = 2.08741e+09\n",
      "s = 200, \t μ = -0.8, \t IF = 1.98355e+09\n",
      "s = 250, \t μ = -0.8, \t IF = 1.93041e+09\n",
      "\n",
      " integrated_F_trap: \n",
      "s = 100, \t μ = 0.0, \t IF = 2.15022e+09\n",
      "s = 150, \t μ = 0.0, \t IF = 1.93769e+09\n",
      "s = 200, \t μ = 0.0, \t IF = 1.68718e+09\n",
      "s = 250, \t μ = 0.0, \t IF = 1.41394e+09\n",
      "s = 100, \t μ = 0.8, \t IF = 1.44814e+09\n",
      "s = 150, \t μ = 0.8, \t IF = 1.04627e+09\n",
      "s = 200, \t μ = 0.8, \t IF = 7.29342e+08\n",
      "s = 250, \t μ = 0.8, \t IF = 4.84891e+08\n",
      "s = 100, \t μ = -0.8, \t IF = 2.18180e+09\n",
      "s = 150, \t μ = -0.8, \t IF = 2.05673e+09\n",
      "s = 200, \t μ = -0.8, \t IF = 1.93539e+09\n",
      "s = 250, \t μ = -0.8, \t IF = 1.90523e+09\n"
     ]
    }
   ],
   "source": [
    "calc_ss = [100, 150, 200, 250]\n",
    "calc_μs = [0.0, 0.8, -0.8]\n",
    "s_min, s_max = 148.1920001465757, 571.7022420258767\n",
    "z_min, z_max = 0.05, 0.20\n",
    "\n",
    "println(\"integrated_F_quadgk: \")\n",
    "for μ in calc_μs, s in calc_ss\n",
    "    IF = GaPSE.integrated_F_quadgk(s, μ, s_min, s_max, windF; \n",
    "          kwargs_F_int_quad...)\n",
    "    res = @sprintf(\"%.5e\", IF)\n",
    "    println(\"s = $s, \\t μ = $μ, \\t IF = $res\") \n",
    "end\n",
    "println(\"\\n integrated_F_trap: \")\n",
    "for μ in calc_μs, s in calc_ss\n",
    "    IF = GaPSE.integrated_F_trapz(s, μ, s_min, s_max, windF; \n",
    "          kwargs_F_int_trap...)\n",
    "    res = @sprintf(\"%.5e\", IF)\n",
    "    println(\"s = $s, \\t μ = $μ, \\t IF = $res\") \n",
    "end"
   ]
  },
  {
   "cell_type": "code",
   "execution_count": 9,
   "id": "4154c8cd-b13d-4182-b4d4-19983e241f5e",
   "metadata": {},
   "outputs": [
    {
     "ename": "LoadError",
     "evalue": "AssertionError: μs must be a float vector of increasing values!",
     "output_type": "error",
     "traceback": [
      "AssertionError: μs must be a float vector of increasing values!",
      "",
      "Stacktrace:",
      " [1] Main.GaPSE.WindowFIntegrated(s_min::Float64, s_max::Float64, μs::Vector{Float64}, windowF::Main.GaPSE.WindowF; ss_start::Int64, ss_stop::Int64, ss_step::Int64, trap::Bool, llim::Float64, rlim::Float64, rtol::Float64, atol::Float64, N::Int64, pr::Bool)",
      "   @ Main.GaPSE ~/AAA_TESI_MAGISTRALE/GaPSE/src/WindowFIntegrated.jl:103",
      " [2] print_map_IntegratedF(in::String, out::String, s_min::Float64, s_max::Float64, μs::Vector{Float64}; kwargs::Base.Pairs{Symbol, Real, NTuple{10, Symbol}, NamedTuple{(:trap, :ss_start, :atol, :rtol, :llim, :N, :rlim, :pr, :ss_stop, :ss_step), Tuple{Bool, Int64, Float64, Float64, Float64, Int64, Float64, Bool, Int64, Int64}}})",
      "   @ Main.GaPSE ~/AAA_TESI_MAGISTRALE/GaPSE/src/WindowFIntegrated.jl:222",
      " [3] top-level scope",
      "   @ In[9]:1",
      " [4] eval",
      "   @ ./boot.jl:373 [inlined]",
      " [5] include_string(mapexpr::typeof(REPL.softscope), mod::Module, code::String, filename::String)",
      "   @ Base ./loading.jl:1196"
     ]
    }
   ],
   "source": [
    "GaPSE.print_map_IntegratedF(\n",
    "    PATH_TO_GAPSE * \"data/F_REFERENCE_pi2.txt\", \n",
    "    PATH_TO_GAPSE * \"test/datatest/WindowFIntegrated/IntF_trap_1.txt\", \n",
    "    148.1920001465757, 571.7022420258767, calc_μs;\n",
    "    trap = true, kwargs_map_F_int...\n",
    ")\n",
    "\n",
    "GaPSE.print_map_IntegratedF(\n",
    "    PATH_TO_GAPSE * \"data/F_REFERENCE_pi2.txt\", \n",
    "    PATH_TO_GAPSE * \"test/datatest/WindowFIntegrated/IntF_quad_1.txt\",\n",
    "    148.1920001465757, 571.7022420258767, calc_μs;\n",
    "    trap = false, kwargs_map_F_int...\n",
    ")"
   ]
  },
  {
   "cell_type": "code",
   "execution_count": 10,
   "id": "bc791c5e-3461-4435-acc9-9f849b91bdd8",
   "metadata": {},
   "outputs": [
    {
     "ename": "LoadError",
     "evalue": "AssertionError: μs must be a float vector of increasing values!",
     "output_type": "error",
     "traceback": [
      "AssertionError: μs must be a float vector of increasing values!",
      "",
      "Stacktrace:",
      " [1] Main.GaPSE.WindowFIntegrated(s_min::Float64, s_max::Float64, μs::Vector{Float64}, windowF::Main.GaPSE.WindowF; ss_start::Int64, ss_stop::Int64, ss_step::Int64, trap::Bool, llim::Float64, rlim::Float64, rtol::Float64, atol::Float64, N::Int64, pr::Bool)",
      "   @ Main.GaPSE ~/AAA_TESI_MAGISTRALE/GaPSE/src/WindowFIntegrated.jl:103",
      " [2] Main.GaPSE.WindowFIntegrated(z_min::Float64, z_max::Float64, μs::Vector{Float64}, windowF::Main.GaPSE.WindowF, file_data::String; names_bg::Vector{String}, h_0::Float64, kwargs::Base.Pairs{Symbol, Real, NTuple{10, Symbol}, NamedTuple{(:trap, :ss_start, :atol, :rtol, :llim, :N, :rlim, :pr, :ss_stop, :ss_step), Tuple{Bool, Int64, Float64, Float64, Float64, Int64, Float64, Bool, Int64, Int64}}})",
      "   @ Main.GaPSE ~/AAA_TESI_MAGISTRALE/GaPSE/src/WindowFIntegrated.jl:147",
      " [3] #print_map_IntegratedF#154",
      "   @ ~/AAA_TESI_MAGISTRALE/GaPSE/src/WindowFIntegrated.jl:233 [inlined]",
      " [4] top-level scope",
      "   @ In[10]:1",
      " [5] eval",
      "   @ ./boot.jl:373 [inlined]",
      " [6] include_string(mapexpr::typeof(REPL.softscope), mod::Module, code::String, filename::String)",
      "   @ Base ./loading.jl:1196"
     ]
    }
   ],
   "source": [
    "GaPSE.print_map_IntegratedF(\n",
    "    PATH_TO_GAPSE * \"data/F_REFERENCE_pi2.txt\", \n",
    "    PATH_TO_GAPSE * \"test/datatest/WindowFIntegrated/IntF_trap_2.txt\", \n",
    "    0.05, 0.20, calc_μs, FILE_BACKGROUND;\n",
    "    trap = true, kwargs_map_F_int...\n",
    ")\n",
    "\n",
    "GaPSE.print_map_IntegratedF(\n",
    "    PATH_TO_GAPSE * \"data/F_REFERENCE_pi2.txt\", \n",
    "    PATH_TO_GAPSE * \"test/datatest/WindowFIntegrated/IntF_quad_2.txt\",\n",
    "    0.05, 0.20, calc_μs, FILE_BACKGROUND;\n",
    "    trap = false, kwargs_map_F_int...\n",
    ")"
   ]
  },
  {
   "cell_type": "markdown",
   "id": "1ce82b58-20d8-49e0-a319-040d198b4bfa",
   "metadata": {
    "tags": []
   },
   "source": [
    "## LD_XiMultipoles"
   ]
  },
  {
   "cell_type": "code",
   "execution_count": 11,
   "id": "c402d169-e070-4b36-aaa5-003659d12a94",
   "metadata": {},
   "outputs": [
    {
     "name": "stderr",
     "output_type": "stream",
     "text": [
      "\u001b[32mauto_doppler, L=0: 100%|████████████████████████████████| Time: 0:00:00\u001b[39m\n"
     ]
    },
    {
     "name": "stdout",
     "output_type": "stream",
     "text": [
      "\n",
      "time needed for map_ξ_LD_multipole for auto_doppler [in s] = 0.63688 \n",
      "\n",
      "\n",
      "time needed for map_ξ_LD_multipole for auto_doppler [in s] = 0.07919 \n",
      "\n",
      "\n",
      "time needed for map_ξ_LD_multipole for auto_doppler [in s] = 0.08915 \n",
      "\n",
      "\n",
      "time needed for map_ξ_LD_multipole for auto_doppler [in s] = 0.09402 \n",
      "\n",
      "\n",
      "time needed for map_ξ_LD_multipole for auto_doppler [in s] = 0.09311 \n",
      "\n"
     ]
    }
   ],
   "source": [
    "name_effect = \"auto_doppler\"\n",
    "func_effect = GaPSE.ξ_LD_Doppler\n",
    "\n",
    "kwargs =  Dict(\n",
    "          :use_windows => false,\n",
    "          :enhancer => 1e8, :N_μs => 200,\n",
    "          :μ_atol => 0.0, :μ_rtol => 1e-2\n",
    "     )\n",
    "\n",
    "for L in [0,1,2,3,4]\n",
    "    GaPSE.print_map_ξ_LD_multipole(COSMO, \n",
    "        PATH_TO_GAPSE * \"test/datatest/LD_doppler_multipoles/xi_LD_\" * \n",
    "            name_effect * \"_L$L\" * \".txt\",\n",
    "        name_effect, \n",
    "        10 .^ range(-1, 3, length=300); \n",
    "        L=L, kwargs...)\n",
    "end"
   ]
  },
  {
   "cell_type": "code",
   "execution_count": 12,
   "id": "b106e40c-49b8-4e91-b3d7-0c1c0498beda",
   "metadata": {},
   "outputs": [],
   "source": [
    "kwargs = Dict(\n",
    "          :use_windows => false,\n",
    "          :pr => false,\n",
    "          :enhancer => 1e8, :N_μs => 30,\n",
    "          :μ_atol => 0.0, :μ_rtol => 1e-2,\n",
    "          :N_log => 1000\n",
    "     )\n",
    "\n",
    "GaPSE.print_map_ξ_LD_multipole(COSMO, \n",
    "    PATH_TO_GAPSE * \"test/datatest/LD_doppler_multipoles/xi_LD_auto_doppler_L0_first.txt\", \n",
    "    \"auto_doppler\",  nothing;\n",
    "    s1 = nothing, L = 0, kwargs...)\n",
    "\n",
    "GaPSE.print_map_ξ_LD_multipole(COSMO, \n",
    "    PATH_TO_GAPSE * \"test/datatest/LD_doppler_multipoles/xi_LD_auto_doppler_L0_second.txt\", \n",
    "    \"auto_doppler\",  10 .^ range(0, 3, length = 344);\n",
    "    s1 = nothing, L = 0, kwargs...)\n",
    "\n",
    "GaPSE.print_map_ξ_LD_multipole(COSMO, \n",
    "    PATH_TO_GAPSE * \"test/datatest/LD_doppler_multipoles/xi_LD_auto_doppler_L0_third.txt\", \n",
    "    \"auto_doppler\",  10 .^ range(0, 3, length = 344);\n",
    "    s1 = COSMO.s_eff - 65.0, L = 0, kwargs...)"
   ]
  },
  {
   "cell_type": "markdown",
   "id": "12fbce39-7503-47d0-aac8-a62612fc9d8b",
   "metadata": {
    "jp-MarkdownHeadingCollapsed": true,
    "tags": []
   },
   "source": [
    "## LD_SumXiMultipoles specific ss"
   ]
  },
  {
   "cell_type": "code",
   "execution_count": 13,
   "id": "a076a67b-6dd4-4db6-8e92-f350bf7d4c70",
   "metadata": {},
   "outputs": [
    {
     "name": "stderr",
     "output_type": "stream",
     "text": [
      "\u001b[32mauto_doppler, L=0: 100%|████████████████████████████████| Time: 0:00:00\u001b[39m\n",
      "\u001b[32mauto_lensing, L=0: 100%|████████████████████████████████| Time: 0:00:03\u001b[39m\n",
      "\u001b[32mauto_localgp, L=0: 100%|████████████████████████████████| Time: 0:00:00\u001b[39m\n",
      "\u001b[32mauto_integratedgp, L=0: 100%|███████████████████████████| Time: 0:00:01\u001b[39m\n",
      "\u001b[32mlensing_doppler, L=0: 100%|█████████████████████████████| Time: 0:00:00\u001b[39m\n",
      "\u001b[32mdoppler_lensing, L=0: 100%|█████████████████████████████| Time: 0:00:00\u001b[39m\n",
      "\u001b[32mdoppler_localgp, L=0: 100%|█████████████████████████████| Time: 0:00:00\u001b[39m\n",
      "\u001b[32mlocalgp_doppler, L=0: 100%|█████████████████████████████| Time: 0:00:00\u001b[39m\n",
      "\u001b[32mdoppler_integratedgp, L=0: 100%|████████████████████████| Time: 0:00:00\u001b[39m\n",
      "\u001b[32mintegratedgp_doppler, L=0: 100%|████████████████████████| Time: 0:00:00\u001b[39m\n",
      "\u001b[32mlensing_localgp, L=0: 100%|█████████████████████████████| Time: 0:00:00\u001b[39m\n",
      "\u001b[32mlocalgp_lensing, L=0: 100%|█████████████████████████████| Time: 0:00:00\u001b[39m\n",
      "\u001b[32mlensing_integratedgp, L=0: 100%|████████████████████████| Time: 0:00:00\u001b[39m\n",
      "\u001b[32mintegratedgp_lensing, L=0: 100%|████████████████████████| Time: 0:00:00\u001b[39m\n",
      "\u001b[32mlocalgp_integratedgp, L=0: 100%|████████████████████████| Time: 0:00:00\u001b[39m\n",
      "\u001b[32mintegratedgp_localgp, L=0: 100%|████████████████████████| Time: 0:00:00\u001b[39m\n"
     ]
    },
    {
     "name": "stdout",
     "output_type": "stream",
     "text": [
      "\n",
      "time needed for map_sum_ξ_LD_multipole [in s] = 14.50211 \n",
      "\n"
     ]
    }
   ],
   "source": [
    "kwargs = Dict(\n",
    "    :L => 0, :use_windows => false,\n",
    "    :enhancer => 1e8, :N_μs => 30,\n",
    "    :μ_atol => 0.0, :μ_rtol => 1e-2,\n",
    "    :N_χs => 100, :N_χs_2 => 50,\n",
    "    #:pr => false,\n",
    " )\n",
    "\n",
    "GaPSE.print_map_sum_ξ_LD_multipole(COSMO, \n",
    "    PATH_TO_GAPSE * \"test/datatest/LD_SumXiMultipoles/\"*\n",
    "    \"map_sum_xi_LD_L0\" * \"_noF_specific_ss.txt\",\n",
    "    [10, 100, 500, 700, 1000]; \n",
    "    L=0, kwargs...)"
   ]
  },
  {
   "cell_type": "code",
   "execution_count": 14,
   "id": "8e101c1a-1ec6-4492-b5db-cb50bfacf962",
   "metadata": {},
   "outputs": [
    {
     "name": "stderr",
     "output_type": "stream",
     "text": [
      "\u001b[32mauto_lensing, L=0: 100%|████████████████████████████████| Time: 0:00:02\u001b[39m\n",
      "\u001b[32mauto_integratedgp, L=0: 100%|███████████████████████████| Time: 0:00:00\u001b[39m\n",
      "\u001b[32mdoppler_lensing, L=0: 100%|█████████████████████████████| Time: 0:00:00\u001b[39m\n",
      "\u001b[32mlocalgp_doppler, L=0: 100%|█████████████████████████████| Time: 0:00:00\u001b[39m\n",
      "\u001b[32mlensing_integratedgp, L=0: 100%|████████████████████████| Time: 0:00:00\u001b[39m\n",
      "\u001b[32mintegratedgp_lensing, L=0: 100%|████████████████████████| Time: 0:00:00\u001b[39m\n",
      "\u001b[32mlocalgp_integratedgp, L=0: 100%|████████████████████████| Time: 0:00:00\u001b[39m\n",
      "\u001b[32mintegratedgp_localgp, L=0: 100%|████████████████████████| Time: 0:00:00\u001b[39m\n"
     ]
    },
    {
     "name": "stdout",
     "output_type": "stream",
     "text": [
      "\n",
      "time needed for map_sum_ξ_LD_multipole [in s] = 6.25050 \n",
      "\n"
     ]
    }
   ],
   "source": [
    "kwargs = Dict(\n",
    "    :L => 0, :use_windows => true,\n",
    "    :enhancer => 1e8, :N_μs => 30,\n",
    "    :μ_atol => 0.0, :μ_rtol => 1e-2,\n",
    "    :N_χs => 100, :N_χs_2 => 50,\n",
    "    #:pr => false,\n",
    " )\n",
    "\n",
    "GaPSE.print_map_sum_ξ_LD_multipole(COSMO, \n",
    "    PATH_TO_GAPSE * \"test/datatest/LD_SumXiMultipoles/\"*\n",
    "    \"map_sum_xi_LD_L0\" * \"_withF_specific_ss.txt\",\n",
    "    [10, 100, 500, 700, 1000]; \n",
    "    L=0, kwargs...)"
   ]
  },
  {
   "cell_type": "markdown",
   "id": "377cf0b4-900d-4288-80bd-b57fc02580a1",
   "metadata": {
    "jp-MarkdownHeadingCollapsed": true,
    "tags": []
   },
   "source": [
    "## LD_SumXiMultipoles all xis"
   ]
  },
  {
   "cell_type": "code",
   "execution_count": 15,
   "id": "79d36c84-ae67-4807-94e9-66d90dcda0c2",
   "metadata": {},
   "outputs": [
    {
     "name": "stderr",
     "output_type": "stream",
     "text": [
      "\u001b[32mauto_lensing, L=0: 100%|████████████████████████████████| Time: 0:00:11\u001b[39m\n",
      "\u001b[32mauto_localgp, L=0: 100%|████████████████████████████████| Time: 0:00:00\u001b[39m\n",
      "\u001b[32mauto_integratedgp, L=0: 100%|███████████████████████████| Time: 0:00:01\u001b[39m\n",
      "\u001b[32mlensing_doppler, L=0: 100%|█████████████████████████████| Time: 0:00:01\u001b[39m\n",
      "\u001b[32mdoppler_lensing, L=0: 100%|█████████████████████████████| Time: 0:00:01\u001b[39m\n",
      "\u001b[32mdoppler_localgp, L=0: 100%|█████████████████████████████| Time: 0:00:00\u001b[39m\n",
      "\u001b[32mlocalgp_doppler, L=0: 100%|█████████████████████████████| Time: 0:00:00\u001b[39m\n",
      "\u001b[32mdoppler_integratedgp, L=0: 100%|████████████████████████| Time: 0:00:00\u001b[39m\n",
      "\u001b[32mintegratedgp_doppler, L=0: 100%|████████████████████████| Time: 0:00:00\u001b[39m\n",
      "\u001b[32mlensing_localgp, L=0: 100%|█████████████████████████████| Time: 0:00:01\u001b[39m\n",
      "\u001b[32mlocalgp_lensing, L=0: 100%|█████████████████████████████| Time: 0:00:00\u001b[39m\n",
      "\u001b[32mlensing_integratedgp, L=0: 100%|████████████████████████| Time: 0:00:02\u001b[39m\n",
      "\u001b[32mintegratedgp_lensing, L=0: 100%|████████████████████████| Time: 0:00:02\u001b[39m\n",
      "\u001b[32mlocalgp_integratedgp, L=0: 100%|████████████████████████| Time: 0:00:01\u001b[39m\n",
      "\u001b[32mintegratedgp_localgp, L=0: 100%|████████████████████████| Time: 0:00:00\u001b[39m\n"
     ]
    },
    {
     "name": "stdout",
     "output_type": "stream",
     "text": [
      "\n",
      "time needed for map_sum_ξ_LD_multipole [in s] = 29.07498 \n",
      "\n"
     ]
    }
   ],
   "source": [
    "KWARGS_LD = Dict(\n",
    "    :use_windows => false,\n",
    "    :enhancer => 1e8, :N_μs => 30,\n",
    "    :μ_atol => 0.0, :μ_rtol => 1e-2,\n",
    "    :N_χs => 100, :N_χs_2 => 30,\n",
    "    :N_log => 100,\n",
    "    #:pr => false,\n",
    " )\n",
    "\n",
    "GaPSE.print_map_sum_ξ_LD_multipole(COSMO, \n",
    "    PATH_TO_GAPSE * \"test/datatest/LD_SumXiMultipoles/\"*\n",
    "    \"map_sum_xi_LD_L0\" * \"_noF.txt\",\n",
    "    10 .^ range(-1, 3, length = KWARGS_LD[:N_log]); \n",
    "    L=0, KWARGS_LD...)"
   ]
  },
  {
   "cell_type": "markdown",
   "id": "53313168-d7d7-4add-89ac-612bf43c0c04",
   "metadata": {
    "jp-MarkdownHeadingCollapsed": true,
    "tags": []
   },
   "source": [
    "## PPDoppler"
   ]
  },
  {
   "cell_type": "code",
   "execution_count": 16,
   "id": "da65c839-f8d3-44c8-819e-a9a72ec5b229",
   "metadata": {},
   "outputs": [],
   "source": [
    "kwargs_xis_PP = Dict(\n",
    "     :pr => false, :enhancer => 1e8, \n",
    "     :μ_atol => 0.0, :μ_rtol => 1e-2,\n",
    "     :N_log => 100, \n",
    ");\n",
    "common = PATH_TO_GAPSE * \"test/datatest/pp_doppler/\"\n",
    "\n",
    "GaPSE.print_map_ξ_PPD_multipole(COSMO, common*\"xi_ppdoppler_noF_L0.txt\",\n",
    "    10 .^ range(0,3,length=300); use_windows = false, \n",
    "    L = 0, kwargs_xis_PP...);\n",
    "GaPSE.print_map_ξ_PPD_multipole(COSMO, common*\"xi_ppdoppler_noF_L2.txt\", \n",
    "    10 .^ range(0,3,length=300); use_windows = false, \n",
    "    L = 2, kwargs_xis_PP...);\n",
    "\n",
    "GaPSE.print_map_ξ_PPD_multipole(COSMO, common*\"xi_ppdoppler_withF_L0.txt\", \n",
    "    10 .^ range(0,3,length=300); use_windows = true, \n",
    "    L = 0, kwargs_xis_PP...);\n",
    "GaPSE.print_map_ξ_PPD_multipole(COSMO, common*\"xi_ppdoppler_withF_L2.txt\", \n",
    "    10 .^ range(0,3,length=300); use_windows = true, \n",
    "    L = 2, kwargs_xis_PP...);"
   ]
  },
  {
   "cell_type": "markdown",
   "id": "150acb24-cceb-4faf-bdd6-547255c514b4",
   "metadata": {
    "jp-MarkdownHeadingCollapsed": true,
    "tags": []
   },
   "source": [
    "## GNC_XiMultipoles"
   ]
  },
  {
   "cell_type": "code",
   "execution_count": 17,
   "id": "c7bd2c56-ca02-4a69-8397-78c8afdfdb5b",
   "metadata": {},
   "outputs": [
    {
     "name": "stderr",
     "output_type": "stream",
     "text": [
      "\u001b[32mauto_doppler, L=0: 100%|████████████████████████████████| Time: 0:00:00\u001b[39m\n",
      "\u001b[32mauto_doppler, L=1: 100%|████████████████████████████████| Time: 0:00:00\u001b[39m\n",
      "\u001b[32mauto_doppler, L=3: 100%|████████████████████████████████| Time: 0:00:00\u001b[39m\n"
     ]
    },
    {
     "name": "stdout",
     "output_type": "stream",
     "text": [
      "\n",
      "time needed for map_ξ_GNC_multipole for auto_doppler [in s] = 0.96640 \n",
      "\n",
      "\n",
      "time needed for map_ξ_GNC_multipole for auto_doppler [in s] = 0.10827 \n",
      "\n",
      "\n",
      "time needed for map_ξ_GNC_multipole for auto_doppler [in s] = 0.09250 \n",
      "\n",
      "\n",
      "time needed for map_ξ_GNC_multipole for auto_doppler [in s] = 0.16619 \n",
      "\n",
      "\n",
      "time needed for map_ξ_GNC_multipole for auto_doppler [in s] = 0.08955 \n",
      "\n"
     ]
    }
   ],
   "source": [
    "name_effect = \"auto_doppler\"\n",
    "func_effect = GaPSE.ξ_GNC_Doppler\n",
    "\n",
    "kwargs =  Dict(\n",
    "          :use_windows => false,\n",
    "          :enhancer => 1e8, :N_μs => 200,\n",
    "          :μ_atol => 0.0, :μ_rtol => 1e-2\n",
    "     )\n",
    "\n",
    "for L in [0,1,2,3,4]\n",
    "    GaPSE.print_map_ξ_GNC_multipole(COSMO, \n",
    "        PATH_TO_GAPSE * \"test/datatest/GNC_doppler_multipoles/xi_GNC_\" * \n",
    "            name_effect * \"_L$L\" * \".txt\",\n",
    "        name_effect, \n",
    "        10 .^ range(-1, 3, length=300); \n",
    "        L=L, kwargs...)\n",
    "end"
   ]
  },
  {
   "cell_type": "code",
   "execution_count": 18,
   "id": "c3ec8001-67f6-4611-8920-359dd6303548",
   "metadata": {},
   "outputs": [],
   "source": [
    "kwargs = Dict(\n",
    "          :use_windows => false,\n",
    "          :pr => false,\n",
    "          :enhancer => 1e8, :N_μs => 30,\n",
    "          :μ_atol => 0.0, :μ_rtol => 1e-2,\n",
    "          :N_log => 1000\n",
    "     )\n",
    "\n",
    "GaPSE.print_map_ξ_GNC_multipole(COSMO, \n",
    "    PATH_TO_GAPSE * \"test/datatest/GNC_doppler_multipoles/xi_GNC_auto_doppler_L0_first.txt\", \n",
    "    \"auto_doppler\",  nothing;\n",
    "    s1 = nothing, L = 0, kwargs...)\n",
    "\n",
    "GaPSE.print_map_ξ_GNC_multipole(COSMO, \n",
    "    PATH_TO_GAPSE * \"test/datatest/GNC_doppler_multipoles/xi_GNC_auto_doppler_L0_second.txt\", \n",
    "    \"auto_doppler\",  10 .^ range(0, 3, length = 344);\n",
    "    s1 = nothing, L = 0, kwargs...)\n",
    "\n",
    "GaPSE.print_map_ξ_GNC_multipole(COSMO, \n",
    "    PATH_TO_GAPSE * \"test/datatest/GNC_doppler_multipoles/xi_GNC_auto_doppler_L0_third.txt\", \n",
    "    \"auto_doppler\",  10 .^ range(0, 3, length = 344);\n",
    "    s1 = COSMO.s_eff - 65.0, L = 0, kwargs...)"
   ]
  },
  {
   "cell_type": "markdown",
   "id": "5404ce3b-d129-459f-bc6f-8f6bfec94509",
   "metadata": {
    "jp-MarkdownHeadingCollapsed": true,
    "tags": []
   },
   "source": [
    "## GNC_SumXiMultipoles specific ss"
   ]
  },
  {
   "cell_type": "code",
   "execution_count": 19,
   "id": "4a071a8e-5290-481d-99c0-737bb7b732c6",
   "metadata": {},
   "outputs": [
    {
     "name": "stderr",
     "output_type": "stream",
     "text": [
      "\u001b[32mauto_newton, L=0: 100%|█████████████████████████████████| Time: 0:00:00\u001b[39m\n",
      "\u001b[32mauto_doppler, L=0: 100%|████████████████████████████████| Time: 0:00:00\u001b[39m\n",
      "\u001b[32mauto_lensing, L=0: 100%|████████████████████████████████| Time: 0:00:04\u001b[39m\n",
      "\u001b[32mauto_localgp, L=0: 100%|████████████████████████████████| Time: 0:00:00\u001b[39m\n",
      "\u001b[32mauto_integratedgp, L=0: 100%|███████████████████████████| Time: 0:00:01\u001b[39m\n",
      "\u001b[32mnewton_doppler, L=0: 100%|██████████████████████████████| Time: 0:00:00\u001b[39m\n",
      "\u001b[32mdoppler_newton, L=0: 100%|██████████████████████████████| Time: 0:00:00\u001b[39m\n",
      "\u001b[32mnewton_lensing, L=0: 100%|██████████████████████████████| Time: 0:00:01\u001b[39m\n",
      "\u001b[32mlensing_newton, L=0: 100%|██████████████████████████████| Time: 0:00:00\u001b[39m\n",
      "\u001b[32mnewton_localgp, L=0: 100%|██████████████████████████████| Time: 0:00:00\u001b[39m\n",
      "\u001b[32mlocalgp_newton, L=0: 100%|██████████████████████████████| Time: 0:00:00\u001b[39m\n",
      "\u001b[32mnewton_integratedgp, L=0: 100%|█████████████████████████| Time: 0:00:00\u001b[39m\n",
      "\u001b[32mintegratedgp_newton, L=0: 100%|█████████████████████████| Time: 0:00:00\u001b[39m\n",
      "\u001b[32mlensing_doppler, L=0: 100%|█████████████████████████████| Time: 0:00:00\u001b[39m\n",
      "\u001b[32mdoppler_lensing, L=0: 100%|█████████████████████████████| Time: 0:00:00\u001b[39m\n",
      "\u001b[32mdoppler_localgp, L=0: 100%|█████████████████████████████| Time: 0:00:00\u001b[39m\n",
      "\u001b[32mlocalgp_doppler, L=0: 100%|█████████████████████████████| Time: 0:00:00\u001b[39m\n",
      "\u001b[32mdoppler_integratedgp, L=0: 100%|████████████████████████| Time: 0:00:01\u001b[39m\n",
      "\u001b[32mintegratedgp_doppler, L=0: 100%|████████████████████████| Time: 0:00:00\u001b[39m\n",
      "\u001b[32mlensing_localgp, L=0: 100%|█████████████████████████████| Time: 0:00:00\u001b[39m\n",
      "\u001b[32mlocalgp_lensing, L=0: 100%|█████████████████████████████| Time: 0:00:00\u001b[39m\n",
      "\u001b[32mlensing_integratedgp, L=0: 100%|████████████████████████| Time: 0:00:01\u001b[39m\n",
      "\u001b[32mintegratedgp_lensing, L=0: 100%|████████████████████████| Time: 0:00:00\u001b[39m\n",
      "\u001b[32mlocalgp_integratedgp, L=0: 100%|████████████████████████| Time: 0:00:00\u001b[39m\n",
      "\u001b[32mintegratedgp_localgp, L=0: 100%|████████████████████████| Time: 0:00:00\u001b[39m\n"
     ]
    },
    {
     "name": "stdout",
     "output_type": "stream",
     "text": [
      "\n",
      "time needed for map_sum_ξ_GNC_multipole [in s] = 22.68011 \n",
      "\n"
     ]
    }
   ],
   "source": [
    "kwargs = Dict(\n",
    "    :L => 0, :use_windows => false,\n",
    "    :enhancer => 1e8, :N_μs => 30,\n",
    "    :μ_atol => 0.0, :μ_rtol => 1e-2,\n",
    "    :N_χs => 100, :N_χs_2 => 50,\n",
    "    #:pr => false,\n",
    " )\n",
    "\n",
    "GaPSE.print_map_sum_ξ_GNC_multipole(COSMO, \n",
    "    PATH_TO_GAPSE * \"test/datatest/GNC_SumXiMultipoles/\"*\n",
    "    \"map_sum_xi_GNC_L0\" * \"_noF_specific_ss.txt\",\n",
    "    [10, 100, 500, 700, 1000]; \n",
    "    L=0, kwargs...)"
   ]
  },
  {
   "cell_type": "code",
   "execution_count": 20,
   "id": "77537416-b754-4fe4-b13f-262620cc53a3",
   "metadata": {},
   "outputs": [
    {
     "name": "stderr",
     "output_type": "stream",
     "text": [
      "\u001b[32mauto_lensing, L=0: 100%|████████████████████████████████| Time: 0:00:02\u001b[39m\n",
      "\u001b[32mauto_integratedgp, L=0: 100%|███████████████████████████| Time: 0:00:00\u001b[39m\n",
      "\u001b[32mnewton_doppler, L=0: 100%|██████████████████████████████| Time: 0:00:00\u001b[39m\n",
      "\u001b[32mnewton_lensing, L=0: 100%|██████████████████████████████| Time: 0:00:00\u001b[39m\n",
      "\u001b[32mlensing_newton, L=0: 100%|██████████████████████████████| Time: 0:00:00\u001b[39m\n",
      "\u001b[32mintegratedgp_newton, L=0: 100%|█████████████████████████| Time: 0:00:00\u001b[39m\n",
      "\u001b[32mlensing_doppler, L=0: 100%|█████████████████████████████| Time: 0:00:00\u001b[39m\n",
      "\u001b[32mdoppler_lensing, L=0: 100%|█████████████████████████████| Time: 0:00:00\u001b[39m\n",
      "\u001b[32mlocalgp_doppler, L=0: 100%|█████████████████████████████| Time: 0:00:00\u001b[39m\n",
      "\u001b[32mdoppler_integratedgp, L=0: 100%|████████████████████████| Time: 0:00:00\u001b[39m\n",
      "\u001b[32mintegratedgp_doppler, L=0: 100%|████████████████████████| Time: 0:00:00\u001b[39m\n",
      "\u001b[32mlensing_localgp, L=0: 100%|█████████████████████████████| Time: 0:00:00\u001b[39m\n",
      "\u001b[32mlocalgp_lensing, L=0: 100%|█████████████████████████████| Time: 0:00:00\u001b[39m\n",
      "\u001b[32mlensing_integratedgp, L=0: 100%|████████████████████████| Time: 0:00:00\u001b[39m\n",
      "\u001b[32mintegratedgp_lensing, L=0: 100%|████████████████████████| Time: 0:00:00\u001b[39m\n"
     ]
    },
    {
     "name": "stdout",
     "output_type": "stream",
     "text": [
      "\n",
      "time needed for map_sum_ξ_GNC_multipole [in s] = 7.54003 \n",
      "\n"
     ]
    }
   ],
   "source": [
    "kwargs = Dict(\n",
    "    :L => 0, :use_windows => true,\n",
    "    :enhancer => 1e8, :N_μs => 30,\n",
    "    :μ_atol => 0.0, :μ_rtol => 1e-2,\n",
    "    :N_χs => 100, :N_χs_2 => 50,\n",
    "    #:pr => false,\n",
    " )\n",
    "\n",
    "GaPSE.print_map_sum_ξ_GNC_multipole(COSMO, \n",
    "    PATH_TO_GAPSE * \"test/datatest/GNC_SumXiMultipoles/\"*\n",
    "    \"map_sum_xi_GNC_L0\" * \"_withF_specific_ss.txt\",\n",
    "    [10, 100, 500, 700, 1000]; \n",
    "    L=0, kwargs...)"
   ]
  },
  {
   "cell_type": "markdown",
   "id": "37763232-cde1-4dd1-b375-b88d4e49ce2b",
   "metadata": {
    "jp-MarkdownHeadingCollapsed": true,
    "tags": []
   },
   "source": [
    "## GNC_SumXiMultipoles all xis"
   ]
  },
  {
   "cell_type": "code",
   "execution_count": 21,
   "id": "67acd869-0fbe-440e-9d16-e31ffa617862",
   "metadata": {},
   "outputs": [
    {
     "name": "stderr",
     "output_type": "stream",
     "text": [
      "\u001b[32mauto_newton, L=0: 100%|█████████████████████████████████| Time: 0:00:00\u001b[39m\n",
      "\u001b[32mauto_lensing, L=0: 100%|████████████████████████████████| Time: 0:00:10\u001b[39m\n",
      "\u001b[32mauto_localgp, L=0: 100%|████████████████████████████████| Time: 0:00:00\u001b[39m\n",
      "\u001b[32mauto_integratedgp, L=0: 100%|███████████████████████████| Time: 0:00:01\u001b[39m\n",
      "\u001b[32mnewton_doppler, L=0: 100%|██████████████████████████████| Time: 0:00:00\u001b[39m\n",
      "\u001b[32mdoppler_newton, L=0: 100%|██████████████████████████████| Time: 0:00:00\u001b[39m\n",
      "\u001b[32mnewton_lensing, L=0: 100%|██████████████████████████████| Time: 0:00:03\u001b[39m\n",
      "\u001b[32mlensing_newton, L=0: 100%|██████████████████████████████| Time: 0:00:02\u001b[39m\n",
      "\u001b[32mnewton_localgp, L=0: 100%|██████████████████████████████| Time: 0:00:00\u001b[39m\n",
      "\u001b[32mlocalgp_newton, L=0: 100%|██████████████████████████████| Time: 0:00:00\u001b[39m\n",
      "\u001b[32mnewton_integratedgp, L=0: 100%|█████████████████████████| Time: 0:00:01\u001b[39m\n",
      "\u001b[32mintegratedgp_newton, L=0: 100%|█████████████████████████| Time: 0:00:01\u001b[39m\n",
      "\u001b[32mlensing_doppler, L=0: 100%|█████████████████████████████| Time: 0:00:01\u001b[39m\n",
      "\u001b[32mdoppler_lensing, L=0: 100%|█████████████████████████████| Time: 0:00:01\u001b[39m\n",
      "\u001b[32mdoppler_localgp, L=0: 100%|█████████████████████████████| Time: 0:00:00\u001b[39m\n",
      "\u001b[32mlocalgp_doppler, L=0: 100%|█████████████████████████████| Time: 0:00:00\u001b[39m\n",
      "\u001b[32mdoppler_integratedgp, L=0: 100%|████████████████████████| Time: 0:00:01\u001b[39m\n",
      "\u001b[32mintegratedgp_doppler, L=0: 100%|████████████████████████| Time: 0:00:01\u001b[39m\n",
      "\u001b[32mlensing_localgp, L=0: 100%|█████████████████████████████| Time: 0:00:01\u001b[39m\n",
      "\u001b[32mlocalgp_lensing, L=0: 100%|█████████████████████████████| Time: 0:00:01\u001b[39m\n",
      "\u001b[32mlensing_integratedgp, L=0: 100%|████████████████████████| Time: 0:00:01\u001b[39m\n",
      "\u001b[32mintegratedgp_lensing, L=0: 100%|████████████████████████| Time: 0:00:02\u001b[39m\n",
      "\u001b[32mlocalgp_integratedgp, L=0: 100%|████████████████████████| Time: 0:00:01\u001b[39m\n",
      "\u001b[32mintegratedgp_localgp, L=0: 100%|████████████████████████| Time: 0:00:01\u001b[39m\n"
     ]
    },
    {
     "name": "stdout",
     "output_type": "stream",
     "text": [
      "\n",
      "time needed for map_sum_ξ_GNC_multipole [in s] = 40.63923 \n",
      "\n"
     ]
    }
   ],
   "source": [
    "KWARGS_GNC = Dict(\n",
    "    :use_windows => false,\n",
    "    :enhancer => 1e8, :N_μs => 30,\n",
    "    :μ_atol => 0.0, :μ_rtol => 1e-2,\n",
    "    :N_χs => 100, :N_χs_2 => 30,\n",
    "    :N_log => 100,\n",
    "    #:pr => false,\n",
    " )\n",
    "\n",
    "GaPSE.print_map_sum_ξ_GNC_multipole(COSMO, \n",
    "    PATH_TO_GAPSE * \"test/datatest/GNC_SumXiMultipoles/\"*\n",
    "    \"map_sum_xi_GNC_L0\" * \"_noF.txt\",\n",
    "    10 .^ range(-1, 3, length = KWARGS_GNC[:N_log]); \n",
    "    L=0, KWARGS_GNC...)"
   ]
  },
  {
   "cell_type": "markdown",
   "id": "624caeb3-6e19-45a6-a367-9d08928c73dd",
   "metadata": {
    "jp-MarkdownHeadingCollapsed": true,
    "tags": []
   },
   "source": [
    "## GNCxLD_XiMultipoles and LDxGNC_XiMultipoles"
   ]
  },
  {
   "cell_type": "code",
   "execution_count": 22,
   "id": "db846711-19b9-446d-9fd0-3ab1d5254fda",
   "metadata": {},
   "outputs": [
    {
     "name": "stderr",
     "output_type": "stream",
     "text": [
      "\u001b[32mlocalgp_doppler, L=0: 100%|█████████████████████████████| Time: 0:00:01\u001b[39m\n",
      "\u001b[32mlocalgp_doppler, L=1: 100%|█████████████████████████████| Time: 0:00:00\u001b[39m\n",
      "\u001b[32mlocalgp_doppler, L=2: 100%|█████████████████████████████| Time: 0:00:00\u001b[39m\n",
      "\u001b[32mlocalgp_doppler, L=3: 100%|█████████████████████████████| Time: 0:00:00\u001b[39m\n",
      "\u001b[32mlocalgp_doppler, L=4: 100%|█████████████████████████████| Time: 0:00:00\u001b[39m\n"
     ]
    },
    {
     "name": "stdout",
     "output_type": "stream",
     "text": [
      "\n",
      "time needed for map_ξ_GNCxLD_multipole for localgp_doppler [in s] = 1.11618 \n",
      "\n",
      "\n",
      "time needed for map_ξ_GNCxLD_multipole for localgp_doppler [in s] = 0.12817 \n",
      "\n",
      "\n",
      "time needed for map_ξ_GNCxLD_multipole for localgp_doppler [in s] = 0.12516 \n",
      "\n",
      "\n",
      "time needed for map_ξ_GNCxLD_multipole for localgp_doppler [in s] = 0.14260 \n",
      "\n",
      "\n",
      "time needed for map_ξ_GNCxLD_multipole for localgp_doppler [in s] = 0.15099 \n",
      "\n"
     ]
    }
   ],
   "source": [
    "name_effect = \"localgp_doppler\"\n",
    "func_effect = GaPSE.ξ_GNCxLD_LocalGP_Doppler\n",
    "\n",
    "kwargs =  Dict(\n",
    "          :use_windows => false,\n",
    "          :enhancer => 1e8, :N_μs => 200,\n",
    "          :μ_atol => 0.0, :μ_rtol => 1e-2\n",
    "     )\n",
    "\n",
    "for L in [0,1,2,3,4]\n",
    "    GaPSE.print_map_ξ_GNCxLD_multipole(COSMO, \n",
    "        PATH_TO_GAPSE * \"test/datatest/GNCxLD_localgp_doppler_multipoles/xi_GNCxLD_\" * \n",
    "            name_effect * \"_L$L\" * \".txt\",\n",
    "        name_effect, \n",
    "        10 .^ range(-1, 3, length=300); \n",
    "        L=L, kwargs...)\n",
    "end"
   ]
  },
  {
   "cell_type": "code",
   "execution_count": 23,
   "id": "8420ca3b-ed85-48cf-bcd1-9eeb462440c3",
   "metadata": {},
   "outputs": [
    {
     "name": "stderr",
     "output_type": "stream",
     "text": [
      "\u001b[32mlocalgp_doppler, L=0: 100%|█████████████████████████████| Time: 0:00:00\u001b[39m\n"
     ]
    },
    {
     "name": "stdout",
     "output_type": "stream",
     "text": [
      "\n",
      "time needed for map_ξ_LDxGNC_multipole for localgp_doppler [in s] = 0.76666 \n",
      "\n",
      "\n",
      "time needed for map_ξ_LDxGNC_multipole for localgp_doppler [in s] = 0.07805 \n",
      "\n",
      "\n",
      "time needed for map_ξ_LDxGNC_multipole for localgp_doppler [in s] = 0.08125 \n",
      "\n",
      "\n",
      "time needed for map_ξ_LDxGNC_multipole for localgp_doppler [in s] = 0.07856 \n",
      "\n",
      "\n",
      "time needed for map_ξ_LDxGNC_multipole for localgp_doppler [in s] = 0.09307 \n",
      "\n"
     ]
    }
   ],
   "source": [
    "name_effect = \"localgp_doppler\"\n",
    "func_effect = GaPSE.ξ_LDxGNC_LocalGP_Doppler\n",
    "\n",
    "kwargs =  Dict(\n",
    "          :use_windows => false,\n",
    "          :enhancer => 1e8, :N_μs => 200,\n",
    "          :μ_atol => 0.0, :μ_rtol => 1e-2\n",
    "     )\n",
    "\n",
    "for L in [0,1,2,3,4]\n",
    "    GaPSE.print_map_ξ_LDxGNC_multipole(COSMO, \n",
    "        PATH_TO_GAPSE * \"test/datatest/GNCxLD_localgp_doppler_multipoles/xi_LDxGNC_\" * \n",
    "            name_effect * \"_L$L\" * \".txt\",\n",
    "        name_effect, \n",
    "        10 .^ range(-1, 3, length=300); \n",
    "        L=L, kwargs...)\n",
    "end"
   ]
  },
  {
   "cell_type": "code",
   "execution_count": 24,
   "id": "2e0d769b-ce51-4744-9da6-fd4a617c2404",
   "metadata": {},
   "outputs": [],
   "source": [
    "name_effect = \"localgp_doppler\"\n",
    "\n",
    "kwargs = Dict(\n",
    "          :use_windows => false,\n",
    "          :pr => false,\n",
    "          :enhancer => 1e8, :N_μs => 30,\n",
    "          :μ_atol => 0.0, :μ_rtol => 1e-2,\n",
    "          :N_log => 1000\n",
    "     )\n",
    "\n",
    "GaPSE.print_map_ξ_GNCxLD_multipole(COSMO, \n",
    "    PATH_TO_GAPSE * \"test/datatest/GNCxLD_localgp_doppler_multipoles/xi_GNCxLD_\"*name_effect*\"_L0_first.txt\", \n",
    "    name_effect ,  nothing;\n",
    "    s1 = nothing, L = 0, kwargs...)\n",
    "\n",
    "GaPSE.print_map_ξ_GNCxLD_multipole(COSMO, \n",
    "    PATH_TO_GAPSE * \"test/datatest/GNCxLD_localgp_doppler_multipoles/xi_GNCxLD_\"*name_effect*\"_L0_second.txt\", \n",
    "    name_effect ,  10 .^ range(0, 3, length = 344);\n",
    "    s1 = nothing, L = 0, kwargs...)\n",
    "\n",
    "GaPSE.print_map_ξ_GNCxLD_multipole(COSMO, \n",
    "    PATH_TO_GAPSE * \"test/datatest/GNCxLD_localgp_doppler_multipoles/xi_GNCxLD_\"*name_effect*\"_L0_third.txt\", \n",
    "    name_effect ,  10 .^ range(0, 3, length = 344);\n",
    "    s1 = COSMO.s_eff - 65.0, L = 0, kwargs...)"
   ]
  },
  {
   "cell_type": "code",
   "execution_count": 25,
   "id": "e6df8d60-8890-49f0-84f2-98cbcf12d9bf",
   "metadata": {},
   "outputs": [],
   "source": [
    "name_effect = \"localgp_doppler\"\n",
    "\n",
    "kwargs = Dict(\n",
    "          :use_windows => false,\n",
    "          :pr => false,\n",
    "          :enhancer => 1e8, :N_μs => 30,\n",
    "          :μ_atol => 0.0, :μ_rtol => 1e-2,\n",
    "          :N_log => 1000\n",
    "     )\n",
    "\n",
    "GaPSE.print_map_ξ_LDxGNC_multipole(COSMO, \n",
    "    PATH_TO_GAPSE * \"test/datatest/GNCxLD_localgp_doppler_multipoles/xi_LDxGNC_\"*name_effect*\"_L0_first.txt\", \n",
    "    name_effect ,  nothing;\n",
    "    s1 = nothing, L = 0, kwargs...)\n",
    "\n",
    "GaPSE.print_map_ξ_LDxGNC_multipole(COSMO, \n",
    "    PATH_TO_GAPSE * \"test/datatest/GNCxLD_localgp_doppler_multipoles/xi_LDxGNC_\"*name_effect*\"_L0_second.txt\", \n",
    "    name_effect ,  10 .^ range(0, 3, length = 344);\n",
    "    s1 = nothing, L = 0, kwargs...)\n",
    "\n",
    "GaPSE.print_map_ξ_LDxGNC_multipole(COSMO, \n",
    "    PATH_TO_GAPSE * \"test/datatest/GNCxLD_localgp_doppler_multipoles/xi_LDxGNC_\"*name_effect*\"_L0_third.txt\", \n",
    "    name_effect ,  10 .^ range(0, 3, length = 344);\n",
    "    s1 = COSMO.s_eff - 65.0, L = 0, kwargs...)"
   ]
  },
  {
   "cell_type": "markdown",
   "id": "40ed072a-57c4-46af-b373-fe9184f33c75",
   "metadata": {
    "jp-MarkdownHeadingCollapsed": true,
    "tags": []
   },
   "source": [
    "## GNCxLD_SumXiMultipoles and LDxGNC_SumXiMultipoles specific ss"
   ]
  },
  {
   "cell_type": "code",
   "execution_count": 26,
   "id": "c0eb1f3b-e3a8-40f2-b8cc-99115b7b3cfe",
   "metadata": {},
   "outputs": [
    {
     "name": "stderr",
     "output_type": "stream",
     "text": [
      "\u001b[32mnewton_doppler, L=0: 100%|██████████████████████████████| Time: 0:00:00\u001b[39m\n",
      "\u001b[32mnewton_lensing, L=0: 100%|██████████████████████████████| Time: 0:00:01\u001b[39m\n",
      "\u001b[32mnewton_localgp, L=0: 100%|██████████████████████████████| Time: 0:00:00\u001b[39m\n",
      "\u001b[32mnewton_integratedgp, L=0: 100%|█████████████████████████| Time: 0:00:01\u001b[39m\n",
      "\u001b[32mdoppler_doppler, L=0: 100%|█████████████████████████████| Time: 0:00:00\u001b[39m\n",
      "\u001b[32mdoppler_lensing, L=0: 100%|█████████████████████████████| Time: 0:00:00\u001b[39m\n",
      "\u001b[32mdoppler_localgp, L=0: 100%|█████████████████████████████| Time: 0:00:00\u001b[39m\n",
      "\u001b[32mdoppler_integratedgp, L=0: 100%|████████████████████████| Time: 0:00:00\u001b[39m\n",
      "\u001b[32mlensing_doppler, L=0: 100%|█████████████████████████████| Time: 0:00:00\u001b[39m\n",
      "\u001b[32mlensing_lensing, L=0: 100%|█████████████████████████████| Time: 0:00:04\u001b[39m\n",
      "\u001b[32mlensing_localgp, L=0: 100%|█████████████████████████████| Time: 0:00:01\u001b[39m\n",
      "\u001b[32mlensing_integratedgp, L=0: 100%|████████████████████████| Time: 0:00:01\u001b[39m\n",
      "\u001b[32mlocalgp_doppler, L=0: 100%|█████████████████████████████| Time: 0:00:00\u001b[39m\n",
      "\u001b[32mlocalgp_lensing, L=0: 100%|█████████████████████████████| Time: 0:00:00\u001b[39m\n",
      "\u001b[32mlocalgp_localgp, L=0: 100%|█████████████████████████████| Time: 0:00:00\u001b[39m\n",
      "\u001b[32mlocalgp_integratedgp, L=0: 100%|████████████████████████| Time: 0:00:00\u001b[39m\n",
      "\u001b[32mintegratedgp_doppler, L=0: 100%|████████████████████████| Time: 0:00:00\u001b[39m\n",
      "\u001b[32mintegratedgp_lensing, L=0: 100%|████████████████████████| Time: 0:00:01\u001b[39m\n",
      "\u001b[32mintegratedgp_localgp, L=0: 100%|████████████████████████| Time: 0:00:00\u001b[39m\n",
      "\u001b[32mintegratedgp_integratedgp, L=0: 100%|███████████████████| Time: 0:00:01\u001b[39m\n"
     ]
    },
    {
     "name": "stdout",
     "output_type": "stream",
     "text": [
      "\n",
      "time needed for map_sum_ξ_GNCxLD_multipole [in s] = 22.08606 \n",
      "\n"
     ]
    }
   ],
   "source": [
    "kwargs = Dict(\n",
    "    :L => 0, :use_windows => false,\n",
    "    :enhancer => 1e8, :N_μs => 30,\n",
    "    :μ_atol => 0.0, :μ_rtol => 1e-2,\n",
    "    :N_χs => 100, :N_χs_2 => 50,\n",
    "    #:pr => false,\n",
    " )\n",
    "\n",
    "GaPSE.print_map_sum_ξ_GNCxLD_multipole(COSMO, \n",
    "    PATH_TO_GAPSE * \"test/datatest/GNCxLD_SumXiMultipoles/\"*\n",
    "    \"map_sum_xi_GNCxLD_L0_noF_specific_ss.txt\",\n",
    "    [10, 100, 500, 700, 1000]; \n",
    "    L=0, kwargs...)"
   ]
  },
  {
   "cell_type": "code",
   "execution_count": 27,
   "id": "bf7ecbee-5d44-44f4-aca1-01b141193346",
   "metadata": {},
   "outputs": [
    {
     "name": "stderr",
     "output_type": "stream",
     "text": [
      "\u001b[32mdoppler_newton, L=0: 100%|██████████████████████████████| Time: 0:00:00\u001b[39m\n",
      "\u001b[32mlensing_newton, L=0: 100%|██████████████████████████████| Time: 0:00:01\u001b[39m\n",
      "\u001b[32mlocalgp_newton, L=0: 100%|██████████████████████████████| Time: 0:00:00\u001b[39m\n",
      "\u001b[32mintegratedgp_newton, L=0: 100%|█████████████████████████| Time: 0:00:00\u001b[39m\n",
      "\u001b[32mdoppler_doppler, L=0: 100%|█████████████████████████████| Time: 0:00:00\u001b[39m\n",
      "\u001b[32mlensing_doppler, L=0: 100%|█████████████████████████████| Time: 0:00:00\u001b[39m\n",
      "\u001b[32mlocalgp_doppler, L=0: 100%|█████████████████████████████| Time: 0:00:00\u001b[39m\n",
      "\u001b[32mintegratedgp_doppler, L=0: 100%|████████████████████████| Time: 0:00:00\u001b[39m\n",
      "\u001b[32mdoppler_lensing, L=0: 100%|█████████████████████████████| Time: 0:00:00\u001b[39m\n",
      "\u001b[32mlensing_lensing, L=0: 100%|█████████████████████████████| Time: 0:00:04\u001b[39m\n",
      "\u001b[32mlocalgp_lensing, L=0: 100%|█████████████████████████████| Time: 0:00:00\u001b[39m\n",
      "\u001b[32mintegratedgp_lensing, L=0: 100%|████████████████████████| Time: 0:00:01\u001b[39m\n",
      "\u001b[32mdoppler_localgp, L=0: 100%|█████████████████████████████| Time: 0:00:00\u001b[39m\n",
      "\u001b[32mlensing_localgp, L=0: 100%|█████████████████████████████| Time: 0:00:00\u001b[39m\n",
      "\u001b[32mlocalgp_localgp, L=0: 100%|█████████████████████████████| Time: 0:00:00\u001b[39m\n",
      "\u001b[32mintegratedgp_localgp, L=0: 100%|████████████████████████| Time: 0:00:00\u001b[39m\n",
      "\u001b[32mdoppler_integratedgp, L=0: 100%|████████████████████████| Time: 0:00:00\u001b[39m\n",
      "\u001b[32mlensing_integratedgp, L=0: 100%|████████████████████████| Time: 0:00:00\u001b[39m\n",
      "\u001b[32mlocalgp_integratedgp, L=0: 100%|████████████████████████| Time: 0:00:00\u001b[39m\n",
      "\u001b[32mintegratedgp_integratedgp, L=0: 100%|███████████████████| Time: 0:00:01\u001b[39m\n"
     ]
    },
    {
     "name": "stdout",
     "output_type": "stream",
     "text": [
      "\n",
      "time needed for map_sum_ξ_LDxGNC_multipole [in s] = 20.31113 \n",
      "\n"
     ]
    }
   ],
   "source": [
    "kwargs = Dict(\n",
    "    :L => 0, :use_windows => false,\n",
    "    :enhancer => 1e8, :N_μs => 30,\n",
    "    :μ_atol => 0.0, :μ_rtol => 1e-2,\n",
    "    :N_χs => 100, :N_χs_2 => 50,\n",
    "    #:pr => false,\n",
    " )\n",
    "\n",
    "GaPSE.print_map_sum_ξ_LDxGNC_multipole(COSMO, \n",
    "    PATH_TO_GAPSE * \"test/datatest/GNCxLD_SumXiMultipoles/\"*\n",
    "    \"map_sum_xi_LDxGNC_L0_noF_specific_ss.txt\",\n",
    "    [10, 100, 500, 700, 1000]; \n",
    "    L=0, kwargs...)"
   ]
  },
  {
   "cell_type": "code",
   "execution_count": 28,
   "id": "cde21bc3-0777-4daf-91c4-8153473dc3c7",
   "metadata": {},
   "outputs": [
    {
     "name": "stderr",
     "output_type": "stream",
     "text": [
      "\u001b[32mnewton_doppler, L=0: 100%|██████████████████████████████| Time: 0:00:00\u001b[39m\n",
      "\u001b[32mnewton_lensing, L=0: 100%|██████████████████████████████| Time: 0:00:00\u001b[39m\n",
      "\u001b[32mnewton_integratedgp, L=0: 100%|█████████████████████████| Time: 0:00:00\u001b[39m\n",
      "\u001b[32mdoppler_lensing, L=0: 100%|█████████████████████████████| Time: 0:00:00\u001b[39m\n",
      "\u001b[32mlensing_lensing, L=0: 100%|█████████████████████████████| Time: 0:00:02\u001b[39m\n",
      "\u001b[32mlensing_localgp, L=0: 100%|█████████████████████████████| Time: 0:00:00\u001b[39m\n",
      "\u001b[32mlensing_integratedgp, L=0: 100%|████████████████████████| Time: 0:00:01\u001b[39m\n",
      "\u001b[32mlocalgp_doppler, L=0: 100%|█████████████████████████████| Time: 0:00:00\u001b[39m\n",
      "\u001b[32mlocalgp_lensing, L=0: 100%|█████████████████████████████| Time: 0:00:00\u001b[39m\n",
      "\u001b[32mintegratedgp_lensing, L=0: 100%|████████████████████████| Time: 0:00:00\u001b[39m\n",
      "\u001b[32mintegratedgp_localgp, L=0: 100%|████████████████████████| Time: 0:00:00\u001b[39m\n",
      "\u001b[32mintegratedgp_integratedgp, L=0: 100%|███████████████████| Time: 0:00:00\u001b[39m\n"
     ]
    },
    {
     "name": "stdout",
     "output_type": "stream",
     "text": [
      "\n",
      "time needed for map_sum_ξ_GNCxLD_multipole [in s] = 7.31077 \n",
      "\n"
     ]
    }
   ],
   "source": [
    "kwargs = Dict(\n",
    "    :L => 0, :use_windows => true,\n",
    "    :enhancer => 1e8, :N_μs => 30,\n",
    "    :μ_atol => 0.0, :μ_rtol => 1e-2,\n",
    "    :N_χs => 100, :N_χs_2 => 50,\n",
    "    #:pr => false,\n",
    " )\n",
    "\n",
    "GaPSE.print_map_sum_ξ_GNCxLD_multipole(COSMO, \n",
    "    PATH_TO_GAPSE * \"test/datatest/GNCxLD_SumXiMultipoles/\"*\n",
    "    \"map_sum_xi_GNCxLD_L0_withF_specific_ss.txt\",\n",
    "    [10, 100, 500, 700, 1000]; \n",
    "    L=0, kwargs...)"
   ]
  },
  {
   "cell_type": "code",
   "execution_count": 29,
   "id": "1612283d-d8fa-4eda-a733-cc12d903799c",
   "metadata": {},
   "outputs": [
    {
     "name": "stderr",
     "output_type": "stream",
     "text": [
      "\u001b[32mlensing_newton, L=0: 100%|██████████████████████████████| Time: 0:00:00\u001b[39m\n",
      "\u001b[32mintegratedgp_newton, L=0: 100%|█████████████████████████| Time: 0:00:00\u001b[39m\n",
      "\u001b[32mlocalgp_doppler, L=0: 100%|█████████████████████████████| Time: 0:00:00\u001b[39m\n",
      "\u001b[32mdoppler_lensing, L=0: 100%|█████████████████████████████| Time: 0:00:00\u001b[39m\n",
      "\u001b[32mlensing_lensing, L=0: 100%|█████████████████████████████| Time: 0:00:02\u001b[39m\n",
      "\u001b[32mintegratedgp_lensing, L=0: 100%|████████████████████████| Time: 0:00:00\u001b[39m\n",
      "\u001b[32mlensing_localgp, L=0: 100%|█████████████████████████████| Time: 0:00:00\u001b[39m\n",
      "\u001b[32mintegratedgp_localgp, L=0: 100%|████████████████████████| Time: 0:00:00\u001b[39m\n",
      "\u001b[32mlensing_integratedgp, L=0: 100%|████████████████████████| Time: 0:00:00\u001b[39m\n",
      "\u001b[32mintegratedgp_integratedgp, L=0: 100%|███████████████████| Time: 0:00:00\u001b[39m\n"
     ]
    },
    {
     "name": "stdout",
     "output_type": "stream",
     "text": [
      "\n",
      "time needed for map_sum_ξ_LDxGNC_multipole [in s] = 6.48785 \n",
      "\n"
     ]
    }
   ],
   "source": [
    "kwargs = Dict(\n",
    "    :L => 0, :use_windows => true,\n",
    "    :enhancer => 1e8, :N_μs => 30,\n",
    "    :μ_atol => 0.0, :μ_rtol => 1e-2,\n",
    "    :N_χs => 100, :N_χs_2 => 50,\n",
    "    #:pr => false,\n",
    " )\n",
    "\n",
    "GaPSE.print_map_sum_ξ_LDxGNC_multipole(COSMO, \n",
    "    PATH_TO_GAPSE * \"test/datatest/GNCxLD_SumXiMultipoles/\"*\n",
    "    \"map_sum_xi_LDxGNC_L0_withF_specific_ss.txt\",\n",
    "    [10, 100, 500, 700, 1000]; \n",
    "    L=0, kwargs...)"
   ]
  },
  {
   "cell_type": "markdown",
   "id": "1f89b77a-e569-4ff2-b28d-5565e9259cfc",
   "metadata": {
    "jp-MarkdownHeadingCollapsed": true,
    "tags": []
   },
   "source": [
    "## GNCxLD_SumXiMultipoles and LDxGNC_SumXiMultipoles all xis"
   ]
  },
  {
   "cell_type": "code",
   "execution_count": 30,
   "id": "5e37fe36-4d24-4478-a82c-46ada3a33eb2",
   "metadata": {},
   "outputs": [
    {
     "name": "stderr",
     "output_type": "stream",
     "text": [
      "\u001b[32mnewton_doppler, L=0: 100%|██████████████████████████████| Time: 0:00:00\u001b[39m\n",
      "\u001b[32mnewton_lensing, L=0: 100%|██████████████████████████████| Time: 0:00:03\u001b[39m\n",
      "\u001b[32mnewton_localgp, L=0: 100%|██████████████████████████████| Time: 0:00:00\u001b[39m\n",
      "\u001b[32mnewton_integratedgp, L=0: 100%|█████████████████████████| Time: 0:00:01\u001b[39m\n",
      "\u001b[32mdoppler_doppler, L=0: 100%|█████████████████████████████| Time: 0:00:00\u001b[39m\n",
      "\u001b[32mdoppler_lensing, L=0: 100%|█████████████████████████████| Time: 0:00:01\u001b[39m\n",
      "\u001b[32mdoppler_localgp, L=0: 100%|█████████████████████████████| Time: 0:00:00\u001b[39m\n",
      "\u001b[32mdoppler_integratedgp, L=0: 100%|████████████████████████| Time: 0:00:01\u001b[39m\n",
      "\u001b[32mlensing_doppler, L=0: 100%|█████████████████████████████| Time: 0:00:01\u001b[39m\n",
      "\u001b[32mlensing_lensing, L=0: 100%|█████████████████████████████| Time: 0:00:12\u001b[39m\n",
      "\u001b[32mlensing_localgp, L=0: 100%|█████████████████████████████| Time: 0:00:01\u001b[39m\n",
      "\u001b[32mlensing_integratedgp, L=0: 100%|████████████████████████| Time: 0:00:02\u001b[39m\n",
      "\u001b[32mlocalgp_lensing, L=0: 100%|█████████████████████████████| Time: 0:00:01\u001b[39m\n",
      "\u001b[32mlocalgp_localgp, L=0: 100%|█████████████████████████████| Time: 0:00:00\u001b[39m\n",
      "\u001b[32mlocalgp_integratedgp, L=0: 100%|████████████████████████| Time: 0:00:00\u001b[39m\n",
      "\u001b[32mintegratedgp_doppler, L=0: 100%|████████████████████████| Time: 0:00:01\u001b[39m\n",
      "\u001b[32mintegratedgp_lensing, L=0: 100%|████████████████████████| Time: 0:00:02\u001b[39m\n",
      "\u001b[32mintegratedgp_localgp, L=0: 100%|████████████████████████| Time: 0:00:01\u001b[39m\n",
      "\u001b[32mintegratedgp_integratedgp, L=0: 100%|███████████████████| Time: 0:00:01\u001b[39m\n"
     ]
    },
    {
     "name": "stdout",
     "output_type": "stream",
     "text": [
      "\n",
      "time needed for map_sum_ξ_GNCxLD_multipole [in s] = 38.53362 \n",
      "\n"
     ]
    }
   ],
   "source": [
    "KWARGS_GNCxLD = Dict(\n",
    "    :use_windows => false,\n",
    "    :enhancer => 1e8, :N_μs => 30,\n",
    "    :μ_atol => 0.0, :μ_rtol => 1e-2,\n",
    "    :N_χs => 100, :N_χs_2 => 30,\n",
    "    :N_log => 100,\n",
    "    #:pr => false,\n",
    " )\n",
    "\n",
    "GaPSE.print_map_sum_ξ_GNCxLD_multipole(COSMO, \n",
    "    PATH_TO_GAPSE * \"test/datatest/GNCxLD_SumXiMultipoles/\"*\n",
    "    \"map_sum_xi_GNCxLD_L0_noF.txt\",\n",
    "    10 .^ range(-1, 3, length = KWARGS_GNCxLD[:N_log]); \n",
    "    L=0, KWARGS_GNCxLD...)"
   ]
  },
  {
   "cell_type": "code",
   "execution_count": 31,
   "id": "c9d0393d-e4f5-48d8-8904-92d11080be3d",
   "metadata": {},
   "outputs": [
    {
     "name": "stderr",
     "output_type": "stream",
     "text": [
      "\u001b[32mdoppler_newton, L=0: 100%|██████████████████████████████| Time: 0:00:00\u001b[39m\n",
      "\u001b[32mlensing_newton, L=0: 100%|██████████████████████████████| Time: 0:00:02\u001b[39m\n",
      "\u001b[32mlocalgp_newton, L=0: 100%|██████████████████████████████| Time: 0:00:00\u001b[39m\n",
      "\u001b[32mintegratedgp_newton, L=0: 100%|█████████████████████████| Time: 0:00:01\u001b[39m\n",
      "\u001b[32mdoppler_doppler, L=0: 100%|█████████████████████████████| Time: 0:00:00\u001b[39m\n",
      "\u001b[32mlensing_doppler, L=0: 100%|█████████████████████████████| Time: 0:00:02\u001b[39m\n",
      "\u001b[32mintegratedgp_doppler, L=0: 100%|████████████████████████| Time: 0:00:01\u001b[39m\n",
      "\u001b[32mdoppler_lensing, L=0: 100%|█████████████████████████████| Time: 0:00:01\u001b[39m\n",
      "\u001b[32mlensing_lensing, L=0: 100%|█████████████████████████████| Time: 0:00:11\u001b[39m\n",
      "\u001b[32mlocalgp_lensing, L=0: 100%|█████████████████████████████| Time: 0:00:01\u001b[39m\n",
      "\u001b[32mintegratedgp_lensing, L=0: 100%|████████████████████████| Time: 0:00:02\u001b[39m\n",
      "\u001b[32mdoppler_localgp, L=0: 100%|█████████████████████████████| Time: 0:00:00\u001b[39m\n",
      "\u001b[32mlensing_localgp, L=0: 100%|█████████████████████████████| Time: 0:00:01\u001b[39m\n",
      "\u001b[32mlocalgp_localgp, L=0: 100%|█████████████████████████████| Time: 0:00:00\u001b[39m\n",
      "\u001b[32mintegratedgp_localgp, L=0: 100%|████████████████████████| Time: 0:00:01\u001b[39m\n",
      "\u001b[32mdoppler_integratedgp, L=0: 100%|████████████████████████| Time: 0:00:00\u001b[39m\n",
      "\u001b[32mlensing_integratedgp, L=0: 100%|████████████████████████| Time: 0:00:01\u001b[39m\n",
      "\u001b[32mlocalgp_integratedgp, L=0: 100%|████████████████████████| Time: 0:00:01\u001b[39m\n",
      "\u001b[32mintegratedgp_integratedgp, L=0: 100%|███████████████████| Time: 0:00:01\u001b[39m\n"
     ]
    },
    {
     "name": "stdout",
     "output_type": "stream",
     "text": [
      "\n",
      "time needed for map_sum_ξ_LDxGNC_multipole [in s] = 36.44196 \n",
      "\n"
     ]
    }
   ],
   "source": [
    "KWARGS_LDxGNC = Dict(\n",
    "    :use_windows => false,\n",
    "    :enhancer => 1e8, :N_μs => 30,\n",
    "    :μ_atol => 0.0, :μ_rtol => 1e-2,\n",
    "    :N_χs => 100, :N_χs_2 => 30,\n",
    "    :N_log => 100,\n",
    "    #:pr => false,\n",
    " )\n",
    "\n",
    "GaPSE.print_map_sum_ξ_LDxGNC_multipole(COSMO, \n",
    "    PATH_TO_GAPSE * \"test/datatest/GNCxLD_SumXiMultipoles/\"*\n",
    "    \"map_sum_xi_LDxGNC_L0_noF.txt\",\n",
    "    10 .^ range(-1, 3, length = KWARGS_LDxGNC[:N_log]); \n",
    "    L=0, KWARGS_LDxGNC...)"
   ]
  },
  {
   "cell_type": "markdown",
   "id": "6e8072b9-e87b-4deb-95cc-3b3bd35f6636",
   "metadata": {
    "jp-MarkdownHeadingCollapsed": true,
    "tags": []
   },
   "source": [
    "## Power Spectra"
   ]
  },
  {
   "cell_type": "code",
   "execution_count": null,
   "id": "d81e1c20-2bf0-45ec-b856-45bc51f36841",
   "metadata": {},
   "outputs": [],
   "source": [
    "kwargs_xis = Dict(\n",
    "     :pr => true,\n",
    "     :enhancer => 1e8, :N_μs => 30,\n",
    "     :μ_atol => 0.0, :μ_rtol => 1e-2,\n",
    "     :N_log => 100, :s1 => nothing,\n",
    ");\n",
    "common = PATH_TO_GAPSE * \"test/datatest/Power_Spectrum/\"\n",
    "\n",
    "GaPSE.print_map_ξ_LD_multipole(COSMO,\n",
    "    common*\"xi_LD_auto_doppler_noF_L0.txt\", \n",
    "    \"auto_doppler\", 10 .^ range(0,3,length=300); \n",
    "    use_windows = false, L = 0, kwargs_xis...);\n",
    "GaPSE.print_map_ξ_LD_multipole(COSMO,\n",
    "    common*\"xi_LD_auto_doppler_noF_L2.txt\", \n",
    "    \"auto_doppler\", 10 .^ range(0,3,length=300); \n",
    "    use_windows = false, L = 2, kwargs_xis...);\n",
    "\n",
    "GaPSE.print_map_ξ_LD_multipole(COSMO,\n",
    "    common*\"xi_LD_auto_doppler_withF_L0.txt\", \n",
    "    \"auto_doppler\", 10 .^ range(0,3,length=300); \n",
    "    use_windows = true, L = 0, kwargs_xis...);\n",
    "GaPSE.print_map_ξ_LD_multipole(COSMO,\n",
    "    common*\"xi_LD_auto_doppler_withF_L2.txt\", \n",
    "    \"auto_doppler\", 10 .^ range(0,3,length=300); \n",
    "    use_windows = true, L = 2, kwargs_xis...);"
   ]
  },
  {
   "cell_type": "code",
   "execution_count": null,
   "id": "2dbb0f1d-42cc-43f0-b229-b9e309e05256",
   "metadata": {},
   "outputs": [
    {
     "name": "stdout",
     "output_type": "stream",
     "text": [
      "\n",
      "I'm computing the PS_multipole from the file \"../test/datatest/Power_Spectrum/xi_LD_auto_doppler_noF_L0.txt\" \n",
      "\n",
      "time needed for this Power Spectrum computation [in s] = 0.13473296165466309\n",
      "\n",
      "\n",
      "I'm computing the PS_multipole from the file \"../test/datatest/Power_Spectrum/xi_LD_auto_doppler_noF_L2.txt\" \n",
      "\n",
      "time needed for this Power Spectrum computation [in s] = 0.0005230903625488281\n",
      "\n",
      "\n",
      "I'm computing the PS_multipole from the file \"../test/datatest/Power_Spectrum/xi_LD_auto_doppler_withF_L0.txt\" \n",
      "\n",
      "time needed for this Power Spectrum computation [in s] = 0.0011341571807861328\n",
      "\n",
      "\n",
      "I'm computing the PS_multipole from the file \"../test/datatest/Power_Spectrum/xi_LD_auto_doppler_withF_L2.txt\" \n",
      "\n",
      "time needed for this Power Spectrum computation [in s] = 0.0006229877471923828\n",
      "\n"
     ]
    }
   ],
   "source": [
    "kwargs = Dict(:epl=>true, :pr=>true,\n",
    "     :N_left=>12, :N_right=>12,\n",
    "     :p0_left=>[-2.0, 1.0], :p0_right=>[-2.0, 1.0],\n",
    "    :N => 300, :int_s_min => 1e-4, :int_s_max => 1e4)\n",
    "common = PATH_TO_GAPSE * \"test/datatest/Power_Spectrum/\"\n",
    "\n",
    "GaPSE.print_PS_multipole(common*\"xi_LD_auto_doppler_noF_L0.txt\", \n",
    "    common*\"ps_LD_auto_doppler_noF_L0.txt\"; L=0, kwargs...);\n",
    "GaPSE.print_PS_multipole(common*\"xi_LD_auto_doppler_noF_L2.txt\", \n",
    "    common*\"ps_LD_auto_doppler_noF_L2.txt\"; L=2, kwargs...);\n",
    "\n",
    "GaPSE.print_PS_multipole(common*\"xi_LD_auto_doppler_withF_L0.txt\",  \n",
    "    common*\"ps_LD_auto_doppler_withF_L0.txt\"; L=0, kwargs...);\n",
    "GaPSE.print_PS_multipole(common*\"xi_LD_auto_doppler_withF_L2.txt\", \n",
    "    common*\"ps_LD_auto_doppler_withF_L2.txt\"; L=2, kwargs...);"
   ]
  },
  {
   "cell_type": "code",
   "execution_count": 34,
   "id": "95278ac1-5718-4343-bb1f-253762593c13",
   "metadata": {},
   "outputs": [],
   "source": [
    "KWARGS_XIS = Dict(\n",
    "    :use_windows => false,\n",
    "    :enhancer => 1e8, :N_μs => 30,\n",
    "    :μ_atol => 0.0, :μ_rtol => 1e-2,\n",
    "    :N_χs => 100, :N_χs_2 => 30,\n",
    "    :N_log => 300, #:trap => false,\n",
    "    :pr => true,\n",
    " );"
   ]
  },
  {
   "cell_type": "code",
   "execution_count": 35,
   "id": "e050036c-4eae-45db-8a17-9b4bc87ea335",
   "metadata": {},
   "outputs": [],
   "source": [
    "#=\n",
    "GaPSE.print_map_sum_ξ_LD_multipole(COSMO, \n",
    "    PATH_TO_GAPSE * \"test/datatest/Power_Spectrum/\"*\n",
    "    \"map_sum_xi_LD_L0\" * \"_noF.txt\",\n",
    "    10 .^ range(0, 3, length = KWARGS_XIS[:N_log]); \n",
    "    L=0, KWARGS_XIS...)\n",
    "=#"
   ]
  },
  {
   "cell_type": "code",
   "execution_count": 36,
   "id": "bd81bd5f-2a24-4fe3-a4ad-f394aae091da",
   "metadata": {},
   "outputs": [],
   "source": [
    "#=\n",
    "GaPSE.print_map_sum_ξ_GNC_multipole(COSMO, \n",
    "    PATH_TO_GAPSE * \"test/datatest/Power_Spectrum/\"*\n",
    "    \"map_sum_xi_GNC_L0_noF.txt\",\n",
    "    10 .^ range(0, 3, length = KWARGS_XIS[:N_log]); \n",
    "    L=0, KWARGS_XIS...)\n",
    "=#"
   ]
  },
  {
   "cell_type": "code",
   "execution_count": 37,
   "id": "05b5f52c-297d-456e-8d3d-34331a036dfa",
   "metadata": {},
   "outputs": [],
   "source": [
    "#=\n",
    "GaPSE.print_map_sum_ξ_GNCxLD_multipole(COSMO, \n",
    "    PATH_TO_GAPSE * \"test/datatest/Power_Spectrum/\"*\n",
    "    \"map_sum_xi_GNCxLD_L0_noF.txt\",\n",
    "    10 .^ range(0, 3, length = KWARGS_XIS[:N_log]); \n",
    "    L=0, KWARGS_XIS...)\n",
    "=#"
   ]
  },
  {
   "cell_type": "code",
   "execution_count": 38,
   "id": "1ac8d06f-6ca6-415d-b274-dcf15d8793f9",
   "metadata": {},
   "outputs": [],
   "source": [
    "#=\n",
    "GaPSE.print_map_sum_ξ_LDxGNC_multipole(COSMO, \n",
    "    PATH_TO_GAPSE * \"test/datatest/Power_Spectrum/\"*\n",
    "    \"map_sum_xi_LDxGNC_L0_noF.txt\",\n",
    "    10 .^ range(0, 3, length = KWARGS_XIS[:N_log]); \n",
    "    L=0, KWARGS_XIS...)\n",
    "=#"
   ]
  },
  {
   "cell_type": "code",
   "execution_count": 39,
   "id": "9997ee65-c321-44cd-828b-7d2f59011bb7",
   "metadata": {},
   "outputs": [
    {
     "name": "stderr",
     "output_type": "stream",
     "text": [
      "\u001b[32mLD GR effects, L=0: 100%|███████████████████████████████| Time: 0:00:00\u001b[39m\n"
     ]
    },
    {
     "name": "stdout",
     "output_type": "stream",
     "text": [
      "\n",
      "I'm computing the PS_multipole from the file \"../test/datatest/Power_Spectrum/map_sum_xi_LD_L0_noF.txt\"for the Luminosity Distance perturbations.\n",
      "\n",
      "time needed for all the Power Spectra computation [in s] = 0.6138501167297363\n",
      "\n",
      "\n",
      "I'm computing the PS_multipole from the file \"../test/datatest/Power_Spectrum/map_sum_xi_GNC_L0_noF.txt\"for the Galaxy Number Counts.\n",
      "\n",
      "time needed for all the Power Spectra computation [in s] = 0.06734800338745117\n",
      "\n",
      "\n",
      "I'm computing the PS_multipole from the file \"../test/datatest/Power_Spectrum/map_sum_xi_GNCxLD_L0_noF.txt\"for the cross correlations between Galaxy Number Counts and Luminosity Distance perturbations.\n",
      "\n",
      "time needed for all the Power Spectra computation [in s] = 0.06953287124633789\n",
      "\n",
      "\n",
      "I'm computing the PS_multipole from the file \"../test/datatest/Power_Spectrum/map_sum_xi_LDxGNC_L0_noF.txt\"for the cross correlations between Luminosity Distance perturbations and Galaxy Number Counts.\n",
      "\n",
      "time needed for all the Power Spectra computation [in s] = 0.04374289512634277\n",
      "\n"
     ]
    }
   ],
   "source": [
    "kwargs_ps = Dict(:epl => true, :pr => true,\n",
    "          :N_left => 12, :N_right => 12,\n",
    "          :p0_left => [-2.0, 1.0], :p0_right => [-2.0, 1.0],\n",
    "          :N => 300, :int_s_min => 1e-4, :int_s_max => 1e4)\n",
    "common = PATH_TO_GAPSE * \"test/datatest/Power_Spectrum/\"\n",
    "GaPSE.print_all_PS_multipole(\n",
    "    common * \"map_sum_xi_LD_L0_noF.txt\",\n",
    "    common * \"map_sum_ps_LD_L0_noF.txt\",\n",
    "    \"LD\"; L = 0, kwargs_ps...\n",
    "    )\n",
    "GaPSE.print_all_PS_multipole(\n",
    "    common * \"map_sum_xi_GNC_L0_noF.txt\",\n",
    "    common * \"map_sum_ps_GNC_L0_noF.txt\",\n",
    "    \"GNC\"; L = 0, kwargs_ps...\n",
    "    )\n",
    "GaPSE.print_all_PS_multipole(\n",
    "    common * \"map_sum_xi_GNCxLD_L0_noF.txt\",\n",
    "    common * \"map_sum_ps_GNCxLD_L0_noF.txt\",\n",
    "    \"GNCxLD\"; L = 0, kwargs_ps...\n",
    "    )\n",
    "GaPSE.print_all_PS_multipole(\n",
    "    common * \"map_sum_xi_LDxGNC_L0_noF.txt\",\n",
    "    common * \"map_sum_ps_LDxGNC_L0_noF.txt\",\n",
    "    \"LDxGNC\"; L = 0, kwargs_ps...\n",
    "    )"
   ]
  },
  {
   "cell_type": "markdown",
   "id": "b1212a2d-2524-483f-a6b5-f732af51ff6d",
   "metadata": {
    "tags": []
   },
   "source": [
    "## XiMatter"
   ]
  },
  {
   "cell_type": "code",
   "execution_count": 8,
   "id": "1a7adaa8-04b0-4215-a461-e2082514fd56",
   "metadata": {},
   "outputs": [
    {
     "name": "stdout",
     "output_type": "stream",
     "text": [
      "\n",
      "I'm computing the TPCF from the file \"../test/datatest/file_pk.txt\" \n",
      "\n",
      "time needed for this TPCF computation [in s] = 0.13688302040100098\n",
      "\n",
      "\n",
      "I'm computing the TPCF from the file \"../test/datatest/file_pk.txt\" \n",
      "\n",
      "time needed for this TPCF computation [in s] = 0.0006051063537597656\n",
      "\n"
     ]
    }
   ],
   "source": [
    "kwargs = Dict(:epl=>true, :pr=>true,\n",
    "     :N_left=>12, :N_right=>12,\n",
    "     :p0_left=>[-2.0, 1.0], :p0_right=>[-2.0, 1.0],\n",
    "    :N => 300, :int_k_min => 1e-4, :int_k_max => 1e4)\n",
    "common = PATH_TO_GAPSE * \"test/datatest/XiMatter/\"\n",
    "\n",
    "GaPSE.print_ξ_from_PS(FILE_PS, \n",
    "    common*\"xi_matter_L0.txt\"; L=0, kwargs...);\n",
    "GaPSE.print_ξ_from_PS(FILE_PS, \n",
    "    common*\"xi_matter_L2.txt\"; L=2, kwargs...);"
   ]
  },
  {
   "cell_type": "markdown",
   "id": "93208a79-8b26-4f80-afde-93150e2c0b70",
   "metadata": {
    "jp-MarkdownHeadingCollapsed": true,
    "tags": []
   },
   "source": [
    "## PPXiMatter.jl"
   ]
  },
  {
   "cell_type": "code",
   "execution_count": 6,
   "id": "cd1dbb0f-4c8e-4889-837f-9e2df310bee2",
   "metadata": {},
   "outputs": [
    {
     "name": "stdout",
     "output_type": "stream",
     "text": [
      "\n",
      "time needed for map_ξ_PPMatter_multipole [in s] = 0.01823 \n",
      "\n",
      "time needed for map_ξ_PPMatter_multipole [in s] = 0.00429 \n"
     ]
    },
    {
     "name": "stderr",
     "output_type": "stream",
     "text": [
      "\u001b[32mPP Matter, L=0: 100%|███████████████████████████████████| Time: 0:00:01\u001b[39m\n"
     ]
    },
    {
     "name": "stdout",
     "output_type": "stream",
     "text": [
      "\n",
      "time needed for map_ξ_PPMatter_multipole [in s] = 1.49201 \n"
     ]
    },
    {
     "name": "stderr",
     "output_type": "stream",
     "text": [
      "\u001b[32mPP Matter, L=2: 100%|███████████████████████████████████| Time: 0:00:01\u001b[39m\n"
     ]
    },
    {
     "name": "stdout",
     "output_type": "stream",
     "text": [
      "\n",
      "time needed for map_ξ_PPMatter_multipole [in s] = 1.43459 \n"
     ]
    }
   ],
   "source": [
    "kwargs_xis_PP = Dict(\n",
    "     :pr => true, :enhancer => 1e8, \n",
    "     :μ_atol => 0.0, :μ_rtol => 1e-2,\n",
    "     :N_log => 100, \n",
    ");\n",
    "common = PATH_TO_GAPSE * \"test/datatest/pp_matter/\"\n",
    "\n",
    "GaPSE.print_map_ξ_PPMatter_multipole(COSMO, common*\"xi_ppmatter_noF_L0.txt\",\n",
    "    10 .^ range(0,3,length=300); use_windows = false, \n",
    "    L = 0, kwargs_xis_PP...);\n",
    "GaPSE.print_map_ξ_PPMatter_multipole(COSMO, common*\"xi_ppmatter_noF_L2.txt\", \n",
    "    10 .^ range(0,3,length=300); use_windows = false, \n",
    "    L = 2, kwargs_xis_PP...);\n",
    "\n",
    "GaPSE.print_map_ξ_PPMatter_multipole(COSMO, common*\"xi_ppmatter_withF_L0.txt\", \n",
    "    10 .^ range(0,3,length=300); use_windows = true, \n",
    "    L = 0, kwargs_xis_PP...);\n",
    "GaPSE.print_map_ξ_PPMatter_multipole(COSMO, common*\"xi_ppmatter_withF_L2.txt\", \n",
    "    10 .^ range(0,3,length=300); use_windows = true, \n",
    "    L = 2, kwargs_xis_PP...);"
   ]
  },
  {
   "cell_type": "markdown",
   "id": "e0a9a891-5752-44c4-a96e-f4f1e1b47169",
   "metadata": {
    "jp-MarkdownHeadingCollapsed": true,
    "tags": []
   },
   "source": [
    "## Check plot"
   ]
  },
  {
   "cell_type": "code",
   "execution_count": 40,
   "id": "974d6c41-c01d-44fb-8b64-a15ed44fa9ca",
   "metadata": {},
   "outputs": [],
   "source": [
    "ss = 10 .^ range(-1, 3, length = 100)\n",
    "xis = [94128.7663157383, 94127.71733307673, 94118.22685718043, 94105.27014579072, 94092.74690011467, 94077.73474789417, 94060.14259029402, 94041.36399133863, 94019.13481513, 93993.9774254519, 93965.17666760206, 93932.310662485, 93894.7417816744, 93851.90615320086, 93803.00980942484, 93747.27564643913, 93683.7674943285, 93611.44966728744, 93529.16399655865, 93435.61187536518, 93329.35163987629, 93208.77900984496, 93072.1167210524, 92917.40318676838, 92742.48245763556, 95783.82652588996, 95548.64086045422, 95284.0247656366, 94986.84282646635, 94653.74745296367, 94281.19174533848, 93865.45059955078, 93402.64174490565, 92888.75209856525, 92319.66833832217, 91691.20696687906, 90999.14094295212, 90239.21893264781, 89407.16475771922, 88498.66411252833, 87509.34072870719, 86434.73401995431, 85270.30430938529, 84011.49751585245, 82653.89802033827, 81193.48990500926, 79626.9864456709, 77952.12007792585, 76167.7465010322, 74273.67735057411, 72270.37879790006, 70158.927612762, 67941.51283550214, 65622.11696593303, 63206.48081199182, 60701.349321188536, 58114.50562832486, 55455.68534726358, 52734.00081272978, 49950.440987490314, 47131.75296547367, 44292.573366025754, 41448.519830193894, 38615.80051514171, 35811.07942574001, 33051.04246588395, 30356.304723973444, 27739.98188305206, 25215.29589857075, 22796.348950064326, 20495.454552347925, 18323.300529415355, 16291.361075684434, 14406.756267362847, 12657.039137162299, 10996.682608074272, 9417.825597763505, 7975.91531227271, 6706.841991532989, 5613.095323181682, 4683.122927123182, 3890.1856088252152, 3221.1352091969347, 2661.960624580339, 2194.6164039128857, 1809.4405450595416, 1485.48739007979, 1217.1825107713519, 998.1265407427484, 821.6320143073558, 661.6404506998929, 493.4399200895545, 346.8852258310276, 230.04283949130624, 143.5309228940826, 82.14629843689066, 41.9589534560989, 18.150881393792737, 6.448321162757018, 1.463073196527428];\n",
    "calc_xis = [4.058405552637428e-5, 4.058427693365866e-5, 4.0580920101684345e-5, 4.057613546555834e-5, 4.057161029852444e-5, 4.056609078492428e-5, 4.05595443900996e-5, 4.055257935812477e-5, 4.054422722317296e-5, 4.053472173826911e-5, 4.052376364868769e-5, 4.051118087073139e-5, 4.049670901576836e-5, 4.048011630179898e-5, 4.0461072549122225e-5, 4.043925575745697e-5, 4.041427627965656e-5, 4.0385702573661995e-5, 4.0353051366773144e-5, 4.031577998761375e-5, 4.027328532408504e-5, 4.022489548185454e-5, 4.016986542111919e-5, 4.01073721889755e-5, 4.0036510729221e-5, 3.99568311499923e-5, 3.986624587027273e-5, 3.976407047424688e-5, 3.964905270234193e-5, 3.951985480320794e-5, 3.937505876058867e-5, 3.921317488915203e-5, 3.903265031974044e-5, 3.883187960916871e-5, 3.8609217002345796e-5, 3.836298835364234e-5, 3.8091501459336706e-5, 3.7793053115424516e-5, 3.746592764879241e-5, 3.710838980999075e-5, 3.6718672863269994e-5, 3.629496684384989e-5, 3.5835417896351866e-5, 3.5338152128542984e-5, 3.480133622806929e-5, 3.422328365473513e-5, 3.3602589899337156e-5, 3.29382515641325e-5, 3.222970717564044e-5, 3.147676263484632e-5, 3.067945852729621e-5, 2.983804579854249e-5, 2.8953194865287022e-5, 2.80262848337625e-5, 2.7059388591178522e-5, 2.6054947600396667e-5, 2.501578507289428e-5, 2.394550521999653e-5, 2.284829342948845e-5, 2.1728641496807788e-5, 2.0591722660652432e-5, 1.9443032130502462e-5, 1.8288473412973284e-5, 1.713420558909145e-5, 1.598660870747348e-5, 1.4852115817845018e-5, 1.3737180682160374e-5, 1.2648129589611943e-5, 1.1591054195833617e-5, 1.0571720595145102e-5, 9.595502088191351e-6, 8.667418060822114e-6, 7.792391734570979e-6, 6.974957254062627e-6, 6.210752829598366e-6, 5.47155948996121e-6, 4.750410171568404e-6, 4.078954335523599e-6, 3.4792046026828395e-6, 2.955348410944907e-6, 2.50323008572695e-6, 2.1159669446645762e-6, 1.7859714369503164e-6, 1.506210693082134e-6, 1.270563541871931e-6, 1.0729360699334002e-6, 9.08033090928611e-7, 7.716896656498471e-7, 6.609658199229764e-7, 5.7543216790966e-7, 5.358910107443908e-7, 4.731438166745374e-7, 3.705036615538118e-7, 2.7880666522006267e-7, 2.0504910948391106e-7, 1.4847651135484723e-7, 1.0626844894217559e-7, 7.535523256855076e-8, 5.301722783524859e-8, 3.70429288148483e-8];"
   ]
  },
  {
   "cell_type": "code",
   "execution_count": 41,
   "id": "3835048a-f4bd-43a5-b682-fc3fe09661a0",
   "metadata": {},
   "outputs": [
    {
     "data": {
      "image/svg+xml": [
       "<?xml version=\"1.0\" encoding=\"utf-8\"?>\n",
       "<svg xmlns=\"http://www.w3.org/2000/svg\" xmlns:xlink=\"http://www.w3.org/1999/xlink\" width=\"400\" height=\"600\" viewBox=\"0 0 1600 2400\">\n",
       "<defs>\n",
       "  <clipPath id=\"clip800\">\n",
       "    <rect x=\"0\" y=\"0\" width=\"1600\" height=\"2400\"/>\n",
       "  </clipPath>\n",
       "</defs>\n",
       "<path clip-path=\"url(#clip800)\" d=\"\n",
       "M0 2400 L1600 2400 L1600 0 L0 0  Z\n",
       "  \" fill=\"#ffffff\" fill-rule=\"evenodd\" fill-opacity=\"1\"/>\n",
       "<defs>\n",
       "  <clipPath id=\"clip801\">\n",
       "    <rect x=\"480\" y=\"240\" width=\"1600\" height=\"1681\"/>\n",
       "  </clipPath>\n",
       "</defs>\n",
       "<path clip-path=\"url(#clip800)\" d=\"\n",
       "M311.588 642.743 L1552.76 642.743 L1552.76 47.2441 L311.588 47.2441  Z\n",
       "  \" fill=\"#ffffff\" fill-rule=\"evenodd\" fill-opacity=\"1\"/>\n",
       "<defs>\n",
       "  <clipPath id=\"clip802\">\n",
       "    <rect x=\"311\" y=\"47\" width=\"1242\" height=\"596\"/>\n",
       "  </clipPath>\n",
       "</defs>\n",
       "<polyline clip-path=\"url(#clip802)\" style=\"stroke:#000000; stroke-linecap:butt; stroke-linejoin:round; stroke-width:2; stroke-opacity:0.1; fill:none\" points=\"\n",
       "  639.444,642.743 639.444,47.2441 \n",
       "  \"/>\n",
       "<polyline clip-path=\"url(#clip802)\" style=\"stroke:#000000; stroke-linecap:butt; stroke-linejoin:round; stroke-width:2; stroke-opacity:0.1; fill:none\" points=\"\n",
       "  1224.9,642.743 1224.9,47.2441 \n",
       "  \"/>\n",
       "<polyline clip-path=\"url(#clip800)\" style=\"stroke:#000000; stroke-linecap:butt; stroke-linejoin:round; stroke-width:4; stroke-opacity:1; fill:none\" points=\"\n",
       "  311.588,642.743 1552.76,642.743 \n",
       "  \"/>\n",
       "<polyline clip-path=\"url(#clip800)\" style=\"stroke:#000000; stroke-linecap:butt; stroke-linejoin:round; stroke-width:4; stroke-opacity:1; fill:none\" points=\"\n",
       "  639.444,642.743 639.444,623.845 \n",
       "  \"/>\n",
       "<polyline clip-path=\"url(#clip800)\" style=\"stroke:#000000; stroke-linecap:butt; stroke-linejoin:round; stroke-width:4; stroke-opacity:1; fill:none\" points=\"\n",
       "  1224.9,642.743 1224.9,623.845 \n",
       "  \"/>\n",
       "<path clip-path=\"url(#clip800)\" d=\"M604.427 716.868 L612.066 716.868 L612.066 690.502 L603.756 692.169 L603.756 687.91 L612.019 686.243 L616.695 686.243 L616.695 716.868 L624.334 716.868 L624.334 720.803 L604.427 720.803 L604.427 716.868 Z\" fill=\"#000000\" fill-rule=\"evenodd\" fill-opacity=\"1\" /><path clip-path=\"url(#clip800)\" d=\"M643.778 689.322 Q640.167 689.322 638.339 692.887 Q636.533 696.428 636.533 703.558 Q636.533 710.664 638.339 714.229 Q640.167 717.771 643.778 717.771 Q647.413 717.771 649.218 714.229 Q651.047 710.664 651.047 703.558 Q651.047 696.428 649.218 692.887 Q647.413 689.322 643.778 689.322 M643.778 685.618 Q649.589 685.618 652.644 690.225 Q655.723 694.808 655.723 703.558 Q655.723 712.285 652.644 716.891 Q649.589 721.474 643.778 721.474 Q637.968 721.474 634.89 716.891 Q631.834 712.285 631.834 703.558 Q631.834 694.808 634.89 690.225 Q637.968 685.618 643.778 685.618 Z\" fill=\"#000000\" fill-rule=\"evenodd\" fill-opacity=\"1\" /><path clip-path=\"url(#clip800)\" d=\"M665.428 667.814 Q662.494 667.814 661.008 670.711 Q659.541 673.588 659.541 679.381 Q659.541 685.155 661.008 688.051 Q662.494 690.929 665.428 690.929 Q668.38 690.929 669.847 688.051 Q671.333 685.155 671.333 679.381 Q671.333 673.588 669.847 670.711 Q668.38 667.814 665.428 667.814 M665.428 664.805 Q670.148 664.805 672.631 668.548 Q675.132 672.272 675.132 679.381 Q675.132 686.471 672.631 690.214 Q670.148 693.938 665.428 693.938 Q660.707 693.938 658.205 690.214 Q655.723 686.471 655.723 679.381 Q655.723 672.272 658.205 668.548 Q660.707 664.805 665.428 664.805 Z\" fill=\"#000000\" fill-rule=\"evenodd\" fill-opacity=\"1\" /><path clip-path=\"url(#clip800)\" d=\"M1190.67 716.868 L1198.31 716.868 L1198.31 690.502 L1190 692.169 L1190 687.91 L1198.27 686.243 L1202.94 686.243 L1202.94 716.868 L1210.58 716.868 L1210.58 720.803 L1190.67 720.803 L1190.67 716.868 Z\" fill=\"#000000\" fill-rule=\"evenodd\" fill-opacity=\"1\" /><path clip-path=\"url(#clip800)\" d=\"M1230.02 689.322 Q1226.41 689.322 1224.58 692.887 Q1222.78 696.428 1222.78 703.558 Q1222.78 710.664 1224.58 714.229 Q1226.41 717.771 1230.02 717.771 Q1233.66 717.771 1235.46 714.229 Q1237.29 710.664 1237.29 703.558 Q1237.29 696.428 1235.46 692.887 Q1233.66 689.322 1230.02 689.322 M1230.02 685.618 Q1235.83 685.618 1238.89 690.225 Q1241.97 694.808 1241.97 703.558 Q1241.97 712.285 1238.89 716.891 Q1235.83 721.474 1230.02 721.474 Q1224.21 721.474 1221.14 716.891 Q1218.08 712.285 1218.08 703.558 Q1218.08 694.808 1221.14 690.225 Q1224.21 685.618 1230.02 685.618 Z\" fill=\"#000000\" fill-rule=\"evenodd\" fill-opacity=\"1\" /><path clip-path=\"url(#clip800)\" d=\"M1246.54 690.195 L1259.8 690.195 L1259.8 693.393 L1241.97 693.393 L1241.97 690.195 Q1244.13 687.957 1247.86 684.196 Q1251.6 680.415 1252.56 679.324 Q1254.38 677.274 1255.1 675.864 Q1255.83 674.434 1255.83 673.061 Q1255.83 670.823 1254.25 669.413 Q1252.69 668.002 1250.17 668.002 Q1248.38 668.002 1246.39 668.623 Q1244.41 669.243 1242.16 670.504 L1242.16 666.667 Q1244.45 665.745 1246.45 665.275 Q1248.44 664.805 1250.09 664.805 Q1254.46 664.805 1257.05 666.987 Q1259.65 669.168 1259.65 672.817 Q1259.65 674.547 1258.99 676.108 Q1258.35 677.651 1256.64 679.757 Q1256.17 680.302 1253.65 682.917 Q1251.13 685.512 1246.54 690.195 Z\" fill=\"#000000\" fill-rule=\"evenodd\" fill-opacity=\"1\" /><polyline clip-path=\"url(#clip802)\" style=\"stroke:#000000; stroke-linecap:butt; stroke-linejoin:round; stroke-width:2; stroke-opacity:0.1; fill:none\" points=\"\n",
       "  311.588,625.889 1552.76,625.889 \n",
       "  \"/>\n",
       "<polyline clip-path=\"url(#clip802)\" style=\"stroke:#000000; stroke-linecap:butt; stroke-linejoin:round; stroke-width:2; stroke-opacity:0.1; fill:none\" points=\"\n",
       "  311.588,508.585 1552.76,508.585 \n",
       "  \"/>\n",
       "<polyline clip-path=\"url(#clip802)\" style=\"stroke:#000000; stroke-linecap:butt; stroke-linejoin:round; stroke-width:2; stroke-opacity:0.1; fill:none\" points=\"\n",
       "  311.588,391.281 1552.76,391.281 \n",
       "  \"/>\n",
       "<polyline clip-path=\"url(#clip802)\" style=\"stroke:#000000; stroke-linecap:butt; stroke-linejoin:round; stroke-width:2; stroke-opacity:0.1; fill:none\" points=\"\n",
       "  311.588,273.977 1552.76,273.977 \n",
       "  \"/>\n",
       "<polyline clip-path=\"url(#clip802)\" style=\"stroke:#000000; stroke-linecap:butt; stroke-linejoin:round; stroke-width:2; stroke-opacity:0.1; fill:none\" points=\"\n",
       "  311.588,156.673 1552.76,156.673 \n",
       "  \"/>\n",
       "<polyline clip-path=\"url(#clip800)\" style=\"stroke:#000000; stroke-linecap:butt; stroke-linejoin:round; stroke-width:4; stroke-opacity:1; fill:none\" points=\"\n",
       "  311.588,642.743 311.588,47.2441 \n",
       "  \"/>\n",
       "<polyline clip-path=\"url(#clip800)\" style=\"stroke:#000000; stroke-linecap:butt; stroke-linejoin:round; stroke-width:4; stroke-opacity:1; fill:none\" points=\"\n",
       "  311.588,625.889 330.486,625.889 \n",
       "  \"/>\n",
       "<polyline clip-path=\"url(#clip800)\" style=\"stroke:#000000; stroke-linecap:butt; stroke-linejoin:round; stroke-width:4; stroke-opacity:1; fill:none\" points=\"\n",
       "  311.588,508.585 330.486,508.585 \n",
       "  \"/>\n",
       "<polyline clip-path=\"url(#clip800)\" style=\"stroke:#000000; stroke-linecap:butt; stroke-linejoin:round; stroke-width:4; stroke-opacity:1; fill:none\" points=\"\n",
       "  311.588,391.281 330.486,391.281 \n",
       "  \"/>\n",
       "<polyline clip-path=\"url(#clip800)\" style=\"stroke:#000000; stroke-linecap:butt; stroke-linejoin:round; stroke-width:4; stroke-opacity:1; fill:none\" points=\"\n",
       "  311.588,273.977 330.486,273.977 \n",
       "  \"/>\n",
       "<polyline clip-path=\"url(#clip800)\" style=\"stroke:#000000; stroke-linecap:butt; stroke-linejoin:round; stroke-width:4; stroke-opacity:1; fill:none\" points=\"\n",
       "  311.588,156.673 330.486,156.673 \n",
       "  \"/>\n",
       "<path clip-path=\"url(#clip800)\" d=\"M263.644 611.688 Q260.033 611.688 258.204 615.253 Q256.399 618.794 256.399 625.924 Q256.399 633.03 258.204 636.595 Q260.033 640.137 263.644 640.137 Q267.278 640.137 269.084 636.595 Q270.913 633.03 270.913 625.924 Q270.913 618.794 269.084 615.253 Q267.278 611.688 263.644 611.688 M263.644 607.984 Q269.454 607.984 272.51 612.591 Q275.588 617.174 275.588 625.924 Q275.588 634.651 272.51 639.257 Q269.454 643.841 263.644 643.841 Q257.834 643.841 254.755 639.257 Q251.7 634.651 251.7 625.924 Q251.7 617.174 254.755 612.591 Q257.834 607.984 263.644 607.984 Z\" fill=\"#000000\" fill-rule=\"evenodd\" fill-opacity=\"1\" /><path clip-path=\"url(#clip800)\" d=\"M91.932 528.378 L108.251 528.378 L108.251 532.313 L86.307 532.313 L86.307 528.378 Q88.9691 525.623 93.5524 520.994 Q98.1588 516.341 99.3394 514.998 Q101.585 512.475 102.464 510.739 Q103.367 508.98 103.367 507.29 Q103.367 504.535 101.423 502.799 Q99.5014 501.063 96.3996 501.063 Q94.2005 501.063 91.7468 501.827 Q89.3163 502.591 86.5385 504.142 L86.5385 499.42 Q89.3626 498.285 91.8163 497.707 Q94.27 497.128 96.307 497.128 Q101.677 497.128 104.872 499.813 Q108.066 502.498 108.066 506.989 Q108.066 509.119 107.256 511.04 Q106.469 512.938 104.363 515.531 Q103.784 516.202 100.682 519.419 Q97.5801 522.614 91.932 528.378 Z\" fill=\"#000000\" fill-rule=\"evenodd\" fill-opacity=\"1\" /><path clip-path=\"url(#clip800)\" d=\"M118.066 526.433 L122.95 526.433 L122.95 532.313 L118.066 532.313 L118.066 526.433 Z\" fill=\"#000000\" fill-rule=\"evenodd\" fill-opacity=\"1\" /><path clip-path=\"url(#clip800)\" d=\"M143.135 500.832 Q139.524 500.832 137.696 504.396 Q135.89 507.938 135.89 515.068 Q135.89 522.174 137.696 525.739 Q139.524 529.28 143.135 529.28 Q146.77 529.28 148.575 525.739 Q150.404 522.174 150.404 515.068 Q150.404 507.938 148.575 504.396 Q146.77 500.832 143.135 500.832 M143.135 497.128 Q148.946 497.128 152.001 501.734 Q155.08 506.318 155.08 515.068 Q155.08 523.794 152.001 528.401 Q148.946 532.984 143.135 532.984 Q137.325 532.984 134.247 528.401 Q131.191 523.794 131.191 515.068 Q131.191 506.318 134.247 501.734 Q137.325 497.128 143.135 497.128 Z\" fill=\"#000000\" fill-rule=\"evenodd\" fill-opacity=\"1\" /><path clip-path=\"url(#clip800)\" d=\"M191.469 506.85 L180.89 517.475 L191.469 528.054 L188.714 530.855 L178.089 520.23 L167.464 530.855 L164.733 528.054 L175.288 517.475 L164.733 506.85 L167.464 504.049 L178.089 514.674 L188.714 504.049 L191.469 506.85 Z\" fill=\"#000000\" fill-rule=\"evenodd\" fill-opacity=\"1\" /><path clip-path=\"url(#clip800)\" d=\"M203.83 528.378 L211.468 528.378 L211.468 502.012 L203.158 503.679 L203.158 499.42 L211.422 497.753 L216.098 497.753 L216.098 528.378 L223.737 528.378 L223.737 532.313 L203.83 532.313 L203.83 528.378 Z\" fill=\"#000000\" fill-rule=\"evenodd\" fill-opacity=\"1\" /><path clip-path=\"url(#clip800)\" d=\"M243.181 500.832 Q239.57 500.832 237.741 504.396 Q235.936 507.938 235.936 515.068 Q235.936 522.174 237.741 525.739 Q239.57 529.28 243.181 529.28 Q246.815 529.28 248.621 525.739 Q250.45 522.174 250.45 515.068 Q250.45 507.938 248.621 504.396 Q246.815 500.832 243.181 500.832 M243.181 497.128 Q248.991 497.128 252.047 501.734 Q255.126 506.318 255.126 515.068 Q255.126 523.794 252.047 528.401 Q248.991 532.984 243.181 532.984 Q237.371 532.984 234.292 528.401 Q231.237 523.794 231.237 515.068 Q231.237 506.318 234.292 501.734 Q237.371 497.128 243.181 497.128 Z\" fill=\"#000000\" fill-rule=\"evenodd\" fill-opacity=\"1\" /><path clip-path=\"url(#clip800)\" d=\"M267.802 480.133 L258.21 495.122 L267.802 495.122 L267.802 480.133 M266.805 476.822 L271.582 476.822 L271.582 495.122 L275.588 495.122 L275.588 498.282 L271.582 498.282 L271.582 504.902 L267.802 504.902 L267.802 498.282 L255.126 498.282 L255.126 494.615 L266.805 476.822 Z\" fill=\"#000000\" fill-rule=\"evenodd\" fill-opacity=\"1\" /><path clip-path=\"url(#clip800)\" d=\"M100.751 384.523 L88.9459 402.972 L100.751 402.972 L100.751 384.523 M99.5246 380.449 L105.404 380.449 L105.404 402.972 L110.335 402.972 L110.335 406.861 L105.404 406.861 L105.404 415.009 L100.751 415.009 L100.751 406.861 L85.1496 406.861 L85.1496 402.347 L99.5246 380.449 Z\" fill=\"#000000\" fill-rule=\"evenodd\" fill-opacity=\"1\" /><path clip-path=\"url(#clip800)\" d=\"M118.066 409.129 L122.95 409.129 L122.95 415.009 L118.066 415.009 L118.066 409.129 Z\" fill=\"#000000\" fill-rule=\"evenodd\" fill-opacity=\"1\" /><path clip-path=\"url(#clip800)\" d=\"M143.135 383.528 Q139.524 383.528 137.696 387.092 Q135.89 390.634 135.89 397.764 Q135.89 404.87 137.696 408.435 Q139.524 411.976 143.135 411.976 Q146.77 411.976 148.575 408.435 Q150.404 404.87 150.404 397.764 Q150.404 390.634 148.575 387.092 Q146.77 383.528 143.135 383.528 M143.135 379.824 Q148.946 379.824 152.001 384.43 Q155.08 389.014 155.08 397.764 Q155.08 406.49 152.001 411.097 Q148.946 415.68 143.135 415.68 Q137.325 415.68 134.247 411.097 Q131.191 406.49 131.191 397.764 Q131.191 389.014 134.247 384.43 Q137.325 379.824 143.135 379.824 Z\" fill=\"#000000\" fill-rule=\"evenodd\" fill-opacity=\"1\" /><path clip-path=\"url(#clip800)\" d=\"M191.469 389.546 L180.89 400.171 L191.469 410.75 L188.714 413.551 L178.089 402.926 L167.464 413.551 L164.733 410.75 L175.288 400.171 L164.733 389.546 L167.464 386.745 L178.089 397.37 L188.714 386.745 L191.469 389.546 Z\" fill=\"#000000\" fill-rule=\"evenodd\" fill-opacity=\"1\" /><path clip-path=\"url(#clip800)\" d=\"M203.83 411.074 L211.468 411.074 L211.468 384.708 L203.158 386.375 L203.158 382.116 L211.422 380.449 L216.098 380.449 L216.098 411.074 L223.737 411.074 L223.737 415.009 L203.83 415.009 L203.83 411.074 Z\" fill=\"#000000\" fill-rule=\"evenodd\" fill-opacity=\"1\" /><path clip-path=\"url(#clip800)\" d=\"M243.181 383.528 Q239.57 383.528 237.741 387.092 Q235.936 390.634 235.936 397.764 Q235.936 404.87 237.741 408.435 Q239.57 411.976 243.181 411.976 Q246.815 411.976 248.621 408.435 Q250.45 404.87 250.45 397.764 Q250.45 390.634 248.621 387.092 Q246.815 383.528 243.181 383.528 M243.181 379.824 Q248.991 379.824 252.047 384.43 Q255.126 389.014 255.126 397.764 Q255.126 406.49 252.047 411.097 Q248.991 415.68 243.181 415.68 Q237.371 415.68 234.292 411.097 Q231.237 406.49 231.237 397.764 Q231.237 389.014 234.292 384.43 Q237.371 379.824 243.181 379.824 Z\" fill=\"#000000\" fill-rule=\"evenodd\" fill-opacity=\"1\" /><path clip-path=\"url(#clip800)\" d=\"M267.802 362.829 L258.21 377.818 L267.802 377.818 L267.802 362.829 M266.805 359.518 L271.582 359.518 L271.582 377.818 L275.588 377.818 L275.588 380.978 L271.582 380.978 L271.582 387.598 L267.802 387.598 L267.802 380.978 L255.126 380.978 L255.126 377.311 L266.805 359.518 Z\" fill=\"#000000\" fill-rule=\"evenodd\" fill-opacity=\"1\" /><path clip-path=\"url(#clip800)\" d=\"M98.4829 278.561 Q95.3348 278.561 93.4829 280.714 Q91.6542 282.867 91.6542 286.617 Q91.6542 290.344 93.4829 292.52 Q95.3348 294.672 98.4829 294.672 Q101.631 294.672 103.46 292.52 Q105.312 290.344 105.312 286.617 Q105.312 282.867 103.46 280.714 Q101.631 278.561 98.4829 278.561 M107.765 263.909 L107.765 268.168 Q106.006 267.335 104.2 266.895 Q102.418 266.455 100.659 266.455 Q96.0292 266.455 93.5755 269.58 Q91.145 272.705 90.7978 279.024 Q92.1635 277.01 94.2237 275.946 Q96.2838 274.858 98.7607 274.858 Q103.969 274.858 106.978 278.029 Q110.011 281.177 110.011 286.617 Q110.011 291.941 106.862 295.159 Q103.714 298.376 98.4829 298.376 Q92.4876 298.376 89.3163 293.793 Q86.145 289.186 86.145 280.46 Q86.145 272.265 90.0339 267.404 Q93.9227 262.52 100.474 262.52 Q102.233 262.52 104.015 262.867 Q105.821 263.214 107.765 263.909 Z\" fill=\"#000000\" fill-rule=\"evenodd\" fill-opacity=\"1\" /><path clip-path=\"url(#clip800)\" d=\"M118.066 291.825 L122.95 291.825 L122.95 297.705 L118.066 297.705 L118.066 291.825 Z\" fill=\"#000000\" fill-rule=\"evenodd\" fill-opacity=\"1\" /><path clip-path=\"url(#clip800)\" d=\"M143.135 266.223 Q139.524 266.223 137.696 269.788 Q135.89 273.33 135.89 280.46 Q135.89 287.566 137.696 291.131 Q139.524 294.672 143.135 294.672 Q146.77 294.672 148.575 291.131 Q150.404 287.566 150.404 280.46 Q150.404 273.33 148.575 269.788 Q146.77 266.223 143.135 266.223 M143.135 262.52 Q148.946 262.52 152.001 267.126 Q155.08 271.71 155.08 280.46 Q155.08 289.186 152.001 293.793 Q148.946 298.376 143.135 298.376 Q137.325 298.376 134.247 293.793 Q131.191 289.186 131.191 280.46 Q131.191 271.71 134.247 267.126 Q137.325 262.52 143.135 262.52 Z\" fill=\"#000000\" fill-rule=\"evenodd\" fill-opacity=\"1\" /><path clip-path=\"url(#clip800)\" d=\"M191.469 272.242 L180.89 282.867 L191.469 293.446 L188.714 296.246 L178.089 285.622 L167.464 296.246 L164.733 293.446 L175.288 282.867 L164.733 272.242 L167.464 269.441 L178.089 280.066 L188.714 269.441 L191.469 272.242 Z\" fill=\"#000000\" fill-rule=\"evenodd\" fill-opacity=\"1\" /><path clip-path=\"url(#clip800)\" d=\"M203.83 293.77 L211.468 293.77 L211.468 267.404 L203.158 269.071 L203.158 264.811 L211.422 263.145 L216.098 263.145 L216.098 293.77 L223.737 293.77 L223.737 297.705 L203.83 297.705 L203.83 293.77 Z\" fill=\"#000000\" fill-rule=\"evenodd\" fill-opacity=\"1\" /><path clip-path=\"url(#clip800)\" d=\"M243.181 266.223 Q239.57 266.223 237.741 269.788 Q235.936 273.33 235.936 280.46 Q235.936 287.566 237.741 291.131 Q239.57 294.672 243.181 294.672 Q246.815 294.672 248.621 291.131 Q250.45 287.566 250.45 280.46 Q250.45 273.33 248.621 269.788 Q246.815 266.223 243.181 266.223 M243.181 262.52 Q248.991 262.52 252.047 267.126 Q255.126 271.71 255.126 280.46 Q255.126 289.186 252.047 293.793 Q248.991 298.376 243.181 298.376 Q237.371 298.376 234.292 293.793 Q231.237 289.186 231.237 280.46 Q231.237 271.71 234.292 267.126 Q237.371 262.52 243.181 262.52 Z\" fill=\"#000000\" fill-rule=\"evenodd\" fill-opacity=\"1\" /><path clip-path=\"url(#clip800)\" d=\"M267.802 245.525 L258.21 260.514 L267.802 260.514 L267.802 245.525 M266.805 242.214 L271.582 242.214 L271.582 260.514 L275.588 260.514 L275.588 263.674 L271.582 263.674 L271.582 270.294 L267.802 270.294 L267.802 263.674 L255.126 263.674 L255.126 260.007 L266.805 242.214 Z\" fill=\"#000000\" fill-rule=\"evenodd\" fill-opacity=\"1\" /><path clip-path=\"url(#clip800)\" d=\"M97.9042 163.989 Q94.5709 163.989 92.6496 165.771 Q90.7515 167.554 90.7515 170.679 Q90.7515 173.804 92.6496 175.586 Q94.5709 177.368 97.9042 177.368 Q101.238 177.368 103.159 175.586 Q105.08 173.78 105.08 170.679 Q105.08 167.554 103.159 165.771 Q101.261 163.989 97.9042 163.989 M93.2283 161.998 Q90.2191 161.257 88.5293 159.197 Q86.8626 157.137 86.8626 154.174 Q86.8626 150.031 89.8024 147.623 Q92.7653 145.216 97.9042 145.216 Q103.066 145.216 106.006 147.623 Q108.946 150.031 108.946 154.174 Q108.946 157.137 107.256 159.197 Q105.589 161.257 102.603 161.998 Q105.983 162.785 107.858 165.077 Q109.756 167.368 109.756 170.679 Q109.756 175.702 106.677 178.387 Q103.622 181.072 97.9042 181.072 Q92.1866 181.072 89.108 178.387 Q86.0524 175.702 86.0524 170.679 Q86.0524 167.368 87.9506 165.077 Q89.8487 162.785 93.2283 161.998 M91.5153 154.614 Q91.5153 157.299 93.182 158.804 Q94.8718 160.308 97.9042 160.308 Q100.913 160.308 102.603 158.804 Q104.316 157.299 104.316 154.614 Q104.316 151.929 102.603 150.424 Q100.913 148.919 97.9042 148.919 Q94.8718 148.919 93.182 150.424 Q91.5153 151.929 91.5153 154.614 Z\" fill=\"#000000\" fill-rule=\"evenodd\" fill-opacity=\"1\" /><path clip-path=\"url(#clip800)\" d=\"M118.066 174.521 L122.95 174.521 L122.95 180.401 L118.066 180.401 L118.066 174.521 Z\" fill=\"#000000\" fill-rule=\"evenodd\" fill-opacity=\"1\" /><path clip-path=\"url(#clip800)\" d=\"M143.135 148.919 Q139.524 148.919 137.696 152.484 Q135.89 156.026 135.89 163.155 Q135.89 170.262 137.696 173.827 Q139.524 177.368 143.135 177.368 Q146.77 177.368 148.575 173.827 Q150.404 170.262 150.404 163.155 Q150.404 156.026 148.575 152.484 Q146.77 148.919 143.135 148.919 M143.135 145.216 Q148.946 145.216 152.001 149.822 Q155.08 154.406 155.08 163.155 Q155.08 171.882 152.001 176.489 Q148.946 181.072 143.135 181.072 Q137.325 181.072 134.247 176.489 Q131.191 171.882 131.191 163.155 Q131.191 154.406 134.247 149.822 Q137.325 145.216 143.135 145.216 Z\" fill=\"#000000\" fill-rule=\"evenodd\" fill-opacity=\"1\" /><path clip-path=\"url(#clip800)\" d=\"M191.469 154.938 L180.89 165.563 L191.469 176.142 L188.714 178.942 L178.089 168.318 L167.464 178.942 L164.733 176.142 L175.288 165.563 L164.733 154.938 L167.464 152.137 L178.089 162.762 L188.714 152.137 L191.469 154.938 Z\" fill=\"#000000\" fill-rule=\"evenodd\" fill-opacity=\"1\" /><path clip-path=\"url(#clip800)\" d=\"M203.83 176.466 L211.468 176.466 L211.468 150.1 L203.158 151.767 L203.158 147.507 L211.422 145.841 L216.098 145.841 L216.098 176.466 L223.737 176.466 L223.737 180.401 L203.83 180.401 L203.83 176.466 Z\" fill=\"#000000\" fill-rule=\"evenodd\" fill-opacity=\"1\" /><path clip-path=\"url(#clip800)\" d=\"M243.181 148.919 Q239.57 148.919 237.741 152.484 Q235.936 156.026 235.936 163.155 Q235.936 170.262 237.741 173.827 Q239.57 177.368 243.181 177.368 Q246.815 177.368 248.621 173.827 Q250.45 170.262 250.45 163.155 Q250.45 156.026 248.621 152.484 Q246.815 148.919 243.181 148.919 M243.181 145.216 Q248.991 145.216 252.047 149.822 Q255.126 154.406 255.126 163.155 Q255.126 171.882 252.047 176.489 Q248.991 181.072 243.181 181.072 Q237.371 181.072 234.292 176.489 Q231.237 171.882 231.237 163.155 Q231.237 154.406 234.292 149.822 Q237.371 145.216 243.181 145.216 Z\" fill=\"#000000\" fill-rule=\"evenodd\" fill-opacity=\"1\" /><path clip-path=\"url(#clip800)\" d=\"M267.802 128.221 L258.21 143.21 L267.802 143.21 L267.802 128.221 M266.805 124.91 L271.582 124.91 L271.582 143.21 L275.588 143.21 L275.588 146.37 L271.582 146.37 L271.582 152.99 L267.802 152.99 L267.802 146.37 L255.126 146.37 L255.126 142.703 L266.805 124.91 Z\" fill=\"#000000\" fill-rule=\"evenodd\" fill-opacity=\"1\" /><polyline clip-path=\"url(#clip802)\" style=\"stroke:#ff0000; stroke-linecap:butt; stroke-linejoin:round; stroke-width:4; stroke-opacity:1; fill:none\" points=\"\n",
       "  346.716,625.889 358.543,625.889 370.371,625.889 382.198,625.889 394.025,625.889 405.853,625.889 417.68,625.889 429.508,625.889 441.335,625.889 453.162,625.889 \n",
       "  464.99,625.889 476.817,625.889 488.645,625.889 500.472,625.889 512.299,625.889 524.127,625.889 535.954,625.889 547.782,625.889 559.609,625.889 571.436,625.889 \n",
       "  583.264,625.889 595.091,625.889 606.919,625.889 618.746,625.889 630.573,625.889 642.401,625.889 654.228,625.889 666.056,625.889 677.883,625.889 689.71,625.889 \n",
       "  701.538,625.889 713.365,625.889 725.193,625.889 737.02,625.889 748.847,625.889 760.675,625.889 772.502,625.889 784.33,625.889 796.157,625.889 807.984,625.889 \n",
       "  819.812,625.889 831.639,625.889 843.467,625.889 855.294,625.889 867.121,625.889 878.949,625.889 890.776,625.889 902.604,625.889 914.431,625.889 926.258,625.889 \n",
       "  938.086,625.889 949.913,625.889 961.741,625.889 973.568,625.889 985.395,625.889 997.223,625.889 1009.05,625.889 1020.88,625.889 1032.71,625.889 1044.53,625.889 \n",
       "  1056.36,625.889 1068.19,625.889 1080.01,625.889 1091.84,625.889 1103.67,625.889 1115.5,625.889 1127.32,625.889 1139.15,625.889 1150.98,625.889 1162.81,625.889 \n",
       "  1174.63,625.889 1186.46,625.889 1198.29,625.889 1210.12,625.889 1221.94,625.889 1233.77,625.889 1245.6,625.889 1257.43,625.889 1269.25,625.889 1281.08,625.889 \n",
       "  1292.91,625.889 1304.74,625.889 1316.56,625.889 1328.39,625.889 1340.22,625.889 1352.04,625.889 1363.87,625.889 1375.7,625.889 1387.53,625.889 1399.35,625.889 \n",
       "  1411.18,625.889 1423.01,625.889 1434.84,625.889 1446.66,625.889 1458.49,625.889 1470.32,625.889 1482.15,625.889 1493.97,625.889 1505.8,625.889 1517.63,625.889 \n",
       "  \n",
       "  \"/>\n",
       "<polyline clip-path=\"url(#clip802)\" style=\"stroke:#0000ff; stroke-linecap:butt; stroke-linejoin:round; stroke-width:4; stroke-opacity:1; fill:none\" stroke-dasharray=\"16, 10\" points=\"\n",
       "  346.716,73.8051 358.543,73.8113 370.371,73.8669 382.198,73.9429 394.025,74.0164 405.853,74.1044 417.68,74.2076 429.508,74.3177 441.335,74.4481 453.162,74.5957 \n",
       "  464.99,74.7646 476.817,74.9574 488.645,75.1777 500.472,75.4289 512.299,75.7157 524.127,76.0426 535.954,76.4151 547.782,76.8393 559.609,77.3219 571.436,77.8706 \n",
       "  583.264,78.4938 595.091,79.201 606.919,80.0026 618.746,80.91 630.573,81.9359 642.401,64.0978 654.228,65.4773 666.056,67.0293 677.883,68.7723 689.71,70.726 \n",
       "  701.538,72.9111 713.365,75.3495 725.193,78.064 737.02,81.078 748.847,84.4158 760.675,88.1019 772.502,92.161 784.33,96.6181 796.157,101.498 807.984,106.827 \n",
       "  819.812,112.629 831.639,118.932 843.467,125.762 855.294,133.145 867.121,141.108 878.949,149.673 890.776,158.861 902.604,168.684 914.431,179.15 926.258,190.259 \n",
       "  938.086,202.009 949.913,214.393 961.741,227.399 973.568,241.002 985.395,255.171 997.223,269.864 1009.05,285.036 1020.88,300.631 1032.71,316.594 1044.53,332.92 \n",
       "  1056.36,349.452 1068.19,366.104 1080.01,382.785 1091.84,399.4 1103.67,415.85 1115.5,432.038 1127.32,447.843 1139.15,463.189 1150.98,477.997 1162.81,492.184 \n",
       "  1174.63,505.679 1186.46,518.419 1198.29,530.337 1210.12,541.391 1221.94,551.653 1233.77,561.392 1245.6,570.652 1257.43,579.109 1269.25,586.552 1281.08,592.967 \n",
       "  1292.91,598.422 1304.74,603.073 1316.56,606.997 1328.39,610.276 1340.22,613.017 1352.04,615.277 1363.87,617.177 1375.7,618.75 1387.53,620.035 1399.35,621.07 \n",
       "  1411.18,622.009 1423.01,622.995 1434.84,623.855 1446.66,624.54 1458.49,625.047 1470.32,625.408 1482.15,625.643 1493.97,625.783 1505.8,625.852 1517.63,625.881 \n",
       "  \n",
       "  \"/>\n",
       "<path clip-path=\"url(#clip800)\" d=\"\n",
       "M1284.68 622.893 L1511.38 622.893 L1511.38 467.373 L1284.68 467.373  Z\n",
       "  \" fill=\"#ffffff\" fill-rule=\"evenodd\" fill-opacity=\"1\"/>\n",
       "<polyline clip-path=\"url(#clip800)\" style=\"stroke:#000000; stroke-linecap:butt; stroke-linejoin:round; stroke-width:4; stroke-opacity:1; fill:none\" points=\"\n",
       "  1284.68,622.893 1511.38,622.893 1511.38,467.373 1284.68,467.373 1284.68,622.893 \n",
       "  \"/>\n",
       "<polyline clip-path=\"url(#clip800)\" style=\"stroke:#ff0000; stroke-linecap:butt; stroke-linejoin:round; stroke-width:4; stroke-opacity:1; fill:none\" points=\"\n",
       "  1298.47,519.213 1381.22,519.213 \n",
       "  \"/>\n",
       "<path clip-path=\"url(#clip800)\" d=\"M1415.52 511.563 L1415.52 515.544 Q1413.71 514.549 1411.88 514.063 Q1410.08 513.553 1408.22 513.553 Q1404.08 513.553 1401.79 516.192 Q1399.5 518.808 1399.5 523.553 Q1399.5 528.299 1401.79 530.938 Q1404.08 533.553 1408.22 533.553 Q1410.08 533.553 1411.88 533.067 Q1413.71 532.558 1415.52 531.563 L1415.52 535.498 Q1413.73 536.331 1411.81 536.748 Q1409.91 537.164 1407.76 537.164 Q1401.9 537.164 1398.46 533.484 Q1395.01 529.803 1395.01 523.553 Q1395.01 517.211 1398.48 513.577 Q1401.97 509.942 1408.04 509.942 Q1410.01 509.942 1411.88 510.359 Q1413.76 510.753 1415.52 511.563 Z\" fill=\"#000000\" fill-rule=\"evenodd\" fill-opacity=\"1\" /><path clip-path=\"url(#clip800)\" d=\"M1434.71 523.461 Q1429.54 523.461 1427.55 524.641 Q1425.56 525.822 1425.56 528.669 Q1425.56 530.938 1427.04 532.28 Q1428.55 533.6 1431.12 533.6 Q1434.66 533.6 1436.79 531.1 Q1438.94 528.576 1438.94 524.41 L1438.94 523.461 L1434.71 523.461 M1443.2 521.702 L1443.2 536.493 L1438.94 536.493 L1438.94 532.558 Q1437.48 534.919 1435.31 536.053 Q1433.13 537.164 1429.98 537.164 Q1426 537.164 1423.64 534.942 Q1421.3 532.697 1421.3 528.947 Q1421.3 524.572 1424.22 522.35 Q1427.16 520.127 1432.97 520.127 L1438.94 520.127 L1438.94 519.711 Q1438.94 516.771 1437 515.174 Q1435.08 513.553 1431.58 513.553 Q1429.36 513.553 1427.25 514.086 Q1425.15 514.618 1423.2 515.683 L1423.2 511.748 Q1425.54 510.845 1427.74 510.405 Q1429.94 509.942 1432.02 509.942 Q1437.64 509.942 1440.42 512.859 Q1443.2 515.776 1443.2 521.702 Z\" fill=\"#000000\" fill-rule=\"evenodd\" fill-opacity=\"1\" /><path clip-path=\"url(#clip800)\" d=\"M1451.97 500.475 L1456.23 500.475 L1456.23 536.493 L1451.97 536.493 L1451.97 500.475 Z\" fill=\"#000000\" fill-rule=\"evenodd\" fill-opacity=\"1\" /><path clip-path=\"url(#clip800)\" d=\"M1483.8 511.563 L1483.8 515.544 Q1482 514.549 1480.17 514.063 Q1478.36 513.553 1476.51 513.553 Q1472.37 513.553 1470.08 516.192 Q1467.78 518.808 1467.78 523.553 Q1467.78 528.299 1470.08 530.938 Q1472.37 533.553 1476.51 533.553 Q1478.36 533.553 1480.17 533.067 Q1482 532.558 1483.8 531.563 L1483.8 535.498 Q1482.02 536.331 1480.1 536.748 Q1478.2 537.164 1476.05 537.164 Q1470.19 537.164 1466.74 533.484 Q1463.29 529.803 1463.29 523.553 Q1463.29 517.211 1466.77 513.577 Q1470.26 509.942 1476.33 509.942 Q1478.29 509.942 1480.17 510.359 Q1482.04 510.753 1483.8 511.563 Z\" fill=\"#000000\" fill-rule=\"evenodd\" fill-opacity=\"1\" /><polyline clip-path=\"url(#clip800)\" style=\"stroke:#0000ff; stroke-linecap:butt; stroke-linejoin:round; stroke-width:4; stroke-opacity:1; fill:none\" stroke-dasharray=\"16, 10\" points=\"\n",
       "  1298.47,571.053 1381.22,571.053 \n",
       "  \"/>\n",
       "<path clip-path=\"url(#clip800)\" d=\"M1411.51 552.315 L1411.51 555.856 L1407.44 555.856 Q1405.15 555.856 1404.24 556.782 Q1403.36 557.708 1403.36 560.116 L1403.36 562.407 L1410.38 562.407 L1410.38 565.717 L1403.36 565.717 L1403.36 588.333 L1399.08 588.333 L1399.08 565.717 L1395.01 565.717 L1395.01 562.407 L1399.08 562.407 L1399.08 560.602 Q1399.08 556.273 1401.09 554.306 Q1403.11 552.315 1407.48 552.315 L1411.51 552.315 Z\" fill=\"#000000\" fill-rule=\"evenodd\" fill-opacity=\"1\" /><path clip-path=\"url(#clip800)\" d=\"M1415.08 562.407 L1419.33 562.407 L1419.33 588.333 L1415.08 588.333 L1415.08 562.407 M1415.08 552.315 L1419.33 552.315 L1419.33 557.708 L1415.08 557.708 L1415.08 552.315 Z\" fill=\"#000000\" fill-rule=\"evenodd\" fill-opacity=\"1\" /><path clip-path=\"url(#clip800)\" d=\"M1428.25 552.315 L1432.51 552.315 L1432.51 588.333 L1428.25 588.333 L1428.25 552.315 Z\" fill=\"#000000\" fill-rule=\"evenodd\" fill-opacity=\"1\" /><path clip-path=\"url(#clip800)\" d=\"M1463.59 574.305 L1463.59 576.389 L1444.01 576.389 Q1444.29 580.787 1446.65 583.102 Q1449.03 585.393 1453.27 585.393 Q1455.72 585.393 1458.02 584.791 Q1460.33 584.19 1462.6 582.986 L1462.6 587.014 Q1460.31 587.986 1457.9 588.495 Q1455.49 589.004 1453.02 589.004 Q1446.81 589.004 1443.18 585.393 Q1439.57 581.782 1439.57 575.625 Q1439.57 569.259 1442.99 565.532 Q1446.44 561.782 1452.27 561.782 Q1457.51 561.782 1460.54 565.162 Q1463.59 568.518 1463.59 574.305 M1459.33 573.055 Q1459.29 569.56 1457.37 567.477 Q1455.47 565.393 1452.32 565.393 Q1448.76 565.393 1446.6 567.407 Q1444.47 569.421 1444.15 573.079 L1459.33 573.055 Z\" fill=\"#000000\" fill-rule=\"evenodd\" fill-opacity=\"1\" /><path clip-path=\"url(#clip800)\" d=\"\n",
       "M311.588 1442.74 L1552.76 1442.74 L1552.76 847.244 L311.588 847.244  Z\n",
       "  \" fill=\"#ffffff\" fill-rule=\"evenodd\" fill-opacity=\"1\"/>\n",
       "<defs>\n",
       "  <clipPath id=\"clip803\">\n",
       "    <rect x=\"311\" y=\"847\" width=\"1242\" height=\"596\"/>\n",
       "  </clipPath>\n",
       "</defs>\n",
       "<polyline clip-path=\"url(#clip803)\" style=\"stroke:#000000; stroke-linecap:butt; stroke-linejoin:round; stroke-width:2; stroke-opacity:0.1; fill:none\" points=\"\n",
       "  639.444,1442.74 639.444,847.244 \n",
       "  \"/>\n",
       "<polyline clip-path=\"url(#clip803)\" style=\"stroke:#000000; stroke-linecap:butt; stroke-linejoin:round; stroke-width:2; stroke-opacity:0.1; fill:none\" points=\"\n",
       "  1224.9,1442.74 1224.9,847.244 \n",
       "  \"/>\n",
       "<polyline clip-path=\"url(#clip800)\" style=\"stroke:#000000; stroke-linecap:butt; stroke-linejoin:round; stroke-width:4; stroke-opacity:1; fill:none\" points=\"\n",
       "  311.588,1442.74 1552.76,1442.74 \n",
       "  \"/>\n",
       "<polyline clip-path=\"url(#clip800)\" style=\"stroke:#000000; stroke-linecap:butt; stroke-linejoin:round; stroke-width:4; stroke-opacity:1; fill:none\" points=\"\n",
       "  639.444,1442.74 639.444,1423.85 \n",
       "  \"/>\n",
       "<polyline clip-path=\"url(#clip800)\" style=\"stroke:#000000; stroke-linecap:butt; stroke-linejoin:round; stroke-width:4; stroke-opacity:1; fill:none\" points=\"\n",
       "  1224.9,1442.74 1224.9,1423.85 \n",
       "  \"/>\n",
       "<path clip-path=\"url(#clip800)\" d=\"M604.427 1516.87 L612.066 1516.87 L612.066 1490.5 L603.756 1492.17 L603.756 1487.91 L612.019 1486.24 L616.695 1486.24 L616.695 1516.87 L624.334 1516.87 L624.334 1520.8 L604.427 1520.8 L604.427 1516.87 Z\" fill=\"#000000\" fill-rule=\"evenodd\" fill-opacity=\"1\" /><path clip-path=\"url(#clip800)\" d=\"M643.778 1489.32 Q640.167 1489.32 638.339 1492.89 Q636.533 1496.43 636.533 1503.56 Q636.533 1510.66 638.339 1514.23 Q640.167 1517.77 643.778 1517.77 Q647.413 1517.77 649.218 1514.23 Q651.047 1510.66 651.047 1503.56 Q651.047 1496.43 649.218 1492.89 Q647.413 1489.32 643.778 1489.32 M643.778 1485.62 Q649.589 1485.62 652.644 1490.22 Q655.723 1494.81 655.723 1503.56 Q655.723 1512.28 652.644 1516.89 Q649.589 1521.47 643.778 1521.47 Q637.968 1521.47 634.89 1516.89 Q631.834 1512.28 631.834 1503.56 Q631.834 1494.81 634.89 1490.22 Q637.968 1485.62 643.778 1485.62 Z\" fill=\"#000000\" fill-rule=\"evenodd\" fill-opacity=\"1\" /><path clip-path=\"url(#clip800)\" d=\"M665.428 1467.81 Q662.494 1467.81 661.008 1470.71 Q659.541 1473.59 659.541 1479.38 Q659.541 1485.15 661.008 1488.05 Q662.494 1490.93 665.428 1490.93 Q668.38 1490.93 669.847 1488.05 Q671.333 1485.15 671.333 1479.38 Q671.333 1473.59 669.847 1470.71 Q668.38 1467.81 665.428 1467.81 M665.428 1464.8 Q670.148 1464.8 672.631 1468.55 Q675.132 1472.27 675.132 1479.38 Q675.132 1486.47 672.631 1490.21 Q670.148 1493.94 665.428 1493.94 Q660.707 1493.94 658.205 1490.21 Q655.723 1486.47 655.723 1479.38 Q655.723 1472.27 658.205 1468.55 Q660.707 1464.8 665.428 1464.8 Z\" fill=\"#000000\" fill-rule=\"evenodd\" fill-opacity=\"1\" /><path clip-path=\"url(#clip800)\" d=\"M1190.67 1516.87 L1198.31 1516.87 L1198.31 1490.5 L1190 1492.17 L1190 1487.91 L1198.27 1486.24 L1202.94 1486.24 L1202.94 1516.87 L1210.58 1516.87 L1210.58 1520.8 L1190.67 1520.8 L1190.67 1516.87 Z\" fill=\"#000000\" fill-rule=\"evenodd\" fill-opacity=\"1\" /><path clip-path=\"url(#clip800)\" d=\"M1230.02 1489.32 Q1226.41 1489.32 1224.58 1492.89 Q1222.78 1496.43 1222.78 1503.56 Q1222.78 1510.66 1224.58 1514.23 Q1226.41 1517.77 1230.02 1517.77 Q1233.66 1517.77 1235.46 1514.23 Q1237.29 1510.66 1237.29 1503.56 Q1237.29 1496.43 1235.46 1492.89 Q1233.66 1489.32 1230.02 1489.32 M1230.02 1485.62 Q1235.83 1485.62 1238.89 1490.22 Q1241.97 1494.81 1241.97 1503.56 Q1241.97 1512.28 1238.89 1516.89 Q1235.83 1521.47 1230.02 1521.47 Q1224.21 1521.47 1221.14 1516.89 Q1218.08 1512.28 1218.08 1503.56 Q1218.08 1494.81 1221.14 1490.22 Q1224.21 1485.62 1230.02 1485.62 Z\" fill=\"#000000\" fill-rule=\"evenodd\" fill-opacity=\"1\" /><path clip-path=\"url(#clip800)\" d=\"M1246.54 1490.2 L1259.8 1490.2 L1259.8 1493.39 L1241.97 1493.39 L1241.97 1490.2 Q1244.13 1487.96 1247.86 1484.2 Q1251.6 1480.42 1252.56 1479.32 Q1254.38 1477.27 1255.1 1475.86 Q1255.83 1474.43 1255.83 1473.06 Q1255.83 1470.82 1254.25 1469.41 Q1252.69 1468 1250.17 1468 Q1248.38 1468 1246.39 1468.62 Q1244.41 1469.24 1242.16 1470.5 L1242.16 1466.67 Q1244.45 1465.75 1246.45 1465.28 Q1248.44 1464.8 1250.09 1464.8 Q1254.46 1464.8 1257.05 1466.99 Q1259.65 1469.17 1259.65 1472.82 Q1259.65 1474.55 1258.99 1476.11 Q1258.35 1477.65 1256.64 1479.76 Q1256.17 1480.3 1253.65 1482.92 Q1251.13 1485.51 1246.54 1490.2 Z\" fill=\"#000000\" fill-rule=\"evenodd\" fill-opacity=\"1\" /><polyline clip-path=\"url(#clip803)\" style=\"stroke:#000000; stroke-linecap:butt; stroke-linejoin:round; stroke-width:2; stroke-opacity:0.1; fill:none\" points=\"\n",
       "  311.588,1435.3 1552.76,1435.3 \n",
       "  \"/>\n",
       "<polyline clip-path=\"url(#clip803)\" style=\"stroke:#000000; stroke-linecap:butt; stroke-linejoin:round; stroke-width:2; stroke-opacity:0.1; fill:none\" points=\"\n",
       "  311.588,1316.16 1552.76,1316.16 \n",
       "  \"/>\n",
       "<polyline clip-path=\"url(#clip803)\" style=\"stroke:#000000; stroke-linecap:butt; stroke-linejoin:round; stroke-width:2; stroke-opacity:0.1; fill:none\" points=\"\n",
       "  311.588,1197.02 1552.76,1197.02 \n",
       "  \"/>\n",
       "<polyline clip-path=\"url(#clip803)\" style=\"stroke:#000000; stroke-linecap:butt; stroke-linejoin:round; stroke-width:2; stroke-opacity:0.1; fill:none\" points=\"\n",
       "  311.588,1077.88 1552.76,1077.88 \n",
       "  \"/>\n",
       "<polyline clip-path=\"url(#clip803)\" style=\"stroke:#000000; stroke-linecap:butt; stroke-linejoin:round; stroke-width:2; stroke-opacity:0.1; fill:none\" points=\"\n",
       "  311.588,958.739 1552.76,958.739 \n",
       "  \"/>\n",
       "<polyline clip-path=\"url(#clip800)\" style=\"stroke:#000000; stroke-linecap:butt; stroke-linejoin:round; stroke-width:4; stroke-opacity:1; fill:none\" points=\"\n",
       "  311.588,1442.74 311.588,847.244 \n",
       "  \"/>\n",
       "<polyline clip-path=\"url(#clip800)\" style=\"stroke:#000000; stroke-linecap:butt; stroke-linejoin:round; stroke-width:4; stroke-opacity:1; fill:none\" points=\"\n",
       "  311.588,1435.3 330.486,1435.3 \n",
       "  \"/>\n",
       "<polyline clip-path=\"url(#clip800)\" style=\"stroke:#000000; stroke-linecap:butt; stroke-linejoin:round; stroke-width:4; stroke-opacity:1; fill:none\" points=\"\n",
       "  311.588,1316.16 330.486,1316.16 \n",
       "  \"/>\n",
       "<polyline clip-path=\"url(#clip800)\" style=\"stroke:#000000; stroke-linecap:butt; stroke-linejoin:round; stroke-width:4; stroke-opacity:1; fill:none\" points=\"\n",
       "  311.588,1197.02 330.486,1197.02 \n",
       "  \"/>\n",
       "<polyline clip-path=\"url(#clip800)\" style=\"stroke:#000000; stroke-linecap:butt; stroke-linejoin:round; stroke-width:4; stroke-opacity:1; fill:none\" points=\"\n",
       "  311.588,1077.88 330.486,1077.88 \n",
       "  \"/>\n",
       "<polyline clip-path=\"url(#clip800)\" style=\"stroke:#000000; stroke-linecap:butt; stroke-linejoin:round; stroke-width:4; stroke-opacity:1; fill:none\" points=\"\n",
       "  311.588,958.739 330.486,958.739 \n",
       "  \"/>\n",
       "<path clip-path=\"url(#clip800)\" d=\"M263.644 1421.1 Q260.033 1421.1 258.204 1424.66 Q256.399 1428.21 256.399 1435.34 Q256.399 1442.44 258.204 1446.01 Q260.033 1449.55 263.644 1449.55 Q267.278 1449.55 269.084 1446.01 Q270.913 1442.44 270.913 1435.34 Q270.913 1428.21 269.084 1424.66 Q267.278 1421.1 263.644 1421.1 M263.644 1417.4 Q269.454 1417.4 272.51 1422 Q275.588 1426.59 275.588 1435.34 Q275.588 1444.06 272.51 1448.67 Q269.454 1453.25 263.644 1453.25 Q257.834 1453.25 254.755 1448.67 Q251.7 1444.06 251.7 1435.34 Q251.7 1426.59 254.755 1422 Q257.834 1417.4 263.644 1417.4 Z\" fill=\"#000000\" fill-rule=\"evenodd\" fill-opacity=\"1\" /><path clip-path=\"url(#clip800)\" d=\"M58.9924 1305.33 L77.3488 1305.33 L77.3488 1309.26 L63.2748 1309.26 L63.2748 1317.74 Q64.2933 1317.39 65.3118 1317.23 Q66.3303 1317.04 67.3488 1317.04 Q73.1358 1317.04 76.5154 1320.21 Q79.895 1323.38 79.895 1328.8 Q79.895 1334.38 76.4228 1337.48 Q72.9506 1340.56 66.6312 1340.56 Q64.4553 1340.56 62.1868 1340.19 Q59.9414 1339.82 57.534 1339.08 L57.534 1334.38 Q59.6174 1335.51 61.8396 1336.07 Q64.0618 1336.62 66.5386 1336.62 Q70.5432 1336.62 72.8812 1334.52 Q75.2191 1332.41 75.2191 1328.8 Q75.2191 1325.19 72.8812 1323.08 Q70.5432 1320.98 66.5386 1320.98 Q64.6636 1320.98 62.7887 1321.39 Q60.9368 1321.81 58.9924 1322.69 L58.9924 1305.33 Z\" fill=\"#000000\" fill-rule=\"evenodd\" fill-opacity=\"1\" /><path clip-path=\"url(#clip800)\" d=\"M89.108 1334.01 L93.9922 1334.01 L93.9922 1339.89 L89.108 1339.89 L89.108 1334.01 Z\" fill=\"#000000\" fill-rule=\"evenodd\" fill-opacity=\"1\" /><path clip-path=\"url(#clip800)\" d=\"M114.177 1308.41 Q110.566 1308.41 108.737 1311.97 Q106.932 1315.51 106.932 1322.64 Q106.932 1329.75 108.737 1333.31 Q110.566 1336.86 114.177 1336.86 Q117.812 1336.86 119.617 1333.31 Q121.446 1329.75 121.446 1322.64 Q121.446 1315.51 119.617 1311.97 Q117.812 1308.41 114.177 1308.41 M114.177 1304.7 Q119.987 1304.7 123.043 1309.31 Q126.122 1313.89 126.122 1322.64 Q126.122 1331.37 123.043 1335.98 Q119.987 1340.56 114.177 1340.56 Q108.367 1340.56 105.288 1335.98 Q102.233 1331.37 102.233 1322.64 Q102.233 1313.89 105.288 1309.31 Q108.367 1304.7 114.177 1304.7 Z\" fill=\"#000000\" fill-rule=\"evenodd\" fill-opacity=\"1\" /><path clip-path=\"url(#clip800)\" d=\"M144.339 1308.41 Q140.728 1308.41 138.899 1311.97 Q137.094 1315.51 137.094 1322.64 Q137.094 1329.75 138.899 1333.31 Q140.728 1336.86 144.339 1336.86 Q147.973 1336.86 149.779 1333.31 Q151.608 1329.75 151.608 1322.64 Q151.608 1315.51 149.779 1311.97 Q147.973 1308.41 144.339 1308.41 M144.339 1304.7 Q150.149 1304.7 153.205 1309.31 Q156.284 1313.89 156.284 1322.64 Q156.284 1331.37 153.205 1335.98 Q150.149 1340.56 144.339 1340.56 Q138.529 1340.56 135.45 1335.98 Q132.395 1331.37 132.395 1322.64 Q132.395 1313.89 135.45 1309.31 Q138.529 1304.7 144.339 1304.7 Z\" fill=\"#000000\" fill-rule=\"evenodd\" fill-opacity=\"1\" /><path clip-path=\"url(#clip800)\" d=\"M192.672 1314.42 L182.094 1325.05 L192.672 1335.63 L189.918 1338.43 L179.293 1327.8 L168.668 1338.43 L165.936 1335.63 L176.492 1325.05 L165.936 1314.42 L168.668 1311.62 L179.293 1322.25 L189.918 1311.62 L192.672 1314.42 Z\" fill=\"#000000\" fill-rule=\"evenodd\" fill-opacity=\"1\" /><path clip-path=\"url(#clip800)\" d=\"M205.033 1335.95 L212.672 1335.95 L212.672 1309.59 L204.362 1311.25 L204.362 1306.99 L212.626 1305.33 L217.302 1305.33 L217.302 1335.95 L224.941 1335.95 L224.941 1339.89 L205.033 1339.89 L205.033 1335.95 Z\" fill=\"#000000\" fill-rule=\"evenodd\" fill-opacity=\"1\" /><path clip-path=\"url(#clip800)\" d=\"M244.385 1308.41 Q240.774 1308.41 238.945 1311.97 Q237.14 1315.51 237.14 1322.64 Q237.14 1329.75 238.945 1333.31 Q240.774 1336.86 244.385 1336.86 Q248.019 1336.86 249.825 1333.31 Q251.653 1329.75 251.653 1322.64 Q251.653 1315.51 249.825 1311.97 Q248.019 1308.41 244.385 1308.41 M244.385 1304.7 Q250.195 1304.7 253.251 1309.31 Q256.329 1313.89 256.329 1322.64 Q256.329 1331.37 253.251 1335.98 Q250.195 1340.56 244.385 1340.56 Q238.575 1340.56 235.496 1335.98 Q232.441 1331.37 232.441 1322.64 Q232.441 1313.89 235.496 1309.31 Q238.575 1304.7 244.385 1304.7 Z\" fill=\"#000000\" fill-rule=\"evenodd\" fill-opacity=\"1\" /><path clip-path=\"url(#clip800)\" d=\"M265.959 1299.14 Q263.251 1299.14 261.689 1300.59 Q260.147 1302.04 260.147 1304.58 Q260.147 1307.12 261.689 1308.57 Q263.251 1310.01 265.959 1310.01 Q268.667 1310.01 270.228 1308.57 Q271.789 1307.1 271.789 1304.58 Q271.789 1302.04 270.228 1300.59 Q268.686 1299.14 265.959 1299.14 M262.16 1297.53 Q259.715 1296.92 258.342 1295.25 Q256.988 1293.58 256.988 1291.17 Q256.988 1287.8 259.376 1285.85 Q261.784 1283.89 265.959 1283.89 Q270.153 1283.89 272.542 1285.85 Q274.93 1287.8 274.93 1291.17 Q274.93 1293.58 273.557 1295.25 Q272.203 1296.92 269.777 1297.53 Q272.523 1298.16 274.046 1300.03 Q275.588 1301.89 275.588 1304.58 Q275.588 1308.66 273.087 1310.84 Q270.604 1313.02 265.959 1313.02 Q261.313 1313.02 258.812 1310.84 Q256.329 1308.66 256.329 1304.58 Q256.329 1301.89 257.872 1300.03 Q259.414 1298.16 262.16 1297.53 M260.768 1291.53 Q260.768 1293.71 262.122 1294.93 Q263.495 1296.15 265.959 1296.15 Q268.404 1296.15 269.777 1294.93 Q271.169 1293.71 271.169 1291.53 Q271.169 1289.34 269.777 1288.12 Q268.404 1286.9 265.959 1286.9 Q263.495 1286.9 262.122 1288.12 Q260.768 1289.34 260.768 1291.53 Z\" fill=\"#000000\" fill-rule=\"evenodd\" fill-opacity=\"1\" /><path clip-path=\"url(#clip800)\" d=\"M59.6434 1216.81 L67.2823 1216.81 L67.2823 1190.45 L58.9721 1192.11 L58.9721 1187.85 L67.236 1186.19 L71.9119 1186.19 L71.9119 1216.81 L79.5507 1216.81 L79.5507 1220.75 L59.6434 1220.75 L59.6434 1216.81 Z\" fill=\"#000000\" fill-rule=\"evenodd\" fill-opacity=\"1\" /><path clip-path=\"url(#clip800)\" d=\"M88.9951 1214.87 L93.8793 1214.87 L93.8793 1220.75 L88.9951 1220.75 L88.9951 1214.87 Z\" fill=\"#000000\" fill-rule=\"evenodd\" fill-opacity=\"1\" /><path clip-path=\"url(#clip800)\" d=\"M114.064 1189.27 Q110.453 1189.27 108.625 1192.83 Q106.819 1196.37 106.819 1203.5 Q106.819 1210.61 108.625 1214.17 Q110.453 1217.71 114.064 1217.71 Q117.699 1217.71 119.504 1214.17 Q121.333 1210.61 121.333 1203.5 Q121.333 1196.37 119.504 1192.83 Q117.699 1189.27 114.064 1189.27 M114.064 1185.56 Q119.875 1185.56 122.93 1190.17 Q126.009 1194.75 126.009 1203.5 Q126.009 1212.23 122.93 1216.84 Q119.875 1221.42 114.064 1221.42 Q108.254 1221.42 105.176 1216.84 Q102.12 1212.23 102.12 1203.5 Q102.12 1194.75 105.176 1190.17 Q108.254 1185.56 114.064 1185.56 Z\" fill=\"#000000\" fill-rule=\"evenodd\" fill-opacity=\"1\" /><path clip-path=\"url(#clip800)\" d=\"M144.226 1189.27 Q140.615 1189.27 138.787 1192.83 Q136.981 1196.37 136.981 1203.5 Q136.981 1210.61 138.787 1214.17 Q140.615 1217.71 144.226 1217.71 Q147.861 1217.71 149.666 1214.17 Q151.495 1210.61 151.495 1203.5 Q151.495 1196.37 149.666 1192.83 Q147.861 1189.27 144.226 1189.27 M144.226 1185.56 Q150.036 1185.56 153.092 1190.17 Q156.171 1194.75 156.171 1203.5 Q156.171 1212.23 153.092 1216.84 Q150.036 1221.42 144.226 1221.42 Q138.416 1221.42 135.337 1216.84 Q132.282 1212.23 132.282 1203.5 Q132.282 1194.75 135.337 1190.17 Q138.416 1185.56 144.226 1185.56 Z\" fill=\"#000000\" fill-rule=\"evenodd\" fill-opacity=\"1\" /><path clip-path=\"url(#clip800)\" d=\"M192.559 1195.28 L181.981 1205.91 L192.559 1216.49 L189.805 1219.29 L179.18 1208.66 L168.555 1219.29 L165.823 1216.49 L176.379 1205.91 L165.823 1195.28 L168.555 1192.48 L179.18 1203.11 L189.805 1192.48 L192.559 1195.28 Z\" fill=\"#000000\" fill-rule=\"evenodd\" fill-opacity=\"1\" /><path clip-path=\"url(#clip800)\" d=\"M204.92 1216.81 L212.559 1216.81 L212.559 1190.45 L204.249 1192.11 L204.249 1187.85 L212.513 1186.19 L217.189 1186.19 L217.189 1216.81 L224.828 1216.81 L224.828 1220.75 L204.92 1220.75 L204.92 1216.81 Z\" fill=\"#000000\" fill-rule=\"evenodd\" fill-opacity=\"1\" /><path clip-path=\"url(#clip800)\" d=\"M244.272 1189.27 Q240.661 1189.27 238.832 1192.83 Q237.027 1196.37 237.027 1203.5 Q237.027 1210.61 238.832 1214.17 Q240.661 1217.71 244.272 1217.71 Q247.906 1217.71 249.712 1214.17 Q251.541 1210.61 251.541 1203.5 Q251.541 1196.37 249.712 1192.83 Q247.906 1189.27 244.272 1189.27 M244.272 1185.56 Q250.082 1185.56 253.138 1190.17 Q256.216 1194.75 256.216 1203.5 Q256.216 1212.23 253.138 1216.84 Q250.082 1221.42 244.272 1221.42 Q238.462 1221.42 235.383 1216.84 Q232.328 1212.23 232.328 1203.5 Q232.328 1194.75 235.383 1190.17 Q238.462 1185.56 244.272 1185.56 Z\" fill=\"#000000\" fill-rule=\"evenodd\" fill-opacity=\"1\" /><path clip-path=\"url(#clip800)\" d=\"M258.022 1192.75 L258.022 1189.29 Q259.451 1189.97 260.918 1190.33 Q262.385 1190.69 263.796 1190.69 Q267.558 1190.69 269.532 1188.16 Q271.526 1185.63 271.808 1180.47 Q270.717 1182.09 269.043 1182.96 Q267.369 1183.82 265.338 1183.82 Q261.125 1183.82 258.661 1181.28 Q256.216 1178.72 256.216 1174.3 Q256.216 1169.98 258.774 1167.36 Q261.332 1164.75 265.583 1164.75 Q270.454 1164.75 273.012 1168.49 Q275.588 1172.22 275.588 1179.33 Q275.588 1185.96 272.429 1189.93 Q269.288 1193.88 263.965 1193.88 Q262.536 1193.88 261.069 1193.6 Q259.602 1193.32 258.022 1192.75 M265.583 1180.85 Q268.141 1180.85 269.626 1179.1 Q271.131 1177.35 271.131 1174.3 Q271.131 1171.28 269.626 1169.53 Q268.141 1167.76 265.583 1167.76 Q263.025 1167.76 261.52 1169.53 Q260.034 1171.28 260.034 1174.3 Q260.034 1177.35 261.52 1179.1 Q263.025 1180.85 265.583 1180.85 Z\" fill=\"#000000\" fill-rule=\"evenodd\" fill-opacity=\"1\" /><path clip-path=\"url(#clip800)\" d=\"M59.6434 1097.67 L67.2823 1097.67 L67.2823 1071.31 L58.9721 1072.97 L58.9721 1068.71 L67.236 1067.05 L71.9119 1067.05 L71.9119 1097.67 L79.5507 1097.67 L79.5507 1101.61 L59.6434 1101.61 L59.6434 1097.67 Z\" fill=\"#000000\" fill-rule=\"evenodd\" fill-opacity=\"1\" /><path clip-path=\"url(#clip800)\" d=\"M88.9951 1095.73 L93.8793 1095.73 L93.8793 1101.61 L88.9951 1101.61 L88.9951 1095.73 Z\" fill=\"#000000\" fill-rule=\"evenodd\" fill-opacity=\"1\" /><path clip-path=\"url(#clip800)\" d=\"M104.111 1067.05 L122.467 1067.05 L122.467 1070.98 L108.393 1070.98 L108.393 1079.45 Q109.412 1079.11 110.43 1078.95 Q111.449 1078.76 112.467 1078.76 Q118.254 1078.76 121.634 1081.93 Q125.013 1085.1 125.013 1090.52 Q125.013 1096.1 121.541 1099.2 Q118.069 1102.28 111.75 1102.28 Q109.574 1102.28 107.305 1101.91 Q105.06 1101.54 102.652 1100.8 L102.652 1096.1 Q104.736 1097.23 106.958 1097.79 Q109.18 1098.34 111.657 1098.34 Q115.662 1098.34 118 1096.24 Q120.338 1094.13 120.338 1090.52 Q120.338 1086.91 118 1084.8 Q115.662 1082.69 111.657 1082.69 Q109.782 1082.69 107.907 1083.11 Q106.055 1083.53 104.111 1084.41 L104.111 1067.05 Z\" fill=\"#000000\" fill-rule=\"evenodd\" fill-opacity=\"1\" /><path clip-path=\"url(#clip800)\" d=\"M144.226 1070.13 Q140.615 1070.13 138.787 1073.69 Q136.981 1077.23 136.981 1084.36 Q136.981 1091.47 138.787 1095.03 Q140.615 1098.57 144.226 1098.57 Q147.861 1098.57 149.666 1095.03 Q151.495 1091.47 151.495 1084.36 Q151.495 1077.23 149.666 1073.69 Q147.861 1070.13 144.226 1070.13 M144.226 1066.42 Q150.036 1066.42 153.092 1071.03 Q156.171 1075.61 156.171 1084.36 Q156.171 1093.09 153.092 1097.69 Q150.036 1102.28 144.226 1102.28 Q138.416 1102.28 135.337 1097.69 Q132.282 1093.09 132.282 1084.36 Q132.282 1075.61 135.337 1071.03 Q138.416 1066.42 144.226 1066.42 Z\" fill=\"#000000\" fill-rule=\"evenodd\" fill-opacity=\"1\" /><path clip-path=\"url(#clip800)\" d=\"M192.559 1076.14 L181.981 1086.77 L192.559 1097.35 L189.805 1100.15 L179.18 1089.52 L168.555 1100.15 L165.823 1097.35 L176.379 1086.77 L165.823 1076.14 L168.555 1073.34 L179.18 1083.97 L189.805 1073.34 L192.559 1076.14 Z\" fill=\"#000000\" fill-rule=\"evenodd\" fill-opacity=\"1\" /><path clip-path=\"url(#clip800)\" d=\"M204.92 1097.67 L212.559 1097.67 L212.559 1071.31 L204.249 1072.97 L204.249 1068.71 L212.513 1067.05 L217.189 1067.05 L217.189 1097.67 L224.828 1097.67 L224.828 1101.61 L204.92 1101.61 L204.92 1097.67 Z\" fill=\"#000000\" fill-rule=\"evenodd\" fill-opacity=\"1\" /><path clip-path=\"url(#clip800)\" d=\"M244.272 1070.13 Q240.661 1070.13 238.832 1073.69 Q237.027 1077.23 237.027 1084.36 Q237.027 1091.47 238.832 1095.03 Q240.661 1098.57 244.272 1098.57 Q247.906 1098.57 249.712 1095.03 Q251.541 1091.47 251.541 1084.36 Q251.541 1077.23 249.712 1073.69 Q247.906 1070.13 244.272 1070.13 M244.272 1066.42 Q250.082 1066.42 253.138 1071.03 Q256.216 1075.61 256.216 1084.36 Q256.216 1093.09 253.138 1097.69 Q250.082 1102.28 244.272 1102.28 Q238.462 1102.28 235.383 1097.69 Q232.328 1093.09 232.328 1084.36 Q232.328 1075.61 235.383 1071.03 Q238.462 1066.42 244.272 1066.42 Z\" fill=\"#000000\" fill-rule=\"evenodd\" fill-opacity=\"1\" /><path clip-path=\"url(#clip800)\" d=\"M258.022 1073.61 L258.022 1070.15 Q259.451 1070.83 260.918 1071.19 Q262.385 1071.54 263.796 1071.54 Q267.558 1071.54 269.532 1069.02 Q271.526 1066.49 271.808 1061.33 Q270.717 1062.95 269.043 1063.81 Q267.369 1064.68 265.338 1064.68 Q261.125 1064.68 258.661 1062.14 Q256.216 1059.58 256.216 1055.16 Q256.216 1050.84 258.774 1048.22 Q261.332 1045.61 265.583 1045.61 Q270.454 1045.61 273.012 1049.35 Q275.588 1053.08 275.588 1060.18 Q275.588 1066.82 272.429 1070.79 Q269.288 1074.74 263.965 1074.74 Q262.536 1074.74 261.069 1074.46 Q259.602 1074.18 258.022 1073.61 M265.583 1061.71 Q268.141 1061.71 269.626 1059.96 Q271.131 1058.21 271.131 1055.16 Q271.131 1052.14 269.626 1050.39 Q268.141 1048.62 265.583 1048.62 Q263.025 1048.62 261.52 1050.39 Q260.034 1052.14 260.034 1055.16 Q260.034 1058.21 261.52 1059.96 Q263.025 1061.71 265.583 1061.71 Z\" fill=\"#000000\" fill-rule=\"evenodd\" fill-opacity=\"1\" /><path clip-path=\"url(#clip800)\" d=\"M62.861 978.531 L79.1803 978.531 L79.1803 982.466 L57.236 982.466 L57.236 978.531 Q59.898 975.777 64.4813 971.147 Q69.0878 966.494 70.2684 965.152 Q72.5137 962.629 73.3933 960.893 Q74.2961 959.133 74.2961 957.443 Q74.2961 954.689 72.3517 952.953 Q70.4304 951.217 67.3286 951.217 Q65.1295 951.217 62.6758 951.981 Q60.2453 952.744 57.4675 954.295 L57.4675 949.573 Q60.2916 948.439 62.7452 947.86 Q65.1989 947.281 67.236 947.281 Q72.6063 947.281 75.8007 949.967 Q78.9952 952.652 78.9952 957.143 Q78.9952 959.272 78.185 961.193 Q77.3979 963.092 75.2915 965.684 Q74.7128 966.355 71.6109 969.573 Q68.5091 972.767 62.861 978.531 Z\" fill=\"#000000\" fill-rule=\"evenodd\" fill-opacity=\"1\" /><path clip-path=\"url(#clip800)\" d=\"M88.9951 976.587 L93.8793 976.587 L93.8793 982.466 L88.9951 982.466 L88.9951 976.587 Z\" fill=\"#000000\" fill-rule=\"evenodd\" fill-opacity=\"1\" /><path clip-path=\"url(#clip800)\" d=\"M114.064 950.985 Q110.453 950.985 108.625 954.55 Q106.819 958.092 106.819 965.221 Q106.819 972.328 108.625 975.892 Q110.453 979.434 114.064 979.434 Q117.699 979.434 119.504 975.892 Q121.333 972.328 121.333 965.221 Q121.333 958.092 119.504 954.55 Q117.699 950.985 114.064 950.985 M114.064 947.281 Q119.875 947.281 122.93 951.888 Q126.009 956.471 126.009 965.221 Q126.009 973.948 122.93 978.554 Q119.875 983.138 114.064 983.138 Q108.254 983.138 105.176 978.554 Q102.12 973.948 102.12 965.221 Q102.12 956.471 105.176 951.888 Q108.254 947.281 114.064 947.281 Z\" fill=\"#000000\" fill-rule=\"evenodd\" fill-opacity=\"1\" /><path clip-path=\"url(#clip800)\" d=\"M144.226 950.985 Q140.615 950.985 138.787 954.55 Q136.981 958.092 136.981 965.221 Q136.981 972.328 138.787 975.892 Q140.615 979.434 144.226 979.434 Q147.861 979.434 149.666 975.892 Q151.495 972.328 151.495 965.221 Q151.495 958.092 149.666 954.55 Q147.861 950.985 144.226 950.985 M144.226 947.281 Q150.036 947.281 153.092 951.888 Q156.171 956.471 156.171 965.221 Q156.171 973.948 153.092 978.554 Q150.036 983.138 144.226 983.138 Q138.416 983.138 135.337 978.554 Q132.282 973.948 132.282 965.221 Q132.282 956.471 135.337 951.888 Q138.416 947.281 144.226 947.281 Z\" fill=\"#000000\" fill-rule=\"evenodd\" fill-opacity=\"1\" /><path clip-path=\"url(#clip800)\" d=\"M192.559 957.004 L181.981 967.629 L192.559 978.207 L189.805 981.008 L179.18 970.383 L168.555 981.008 L165.823 978.207 L176.379 967.629 L165.823 957.004 L168.555 954.203 L179.18 964.828 L189.805 954.203 L192.559 957.004 Z\" fill=\"#000000\" fill-rule=\"evenodd\" fill-opacity=\"1\" /><path clip-path=\"url(#clip800)\" d=\"M204.92 978.531 L212.559 978.531 L212.559 952.166 L204.249 953.832 L204.249 949.573 L212.513 947.906 L217.189 947.906 L217.189 978.531 L224.828 978.531 L224.828 982.466 L204.92 982.466 L204.92 978.531 Z\" fill=\"#000000\" fill-rule=\"evenodd\" fill-opacity=\"1\" /><path clip-path=\"url(#clip800)\" d=\"M244.272 950.985 Q240.661 950.985 238.832 954.55 Q237.027 958.092 237.027 965.221 Q237.027 972.328 238.832 975.892 Q240.661 979.434 244.272 979.434 Q247.906 979.434 249.712 975.892 Q251.541 972.328 251.541 965.221 Q251.541 958.092 249.712 954.55 Q247.906 950.985 244.272 950.985 M244.272 947.281 Q250.082 947.281 253.138 951.888 Q256.216 956.471 256.216 965.221 Q256.216 973.948 253.138 978.554 Q250.082 983.138 244.272 983.138 Q238.462 983.138 235.383 978.554 Q232.328 973.948 232.328 965.221 Q232.328 956.471 235.383 951.888 Q238.462 947.281 244.272 947.281 Z\" fill=\"#000000\" fill-rule=\"evenodd\" fill-opacity=\"1\" /><path clip-path=\"url(#clip800)\" d=\"M258.022 954.473 L258.022 951.012 Q259.451 951.69 260.918 952.047 Q262.385 952.404 263.796 952.404 Q267.558 952.404 269.532 949.884 Q271.526 947.345 271.808 942.192 Q270.717 943.809 269.043 944.674 Q267.369 945.539 265.338 945.539 Q261.125 945.539 258.661 943 Q256.216 940.442 256.216 936.023 Q256.216 931.697 258.774 929.083 Q261.332 926.468 265.583 926.468 Q270.454 926.468 273.012 930.211 Q275.588 933.935 275.588 941.044 Q275.588 947.683 272.429 951.652 Q269.288 955.602 263.965 955.602 Q262.536 955.602 261.069 955.319 Q259.602 955.037 258.022 954.473 M265.583 942.568 Q268.141 942.568 269.626 940.819 Q271.131 939.069 271.131 936.023 Q271.131 932.995 269.626 931.245 Q268.141 929.478 265.583 929.478 Q263.025 929.478 261.52 931.245 Q260.034 932.995 260.034 936.023 Q260.034 939.069 261.52 940.819 Q263.025 942.568 265.583 942.568 Z\" fill=\"#000000\" fill-rule=\"evenodd\" fill-opacity=\"1\" /><path clip-path=\"url(#clip800)\" d=\"M-23.1934 1194.52 Q-23.7663 1195.51 -24.021 1196.68 Q-24.3074 1197.83 -24.3074 1199.23 Q-24.3074 1204.19 -21.0609 1206.87 Q-17.8462 1209.51 -11.7988 1209.51 L6.98002 1209.51 L6.98002 1215.4 L-28.6679 1215.4 L-28.6679 1209.51 L-23.1298 1209.51 Q-26.3763 1207.66 -27.9359 1204.7 Q-29.5273 1201.74 -29.5273 1197.51 Q-29.5273 1196.91 -29.4318 1196.17 Q-29.3682 1195.44 -29.209 1194.55 L-23.1934 1194.52 Z\" fill=\"#000000\" fill-rule=\"evenodd\" fill-opacity=\"1\" /><path clip-path=\"url(#clip800)\" d=\"M-10.9394 1172.18 Q-10.9394 1179.27 -9.31619 1182.01 Q-7.69294 1184.75 -3.77803 1184.75 Q-0.65883 1184.75 1.18723 1182.71 Q3.00145 1180.64 3.00145 1177.11 Q3.00145 1172.24 -0.43603 1169.31 Q-3.90534 1166.35 -9.63448 1166.35 L-10.9394 1166.35 L-10.9394 1172.18 M-13.3584 1160.49 L6.98002 1160.49 L6.98002 1166.35 L1.56917 1166.35 Q4.81568 1168.36 6.37528 1171.35 Q7.90305 1174.34 7.90305 1178.67 Q7.90305 1184.14 4.84751 1187.39 Q1.76014 1190.6 -3.39608 1190.6 Q-9.41168 1190.6 -12.4672 1186.59 Q-15.5228 1182.55 -15.5228 1174.56 L-15.5228 1166.35 L-16.0957 1166.35 Q-20.1379 1166.35 -22.3341 1169.02 Q-24.5621 1171.67 -24.5621 1176.47 Q-24.5621 1179.53 -23.83 1182.42 Q-23.0979 1185.32 -21.6338 1187.99 L-27.0447 1187.99 Q-28.286 1184.78 -28.8907 1181.76 Q-29.5273 1178.73 -29.5273 1175.87 Q-29.5273 1168.13 -25.5169 1164.31 Q-21.5065 1160.49 -13.3584 1160.49 Z\" fill=\"#000000\" fill-rule=\"evenodd\" fill-opacity=\"1\" /><path clip-path=\"url(#clip800)\" d=\"M-38.7894 1142.64 L-28.6679 1142.64 L-28.6679 1130.58 L-24.1165 1130.58 L-24.1165 1142.64 L-4.76471 1142.64 Q-0.404202 1142.64 0.837111 1141.46 Q2.07842 1140.25 2.07842 1136.59 L2.07842 1130.58 L6.98002 1130.58 L6.98002 1136.59 Q6.98002 1143.37 4.46556 1145.95 Q1.91928 1148.53 -4.76471 1148.53 L-24.1165 1148.53 L-24.1165 1152.82 L-28.6679 1152.82 L-28.6679 1148.53 L-38.7894 1148.53 L-38.7894 1142.64 Z\" fill=\"#000000\" fill-rule=\"evenodd\" fill-opacity=\"1\" /><path clip-path=\"url(#clip800)\" d=\"M-28.6679 1122.87 L-28.6679 1117.02 L6.98002 1117.02 L6.98002 1122.87 L-28.6679 1122.87 M-42.5452 1122.87 L-42.5452 1117.02 L-35.1291 1117.02 L-35.1291 1122.87 L-42.5452 1122.87 Z\" fill=\"#000000\" fill-rule=\"evenodd\" fill-opacity=\"1\" /><path clip-path=\"url(#clip800)\" d=\"M-24.5621 1090.95 Q-24.5621 1095.66 -20.8699 1098.4 Q-17.2097 1101.13 -10.8121 1101.13 Q-4.4146 1101.13 -0.722487 1098.43 Q2.93779 1095.69 2.93779 1090.95 Q2.93779 1086.27 -0.754315 1083.53 Q-4.44643 1080.8 -10.8121 1080.8 Q-17.146 1080.8 -20.8381 1083.53 Q-24.5621 1086.27 -24.5621 1090.95 M-29.5273 1090.95 Q-29.5273 1083.31 -24.5621 1078.95 Q-19.5968 1074.59 -10.8121 1074.59 Q-2.05929 1074.59 2.93779 1078.95 Q7.90305 1083.31 7.90305 1090.95 Q7.90305 1098.62 2.93779 1102.98 Q-2.05929 1107.31 -10.8121 1107.31 Q-19.5968 1107.31 -24.5621 1102.98 Q-29.5273 1098.62 -29.5273 1090.95 Z\" fill=\"#000000\" fill-rule=\"evenodd\" fill-opacity=\"1\" /><polyline clip-path=\"url(#clip803)\" style=\"stroke:#008000; stroke-linecap:butt; stroke-linejoin:round; stroke-width:4; stroke-opacity:1; fill:none\" points=\"\n",
       "  346.716,882.643 358.543,882.652 370.371,882.662 382.198,882.673 394.025,882.685 405.853,882.698 417.68,882.712 429.508,882.728 441.335,882.745 453.162,882.763 \n",
       "  464.99,882.783 476.817,882.804 488.645,882.828 500.472,882.854 512.299,882.882 524.127,882.912 535.954,882.945 547.782,882.981 559.609,883.02 571.436,883.062 \n",
       "  583.264,883.108 595.091,883.158 606.919,883.213 618.746,883.271 630.573,883.335 642.401,864.098 654.228,864.206 666.056,864.324 677.883,864.454 689.71,864.596 \n",
       "  701.538,864.752 713.365,864.922 725.193,865.11 737.02,865.315 748.847,865.54 760.675,865.787 772.502,866.057 784.33,866.353 796.157,866.677 807.984,867.032 \n",
       "  819.812,867.421 831.639,867.846 843.467,868.312 855.294,868.821 867.121,869.379 878.949,869.988 890.776,870.654 902.604,871.382 914.431,872.177 926.258,873.045 \n",
       "  938.086,873.992 949.913,875.025 961.741,876.151 973.568,877.378 985.395,878.714 997.223,880.167 1009.05,881.747 1020.88,883.463 1032.71,885.347 1044.53,887.534 \n",
       "  1056.36,889.907 1068.19,892.48 1080.01,895.267 1091.84,898.281 1103.67,901.535 1115.5,905.044 1127.32,908.75 1139.15,912.701 1150.98,916.942 1162.81,921.483 \n",
       "  1174.63,926.346 1186.46,931.564 1198.29,937.133 1210.12,943.132 1221.94,949.702 1233.77,956.406 1245.6,962.902 1257.43,969.37 1269.25,975.968 1281.08,982.734 \n",
       "  1292.91,989.517 1304.74,997.223 1316.56,1005.54 1328.39,1014.18 1340.22,1023.72 1352.04,1033.45 1363.87,1045.49 1375.7,1059.46 1387.53,1075.47 1399.35,1095.07 \n",
       "  1411.18,1141.11 1423.01,1186.8 1434.84,1212.21 1446.66,1238.7 1458.49,1268.51 1470.32,1303.47 1482.15,1341.22 1493.97,1377.91 1505.8,1406.32 1517.63,1425.89 \n",
       "  \n",
       "  \"/>\n",
       "<path clip-path=\"url(#clip800)\" d=\"\n",
       "M311.588 2242.74 L1552.76 2242.74 L1552.76 1647.24 L311.588 1647.24  Z\n",
       "  \" fill=\"#ffffff\" fill-rule=\"evenodd\" fill-opacity=\"1\"/>\n",
       "<defs>\n",
       "  <clipPath id=\"clip804\">\n",
       "    <rect x=\"311\" y=\"1647\" width=\"1242\" height=\"596\"/>\n",
       "  </clipPath>\n",
       "</defs>\n",
       "<polyline clip-path=\"url(#clip804)\" style=\"stroke:#000000; stroke-linecap:butt; stroke-linejoin:round; stroke-width:2; stroke-opacity:0.1; fill:none\" points=\"\n",
       "  639.444,2242.74 639.444,1647.24 \n",
       "  \"/>\n",
       "<polyline clip-path=\"url(#clip804)\" style=\"stroke:#000000; stroke-linecap:butt; stroke-linejoin:round; stroke-width:2; stroke-opacity:0.1; fill:none\" points=\"\n",
       "  1224.9,2242.74 1224.9,1647.24 \n",
       "  \"/>\n",
       "<polyline clip-path=\"url(#clip800)\" style=\"stroke:#000000; stroke-linecap:butt; stroke-linejoin:round; stroke-width:4; stroke-opacity:1; fill:none\" points=\"\n",
       "  311.588,2242.74 1552.76,2242.74 \n",
       "  \"/>\n",
       "<polyline clip-path=\"url(#clip800)\" style=\"stroke:#000000; stroke-linecap:butt; stroke-linejoin:round; stroke-width:4; stroke-opacity:1; fill:none\" points=\"\n",
       "  639.444,2242.74 639.444,2223.85 \n",
       "  \"/>\n",
       "<polyline clip-path=\"url(#clip800)\" style=\"stroke:#000000; stroke-linecap:butt; stroke-linejoin:round; stroke-width:4; stroke-opacity:1; fill:none\" points=\"\n",
       "  1224.9,2242.74 1224.9,2223.85 \n",
       "  \"/>\n",
       "<path clip-path=\"url(#clip800)\" d=\"M604.427 2316.87 L612.066 2316.87 L612.066 2290.5 L603.756 2292.17 L603.756 2287.91 L612.019 2286.24 L616.695 2286.24 L616.695 2316.87 L624.334 2316.87 L624.334 2320.8 L604.427 2320.8 L604.427 2316.87 Z\" fill=\"#000000\" fill-rule=\"evenodd\" fill-opacity=\"1\" /><path clip-path=\"url(#clip800)\" d=\"M643.778 2289.32 Q640.167 2289.32 638.339 2292.89 Q636.533 2296.43 636.533 2303.56 Q636.533 2310.66 638.339 2314.23 Q640.167 2317.77 643.778 2317.77 Q647.413 2317.77 649.218 2314.23 Q651.047 2310.66 651.047 2303.56 Q651.047 2296.43 649.218 2292.89 Q647.413 2289.32 643.778 2289.32 M643.778 2285.62 Q649.589 2285.62 652.644 2290.22 Q655.723 2294.81 655.723 2303.56 Q655.723 2312.28 652.644 2316.89 Q649.589 2321.47 643.778 2321.47 Q637.968 2321.47 634.89 2316.89 Q631.834 2312.28 631.834 2303.56 Q631.834 2294.81 634.89 2290.22 Q637.968 2285.62 643.778 2285.62 Z\" fill=\"#000000\" fill-rule=\"evenodd\" fill-opacity=\"1\" /><path clip-path=\"url(#clip800)\" d=\"M665.428 2267.81 Q662.494 2267.81 661.008 2270.71 Q659.541 2273.59 659.541 2279.38 Q659.541 2285.15 661.008 2288.05 Q662.494 2290.93 665.428 2290.93 Q668.38 2290.93 669.847 2288.05 Q671.333 2285.15 671.333 2279.38 Q671.333 2273.59 669.847 2270.71 Q668.38 2267.81 665.428 2267.81 M665.428 2264.8 Q670.148 2264.8 672.631 2268.55 Q675.132 2272.27 675.132 2279.38 Q675.132 2286.47 672.631 2290.21 Q670.148 2293.94 665.428 2293.94 Q660.707 2293.94 658.205 2290.21 Q655.723 2286.47 655.723 2279.38 Q655.723 2272.27 658.205 2268.55 Q660.707 2264.8 665.428 2264.8 Z\" fill=\"#000000\" fill-rule=\"evenodd\" fill-opacity=\"1\" /><path clip-path=\"url(#clip800)\" d=\"M1190.67 2316.87 L1198.31 2316.87 L1198.31 2290.5 L1190 2292.17 L1190 2287.91 L1198.27 2286.24 L1202.94 2286.24 L1202.94 2316.87 L1210.58 2316.87 L1210.58 2320.8 L1190.67 2320.8 L1190.67 2316.87 Z\" fill=\"#000000\" fill-rule=\"evenodd\" fill-opacity=\"1\" /><path clip-path=\"url(#clip800)\" d=\"M1230.02 2289.32 Q1226.41 2289.32 1224.58 2292.89 Q1222.78 2296.43 1222.78 2303.56 Q1222.78 2310.66 1224.58 2314.23 Q1226.41 2317.77 1230.02 2317.77 Q1233.66 2317.77 1235.46 2314.23 Q1237.29 2310.66 1237.29 2303.56 Q1237.29 2296.43 1235.46 2292.89 Q1233.66 2289.32 1230.02 2289.32 M1230.02 2285.62 Q1235.83 2285.62 1238.89 2290.22 Q1241.97 2294.81 1241.97 2303.56 Q1241.97 2312.28 1238.89 2316.89 Q1235.83 2321.47 1230.02 2321.47 Q1224.21 2321.47 1221.14 2316.89 Q1218.08 2312.28 1218.08 2303.56 Q1218.08 2294.81 1221.14 2290.22 Q1224.21 2285.62 1230.02 2285.62 Z\" fill=\"#000000\" fill-rule=\"evenodd\" fill-opacity=\"1\" /><path clip-path=\"url(#clip800)\" d=\"M1246.54 2290.2 L1259.8 2290.2 L1259.8 2293.39 L1241.97 2293.39 L1241.97 2290.2 Q1244.13 2287.96 1247.86 2284.2 Q1251.6 2280.42 1252.56 2279.32 Q1254.38 2277.27 1255.1 2275.86 Q1255.83 2274.43 1255.83 2273.06 Q1255.83 2270.82 1254.25 2269.41 Q1252.69 2268 1250.17 2268 Q1248.38 2268 1246.39 2268.62 Q1244.41 2269.24 1242.16 2270.5 L1242.16 2266.67 Q1244.45 2265.75 1246.45 2265.28 Q1248.44 2264.8 1250.09 2264.8 Q1254.46 2264.8 1257.05 2266.99 Q1259.65 2269.17 1259.65 2272.82 Q1259.65 2274.55 1258.99 2276.11 Q1258.35 2277.65 1256.64 2279.76 Q1256.17 2280.3 1253.65 2282.92 Q1251.13 2285.51 1246.54 2290.2 Z\" fill=\"#000000\" fill-rule=\"evenodd\" fill-opacity=\"1\" /><polyline clip-path=\"url(#clip804)\" style=\"stroke:#000000; stroke-linecap:butt; stroke-linejoin:round; stroke-width:2; stroke-opacity:0.1; fill:none\" points=\"\n",
       "  311.588,2225.9 1552.76,2225.9 \n",
       "  \"/>\n",
       "<polyline clip-path=\"url(#clip804)\" style=\"stroke:#000000; stroke-linecap:butt; stroke-linejoin:round; stroke-width:2; stroke-opacity:0.1; fill:none\" points=\"\n",
       "  311.588,2108.59 1552.76,2108.59 \n",
       "  \"/>\n",
       "<polyline clip-path=\"url(#clip804)\" style=\"stroke:#000000; stroke-linecap:butt; stroke-linejoin:round; stroke-width:2; stroke-opacity:0.1; fill:none\" points=\"\n",
       "  311.588,1991.29 1552.76,1991.29 \n",
       "  \"/>\n",
       "<polyline clip-path=\"url(#clip804)\" style=\"stroke:#000000; stroke-linecap:butt; stroke-linejoin:round; stroke-width:2; stroke-opacity:0.1; fill:none\" points=\"\n",
       "  311.588,1873.98 1552.76,1873.98 \n",
       "  \"/>\n",
       "<polyline clip-path=\"url(#clip804)\" style=\"stroke:#000000; stroke-linecap:butt; stroke-linejoin:round; stroke-width:2; stroke-opacity:0.1; fill:none\" points=\"\n",
       "  311.588,1756.67 1552.76,1756.67 \n",
       "  \"/>\n",
       "<polyline clip-path=\"url(#clip800)\" style=\"stroke:#000000; stroke-linecap:butt; stroke-linejoin:round; stroke-width:4; stroke-opacity:1; fill:none\" points=\"\n",
       "  311.588,2242.74 311.588,1647.24 \n",
       "  \"/>\n",
       "<polyline clip-path=\"url(#clip800)\" style=\"stroke:#000000; stroke-linecap:butt; stroke-linejoin:round; stroke-width:4; stroke-opacity:1; fill:none\" points=\"\n",
       "  311.588,2225.9 330.486,2225.9 \n",
       "  \"/>\n",
       "<polyline clip-path=\"url(#clip800)\" style=\"stroke:#000000; stroke-linecap:butt; stroke-linejoin:round; stroke-width:4; stroke-opacity:1; fill:none\" points=\"\n",
       "  311.588,2108.59 330.486,2108.59 \n",
       "  \"/>\n",
       "<polyline clip-path=\"url(#clip800)\" style=\"stroke:#000000; stroke-linecap:butt; stroke-linejoin:round; stroke-width:4; stroke-opacity:1; fill:none\" points=\"\n",
       "  311.588,1991.29 330.486,1991.29 \n",
       "  \"/>\n",
       "<polyline clip-path=\"url(#clip800)\" style=\"stroke:#000000; stroke-linecap:butt; stroke-linejoin:round; stroke-width:4; stroke-opacity:1; fill:none\" points=\"\n",
       "  311.588,1873.98 330.486,1873.98 \n",
       "  \"/>\n",
       "<polyline clip-path=\"url(#clip800)\" style=\"stroke:#000000; stroke-linecap:butt; stroke-linejoin:round; stroke-width:4; stroke-opacity:1; fill:none\" points=\"\n",
       "  311.588,1756.67 330.486,1756.67 \n",
       "  \"/>\n",
       "<path clip-path=\"url(#clip800)\" d=\"M263.644 2211.7 Q260.033 2211.7 258.204 2215.26 Q256.399 2218.8 256.399 2225.93 Q256.399 2233.04 258.204 2236.6 Q260.033 2240.15 263.644 2240.15 Q267.278 2240.15 269.084 2236.6 Q270.913 2233.04 270.913 2225.93 Q270.913 2218.8 269.084 2215.26 Q267.278 2211.7 263.644 2211.7 M263.644 2207.99 Q269.454 2207.99 272.51 2212.6 Q275.588 2217.18 275.588 2225.93 Q275.588 2234.66 272.51 2239.27 Q269.454 2243.85 263.644 2243.85 Q257.834 2243.85 254.755 2239.27 Q251.7 2234.66 251.7 2225.93 Q251.7 2217.18 254.755 2212.6 Q257.834 2207.99 263.644 2207.99 Z\" fill=\"#000000\" fill-rule=\"evenodd\" fill-opacity=\"1\" /><path clip-path=\"url(#clip800)\" d=\"M91.932 2128.38 L108.251 2128.38 L108.251 2132.32 L86.307 2132.32 L86.307 2128.38 Q88.9691 2125.63 93.5524 2121 Q98.1588 2116.35 99.3394 2115 Q101.585 2112.48 102.464 2110.75 Q103.367 2108.99 103.367 2107.3 Q103.367 2104.54 101.423 2102.81 Q99.5014 2101.07 96.3996 2101.07 Q94.2005 2101.07 91.7468 2101.83 Q89.3163 2102.6 86.5385 2104.15 L86.5385 2099.43 Q89.3626 2098.29 91.8163 2097.71 Q94.27 2097.13 96.307 2097.13 Q101.677 2097.13 104.872 2099.82 Q108.066 2102.51 108.066 2107 Q108.066 2109.13 107.256 2111.05 Q106.469 2112.94 104.363 2115.54 Q103.784 2116.21 100.682 2119.43 Q97.5801 2122.62 91.932 2128.38 Z\" fill=\"#000000\" fill-rule=\"evenodd\" fill-opacity=\"1\" /><path clip-path=\"url(#clip800)\" d=\"M118.066 2126.44 L122.95 2126.44 L122.95 2132.32 L118.066 2132.32 L118.066 2126.44 Z\" fill=\"#000000\" fill-rule=\"evenodd\" fill-opacity=\"1\" /><path clip-path=\"url(#clip800)\" d=\"M143.135 2100.84 Q139.524 2100.84 137.696 2104.4 Q135.89 2107.94 135.89 2115.07 Q135.89 2122.18 137.696 2125.75 Q139.524 2129.29 143.135 2129.29 Q146.77 2129.29 148.575 2125.75 Q150.404 2122.18 150.404 2115.07 Q150.404 2107.94 148.575 2104.4 Q146.77 2100.84 143.135 2100.84 M143.135 2097.13 Q148.946 2097.13 152.001 2101.74 Q155.08 2106.32 155.08 2115.07 Q155.08 2123.8 152.001 2128.41 Q148.946 2132.99 143.135 2132.99 Q137.325 2132.99 134.247 2128.41 Q131.191 2123.8 131.191 2115.07 Q131.191 2106.32 134.247 2101.74 Q137.325 2097.13 143.135 2097.13 Z\" fill=\"#000000\" fill-rule=\"evenodd\" fill-opacity=\"1\" /><path clip-path=\"url(#clip800)\" d=\"M191.469 2106.86 L180.89 2117.48 L191.469 2128.06 L188.714 2130.86 L178.089 2120.24 L167.464 2130.86 L164.733 2128.06 L175.288 2117.48 L164.733 2106.86 L167.464 2104.06 L178.089 2114.68 L188.714 2104.06 L191.469 2106.86 Z\" fill=\"#000000\" fill-rule=\"evenodd\" fill-opacity=\"1\" /><path clip-path=\"url(#clip800)\" d=\"M203.83 2128.38 L211.468 2128.38 L211.468 2102.02 L203.158 2103.69 L203.158 2099.43 L211.422 2097.76 L216.098 2097.76 L216.098 2128.38 L223.737 2128.38 L223.737 2132.32 L203.83 2132.32 L203.83 2128.38 Z\" fill=\"#000000\" fill-rule=\"evenodd\" fill-opacity=\"1\" /><path clip-path=\"url(#clip800)\" d=\"M243.181 2100.84 Q239.57 2100.84 237.741 2104.4 Q235.936 2107.94 235.936 2115.07 Q235.936 2122.18 237.741 2125.75 Q239.57 2129.29 243.181 2129.29 Q246.815 2129.29 248.621 2125.75 Q250.45 2122.18 250.45 2115.07 Q250.45 2107.94 248.621 2104.4 Q246.815 2100.84 243.181 2100.84 M243.181 2097.13 Q248.991 2097.13 252.047 2101.74 Q255.126 2106.32 255.126 2115.07 Q255.126 2123.8 252.047 2128.41 Q248.991 2132.99 243.181 2132.99 Q237.371 2132.99 234.292 2128.41 Q231.237 2123.8 231.237 2115.07 Q231.237 2106.32 234.292 2101.74 Q237.371 2097.13 243.181 2097.13 Z\" fill=\"#000000\" fill-rule=\"evenodd\" fill-opacity=\"1\" /><path clip-path=\"url(#clip800)\" d=\"M267.802 2080.14 L258.21 2095.13 L267.802 2095.13 L267.802 2080.14 M266.805 2076.83 L271.582 2076.83 L271.582 2095.13 L275.588 2095.13 L275.588 2098.29 L271.582 2098.29 L271.582 2104.91 L267.802 2104.91 L267.802 2098.29 L255.126 2098.29 L255.126 2094.62 L266.805 2076.83 Z\" fill=\"#000000\" fill-rule=\"evenodd\" fill-opacity=\"1\" /><path clip-path=\"url(#clip800)\" d=\"M100.751 1984.53 L88.9459 2002.98 L100.751 2002.98 L100.751 1984.53 M99.5246 1980.45 L105.404 1980.45 L105.404 2002.98 L110.335 2002.98 L110.335 2006.87 L105.404 2006.87 L105.404 2015.01 L100.751 2015.01 L100.751 2006.87 L85.1496 2006.87 L85.1496 2002.35 L99.5246 1980.45 Z\" fill=\"#000000\" fill-rule=\"evenodd\" fill-opacity=\"1\" /><path clip-path=\"url(#clip800)\" d=\"M118.066 2009.13 L122.95 2009.13 L122.95 2015.01 L118.066 2015.01 L118.066 2009.13 Z\" fill=\"#000000\" fill-rule=\"evenodd\" fill-opacity=\"1\" /><path clip-path=\"url(#clip800)\" d=\"M143.135 1983.53 Q139.524 1983.53 137.696 1987.1 Q135.89 1990.64 135.89 1997.77 Q135.89 2004.88 137.696 2008.44 Q139.524 2011.98 143.135 2011.98 Q146.77 2011.98 148.575 2008.44 Q150.404 2004.88 150.404 1997.77 Q150.404 1990.64 148.575 1987.1 Q146.77 1983.53 143.135 1983.53 M143.135 1979.83 Q148.946 1979.83 152.001 1984.44 Q155.08 1989.02 155.08 1997.77 Q155.08 2006.5 152.001 2011.1 Q148.946 2015.69 143.135 2015.69 Q137.325 2015.69 134.247 2011.1 Q131.191 2006.5 131.191 1997.77 Q131.191 1989.02 134.247 1984.44 Q137.325 1979.83 143.135 1979.83 Z\" fill=\"#000000\" fill-rule=\"evenodd\" fill-opacity=\"1\" /><path clip-path=\"url(#clip800)\" d=\"M191.469 1989.55 L180.89 2000.18 L191.469 2010.75 L188.714 2013.56 L178.089 2002.93 L167.464 2013.56 L164.733 2010.75 L175.288 2000.18 L164.733 1989.55 L167.464 1986.75 L178.089 1997.38 L188.714 1986.75 L191.469 1989.55 Z\" fill=\"#000000\" fill-rule=\"evenodd\" fill-opacity=\"1\" /><path clip-path=\"url(#clip800)\" d=\"M203.83 2011.08 L211.468 2011.08 L211.468 1984.71 L203.158 1986.38 L203.158 1982.12 L211.422 1980.45 L216.098 1980.45 L216.098 2011.08 L223.737 2011.08 L223.737 2015.01 L203.83 2015.01 L203.83 2011.08 Z\" fill=\"#000000\" fill-rule=\"evenodd\" fill-opacity=\"1\" /><path clip-path=\"url(#clip800)\" d=\"M243.181 1983.53 Q239.57 1983.53 237.741 1987.1 Q235.936 1990.64 235.936 1997.77 Q235.936 2004.88 237.741 2008.44 Q239.57 2011.98 243.181 2011.98 Q246.815 2011.98 248.621 2008.44 Q250.45 2004.88 250.45 1997.77 Q250.45 1990.64 248.621 1987.1 Q246.815 1983.53 243.181 1983.53 M243.181 1979.83 Q248.991 1979.83 252.047 1984.44 Q255.126 1989.02 255.126 1997.77 Q255.126 2006.5 252.047 2011.1 Q248.991 2015.69 243.181 2015.69 Q237.371 2015.69 234.292 2011.1 Q231.237 2006.5 231.237 1997.77 Q231.237 1989.02 234.292 1984.44 Q237.371 1979.83 243.181 1979.83 Z\" fill=\"#000000\" fill-rule=\"evenodd\" fill-opacity=\"1\" /><path clip-path=\"url(#clip800)\" d=\"M267.802 1962.83 L258.21 1977.82 L267.802 1977.82 L267.802 1962.83 M266.805 1959.52 L271.582 1959.52 L271.582 1977.82 L275.588 1977.82 L275.588 1980.98 L271.582 1980.98 L271.582 1987.6 L267.802 1987.6 L267.802 1980.98 L255.126 1980.98 L255.126 1977.32 L266.805 1959.52 Z\" fill=\"#000000\" fill-rule=\"evenodd\" fill-opacity=\"1\" /><path clip-path=\"url(#clip800)\" d=\"M98.4829 1878.56 Q95.3348 1878.56 93.4829 1880.72 Q91.6542 1882.87 91.6542 1886.62 Q91.6542 1890.35 93.4829 1892.52 Q95.3348 1894.68 98.4829 1894.68 Q101.631 1894.68 103.46 1892.52 Q105.312 1890.35 105.312 1886.62 Q105.312 1882.87 103.46 1880.72 Q101.631 1878.56 98.4829 1878.56 M107.765 1863.91 L107.765 1868.17 Q106.006 1867.34 104.2 1866.9 Q102.418 1866.46 100.659 1866.46 Q96.0292 1866.46 93.5755 1869.58 Q91.145 1872.71 90.7978 1879.03 Q92.1635 1877.01 94.2237 1875.95 Q96.2838 1874.86 98.7607 1874.86 Q103.969 1874.86 106.978 1878.03 Q110.011 1881.18 110.011 1886.62 Q110.011 1891.94 106.862 1895.16 Q103.714 1898.38 98.4829 1898.38 Q92.4876 1898.38 89.3163 1893.8 Q86.145 1889.19 86.145 1880.46 Q86.145 1872.27 90.0339 1867.41 Q93.9227 1862.52 100.474 1862.52 Q102.233 1862.52 104.015 1862.87 Q105.821 1863.22 107.765 1863.91 Z\" fill=\"#000000\" fill-rule=\"evenodd\" fill-opacity=\"1\" /><path clip-path=\"url(#clip800)\" d=\"M118.066 1891.83 L122.95 1891.83 L122.95 1897.71 L118.066 1897.71 L118.066 1891.83 Z\" fill=\"#000000\" fill-rule=\"evenodd\" fill-opacity=\"1\" /><path clip-path=\"url(#clip800)\" d=\"M143.135 1866.23 Q139.524 1866.23 137.696 1869.79 Q135.89 1873.33 135.89 1880.46 Q135.89 1887.57 137.696 1891.13 Q139.524 1894.68 143.135 1894.68 Q146.77 1894.68 148.575 1891.13 Q150.404 1887.57 150.404 1880.46 Q150.404 1873.33 148.575 1869.79 Q146.77 1866.23 143.135 1866.23 M143.135 1862.52 Q148.946 1862.52 152.001 1867.13 Q155.08 1871.71 155.08 1880.46 Q155.08 1889.19 152.001 1893.8 Q148.946 1898.38 143.135 1898.38 Q137.325 1898.38 134.247 1893.8 Q131.191 1889.19 131.191 1880.46 Q131.191 1871.71 134.247 1867.13 Q137.325 1862.52 143.135 1862.52 Z\" fill=\"#000000\" fill-rule=\"evenodd\" fill-opacity=\"1\" /><path clip-path=\"url(#clip800)\" d=\"M191.469 1872.25 L180.89 1882.87 L191.469 1893.45 L188.714 1896.25 L178.089 1885.62 L167.464 1896.25 L164.733 1893.45 L175.288 1882.87 L164.733 1872.25 L167.464 1869.44 L178.089 1880.07 L188.714 1869.44 L191.469 1872.25 Z\" fill=\"#000000\" fill-rule=\"evenodd\" fill-opacity=\"1\" /><path clip-path=\"url(#clip800)\" d=\"M203.83 1893.77 L211.468 1893.77 L211.468 1867.41 L203.158 1869.07 L203.158 1864.81 L211.422 1863.15 L216.098 1863.15 L216.098 1893.77 L223.737 1893.77 L223.737 1897.71 L203.83 1897.71 L203.83 1893.77 Z\" fill=\"#000000\" fill-rule=\"evenodd\" fill-opacity=\"1\" /><path clip-path=\"url(#clip800)\" d=\"M243.181 1866.23 Q239.57 1866.23 237.741 1869.79 Q235.936 1873.33 235.936 1880.46 Q235.936 1887.57 237.741 1891.13 Q239.57 1894.68 243.181 1894.68 Q246.815 1894.68 248.621 1891.13 Q250.45 1887.57 250.45 1880.46 Q250.45 1873.33 248.621 1869.79 Q246.815 1866.23 243.181 1866.23 M243.181 1862.52 Q248.991 1862.52 252.047 1867.13 Q255.126 1871.71 255.126 1880.46 Q255.126 1889.19 252.047 1893.8 Q248.991 1898.38 243.181 1898.38 Q237.371 1898.38 234.292 1893.8 Q231.237 1889.19 231.237 1880.46 Q231.237 1871.71 234.292 1867.13 Q237.371 1862.52 243.181 1862.52 Z\" fill=\"#000000\" fill-rule=\"evenodd\" fill-opacity=\"1\" /><path clip-path=\"url(#clip800)\" d=\"M267.802 1845.53 L258.21 1860.52 L267.802 1860.52 L267.802 1845.53 M266.805 1842.22 L271.582 1842.22 L271.582 1860.52 L275.588 1860.52 L275.588 1863.68 L271.582 1863.68 L271.582 1870.3 L267.802 1870.3 L267.802 1863.68 L255.126 1863.68 L255.126 1860.01 L266.805 1842.22 Z\" fill=\"#000000\" fill-rule=\"evenodd\" fill-opacity=\"1\" /><path clip-path=\"url(#clip800)\" d=\"M97.9042 1763.99 Q94.5709 1763.99 92.6496 1765.77 Q90.7515 1767.56 90.7515 1770.68 Q90.7515 1773.8 92.6496 1775.59 Q94.5709 1777.37 97.9042 1777.37 Q101.238 1777.37 103.159 1775.59 Q105.08 1773.78 105.08 1770.68 Q105.08 1767.56 103.159 1765.77 Q101.261 1763.99 97.9042 1763.99 M93.2283 1762 Q90.2191 1761.26 88.5293 1759.2 Q86.8626 1757.14 86.8626 1754.18 Q86.8626 1750.03 89.8024 1747.62 Q92.7653 1745.22 97.9042 1745.22 Q103.066 1745.22 106.006 1747.62 Q108.946 1750.03 108.946 1754.18 Q108.946 1757.14 107.256 1759.2 Q105.589 1761.26 102.603 1762 Q105.983 1762.79 107.858 1765.08 Q109.756 1767.37 109.756 1770.68 Q109.756 1775.7 106.677 1778.39 Q103.622 1781.07 97.9042 1781.07 Q92.1866 1781.07 89.108 1778.39 Q86.0524 1775.7 86.0524 1770.68 Q86.0524 1767.37 87.9506 1765.08 Q89.8487 1762.79 93.2283 1762 M91.5153 1754.62 Q91.5153 1757.3 93.182 1758.81 Q94.8718 1760.31 97.9042 1760.31 Q100.913 1760.31 102.603 1758.81 Q104.316 1757.3 104.316 1754.62 Q104.316 1751.93 102.603 1750.43 Q100.913 1748.92 97.9042 1748.92 Q94.8718 1748.92 93.182 1750.43 Q91.5153 1751.93 91.5153 1754.62 Z\" fill=\"#000000\" fill-rule=\"evenodd\" fill-opacity=\"1\" /><path clip-path=\"url(#clip800)\" d=\"M118.066 1774.52 L122.95 1774.52 L122.95 1780.4 L118.066 1780.4 L118.066 1774.52 Z\" fill=\"#000000\" fill-rule=\"evenodd\" fill-opacity=\"1\" /><path clip-path=\"url(#clip800)\" d=\"M143.135 1748.92 Q139.524 1748.92 137.696 1752.49 Q135.89 1756.03 135.89 1763.16 Q135.89 1770.26 137.696 1773.83 Q139.524 1777.37 143.135 1777.37 Q146.77 1777.37 148.575 1773.83 Q150.404 1770.26 150.404 1763.16 Q150.404 1756.03 148.575 1752.49 Q146.77 1748.92 143.135 1748.92 M143.135 1745.22 Q148.946 1745.22 152.001 1749.82 Q155.08 1754.41 155.08 1763.16 Q155.08 1771.88 152.001 1776.49 Q148.946 1781.07 143.135 1781.07 Q137.325 1781.07 134.247 1776.49 Q131.191 1771.88 131.191 1763.16 Q131.191 1754.41 134.247 1749.82 Q137.325 1745.22 143.135 1745.22 Z\" fill=\"#000000\" fill-rule=\"evenodd\" fill-opacity=\"1\" /><path clip-path=\"url(#clip800)\" d=\"M191.469 1754.94 L180.89 1765.56 L191.469 1776.14 L188.714 1778.94 L178.089 1768.32 L167.464 1778.94 L164.733 1776.14 L175.288 1765.56 L164.733 1754.94 L167.464 1752.14 L178.089 1762.76 L188.714 1752.14 L191.469 1754.94 Z\" fill=\"#000000\" fill-rule=\"evenodd\" fill-opacity=\"1\" /><path clip-path=\"url(#clip800)\" d=\"M203.83 1776.47 L211.468 1776.47 L211.468 1750.1 L203.158 1751.77 L203.158 1747.51 L211.422 1745.84 L216.098 1745.84 L216.098 1776.47 L223.737 1776.47 L223.737 1780.4 L203.83 1780.4 L203.83 1776.47 Z\" fill=\"#000000\" fill-rule=\"evenodd\" fill-opacity=\"1\" /><path clip-path=\"url(#clip800)\" d=\"M243.181 1748.92 Q239.57 1748.92 237.741 1752.49 Q235.936 1756.03 235.936 1763.16 Q235.936 1770.26 237.741 1773.83 Q239.57 1777.37 243.181 1777.37 Q246.815 1777.37 248.621 1773.83 Q250.45 1770.26 250.45 1763.16 Q250.45 1756.03 248.621 1752.49 Q246.815 1748.92 243.181 1748.92 M243.181 1745.22 Q248.991 1745.22 252.047 1749.82 Q255.126 1754.41 255.126 1763.16 Q255.126 1771.88 252.047 1776.49 Q248.991 1781.07 243.181 1781.07 Q237.371 1781.07 234.292 1776.49 Q231.237 1771.88 231.237 1763.16 Q231.237 1754.41 234.292 1749.82 Q237.371 1745.22 243.181 1745.22 Z\" fill=\"#000000\" fill-rule=\"evenodd\" fill-opacity=\"1\" /><path clip-path=\"url(#clip800)\" d=\"M267.802 1728.22 L258.21 1743.21 L267.802 1743.21 L267.802 1728.22 M266.805 1724.91 L271.582 1724.91 L271.582 1743.21 L275.588 1743.21 L275.588 1746.37 L271.582 1746.37 L271.582 1752.99 L267.802 1752.99 L267.802 1746.37 L255.126 1746.37 L255.126 1742.7 L266.805 1724.91 Z\" fill=\"#000000\" fill-rule=\"evenodd\" fill-opacity=\"1\" /><path clip-path=\"url(#clip800)\" d=\"M4.65654 2079.56 L-14.6316 2079.56 L-14.6316 2073.71 L34.8936 2073.71 L34.8936 2079.56 L29.5464 2079.56 Q32.7293 2081.41 34.2889 2084.24 Q35.8167 2087.04 35.8167 2090.99 Q35.8167 2097.45 30.6604 2101.53 Q25.5042 2105.57 17.1015 2105.57 Q8.69876 2105.57 3.54254 2101.53 Q-1.61369 2097.45 -1.61369 2090.99 Q-1.61369 2087.04 -0.0540877 2084.24 Q1.47368 2081.41 4.65654 2079.56 M17.1015 2099.52 Q23.5627 2099.52 27.2548 2096.88 Q30.9151 2094.21 30.9151 2089.56 Q30.9151 2084.91 27.2548 2082.24 Q23.5627 2079.56 17.1015 2079.56 Q10.6403 2079.56 6.98002 2082.24 Q3.28791 2084.91 3.28791 2089.56 Q3.28791 2094.21 6.98002 2096.88 Q10.6403 2099.52 17.1015 2099.52 Z\" fill=\"#000000\" fill-rule=\"evenodd\" fill-opacity=\"1\" /><path clip-path=\"url(#clip800)\" d=\"M-0.754315 2061.65 L-0.754315 2055.79 L34.8936 2055.79 L34.8936 2061.65 L-0.754315 2061.65 M-14.6316 2061.65 L-14.6316 2055.79 L-7.21551 2055.79 L-7.21551 2061.65 L-14.6316 2061.65 Z\" fill=\"#000000\" fill-rule=\"evenodd\" fill-opacity=\"1\" /><path clip-path=\"url(#clip800)\" d=\"M-14.6316 2025.49 L-9.76179 2025.49 L-9.76179 2031.09 Q-9.76179 2034.24 -8.48865 2035.48 Q-7.21551 2036.69 -3.90534 2036.69 L-0.754315 2036.69 L-0.754315 2027.05 L3.79716 2027.05 L3.79716 2036.69 L34.8936 2036.69 L34.8936 2042.58 L3.79716 2042.58 L3.79716 2048.18 L-0.754315 2048.18 L-0.754315 2042.58 L-3.23694 2042.58 Q-9.18888 2042.58 -11.8943 2039.81 Q-14.6316 2037.04 -14.6316 2031.03 L-14.6316 2025.49 Z\" fill=\"#000000\" fill-rule=\"evenodd\" fill-opacity=\"1\" /><path clip-path=\"url(#clip800)\" d=\"M-14.6316 2002.54 L-9.76179 2002.54 L-9.76179 2008.14 Q-9.76179 2011.29 -8.48865 2012.53 Q-7.21551 2013.74 -3.90534 2013.74 L-0.754315 2013.74 L-0.754315 2004.1 L3.79716 2004.1 L3.79716 2013.74 L34.8936 2013.74 L34.8936 2019.63 L3.79716 2019.63 L3.79716 2025.23 L-0.754315 2025.23 L-0.754315 2019.63 L-3.23694 2019.63 Q-9.18888 2019.63 -11.8943 2016.86 Q-14.6316 2014.09 -14.6316 2008.08 L-14.6316 2002.54 Z\" fill=\"#000000\" fill-rule=\"evenodd\" fill-opacity=\"1\" /><path clip-path=\"url(#clip800)\" d=\"M15.6056 1967.15 L18.4701 1967.15 L18.4701 1994.07 Q24.5175 1993.69 27.7004 1990.44 Q30.8514 1987.17 30.8514 1981.34 Q30.8514 1977.97 30.0239 1974.82 Q29.1963 1971.63 27.5413 1968.51 L33.0794 1968.51 Q34.4162 1971.67 35.1164 1974.98 Q35.8167 1978.29 35.8167 1981.69 Q35.8167 1990.22 30.8514 1995.22 Q25.8862 2000.18 17.4198 2000.18 Q8.66693 2000.18 3.54254 1995.47 Q-1.61369 1990.73 -1.61369 1982.71 Q-1.61369 1975.52 3.03328 1971.35 Q7.64842 1967.15 15.6056 1967.15 M13.8868 1973 Q9.0807 1973.07 6.21613 1975.71 Q3.35157 1978.32 3.35157 1982.65 Q3.35157 1987.55 6.12065 1990.51 Q8.88973 1993.44 13.9186 1993.88 L13.8868 1973 Z\" fill=\"#000000\" fill-rule=\"evenodd\" fill-opacity=\"1\" /><path clip-path=\"url(#clip800)\" d=\"M4.72019 1936.88 Q4.14728 1937.86 3.89265 1939.04 Q3.60619 1940.19 3.60619 1941.59 Q3.60619 1946.55 6.8527 1949.23 Q10.0674 1951.87 16.1148 1951.87 L34.8936 1951.87 L34.8936 1957.76 L-0.754315 1957.76 L-0.754315 1951.87 L4.78385 1951.87 Q1.53734 1950.02 -0.0222591 1947.06 Q-1.61369 1944.1 -1.61369 1939.87 Q-1.61369 1939.26 -1.5182 1938.53 Q-1.45454 1937.8 -1.2954 1936.91 L4.72019 1936.88 Z\" fill=\"#000000\" fill-rule=\"evenodd\" fill-opacity=\"1\" /><path clip-path=\"url(#clip800)\" d=\"M15.6056 1901.67 L18.4701 1901.67 L18.4701 1928.6 Q24.5175 1928.22 27.7004 1924.97 Q30.8514 1921.7 30.8514 1915.87 Q30.8514 1912.5 30.0239 1909.35 Q29.1963 1906.16 27.5413 1903.04 L33.0794 1903.04 Q34.4162 1906.19 35.1164 1909.5 Q35.8167 1912.81 35.8167 1916.22 Q35.8167 1924.75 30.8514 1929.75 Q25.8862 1934.71 17.4198 1934.71 Q8.66693 1934.71 3.54254 1930 Q-1.61369 1925.26 -1.61369 1917.24 Q-1.61369 1910.05 3.03328 1905.88 Q7.64842 1901.67 15.6056 1901.67 M13.8868 1907.53 Q9.0807 1907.6 6.21613 1910.24 Q3.35157 1912.85 3.35157 1917.18 Q3.35157 1922.08 6.12065 1925.04 Q8.88973 1927.97 13.9186 1928.41 L13.8868 1907.53 Z\" fill=\"#000000\" fill-rule=\"evenodd\" fill-opacity=\"1\" /><path clip-path=\"url(#clip800)\" d=\"M13.3776 1862.43 L34.8936 1862.43 L34.8936 1868.29 L13.5685 1868.29 Q8.50779 1868.29 5.99333 1870.26 Q3.47888 1872.23 3.47888 1876.18 Q3.47888 1880.92 6.50259 1883.66 Q9.5263 1886.4 14.7462 1886.4 L34.8936 1886.4 L34.8936 1892.29 L-0.754315 1892.29 L-0.754315 1886.4 L4.78385 1886.4 Q1.56917 1884.3 -0.0222591 1881.46 Q-1.61369 1878.6 -1.61369 1874.88 Q-1.61369 1868.73 2.20574 1865.58 Q5.99333 1862.43 13.3776 1862.43 Z\" fill=\"#000000\" fill-rule=\"evenodd\" fill-opacity=\"1\" /><path clip-path=\"url(#clip800)\" d=\"M0.614312 1825.1 L6.08882 1825.1 Q4.72019 1827.58 4.05179 1830.09 Q3.35157 1832.58 3.35157 1835.12 Q3.35157 1840.82 6.98002 1843.97 Q10.5766 1847.12 17.1015 1847.12 Q23.6263 1847.12 27.2548 1843.97 Q30.8514 1840.82 30.8514 1835.12 Q30.8514 1832.58 30.183 1830.09 Q29.4828 1827.58 28.1142 1825.1 L33.525 1825.1 Q34.6708 1827.55 35.2438 1830.19 Q35.8167 1832.8 35.8167 1835.76 Q35.8167 1843.81 30.7559 1848.55 Q25.6952 1853.3 17.1015 1853.3 Q8.38047 1853.3 3.38339 1848.52 Q-1.61369 1843.72 -1.61369 1835.38 Q-1.61369 1832.67 -1.04077 1830.09 Q-0.499687 1827.51 0.614312 1825.1 Z\" fill=\"#000000\" fill-rule=\"evenodd\" fill-opacity=\"1\" /><path clip-path=\"url(#clip800)\" d=\"M15.6056 1784.42 L18.4701 1784.42 L18.4701 1811.35 Q24.5175 1810.96 27.7004 1807.72 Q30.8514 1804.44 30.8514 1798.61 Q30.8514 1795.24 30.0239 1792.09 Q29.1963 1788.91 27.5413 1785.79 L33.0794 1785.79 Q34.4162 1788.94 35.1164 1792.25 Q35.8167 1795.56 35.8167 1798.96 Q35.8167 1807.49 30.8514 1812.49 Q25.8862 1817.46 17.4198 1817.46 Q8.66693 1817.46 3.54254 1812.75 Q-1.61369 1808 -1.61369 1799.98 Q-1.61369 1792.79 3.03328 1788.62 Q7.64842 1784.42 15.6056 1784.42 M13.8868 1790.28 Q9.0807 1790.34 6.21613 1792.98 Q3.35157 1795.59 3.35157 1799.92 Q3.35157 1804.82 6.12065 1807.78 Q8.88973 1810.71 13.9186 1811.15 L13.8868 1790.28 Z\" fill=\"#000000\" fill-rule=\"evenodd\" fill-opacity=\"1\" /><polyline clip-path=\"url(#clip804)\" style=\"stroke:#008000; stroke-linecap:butt; stroke-linejoin:round; stroke-width:4; stroke-opacity:1; fill:none\" points=\"\n",
       "  346.716,1673.81 358.543,1673.81 370.371,1673.87 382.198,1673.94 394.025,1674.02 405.853,1674.1 417.68,1674.21 429.508,1674.32 441.335,1674.45 453.162,1674.6 \n",
       "  464.99,1674.76 476.817,1674.96 488.645,1675.18 500.472,1675.43 512.299,1675.72 524.127,1676.04 535.954,1676.42 547.782,1676.84 559.609,1677.32 571.436,1677.87 \n",
       "  583.264,1678.49 595.091,1679.2 606.919,1680 618.746,1680.91 630.573,1681.94 642.401,1664.1 654.228,1665.48 666.056,1667.03 677.883,1668.77 689.71,1670.73 \n",
       "  701.538,1672.91 713.365,1675.35 725.193,1678.06 737.02,1681.08 748.847,1684.42 760.675,1688.1 772.502,1692.16 784.33,1696.62 796.157,1701.5 807.984,1706.83 \n",
       "  819.812,1712.63 831.639,1718.93 843.467,1725.76 855.294,1733.15 867.121,1741.11 878.949,1749.67 890.776,1758.86 902.604,1768.69 914.431,1779.15 926.258,1790.26 \n",
       "  938.086,1802.01 949.913,1814.4 961.741,1827.4 973.568,1841.01 985.395,1855.17 997.223,1869.87 1009.05,1885.04 1020.88,1900.63 1032.71,1916.6 1044.53,1932.92 \n",
       "  1056.36,1949.46 1068.19,1966.11 1080.01,1982.79 1091.84,1999.4 1103.67,2015.86 1115.5,2032.04 1127.32,2047.85 1139.15,2063.19 1150.98,2078 1162.81,2092.19 \n",
       "  1174.63,2105.69 1186.46,2118.43 1198.29,2130.34 1210.12,2141.4 1221.94,2151.66 1233.77,2161.4 1245.6,2170.66 1257.43,2179.12 1269.25,2186.56 1281.08,2192.98 \n",
       "  1292.91,2198.43 1304.74,2203.08 1316.56,2207.01 1328.39,2210.28 1340.22,2213.03 1352.04,2215.29 1363.87,2217.19 1375.7,2218.76 1387.53,2220.04 1399.35,2221.08 \n",
       "  1411.18,2222.02 1423.01,2223 1434.84,2223.86 1446.66,2224.55 1458.49,2225.06 1470.32,2225.42 1482.15,2225.65 1493.97,2225.79 1505.8,2225.86 1517.63,2225.89 \n",
       "  \n",
       "  \"/>\n",
       "</svg>\n"
      ]
     },
     "execution_count": 41,
     "metadata": {},
     "output_type": "execute_result"
    },
    {
     "name": "stderr",
     "output_type": "stream",
     "text": [
      "┌ Info: Precompiling GR_jll [d2c73de3-f751-5644-a686-071e5b155ba9]\n",
      "└ @ Base loading.jl:1423\n"
     ]
    }
   ],
   "source": [
    "xs_1 = ss\n",
    "xs_2 = ss\n",
    "ys_1 = calc_xis\n",
    "ys_2 = xis\n",
    "\n",
    "p1 = plot(xs_1, ys_1,  label=\"calc\", lc=:red, \n",
    "    legend=:bottomright, xaxis=:log)\n",
    "plot!(p1, xs_2, ys_2, label=\"file\", lc=:blue, ls=:dash)\n",
    "\n",
    "p2 = plot(xs_1, ys_2 ./ ys_1, ylabel=\"ratio\", lc=:green, \n",
    "    legend=false, xaxis=:log)\n",
    "p3 = plot(xs_1, ys_2 .- ys_1, ylabel=\"difference\", lc=:green, \n",
    "    legend=false, xaxis=:log)\n",
    "\n",
    "plot(p1, p2, p3, layout=grid(3,1), size=(400, 600))"
   ]
  },
  {
   "cell_type": "code",
   "execution_count": 42,
   "id": "ccd53e82-7276-4341-8817-5b42e8d34f98",
   "metadata": {},
   "outputs": [
    {
     "data": {
      "image/svg+xml": [
       "<?xml version=\"1.0\" encoding=\"utf-8\"?>\n",
       "<svg xmlns=\"http://www.w3.org/2000/svg\" xmlns:xlink=\"http://www.w3.org/1999/xlink\" width=\"600\" height=\"400\" viewBox=\"0 0 2400 1600\">\n",
       "<defs>\n",
       "  <clipPath id=\"clip840\">\n",
       "    <rect x=\"0\" y=\"0\" width=\"2400\" height=\"1600\"/>\n",
       "  </clipPath>\n",
       "</defs>\n",
       "<path clip-path=\"url(#clip840)\" d=\"\n",
       "M0 1600 L2400 1600 L2400 0 L0 0  Z\n",
       "  \" fill=\"#ffffff\" fill-rule=\"evenodd\" fill-opacity=\"1\"/>\n",
       "<defs>\n",
       "  <clipPath id=\"clip841\">\n",
       "    <rect x=\"480\" y=\"0\" width=\"1681\" height=\"1600\"/>\n",
       "  </clipPath>\n",
       "</defs>\n",
       "<path clip-path=\"url(#clip840)\" d=\"\n",
       "M306.301 1486.45 L2352.76 1486.45 L2352.76 47.2441 L306.301 47.2441  Z\n",
       "  \" fill=\"#ffffff\" fill-rule=\"evenodd\" fill-opacity=\"1\"/>\n",
       "<defs>\n",
       "  <clipPath id=\"clip842\">\n",
       "    <rect x=\"306\" y=\"47\" width=\"2047\" height=\"1440\"/>\n",
       "  </clipPath>\n",
       "</defs>\n",
       "<polyline clip-path=\"url(#clip842)\" style=\"stroke:#000000; stroke-linecap:butt; stroke-linejoin:round; stroke-width:2; stroke-opacity:0.1; fill:none\" points=\"\n",
       "  364.026,1486.45 364.026,47.2441 \n",
       "  \"/>\n",
       "<polyline clip-path=\"url(#clip842)\" style=\"stroke:#000000; stroke-linecap:butt; stroke-linejoin:round; stroke-width:2; stroke-opacity:0.1; fill:none\" points=\"\n",
       "  846.729,1486.45 846.729,47.2441 \n",
       "  \"/>\n",
       "<polyline clip-path=\"url(#clip842)\" style=\"stroke:#000000; stroke-linecap:butt; stroke-linejoin:round; stroke-width:2; stroke-opacity:0.1; fill:none\" points=\"\n",
       "  1329.43,1486.45 1329.43,47.2441 \n",
       "  \"/>\n",
       "<polyline clip-path=\"url(#clip842)\" style=\"stroke:#000000; stroke-linecap:butt; stroke-linejoin:round; stroke-width:2; stroke-opacity:0.1; fill:none\" points=\"\n",
       "  1812.13,1486.45 1812.13,47.2441 \n",
       "  \"/>\n",
       "<polyline clip-path=\"url(#clip842)\" style=\"stroke:#000000; stroke-linecap:butt; stroke-linejoin:round; stroke-width:2; stroke-opacity:0.1; fill:none\" points=\"\n",
       "  2294.84,1486.45 2294.84,47.2441 \n",
       "  \"/>\n",
       "<polyline clip-path=\"url(#clip840)\" style=\"stroke:#000000; stroke-linecap:butt; stroke-linejoin:round; stroke-width:4; stroke-opacity:1; fill:none\" points=\"\n",
       "  306.301,1486.45 2352.76,1486.45 \n",
       "  \"/>\n",
       "<polyline clip-path=\"url(#clip840)\" style=\"stroke:#000000; stroke-linecap:butt; stroke-linejoin:round; stroke-width:4; stroke-opacity:1; fill:none\" points=\"\n",
       "  364.026,1486.45 364.026,1467.55 \n",
       "  \"/>\n",
       "<polyline clip-path=\"url(#clip840)\" style=\"stroke:#000000; stroke-linecap:butt; stroke-linejoin:round; stroke-width:4; stroke-opacity:1; fill:none\" points=\"\n",
       "  846.729,1486.45 846.729,1467.55 \n",
       "  \"/>\n",
       "<polyline clip-path=\"url(#clip840)\" style=\"stroke:#000000; stroke-linecap:butt; stroke-linejoin:round; stroke-width:4; stroke-opacity:1; fill:none\" points=\"\n",
       "  1329.43,1486.45 1329.43,1467.55 \n",
       "  \"/>\n",
       "<polyline clip-path=\"url(#clip840)\" style=\"stroke:#000000; stroke-linecap:butt; stroke-linejoin:round; stroke-width:4; stroke-opacity:1; fill:none\" points=\"\n",
       "  1812.13,1486.45 1812.13,1467.55 \n",
       "  \"/>\n",
       "<polyline clip-path=\"url(#clip840)\" style=\"stroke:#000000; stroke-linecap:butt; stroke-linejoin:round; stroke-width:4; stroke-opacity:1; fill:none\" points=\"\n",
       "  2294.84,1486.45 2294.84,1467.55 \n",
       "  \"/>\n",
       "<path clip-path=\"url(#clip840)\" d=\"M364.026 1517.37 Q360.415 1517.37 358.587 1520.93 Q356.781 1524.47 356.781 1531.6 Q356.781 1538.71 358.587 1542.27 Q360.415 1545.82 364.026 1545.82 Q367.661 1545.82 369.466 1542.27 Q371.295 1538.71 371.295 1531.6 Q371.295 1524.47 369.466 1520.93 Q367.661 1517.37 364.026 1517.37 M364.026 1513.66 Q369.836 1513.66 372.892 1518.27 Q375.971 1522.85 375.971 1531.6 Q375.971 1540.33 372.892 1544.94 Q369.836 1549.52 364.026 1549.52 Q358.216 1549.52 355.137 1544.94 Q352.082 1540.33 352.082 1531.6 Q352.082 1522.85 355.137 1518.27 Q358.216 1513.66 364.026 1513.66 Z\" fill=\"#000000\" fill-rule=\"evenodd\" fill-opacity=\"1\" /><path clip-path=\"url(#clip840)\" d=\"M810.421 1544.91 L826.741 1544.91 L826.741 1548.85 L804.796 1548.85 L804.796 1544.91 Q807.458 1542.16 812.042 1537.53 Q816.648 1532.88 817.829 1531.53 Q820.074 1529.01 820.954 1527.27 Q821.857 1525.51 821.857 1523.82 Q821.857 1521.07 819.912 1519.33 Q817.991 1517.6 814.889 1517.6 Q812.69 1517.6 810.236 1518.36 Q807.806 1519.13 805.028 1520.68 L805.028 1515.95 Q807.852 1514.82 810.306 1514.24 Q812.759 1513.66 814.796 1513.66 Q820.167 1513.66 823.361 1516.35 Q826.556 1519.03 826.556 1523.52 Q826.556 1525.65 825.745 1527.57 Q824.958 1529.47 822.852 1532.07 Q822.273 1532.74 819.171 1535.95 Q816.07 1539.15 810.421 1544.91 Z\" fill=\"#000000\" fill-rule=\"evenodd\" fill-opacity=\"1\" /><path clip-path=\"url(#clip840)\" d=\"M836.602 1514.29 L854.958 1514.29 L854.958 1518.22 L840.884 1518.22 L840.884 1526.7 Q841.903 1526.35 842.921 1526.19 Q843.94 1526 844.958 1526 Q850.745 1526 854.125 1529.17 Q857.504 1532.34 857.504 1537.76 Q857.504 1543.34 854.032 1546.44 Q850.56 1549.52 844.241 1549.52 Q842.065 1549.52 839.796 1549.15 Q837.551 1548.78 835.143 1548.04 L835.143 1543.34 Q837.227 1544.47 839.449 1545.03 Q841.671 1545.58 844.148 1545.58 Q848.153 1545.58 850.491 1543.48 Q852.829 1541.37 852.829 1537.76 Q852.829 1534.15 850.491 1532.04 Q848.153 1529.94 844.148 1529.94 Q842.273 1529.94 840.398 1530.35 Q838.546 1530.77 836.602 1531.65 L836.602 1514.29 Z\" fill=\"#000000\" fill-rule=\"evenodd\" fill-opacity=\"1\" /><path clip-path=\"url(#clip840)\" d=\"M876.717 1517.37 Q873.106 1517.37 871.278 1520.93 Q869.472 1524.47 869.472 1531.6 Q869.472 1538.71 871.278 1542.27 Q873.106 1545.82 876.717 1545.82 Q880.352 1545.82 882.157 1542.27 Q883.986 1538.71 883.986 1531.6 Q883.986 1524.47 882.157 1520.93 Q880.352 1517.37 876.717 1517.37 M876.717 1513.66 Q882.527 1513.66 885.583 1518.27 Q888.662 1522.85 888.662 1531.6 Q888.662 1540.33 885.583 1544.94 Q882.527 1549.52 876.717 1549.52 Q870.907 1549.52 867.828 1544.94 Q864.773 1540.33 864.773 1531.6 Q864.773 1522.85 867.828 1518.27 Q870.907 1513.66 876.717 1513.66 Z\" fill=\"#000000\" fill-rule=\"evenodd\" fill-opacity=\"1\" /><path clip-path=\"url(#clip840)\" d=\"M1289.05 1514.29 L1307.41 1514.29 L1307.41 1518.22 L1293.33 1518.22 L1293.33 1526.7 Q1294.35 1526.35 1295.37 1526.19 Q1296.39 1526 1297.41 1526 Q1303.19 1526 1306.57 1529.17 Q1309.95 1532.34 1309.95 1537.76 Q1309.95 1543.34 1306.48 1546.44 Q1303.01 1549.52 1296.69 1549.52 Q1294.51 1549.52 1292.24 1549.15 Q1290 1548.78 1287.59 1548.04 L1287.59 1543.34 Q1289.68 1544.47 1291.9 1545.03 Q1294.12 1545.58 1296.6 1545.58 Q1300.6 1545.58 1302.94 1543.48 Q1305.28 1541.37 1305.28 1537.76 Q1305.28 1534.15 1302.94 1532.04 Q1300.6 1529.94 1296.6 1529.94 Q1294.72 1529.94 1292.85 1530.35 Q1290.99 1530.77 1289.05 1531.65 L1289.05 1514.29 Z\" fill=\"#000000\" fill-rule=\"evenodd\" fill-opacity=\"1\" /><path clip-path=\"url(#clip840)\" d=\"M1329.17 1517.37 Q1325.55 1517.37 1323.73 1520.93 Q1321.92 1524.47 1321.92 1531.6 Q1321.92 1538.71 1323.73 1542.27 Q1325.55 1545.82 1329.17 1545.82 Q1332.8 1545.82 1334.61 1542.27 Q1336.43 1538.71 1336.43 1531.6 Q1336.43 1524.47 1334.61 1520.93 Q1332.8 1517.37 1329.17 1517.37 M1329.17 1513.66 Q1334.98 1513.66 1338.03 1518.27 Q1341.11 1522.85 1341.11 1531.6 Q1341.11 1540.33 1338.03 1544.94 Q1334.98 1549.52 1329.17 1549.52 Q1323.36 1549.52 1320.28 1544.94 Q1317.22 1540.33 1317.22 1531.6 Q1317.22 1522.85 1320.28 1518.27 Q1323.36 1513.66 1329.17 1513.66 Z\" fill=\"#000000\" fill-rule=\"evenodd\" fill-opacity=\"1\" /><path clip-path=\"url(#clip840)\" d=\"M1359.33 1517.37 Q1355.72 1517.37 1353.89 1520.93 Q1352.08 1524.47 1352.08 1531.6 Q1352.08 1538.71 1353.89 1542.27 Q1355.72 1545.82 1359.33 1545.82 Q1362.96 1545.82 1364.77 1542.27 Q1366.6 1538.71 1366.6 1531.6 Q1366.6 1524.47 1364.77 1520.93 Q1362.96 1517.37 1359.33 1517.37 M1359.33 1513.66 Q1365.14 1513.66 1368.19 1518.27 Q1371.27 1522.85 1371.27 1531.6 Q1371.27 1540.33 1368.19 1544.94 Q1365.14 1549.52 1359.33 1549.52 Q1353.52 1549.52 1350.44 1544.94 Q1347.38 1540.33 1347.38 1531.6 Q1347.38 1522.85 1350.44 1518.27 Q1353.52 1513.66 1359.33 1513.66 Z\" fill=\"#000000\" fill-rule=\"evenodd\" fill-opacity=\"1\" /><path clip-path=\"url(#clip840)\" d=\"M1770.41 1514.29 L1792.63 1514.29 L1792.63 1516.28 L1780.09 1548.85 L1775.2 1548.85 L1787.01 1518.22 L1770.41 1518.22 L1770.41 1514.29 Z\" fill=\"#000000\" fill-rule=\"evenodd\" fill-opacity=\"1\" /><path clip-path=\"url(#clip840)\" d=\"M1801.8 1514.29 L1820.16 1514.29 L1820.16 1518.22 L1806.08 1518.22 L1806.08 1526.7 Q1807.1 1526.35 1808.12 1526.19 Q1809.14 1526 1810.16 1526 Q1815.94 1526 1819.32 1529.17 Q1822.7 1532.34 1822.7 1537.76 Q1822.7 1543.34 1819.23 1546.44 Q1815.76 1549.52 1809.44 1549.52 Q1807.26 1549.52 1804.99 1549.15 Q1802.75 1548.78 1800.34 1548.04 L1800.34 1543.34 Q1802.42 1544.47 1804.65 1545.03 Q1806.87 1545.58 1809.35 1545.58 Q1813.35 1545.58 1815.69 1543.48 Q1818.03 1541.37 1818.03 1537.76 Q1818.03 1534.15 1815.69 1532.04 Q1813.35 1529.94 1809.35 1529.94 Q1807.47 1529.94 1805.6 1530.35 Q1803.74 1530.77 1801.8 1531.65 L1801.8 1514.29 Z\" fill=\"#000000\" fill-rule=\"evenodd\" fill-opacity=\"1\" /><path clip-path=\"url(#clip840)\" d=\"M1841.91 1517.37 Q1838.3 1517.37 1836.47 1520.93 Q1834.67 1524.47 1834.67 1531.6 Q1834.67 1538.71 1836.47 1542.27 Q1838.3 1545.82 1841.91 1545.82 Q1845.55 1545.82 1847.35 1542.27 Q1849.18 1538.71 1849.18 1531.6 Q1849.18 1524.47 1847.35 1520.93 Q1845.55 1517.37 1841.91 1517.37 M1841.91 1513.66 Q1847.72 1513.66 1850.78 1518.27 Q1853.86 1522.85 1853.86 1531.6 Q1853.86 1540.33 1850.78 1544.94 Q1847.72 1549.52 1841.91 1549.52 Q1836.1 1549.52 1833.03 1544.94 Q1829.97 1540.33 1829.97 1531.6 Q1829.97 1522.85 1833.03 1518.27 Q1836.1 1513.66 1841.91 1513.66 Z\" fill=\"#000000\" fill-rule=\"evenodd\" fill-opacity=\"1\" /><path clip-path=\"url(#clip840)\" d=\"M2239.36 1544.91 L2247 1544.91 L2247 1518.55 L2238.69 1520.21 L2238.69 1515.95 L2246.96 1514.29 L2251.63 1514.29 L2251.63 1544.91 L2259.27 1544.91 L2259.27 1548.85 L2239.36 1548.85 L2239.36 1544.91 Z\" fill=\"#000000\" fill-rule=\"evenodd\" fill-opacity=\"1\" /><path clip-path=\"url(#clip840)\" d=\"M2278.71 1517.37 Q2275.1 1517.37 2273.27 1520.93 Q2271.47 1524.47 2271.47 1531.6 Q2271.47 1538.71 2273.27 1542.27 Q2275.1 1545.82 2278.71 1545.82 Q2282.35 1545.82 2284.15 1542.27 Q2285.98 1538.71 2285.98 1531.6 Q2285.98 1524.47 2284.15 1520.93 Q2282.35 1517.37 2278.71 1517.37 M2278.71 1513.66 Q2284.52 1513.66 2287.58 1518.27 Q2290.66 1522.85 2290.66 1531.6 Q2290.66 1540.33 2287.58 1544.94 Q2284.52 1549.52 2278.71 1549.52 Q2272.9 1549.52 2269.83 1544.94 Q2266.77 1540.33 2266.77 1531.6 Q2266.77 1522.85 2269.83 1518.27 Q2272.9 1513.66 2278.71 1513.66 Z\" fill=\"#000000\" fill-rule=\"evenodd\" fill-opacity=\"1\" /><path clip-path=\"url(#clip840)\" d=\"M2308.88 1517.37 Q2305.27 1517.37 2303.44 1520.93 Q2301.63 1524.47 2301.63 1531.6 Q2301.63 1538.71 2303.44 1542.27 Q2305.27 1545.82 2308.88 1545.82 Q2312.51 1545.82 2314.32 1542.27 Q2316.15 1538.71 2316.15 1531.6 Q2316.15 1524.47 2314.32 1520.93 Q2312.51 1517.37 2308.88 1517.37 M2308.88 1513.66 Q2314.69 1513.66 2317.74 1518.27 Q2320.82 1522.85 2320.82 1531.6 Q2320.82 1540.33 2317.74 1544.94 Q2314.69 1549.52 2308.88 1549.52 Q2303.07 1549.52 2299.99 1544.94 Q2296.93 1540.33 2296.93 1531.6 Q2296.93 1522.85 2299.99 1518.27 Q2303.07 1513.66 2308.88 1513.66 Z\" fill=\"#000000\" fill-rule=\"evenodd\" fill-opacity=\"1\" /><path clip-path=\"url(#clip840)\" d=\"M2339.04 1517.37 Q2335.43 1517.37 2333.6 1520.93 Q2331.79 1524.47 2331.79 1531.6 Q2331.79 1538.71 2333.6 1542.27 Q2335.43 1545.82 2339.04 1545.82 Q2342.67 1545.82 2344.48 1542.27 Q2346.31 1538.71 2346.31 1531.6 Q2346.31 1524.47 2344.48 1520.93 Q2342.67 1517.37 2339.04 1517.37 M2339.04 1513.66 Q2344.85 1513.66 2347.9 1518.27 Q2350.98 1522.85 2350.98 1531.6 Q2350.98 1540.33 2347.9 1544.94 Q2344.85 1549.52 2339.04 1549.52 Q2333.23 1549.52 2330.15 1544.94 Q2327.09 1540.33 2327.09 1531.6 Q2327.09 1522.85 2330.15 1518.27 Q2333.23 1513.66 2339.04 1513.66 Z\" fill=\"#000000\" fill-rule=\"evenodd\" fill-opacity=\"1\" /><polyline clip-path=\"url(#clip842)\" style=\"stroke:#000000; stroke-linecap:butt; stroke-linejoin:round; stroke-width:2; stroke-opacity:0.1; fill:none\" points=\"\n",
       "  306.301,1446.96 2352.76,1446.96 \n",
       "  \"/>\n",
       "<polyline clip-path=\"url(#clip842)\" style=\"stroke:#000000; stroke-linecap:butt; stroke-linejoin:round; stroke-width:2; stroke-opacity:0.1; fill:none\" points=\"\n",
       "  306.301,1112.1 2352.76,1112.1 \n",
       "  \"/>\n",
       "<polyline clip-path=\"url(#clip842)\" style=\"stroke:#000000; stroke-linecap:butt; stroke-linejoin:round; stroke-width:2; stroke-opacity:0.1; fill:none\" points=\"\n",
       "  306.301,777.249 2352.76,777.249 \n",
       "  \"/>\n",
       "<polyline clip-path=\"url(#clip842)\" style=\"stroke:#000000; stroke-linecap:butt; stroke-linejoin:round; stroke-width:2; stroke-opacity:0.1; fill:none\" points=\"\n",
       "  306.301,442.395 2352.76,442.395 \n",
       "  \"/>\n",
       "<polyline clip-path=\"url(#clip842)\" style=\"stroke:#000000; stroke-linecap:butt; stroke-linejoin:round; stroke-width:2; stroke-opacity:0.1; fill:none\" points=\"\n",
       "  306.301,107.541 2352.76,107.541 \n",
       "  \"/>\n",
       "<polyline clip-path=\"url(#clip840)\" style=\"stroke:#000000; stroke-linecap:butt; stroke-linejoin:round; stroke-width:4; stroke-opacity:1; fill:none\" points=\"\n",
       "  306.301,1486.45 306.301,47.2441 \n",
       "  \"/>\n",
       "<polyline clip-path=\"url(#clip840)\" style=\"stroke:#000000; stroke-linecap:butt; stroke-linejoin:round; stroke-width:4; stroke-opacity:1; fill:none\" points=\"\n",
       "  306.301,1446.96 325.198,1446.96 \n",
       "  \"/>\n",
       "<polyline clip-path=\"url(#clip840)\" style=\"stroke:#000000; stroke-linecap:butt; stroke-linejoin:round; stroke-width:4; stroke-opacity:1; fill:none\" points=\"\n",
       "  306.301,1112.1 325.198,1112.1 \n",
       "  \"/>\n",
       "<polyline clip-path=\"url(#clip840)\" style=\"stroke:#000000; stroke-linecap:butt; stroke-linejoin:round; stroke-width:4; stroke-opacity:1; fill:none\" points=\"\n",
       "  306.301,777.249 325.198,777.249 \n",
       "  \"/>\n",
       "<polyline clip-path=\"url(#clip840)\" style=\"stroke:#000000; stroke-linecap:butt; stroke-linejoin:round; stroke-width:4; stroke-opacity:1; fill:none\" points=\"\n",
       "  306.301,442.395 325.198,442.395 \n",
       "  \"/>\n",
       "<polyline clip-path=\"url(#clip840)\" style=\"stroke:#000000; stroke-linecap:butt; stroke-linejoin:round; stroke-width:4; stroke-opacity:1; fill:none\" points=\"\n",
       "  306.301,107.541 325.198,107.541 \n",
       "  \"/>\n",
       "<path clip-path=\"url(#clip840)\" d=\"M258.356 1432.75 Q254.745 1432.75 252.917 1436.32 Q251.111 1439.86 251.111 1446.99 Q251.111 1454.1 252.917 1457.66 Q254.745 1461.2 258.356 1461.2 Q261.991 1461.2 263.796 1457.66 Q265.625 1454.1 265.625 1446.99 Q265.625 1439.86 263.796 1436.32 Q261.991 1432.75 258.356 1432.75 M258.356 1429.05 Q264.167 1429.05 267.222 1433.66 Q270.301 1438.24 270.301 1446.99 Q270.301 1455.72 267.222 1460.32 Q264.167 1464.91 258.356 1464.91 Q252.546 1464.91 249.468 1460.32 Q246.412 1455.72 246.412 1446.99 Q246.412 1438.24 249.468 1433.66 Q252.546 1429.05 258.356 1429.05 Z\" fill=\"#000000\" fill-rule=\"evenodd\" fill-opacity=\"1\" /><path clip-path=\"url(#clip840)\" d=\"M54.5569 1131.89 L62.1958 1131.89 L62.1958 1105.53 L53.8856 1107.2 L53.8856 1102.94 L62.1495 1101.27 L66.8254 1101.27 L66.8254 1131.89 L74.4642 1131.89 L74.4642 1135.83 L54.5569 1135.83 L54.5569 1131.89 Z\" fill=\"#000000\" fill-rule=\"evenodd\" fill-opacity=\"1\" /><path clip-path=\"url(#clip840)\" d=\"M83.9086 1129.95 L88.7928 1129.95 L88.7928 1135.83 L83.9086 1135.83 L83.9086 1129.95 Z\" fill=\"#000000\" fill-rule=\"evenodd\" fill-opacity=\"1\" /><path clip-path=\"url(#clip840)\" d=\"M108.978 1104.35 Q105.367 1104.35 103.538 1107.91 Q101.733 1111.46 101.733 1118.58 Q101.733 1125.69 103.538 1129.26 Q105.367 1132.8 108.978 1132.8 Q112.612 1132.8 114.418 1129.26 Q116.246 1125.69 116.246 1118.58 Q116.246 1111.46 114.418 1107.91 Q112.612 1104.35 108.978 1104.35 M108.978 1100.64 Q114.788 1100.64 117.844 1105.25 Q120.922 1109.83 120.922 1118.58 Q120.922 1127.31 117.844 1131.92 Q114.788 1136.5 108.978 1136.5 Q103.168 1136.5 100.089 1131.92 Q97.0335 1127.31 97.0335 1118.58 Q97.0335 1109.83 100.089 1105.25 Q103.168 1100.64 108.978 1100.64 Z\" fill=\"#000000\" fill-rule=\"evenodd\" fill-opacity=\"1\" /><path clip-path=\"url(#clip840)\" d=\"M157.311 1110.37 L146.732 1120.99 L157.311 1131.57 L154.556 1134.37 L143.931 1123.75 L133.306 1134.37 L130.575 1131.57 L141.131 1120.99 L130.575 1110.37 L133.306 1107.57 L143.931 1118.19 L154.556 1107.57 L157.311 1110.37 Z\" fill=\"#000000\" fill-rule=\"evenodd\" fill-opacity=\"1\" /><path clip-path=\"url(#clip840)\" d=\"M169.672 1131.89 L177.311 1131.89 L177.311 1105.53 L169.001 1107.2 L169.001 1102.94 L177.265 1101.27 L181.94 1101.27 L181.94 1131.89 L189.579 1131.89 L189.579 1135.83 L169.672 1135.83 L169.672 1131.89 Z\" fill=\"#000000\" fill-rule=\"evenodd\" fill-opacity=\"1\" /><path clip-path=\"url(#clip840)\" d=\"M209.024 1104.35 Q205.413 1104.35 203.584 1107.91 Q201.778 1111.46 201.778 1118.58 Q201.778 1125.69 203.584 1129.26 Q205.413 1132.8 209.024 1132.8 Q212.658 1132.8 214.463 1129.26 Q216.292 1125.69 216.292 1118.58 Q216.292 1111.46 214.463 1107.91 Q212.658 1104.35 209.024 1104.35 M209.024 1100.64 Q214.834 1100.64 217.889 1105.25 Q220.968 1109.83 220.968 1118.58 Q220.968 1127.31 217.889 1131.92 Q214.834 1136.5 209.024 1136.5 Q203.214 1136.5 200.135 1131.92 Q197.079 1127.31 197.079 1118.58 Q197.079 1109.83 200.135 1105.25 Q203.214 1100.64 209.024 1100.64 Z\" fill=\"#000000\" fill-rule=\"evenodd\" fill-opacity=\"1\" /><path clip-path=\"url(#clip840)\" d=\"M220.968 1094.75 L245.08 1094.75 L245.08 1097.94 L220.968 1097.94 L220.968 1094.75 Z\" fill=\"#000000\" fill-rule=\"evenodd\" fill-opacity=\"1\" /><path clip-path=\"url(#clip840)\" d=\"M253.317 1080.34 L268.232 1080.34 L268.232 1083.54 L256.797 1083.54 L256.797 1090.42 Q257.624 1090.14 258.452 1090.01 Q259.279 1089.86 260.107 1089.86 Q264.809 1089.86 267.555 1092.43 Q270.301 1095.01 270.301 1099.41 Q270.301 1103.94 267.48 1106.46 Q264.659 1108.96 259.524 1108.96 Q257.756 1108.96 255.913 1108.66 Q254.089 1108.36 252.133 1107.76 L252.133 1103.94 Q253.825 1104.86 255.631 1105.32 Q257.436 1105.77 259.449 1105.77 Q262.703 1105.77 264.602 1104.06 Q266.502 1102.34 266.502 1099.41 Q266.502 1096.48 264.602 1094.77 Q262.703 1093.05 259.449 1093.05 Q257.925 1093.05 256.402 1093.39 Q254.897 1093.73 253.317 1094.45 L253.317 1080.34 Z\" fill=\"#000000\" fill-rule=\"evenodd\" fill-opacity=\"1\" /><path clip-path=\"url(#clip840)\" d=\"M57.7745 797.041 L74.0939 797.041 L74.0939 800.976 L52.1495 800.976 L52.1495 797.041 Q54.8115 794.286 59.3949 789.657 Q64.0013 785.004 65.1819 783.661 Q67.4272 781.138 68.3068 779.402 Q69.2096 777.643 69.2096 775.953 Q69.2096 773.199 67.2652 771.462 Q65.3439 769.726 62.2421 769.726 Q60.043 769.726 57.5893 770.49 Q55.1588 771.254 52.381 772.805 L52.381 768.083 Q55.2051 766.949 57.6588 766.37 Q60.1124 765.791 62.1495 765.791 Q67.5198 765.791 70.7142 768.476 Q73.9087 771.161 73.9087 775.652 Q73.9087 777.782 73.0985 779.703 Q72.3115 781.601 70.205 784.194 Q69.6263 784.865 66.5245 788.083 Q63.4226 791.277 57.7745 797.041 Z\" fill=\"#000000\" fill-rule=\"evenodd\" fill-opacity=\"1\" /><path clip-path=\"url(#clip840)\" d=\"M83.9086 795.097 L88.7928 795.097 L88.7928 800.976 L83.9086 800.976 L83.9086 795.097 Z\" fill=\"#000000\" fill-rule=\"evenodd\" fill-opacity=\"1\" /><path clip-path=\"url(#clip840)\" d=\"M108.978 769.495 Q105.367 769.495 103.538 773.06 Q101.733 776.601 101.733 783.731 Q101.733 790.837 103.538 794.402 Q105.367 797.944 108.978 797.944 Q112.612 797.944 114.418 794.402 Q116.246 790.837 116.246 783.731 Q116.246 776.601 114.418 773.06 Q112.612 769.495 108.978 769.495 M108.978 765.791 Q114.788 765.791 117.844 770.398 Q120.922 774.981 120.922 783.731 Q120.922 792.458 117.844 797.064 Q114.788 801.647 108.978 801.647 Q103.168 801.647 100.089 797.064 Q97.0335 792.458 97.0335 783.731 Q97.0335 774.981 100.089 770.398 Q103.168 765.791 108.978 765.791 Z\" fill=\"#000000\" fill-rule=\"evenodd\" fill-opacity=\"1\" /><path clip-path=\"url(#clip840)\" d=\"M157.311 775.513 L146.732 786.138 L157.311 796.717 L154.556 799.518 L143.931 788.893 L133.306 799.518 L130.575 796.717 L141.131 786.138 L130.575 775.513 L133.306 772.712 L143.931 783.337 L154.556 772.712 L157.311 775.513 Z\" fill=\"#000000\" fill-rule=\"evenodd\" fill-opacity=\"1\" /><path clip-path=\"url(#clip840)\" d=\"M169.672 797.041 L177.311 797.041 L177.311 770.675 L169.001 772.342 L169.001 768.083 L177.265 766.416 L181.94 766.416 L181.94 797.041 L189.579 797.041 L189.579 800.976 L169.672 800.976 L169.672 797.041 Z\" fill=\"#000000\" fill-rule=\"evenodd\" fill-opacity=\"1\" /><path clip-path=\"url(#clip840)\" d=\"M209.024 769.495 Q205.413 769.495 203.584 773.06 Q201.778 776.601 201.778 783.731 Q201.778 790.837 203.584 794.402 Q205.413 797.944 209.024 797.944 Q212.658 797.944 214.463 794.402 Q216.292 790.837 216.292 783.731 Q216.292 776.601 214.463 773.06 Q212.658 769.495 209.024 769.495 M209.024 765.791 Q214.834 765.791 217.889 770.398 Q220.968 774.981 220.968 783.731 Q220.968 792.458 217.889 797.064 Q214.834 801.647 209.024 801.647 Q203.214 801.647 200.135 797.064 Q197.079 792.458 197.079 783.731 Q197.079 774.981 200.135 770.398 Q203.214 765.791 209.024 765.791 Z\" fill=\"#000000\" fill-rule=\"evenodd\" fill-opacity=\"1\" /><path clip-path=\"url(#clip840)\" d=\"M220.968 759.893 L245.08 759.893 L245.08 763.09 L220.968 763.09 L220.968 759.893 Z\" fill=\"#000000\" fill-rule=\"evenodd\" fill-opacity=\"1\" /><path clip-path=\"url(#clip840)\" d=\"M253.317 745.486 L268.232 745.486 L268.232 748.683 L256.797 748.683 L256.797 755.567 Q257.624 755.285 258.452 755.153 Q259.279 755.002 260.107 755.002 Q264.809 755.002 267.555 757.579 Q270.301 760.156 270.301 764.557 Q270.301 769.089 267.48 771.61 Q264.659 774.111 259.524 774.111 Q257.756 774.111 255.913 773.81 Q254.089 773.509 252.133 772.907 L252.133 769.089 Q253.825 770.011 255.631 770.462 Q257.436 770.914 259.449 770.914 Q262.703 770.914 264.602 769.202 Q266.502 767.491 266.502 764.557 Q266.502 761.623 264.602 759.911 Q262.703 758.2 259.449 758.2 Q257.925 758.2 256.402 758.538 Q254.897 758.877 253.317 759.592 L253.317 745.486 Z\" fill=\"#000000\" fill-rule=\"evenodd\" fill-opacity=\"1\" /><path clip-path=\"url(#clip840)\" d=\"M67.9133 447.488 Q71.2698 448.206 73.1448 450.474 Q75.0429 452.743 75.0429 456.076 Q75.0429 461.192 71.5244 463.993 Q68.0059 466.794 61.5245 466.794 Q59.3486 466.794 57.0338 466.354 Q54.7421 465.937 52.2884 465.081 L52.2884 460.567 Q54.2328 461.701 56.5477 462.28 Q58.8625 462.859 61.3856 462.859 Q65.7837 462.859 68.0754 461.122 Q70.3902 459.386 70.3902 456.076 Q70.3902 453.021 68.2374 451.308 Q66.1078 449.572 62.2884 449.572 L58.2606 449.572 L58.2606 445.729 L62.4735 445.729 Q65.9226 445.729 67.7513 444.363 Q69.58 442.974 69.58 440.382 Q69.58 437.72 67.6819 436.308 Q65.8069 434.873 62.2884 434.873 Q60.3671 434.873 58.168 435.289 Q55.969 435.706 53.3301 436.586 L53.3301 432.419 Q55.9921 431.678 58.3069 431.308 Q60.6449 430.937 62.705 430.937 Q68.0291 430.937 71.1309 433.368 Q74.2327 435.775 74.2327 439.896 Q74.2327 442.766 72.5892 444.757 Q70.9457 446.724 67.9133 447.488 Z\" fill=\"#000000\" fill-rule=\"evenodd\" fill-opacity=\"1\" /><path clip-path=\"url(#clip840)\" d=\"M83.9086 460.243 L88.7928 460.243 L88.7928 466.122 L83.9086 466.122 L83.9086 460.243 Z\" fill=\"#000000\" fill-rule=\"evenodd\" fill-opacity=\"1\" /><path clip-path=\"url(#clip840)\" d=\"M108.978 434.641 Q105.367 434.641 103.538 438.206 Q101.733 441.748 101.733 448.877 Q101.733 455.984 103.538 459.548 Q105.367 463.09 108.978 463.09 Q112.612 463.09 114.418 459.548 Q116.246 455.984 116.246 448.877 Q116.246 441.748 114.418 438.206 Q112.612 434.641 108.978 434.641 M108.978 430.937 Q114.788 430.937 117.844 435.544 Q120.922 440.127 120.922 448.877 Q120.922 457.604 117.844 462.21 Q114.788 466.794 108.978 466.794 Q103.168 466.794 100.089 462.21 Q97.0335 457.604 97.0335 448.877 Q97.0335 440.127 100.089 435.544 Q103.168 430.937 108.978 430.937 Z\" fill=\"#000000\" fill-rule=\"evenodd\" fill-opacity=\"1\" /><path clip-path=\"url(#clip840)\" d=\"M157.311 440.66 L146.732 451.284 L157.311 461.863 L154.556 464.664 L143.931 454.039 L133.306 464.664 L130.575 461.863 L141.131 451.284 L130.575 440.66 L133.306 437.859 L143.931 448.484 L154.556 437.859 L157.311 440.66 Z\" fill=\"#000000\" fill-rule=\"evenodd\" fill-opacity=\"1\" /><path clip-path=\"url(#clip840)\" d=\"M169.672 462.187 L177.311 462.187 L177.311 435.822 L169.001 437.488 L169.001 433.229 L177.265 431.562 L181.94 431.562 L181.94 462.187 L189.579 462.187 L189.579 466.122 L169.672 466.122 L169.672 462.187 Z\" fill=\"#000000\" fill-rule=\"evenodd\" fill-opacity=\"1\" /><path clip-path=\"url(#clip840)\" d=\"M209.024 434.641 Q205.413 434.641 203.584 438.206 Q201.778 441.748 201.778 448.877 Q201.778 455.984 203.584 459.548 Q205.413 463.09 209.024 463.09 Q212.658 463.09 214.463 459.548 Q216.292 455.984 216.292 448.877 Q216.292 441.748 214.463 438.206 Q212.658 434.641 209.024 434.641 M209.024 430.937 Q214.834 430.937 217.889 435.544 Q220.968 440.127 220.968 448.877 Q220.968 457.604 217.889 462.21 Q214.834 466.794 209.024 466.794 Q203.214 466.794 200.135 462.21 Q197.079 457.604 197.079 448.877 Q197.079 440.127 200.135 435.544 Q203.214 430.937 209.024 430.937 Z\" fill=\"#000000\" fill-rule=\"evenodd\" fill-opacity=\"1\" /><path clip-path=\"url(#clip840)\" d=\"M220.968 425.039 L245.08 425.039 L245.08 428.236 L220.968 428.236 L220.968 425.039 Z\" fill=\"#000000\" fill-rule=\"evenodd\" fill-opacity=\"1\" /><path clip-path=\"url(#clip840)\" d=\"M253.317 410.632 L268.232 410.632 L268.232 413.829 L256.797 413.829 L256.797 420.713 Q257.624 420.431 258.452 420.299 Q259.279 420.149 260.107 420.149 Q264.809 420.149 267.555 422.725 Q270.301 425.302 270.301 429.703 Q270.301 434.236 267.48 436.756 Q264.659 439.257 259.524 439.257 Q257.756 439.257 255.913 438.956 Q254.089 438.656 252.133 438.054 L252.133 434.236 Q253.825 435.157 255.631 435.609 Q257.436 436.06 259.449 436.06 Q262.703 436.06 264.602 434.349 Q266.502 432.637 266.502 429.703 Q266.502 426.769 264.602 425.058 Q262.703 423.346 259.449 423.346 Q257.925 423.346 256.402 423.685 Q254.897 424.023 253.317 424.738 L253.317 410.632 Z\" fill=\"#000000\" fill-rule=\"evenodd\" fill-opacity=\"1\" /><path clip-path=\"url(#clip840)\" d=\"M66.5939 100.783 L54.7884 119.232 L66.5939 119.232 L66.5939 100.783 M65.367 96.7086 L71.2466 96.7086 L71.2466 119.232 L76.1772 119.232 L76.1772 123.121 L71.2466 123.121 L71.2466 131.269 L66.5939 131.269 L66.5939 123.121 L50.9921 123.121 L50.9921 118.607 L65.367 96.7086 Z\" fill=\"#000000\" fill-rule=\"evenodd\" fill-opacity=\"1\" /><path clip-path=\"url(#clip840)\" d=\"M83.9086 125.389 L88.7928 125.389 L88.7928 131.269 L83.9086 131.269 L83.9086 125.389 Z\" fill=\"#000000\" fill-rule=\"evenodd\" fill-opacity=\"1\" /><path clip-path=\"url(#clip840)\" d=\"M108.978 99.7873 Q105.367 99.7873 103.538 103.352 Q101.733 106.894 101.733 114.023 Q101.733 121.13 103.538 124.695 Q105.367 128.236 108.978 128.236 Q112.612 128.236 114.418 124.695 Q116.246 121.13 116.246 114.023 Q116.246 106.894 114.418 103.352 Q112.612 99.7873 108.978 99.7873 M108.978 96.0836 Q114.788 96.0836 117.844 100.69 Q120.922 105.273 120.922 114.023 Q120.922 122.75 117.844 127.357 Q114.788 131.94 108.978 131.94 Q103.168 131.94 100.089 127.357 Q97.0335 122.75 97.0335 114.023 Q97.0335 105.273 100.089 100.69 Q103.168 96.0836 108.978 96.0836 Z\" fill=\"#000000\" fill-rule=\"evenodd\" fill-opacity=\"1\" /><path clip-path=\"url(#clip840)\" d=\"M157.311 105.806 L146.732 116.431 L157.311 127.009 L154.556 129.81 L143.931 119.185 L133.306 129.81 L130.575 127.009 L141.131 116.431 L130.575 105.806 L133.306 103.005 L143.931 113.63 L154.556 103.005 L157.311 105.806 Z\" fill=\"#000000\" fill-rule=\"evenodd\" fill-opacity=\"1\" /><path clip-path=\"url(#clip840)\" d=\"M169.672 127.333 L177.311 127.333 L177.311 100.968 L169.001 102.635 L169.001 98.3753 L177.265 96.7086 L181.94 96.7086 L181.94 127.333 L189.579 127.333 L189.579 131.269 L169.672 131.269 L169.672 127.333 Z\" fill=\"#000000\" fill-rule=\"evenodd\" fill-opacity=\"1\" /><path clip-path=\"url(#clip840)\" d=\"M209.024 99.7873 Q205.413 99.7873 203.584 103.352 Q201.778 106.894 201.778 114.023 Q201.778 121.13 203.584 124.695 Q205.413 128.236 209.024 128.236 Q212.658 128.236 214.463 124.695 Q216.292 121.13 216.292 114.023 Q216.292 106.894 214.463 103.352 Q212.658 99.7873 209.024 99.7873 M209.024 96.0836 Q214.834 96.0836 217.889 100.69 Q220.968 105.273 220.968 114.023 Q220.968 122.75 217.889 127.357 Q214.834 131.94 209.024 131.94 Q203.214 131.94 200.135 127.357 Q197.079 122.75 197.079 114.023 Q197.079 105.273 200.135 100.69 Q203.214 96.0836 209.024 96.0836 Z\" fill=\"#000000\" fill-rule=\"evenodd\" fill-opacity=\"1\" /><path clip-path=\"url(#clip840)\" d=\"M220.968 90.185 L245.08 90.185 L245.08 93.3823 L220.968 93.3823 L220.968 90.185 Z\" fill=\"#000000\" fill-rule=\"evenodd\" fill-opacity=\"1\" /><path clip-path=\"url(#clip840)\" d=\"M253.317 75.7782 L268.232 75.7782 L268.232 78.9755 L256.797 78.9755 L256.797 85.8592 Q257.624 85.5771 258.452 85.4454 Q259.279 85.2949 260.107 85.2949 Q264.809 85.2949 267.555 87.8716 Q270.301 90.4483 270.301 94.8493 Q270.301 99.382 267.48 101.902 Q264.659 104.404 259.524 104.404 Q257.756 104.404 255.913 104.103 Q254.089 103.802 252.133 103.2 L252.133 99.382 Q253.825 100.304 255.631 100.755 Q257.436 101.206 259.449 101.206 Q262.703 101.206 264.602 99.4948 Q266.502 97.7833 266.502 94.8493 Q266.502 91.9153 264.602 90.2038 Q262.703 88.4923 259.449 88.4923 Q257.925 88.4923 256.402 88.8308 Q254.897 89.1693 253.317 89.884 L253.317 75.7782 Z\" fill=\"#000000\" fill-rule=\"evenodd\" fill-opacity=\"1\" /><polyline clip-path=\"url(#clip842)\" style=\"stroke:#e69f00; stroke-linecap:butt; stroke-linejoin:round; stroke-width:4; stroke-opacity:1; fill:none\" points=\"\n",
       "  364.219,87.9837 364.238,87.9763 364.259,88.0887 364.282,88.2489 364.306,88.4004 364.334,88.5852 364.364,88.8045 364.397,89.0377 364.433,89.3174 364.472,89.6357 \n",
       "  364.516,90.0026 364.564,90.4239 364.616,90.9085 364.673,91.4641 364.737,92.1018 364.806,92.8324 364.882,93.6688 364.965,94.6256 365.057,95.719 365.157,96.967 \n",
       "  365.267,98.3899 365.388,100.01 365.521,101.853 365.667,103.946 365.827,106.318 366.003,108.987 366.195,112.02 366.407,115.441 366.639,119.293 366.893,123.619 \n",
       "  367.173,128.467 367.48,133.888 367.817,139.933 368.186,146.656 368.592,154.112 369.037,162.357 369.525,171.448 370.061,181.441 370.65,192.395 371.296,204.368 \n",
       "  372.004,217.417 372.782,231.605 373.636,246.994 374.573,263.645 375.601,281.62 376.73,300.977 377.968,321.761 379.328,344.006 380.82,367.732 382.457,392.945 \n",
       "  384.254,419.643 386.226,447.818 388.39,477.447 390.766,508.485 393.373,540.862 396.234,574.496 399.374,609.293 402.821,645.132 406.603,681.872 410.754,719.364 \n",
       "  415.31,757.434 420.31,795.899 425.798,834.56 431.821,873.211 438.431,911.638 445.685,949.627 453.647,986.961 462.384,1023.43 471.974,1058.83 482.499,1092.96 \n",
       "  494.05,1125.65 506.727,1156.72 520.64,1186.02 535.91,1213.4 552.668,1238.99 571.061,1263.74 591.246,1287.89 613.4,1310.37 637.714,1330.45 664.398,1348 \n",
       "  693.684,1363.13 725.825,1376.1 761.1,1387.15 799.814,1396.52 842.303,1404.41 888.934,1411.03 940.112,1416.55 996.28,1421.12 1057.92,1424.82 1125.58,1427.69 \n",
       "  1199.83,1429.01 1281.32,1431.11 1370.75,1434.55 1468.91,1437.62 1576.63,1440.09 1694.86,1441.98 1824.61,1443.4 1967.02,1444.43 2123.31,1445.18 2294.84,1445.72 \n",
       "  \n",
       "  \"/>\n",
       "<path clip-path=\"url(#clip840)\" d=\"\n",
       "M2004.73 198.898 L2284.54 198.898 L2284.54 95.2176 L2004.73 95.2176  Z\n",
       "  \" fill=\"#ffffff\" fill-rule=\"evenodd\" fill-opacity=\"1\"/>\n",
       "<polyline clip-path=\"url(#clip840)\" style=\"stroke:#000000; stroke-linecap:butt; stroke-linejoin:round; stroke-width:4; stroke-opacity:1; fill:none\" points=\"\n",
       "  2004.73,198.898 2284.54,198.898 2284.54,95.2176 2004.73,95.2176 2004.73,198.898 \n",
       "  \"/>\n",
       "<polyline clip-path=\"url(#clip840)\" style=\"stroke:#e69f00; stroke-linecap:butt; stroke-linejoin:round; stroke-width:4; stroke-opacity:1; fill:none\" points=\"\n",
       "  2027.46,147.058 2163.9,147.058 \n",
       "  \"/>\n",
       "<path clip-path=\"url(#clip840)\" d=\"M2200.48 166.745 Q2198.67 171.375 2196.96 172.787 Q2195.24 174.199 2192.37 174.199 L2188.97 174.199 L2188.97 170.634 L2191.47 170.634 Q2193.23 170.634 2194.2 169.8 Q2195.18 168.967 2196.36 165.865 L2197.12 163.921 L2186.63 138.412 L2191.15 138.412 L2199.25 158.689 L2207.35 138.412 L2211.87 138.412 L2200.48 166.745 Z\" fill=\"#000000\" fill-rule=\"evenodd\" fill-opacity=\"1\" /><path clip-path=\"url(#clip840)\" d=\"M2219.16 160.402 L2226.8 160.402 L2226.8 134.037 L2218.49 135.703 L2218.49 131.444 L2226.75 129.778 L2231.43 129.778 L2231.43 160.402 L2239.06 160.402 L2239.06 164.338 L2219.16 164.338 L2219.16 160.402 Z\" fill=\"#000000\" fill-rule=\"evenodd\" fill-opacity=\"1\" /></svg>\n"
      ]
     },
     "execution_count": 42,
     "metadata": {},
     "output_type": "execute_result"
    }
   ],
   "source": [
    "plot(ss, calc_xis)"
   ]
  },
  {
   "cell_type": "code",
   "execution_count": null,
   "id": "37c1e5fd-b6b2-4d96-b138-ef0459fff95e",
   "metadata": {},
   "outputs": [],
   "source": []
  }
 ],
 "metadata": {
  "kernelspec": {
   "display_name": "Julia 1.7.3",
   "language": "julia",
   "name": "julia-1.7"
  },
  "language_info": {
   "file_extension": ".jl",
   "mimetype": "application/julia",
   "name": "julia",
   "version": "1.7.3"
  }
 },
 "nbformat": 4,
 "nbformat_minor": 5
}
